{
 "cells": [
  {
   "cell_type": "code",
   "execution_count": null,
   "id": "ff5954c3",
   "metadata": {},
   "outputs": [
    {
     "name": "stdout",
     "output_type": "stream",
     "text": [
      "Loading embedding model: sentence-transformers/all-MiniLM-L6-v2...\n",
      "Embedding model loaded.\n",
      "Loading BERTopic model from: model_safetensors...\n",
      "BERTopic model loaded successfully.\n",
      "Loading data and embeddings...\n",
      "Data and embeddings loaded.\n",
      "\n",
      "Original number of outliers: 163812\n",
      "Reducing outliers using the 'embeddings' strategy...\n"
     ]
    },
    {
     "name": "stderr",
     "output_type": "stream",
     "text": [
      "2025-07-18 14:33:22,517 - BERTopic - WARNING: Using a custom list of topic assignments may lead to errors if topic reduction techniques are used afterwards. Make sure that manually assigning topics is the last step in the pipeline.Note that topic embeddings will also be created through weightedc-TF-IDF embeddings instead of centroid embeddings.\n"
     ]
    },
    {
     "name": "stdout",
     "output_type": "stream",
     "text": [
      "Outliers after reduction: 0\n",
      "Reassigned: 163812 documents\n",
      "Updating topic representations...\n",
      "Topic representations updated.\n",
      "Saved to 'FINAL_REDUCED_DATA.csv'.\n",
      "Updated model saved to 'MODEL_REDUCED_OUTLIERS/'.\n"
     ]
    }
   ],
   "source": [
    "import pandas as pd\n",
    "import numpy as np\n",
    "from bertopic import BERTopic\n",
    "from sentence_transformers import SentenceTransformer\n",
    "\n",
    "import pandas as pd\n",
    "import numpy as np\n",
    "from bertopic import BERTopic\n",
    "from sentence_transformers import SentenceTransformer\n",
    "\n",
    "# --- Step 1: Define paths and model names ---\n",
    "MODEL_PATH = \"model_safetensors\"  # Folder where your BERTopic model was saved\n",
    "EMBEDDING_MODEL_ID = \"sentence-transformers/all-MiniLM-L6-v2\"  # Must match training\n",
    "EMBEDDINGS_PATH = \"embeddings.npy\"\n",
    "CSV_PATH = \"data_with_topics.csv\"  # Your original file with 'clean_text' and 'topic' columns\n",
    "\n",
    "# --- Step 2: Load embedding model ---\n",
    "print(f\"Loading embedding model: {EMBEDDING_MODEL_ID}...\")\n",
    "embedding_model = SentenceTransformer(EMBEDDING_MODEL_ID)\n",
    "print(\"Embedding model loaded.\")\n",
    "\n",
    "\n",
    "# --- Step 3: Load BERTopic model using the embedding model ---\n",
    "print(f\"Loading BERTopic model from: {MODEL_PATH}...\")\n",
    "topic_model = BERTopic.load(MODEL_PATH, embedding_model=embedding_model)\n",
    "print(\"BERTopic model loaded successfully.\")\n",
    "\n",
    "# --- Step 4: Load your data and precomputed embeddings ---\n",
    "print(\"Loading data and embeddings...\")\n",
    "df = pd.read_csv(CSV_PATH)\n",
    "texts = df[\"clean_text\"].astype(str).tolist()\n",
    "topics = df[\"topic\"].tolist()\n",
    "embeddings = np.load(EMBEDDINGS_PATH)\n",
    "print(\"Data and embeddings loaded.\")\n",
    "\n",
    "# --- Step 5: Reduce outliers using embedding similarity ---\n",
    "original_outlier_count = topics.count(-1)\n",
    "print(f\"\\nOriginal number of outliers: {original_outlier_count}\")\n",
    "\n",
    "if original_outlier_count > 0:\n",
    "    print(\"Reducing outliers using the 'embeddings' strategy...\")\n",
    "\n",
    "    new_topics = topic_model.reduce_outliers(\n",
    "        documents=texts,\n",
    "        embeddings=embeddings,\n",
    "        topics=topics,\n",
    "        strategy=\"embeddings\",  # <-- make sure it's plural\n",
    "        threshold=0.1          # try 0.05 for more aggressive reassignment\n",
    "    )\n",
    "    new_outlier_count = new_topics.count(-1)\n",
    "    print(f\"Outliers after reduction: {new_outlier_count}\")\n",
    "    print(f\"Reassigned: {original_outlier_count - new_outlier_count} documents\")\n",
    "\n",
    "    # --- Step 6: Update topic representations ---\n",
    "    print(\"Updating topic representations...\")\n",
    "    topic_model.update_topics(docs=texts, topics=new_topics)\n",
    "    print(\"Topic representations updated.\")\n",
    "\n",
    "    # --- Step 7: Save new topics to CSV ---\n",
    "    df[\"topic_reduced_embedding\"] = new_topics\n",
    "    df.to_csv(\"FINAL_REDUCED_DATA.csv\", index=False)\n",
    "    print(\"Saved to 'FINAL_REDUCED_DATA.csv'.\")\n",
    "\n",
    "    # --- Step 8: Save updated model ---\n",
    "    topic_model.save(\n",
    "        \"MODEL_REDUCED_OUTLIERS\",\n",
    "        serialization=\"safetensors\",\n",
    "        save_embedding_model=EMBEDDING_MODEL_ID\n",
    "    )\n",
    "    print(\"Updated model saved to 'MODEL_REDUCED_OUTLIERS/'.\")\n",
    "\n",
    "else:\n",
    "    print(\"No outliers found. Nothing to reduce.\")\n"
   ]
  },
  {
   "cell_type": "code",
   "execution_count": 2,
   "id": "c68cc8a6",
   "metadata": {},
   "outputs": [
    {
     "data": {
      "text/plain": [
       "163"
      ]
     },
     "execution_count": 2,
     "metadata": {},
     "output_type": "execute_result"
    }
   ],
   "source": [
    "len(topic_model.get_topics())"
   ]
  },
  {
   "cell_type": "code",
   "execution_count": 3,
   "id": "444cce99",
   "metadata": {},
   "outputs": [
    {
     "data": {
      "application/vnd.plotly.v1+json": {
       "config": {
        "plotlyServerURL": "https://plot.ly"
       },
       "data": [
        {
         "marker": {
          "color": "#D55E00"
         },
         "orientation": "h",
         "type": "bar",
         "x": [
          0.005576850645133898,
          0.0056178614489504775,
          0.005683939397240474,
          0.005779699955697952,
          0.00595963095748692,
          0.006186608481136853,
          0.006367991548611841,
          0.008601049260231423,
          0.011481935370937953,
          0.012403534568732702
         ],
         "xaxis": "x",
         "y": [
          "they  ",
          "to  ",
          "office  ",
          "the  ",
          "and  ",
          "my  ",
          "tooth  ",
          "teeth  ",
          "dental  ",
          "dentist  "
         ],
         "yaxis": "y"
        },
        {
         "marker": {
          "color": "#0072B2"
         },
         "orientation": "h",
         "type": "bar",
         "x": [
          0.006955950622124791,
          0.007197013362245898,
          0.00756329609474789,
          0.007954906442822828,
          0.008731858213153252,
          0.00896930042469126,
          0.008986755471815456,
          0.01132522471606797,
          0.019436721570624732,
          0.0257008687895274
         ],
         "xaxis": "x2",
         "y": [
          "refill  ",
          "filled  ",
          "they  ",
          "it  ",
          "ready  ",
          "medication  ",
          "pharmacist  ",
          "prescriptions  ",
          "prescription  ",
          "pharmacy  "
         ],
         "yaxis": "y2"
        },
        {
         "marker": {
          "color": "#CC79A7"
         },
         "orientation": "h",
         "type": "bar",
         "x": [
          0.006047036734397662,
          0.006140865454258789,
          0.0063439881387253585,
          0.0064994598168091125,
          0.0070227080361235684,
          0.008090018914450022,
          0.008856856060716156,
          0.011488222851302774,
          0.013445660365972195,
          0.014619395049447637
         ],
         "xaxis": "x3",
         "y": [
          "to  ",
          "for  ",
          "that  ",
          "not  ",
          "paid  ",
          "they  ",
          "pay  ",
          "billing  ",
          "bill  ",
          "insurance  "
         ],
         "yaxis": "y3"
        },
        {
         "marker": {
          "color": "#E69F00"
         },
         "orientation": "h",
         "type": "bar",
         "x": [
          0.006065461028573181,
          0.006376290335015711,
          0.006573004421879049,
          0.007079510511664474,
          0.007807313285589216,
          0.010696173073062728,
          0.011894007342420474,
          0.015011589075341815,
          0.02635146057539646,
          0.043852844599515405
         ],
         "xaxis": "x4",
         "y": [
          "they  ",
          "get  ",
          "in  ",
          "for  ",
          "rapid  ",
          "tested  ",
          "results  ",
          "testing  ",
          "test  ",
          "covid  "
         ],
         "yaxis": "y4"
        },
        {
         "marker": {
          "color": "#56B4E9"
         },
         "orientation": "h",
         "type": "bar",
         "x": [
          0.010678353455147975,
          0.011682306411559163,
          0.012236672906791054,
          0.012367800258053665,
          0.014726816213560836,
          0.01706946500408808,
          0.017137251468293434,
          0.021428639188875317,
          0.03534984976893876,
          0.05015888399702008
         ],
         "xaxis": "x5",
         "y": [
          "efficient  ",
          "always  ",
          "nice  ",
          "knowledgeable  ",
          "great  ",
          "professional  ",
          "helpful  ",
          "very  ",
          "friendly  ",
          "staff  "
         ],
         "yaxis": "y5"
        },
        {
         "marker": {
          "color": "#009E73"
         },
         "orientation": "h",
         "type": "bar",
         "x": [
          0.009100909871258764,
          0.009394319104444148,
          0.009908302342509986,
          0.010203881693622813,
          0.010514979999325099,
          0.011389916934001659,
          0.011668603102384515,
          0.016330250828558893,
          0.019110112684477043,
          0.02782892876219555
         ],
         "xaxis": "x6",
         "y": [
          "best  ",
          "recommend  ",
          "is  ",
          "very  ",
          "great  ",
          "him  ",
          "staff  ",
          "he  ",
          "his  ",
          "dr  "
         ],
         "yaxis": "y6"
        },
        {
         "marker": {
          "color": "#F0E442"
         },
         "orientation": "h",
         "type": "bar",
         "x": [
          0.006551879578243797,
          0.006752425901066147,
          0.0068185882207379474,
          0.006860375621703649,
          0.007696571898625193,
          0.009849774399151585,
          0.010685433697466547,
          0.013110432011168599,
          0.017209863956568084,
          0.0767566284327774
         ],
         "xaxis": "x7",
         "y": [
          "therapists  ",
          "she  ",
          "tissue  ",
          "was  ",
          "elements  ",
          "spa  ",
          "relaxing  ",
          "therapist  ",
          "massages  ",
          "massage  "
         ],
         "yaxis": "y7"
        },
        {
         "marker": {
          "color": "#D55E00"
         },
         "orientation": "h",
         "type": "bar",
         "x": [
          0.006612748515575005,
          0.0069943507302763245,
          0.007016599542475437,
          0.007052810836120769,
          0.007073425944026348,
          0.008571733748390443,
          0.011282885548290076,
          0.01620914617727926,
          0.016859279093509212,
          0.020194526547448317
         ],
         "xaxis": "x8",
         "y": [
          "not  ",
          "the  ",
          "unprofessional  ",
          "her  ",
          "lady  ",
          "she  ",
          "receptionist  ",
          "front  ",
          "desk  ",
          "rude  "
         ],
         "yaxis": "y8"
        },
        {
         "marker": {
          "color": "#0072B2"
         },
         "orientation": "h",
         "type": "bar",
         "x": [
          0.008849917505193384,
          0.009027000761420828,
          0.009160737595342625,
          0.009263145137354623,
          0.009449794160340747,
          0.009573491658672587,
          0.009800518215513324,
          0.01118741668067641,
          0.01226188587833228,
          0.05762800211853712
         ],
         "xaxis": "x9",
         "y": [
          "friendly  ",
          "service  ",
          "store  ",
          "always  ",
          "are  ",
          "pharmacies  ",
          "helpful  ",
          "prescriptions  ",
          "pharmacist  ",
          "pharmacy  "
         ],
         "yaxis": "y9"
        },
        {
         "marker": {
          "color": "#CC79A7"
         },
         "orientation": "h",
         "type": "bar",
         "x": [
          0.008071319825050785,
          0.008376492380607918,
          0.008661934498541373,
          0.01089939692936384,
          0.011265748902595381,
          0.011753130658327931,
          0.013488625650714361,
          0.013845523306301432,
          0.0206885696752519,
          0.02207333233688401
         ],
         "xaxis": "x10",
         "y": [
          "selection  ",
          "products  ",
          "prices  ",
          "cannabis  ",
          "dispensaries  ",
          "product  ",
          "weed  ",
          "bud  ",
          "flower  ",
          "dispensary  "
         ],
         "yaxis": "y10"
        },
        {
         "marker": {
          "color": "#E69F00"
         },
         "orientation": "h",
         "type": "bar",
         "x": [
          0.016596321071350527,
          0.017584563360993836,
          0.02135024715013877,
          0.021471373702271524,
          0.02158313461401006,
          0.02456389583157276,
          0.02553365222615515,
          0.03130684247746693,
          0.03736381705377028,
          0.06847691402477456
         ],
         "xaxis": "x11",
         "y": [
          "deals  ",
          "priced  ",
          "expensive  ",
          "items  ",
          "high  ",
          "good  ",
          "shop  ",
          "selection  ",
          "store  ",
          "prices  "
         ],
         "yaxis": "y11"
        },
        {
         "marker": {
          "color": "#56B4E9"
         },
         "orientation": "h",
         "type": "bar",
         "x": [
          0.007069344043279983,
          0.007154754324800019,
          0.0073117620483280875,
          0.008769257118346115,
          0.009677256989378201,
          0.009838364770122433,
          0.011191693860839676,
          0.015391406027094308,
          0.027934048797742344,
          0.03806166278562209
         ],
         "xaxis": "x12",
         "y": [
          "and  ",
          "adjustment  ",
          "been  ",
          "adjustments  ",
          "pain  ",
          "neck  ",
          "dr  ",
          "chiropractors  ",
          "chiropractor  ",
          "chiropractic  "
         ],
         "yaxis": "y12"
        },
        {
         "marker": {
          "color": "#009E73"
         },
         "orientation": "h",
         "type": "bar",
         "x": [
          0.006558276436291654,
          0.006693011078350417,
          0.007690725058341555,
          0.009176432115571401,
          0.009471171130138348,
          0.009749799860476478,
          0.009963714376330108,
          0.016599307516170593,
          0.02469692581593916,
          0.03356610897698022
         ],
         "xaxis": "x13",
         "y": [
          "not  ",
          "one  ",
          "because  ",
          "if  ",
          "would  ",
          "could  ",
          "zero  ",
          "give  ",
          "star  ",
          "stars  "
         ],
         "yaxis": "y13"
        },
        {
         "marker": {
          "color": "#F0E442"
         },
         "orientation": "h",
         "type": "bar",
         "x": [
          0.007588298421121515,
          0.00812046004177735,
          0.008729494823880657,
          0.008999961131721667,
          0.009025510873069482,
          0.011358186254736787,
          0.011399515263138305,
          0.015429239175105204,
          0.015676596195997223,
          0.02758932228644166
         ],
         "xaxis": "x14",
         "y": [
          "not  ",
          "place  ",
          "horrible  ",
          "staff  ",
          "people  ",
          "unprofessional  ",
          "employees  ",
          "service  ",
          "customer  ",
          "rude  "
         ],
         "yaxis": "y14"
        },
        {
         "marker": {
          "color": "#D55E00"
         },
         "orientation": "h",
         "type": "bar",
         "x": [
          0.006582720151247691,
          0.007184494580634604,
          0.007470451169206097,
          0.008344650026947148,
          0.009440401905373158,
          0.009556210791256367,
          0.01154109842056099,
          0.013560242115024428,
          0.02965582351733516,
          0.04205470958463296
         ],
         "xaxis": "x15",
         "y": [
          "surgery  ",
          "frames  ",
          "lasik  ",
          "exam  ",
          "contacts  ",
          "lenses  ",
          "eyes  ",
          "vision  ",
          "glasses  ",
          "eye  "
         ],
         "yaxis": "y15"
        },
        {
         "marker": {
          "color": "#0072B2"
         },
         "orientation": "h",
         "type": "bar",
         "x": [
          0.007886426630657585,
          0.009255825869703187,
          0.009429502848826557,
          0.010359824929953979,
          0.010595349855797376,
          0.011198269638921107,
          0.011383252390187754,
          0.015498700971541846,
          0.020017178908415638,
          0.036064854589504175
         ],
         "xaxis": "x16",
         "y": [
          "pain  ",
          "he  ",
          "surgery  ",
          "shoes  ",
          "toe  ",
          "podiatrist  ",
          "dr  ",
          "ankle  ",
          "feet  ",
          "foot  "
         ],
         "yaxis": "y16"
        },
        {
         "marker": {
          "color": "#CC79A7"
         },
         "orientation": "h",
         "type": "bar",
         "x": [
          0.00995066337880664,
          0.010160605317839288,
          0.01090267527045176,
          0.011251699617348428,
          0.011706016740998994,
          0.0122028377697849,
          0.021630087795546347,
          0.023588478308047663,
          0.04243088555093734,
          0.13207386024037726
         ],
         "xaxis": "x17",
         "y": [
          "food  ",
          "hyvee  ",
          "shop  ",
          "selection  ",
          "produce  ",
          "prices  ",
          "store  ",
          "cubs  ",
          "foods  ",
          "cub  "
         ],
         "yaxis": "y17"
        },
        {
         "marker": {
          "color": "#E69F00"
         },
         "orientation": "h",
         "type": "bar",
         "x": [
          0.006834195972445433,
          0.006851393373309609,
          0.006892412352847702,
          0.006949513299546055,
          0.008088242596670004,
          0.00820912088573617,
          0.009031515745292484,
          0.010731284671367566,
          0.014128771381194935,
          0.01954317557752512
         ],
         "xaxis": "x18",
         "y": [
          "shopping  ",
          "employees  ",
          "items  ",
          "shop  ",
          "customers  ",
          "checkout  ",
          "cashiers  ",
          "customer  ",
          "cashier  ",
          "store  "
         ],
         "yaxis": "y18"
        },
        {
         "marker": {
          "color": "#56B4E9"
         },
         "orientation": "h",
         "type": "bar",
         "x": [
          0.010544503629682659,
          0.011170379623038618,
          0.011498990228254872,
          0.012195254786726248,
          0.013515878589459277,
          0.014395660547888376,
          0.015443009855069006,
          0.016111135316125787,
          0.01762571081753122,
          0.04639285100399295
         ],
         "xaxis": "x19",
         "y": [
          "always  ",
          "nice  ",
          "everyone  ",
          "love  ",
          "great  ",
          "very  ",
          "clean  ",
          "staff  ",
          "friendly  ",
          "office  "
         ],
         "yaxis": "y19"
        },
        {
         "marker": {
          "color": "#009E73"
         },
         "orientation": "h",
         "type": "bar",
         "x": [
          0.007527084834636468,
          0.007559822730519024,
          0.007583657651534584,
          0.00760082108645635,
          0.00976338883882073,
          0.0098096611327921,
          0.012006546657460345,
          0.021505725407483772,
          0.03310926409897221,
          0.033496416699753014
         ],
         "xaxis": "x20",
         "y": [
          "recovery  ",
          "rehab  ",
          "recommend  ",
          "injury  ",
          "exercises  ",
          "therapists  ",
          "therapist  ",
          "pt  ",
          "physical  ",
          "therapy  "
         ],
         "yaxis": "y20"
        },
        {
         "marker": {
          "color": "#F0E442"
         },
         "orientation": "h",
         "type": "bar",
         "x": [
          0.014189407166922218,
          0.014680237138475907,
          0.01673425946233877,
          0.02275464676241696,
          0.026176153450994562,
          0.026209662950499382,
          0.0298871115020904,
          0.0347078453921739,
          0.0375141656184695,
          0.03928032583889306
         ],
         "xaxis": "x21",
         "y": [
          "great  ",
          "knowledgeable  ",
          "everyone  ",
          "nice  ",
          "always  ",
          "people  ",
          "helpful  ",
          "very  ",
          "friendly  ",
          "professional  "
         ],
         "yaxis": "y21"
        },
        {
         "marker": {
          "color": "#D55E00"
         },
         "orientation": "h",
         "type": "bar",
         "x": [
          0.009999079936601759,
          0.01057027430245179,
          0.011072287682178338,
          0.011227019110488937,
          0.011762527930257876,
          0.0126070888079424,
          0.013739936356809633,
          0.016296434082606937,
          0.03031225510034979,
          0.05123430850395177
         ],
         "xaxis": "x22",
         "y": [
          "waiting  ",
          "pee  ",
          "wait  ",
          "hours  ",
          "screening  ",
          "hour  ",
          "urine  ",
          "screen  ",
          "test  ",
          "drug  "
         ],
         "yaxis": "y22"
        },
        {
         "marker": {
          "color": "#0072B2"
         },
         "orientation": "h",
         "type": "bar",
         "x": [
          0.008781667944403172,
          0.009323269805428972,
          0.009746419584372706,
          0.010142315386104266,
          0.010573050697189779,
          0.012608161254590798,
          0.014704646667169205,
          0.014754212450034814,
          0.016122518884409,
          0.018950364222572638
         ],
         "xaxis": "x23",
         "y": [
          "and  ",
          "best  ",
          "is  ",
          "love  ",
          "very  ",
          "awesome  ",
          "great  ",
          "her  ",
          "amazing  ",
          "she  "
         ],
         "yaxis": "y23"
        },
        {
         "marker": {
          "color": "#CC79A7"
         },
         "orientation": "h",
         "type": "bar",
         "x": [
          0.00627861656184588,
          0.0062935463233774955,
          0.006608729196790923,
          0.006624307849724387,
          0.0067341528900007,
          0.006830442053079436,
          0.007643531918204669,
          0.010030283627660272,
          0.010585398139827661,
          0.013403183913168464
         ],
         "xaxis": "x24",
         "y": [
          "that  ",
          "not  ",
          "birth  ",
          "me  ",
          "was  ",
          "my  ",
          "she  ",
          "pregnant  ",
          "pregnancy  ",
          "baby  "
         ],
         "yaxis": "y24"
        },
        {
         "marker": {
          "color": "#E69F00"
         },
         "orientation": "h",
         "type": "bar",
         "x": [
          0.00587682619093052,
          0.006059175749485414,
          0.00611646501890644,
          0.006165832952494896,
          0.0061980577991686036,
          0.007947248631233013,
          0.008209702338066402,
          0.00854387955779643,
          0.02421765735005944,
          0.04144278641041799
         ],
         "xaxis": "x25",
         "y": [
          "to  ",
          "wait  ",
          "for  ",
          "in  ",
          "the  ",
          "was  ",
          "an  ",
          "tech  ",
          "xrays  ",
          "xray  "
         ],
         "yaxis": "y25"
        },
        {
         "marker": {
          "color": "#56B4E9"
         },
         "orientation": "h",
         "type": "bar",
         "x": [
          0.009119148209009942,
          0.010171248599984568,
          0.010406280180562852,
          0.010436130792379678,
          0.011158411921739145,
          0.012874330023270361,
          0.01844676309360345,
          0.021651792340795218,
          0.024109046150272238,
          0.03931760902794103
         ],
         "xaxis": "x26",
         "y": [
          "up  ",
          "phones  ",
          "on  ",
          "number  ",
          "called  ",
          "calls  ",
          "hold  ",
          "call  ",
          "answer  ",
          "phone  "
         ],
         "yaxis": "y26"
        },
        {
         "marker": {
          "color": "#009E73"
         },
         "orientation": "h",
         "type": "bar",
         "x": [
          0.011003490864177668,
          0.011149755379971113,
          0.011184123725284592,
          0.011433178567626469,
          0.01377380723183283,
          0.016374102289762164,
          0.01828298512230869,
          0.0187558826115256,
          0.02841110258204771,
          0.040506969365696505
         ],
         "xaxis": "x27",
         "y": [
          "awesome  ",
          "everyone  ",
          "kids  ",
          "friendly  ",
          "people  ",
          "here  ",
          "nice  ",
          "great  ",
          "love  ",
          "place  "
         ],
         "yaxis": "y27"
        },
        {
         "marker": {
          "color": "#F0E442"
         },
         "orientation": "h",
         "type": "bar",
         "x": [
          0.014687776222507172,
          0.015618021118067257,
          0.016003942390677157,
          0.01663360606309395,
          0.017147417859311218,
          0.01782139021099844,
          0.0182294505456619,
          0.02992848886637582,
          0.06469380375182965,
          0.08108154655126983
         ],
         "xaxis": "x28",
         "y": [
          "items  ",
          "shop  ",
          "prices  ",
          "food  ",
          "selection  ",
          "shopping  ",
          "stores  ",
          "groceries  ",
          "store  ",
          "grocery  "
         ],
         "yaxis": "y28"
        },
        {
         "marker": {
          "color": "#D55E00"
         },
         "orientation": "h",
         "type": "bar",
         "x": [
          0.006025829777042861,
          0.006040143687636172,
          0.006091687980236004,
          0.006216611184624414,
          0.006341000176477063,
          0.006895591149753187,
          0.0072674187933984835,
          0.007400321017858642,
          0.010264431217007198,
          0.011684920635900008
         ],
         "xaxis": "x29",
         "y": [
          "to  ",
          "not  ",
          "that  ",
          "was  ",
          "doctor  ",
          "my  ",
          "me  ",
          "surgery  ",
          "he  ",
          "pain  "
         ],
         "yaxis": "y29"
        },
        {
         "marker": {
          "color": "#0072B2"
         },
         "orientation": "h",
         "type": "bar",
         "x": [
          0.008145446974697892,
          0.008744827231759119,
          0.009149487282761612,
          0.011502954289905833,
          0.011996534041607148,
          0.014537641728822649,
          0.014933884519974863,
          0.015246456898569011,
          0.02303352635786333,
          0.04960396784003433
         ],
         "xaxis": "x30",
         "y": [
          "gyms  ",
          "training  ",
          "trainer  ",
          "equipment  ",
          "trainers  ",
          "membership  ",
          "workout  ",
          "classes  ",
          "fitness  ",
          "gym  "
         ],
         "yaxis": "y30"
        },
        {
         "marker": {
          "color": "#CC79A7"
         },
         "orientation": "h",
         "type": "bar",
         "x": [
          0.006717076700473109,
          0.007156417189389386,
          0.0074687218794983155,
          0.008203999478385841,
          0.009452161571030073,
          0.01088604179757831,
          0.01439942152360926,
          0.017615670133597373,
          0.0178719868097882,
          0.027132536058737403
         ],
         "xaxis": "x31",
         "y": [
          "you  ",
          "is  ",
          "with  ",
          "betterhelp  ",
          "help  ",
          "counseling  ",
          "counselor  ",
          "therapy  ",
          "therapists  ",
          "therapist  "
         ],
         "yaxis": "y31"
        },
        {
         "marker": {
          "color": "#E69F00"
         },
         "orientation": "h",
         "type": "bar",
         "x": [
          0.007140477266843576,
          0.0074039614162970694,
          0.008414203766997554,
          0.008567076058714528,
          0.00866390694301109,
          0.010939138443191006,
          0.026302529669303885,
          0.030551329114517623,
          0.038678771740556075,
          0.06760288834544283
         ],
         "xaxis": "x32",
         "y": [
          "pandemic  ",
          "customers  ",
          "face  ",
          "not  ",
          "employees  ",
          "covid  ",
          "wear  ",
          "wearing  ",
          "masks  ",
          "mask  "
         ],
         "yaxis": "y32"
        },
        {
         "marker": {
          "color": "#56B4E9"
         },
         "orientation": "h",
         "type": "bar",
         "x": [
          0.010688336047301253,
          0.01134182479021299,
          0.011845757477224581,
          0.012005473602971595,
          0.012410267466125589,
          0.01243990982213048,
          0.01617707583468351,
          0.017975680193371313,
          0.018640583019967398,
          0.034145909187563536
         ],
         "xaxis": "x33",
         "y": [
          "there  ",
          "not  ",
          "horrible  ",
          "ever  ",
          "do  ",
          "this  ",
          "worst  ",
          "here  ",
          "go  ",
          "place  "
         ],
         "yaxis": "y33"
        },
        {
         "marker": {
          "color": "#009E73"
         },
         "orientation": "h",
         "type": "bar",
         "x": [
          0.009683251476030705,
          0.010863442772551751,
          0.011202746218427297,
          0.012258016769390062,
          0.01292033391644984,
          0.01794086677523886,
          0.027635130514849105,
          0.027808907823806676,
          0.030810547136997022,
          0.03924233863503467
         ],
         "xaxis": "x34",
         "y": [
          "stickers  ",
          "prescription  ",
          "text  ",
          "package  ",
          "goodies  ",
          "pills  ",
          "control  ",
          "birth  ",
          "club  ",
          "pill  "
         ],
         "yaxis": "y34"
        },
        {
         "marker": {
          "color": "#F0E442"
         },
         "orientation": "h",
         "type": "bar",
         "x": [
          0.011471565798776572,
          0.012180971301316904,
          0.013203349982501939,
          0.01504693049599495,
          0.015619746615562482,
          0.02049068911580574,
          0.021321724774717932,
          0.026777780938557844,
          0.02766798913385091,
          0.04723182063809087
         ],
         "xaxis": "x35",
         "y": [
          "room  ",
          "minutes  ",
          "seen  ",
          "waited  ",
          "time  ",
          "hours  ",
          "hour  ",
          "long  ",
          "waiting  ",
          "wait  "
         ],
         "yaxis": "y35"
        },
        {
         "marker": {
          "color": "#D55E00"
         },
         "orientation": "h",
         "type": "bar",
         "x": [
          0.01481204840991049,
          0.01854771953504637,
          0.019944638404743018,
          0.020223371745046046,
          0.020687950580589216,
          0.026524203636495533,
          0.028236668981615403,
          0.03722415327991935,
          0.04167866862932494,
          0.12584273088879505
         ],
         "xaxis": "x36",
         "y": [
          "beef  ",
          "good  ",
          "prices  ",
          "store  ",
          "department  ",
          "fresh  ",
          "selection  ",
          "produce  ",
          "meats  ",
          "meat  "
         ],
         "yaxis": "y36"
        },
        {
         "marker": {
          "color": "#0072B2"
         },
         "orientation": "h",
         "type": "bar",
         "x": [
          0.00759056921416584,
          0.008140177217996071,
          0.008767830172224055,
          0.009084390823400077,
          0.00919454731870991,
          0.010016500816322337,
          0.011810602231510056,
          0.011964366390249259,
          0.012390909423851291,
          0.017242265522875597
         ],
         "xaxis": "x37",
         "y": [
          "were  ",
          "professional  ",
          "wait  ",
          "appointments  ",
          "time  ",
          "was  ",
          "staff  ",
          "very  ",
          "friendly  ",
          "appointment  "
         ],
         "yaxis": "y37"
        },
        {
         "marker": {
          "color": "#CC79A7"
         },
         "orientation": "h",
         "type": "bar",
         "x": [
          0.008473989069841254,
          0.00862214846274668,
          0.010301299620030815,
          0.01177323197118886,
          0.012313090868514601,
          0.012511067821126882,
          0.012795763983512065,
          0.01486525036838154,
          0.0255094770480296,
          0.036957339369814456
         ],
         "xaxis": "x38",
         "y": [
          "our  ",
          "we  ",
          "animal  ",
          "animals  ",
          "pet  ",
          "pets  ",
          "cat  ",
          "dogs  ",
          "vet  ",
          "dog  "
         ],
         "yaxis": "y38"
        },
        {
         "marker": {
          "color": "#E69F00"
         },
         "orientation": "h",
         "type": "bar",
         "x": [
          0.00783101010311477,
          0.008446253966490704,
          0.008504290236021648,
          0.009869433638356377,
          0.013224573587573164,
          0.01683080198177481,
          0.021261158136668002,
          0.02755528567631303,
          0.02773032849406743,
          0.03522348506635335
         ],
         "xaxis": "x39",
         "y": [
          "you  ",
          "center  ",
          "biomat  ",
          "donated  ",
          "donor  ",
          "donors  ",
          "donation  ",
          "plasma  ",
          "donating  ",
          "donate  "
         ],
         "yaxis": "y39"
        },
        {
         "marker": {
          "color": "#56B4E9"
         },
         "orientation": "h",
         "type": "bar",
         "x": [
          0.005759074472087075,
          0.006158215497353565,
          0.006488721818055971,
          0.007032807468937877,
          0.007777845245200311,
          0.009137872590998124,
          0.009329096148859028,
          0.010065836207791288,
          0.01257956468925507,
          0.016807816394176736
         ],
         "xaxis": "x40",
         "y": [
          "to  ",
          "was  ",
          "me  ",
          "not  ",
          "rude  ",
          "dr  ",
          "him  ",
          "his  ",
          "doctor  ",
          "he  "
         ],
         "yaxis": "y40"
        },
        {
         "marker": {
          "color": "#009E73"
         },
         "orientation": "h",
         "type": "bar",
         "x": [
          0.0070484522468486225,
          0.0072215310922291755,
          0.00727120654630504,
          0.007295253296602118,
          0.007708449544804436,
          0.008462667061373991,
          0.008901600725648618,
          0.010238845034145039,
          0.016419393129403888,
          0.03722394540347154
         ],
         "xaxis": "x41",
         "y": [
          "go  ",
          "emergency  ",
          "hours  ",
          "place  ",
          "er  ",
          "room  ",
          "this  ",
          "ever  ",
          "worst  ",
          "hospital  "
         ],
         "yaxis": "y41"
        },
        {
         "marker": {
          "color": "#F0E442"
         },
         "orientation": "h",
         "type": "bar",
         "x": [
          0.009311456030766607,
          0.009842322147515896,
          0.01017755754250793,
          0.011462296868675115,
          0.01197502499324058,
          0.012616326307522926,
          0.013440163378168815,
          0.015225156805055288,
          0.01777789320828188,
          0.05517635409542257
         ],
         "xaxis": "x42",
         "y": [
          "gentle  ",
          "always  ",
          "thorough  ",
          "dr  ",
          "friendly  ",
          "very  ",
          "great  ",
          "cleaning  ",
          "hygienists  ",
          "hygienist  "
         ],
         "yaxis": "y42"
        },
        {
         "marker": {
          "color": "#D55E00"
         },
         "orientation": "h",
         "type": "bar",
         "x": [
          0.008638107827560143,
          0.008700815529715624,
          0.010225887216138945,
          0.012001814214308439,
          0.012370564868520312,
          0.01340903934467342,
          0.014722594508568842,
          0.015131758537289373,
          0.015969189667513848,
          0.026336465098654848
         ],
         "xaxis": "x43",
         "y": [
          "scheduled  ",
          "late  ",
          "seen  ",
          "an  ",
          "waiting  ",
          "time  ",
          "hour  ",
          "minutes  ",
          "wait  ",
          "appointment  "
         ],
         "yaxis": "y43"
        },
        {
         "marker": {
          "color": "#0072B2"
         },
         "orientation": "h",
         "type": "bar",
         "x": [
          0.011924486995377914,
          0.012135850364730374,
          0.012774125711114677,
          0.013508870458335617,
          0.0152673350217405,
          0.018011601595093775,
          0.022284255778565954,
          0.02539248482317217,
          0.045528532450087617,
          0.06528441605125823
         ],
         "xaxis": "x44",
         "y": [
          "store  ",
          "website  ",
          "at  ",
          "says  ",
          "closing  ",
          "close  ",
          "hours  ",
          "pm  ",
          "closed  ",
          "open  "
         ],
         "yaxis": "y44"
        },
        {
         "marker": {
          "color": "#CC79A7"
         },
         "orientation": "h",
         "type": "bar",
         "x": [
          0.008833396508382746,
          0.008919912480943504,
          0.010345620422422975,
          0.010499758265047154,
          0.011013440025504542,
          0.014286503454115085,
          0.01852263128369941,
          0.01978795963180954,
          0.020885536507323634,
          0.04730876567160989
         ],
         "xaxis": "x45",
         "y": [
          "pain  ",
          "his  ",
          "he  ",
          "knees  ",
          "orthopedic  ",
          "dr  ",
          "surgery  ",
          "hip  ",
          "replacement  ",
          "knee  "
         ],
         "yaxis": "y45"
        },
        {
         "marker": {
          "color": "#E69F00"
         },
         "orientation": "h",
         "type": "bar",
         "x": [
          0.00594334220565148,
          0.005989137386552324,
          0.006053518792868728,
          0.006079192587347496,
          0.00615388933604622,
          0.006495214758795244,
          0.006600446211425348,
          0.006624897036448833,
          0.007063602399947609,
          0.00834461561388038
         ],
         "xaxis": "x46",
         "y": [
          "not  ",
          "the  ",
          "call  ",
          "called  ",
          "was  ",
          "that  ",
          "to  ",
          "appointment  ",
          "me  ",
          "she  "
         ],
         "yaxis": "y46"
        },
        {
         "marker": {
          "color": "#56B4E9"
         },
         "orientation": "h",
         "type": "bar",
         "x": [
          0.010687106337810523,
          0.012142158366128137,
          0.012161235153495764,
          0.012167449752153543,
          0.013026910489300042,
          0.016351268879782707,
          0.01838986965122607,
          0.01842075524729883,
          0.023735206469316844,
          0.026503206345064263
         ],
         "xaxis": "x47",
         "y": [
          "recommend  ",
          "love  ",
          "very  ",
          "location  ",
          "nice  ",
          "facility  ",
          "friendly  ",
          "great  ",
          "place  ",
          "staff  "
         ],
         "yaxis": "y47"
        },
        {
         "marker": {
          "color": "#009E73"
         },
         "orientation": "h",
         "type": "bar",
         "x": [
          0.006697572800586337,
          0.006765186681358223,
          0.00702495594273768,
          0.007529898395597952,
          0.007836693901976232,
          0.007847069904863294,
          0.008166630412484603,
          0.008620222908320449,
          0.011259549963721695,
          0.07095349510683288
         ],
         "xaxis": "x48",
         "y": [
          "very  ",
          "tech  ",
          "the  ",
          "an  ",
          "scan  ",
          "machine  ",
          "mris  ",
          "was  ",
          "imaging  ",
          "mri  "
         ],
         "yaxis": "y48"
        },
        {
         "marker": {
          "color": "#F0E442"
         },
         "orientation": "h",
         "type": "bar",
         "x": [
          0.007200272941668547,
          0.007230461140589541,
          0.007456024968555276,
          0.007917417506193387,
          0.008461818230215214,
          0.009030600917319625,
          0.013588413070247945,
          0.014636246143563807,
          0.014866248097267108,
          0.015558948248206146
         ],
         "xaxis": "x49",
         "y": [
          "delivery  ",
          "delivered  ",
          "my  ",
          "he  ",
          "birth  ",
          "ob  ",
          "dr  ",
          "baby  ",
          "pregnancy  ",
          "obgyn  "
         ],
         "yaxis": "y49"
        },
        {
         "marker": {
          "color": "#D55E00"
         },
         "orientation": "h",
         "type": "bar",
         "x": [
          0.009018895522419723,
          0.00985047241776361,
          0.00985392519509568,
          0.0103852492746842,
          0.01076021731653557,
          0.010970040994597778,
          0.01232124567652135,
          0.014271030732319858,
          0.024764985630238174,
          0.11769120658478487
         ],
         "xaxis": "x50",
         "y": [
          "plenty  ",
          "store  ",
          "handicap  ",
          "is  ",
          "garage  ",
          "location  ",
          "easy  ",
          "park  ",
          "lot  ",
          "parking  "
         ],
         "yaxis": "y50"
        },
        {
         "marker": {
          "color": "#0072B2"
         },
         "orientation": "h",
         "type": "bar",
         "x": [
          0.007575140562481412,
          0.007789581822583521,
          0.007863112479103106,
          0.008068056661043793,
          0.00829967583338457,
          0.008454284541882382,
          0.008917176588348565,
          0.009264165545290144,
          0.010408901309289448,
          0.011237115064421882
         ],
         "xaxis": "x51",
         "y": [
          "flu  ",
          "sinus  ",
          "cough  ",
          "me  ",
          "doctor  ",
          "symptoms  ",
          "antibiotics  ",
          "strep  ",
          "infection  ",
          "throat  "
         ],
         "yaxis": "y51"
        },
        {
         "marker": {
          "color": "#CC79A7"
         },
         "orientation": "h",
         "type": "bar",
         "x": [
          0.0069336661606290186,
          0.006994800753046044,
          0.00701684595055862,
          0.007200446018832968,
          0.00747988330923488,
          0.009307322609032305,
          0.014835055045032743,
          0.019017931036511518,
          0.027404331814541796,
          0.06287977708465933
         ],
         "xaxis": "x52",
         "y": [
          "wax  ",
          "he  ",
          "in  ",
          "aids  ",
          "doctor  ",
          "ent  ",
          "infection  ",
          "ears  ",
          "hearing  ",
          "ear  "
         ],
         "yaxis": "y52"
        },
        {
         "marker": {
          "color": "#E69F00"
         },
         "orientation": "h",
         "type": "bar",
         "x": [
          0.01451734925105599,
          0.01534889979385407,
          0.015372190001939175,
          0.015861828989768675,
          0.016740462573222276,
          0.017891346822834407,
          0.01808251592220788,
          0.02406227836060608,
          0.07794199673368572,
          0.09083429166806327
         ],
         "xaxis": "x53",
         "y": [
          "always  ",
          "organized  ",
          "selection  ",
          "friendly  ",
          "shop  ",
          "nice  ",
          "employees  ",
          "stocked  ",
          "clean  ",
          "store  "
         ],
         "yaxis": "y53"
        },
        {
         "marker": {
          "color": "#56B4E9"
         },
         "orientation": "h",
         "type": "bar",
         "x": [
          0.005713691229666333,
          0.005813800066650571,
          0.006119595184253115,
          0.006212979167208761,
          0.006262045232568312,
          0.0064778878348204574,
          0.0065357782393815995,
          0.006651405011576316,
          0.007084143890563627,
          0.013589312036505036
         ],
         "xaxis": "x54",
         "y": [
          "to  ",
          "me  ",
          "not  ",
          "place  ",
          "of  ",
          "there  ",
          "you  ",
          "help  ",
          "health  ",
          "mental  "
         ],
         "yaxis": "y54"
        },
        {
         "marker": {
          "color": "#009E73"
         },
         "orientation": "h",
         "type": "bar",
         "x": [
          0.005930507585308503,
          0.005930974067691893,
          0.006145158500684455,
          0.006520866457656169,
          0.00712881937064803,
          0.009133093758114528,
          0.009932511316993365,
          0.010150761356185199,
          0.011521097265941778,
          0.016257989440365442
         ],
         "xaxis": "x55",
         "y": [
          "was  ",
          "in  ",
          "to  ",
          "nurse  ",
          "we  ",
          "mom  ",
          "hospital  ",
          "mother  ",
          "she  ",
          "her  "
         ],
         "yaxis": "y55"
        },
        {
         "marker": {
          "color": "#F0E442"
         },
         "orientation": "h",
         "type": "bar",
         "x": [
          0.015186377462960088,
          0.015233772409244973,
          0.016144626544025258,
          0.018757835768580207,
          0.021127212442276513,
          0.021531663205090784,
          0.024406798226994694,
          0.027956071729318188,
          0.037536914156637936,
          0.1299167624631713
         ],
         "xaxis": "x56",
         "y": [
          "prices  ",
          "grocery  ",
          "items  ",
          "selection  ",
          "deli  ",
          "fresh  ",
          "produce  ",
          "store  ",
          "bread  ",
          "bakery  "
         ],
         "yaxis": "y56"
        },
        {
         "marker": {
          "color": "#D55E00"
         },
         "orientation": "h",
         "type": "bar",
         "x": [
          0.012424247082485155,
          0.0170403548305817,
          0.017440520060809154,
          0.01752212643153996,
          0.021139997613589832,
          0.021869056098079955,
          0.02263263657788751,
          0.03031067757102135,
          0.030654072296264583,
          0.09658290062884854
         ],
         "xaxis": "x57",
         "y": [
          "helpful  ",
          "nice  ",
          "cleaning  ",
          "professional  ",
          "environment  ",
          "very  ",
          "facility  ",
          "staff  ",
          "friendly  ",
          "clean  "
         ],
         "yaxis": "y57"
        },
        {
         "marker": {
          "color": "#0072B2"
         },
         "orientation": "h",
         "type": "bar",
         "x": [
          0.011593685726620813,
          0.012441221137967138,
          0.014075361990399026,
          0.017133083252228867,
          0.018679375958373722,
          0.018748483100447386,
          0.023429817214885434,
          0.03187637468314954,
          0.06641606676239135,
          0.07277595219887732
         ],
         "xaxis": "x58",
         "y": [
          "quality  ",
          "selection  ",
          "product  ",
          "excellent  ",
          "prices  ",
          "good  ",
          "products  ",
          "great  ",
          "service  ",
          "customer  "
         ],
         "yaxis": "y58"
        },
        {
         "marker": {
          "color": "#CC79A7"
         },
         "orientation": "h",
         "type": "bar",
         "x": [
          0.01337632686592767,
          0.013942843973990841,
          0.014154634059317451,
          0.015256397653727525,
          0.015377664972949802,
          0.01771185645776119,
          0.017912556792025996,
          0.018333444670918585,
          0.02702464308820305,
          0.2043951090703653
         ],
         "xaxis": "x59",
         "y": [
          "publix  ",
          "bilo  ",
          "shop  ",
          "shopping  ",
          "prices  ",
          "grocery  ",
          "starbucks  ",
          "selection  ",
          "store  ",
          "ingles  "
         ],
         "yaxis": "y59"
        },
        {
         "marker": {
          "color": "#E69F00"
         },
         "orientation": "h",
         "type": "bar",
         "x": [
          0.007952584159471242,
          0.007957408803770601,
          0.00969218315736416,
          0.010187657451009585,
          0.011051324391449836,
          0.016400472243911075,
          0.018483245873601672,
          0.030140878837516906,
          0.039860787420189614,
          0.13001158536672816
         ],
         "xaxis": "x60",
         "y": [
          "gummies  ",
          "bottle  ",
          "knowledgeable  ",
          "shop  ",
          "store  ",
          "hemp  ",
          "product  ",
          "oil  ",
          "products  ",
          "cbd  "
         ],
         "yaxis": "y60"
        },
        {
         "marker": {
          "color": "#56B4E9"
         },
         "orientation": "h",
         "type": "bar",
         "x": [
          0.009293195588010455,
          0.00944764823384116,
          0.010877611222359628,
          0.011005913528470248,
          0.011029537161903205,
          0.011128247077425338,
          0.015349908903017895,
          0.016526106874395572,
          0.02310894618656377,
          0.03425006828547892
         ],
         "xaxis": "x61",
         "y": [
          "child  ",
          "very  ",
          "daughter  ",
          "great  ",
          "son  ",
          "love  ",
          "friendly  ",
          "children  ",
          "staff  ",
          "kids  "
         ],
         "yaxis": "y61"
        },
        {
         "marker": {
          "color": "#009E73"
         },
         "orientation": "h",
         "type": "bar",
         "x": [
          0.01774014075697515,
          0.018112178884248785,
          0.018406547304995923,
          0.01851475943493655,
          0.019111675206338476,
          0.022769006711695516,
          0.023603537272956936,
          0.029941297350551583,
          0.030924112997052316,
          0.053632935946036076
         ],
         "xaxis": "x62",
         "y": [
          "products  ",
          "employees  ",
          "great  ",
          "good  ",
          "helpful  ",
          "store  ",
          "selection  ",
          "friendly  ",
          "staff  ",
          "prices  "
         ],
         "yaxis": "y62"
        },
        {
         "marker": {
          "color": "#F0E442"
         },
         "orientation": "h",
         "type": "bar",
         "x": [
          0.012326599051295498,
          0.012417273118702896,
          0.014736286213443603,
          0.014934762084096252,
          0.017983914784179825,
          0.019181054782146788,
          0.021834005967465854,
          0.02415269987638697,
          0.03325098802542477,
          0.058548812074462456
         ],
         "xaxis": "x63",
         "y": [
          "people  ",
          "everything  ",
          "helpful  ",
          "professional  ",
          "were  ",
          "was  ",
          "very  ",
          "friendly  ",
          "nice  ",
          "everyone  "
         ],
         "yaxis": "y63"
        },
        {
         "marker": {
          "color": "#D55E00"
         },
         "orientation": "h",
         "type": "bar",
         "x": [
          0.0071562344965272525,
          0.008140130846398816,
          0.009329142717311048,
          0.009585084114431645,
          0.01234317498560433,
          0.013258796922766042,
          0.016179448141565023,
          0.017749054970289977,
          0.018422100037054783,
          0.09781377191375827
         ],
         "xaxis": "x64",
         "y": [
          "very  ",
          "ultrasound  ",
          "mammography  ",
          "was  ",
          "tech  ",
          "radiology  ",
          "breast  ",
          "technician  ",
          "mammograms  ",
          "mammogram  "
         ],
         "yaxis": "y64"
        },
        {
         "marker": {
          "color": "#0072B2"
         },
         "orientation": "h",
         "type": "bar",
         "x": [
          0.00941483113878661,
          0.009881704280589591,
          0.010923586551924196,
          0.012191917174136046,
          0.012337148547957562,
          0.013094611337272155,
          0.013355137664207704,
          0.01766532177783823,
          0.030634536534771977,
          0.08688745832190531
         ],
         "xaxis": "x65",
         "y": [
          "tech  ",
          "american  ",
          "community  ",
          "scan  ",
          "very  ",
          "charter  ",
          "professional  ",
          "radiologist  ",
          "advanced  ",
          "radiology  "
         ],
         "yaxis": "y65"
        },
        {
         "marker": {
          "color": "#CC79A7"
         },
         "orientation": "h",
         "type": "bar",
         "x": [
          0.008426392757962291,
          0.008579942388124819,
          0.010618475666631384,
          0.011554255704892814,
          0.01305515625635673,
          0.013679117803293471,
          0.018565539497698662,
          0.02002328304909695,
          0.03735159848104728,
          0.09780379704858977
         ],
         "xaxis": "x66",
         "y": [
          "tanks  ",
          "it  ",
          "light  ",
          "water  ",
          "experience  ",
          "pod  ",
          "relaxing  ",
          "tank  ",
          "floating  ",
          "float  "
         ],
         "yaxis": "y66"
        },
        {
         "marker": {
          "color": "#E69F00"
         },
         "orientation": "h",
         "type": "bar",
         "x": [
          0.00568903597271337,
          0.005898451670973389,
          0.006002754326928331,
          0.006579116702735439,
          0.008120135573342357,
          0.012610847674978888,
          0.013672271995576331,
          0.014092735147949531,
          0.026130145531625765,
          0.045316972006403645
         ],
         "xaxis": "x67",
         "y": [
          "and  ",
          "for  ",
          "to  ",
          "dr  ",
          "reaction  ",
          "allergic  ",
          "asthma  ",
          "shots  ",
          "allergies  ",
          "allergy  "
         ],
         "yaxis": "y67"
        },
        {
         "marker": {
          "color": "#56B4E9"
         },
         "orientation": "h",
         "type": "bar",
         "x": [
          0.014796722788626725,
          0.014835912966274446,
          0.0198457981968104,
          0.021405983668118182,
          0.025619924225216282,
          0.027261541682976183,
          0.02847093524990976,
          0.03584918421092476,
          0.03789948336114385,
          0.11689068249234905
         ],
         "xaxis": "x68",
         "y": [
          "professional  ",
          "always  ",
          "good  ",
          "very  ",
          "excellent  ",
          "quick  ",
          "friendly  ",
          "great  ",
          "fast  ",
          "service  "
         ],
         "yaxis": "y68"
        },
        {
         "marker": {
          "color": "#009E73"
         },
         "orientation": "h",
         "type": "bar",
         "x": [
          0.006489714888611387,
          0.0066489066113458355,
          0.006670872923023116,
          0.00698417654714203,
          0.007429666732108601,
          0.007963281428925295,
          0.00825237596693651,
          0.008436427174204614,
          0.02747050977103642,
          0.03377829243725527
         ],
         "xaxis": "x69",
         "y": [
          "friendly  ",
          "medical  ",
          "professional  ",
          "and  ",
          "caring  ",
          "thank  ",
          "very  ",
          "staff  ",
          "care  ",
          "urgent  "
         ],
         "yaxis": "y69"
        },
        {
         "marker": {
          "color": "#F0E442"
         },
         "orientation": "h",
         "type": "bar",
         "x": [
          0.007153478288085512,
          0.007188535321433449,
          0.0072471171693420135,
          0.0072718672865488675,
          0.007313621869652931,
          0.007519494925693401,
          0.008413632043451852,
          0.008529609860423976,
          0.008594238923128104,
          0.018524112190435534
         ],
         "xaxis": "x70",
         "y": [
          "this  ",
          "doctors  ",
          "and  ",
          "are  ",
          "friendly  ",
          "great  ",
          "recommend  ",
          "staff  ",
          "very  ",
          "clinic  "
         ],
         "yaxis": "y70"
        },
        {
         "marker": {
          "color": "#D55E00"
         },
         "orientation": "h",
         "type": "bar",
         "x": [
          0.005977412175788917,
          0.006068795214370104,
          0.00624297167817499,
          0.0062582795611597864,
          0.006339430915042997,
          0.006493054451828857,
          0.006624878303253086,
          0.008993532987460312,
          0.01006219366424784,
          0.07860098459823107
         ],
         "xaxis": "x71",
         "y": [
          "have  ",
          "is  ",
          "you  ",
          "to  ",
          "health  ",
          "doctors  ",
          "medical  ",
          "care  ",
          "permanente  ",
          "kaiser  "
         ],
         "yaxis": "y71"
        },
        {
         "marker": {
          "color": "#0072B2"
         },
         "orientation": "h",
         "type": "bar",
         "x": [
          0.0070263515375333825,
          0.007183096727253309,
          0.007284353835952402,
          0.007427506918769056,
          0.007855352610734567,
          0.008200422197652579,
          0.00917697490698646,
          0.009982980580172593,
          0.013358837475835567,
          0.07475145853031763
         ],
         "xaxis": "x72",
         "y": [
          "wellness  ",
          "needles  ",
          "and  ",
          "massage  ",
          "has  ",
          "acupuncturist  ",
          "pain  ",
          "treatment  ",
          "treatments  ",
          "acupuncture  "
         ],
         "yaxis": "y72"
        },
        {
         "marker": {
          "color": "#CC79A7"
         },
         "orientation": "h",
         "type": "bar",
         "x": [
          0.010331858278494347,
          0.01111536857038041,
          0.01287212350638815,
          0.012922041964005137,
          0.013072844856146175,
          0.013545757721601413,
          0.014778602911683123,
          0.015405923465944436,
          0.018196737614778496,
          0.023832772080343036
         ],
         "xaxis": "x73",
         "y": [
          "time  ",
          "minutes  ",
          "room  ",
          "long  ",
          "waited  ",
          "hour  ",
          "hours  ",
          "waiting  ",
          "doctor  ",
          "wait  "
         ],
         "yaxis": "y73"
        },
        {
         "marker": {
          "color": "#E69F00"
         },
         "orientation": "h",
         "type": "bar",
         "x": [
          0.007351563196771475,
          0.00783398341161398,
          0.008014120197627313,
          0.008652397233718653,
          0.009541928130007541,
          0.010573029877731633,
          0.012156034542049684,
          0.012656214931348657,
          0.013756084049316244,
          0.025588690677338564
         ],
         "xaxis": "x74",
         "y": [
          "my  ",
          "he  ",
          "his  ",
          "plastic  ",
          "surgeon  ",
          "results  ",
          "breast  ",
          "dr  ",
          "procedure  ",
          "surgery  "
         ],
         "yaxis": "y74"
        },
        {
         "marker": {
          "color": "#56B4E9"
         },
         "orientation": "h",
         "type": "bar",
         "x": [
          0.007115898939627246,
          0.007373789626048656,
          0.007842310126860838,
          0.00817016309910904,
          0.008181256801634484,
          0.008847188394610257,
          0.009465216727336917,
          0.017044396729690877,
          0.028469554028949316,
          0.04033485486452035
         ],
         "xaxis": "x75",
         "y": [
          "days  ",
          "blood  ",
          "they  ",
          "get  ",
          "call  ",
          "tests  ",
          "testing  ",
          "lab  ",
          "test  ",
          "results  "
         ],
         "yaxis": "y75"
        },
        {
         "marker": {
          "color": "#009E73"
         },
         "orientation": "h",
         "type": "bar",
         "x": [
          0.008148133241429333,
          0.008528836507068118,
          0.008973276779867036,
          0.009231604601108888,
          0.009855143073719317,
          0.010656033604035536,
          0.01199837226048795,
          0.012981127866368816,
          0.05311836266684457,
          0.12468346752088043
         ],
         "xaxis": "x76",
         "y": [
          "dr  ",
          "been  ",
          "have  ",
          "always  ",
          "doctors  ",
          "love  ",
          "kaysville  ",
          "layton  ",
          "clinic  ",
          "tanner  "
         ],
         "yaxis": "y76"
        },
        {
         "marker": {
          "color": "#F0E442"
         },
         "orientation": "h",
         "type": "bar",
         "x": [
          0.013403206566125599,
          0.015097903277907113,
          0.0154048930202832,
          0.016681300792115213,
          0.02994887323992371,
          0.03140163133278136,
          0.03217050828441883,
          0.03653414573473331,
          0.036542499588105834,
          0.10009502020876551
         ],
         "xaxis": "x77",
         "y": [
          "great  ",
          "expensive  ",
          "items  ",
          "variety  ",
          "good  ",
          "prices  ",
          "fresh  ",
          "foods  ",
          "selection  ",
          "food  "
         ],
         "yaxis": "y77"
        },
        {
         "marker": {
          "color": "#D55E00"
         },
         "orientation": "h",
         "type": "bar",
         "x": [
          0.006077280926263798,
          0.006077698452957003,
          0.006227349335294082,
          0.006311994942502783,
          0.006488266583949665,
          0.006789439503174364,
          0.0072448582425811165,
          0.01412843452401646,
          0.021586670617303662,
          0.02168114166067777
         ],
         "xaxis": "x78",
         "y": [
          "room  ",
          "was  ",
          "are  ",
          "her  ",
          "not  ",
          "the  ",
          "she  ",
          "rude  ",
          "nurse  ",
          "nurses  "
         ],
         "yaxis": "y78"
        },
        {
         "marker": {
          "color": "#0072B2"
         },
         "orientation": "h",
         "type": "bar",
         "x": [
          0.007227003818414665,
          0.007265818069623779,
          0.007344096080520814,
          0.007525020621788874,
          0.007558655253018869,
          0.008029569355068772,
          0.010690686301973045,
          0.017884521804469783,
          0.02200470194094104,
          0.02221237663649983
         ],
         "xaxis": "x79",
         "y": [
          "amazing  ",
          "love  ",
          "best  ",
          "and  ",
          "very  ",
          "caring  ",
          "is  ",
          "dr  ",
          "her  ",
          "she  "
         ],
         "yaxis": "y79"
        },
        {
         "marker": {
          "color": "#CC79A7"
         },
         "orientation": "h",
         "type": "bar",
         "x": [
          0.015585528135653955,
          0.01574945768564962,
          0.017390816963661095,
          0.01860147871514712,
          0.019758930256887377,
          0.02537597468254253,
          0.02625178327650897,
          0.03660029996233293,
          0.07438491865586114,
          0.17151840145914563
         ],
         "xaxis": "x80",
         "y": [
          "prices  ",
          "good  ",
          "grocery  ",
          "bowmans  ",
          "best  ",
          "store  ",
          "bakery  ",
          "donut  ",
          "doughnuts  ",
          "donuts  "
         ],
         "yaxis": "y80"
        },
        {
         "marker": {
          "color": "#E69F00"
         },
         "orientation": "h",
         "type": "bar",
         "x": [
          0.008332266647104337,
          0.008351832884719563,
          0.00901759857431447,
          0.011081982320743903,
          0.011159741960411942,
          0.01137362025616851,
          0.01420800274564523,
          0.01959931741306689,
          0.02043765364975079,
          0.021700060019287138
         ],
         "xaxis": "x81",
         "y": [
          "message  ",
          "schedule  ",
          "calls  ",
          "called  ",
          "answer  ",
          "an  ",
          "hold  ",
          "appointment  ",
          "call  ",
          "phone  "
         ],
         "yaxis": "y81"
        },
        {
         "marker": {
          "color": "#56B4E9"
         },
         "orientation": "h",
         "type": "bar",
         "x": [
          0.006773210136227113,
          0.007952706209158122,
          0.008033273443782511,
          0.008604229481434196,
          0.008703891020168882,
          0.008836168405163844,
          0.010372827423252576,
          0.010824583954906796,
          0.010844256220598722,
          0.011273959125507734
         ],
         "xaxis": "x82",
         "y": [
          "flu  ",
          "him  ",
          "child  ",
          "he  ",
          "she  ",
          "fever  ",
          "we  ",
          "her  ",
          "daughter  ",
          "son  "
         ],
         "yaxis": "y82"
        },
        {
         "marker": {
          "color": "#009E73"
         },
         "orientation": "h",
         "type": "bar",
         "x": [
          0.006021794766403765,
          0.00610718060387561,
          0.0063165077407535,
          0.006359831959281587,
          0.01063969566809781,
          0.011644225692406737,
          0.02164715069288394,
          0.023064188871712174,
          0.03147040273756217,
          0.06107504987512262
         ],
         "xaxis": "x83",
         "y": [
          "to  ",
          "for  ",
          "test  ",
          "physical  ",
          "machine  ",
          "dot  ",
          "cpap  ",
          "apnea  ",
          "study  ",
          "sleep  "
         ],
         "yaxis": "y83"
        },
        {
         "marker": {
          "color": "#F0E442"
         },
         "orientation": "h",
         "type": "bar",
         "x": [
          0.0179896118992828,
          0.019395004636295943,
          0.021049138078761704,
          0.02107375492975384,
          0.02577270216243321,
          0.03813294996510839,
          0.03969962559388386,
          0.046867625099756886,
          0.0569746240590091,
          0.062357125030303204
         ],
         "xaxis": "x84",
         "y": [
          "items  ",
          "things  ",
          "you  ",
          "found  ",
          "looking  ",
          "needed  ",
          "find  ",
          "what  ",
          "everything  ",
          "need  "
         ],
         "yaxis": "y84"
        },
        {
         "marker": {
          "color": "#D55E00"
         },
         "orientation": "h",
         "type": "bar",
         "x": [
          0.007351774763492675,
          0.007737918152824184,
          0.00820035451209021,
          0.011038232598167903,
          0.017197611046765326,
          0.017629861717547463,
          0.01798024964111708,
          0.025733090560438918,
          0.03643045899347568,
          0.08392399902856412
         ],
         "xaxis": "x85",
         "y": [
          "it  ",
          "my  ",
          "stylists  ",
          "she  ",
          "cut  ",
          "haircut  ",
          "color  ",
          "stylist  ",
          "salon  ",
          "hair  "
         ],
         "yaxis": "y85"
        },
        {
         "marker": {
          "color": "#0072B2"
         },
         "orientation": "h",
         "type": "bar",
         "x": [
          0.012637137744779694,
          0.013081240022500473,
          0.014995702462145877,
          0.019706261133833385,
          0.021039413052888572,
          0.025322698501206727,
          0.035276544944839186,
          0.037263285930237325,
          0.037408675790066306,
          0.07938455603818001
         ],
         "xaxis": "x86",
         "y": [
          "good  ",
          "helpful  ",
          "services  ",
          "professional  ",
          "very  ",
          "friendly  ",
          "excellent  ",
          "staff  ",
          "great  ",
          "service  "
         ],
         "yaxis": "y86"
        },
        {
         "marker": {
          "color": "#CC79A7"
         },
         "orientation": "h",
         "type": "bar",
         "x": [
          0.010715552068299777,
          0.010773237640469288,
          0.010877916695446965,
          0.010944695595485438,
          0.011975148903570492,
          0.012356613739940145,
          0.012422684283245588,
          0.01350001123256424,
          0.023647274505106744,
          0.11210585992197537
         ],
         "xaxis": "x87",
         "y": [
          "always  ",
          "guys  ",
          "love  ",
          "very  ",
          "awesome  ",
          "professional  ",
          "friendly  ",
          "amazing  ",
          "great  ",
          "team  "
         ],
         "yaxis": "y87"
        },
        {
         "marker": {
          "color": "#E69F00"
         },
         "orientation": "h",
         "type": "bar",
         "x": [
          0.009842071225858354,
          0.010409967896295232,
          0.01181048601008269,
          0.01227657102041103,
          0.014055874053388127,
          0.015012141469675113,
          0.01939920227346813,
          0.028906481665888595,
          0.05022607518226585,
          0.06528890452878333
         ],
         "xaxis": "x88",
         "y": [
          "tans  ",
          "groupon  ",
          "goggles  ",
          "bed  ",
          "membership  ",
          "salon  ",
          "beds  ",
          "spray  ",
          "tanning  ",
          "tan  "
         ],
         "yaxis": "y88"
        },
        {
         "marker": {
          "color": "#56B4E9"
         },
         "orientation": "h",
         "type": "bar",
         "x": [
          0.010447236225990758,
          0.010579122809612868,
          0.011684788312220211,
          0.011694311159458121,
          0.011897146134179618,
          0.012031092651537257,
          0.015307322003921459,
          0.02122819307136801,
          0.028901664541438384,
          0.08342741686762578
         ],
         "xaxis": "x89",
         "y": [
          "amazing  ",
          "was  ",
          "always  ",
          "recommend  ",
          "it  ",
          "awesome  ",
          "very  ",
          "good  ",
          "great  ",
          "experience  "
         ],
         "yaxis": "y89"
        },
        {
         "marker": {
          "color": "#009E73"
         },
         "orientation": "h",
         "type": "bar",
         "x": [
          0.005907363411916267,
          0.006030607079779983,
          0.006223762958589104,
          0.006398528381822617,
          0.006419746800742533,
          0.006499196641373561,
          0.006500926131087402,
          0.013672719473448936,
          0.018514253505806374,
          0.09823550874628835
         ],
         "xaxis": "x90",
         "y": [
          "to  ",
          "in  ",
          "and  ",
          "staff  ",
          "at  ",
          "was  ",
          "recommend  ",
          "care  ",
          "urgent  ",
          "afc  "
         ],
         "yaxis": "y90"
        },
        {
         "marker": {
          "color": "#F0E442"
         },
         "orientation": "h",
         "type": "bar",
         "x": [
          0.011450911272904386,
          0.011585795002520279,
          0.0124430490563555,
          0.012644330264517573,
          0.014501941697433683,
          0.017038672753968524,
          0.02123252016960222,
          0.021820143123440282,
          0.027162353917542997,
          0.18192219255589862
         ],
         "xaxis": "x91",
         "y": [
          "stores  ",
          "shopping  ",
          "love  ",
          "items  ",
          "shop  ",
          "produce  ",
          "prices  ",
          "grocery  ",
          "store  ",
          "maceys  "
         ],
         "yaxis": "y91"
        },
        {
         "marker": {
          "color": "#D55E00"
         },
         "orientation": "h",
         "type": "bar",
         "x": [
          0.013686407918397469,
          0.01779590851915414,
          0.01822589104396891,
          0.019961276241499164,
          0.021077143236604208,
          0.02551385582608366,
          0.030433573485919352,
          0.030615457365735208,
          0.04912088417170801,
          0.16447171019502313
         ],
         "xaxis": "x92",
         "y": [
          "vegetables  ",
          "section  ",
          "quality  ",
          "store  ",
          "good  ",
          "prices  ",
          "fruit  ",
          "selection  ",
          "fresh  ",
          "produce  "
         ],
         "yaxis": "y92"
        },
        {
         "marker": {
          "color": "#0072B2"
         },
         "orientation": "h",
         "type": "bar",
         "x": [
          0.006131775988073693,
          0.006409573568386063,
          0.006489110545304536,
          0.006491577239225963,
          0.006581835313056197,
          0.008569005465991205,
          0.009203169499199422,
          0.027868863781263194,
          0.02905715483160223,
          0.04284381917237229
         ],
         "xaxis": "x93",
         "y": [
          "with  ",
          "recommend  ",
          "she  ",
          "and  ",
          "my  ",
          "dr  ",
          "acne  ",
          "dermatology  ",
          "dermatologist  ",
          "skin  "
         ],
         "yaxis": "y93"
        },
        {
         "marker": {
          "color": "#CC79A7"
         },
         "orientation": "h",
         "type": "bar",
         "x": [
          0.006093168196757152,
          0.006103698614638462,
          0.006766661118321091,
          0.0071008712713420035,
          0.007107527428477369,
          0.007163449979856724,
          0.0072502385213327886,
          0.007673633499956502,
          0.008011508329621156,
          0.010239915219740109
         ],
         "xaxis": "x94",
         "y": [
          "to  ",
          "blood  ",
          "in  ",
          "me  ",
          "was  ",
          "room  ",
          "pain  ",
          "nurse  ",
          "hospital  ",
          "er  "
         ],
         "yaxis": "y94"
        },
        {
         "marker": {
          "color": "#E69F00"
         },
         "orientation": "h",
         "type": "bar",
         "x": [
          0.011095242132097786,
          0.01202602431342057,
          0.01852331076712901,
          0.019376597978447326,
          0.020045385249048274,
          0.02041567355739058,
          0.020601930328510903,
          0.020771843553652785,
          0.027544450263558905,
          0.04875369620402686
         ],
         "xaxis": "x95",
         "y": [
          "fresh  ",
          "produce  ",
          "items  ",
          "food  ",
          "store  ",
          "date  ",
          "dates  ",
          "bought  ",
          "expiration  ",
          "expired  "
         ],
         "yaxis": "y95"
        },
        {
         "marker": {
          "color": "#56B4E9"
         },
         "orientation": "h",
         "type": "bar",
         "x": [
          0.008593373993426223,
          0.00859792843391765,
          0.009026652566388038,
          0.01002215342742507,
          0.010325451429985774,
          0.010350724298705897,
          0.010707574305244204,
          0.01172008480336378,
          0.021561818956418594,
          0.026320528425575397
         ],
         "xaxis": "x96",
         "y": [
          "caring  ",
          "and  ",
          "care  ",
          "doctors  ",
          "great  ",
          "were  ",
          "staff  ",
          "very  ",
          "nurse  ",
          "nurses  "
         ],
         "yaxis": "y96"
        },
        {
         "marker": {
          "color": "#009E73"
         },
         "orientation": "h",
         "type": "bar",
         "x": [
          0.014441722808059226,
          0.015545454567015797,
          0.01651645366468303,
          0.01666479519923503,
          0.019830864234663965,
          0.022520341373500376,
          0.02485556324197491,
          0.026824690812760194,
          0.03176385724952515,
          0.16225279050944705
         ],
         "xaxis": "x97",
         "y": [
          "lins  ",
          "shop  ",
          "expensive  ",
          "harmons  ",
          "grocery  ",
          "than  ",
          "walmart  ",
          "prices  ",
          "store  ",
          "smiths  "
         ],
         "yaxis": "y97"
        },
        {
         "marker": {
          "color": "#F0E442"
         },
         "orientation": "h",
         "type": "bar",
         "x": [
          0.00897391228418042,
          0.009208810624262377,
          0.009933604625191494,
          0.010678033171378146,
          0.011178314101285664,
          0.01164042516064574,
          0.021827351418440916,
          0.042423688726961076,
          0.06440997881964562,
          0.08205209385317133
         ],
         "xaxis": "x98",
         "y": [
          "dinner  ",
          "cheese  ",
          "meat  ",
          "fresh  ",
          "good  ",
          "hot  ",
          "fried  ",
          "food  ",
          "chicken  ",
          "deli  "
         ],
         "yaxis": "y98"
        },
        {
         "marker": {
          "color": "#D55E00"
         },
         "orientation": "h",
         "type": "bar",
         "x": [
          0.008765509890684114,
          0.008998577955022426,
          0.009446541085520902,
          0.009827210591339992,
          0.011048449205075837,
          0.012473642018356487,
          0.0130114186513164,
          0.013091395704895939,
          0.015150078570485942,
          0.032081068330449214
         ],
         "xaxis": "x99",
         "y": [
          "schedule  ",
          "an  ",
          "called  ",
          "appointments  ",
          "canceled  ",
          "scheduled  ",
          "cancel  ",
          "cancelled  ",
          "reschedule  ",
          "appointment  "
         ],
         "yaxis": "y99"
        },
        {
         "marker": {
          "color": "#0072B2"
         },
         "orientation": "h",
         "type": "bar",
         "x": [
          0.012252638212465788,
          0.012761795475172255,
          0.014416985488799933,
          0.014577586566596775,
          0.01485314090183783,
          0.015204625090285076,
          0.016175612351258053,
          0.01893152794238253,
          0.019499621082152682,
          0.045921929825264406
         ],
         "xaxis": "x100",
         "y": [
          "son  ",
          "with  ",
          "children  ",
          "old  ",
          "are  ",
          "them  ",
          "great  ",
          "love  ",
          "they  ",
          "kids  "
         ],
         "yaxis": "y100"
        },
        {
         "marker": {
          "color": "#CC79A7"
         },
         "orientation": "h",
         "type": "bar",
         "x": [
          0.00938793166381565,
          0.010227692514821718,
          0.010834223813444462,
          0.01113730375529688,
          0.011616957425752788,
          0.012158039219877025,
          0.01244722215582948,
          0.01613386873561267,
          0.017997508820139466,
          0.05758149457575067
         ],
         "xaxis": "x101",
         "y": [
          "nice  ",
          "friendly  ",
          "enjoyed  ",
          "was  ",
          "everyone  ",
          "great  ",
          "pleasant  ",
          "very  ",
          "first  ",
          "visit  "
         ],
         "yaxis": "y101"
        },
        {
         "marker": {
          "color": "#E69F00"
         },
         "orientation": "h",
         "type": "bar",
         "x": [
          0.007032247049315099,
          0.00752029861884626,
          0.008763059516110864,
          0.011660901308114601,
          0.013048247524892004,
          0.013832555440012806,
          0.014683136071185834,
          0.015942949670704334,
          0.02094862768216816,
          0.05896790048681244
         ],
         "xaxis": "x102",
         "y": [
          "my  ",
          "skin  ",
          "face  ",
          "results  ",
          "lips  ",
          "lip  ",
          "injections  ",
          "fillers  ",
          "filler  ",
          "botox  "
         ],
         "yaxis": "y102"
        },
        {
         "marker": {
          "color": "#56B4E9"
         },
         "orientation": "h",
         "type": "bar",
         "x": [
          0.008711431711927443,
          0.008893085712609659,
          0.010124680449818893,
          0.010177887720414305,
          0.013163307825161043,
          0.014157052331886287,
          0.02476852624718997,
          0.02988333687149446,
          0.04107163660948697,
          0.043055626044557815
         ],
         "xaxis": "x103",
         "y": [
          "session  ",
          "water  ",
          "room  ",
          "pool  ",
          "infrared  ",
          "spa  ",
          "relaxing  ",
          "cave  ",
          "sauna  ",
          "salt  "
         ],
         "yaxis": "y103"
        },
        {
         "marker": {
          "color": "#009E73"
         },
         "orientation": "h",
         "type": "bar",
         "x": [
          0.006599916750527112,
          0.006649349656014769,
          0.0070624569248770655,
          0.00764558996471951,
          0.0076989436085862315,
          0.007881057446307538,
          0.007971490870711428,
          0.009029874616250927,
          0.010902593451052489,
          0.031163540982279643
         ],
         "xaxis": "x104",
         "y": [
          "store  ",
          "not  ",
          "ordered  ",
          "they  ",
          "customer  ",
          "product  ",
          "it  ",
          "delivery  ",
          "online  ",
          "order  "
         ],
         "yaxis": "y104"
        },
        {
         "marker": {
          "color": "#F0E442"
         },
         "orientation": "h",
         "type": "bar",
         "x": [
          0.005845929727151067,
          0.006051007305606062,
          0.006424697635867593,
          0.007002865962178375,
          0.007512358531895058,
          0.007614324580126268,
          0.00981153406011424,
          0.011061638315793798,
          0.013915443955446865,
          0.07569758600344975
         ],
         "xaxis": "x105",
         "y": [
          "we  ",
          "not  ",
          "she  ",
          "the  ",
          "an  ",
          "was  ",
          "technician  ",
          "ultrasounds  ",
          "tech  ",
          "ultrasound  "
         ],
         "yaxis": "y105"
        },
        {
         "marker": {
          "color": "#D55E00"
         },
         "orientation": "h",
         "type": "bar",
         "x": [
          0.011182568448040825,
          0.01270650785627212,
          0.014896005895473314,
          0.015747563746380488,
          0.017834215222814892,
          0.02626466925125165,
          0.03561762541109558,
          0.050899750484227506,
          0.12682240372782616,
          0.14132203605964153
         ],
         "xaxis": "x106",
         "y": [
          "chocolate  ",
          "love  ",
          "serve  ",
          "store  ",
          "soft  ",
          "cone  ",
          "kong  ",
          "cones  ",
          "cream  ",
          "ice  "
         ],
         "yaxis": "y106"
        },
        {
         "marker": {
          "color": "#0072B2"
         },
         "orientation": "h",
         "type": "bar",
         "x": [
          0.007942130069198193,
          0.009057827897185875,
          0.009159353852267292,
          0.009658315306727906,
          0.013505624163750977,
          0.01356692487483978,
          0.013914027017226828,
          0.014168016202485331,
          0.01638871202246615,
          0.028222183059059155
         ],
         "xaxis": "x107",
         "y": [
          "in  ",
          "hour  ",
          "seen  ",
          "emergency  ",
          "room  ",
          "hours  ",
          "care  ",
          "wait  ",
          "waiting  ",
          "urgent  "
         ],
         "yaxis": "y107"
        },
        {
         "marker": {
          "color": "#CC79A7"
         },
         "orientation": "h",
         "type": "bar",
         "x": [
          0.006366730074467844,
          0.006435929694162349,
          0.006518495189178118,
          0.006643525240030219,
          0.006871192513149868,
          0.007602871888350291,
          0.0106005440941754,
          0.012357407552547505,
          0.016560818641437967,
          0.04479529923406387
         ],
         "xaxis": "x108",
         "y": [
          "the  ",
          "was  ",
          "dr  ",
          "he  ",
          "prep  ",
          "gi  ",
          "colon  ",
          "endoscopy  ",
          "procedure  ",
          "colonoscopy  "
         ],
         "yaxis": "y108"
        },
        {
         "marker": {
          "color": "#E69F00"
         },
         "orientation": "h",
         "type": "bar",
         "x": [
          0.010701337752149953,
          0.011482442292676216,
          0.012402162319351387,
          0.013314711602001343,
          0.015382414765549569,
          0.02161515552897008,
          0.02434818570132497,
          0.027833114305254442,
          0.03929134396913532,
          0.07021386974296721
         ],
         "xaxis": "x109",
         "y": [
          "techs  ",
          "friendly  ",
          "pleasant  ",
          "efficient  ",
          "was  ",
          "very  ",
          "professional  ",
          "technicians  ",
          "tech  ",
          "technician  "
         ],
         "yaxis": "y109"
        },
        {
         "marker": {
          "color": "#56B4E9"
         },
         "orientation": "h",
         "type": "bar",
         "x": [
          0.0122229145765366,
          0.012479795275787848,
          0.012521749115281738,
          0.013210339692474484,
          0.015725534714532915,
          0.016556230849452458,
          0.018112611878974352,
          0.027794849647242475,
          0.028127616441829865,
          0.11565533666128437
         ],
         "xaxis": "x110",
         "y": [
          "shop  ",
          "items  ",
          "better  ",
          "higher  ",
          "shopping  ",
          "expensive  ",
          "than  ",
          "store  ",
          "prices  ",
          "walmart  "
         ],
         "yaxis": "y110"
        },
        {
         "marker": {
          "color": "#009E73"
         },
         "orientation": "h",
         "type": "bar",
         "x": [
          0.011252188199518889,
          0.01169859105567623,
          0.012669434402522092,
          0.013614609383592494,
          0.016940001768602442,
          0.024012437198752262,
          0.0327663489306946,
          0.04135285790701013,
          0.04685662748974868,
          0.11721317008853424
         ],
         "xaxis": "x111",
         "y": [
          "city  ",
          "space  ",
          "teachers  ",
          "centered  ",
          "instructor  ",
          "instructors  ",
          "studio  ",
          "class  ",
          "classes  ",
          "yoga  "
         ],
         "yaxis": "y111"
        },
        {
         "marker": {
          "color": "#F0E442"
         },
         "orientation": "h",
         "type": "bar",
         "x": [
          0.006348532820522373,
          0.0065135545020172944,
          0.006932807489693099,
          0.007358852892142753,
          0.008344909081835284,
          0.008392748294830664,
          0.012984296229512148,
          0.015403689230424846,
          0.016402994349691183,
          0.02774558290831331
         ],
         "xaxis": "x112",
         "y": [
          "my  ",
          "in  ",
          "it  ",
          "was  ",
          "bleeding  ",
          "hand  ",
          "cut  ",
          "finger  ",
          "wound  ",
          "stitches  "
         ],
         "yaxis": "y112"
        },
        {
         "marker": {
          "color": "#D55E00"
         },
         "orientation": "h",
         "type": "bar",
         "x": [
          0.008493292514596412,
          0.008519369018458942,
          0.00866671301979519,
          0.008733603868951027,
          0.009319478585263856,
          0.009450758889412865,
          0.009817194075675008,
          0.012448165479672299,
          0.013504065992552482,
          0.09702823201361713
         ],
         "xaxis": "x113",
         "y": [
          "at  ",
          "scheduled  ",
          "min  ",
          "pm  ",
          "hour  ",
          "time  ",
          "wait  ",
          "an  ",
          "appts  ",
          "appt  "
         ],
         "yaxis": "y113"
        },
        {
         "marker": {
          "color": "#0072B2"
         },
         "orientation": "h",
         "type": "bar",
         "x": [
          0.01135127819947856,
          0.011660627220506469,
          0.012870021507017562,
          0.013342379501358395,
          0.013548294024993161,
          0.014538922242336223,
          0.018083464604572,
          0.019308405864895205,
          0.028059824489149673,
          0.1886981736576513
         ],
         "xaxis": "x114",
         "y": [
          "coborn  ",
          "shop  ",
          "produce  ",
          "prices  ",
          "items  ",
          "coburns  ",
          "grocery  ",
          "stores  ",
          "store  ",
          "coborns  "
         ],
         "yaxis": "y114"
        },
        {
         "marker": {
          "color": "#CC79A7"
         },
         "orientation": "h",
         "type": "bar",
         "x": [
          0.009874935069474485,
          0.010999142434454554,
          0.011192525960289064,
          0.011444661336747137,
          0.012159837219189316,
          0.012431792499218145,
          0.014691458345341895,
          0.015745621871693705,
          0.017539944591489505,
          0.029370718623427924
         ],
         "xaxis": "x115",
         "y": [
          "lost  ",
          "pounds  ",
          "healthy  ",
          "lbs  ",
          "mike  ",
          "loss  ",
          "program  ",
          "diet  ",
          "nutrition  ",
          "weight  "
         ],
         "yaxis": "y115"
        },
        {
         "marker": {
          "color": "#E69F00"
         },
         "orientation": "h",
         "type": "bar",
         "x": [
          0.006806755075379285,
          0.007359261321674954,
          0.007813592885404903,
          0.008469746196809068,
          0.008544885580233651,
          0.009059732451022142,
          0.011045879602057275,
          0.013665417608232307,
          0.04575334599869346,
          0.09080240089676966
         ],
         "xaxis": "x116",
         "y": [
          "came  ",
          "hour  ",
          "for  ",
          "blood  ",
          "physical  ",
          "wait  ",
          "skin  ",
          "read  ",
          "test  ",
          "tb  "
         ],
         "yaxis": "y116"
        },
        {
         "marker": {
          "color": "#56B4E9"
         },
         "orientation": "h",
         "type": "bar",
         "x": [
          0.008144142009492783,
          0.008205513751785666,
          0.008858842131676429,
          0.009254620863655036,
          0.009714996838037632,
          0.009812962613517074,
          0.010205637449786635,
          0.011508396371451983,
          0.012505581008788702,
          0.04668862768562344
         ],
         "xaxis": "x117",
         "y": [
          "good  ",
          "place  ",
          "best  ",
          "nurses  ",
          "great  ",
          "medical  ",
          "doctors  ",
          "hospitals  ",
          "care  ",
          "hospital  "
         ],
         "yaxis": "y117"
        },
        {
         "marker": {
          "color": "#009E73"
         },
         "orientation": "h",
         "type": "bar",
         "x": [
          0.007396576488595985,
          0.007512164405297315,
          0.007668151372920993,
          0.008025780323913278,
          0.009338165715977816,
          0.009916897686156646,
          0.013854839266613694,
          0.014177395197371713,
          0.024132150429629438,
          0.11268703898825136
         ],
         "xaxis": "x118",
         "y": [
          "nawab  ",
          "recommend  ",
          "and  ",
          "is  ",
          "very  ",
          "him  ",
          "he  ",
          "his  ",
          "dr  ",
          "patel  "
         ],
         "yaxis": "y118"
        },
        {
         "marker": {
          "color": "#F0E442"
         },
         "orientation": "h",
         "type": "bar",
         "x": [
          0.008522960147668906,
          0.008543840260575775,
          0.008963782981278852,
          0.010309565553600592,
          0.010623851670766554,
          0.015152397046645895,
          0.017015933150407066,
          0.017343653060779007,
          0.07080580778657565,
          0.17248454372656818
         ],
         "xaxis": "x119",
         "y": [
          "place  ",
          "in  ",
          "get  ",
          "card  ",
          "for  ",
          "hours  ",
          "physicals  ",
          "concentra  ",
          "physical  ",
          "dot  "
         ],
         "yaxis": "y119"
        },
        {
         "marker": {
          "color": "#D55E00"
         },
         "orientation": "h",
         "type": "bar",
         "x": [
          0.012237963629036404,
          0.014053196949032674,
          0.015429238787590697,
          0.01617602180604539,
          0.019579779214277195,
          0.025955889837673912,
          0.03129960630183651,
          0.03916130563841784,
          0.044240250530478656,
          0.11517415552529503
         ],
         "xaxis": "x120",
         "y": [
          "fitness  ",
          "workouts  ",
          "coaching  ",
          "gyms  ",
          "community  ",
          "workout  ",
          "gym  ",
          "rhapsody  ",
          "coaches  ",
          "crossfit  "
         ],
         "yaxis": "y120"
        },
        {
         "marker": {
          "color": "#0072B2"
         },
         "orientation": "h",
         "type": "bar",
         "x": [
          0.006550828920920154,
          0.007012126440939677,
          0.007053765847363074,
          0.007375957210909286,
          0.00746891122832165,
          0.007479369414825448,
          0.008495884763235609,
          0.00877591315525512,
          0.010696659433246982,
          0.041035021356345916
         ],
         "xaxis": "x121",
         "y": [
          "garage  ",
          "walk  ",
          "the  ",
          "you  ",
          "is  ",
          "handicap  ",
          "building  ",
          "wheelchair  ",
          "park  ",
          "parking  "
         ],
         "yaxis": "y121"
        },
        {
         "marker": {
          "color": "#CC79A7"
         },
         "orientation": "h",
         "type": "bar",
         "x": [
          0.022783778238497598,
          0.025614633731347723,
          0.02563190603037489,
          0.02563332779888778,
          0.027551441262586508,
          0.028500376286025357,
          0.03053261075054703,
          0.034067737914217994,
          0.11474279741525205,
          0.19169151349157418
         ],
         "xaxis": "x122",
         "y": [
          "foods  ",
          "products  ",
          "organic  ",
          "selection  ",
          "celiac  ",
          "dairy  ",
          "items  ",
          "glutenfree  ",
          "free  ",
          "gluten  "
         ],
         "yaxis": "y122"
        },
        {
         "marker": {
          "color": "#E69F00"
         },
         "orientation": "h",
         "type": "bar",
         "x": [
          0.009187209655824003,
          0.009370477033833683,
          0.010169379783982854,
          0.010500557142365474,
          0.01058759521873797,
          0.012248645461600106,
          0.013058650267624558,
          0.020984714889300118,
          0.02207481203319309,
          0.1443529653775812
         ],
         "xaxis": "x123",
         "y": [
          "rid  ",
          "were  ",
          "nits  ",
          "america  ",
          "solutions  ",
          "our  ",
          "we  ",
          "bugs  ",
          "hair  ",
          "lice  "
         ],
         "yaxis": "y123"
        },
        {
         "marker": {
          "color": "#56B4E9"
         },
         "orientation": "h",
         "type": "bar",
         "x": [
          0.008712817509583474,
          0.00953061172764419,
          0.009851874014130771,
          0.011919839850865326,
          0.012063294154526,
          0.01394796911018186,
          0.019568348323266687,
          0.023871468242057117,
          0.03449481184790431,
          0.04663597697633064
         ],
         "xaxis": "x124",
         "y": [
          "vascular  ",
          "drawn  ",
          "leg  ",
          "varicose  ",
          "needle  ",
          "draw  ",
          "legs  ",
          "blood  ",
          "veins  ",
          "vein  "
         ],
         "yaxis": "y124"
        },
        {
         "marker": {
          "color": "#009E73"
         },
         "orientation": "h",
         "type": "bar",
         "x": [
          0.011303451643622614,
          0.011812841207125136,
          0.012761803914855579,
          0.013681606333149203,
          0.01521133583468805,
          0.016459468987998122,
          0.024690840136338925,
          0.026142725208176596,
          0.033843031025858734,
          0.2541560459471619
         ],
         "xaxis": "x125",
         "y": [
          "delicious  ",
          "food  ",
          "selection  ",
          "rolls  ",
          "great  ",
          "good  ",
          "deli  ",
          "store  ",
          "fresh  ",
          "sushi  "
         ],
         "yaxis": "y125"
        },
        {
         "marker": {
          "color": "#F0E442"
         },
         "orientation": "h",
         "type": "bar",
         "x": [
          0.006867733315119912,
          0.007414488009937973,
          0.007616409335339202,
          0.007823178101325092,
          0.00793800481547079,
          0.008492166803126236,
          0.008587070115745873,
          0.008835041485892916,
          0.029288234269319233,
          0.08752331942609773
         ],
         "xaxis": "x126",
         "y": [
          "have  ",
          "very  ",
          "is  ",
          "doctors  ",
          "neurologist  ",
          "been  ",
          "always  ",
          "dr  ",
          "medical  ",
          "granger  "
         ],
         "yaxis": "y126"
        },
        {
         "marker": {
          "color": "#D55E00"
         },
         "orientation": "h",
         "type": "bar",
         "x": [
          0.01490642628543855,
          0.01707253341796851,
          0.018483433792566336,
          0.022309860454487854,
          0.025223054746398355,
          0.02778763276937195,
          0.032503940527366444,
          0.037274049038689465,
          0.04004988014850749,
          0.18486396039188502
         ],
         "xaxis": "x127",
         "y": [
          "fresh  ",
          "food  ",
          "organics  ",
          "store  ",
          "section  ",
          "products  ",
          "produce  ",
          "foods  ",
          "selection  ",
          "organic  "
         ],
         "yaxis": "y127"
        },
        {
         "marker": {
          "color": "#0072B2"
         },
         "orientation": "h",
         "type": "bar",
         "x": [
          0.00804340996955826,
          0.008329296711672688,
          0.008679861561250711,
          0.008787713634669346,
          0.00927824868955855,
          0.009815448639853093,
          0.011289733987792238,
          0.013423766793400606,
          0.020194894854183687,
          0.10750863583649956
         ],
         "xaxis": "x128",
         "y": [
          "their  ",
          "account  ",
          "healthcare  ",
          "customer  ",
          "coverage  ",
          "pay  ",
          "company  ",
          "insurance  ",
          "marketplace  ",
          "molina  "
         ],
         "yaxis": "y128"
        },
        {
         "marker": {
          "color": "#CC79A7"
         },
         "orientation": "h",
         "type": "bar",
         "x": [
          0.012059634111980503,
          0.012873376019551496,
          0.013283639682493967,
          0.014568522434748231,
          0.015133058329524572,
          0.016493120530265803,
          0.016988250244215335,
          0.01818903319095463,
          0.025232779081843657,
          0.15734651083797455
         ],
         "xaxis": "x129",
         "y": [
          "produce  ",
          "items  ",
          "prices  ",
          "shop  ",
          "selection  ",
          "stores  ",
          "grocery  ",
          "love  ",
          "store  ",
          "harmons  "
         ],
         "yaxis": "y129"
        },
        {
         "marker": {
          "color": "#E69F00"
         },
         "orientation": "h",
         "type": "bar",
         "x": [
          0.009634456999878695,
          0.009876105352572532,
          0.011454406332862464,
          0.011613822445016285,
          0.01282059535675704,
          0.015786339049292497,
          0.016170511564730768,
          0.01627514638332118,
          0.04246936858613119,
          0.060924707654173245
         ],
         "xaxis": "x130",
         "y": [
          "products  ",
          "she  ",
          "amazing  ",
          "utah  ",
          "spa  ",
          "face  ",
          "plastics  ",
          "facials  ",
          "skin  ",
          "facial  "
         ],
         "yaxis": "y130"
        },
        {
         "marker": {
          "color": "#56B4E9"
         },
         "orientation": "h",
         "type": "bar",
         "x": [
          0.007965660164146198,
          0.007980508502772892,
          0.008262056290997489,
          0.010861839981000241,
          0.011256732613770902,
          0.013101413687046405,
          0.014282394809226258,
          0.01725890569041345,
          0.018333464015991032,
          0.024222936235812852
         ],
         "xaxis": "x131",
         "y": [
          "would  ",
          "if  ",
          "they  ",
          "prescriptions  ",
          "zero  ",
          "give  ",
          "prescription  ",
          "star  ",
          "pharmacy  ",
          "stars  "
         ],
         "yaxis": "y131"
        },
        {
         "marker": {
          "color": "#009E73"
         },
         "orientation": "h",
         "type": "bar",
         "x": [
          0.011079249695890452,
          0.011561583303709606,
          0.011649079012266564,
          0.011799024300514415,
          0.01217010444894421,
          0.012374820438903153,
          0.01742032989765631,
          0.021794959278055307,
          0.026165591998156438,
          0.03212983176687384
         ],
         "xaxis": "x132",
         "y": [
          "filthy  ",
          "room  ",
          "clean  ",
          "toilet  ",
          "restrooms  ",
          "disgusting  ",
          "restroom  ",
          "bathrooms  ",
          "dirty  ",
          "bathroom  "
         ],
         "yaxis": "y132"
        },
        {
         "marker": {
          "color": "#F0E442"
         },
         "orientation": "h",
         "type": "bar",
         "x": [
          0.015008382177105392,
          0.015692011942036004,
          0.01813110465794689,
          0.02421181810067655,
          0.02431643257929386,
          0.026217623138835477,
          0.03147658341373441,
          0.034029280884934766,
          0.1400692081947852,
          0.15471980432436952
         ],
         "xaxis": "x133",
         "y": [
          "chicken  ",
          "love  ",
          "fresh  ",
          "salads  ",
          "hot  ",
          "deli  ",
          "food  ",
          "lunch  ",
          "bar  ",
          "salad  "
         ],
         "yaxis": "y133"
        },
        {
         "marker": {
          "color": "#D55E00"
         },
         "orientation": "h",
         "type": "bar",
         "x": [
          0.013077049681624625,
          0.013247024258990846,
          0.013529518548688576,
          0.013609129022394816,
          0.014857374756220142,
          0.0189965514436247,
          0.022239983232720383,
          0.022933881035299596,
          0.032794255186909115,
          0.07946782111146768
         ],
         "xaxis": "x134",
         "y": [
          "pregnant  ",
          "information  ",
          "center  ",
          "women  ",
          "provide  ",
          "planned  ",
          "parenthood  ",
          "abortions  ",
          "pregnancy  ",
          "abortion  "
         ],
         "yaxis": "y134"
        },
        {
         "marker": {
          "color": "#0072B2"
         },
         "orientation": "h",
         "type": "bar",
         "x": [
          0.009912241378123497,
          0.010901231622296541,
          0.01146692743896609,
          0.012180537538165306,
          0.012727407856728089,
          0.013110978116492977,
          0.01436602820690209,
          0.015956359641770907,
          0.02759825456298133,
          0.08445461825133459
         ],
         "xaxis": "x135",
         "y": [
          "great  ",
          "process  ",
          "thank  ",
          "experience  ",
          "excited  ",
          "journey  ",
          "smiles  ",
          "club  ",
          "direct  ",
          "smile  "
         ],
         "yaxis": "y135"
        },
        {
         "marker": {
          "color": "#CC79A7"
         },
         "orientation": "h",
         "type": "bar",
         "x": [
          0.00662217695747927,
          0.0067076240417172795,
          0.007260459877346647,
          0.00776424824020092,
          0.008065533691607491,
          0.008173646458163337,
          0.008637717775021293,
          0.009661931085247058,
          0.035834358041979604,
          0.03691354881860882
         ],
         "xaxis": "x136",
         "y": [
          "star  ",
          "leave  ",
          "fake  ",
          "this  ",
          "bad  ",
          "write  ",
          "google  ",
          "negative  ",
          "review  ",
          "reviews  "
         ],
         "yaxis": "y136"
        },
        {
         "marker": {
          "color": "#E69F00"
         },
         "orientation": "h",
         "type": "bar",
         "x": [
          0.009261470795349225,
          0.012426400344415056,
          0.012572118794518613,
          0.013221575830880381,
          0.017820413915305686,
          0.022005211715936328,
          0.0296951827288961,
          0.03648560254546866,
          0.03799292543663845,
          0.15221137448053831
         ],
         "xaxis": "x137",
         "y": [
          "it  ",
          "frosting  ",
          "chocolate  ",
          "party  ",
          "order  ",
          "ordered  ",
          "cakes  ",
          "birthday  ",
          "bakery  ",
          "cake  "
         ],
         "yaxis": "y137"
        },
        {
         "marker": {
          "color": "#56B4E9"
         },
         "orientation": "h",
         "type": "bar",
         "x": [
          0.00799974422861743,
          0.008984208124714819,
          0.00965743583620588,
          0.01477492758595532,
          0.016859916312814183,
          0.017133490723780967,
          0.017707911627100458,
          0.01877527640367773,
          0.03528218056555055,
          0.08270469054352225
         ],
         "xaxis": "x138",
         "y": [
          "girl  ",
          "acrylic  ",
          "done  ",
          "pedicure  ",
          "manicure  ",
          "salon  ",
          "gel  ",
          "polish  ",
          "nail  ",
          "nails  "
         ],
         "yaxis": "y138"
        },
        {
         "marker": {
          "color": "#009E73"
         },
         "orientation": "h",
         "type": "bar",
         "x": [
          0.006314531861914817,
          0.0065107993162977044,
          0.0069804845618216356,
          0.007056757325746053,
          0.007078439428081293,
          0.007969956708144404,
          0.008984315948691745,
          0.00916237707306437,
          0.011623792567099174,
          0.01561249632874617
         ],
         "xaxis": "x139",
         "y": [
          "that  ",
          "our  ",
          "he  ",
          "him  ",
          "we  ",
          "she  ",
          "daughter  ",
          "her  ",
          "son  ",
          "child  "
         ],
         "yaxis": "y139"
        },
        {
         "marker": {
          "color": "#F0E442"
         },
         "orientation": "h",
         "type": "bar",
         "x": [
          0.011943591041697472,
          0.012089424882087389,
          0.012344882159863114,
          0.013840077115089604,
          0.018362792523018458,
          0.02115649354365293,
          0.022334223591984052,
          0.03690189889994091,
          0.044358634266237706,
          0.060489301149372385
         ],
         "xaxis": "x140",
         "y": [
          "she  ",
          "extensions  ",
          "eyelash  ",
          "look  ",
          "lash  ",
          "eyebrow  ",
          "microblading  ",
          "eyebrows  ",
          "brows  ",
          "lashes  "
         ],
         "yaxis": "y140"
        },
        {
         "marker": {
          "color": "#D55E00"
         },
         "orientation": "h",
         "type": "bar",
         "x": [
          0.009444789683689392,
          0.009767556728450026,
          0.01052643609922398,
          0.011060415878423454,
          0.011999464978224022,
          0.012994966894099947,
          0.014226239320016773,
          0.014368302253613983,
          0.022270541773623073,
          0.06553098614264197
         ],
         "xaxis": "x141",
         "y": [
          "hrs  ",
          "sports  ",
          "exam  ",
          "waited  ",
          "for  ",
          "waiting  ",
          "hour  ",
          "wait  ",
          "hours  ",
          "physical  "
         ],
         "yaxis": "y141"
        },
        {
         "marker": {
          "color": "#0072B2"
         },
         "orientation": "h",
         "type": "bar",
         "x": [
          0.006061337261345799,
          0.00614719817365124,
          0.006422059701111388,
          0.006608035724485392,
          0.006853818274630296,
          0.006937989853293916,
          0.006986389564917947,
          0.007043366263883584,
          0.008034494245168932,
          0.03524039301862763
         ],
         "xaxis": "x142",
         "y": [
          "and  ",
          "with  ",
          "management  ",
          "have  ",
          "you  ",
          "help  ",
          "relief  ",
          "dr  ",
          "chronic  ",
          "pain  "
         ],
         "yaxis": "y142"
        },
        {
         "marker": {
          "color": "#CC79A7"
         },
         "orientation": "h",
         "type": "bar",
         "x": [
          0.006490560115793482,
          0.006510371825939636,
          0.006741608250654286,
          0.0071672961564955475,
          0.007878802738512521,
          0.00944758533993059,
          0.010131519292833535,
          0.01634726499619057,
          0.05779661740028205,
          0.08820286923861899
         ],
         "xaxis": "x143",
         "y": [
          "labs  ",
          "was  ",
          "primary  ",
          "to  ",
          "appointment  ",
          "visit  ",
          "easy  ",
          "care  ",
          "zoomcare  ",
          "zoom  "
         ],
         "yaxis": "y143"
        },
        {
         "marker": {
          "color": "#E69F00"
         },
         "orientation": "h",
         "type": "bar",
         "x": [
          0.006688371656946714,
          0.007072942217891852,
          0.007356353392767044,
          0.007904532869012137,
          0.007965835654656321,
          0.008364899673152307,
          0.009888980446506507,
          0.01041654685120869,
          0.013910468780185635,
          0.05867577163645492
         ],
         "xaxis": "x144",
         "y": [
          "migraine  ",
          "my  ",
          "ndbc  ",
          "balance  ",
          "pt  ",
          "headaches  ",
          "symptoms  ",
          "dizzy  ",
          "dizziness  ",
          "vertigo  "
         ],
         "yaxis": "y144"
        },
        {
         "marker": {
          "color": "#56B4E9"
         },
         "orientation": "h",
         "type": "bar",
         "x": [
          0.006024974060195289,
          0.006312891119367024,
          0.006366281374591889,
          0.00640625466354504,
          0.006470880322113741,
          0.006591953297128609,
          0.0066539289155531905,
          0.006884094192720843,
          0.008074168458550208,
          0.029748553329661545
         ],
         "xaxis": "x145",
         "y": [
          "but  ",
          "care  ",
          "not  ",
          "do  ",
          "with  ",
          "you  ",
          "very  ",
          "service  ",
          "they  ",
          "insurance  "
         ],
         "yaxis": "y145"
        },
        {
         "marker": {
          "color": "#009E73"
         },
         "orientation": "h",
         "type": "bar",
         "x": [
          0.00718967310140857,
          0.0073421884511266225,
          0.011676632634496198,
          0.011724596198974703,
          0.012759141856346296,
          0.013752078295378813,
          0.026548087147505027,
          0.03518629546807649,
          0.03906326592079625,
          0.07161300178148367
         ],
         "xaxis": "x146",
         "y": [
          "it  ",
          "results  ",
          "treatments  ",
          "ink  ",
          "skin  ",
          "treatment  ",
          "hair  ",
          "removal  ",
          "tattoo  ",
          "laser  "
         ],
         "yaxis": "y146"
        },
        {
         "marker": {
          "color": "#F0E442"
         },
         "orientation": "h",
         "type": "bar",
         "x": [
          0.008313643235346958,
          0.009131746168262822,
          0.00943029044092809,
          0.009800663944201229,
          0.011000690946625718,
          0.012628653705717271,
          0.012744164329803818,
          0.0135682197280654,
          0.014843608342404335,
          0.023718340073385955
         ],
         "xaxis": "x147",
         "y": [
          "there  ",
          "hours  ",
          "they  ",
          "door  ",
          "at  ",
          "closing  ",
          "close  ",
          "closed  ",
          "open  ",
          "pm  "
         ],
         "yaxis": "y147"
        },
        {
         "marker": {
          "color": "#D55E00"
         },
         "orientation": "h",
         "type": "bar",
         "x": [
          0.016121620532390638,
          0.016249487042332825,
          0.016703564554620656,
          0.017351080913046782,
          0.01876412471263048,
          0.01997542310606103,
          0.021791970412877046,
          0.02370863557745369,
          0.02858078441904389,
          0.20352965691849295
         ],
         "xaxis": "x148",
         "y": [
          "local  ",
          "community  ",
          "market  ",
          "grocery  ",
          "always  ",
          "store  ",
          "produce  ",
          "shopping  ",
          "love  ",
          "lees  "
         ],
         "yaxis": "y148"
        },
        {
         "marker": {
          "color": "#0072B2"
         },
         "orientation": "h",
         "type": "bar",
         "x": [
          0.013299103545463683,
          0.016025080256309193,
          0.018733800441088518,
          0.019467564803403264,
          0.020330724647066603,
          0.026759830835476003,
          0.04283242025298692,
          0.050368209413902125,
          0.05820429459403954,
          0.08395524846771474
         ],
         "xaxis": "x149",
         "y": [
          "and  ",
          "get  ",
          "minutes  ",
          "quickly  ",
          "got  ",
          "easy  ",
          "in  ",
          "fast  ",
          "quick  ",
          "out  "
         ],
         "yaxis": "y149"
        },
        {
         "marker": {
          "color": "#CC79A7"
         },
         "orientation": "h",
         "type": "bar",
         "x": [
          0.009008979000838491,
          0.010056710895853813,
          0.010182225383104754,
          0.01183481725102222,
          0.01207760796061628,
          0.015034887537157425,
          0.017822049760858247,
          0.020909709337910462,
          0.06867386315796836,
          0.08816297230078052
         ],
         "xaxis": "x150",
         "y": [
          "chamber  ",
          "feel  ",
          "compression  ",
          "try  ",
          "thrive  ",
          "body  ",
          "session  ",
          "restore  ",
          "cryo  ",
          "cryotherapy  "
         ],
         "yaxis": "y150"
        },
        {
         "marker": {
          "color": "#E69F00"
         },
         "orientation": "h",
         "type": "bar",
         "x": [
          0.009796968907517679,
          0.01079952662233671,
          0.011334106814833395,
          0.011351854169001889,
          0.012779482882400772,
          0.01485035271934946,
          0.0152265239876579,
          0.02036341405632703,
          0.05171399938567478,
          0.07216151427936748
         ],
         "xaxis": "x151",
         "y": [
          "line  ",
          "hours  ",
          "poor  ",
          "time  ",
          "waiting  ",
          "long  ",
          "customer  ",
          "wait  ",
          "service  ",
          "slow  "
         ],
         "yaxis": "y151"
        },
        {
         "marker": {
          "color": "#56B4E9"
         },
         "orientation": "h",
         "type": "bar",
         "x": [
          0.0070629795720385845,
          0.007125138273816361,
          0.007399178513403553,
          0.008145546216132638,
          0.010437702253160864,
          0.010459634675586332,
          0.012503557131049867,
          0.013751216531231578,
          0.019573994480078908,
          0.0294974266392068
         ],
         "xaxis": "x152",
         "y": [
          "years  ",
          "with  ",
          "helped  ",
          "my  ",
          "spine  ",
          "dr  ",
          "neck  ",
          "lower  ",
          "back  ",
          "pain  "
         ],
         "yaxis": "y152"
        },
        {
         "marker": {
          "color": "#009E73"
         },
         "orientation": "h",
         "type": "bar",
         "x": [
          0.014510804361526656,
          0.014741052416356403,
          0.01584624533355608,
          0.01626144532568593,
          0.018005938636367663,
          0.01816317346608339,
          0.019678840793771454,
          0.020233960512733462,
          0.025548403422821775,
          0.16183414575281507
         ],
         "xaxis": "x153",
         "y": [
          "very  ",
          "que  ",
          "him  ",
          "spanish  ",
          "process  ",
          "awesome  ",
          "he  ",
          "excited  ",
          "daniel  ",
          "miguel  "
         ],
         "yaxis": "y153"
        },
        {
         "marker": {
          "color": "#F0E442"
         },
         "orientation": "h",
         "type": "bar",
         "x": [
          0.015073421809236183,
          0.015436811803563379,
          0.019341237745706025,
          0.01935764680509842,
          0.03298901704361495,
          0.03485484229006918,
          0.04888082603402196,
          0.06953786523952868,
          0.08086729609157821,
          0.1216887898904735
         ],
         "xaxis": "x154",
         "y": [
          "super  ",
          "nice  ",
          "convenient  ",
          "slow  ",
          "very  ",
          "friendly  ",
          "easy  ",
          "efficient  ",
          "quick  ",
          "fast  "
         ],
         "yaxis": "y154"
        },
        {
         "marker": {
          "color": "#D55E00"
         },
         "orientation": "h",
         "type": "bar",
         "x": [
          0.008337857211347588,
          0.00862751395123152,
          0.009104886088530285,
          0.010811604242946526,
          0.0124836236370218,
          0.014608918081424152,
          0.0176748031225826,
          0.017769229154180943,
          0.02652272228245356,
          0.06288176235565228
         ],
         "xaxis": "x155",
         "y": [
          "my  ",
          "injury  ",
          "replacement  ",
          "pain  ",
          "he  ",
          "dr  ",
          "rotator  ",
          "cuff  ",
          "surgery  ",
          "shoulder  "
         ],
         "yaxis": "y155"
        },
        {
         "marker": {
          "color": "#0072B2"
         },
         "orientation": "h",
         "type": "bar",
         "x": [
          0.014377023879032459,
          0.015079980884250601,
          0.017274614296686846,
          0.019484198827148344,
          0.033022372726382525,
          0.04103454314674619,
          0.04262234743744466,
          0.05320805312304805,
          0.05731084985220338,
          0.11852920697555784
         ],
         "xaxis": "x156",
         "y": [
          "love  ",
          "product  ",
          "mlm  ",
          "quality  ",
          "oil  ",
          "essential  ",
          "products  ",
          "bloom  ",
          "jade  ",
          "oils  "
         ],
         "yaxis": "y156"
        },
        {
         "marker": {
          "color": "#CC79A7"
         },
         "orientation": "h",
         "type": "bar",
         "x": [
          0.0076906718817706205,
          0.008131215864706474,
          0.008363877902052043,
          0.009293512249198383,
          0.009350166283013522,
          0.009555711586041477,
          0.01037102407574726,
          0.011471038335806455,
          0.018530740711327476,
          0.04931214203169065
         ],
         "xaxis": "x157",
         "y": [
          "take  ",
          "health  ",
          "not  ",
          "do  ",
          "insurance  ",
          "you  ",
          "they  ",
          "accept  ",
          "medicare  ",
          "medicaid  "
         ],
         "yaxis": "y157"
        },
        {
         "marker": {
          "color": "#E69F00"
         },
         "orientation": "h",
         "type": "bar",
         "x": [
          0.007965917265142305,
          0.00810082718721653,
          0.008490955145759352,
          0.008669393651305837,
          0.008808208070077338,
          0.009018792331192274,
          0.009081307685125892,
          0.009553535449962491,
          0.013135714020170466,
          0.016624915283577124
         ],
         "xaxis": "x158",
         "y": [
          "place  ",
          "not  ",
          "patient  ",
          "their  ",
          "are  ",
          "they  ",
          "doctors  ",
          "do  ",
          "care  ",
          "patients  "
         ],
         "yaxis": "y158"
        },
        {
         "marker": {
          "color": "#56B4E9"
         },
         "orientation": "h",
         "type": "bar",
         "x": [
          0.013726494802283228,
          0.013741566849932975,
          0.014203232692463654,
          0.015379152684502316,
          0.020145111095695608,
          0.023265418166753125,
          0.03319074310554081,
          0.03451348128802063,
          0.03866077791436986,
          0.2001937311150669
         ],
         "xaxis": "x159",
         "y": [
          "people  ",
          "warm  ",
          "relaxed  ",
          "relaxing  ",
          "very  ",
          "nice  ",
          "friendly  ",
          "great  ",
          "environment  ",
          "atmosphere  "
         ],
         "yaxis": "y159"
        },
        {
         "marker": {
          "color": "#009E73"
         },
         "orientation": "h",
         "type": "bar",
         "x": [
          0.007196540426423765,
          0.007789042410095913,
          0.008612706481812405,
          0.01034023901502734,
          0.010352245972175626,
          0.010435716574210564,
          0.01049627578207499,
          0.011259718274609254,
          0.011563820796719507,
          0.015744488620686205
         ],
         "xaxis": "x160",
         "y": [
          "treatment  ",
          "you  ",
          "help  ",
          "sober  ",
          "rehab  ",
          "detox  ",
          "recovery  ",
          "program  ",
          "life  ",
          "addiction  "
         ],
         "yaxis": "y160"
        },
        {
         "marker": {
          "color": "#F0E442"
         },
         "orientation": "h",
         "type": "bar",
         "x": [
          0.007635126233401488,
          0.007933898481478546,
          0.008475139122650403,
          0.009264622742647596,
          0.011389819143757482,
          0.012275040780167635,
          0.013536960336219993,
          0.017353092921745507,
          0.020017917439532556,
          0.0355238270832261
         ],
         "xaxis": "x161",
         "y": [
          "neck  ",
          "motion  ",
          "my  ",
          "pt  ",
          "pain  ",
          "injury  ",
          "physical  ",
          "therapy  ",
          "exercises  ",
          "shoulder  "
         ],
         "yaxis": "y161"
        },
        {
         "marker": {
          "color": "#D55E00"
         },
         "orientation": "h",
         "type": "bar",
         "x": [
          0.0168879351866669,
          0.01813760844353978,
          0.01873889447623224,
          0.021484239563962698,
          0.02285419914934595,
          0.023152331170390172,
          0.024704067335272695,
          0.028574121370982728,
          0.06152093976677277,
          0.14725387599584516
         ],
         "xaxis": "x162",
         "y": [
          "high  ",
          "pricey  ",
          "friendly  ",
          "very  ",
          "selection  ",
          "nice  ",
          "expensive  ",
          "good  ",
          "prices  ",
          "clean  "
         ],
         "yaxis": "y162"
        },
        {
         "marker": {
          "color": "#0072B2"
         },
         "orientation": "h",
         "type": "bar",
         "x": [
          0.016873988656075395,
          0.018081120733952235,
          0.019142874708609342,
          0.026392354372720125,
          0.026543921736307957,
          0.02995633504380279,
          0.03269407883802367,
          0.035717508627724374,
          0.04143797242887499,
          0.09042756915936317
         ],
         "xaxis": "x163",
         "y": [
          "route  ",
          "gyms  ",
          "rope  ",
          "bouldering  ",
          "ve  ",
          "climb  ",
          "gym  ",
          "belay  ",
          "routes  ",
          "climbing  "
         ],
         "yaxis": "y163"
        }
       ],
       "layout": {
        "annotations": [
         {
          "font": {
           "size": 16
          },
          "showarrow": false,
          "text": "Topic 0",
          "x": 0.0875,
          "xanchor": "center",
          "xref": "paper",
          "y": 1,
          "yanchor": "bottom",
          "yref": "paper"
         },
         {
          "font": {
           "size": 16
          },
          "showarrow": false,
          "text": "Topic 1",
          "x": 0.36250000000000004,
          "xanchor": "center",
          "xref": "paper",
          "y": 1,
          "yanchor": "bottom",
          "yref": "paper"
         },
         {
          "font": {
           "size": 16
          },
          "showarrow": false,
          "text": "Topic 2",
          "x": 0.6375000000000001,
          "xanchor": "center",
          "xref": "paper",
          "y": 1,
          "yanchor": "bottom",
          "yref": "paper"
         },
         {
          "font": {
           "size": 16
          },
          "showarrow": false,
          "text": "Topic 3",
          "x": 0.9125,
          "xanchor": "center",
          "xref": "paper",
          "y": 1,
          "yanchor": "bottom",
          "yref": "paper"
         },
         {
          "font": {
           "size": 16
          },
          "showarrow": false,
          "text": "Topic 4",
          "x": 0.0875,
          "xanchor": "center",
          "xref": "paper",
          "y": 0.9753718024985129,
          "yanchor": "bottom",
          "yref": "paper"
         },
         {
          "font": {
           "size": 16
          },
          "showarrow": false,
          "text": "Topic 5",
          "x": 0.36250000000000004,
          "xanchor": "center",
          "xref": "paper",
          "y": 0.9753718024985129,
          "yanchor": "bottom",
          "yref": "paper"
         },
         {
          "font": {
           "size": 16
          },
          "showarrow": false,
          "text": "Topic 6",
          "x": 0.6375000000000001,
          "xanchor": "center",
          "xref": "paper",
          "y": 0.9753718024985129,
          "yanchor": "bottom",
          "yref": "paper"
         },
         {
          "font": {
           "size": 16
          },
          "showarrow": false,
          "text": "Topic 7",
          "x": 0.9125,
          "xanchor": "center",
          "xref": "paper",
          "y": 0.9753718024985129,
          "yanchor": "bottom",
          "yref": "paper"
         },
         {
          "font": {
           "size": 16
          },
          "showarrow": false,
          "text": "Topic 8",
          "x": 0.0875,
          "xanchor": "center",
          "xref": "paper",
          "y": 0.9507436049970256,
          "yanchor": "bottom",
          "yref": "paper"
         },
         {
          "font": {
           "size": 16
          },
          "showarrow": false,
          "text": "Topic 9",
          "x": 0.36250000000000004,
          "xanchor": "center",
          "xref": "paper",
          "y": 0.9507436049970256,
          "yanchor": "bottom",
          "yref": "paper"
         },
         {
          "font": {
           "size": 16
          },
          "showarrow": false,
          "text": "Topic 10",
          "x": 0.6375000000000001,
          "xanchor": "center",
          "xref": "paper",
          "y": 0.9507436049970256,
          "yanchor": "bottom",
          "yref": "paper"
         },
         {
          "font": {
           "size": 16
          },
          "showarrow": false,
          "text": "Topic 11",
          "x": 0.9125,
          "xanchor": "center",
          "xref": "paper",
          "y": 0.9507436049970256,
          "yanchor": "bottom",
          "yref": "paper"
         },
         {
          "font": {
           "size": 16
          },
          "showarrow": false,
          "text": "Topic 12",
          "x": 0.0875,
          "xanchor": "center",
          "xref": "paper",
          "y": 0.9261154074955383,
          "yanchor": "bottom",
          "yref": "paper"
         },
         {
          "font": {
           "size": 16
          },
          "showarrow": false,
          "text": "Topic 13",
          "x": 0.36250000000000004,
          "xanchor": "center",
          "xref": "paper",
          "y": 0.9261154074955383,
          "yanchor": "bottom",
          "yref": "paper"
         },
         {
          "font": {
           "size": 16
          },
          "showarrow": false,
          "text": "Topic 14",
          "x": 0.6375000000000001,
          "xanchor": "center",
          "xref": "paper",
          "y": 0.9261154074955383,
          "yanchor": "bottom",
          "yref": "paper"
         },
         {
          "font": {
           "size": 16
          },
          "showarrow": false,
          "text": "Topic 15",
          "x": 0.9125,
          "xanchor": "center",
          "xref": "paper",
          "y": 0.9261154074955383,
          "yanchor": "bottom",
          "yref": "paper"
         },
         {
          "font": {
           "size": 16
          },
          "showarrow": false,
          "text": "Topic 16",
          "x": 0.0875,
          "xanchor": "center",
          "xref": "paper",
          "y": 0.9014872099940511,
          "yanchor": "bottom",
          "yref": "paper"
         },
         {
          "font": {
           "size": 16
          },
          "showarrow": false,
          "text": "Topic 17",
          "x": 0.36250000000000004,
          "xanchor": "center",
          "xref": "paper",
          "y": 0.9014872099940511,
          "yanchor": "bottom",
          "yref": "paper"
         },
         {
          "font": {
           "size": 16
          },
          "showarrow": false,
          "text": "Topic 18",
          "x": 0.6375000000000001,
          "xanchor": "center",
          "xref": "paper",
          "y": 0.9014872099940511,
          "yanchor": "bottom",
          "yref": "paper"
         },
         {
          "font": {
           "size": 16
          },
          "showarrow": false,
          "text": "Topic 19",
          "x": 0.9125,
          "xanchor": "center",
          "xref": "paper",
          "y": 0.9014872099940511,
          "yanchor": "bottom",
          "yref": "paper"
         },
         {
          "font": {
           "size": 16
          },
          "showarrow": false,
          "text": "Topic 20",
          "x": 0.0875,
          "xanchor": "center",
          "xref": "paper",
          "y": 0.8768590124925639,
          "yanchor": "bottom",
          "yref": "paper"
         },
         {
          "font": {
           "size": 16
          },
          "showarrow": false,
          "text": "Topic 21",
          "x": 0.36250000000000004,
          "xanchor": "center",
          "xref": "paper",
          "y": 0.8768590124925639,
          "yanchor": "bottom",
          "yref": "paper"
         },
         {
          "font": {
           "size": 16
          },
          "showarrow": false,
          "text": "Topic 22",
          "x": 0.6375000000000001,
          "xanchor": "center",
          "xref": "paper",
          "y": 0.8768590124925639,
          "yanchor": "bottom",
          "yref": "paper"
         },
         {
          "font": {
           "size": 16
          },
          "showarrow": false,
          "text": "Topic 23",
          "x": 0.9125,
          "xanchor": "center",
          "xref": "paper",
          "y": 0.8768590124925639,
          "yanchor": "bottom",
          "yref": "paper"
         },
         {
          "font": {
           "size": 16
          },
          "showarrow": false,
          "text": "Topic 24",
          "x": 0.0875,
          "xanchor": "center",
          "xref": "paper",
          "y": 0.8522308149910767,
          "yanchor": "bottom",
          "yref": "paper"
         },
         {
          "font": {
           "size": 16
          },
          "showarrow": false,
          "text": "Topic 25",
          "x": 0.36250000000000004,
          "xanchor": "center",
          "xref": "paper",
          "y": 0.8522308149910767,
          "yanchor": "bottom",
          "yref": "paper"
         },
         {
          "font": {
           "size": 16
          },
          "showarrow": false,
          "text": "Topic 26",
          "x": 0.6375000000000001,
          "xanchor": "center",
          "xref": "paper",
          "y": 0.8522308149910767,
          "yanchor": "bottom",
          "yref": "paper"
         },
         {
          "font": {
           "size": 16
          },
          "showarrow": false,
          "text": "Topic 27",
          "x": 0.9125,
          "xanchor": "center",
          "xref": "paper",
          "y": 0.8522308149910767,
          "yanchor": "bottom",
          "yref": "paper"
         },
         {
          "font": {
           "size": 16
          },
          "showarrow": false,
          "text": "Topic 28",
          "x": 0.0875,
          "xanchor": "center",
          "xref": "paper",
          "y": 0.8276026174895894,
          "yanchor": "bottom",
          "yref": "paper"
         },
         {
          "font": {
           "size": 16
          },
          "showarrow": false,
          "text": "Topic 29",
          "x": 0.36250000000000004,
          "xanchor": "center",
          "xref": "paper",
          "y": 0.8276026174895894,
          "yanchor": "bottom",
          "yref": "paper"
         },
         {
          "font": {
           "size": 16
          },
          "showarrow": false,
          "text": "Topic 30",
          "x": 0.6375000000000001,
          "xanchor": "center",
          "xref": "paper",
          "y": 0.8276026174895894,
          "yanchor": "bottom",
          "yref": "paper"
         },
         {
          "font": {
           "size": 16
          },
          "showarrow": false,
          "text": "Topic 31",
          "x": 0.9125,
          "xanchor": "center",
          "xref": "paper",
          "y": 0.8276026174895894,
          "yanchor": "bottom",
          "yref": "paper"
         },
         {
          "font": {
           "size": 16
          },
          "showarrow": false,
          "text": "Topic 32",
          "x": 0.0875,
          "xanchor": "center",
          "xref": "paper",
          "y": 0.8029744199881022,
          "yanchor": "bottom",
          "yref": "paper"
         },
         {
          "font": {
           "size": 16
          },
          "showarrow": false,
          "text": "Topic 33",
          "x": 0.36250000000000004,
          "xanchor": "center",
          "xref": "paper",
          "y": 0.8029744199881022,
          "yanchor": "bottom",
          "yref": "paper"
         },
         {
          "font": {
           "size": 16
          },
          "showarrow": false,
          "text": "Topic 34",
          "x": 0.6375000000000001,
          "xanchor": "center",
          "xref": "paper",
          "y": 0.8029744199881022,
          "yanchor": "bottom",
          "yref": "paper"
         },
         {
          "font": {
           "size": 16
          },
          "showarrow": false,
          "text": "Topic 35",
          "x": 0.9125,
          "xanchor": "center",
          "xref": "paper",
          "y": 0.8029744199881022,
          "yanchor": "bottom",
          "yref": "paper"
         },
         {
          "font": {
           "size": 16
          },
          "showarrow": false,
          "text": "Topic 36",
          "x": 0.0875,
          "xanchor": "center",
          "xref": "paper",
          "y": 0.778346222486615,
          "yanchor": "bottom",
          "yref": "paper"
         },
         {
          "font": {
           "size": 16
          },
          "showarrow": false,
          "text": "Topic 37",
          "x": 0.36250000000000004,
          "xanchor": "center",
          "xref": "paper",
          "y": 0.778346222486615,
          "yanchor": "bottom",
          "yref": "paper"
         },
         {
          "font": {
           "size": 16
          },
          "showarrow": false,
          "text": "Topic 38",
          "x": 0.6375000000000001,
          "xanchor": "center",
          "xref": "paper",
          "y": 0.778346222486615,
          "yanchor": "bottom",
          "yref": "paper"
         },
         {
          "font": {
           "size": 16
          },
          "showarrow": false,
          "text": "Topic 39",
          "x": 0.9125,
          "xanchor": "center",
          "xref": "paper",
          "y": 0.778346222486615,
          "yanchor": "bottom",
          "yref": "paper"
         },
         {
          "font": {
           "size": 16
          },
          "showarrow": false,
          "text": "Topic 40",
          "x": 0.0875,
          "xanchor": "center",
          "xref": "paper",
          "y": 0.7537180249851279,
          "yanchor": "bottom",
          "yref": "paper"
         },
         {
          "font": {
           "size": 16
          },
          "showarrow": false,
          "text": "Topic 41",
          "x": 0.36250000000000004,
          "xanchor": "center",
          "xref": "paper",
          "y": 0.7537180249851279,
          "yanchor": "bottom",
          "yref": "paper"
         },
         {
          "font": {
           "size": 16
          },
          "showarrow": false,
          "text": "Topic 42",
          "x": 0.6375000000000001,
          "xanchor": "center",
          "xref": "paper",
          "y": 0.7537180249851279,
          "yanchor": "bottom",
          "yref": "paper"
         },
         {
          "font": {
           "size": 16
          },
          "showarrow": false,
          "text": "Topic 43",
          "x": 0.9125,
          "xanchor": "center",
          "xref": "paper",
          "y": 0.7537180249851279,
          "yanchor": "bottom",
          "yref": "paper"
         },
         {
          "font": {
           "size": 16
          },
          "showarrow": false,
          "text": "Topic 44",
          "x": 0.0875,
          "xanchor": "center",
          "xref": "paper",
          "y": 0.7290898274836406,
          "yanchor": "bottom",
          "yref": "paper"
         },
         {
          "font": {
           "size": 16
          },
          "showarrow": false,
          "text": "Topic 45",
          "x": 0.36250000000000004,
          "xanchor": "center",
          "xref": "paper",
          "y": 0.7290898274836406,
          "yanchor": "bottom",
          "yref": "paper"
         },
         {
          "font": {
           "size": 16
          },
          "showarrow": false,
          "text": "Topic 46",
          "x": 0.6375000000000001,
          "xanchor": "center",
          "xref": "paper",
          "y": 0.7290898274836406,
          "yanchor": "bottom",
          "yref": "paper"
         },
         {
          "font": {
           "size": 16
          },
          "showarrow": false,
          "text": "Topic 47",
          "x": 0.9125,
          "xanchor": "center",
          "xref": "paper",
          "y": 0.7290898274836406,
          "yanchor": "bottom",
          "yref": "paper"
         },
         {
          "font": {
           "size": 16
          },
          "showarrow": false,
          "text": "Topic 48",
          "x": 0.0875,
          "xanchor": "center",
          "xref": "paper",
          "y": 0.7044616299821534,
          "yanchor": "bottom",
          "yref": "paper"
         },
         {
          "font": {
           "size": 16
          },
          "showarrow": false,
          "text": "Topic 49",
          "x": 0.36250000000000004,
          "xanchor": "center",
          "xref": "paper",
          "y": 0.7044616299821534,
          "yanchor": "bottom",
          "yref": "paper"
         },
         {
          "font": {
           "size": 16
          },
          "showarrow": false,
          "text": "Topic 50",
          "x": 0.6375000000000001,
          "xanchor": "center",
          "xref": "paper",
          "y": 0.7044616299821534,
          "yanchor": "bottom",
          "yref": "paper"
         },
         {
          "font": {
           "size": 16
          },
          "showarrow": false,
          "text": "Topic 51",
          "x": 0.9125,
          "xanchor": "center",
          "xref": "paper",
          "y": 0.7044616299821534,
          "yanchor": "bottom",
          "yref": "paper"
         },
         {
          "font": {
           "size": 16
          },
          "showarrow": false,
          "text": "Topic 52",
          "x": 0.0875,
          "xanchor": "center",
          "xref": "paper",
          "y": 0.6798334324806663,
          "yanchor": "bottom",
          "yref": "paper"
         },
         {
          "font": {
           "size": 16
          },
          "showarrow": false,
          "text": "Topic 53",
          "x": 0.36250000000000004,
          "xanchor": "center",
          "xref": "paper",
          "y": 0.6798334324806663,
          "yanchor": "bottom",
          "yref": "paper"
         },
         {
          "font": {
           "size": 16
          },
          "showarrow": false,
          "text": "Topic 54",
          "x": 0.6375000000000001,
          "xanchor": "center",
          "xref": "paper",
          "y": 0.6798334324806663,
          "yanchor": "bottom",
          "yref": "paper"
         },
         {
          "font": {
           "size": 16
          },
          "showarrow": false,
          "text": "Topic 55",
          "x": 0.9125,
          "xanchor": "center",
          "xref": "paper",
          "y": 0.6798334324806663,
          "yanchor": "bottom",
          "yref": "paper"
         },
         {
          "font": {
           "size": 16
          },
          "showarrow": false,
          "text": "Topic 56",
          "x": 0.0875,
          "xanchor": "center",
          "xref": "paper",
          "y": 0.655205234979179,
          "yanchor": "bottom",
          "yref": "paper"
         },
         {
          "font": {
           "size": 16
          },
          "showarrow": false,
          "text": "Topic 57",
          "x": 0.36250000000000004,
          "xanchor": "center",
          "xref": "paper",
          "y": 0.655205234979179,
          "yanchor": "bottom",
          "yref": "paper"
         },
         {
          "font": {
           "size": 16
          },
          "showarrow": false,
          "text": "Topic 58",
          "x": 0.6375000000000001,
          "xanchor": "center",
          "xref": "paper",
          "y": 0.655205234979179,
          "yanchor": "bottom",
          "yref": "paper"
         },
         {
          "font": {
           "size": 16
          },
          "showarrow": false,
          "text": "Topic 59",
          "x": 0.9125,
          "xanchor": "center",
          "xref": "paper",
          "y": 0.655205234979179,
          "yanchor": "bottom",
          "yref": "paper"
         },
         {
          "font": {
           "size": 16
          },
          "showarrow": false,
          "text": "Topic 60",
          "x": 0.0875,
          "xanchor": "center",
          "xref": "paper",
          "y": 0.6305770374776918,
          "yanchor": "bottom",
          "yref": "paper"
         },
         {
          "font": {
           "size": 16
          },
          "showarrow": false,
          "text": "Topic 61",
          "x": 0.36250000000000004,
          "xanchor": "center",
          "xref": "paper",
          "y": 0.6305770374776918,
          "yanchor": "bottom",
          "yref": "paper"
         },
         {
          "font": {
           "size": 16
          },
          "showarrow": false,
          "text": "Topic 62",
          "x": 0.6375000000000001,
          "xanchor": "center",
          "xref": "paper",
          "y": 0.6305770374776918,
          "yanchor": "bottom",
          "yref": "paper"
         },
         {
          "font": {
           "size": 16
          },
          "showarrow": false,
          "text": "Topic 63",
          "x": 0.9125,
          "xanchor": "center",
          "xref": "paper",
          "y": 0.6305770374776918,
          "yanchor": "bottom",
          "yref": "paper"
         },
         {
          "font": {
           "size": 16
          },
          "showarrow": false,
          "text": "Topic 64",
          "x": 0.0875,
          "xanchor": "center",
          "xref": "paper",
          "y": 0.6059488399762046,
          "yanchor": "bottom",
          "yref": "paper"
         },
         {
          "font": {
           "size": 16
          },
          "showarrow": false,
          "text": "Topic 65",
          "x": 0.36250000000000004,
          "xanchor": "center",
          "xref": "paper",
          "y": 0.6059488399762046,
          "yanchor": "bottom",
          "yref": "paper"
         },
         {
          "font": {
           "size": 16
          },
          "showarrow": false,
          "text": "Topic 66",
          "x": 0.6375000000000001,
          "xanchor": "center",
          "xref": "paper",
          "y": 0.6059488399762046,
          "yanchor": "bottom",
          "yref": "paper"
         },
         {
          "font": {
           "size": 16
          },
          "showarrow": false,
          "text": "Topic 67",
          "x": 0.9125,
          "xanchor": "center",
          "xref": "paper",
          "y": 0.6059488399762046,
          "yanchor": "bottom",
          "yref": "paper"
         },
         {
          "font": {
           "size": 16
          },
          "showarrow": false,
          "text": "Topic 68",
          "x": 0.0875,
          "xanchor": "center",
          "xref": "paper",
          "y": 0.5813206424747175,
          "yanchor": "bottom",
          "yref": "paper"
         },
         {
          "font": {
           "size": 16
          },
          "showarrow": false,
          "text": "Topic 69",
          "x": 0.36250000000000004,
          "xanchor": "center",
          "xref": "paper",
          "y": 0.5813206424747175,
          "yanchor": "bottom",
          "yref": "paper"
         },
         {
          "font": {
           "size": 16
          },
          "showarrow": false,
          "text": "Topic 70",
          "x": 0.6375000000000001,
          "xanchor": "center",
          "xref": "paper",
          "y": 0.5813206424747175,
          "yanchor": "bottom",
          "yref": "paper"
         },
         {
          "font": {
           "size": 16
          },
          "showarrow": false,
          "text": "Topic 71",
          "x": 0.9125,
          "xanchor": "center",
          "xref": "paper",
          "y": 0.5813206424747175,
          "yanchor": "bottom",
          "yref": "paper"
         },
         {
          "font": {
           "size": 16
          },
          "showarrow": false,
          "text": "Topic 72",
          "x": 0.0875,
          "xanchor": "center",
          "xref": "paper",
          "y": 0.5566924449732302,
          "yanchor": "bottom",
          "yref": "paper"
         },
         {
          "font": {
           "size": 16
          },
          "showarrow": false,
          "text": "Topic 73",
          "x": 0.36250000000000004,
          "xanchor": "center",
          "xref": "paper",
          "y": 0.5566924449732302,
          "yanchor": "bottom",
          "yref": "paper"
         },
         {
          "font": {
           "size": 16
          },
          "showarrow": false,
          "text": "Topic 74",
          "x": 0.6375000000000001,
          "xanchor": "center",
          "xref": "paper",
          "y": 0.5566924449732302,
          "yanchor": "bottom",
          "yref": "paper"
         },
         {
          "font": {
           "size": 16
          },
          "showarrow": false,
          "text": "Topic 75",
          "x": 0.9125,
          "xanchor": "center",
          "xref": "paper",
          "y": 0.5566924449732302,
          "yanchor": "bottom",
          "yref": "paper"
         },
         {
          "font": {
           "size": 16
          },
          "showarrow": false,
          "text": "Topic 76",
          "x": 0.0875,
          "xanchor": "center",
          "xref": "paper",
          "y": 0.5320642474717431,
          "yanchor": "bottom",
          "yref": "paper"
         },
         {
          "font": {
           "size": 16
          },
          "showarrow": false,
          "text": "Topic 77",
          "x": 0.36250000000000004,
          "xanchor": "center",
          "xref": "paper",
          "y": 0.5320642474717431,
          "yanchor": "bottom",
          "yref": "paper"
         },
         {
          "font": {
           "size": 16
          },
          "showarrow": false,
          "text": "Topic 78",
          "x": 0.6375000000000001,
          "xanchor": "center",
          "xref": "paper",
          "y": 0.5320642474717431,
          "yanchor": "bottom",
          "yref": "paper"
         },
         {
          "font": {
           "size": 16
          },
          "showarrow": false,
          "text": "Topic 79",
          "x": 0.9125,
          "xanchor": "center",
          "xref": "paper",
          "y": 0.5320642474717431,
          "yanchor": "bottom",
          "yref": "paper"
         },
         {
          "font": {
           "size": 16
          },
          "showarrow": false,
          "text": "Topic 80",
          "x": 0.0875,
          "xanchor": "center",
          "xref": "paper",
          "y": 0.5074360499702558,
          "yanchor": "bottom",
          "yref": "paper"
         },
         {
          "font": {
           "size": 16
          },
          "showarrow": false,
          "text": "Topic 81",
          "x": 0.36250000000000004,
          "xanchor": "center",
          "xref": "paper",
          "y": 0.5074360499702558,
          "yanchor": "bottom",
          "yref": "paper"
         },
         {
          "font": {
           "size": 16
          },
          "showarrow": false,
          "text": "Topic 82",
          "x": 0.6375000000000001,
          "xanchor": "center",
          "xref": "paper",
          "y": 0.5074360499702558,
          "yanchor": "bottom",
          "yref": "paper"
         },
         {
          "font": {
           "size": 16
          },
          "showarrow": false,
          "text": "Topic 83",
          "x": 0.9125,
          "xanchor": "center",
          "xref": "paper",
          "y": 0.5074360499702558,
          "yanchor": "bottom",
          "yref": "paper"
         },
         {
          "font": {
           "size": 16
          },
          "showarrow": false,
          "text": "Topic 84",
          "x": 0.0875,
          "xanchor": "center",
          "xref": "paper",
          "y": 0.4828078524687686,
          "yanchor": "bottom",
          "yref": "paper"
         },
         {
          "font": {
           "size": 16
          },
          "showarrow": false,
          "text": "Topic 85",
          "x": 0.36250000000000004,
          "xanchor": "center",
          "xref": "paper",
          "y": 0.4828078524687686,
          "yanchor": "bottom",
          "yref": "paper"
         },
         {
          "font": {
           "size": 16
          },
          "showarrow": false,
          "text": "Topic 86",
          "x": 0.6375000000000001,
          "xanchor": "center",
          "xref": "paper",
          "y": 0.4828078524687686,
          "yanchor": "bottom",
          "yref": "paper"
         },
         {
          "font": {
           "size": 16
          },
          "showarrow": false,
          "text": "Topic 87",
          "x": 0.9125,
          "xanchor": "center",
          "xref": "paper",
          "y": 0.4828078524687686,
          "yanchor": "bottom",
          "yref": "paper"
         },
         {
          "font": {
           "size": 16
          },
          "showarrow": false,
          "text": "Topic 88",
          "x": 0.0875,
          "xanchor": "center",
          "xref": "paper",
          "y": 0.4581796549672814,
          "yanchor": "bottom",
          "yref": "paper"
         },
         {
          "font": {
           "size": 16
          },
          "showarrow": false,
          "text": "Topic 89",
          "x": 0.36250000000000004,
          "xanchor": "center",
          "xref": "paper",
          "y": 0.4581796549672814,
          "yanchor": "bottom",
          "yref": "paper"
         },
         {
          "font": {
           "size": 16
          },
          "showarrow": false,
          "text": "Topic 90",
          "x": 0.6375000000000001,
          "xanchor": "center",
          "xref": "paper",
          "y": 0.4581796549672814,
          "yanchor": "bottom",
          "yref": "paper"
         },
         {
          "font": {
           "size": 16
          },
          "showarrow": false,
          "text": "Topic 91",
          "x": 0.9125,
          "xanchor": "center",
          "xref": "paper",
          "y": 0.4581796549672814,
          "yanchor": "bottom",
          "yref": "paper"
         },
         {
          "font": {
           "size": 16
          },
          "showarrow": false,
          "text": "Topic 92",
          "x": 0.0875,
          "xanchor": "center",
          "xref": "paper",
          "y": 0.4335514574657942,
          "yanchor": "bottom",
          "yref": "paper"
         },
         {
          "font": {
           "size": 16
          },
          "showarrow": false,
          "text": "Topic 93",
          "x": 0.36250000000000004,
          "xanchor": "center",
          "xref": "paper",
          "y": 0.4335514574657942,
          "yanchor": "bottom",
          "yref": "paper"
         },
         {
          "font": {
           "size": 16
          },
          "showarrow": false,
          "text": "Topic 94",
          "x": 0.6375000000000001,
          "xanchor": "center",
          "xref": "paper",
          "y": 0.4335514574657942,
          "yanchor": "bottom",
          "yref": "paper"
         },
         {
          "font": {
           "size": 16
          },
          "showarrow": false,
          "text": "Topic 95",
          "x": 0.9125,
          "xanchor": "center",
          "xref": "paper",
          "y": 0.4335514574657942,
          "yanchor": "bottom",
          "yref": "paper"
         },
         {
          "font": {
           "size": 16
          },
          "showarrow": false,
          "text": "Topic 96",
          "x": 0.0875,
          "xanchor": "center",
          "xref": "paper",
          "y": 0.40892325996430706,
          "yanchor": "bottom",
          "yref": "paper"
         },
         {
          "font": {
           "size": 16
          },
          "showarrow": false,
          "text": "Topic 97",
          "x": 0.36250000000000004,
          "xanchor": "center",
          "xref": "paper",
          "y": 0.40892325996430706,
          "yanchor": "bottom",
          "yref": "paper"
         },
         {
          "font": {
           "size": 16
          },
          "showarrow": false,
          "text": "Topic 98",
          "x": 0.6375000000000001,
          "xanchor": "center",
          "xref": "paper",
          "y": 0.40892325996430706,
          "yanchor": "bottom",
          "yref": "paper"
         },
         {
          "font": {
           "size": 16
          },
          "showarrow": false,
          "text": "Topic 99",
          "x": 0.9125,
          "xanchor": "center",
          "xref": "paper",
          "y": 0.40892325996430706,
          "yanchor": "bottom",
          "yref": "paper"
         },
         {
          "font": {
           "size": 16
          },
          "showarrow": false,
          "text": "Topic 100",
          "x": 0.0875,
          "xanchor": "center",
          "xref": "paper",
          "y": 0.3842950624628198,
          "yanchor": "bottom",
          "yref": "paper"
         },
         {
          "font": {
           "size": 16
          },
          "showarrow": false,
          "text": "Topic 101",
          "x": 0.36250000000000004,
          "xanchor": "center",
          "xref": "paper",
          "y": 0.3842950624628198,
          "yanchor": "bottom",
          "yref": "paper"
         },
         {
          "font": {
           "size": 16
          },
          "showarrow": false,
          "text": "Topic 102",
          "x": 0.6375000000000001,
          "xanchor": "center",
          "xref": "paper",
          "y": 0.3842950624628198,
          "yanchor": "bottom",
          "yref": "paper"
         },
         {
          "font": {
           "size": 16
          },
          "showarrow": false,
          "text": "Topic 103",
          "x": 0.9125,
          "xanchor": "center",
          "xref": "paper",
          "y": 0.3842950624628198,
          "yanchor": "bottom",
          "yref": "paper"
         },
         {
          "font": {
           "size": 16
          },
          "showarrow": false,
          "text": "Topic 104",
          "x": 0.0875,
          "xanchor": "center",
          "xref": "paper",
          "y": 0.3596668649613326,
          "yanchor": "bottom",
          "yref": "paper"
         },
         {
          "font": {
           "size": 16
          },
          "showarrow": false,
          "text": "Topic 105",
          "x": 0.36250000000000004,
          "xanchor": "center",
          "xref": "paper",
          "y": 0.3596668649613326,
          "yanchor": "bottom",
          "yref": "paper"
         },
         {
          "font": {
           "size": 16
          },
          "showarrow": false,
          "text": "Topic 106",
          "x": 0.6375000000000001,
          "xanchor": "center",
          "xref": "paper",
          "y": 0.3596668649613326,
          "yanchor": "bottom",
          "yref": "paper"
         },
         {
          "font": {
           "size": 16
          },
          "showarrow": false,
          "text": "Topic 107",
          "x": 0.9125,
          "xanchor": "center",
          "xref": "paper",
          "y": 0.3596668649613326,
          "yanchor": "bottom",
          "yref": "paper"
         },
         {
          "font": {
           "size": 16
          },
          "showarrow": false,
          "text": "Topic 108",
          "x": 0.0875,
          "xanchor": "center",
          "xref": "paper",
          "y": 0.3350386674598454,
          "yanchor": "bottom",
          "yref": "paper"
         },
         {
          "font": {
           "size": 16
          },
          "showarrow": false,
          "text": "Topic 109",
          "x": 0.36250000000000004,
          "xanchor": "center",
          "xref": "paper",
          "y": 0.3350386674598454,
          "yanchor": "bottom",
          "yref": "paper"
         },
         {
          "font": {
           "size": 16
          },
          "showarrow": false,
          "text": "Topic 110",
          "x": 0.6375000000000001,
          "xanchor": "center",
          "xref": "paper",
          "y": 0.3350386674598454,
          "yanchor": "bottom",
          "yref": "paper"
         },
         {
          "font": {
           "size": 16
          },
          "showarrow": false,
          "text": "Topic 111",
          "x": 0.9125,
          "xanchor": "center",
          "xref": "paper",
          "y": 0.3350386674598454,
          "yanchor": "bottom",
          "yref": "paper"
         },
         {
          "font": {
           "size": 16
          },
          "showarrow": false,
          "text": "Topic 112",
          "x": 0.0875,
          "xanchor": "center",
          "xref": "paper",
          "y": 0.31041046995835814,
          "yanchor": "bottom",
          "yref": "paper"
         },
         {
          "font": {
           "size": 16
          },
          "showarrow": false,
          "text": "Topic 113",
          "x": 0.36250000000000004,
          "xanchor": "center",
          "xref": "paper",
          "y": 0.31041046995835814,
          "yanchor": "bottom",
          "yref": "paper"
         },
         {
          "font": {
           "size": 16
          },
          "showarrow": false,
          "text": "Topic 114",
          "x": 0.6375000000000001,
          "xanchor": "center",
          "xref": "paper",
          "y": 0.31041046995835814,
          "yanchor": "bottom",
          "yref": "paper"
         },
         {
          "font": {
           "size": 16
          },
          "showarrow": false,
          "text": "Topic 115",
          "x": 0.9125,
          "xanchor": "center",
          "xref": "paper",
          "y": 0.31041046995835814,
          "yanchor": "bottom",
          "yref": "paper"
         },
         {
          "font": {
           "size": 16
          },
          "showarrow": false,
          "text": "Topic 116",
          "x": 0.0875,
          "xanchor": "center",
          "xref": "paper",
          "y": 0.28578227245687093,
          "yanchor": "bottom",
          "yref": "paper"
         },
         {
          "font": {
           "size": 16
          },
          "showarrow": false,
          "text": "Topic 117",
          "x": 0.36250000000000004,
          "xanchor": "center",
          "xref": "paper",
          "y": 0.28578227245687093,
          "yanchor": "bottom",
          "yref": "paper"
         },
         {
          "font": {
           "size": 16
          },
          "showarrow": false,
          "text": "Topic 118",
          "x": 0.6375000000000001,
          "xanchor": "center",
          "xref": "paper",
          "y": 0.28578227245687093,
          "yanchor": "bottom",
          "yref": "paper"
         },
         {
          "font": {
           "size": 16
          },
          "showarrow": false,
          "text": "Topic 119",
          "x": 0.9125,
          "xanchor": "center",
          "xref": "paper",
          "y": 0.28578227245687093,
          "yanchor": "bottom",
          "yref": "paper"
         },
         {
          "font": {
           "size": 16
          },
          "showarrow": false,
          "text": "Topic 120",
          "x": 0.0875,
          "xanchor": "center",
          "xref": "paper",
          "y": 0.26115407495538373,
          "yanchor": "bottom",
          "yref": "paper"
         },
         {
          "font": {
           "size": 16
          },
          "showarrow": false,
          "text": "Topic 121",
          "x": 0.36250000000000004,
          "xanchor": "center",
          "xref": "paper",
          "y": 0.26115407495538373,
          "yanchor": "bottom",
          "yref": "paper"
         },
         {
          "font": {
           "size": 16
          },
          "showarrow": false,
          "text": "Topic 122",
          "x": 0.6375000000000001,
          "xanchor": "center",
          "xref": "paper",
          "y": 0.26115407495538373,
          "yanchor": "bottom",
          "yref": "paper"
         },
         {
          "font": {
           "size": 16
          },
          "showarrow": false,
          "text": "Topic 123",
          "x": 0.9125,
          "xanchor": "center",
          "xref": "paper",
          "y": 0.26115407495538373,
          "yanchor": "bottom",
          "yref": "paper"
         },
         {
          "font": {
           "size": 16
          },
          "showarrow": false,
          "text": "Topic 124",
          "x": 0.0875,
          "xanchor": "center",
          "xref": "paper",
          "y": 0.2365258774538965,
          "yanchor": "bottom",
          "yref": "paper"
         },
         {
          "font": {
           "size": 16
          },
          "showarrow": false,
          "text": "Topic 125",
          "x": 0.36250000000000004,
          "xanchor": "center",
          "xref": "paper",
          "y": 0.2365258774538965,
          "yanchor": "bottom",
          "yref": "paper"
         },
         {
          "font": {
           "size": 16
          },
          "showarrow": false,
          "text": "Topic 126",
          "x": 0.6375000000000001,
          "xanchor": "center",
          "xref": "paper",
          "y": 0.2365258774538965,
          "yanchor": "bottom",
          "yref": "paper"
         },
         {
          "font": {
           "size": 16
          },
          "showarrow": false,
          "text": "Topic 127",
          "x": 0.9125,
          "xanchor": "center",
          "xref": "paper",
          "y": 0.2365258774538965,
          "yanchor": "bottom",
          "yref": "paper"
         },
         {
          "font": {
           "size": 16
          },
          "showarrow": false,
          "text": "Topic 128",
          "x": 0.0875,
          "xanchor": "center",
          "xref": "paper",
          "y": 0.2118976799524093,
          "yanchor": "bottom",
          "yref": "paper"
         },
         {
          "font": {
           "size": 16
          },
          "showarrow": false,
          "text": "Topic 129",
          "x": 0.36250000000000004,
          "xanchor": "center",
          "xref": "paper",
          "y": 0.2118976799524093,
          "yanchor": "bottom",
          "yref": "paper"
         },
         {
          "font": {
           "size": 16
          },
          "showarrow": false,
          "text": "Topic 130",
          "x": 0.6375000000000001,
          "xanchor": "center",
          "xref": "paper",
          "y": 0.2118976799524093,
          "yanchor": "bottom",
          "yref": "paper"
         },
         {
          "font": {
           "size": 16
          },
          "showarrow": false,
          "text": "Topic 131",
          "x": 0.9125,
          "xanchor": "center",
          "xref": "paper",
          "y": 0.2118976799524093,
          "yanchor": "bottom",
          "yref": "paper"
         },
         {
          "font": {
           "size": 16
          },
          "showarrow": false,
          "text": "Topic 132",
          "x": 0.0875,
          "xanchor": "center",
          "xref": "paper",
          "y": 0.1872694824509221,
          "yanchor": "bottom",
          "yref": "paper"
         },
         {
          "font": {
           "size": 16
          },
          "showarrow": false,
          "text": "Topic 133",
          "x": 0.36250000000000004,
          "xanchor": "center",
          "xref": "paper",
          "y": 0.1872694824509221,
          "yanchor": "bottom",
          "yref": "paper"
         },
         {
          "font": {
           "size": 16
          },
          "showarrow": false,
          "text": "Topic 134",
          "x": 0.6375000000000001,
          "xanchor": "center",
          "xref": "paper",
          "y": 0.1872694824509221,
          "yanchor": "bottom",
          "yref": "paper"
         },
         {
          "font": {
           "size": 16
          },
          "showarrow": false,
          "text": "Topic 135",
          "x": 0.9125,
          "xanchor": "center",
          "xref": "paper",
          "y": 0.1872694824509221,
          "yanchor": "bottom",
          "yref": "paper"
         },
         {
          "font": {
           "size": 16
          },
          "showarrow": false,
          "text": "Topic 136",
          "x": 0.0875,
          "xanchor": "center",
          "xref": "paper",
          "y": 0.1626412849494349,
          "yanchor": "bottom",
          "yref": "paper"
         },
         {
          "font": {
           "size": 16
          },
          "showarrow": false,
          "text": "Topic 137",
          "x": 0.36250000000000004,
          "xanchor": "center",
          "xref": "paper",
          "y": 0.1626412849494349,
          "yanchor": "bottom",
          "yref": "paper"
         },
         {
          "font": {
           "size": 16
          },
          "showarrow": false,
          "text": "Topic 138",
          "x": 0.6375000000000001,
          "xanchor": "center",
          "xref": "paper",
          "y": 0.1626412849494349,
          "yanchor": "bottom",
          "yref": "paper"
         },
         {
          "font": {
           "size": 16
          },
          "showarrow": false,
          "text": "Topic 139",
          "x": 0.9125,
          "xanchor": "center",
          "xref": "paper",
          "y": 0.1626412849494349,
          "yanchor": "bottom",
          "yref": "paper"
         },
         {
          "font": {
           "size": 16
          },
          "showarrow": false,
          "text": "Topic 140",
          "x": 0.0875,
          "xanchor": "center",
          "xref": "paper",
          "y": 0.13801308744794766,
          "yanchor": "bottom",
          "yref": "paper"
         },
         {
          "font": {
           "size": 16
          },
          "showarrow": false,
          "text": "Topic 141",
          "x": 0.36250000000000004,
          "xanchor": "center",
          "xref": "paper",
          "y": 0.13801308744794766,
          "yanchor": "bottom",
          "yref": "paper"
         },
         {
          "font": {
           "size": 16
          },
          "showarrow": false,
          "text": "Topic 142",
          "x": 0.6375000000000001,
          "xanchor": "center",
          "xref": "paper",
          "y": 0.13801308744794766,
          "yanchor": "bottom",
          "yref": "paper"
         },
         {
          "font": {
           "size": 16
          },
          "showarrow": false,
          "text": "Topic 143",
          "x": 0.9125,
          "xanchor": "center",
          "xref": "paper",
          "y": 0.13801308744794766,
          "yanchor": "bottom",
          "yref": "paper"
         },
         {
          "font": {
           "size": 16
          },
          "showarrow": false,
          "text": "Topic 144",
          "x": 0.0875,
          "xanchor": "center",
          "xref": "paper",
          "y": 0.11338488994646044,
          "yanchor": "bottom",
          "yref": "paper"
         },
         {
          "font": {
           "size": 16
          },
          "showarrow": false,
          "text": "Topic 145",
          "x": 0.36250000000000004,
          "xanchor": "center",
          "xref": "paper",
          "y": 0.11338488994646044,
          "yanchor": "bottom",
          "yref": "paper"
         },
         {
          "font": {
           "size": 16
          },
          "showarrow": false,
          "text": "Topic 146",
          "x": 0.6375000000000001,
          "xanchor": "center",
          "xref": "paper",
          "y": 0.11338488994646044,
          "yanchor": "bottom",
          "yref": "paper"
         },
         {
          "font": {
           "size": 16
          },
          "showarrow": false,
          "text": "Topic 147",
          "x": 0.9125,
          "xanchor": "center",
          "xref": "paper",
          "y": 0.11338488994646044,
          "yanchor": "bottom",
          "yref": "paper"
         },
         {
          "font": {
           "size": 16
          },
          "showarrow": false,
          "text": "Topic 148",
          "x": 0.0875,
          "xanchor": "center",
          "xref": "paper",
          "y": 0.08875669244497324,
          "yanchor": "bottom",
          "yref": "paper"
         },
         {
          "font": {
           "size": 16
          },
          "showarrow": false,
          "text": "Topic 149",
          "x": 0.36250000000000004,
          "xanchor": "center",
          "xref": "paper",
          "y": 0.08875669244497324,
          "yanchor": "bottom",
          "yref": "paper"
         },
         {
          "font": {
           "size": 16
          },
          "showarrow": false,
          "text": "Topic 150",
          "x": 0.6375000000000001,
          "xanchor": "center",
          "xref": "paper",
          "y": 0.08875669244497324,
          "yanchor": "bottom",
          "yref": "paper"
         },
         {
          "font": {
           "size": 16
          },
          "showarrow": false,
          "text": "Topic 151",
          "x": 0.9125,
          "xanchor": "center",
          "xref": "paper",
          "y": 0.08875669244497324,
          "yanchor": "bottom",
          "yref": "paper"
         },
         {
          "font": {
           "size": 16
          },
          "showarrow": false,
          "text": "Topic 152",
          "x": 0.0875,
          "xanchor": "center",
          "xref": "paper",
          "y": 0.06412849494348602,
          "yanchor": "bottom",
          "yref": "paper"
         },
         {
          "font": {
           "size": 16
          },
          "showarrow": false,
          "text": "Topic 153",
          "x": 0.36250000000000004,
          "xanchor": "center",
          "xref": "paper",
          "y": 0.06412849494348602,
          "yanchor": "bottom",
          "yref": "paper"
         },
         {
          "font": {
           "size": 16
          },
          "showarrow": false,
          "text": "Topic 154",
          "x": 0.6375000000000001,
          "xanchor": "center",
          "xref": "paper",
          "y": 0.06412849494348602,
          "yanchor": "bottom",
          "yref": "paper"
         },
         {
          "font": {
           "size": 16
          },
          "showarrow": false,
          "text": "Topic 155",
          "x": 0.9125,
          "xanchor": "center",
          "xref": "paper",
          "y": 0.06412849494348602,
          "yanchor": "bottom",
          "yref": "paper"
         },
         {
          "font": {
           "size": 16
          },
          "showarrow": false,
          "text": "Topic 156",
          "x": 0.0875,
          "xanchor": "center",
          "xref": "paper",
          "y": 0.03950029744199881,
          "yanchor": "bottom",
          "yref": "paper"
         },
         {
          "font": {
           "size": 16
          },
          "showarrow": false,
          "text": "Topic 157",
          "x": 0.36250000000000004,
          "xanchor": "center",
          "xref": "paper",
          "y": 0.03950029744199881,
          "yanchor": "bottom",
          "yref": "paper"
         },
         {
          "font": {
           "size": 16
          },
          "showarrow": false,
          "text": "Topic 158",
          "x": 0.6375000000000001,
          "xanchor": "center",
          "xref": "paper",
          "y": 0.03950029744199881,
          "yanchor": "bottom",
          "yref": "paper"
         },
         {
          "font": {
           "size": 16
          },
          "showarrow": false,
          "text": "Topic 159",
          "x": 0.9125,
          "xanchor": "center",
          "xref": "paper",
          "y": 0.03950029744199881,
          "yanchor": "bottom",
          "yref": "paper"
         },
         {
          "font": {
           "size": 16
          },
          "showarrow": false,
          "text": "Topic 160",
          "x": 0.0875,
          "xanchor": "center",
          "xref": "paper",
          "y": 0.0148720999405116,
          "yanchor": "bottom",
          "yref": "paper"
         },
         {
          "font": {
           "size": 16
          },
          "showarrow": false,
          "text": "Topic 161",
          "x": 0.36250000000000004,
          "xanchor": "center",
          "xref": "paper",
          "y": 0.0148720999405116,
          "yanchor": "bottom",
          "yref": "paper"
         },
         {
          "font": {
           "size": 16
          },
          "showarrow": false,
          "text": "Topic 162",
          "x": 0.6375000000000001,
          "xanchor": "center",
          "xref": "paper",
          "y": 0.0148720999405116,
          "yanchor": "bottom",
          "yref": "paper"
         }
        ],
        "height": 10250,
        "hoverlabel": {
         "bgcolor": "white",
         "font": {
          "family": "Rockwell",
          "size": 16
         }
        },
        "showlegend": false,
        "template": {
         "data": {
          "bar": [
           {
            "error_x": {
             "color": "#2a3f5f"
            },
            "error_y": {
             "color": "#2a3f5f"
            },
            "marker": {
             "line": {
              "color": "white",
              "width": 0.5
             },
             "pattern": {
              "fillmode": "overlay",
              "size": 10,
              "solidity": 0.2
             }
            },
            "type": "bar"
           }
          ],
          "barpolar": [
           {
            "marker": {
             "line": {
              "color": "white",
              "width": 0.5
             },
             "pattern": {
              "fillmode": "overlay",
              "size": 10,
              "solidity": 0.2
             }
            },
            "type": "barpolar"
           }
          ],
          "carpet": [
           {
            "aaxis": {
             "endlinecolor": "#2a3f5f",
             "gridcolor": "#C8D4E3",
             "linecolor": "#C8D4E3",
             "minorgridcolor": "#C8D4E3",
             "startlinecolor": "#2a3f5f"
            },
            "baxis": {
             "endlinecolor": "#2a3f5f",
             "gridcolor": "#C8D4E3",
             "linecolor": "#C8D4E3",
             "minorgridcolor": "#C8D4E3",
             "startlinecolor": "#2a3f5f"
            },
            "type": "carpet"
           }
          ],
          "choropleth": [
           {
            "colorbar": {
             "outlinewidth": 0,
             "ticks": ""
            },
            "type": "choropleth"
           }
          ],
          "contour": [
           {
            "colorbar": {
             "outlinewidth": 0,
             "ticks": ""
            },
            "colorscale": [
             [
              0,
              "#0d0887"
             ],
             [
              0.1111111111111111,
              "#46039f"
             ],
             [
              0.2222222222222222,
              "#7201a8"
             ],
             [
              0.3333333333333333,
              "#9c179e"
             ],
             [
              0.4444444444444444,
              "#bd3786"
             ],
             [
              0.5555555555555556,
              "#d8576b"
             ],
             [
              0.6666666666666666,
              "#ed7953"
             ],
             [
              0.7777777777777778,
              "#fb9f3a"
             ],
             [
              0.8888888888888888,
              "#fdca26"
             ],
             [
              1,
              "#f0f921"
             ]
            ],
            "type": "contour"
           }
          ],
          "contourcarpet": [
           {
            "colorbar": {
             "outlinewidth": 0,
             "ticks": ""
            },
            "type": "contourcarpet"
           }
          ],
          "heatmap": [
           {
            "colorbar": {
             "outlinewidth": 0,
             "ticks": ""
            },
            "colorscale": [
             [
              0,
              "#0d0887"
             ],
             [
              0.1111111111111111,
              "#46039f"
             ],
             [
              0.2222222222222222,
              "#7201a8"
             ],
             [
              0.3333333333333333,
              "#9c179e"
             ],
             [
              0.4444444444444444,
              "#bd3786"
             ],
             [
              0.5555555555555556,
              "#d8576b"
             ],
             [
              0.6666666666666666,
              "#ed7953"
             ],
             [
              0.7777777777777778,
              "#fb9f3a"
             ],
             [
              0.8888888888888888,
              "#fdca26"
             ],
             [
              1,
              "#f0f921"
             ]
            ],
            "type": "heatmap"
           }
          ],
          "histogram": [
           {
            "marker": {
             "pattern": {
              "fillmode": "overlay",
              "size": 10,
              "solidity": 0.2
             }
            },
            "type": "histogram"
           }
          ],
          "histogram2d": [
           {
            "colorbar": {
             "outlinewidth": 0,
             "ticks": ""
            },
            "colorscale": [
             [
              0,
              "#0d0887"
             ],
             [
              0.1111111111111111,
              "#46039f"
             ],
             [
              0.2222222222222222,
              "#7201a8"
             ],
             [
              0.3333333333333333,
              "#9c179e"
             ],
             [
              0.4444444444444444,
              "#bd3786"
             ],
             [
              0.5555555555555556,
              "#d8576b"
             ],
             [
              0.6666666666666666,
              "#ed7953"
             ],
             [
              0.7777777777777778,
              "#fb9f3a"
             ],
             [
              0.8888888888888888,
              "#fdca26"
             ],
             [
              1,
              "#f0f921"
             ]
            ],
            "type": "histogram2d"
           }
          ],
          "histogram2dcontour": [
           {
            "colorbar": {
             "outlinewidth": 0,
             "ticks": ""
            },
            "colorscale": [
             [
              0,
              "#0d0887"
             ],
             [
              0.1111111111111111,
              "#46039f"
             ],
             [
              0.2222222222222222,
              "#7201a8"
             ],
             [
              0.3333333333333333,
              "#9c179e"
             ],
             [
              0.4444444444444444,
              "#bd3786"
             ],
             [
              0.5555555555555556,
              "#d8576b"
             ],
             [
              0.6666666666666666,
              "#ed7953"
             ],
             [
              0.7777777777777778,
              "#fb9f3a"
             ],
             [
              0.8888888888888888,
              "#fdca26"
             ],
             [
              1,
              "#f0f921"
             ]
            ],
            "type": "histogram2dcontour"
           }
          ],
          "mesh3d": [
           {
            "colorbar": {
             "outlinewidth": 0,
             "ticks": ""
            },
            "type": "mesh3d"
           }
          ],
          "parcoords": [
           {
            "line": {
             "colorbar": {
              "outlinewidth": 0,
              "ticks": ""
             }
            },
            "type": "parcoords"
           }
          ],
          "pie": [
           {
            "automargin": true,
            "type": "pie"
           }
          ],
          "scatter": [
           {
            "fillpattern": {
             "fillmode": "overlay",
             "size": 10,
             "solidity": 0.2
            },
            "type": "scatter"
           }
          ],
          "scatter3d": [
           {
            "line": {
             "colorbar": {
              "outlinewidth": 0,
              "ticks": ""
             }
            },
            "marker": {
             "colorbar": {
              "outlinewidth": 0,
              "ticks": ""
             }
            },
            "type": "scatter3d"
           }
          ],
          "scattercarpet": [
           {
            "marker": {
             "colorbar": {
              "outlinewidth": 0,
              "ticks": ""
             }
            },
            "type": "scattercarpet"
           }
          ],
          "scattergeo": [
           {
            "marker": {
             "colorbar": {
              "outlinewidth": 0,
              "ticks": ""
             }
            },
            "type": "scattergeo"
           }
          ],
          "scattergl": [
           {
            "marker": {
             "colorbar": {
              "outlinewidth": 0,
              "ticks": ""
             }
            },
            "type": "scattergl"
           }
          ],
          "scattermap": [
           {
            "marker": {
             "colorbar": {
              "outlinewidth": 0,
              "ticks": ""
             }
            },
            "type": "scattermap"
           }
          ],
          "scattermapbox": [
           {
            "marker": {
             "colorbar": {
              "outlinewidth": 0,
              "ticks": ""
             }
            },
            "type": "scattermapbox"
           }
          ],
          "scatterpolar": [
           {
            "marker": {
             "colorbar": {
              "outlinewidth": 0,
              "ticks": ""
             }
            },
            "type": "scatterpolar"
           }
          ],
          "scatterpolargl": [
           {
            "marker": {
             "colorbar": {
              "outlinewidth": 0,
              "ticks": ""
             }
            },
            "type": "scatterpolargl"
           }
          ],
          "scatterternary": [
           {
            "marker": {
             "colorbar": {
              "outlinewidth": 0,
              "ticks": ""
             }
            },
            "type": "scatterternary"
           }
          ],
          "surface": [
           {
            "colorbar": {
             "outlinewidth": 0,
             "ticks": ""
            },
            "colorscale": [
             [
              0,
              "#0d0887"
             ],
             [
              0.1111111111111111,
              "#46039f"
             ],
             [
              0.2222222222222222,
              "#7201a8"
             ],
             [
              0.3333333333333333,
              "#9c179e"
             ],
             [
              0.4444444444444444,
              "#bd3786"
             ],
             [
              0.5555555555555556,
              "#d8576b"
             ],
             [
              0.6666666666666666,
              "#ed7953"
             ],
             [
              0.7777777777777778,
              "#fb9f3a"
             ],
             [
              0.8888888888888888,
              "#fdca26"
             ],
             [
              1,
              "#f0f921"
             ]
            ],
            "type": "surface"
           }
          ],
          "table": [
           {
            "cells": {
             "fill": {
              "color": "#EBF0F8"
             },
             "line": {
              "color": "white"
             }
            },
            "header": {
             "fill": {
              "color": "#C8D4E3"
             },
             "line": {
              "color": "white"
             }
            },
            "type": "table"
           }
          ]
         },
         "layout": {
          "annotationdefaults": {
           "arrowcolor": "#2a3f5f",
           "arrowhead": 0,
           "arrowwidth": 1
          },
          "autotypenumbers": "strict",
          "coloraxis": {
           "colorbar": {
            "outlinewidth": 0,
            "ticks": ""
           }
          },
          "colorscale": {
           "diverging": [
            [
             0,
             "#8e0152"
            ],
            [
             0.1,
             "#c51b7d"
            ],
            [
             0.2,
             "#de77ae"
            ],
            [
             0.3,
             "#f1b6da"
            ],
            [
             0.4,
             "#fde0ef"
            ],
            [
             0.5,
             "#f7f7f7"
            ],
            [
             0.6,
             "#e6f5d0"
            ],
            [
             0.7,
             "#b8e186"
            ],
            [
             0.8,
             "#7fbc41"
            ],
            [
             0.9,
             "#4d9221"
            ],
            [
             1,
             "#276419"
            ]
           ],
           "sequential": [
            [
             0,
             "#0d0887"
            ],
            [
             0.1111111111111111,
             "#46039f"
            ],
            [
             0.2222222222222222,
             "#7201a8"
            ],
            [
             0.3333333333333333,
             "#9c179e"
            ],
            [
             0.4444444444444444,
             "#bd3786"
            ],
            [
             0.5555555555555556,
             "#d8576b"
            ],
            [
             0.6666666666666666,
             "#ed7953"
            ],
            [
             0.7777777777777778,
             "#fb9f3a"
            ],
            [
             0.8888888888888888,
             "#fdca26"
            ],
            [
             1,
             "#f0f921"
            ]
           ],
           "sequentialminus": [
            [
             0,
             "#0d0887"
            ],
            [
             0.1111111111111111,
             "#46039f"
            ],
            [
             0.2222222222222222,
             "#7201a8"
            ],
            [
             0.3333333333333333,
             "#9c179e"
            ],
            [
             0.4444444444444444,
             "#bd3786"
            ],
            [
             0.5555555555555556,
             "#d8576b"
            ],
            [
             0.6666666666666666,
             "#ed7953"
            ],
            [
             0.7777777777777778,
             "#fb9f3a"
            ],
            [
             0.8888888888888888,
             "#fdca26"
            ],
            [
             1,
             "#f0f921"
            ]
           ]
          },
          "colorway": [
           "#636efa",
           "#EF553B",
           "#00cc96",
           "#ab63fa",
           "#FFA15A",
           "#19d3f3",
           "#FF6692",
           "#B6E880",
           "#FF97FF",
           "#FECB52"
          ],
          "font": {
           "color": "#2a3f5f"
          },
          "geo": {
           "bgcolor": "white",
           "lakecolor": "white",
           "landcolor": "white",
           "showlakes": true,
           "showland": true,
           "subunitcolor": "#C8D4E3"
          },
          "hoverlabel": {
           "align": "left"
          },
          "hovermode": "closest",
          "mapbox": {
           "style": "light"
          },
          "paper_bgcolor": "white",
          "plot_bgcolor": "white",
          "polar": {
           "angularaxis": {
            "gridcolor": "#EBF0F8",
            "linecolor": "#EBF0F8",
            "ticks": ""
           },
           "bgcolor": "white",
           "radialaxis": {
            "gridcolor": "#EBF0F8",
            "linecolor": "#EBF0F8",
            "ticks": ""
           }
          },
          "scene": {
           "xaxis": {
            "backgroundcolor": "white",
            "gridcolor": "#DFE8F3",
            "gridwidth": 2,
            "linecolor": "#EBF0F8",
            "showbackground": true,
            "ticks": "",
            "zerolinecolor": "#EBF0F8"
           },
           "yaxis": {
            "backgroundcolor": "white",
            "gridcolor": "#DFE8F3",
            "gridwidth": 2,
            "linecolor": "#EBF0F8",
            "showbackground": true,
            "ticks": "",
            "zerolinecolor": "#EBF0F8"
           },
           "zaxis": {
            "backgroundcolor": "white",
            "gridcolor": "#DFE8F3",
            "gridwidth": 2,
            "linecolor": "#EBF0F8",
            "showbackground": true,
            "ticks": "",
            "zerolinecolor": "#EBF0F8"
           }
          },
          "shapedefaults": {
           "line": {
            "color": "#2a3f5f"
           }
          },
          "ternary": {
           "aaxis": {
            "gridcolor": "#DFE8F3",
            "linecolor": "#A2B1C6",
            "ticks": ""
           },
           "baxis": {
            "gridcolor": "#DFE8F3",
            "linecolor": "#A2B1C6",
            "ticks": ""
           },
           "bgcolor": "white",
           "caxis": {
            "gridcolor": "#DFE8F3",
            "linecolor": "#A2B1C6",
            "ticks": ""
           }
          },
          "title": {
           "x": 0.05
          },
          "xaxis": {
           "automargin": true,
           "gridcolor": "#EBF0F8",
           "linecolor": "#EBF0F8",
           "ticks": "",
           "title": {
            "standoff": 15
           },
           "zerolinecolor": "#EBF0F8",
           "zerolinewidth": 2
          },
          "yaxis": {
           "automargin": true,
           "gridcolor": "#EBF0F8",
           "linecolor": "#EBF0F8",
           "ticks": "",
           "title": {
            "standoff": 15
           },
           "zerolinecolor": "#EBF0F8",
           "zerolinewidth": 2
          }
         }
        },
        "title": {
         "font": {
          "color": "Black",
          "size": 22
         },
         "text": "Topic Word Scores",
         "x": 0.5,
         "xanchor": "center",
         "yanchor": "top"
        },
        "width": 1000,
        "xaxis": {
         "anchor": "y",
         "domain": [
          0,
          0.175
         ],
         "showgrid": true
        },
        "xaxis10": {
         "anchor": "y10",
         "domain": [
          0.275,
          0.45
         ],
         "showgrid": true
        },
        "xaxis100": {
         "anchor": "y100",
         "domain": [
          0.825,
          1
         ],
         "showgrid": true
        },
        "xaxis101": {
         "anchor": "y101",
         "domain": [
          0,
          0.175
         ],
         "showgrid": true
        },
        "xaxis102": {
         "anchor": "y102",
         "domain": [
          0.275,
          0.45
         ],
         "showgrid": true
        },
        "xaxis103": {
         "anchor": "y103",
         "domain": [
          0.55,
          0.7250000000000001
         ],
         "showgrid": true
        },
        "xaxis104": {
         "anchor": "y104",
         "domain": [
          0.825,
          1
         ],
         "showgrid": true
        },
        "xaxis105": {
         "anchor": "y105",
         "domain": [
          0,
          0.175
         ],
         "showgrid": true
        },
        "xaxis106": {
         "anchor": "y106",
         "domain": [
          0.275,
          0.45
         ],
         "showgrid": true
        },
        "xaxis107": {
         "anchor": "y107",
         "domain": [
          0.55,
          0.7250000000000001
         ],
         "showgrid": true
        },
        "xaxis108": {
         "anchor": "y108",
         "domain": [
          0.825,
          1
         ],
         "showgrid": true
        },
        "xaxis109": {
         "anchor": "y109",
         "domain": [
          0,
          0.175
         ],
         "showgrid": true
        },
        "xaxis11": {
         "anchor": "y11",
         "domain": [
          0.55,
          0.7250000000000001
         ],
         "showgrid": true
        },
        "xaxis110": {
         "anchor": "y110",
         "domain": [
          0.275,
          0.45
         ],
         "showgrid": true
        },
        "xaxis111": {
         "anchor": "y111",
         "domain": [
          0.55,
          0.7250000000000001
         ],
         "showgrid": true
        },
        "xaxis112": {
         "anchor": "y112",
         "domain": [
          0.825,
          1
         ],
         "showgrid": true
        },
        "xaxis113": {
         "anchor": "y113",
         "domain": [
          0,
          0.175
         ],
         "showgrid": true
        },
        "xaxis114": {
         "anchor": "y114",
         "domain": [
          0.275,
          0.45
         ],
         "showgrid": true
        },
        "xaxis115": {
         "anchor": "y115",
         "domain": [
          0.55,
          0.7250000000000001
         ],
         "showgrid": true
        },
        "xaxis116": {
         "anchor": "y116",
         "domain": [
          0.825,
          1
         ],
         "showgrid": true
        },
        "xaxis117": {
         "anchor": "y117",
         "domain": [
          0,
          0.175
         ],
         "showgrid": true
        },
        "xaxis118": {
         "anchor": "y118",
         "domain": [
          0.275,
          0.45
         ],
         "showgrid": true
        },
        "xaxis119": {
         "anchor": "y119",
         "domain": [
          0.55,
          0.7250000000000001
         ],
         "showgrid": true
        },
        "xaxis12": {
         "anchor": "y12",
         "domain": [
          0.825,
          1
         ],
         "showgrid": true
        },
        "xaxis120": {
         "anchor": "y120",
         "domain": [
          0.825,
          1
         ],
         "showgrid": true
        },
        "xaxis121": {
         "anchor": "y121",
         "domain": [
          0,
          0.175
         ],
         "showgrid": true
        },
        "xaxis122": {
         "anchor": "y122",
         "domain": [
          0.275,
          0.45
         ],
         "showgrid": true
        },
        "xaxis123": {
         "anchor": "y123",
         "domain": [
          0.55,
          0.7250000000000001
         ],
         "showgrid": true
        },
        "xaxis124": {
         "anchor": "y124",
         "domain": [
          0.825,
          1
         ],
         "showgrid": true
        },
        "xaxis125": {
         "anchor": "y125",
         "domain": [
          0,
          0.175
         ],
         "showgrid": true
        },
        "xaxis126": {
         "anchor": "y126",
         "domain": [
          0.275,
          0.45
         ],
         "showgrid": true
        },
        "xaxis127": {
         "anchor": "y127",
         "domain": [
          0.55,
          0.7250000000000001
         ],
         "showgrid": true
        },
        "xaxis128": {
         "anchor": "y128",
         "domain": [
          0.825,
          1
         ],
         "showgrid": true
        },
        "xaxis129": {
         "anchor": "y129",
         "domain": [
          0,
          0.175
         ],
         "showgrid": true
        },
        "xaxis13": {
         "anchor": "y13",
         "domain": [
          0,
          0.175
         ],
         "showgrid": true
        },
        "xaxis130": {
         "anchor": "y130",
         "domain": [
          0.275,
          0.45
         ],
         "showgrid": true
        },
        "xaxis131": {
         "anchor": "y131",
         "domain": [
          0.55,
          0.7250000000000001
         ],
         "showgrid": true
        },
        "xaxis132": {
         "anchor": "y132",
         "domain": [
          0.825,
          1
         ],
         "showgrid": true
        },
        "xaxis133": {
         "anchor": "y133",
         "domain": [
          0,
          0.175
         ],
         "showgrid": true
        },
        "xaxis134": {
         "anchor": "y134",
         "domain": [
          0.275,
          0.45
         ],
         "showgrid": true
        },
        "xaxis135": {
         "anchor": "y135",
         "domain": [
          0.55,
          0.7250000000000001
         ],
         "showgrid": true
        },
        "xaxis136": {
         "anchor": "y136",
         "domain": [
          0.825,
          1
         ],
         "showgrid": true
        },
        "xaxis137": {
         "anchor": "y137",
         "domain": [
          0,
          0.175
         ],
         "showgrid": true
        },
        "xaxis138": {
         "anchor": "y138",
         "domain": [
          0.275,
          0.45
         ],
         "showgrid": true
        },
        "xaxis139": {
         "anchor": "y139",
         "domain": [
          0.55,
          0.7250000000000001
         ],
         "showgrid": true
        },
        "xaxis14": {
         "anchor": "y14",
         "domain": [
          0.275,
          0.45
         ],
         "showgrid": true
        },
        "xaxis140": {
         "anchor": "y140",
         "domain": [
          0.825,
          1
         ],
         "showgrid": true
        },
        "xaxis141": {
         "anchor": "y141",
         "domain": [
          0,
          0.175
         ],
         "showgrid": true
        },
        "xaxis142": {
         "anchor": "y142",
         "domain": [
          0.275,
          0.45
         ],
         "showgrid": true
        },
        "xaxis143": {
         "anchor": "y143",
         "domain": [
          0.55,
          0.7250000000000001
         ],
         "showgrid": true
        },
        "xaxis144": {
         "anchor": "y144",
         "domain": [
          0.825,
          1
         ],
         "showgrid": true
        },
        "xaxis145": {
         "anchor": "y145",
         "domain": [
          0,
          0.175
         ],
         "showgrid": true
        },
        "xaxis146": {
         "anchor": "y146",
         "domain": [
          0.275,
          0.45
         ],
         "showgrid": true
        },
        "xaxis147": {
         "anchor": "y147",
         "domain": [
          0.55,
          0.7250000000000001
         ],
         "showgrid": true
        },
        "xaxis148": {
         "anchor": "y148",
         "domain": [
          0.825,
          1
         ],
         "showgrid": true
        },
        "xaxis149": {
         "anchor": "y149",
         "domain": [
          0,
          0.175
         ],
         "showgrid": true
        },
        "xaxis15": {
         "anchor": "y15",
         "domain": [
          0.55,
          0.7250000000000001
         ],
         "showgrid": true
        },
        "xaxis150": {
         "anchor": "y150",
         "domain": [
          0.275,
          0.45
         ],
         "showgrid": true
        },
        "xaxis151": {
         "anchor": "y151",
         "domain": [
          0.55,
          0.7250000000000001
         ],
         "showgrid": true
        },
        "xaxis152": {
         "anchor": "y152",
         "domain": [
          0.825,
          1
         ],
         "showgrid": true
        },
        "xaxis153": {
         "anchor": "y153",
         "domain": [
          0,
          0.175
         ],
         "showgrid": true
        },
        "xaxis154": {
         "anchor": "y154",
         "domain": [
          0.275,
          0.45
         ],
         "showgrid": true
        },
        "xaxis155": {
         "anchor": "y155",
         "domain": [
          0.55,
          0.7250000000000001
         ],
         "showgrid": true
        },
        "xaxis156": {
         "anchor": "y156",
         "domain": [
          0.825,
          1
         ],
         "showgrid": true
        },
        "xaxis157": {
         "anchor": "y157",
         "domain": [
          0,
          0.175
         ],
         "showgrid": true
        },
        "xaxis158": {
         "anchor": "y158",
         "domain": [
          0.275,
          0.45
         ],
         "showgrid": true
        },
        "xaxis159": {
         "anchor": "y159",
         "domain": [
          0.55,
          0.7250000000000001
         ],
         "showgrid": true
        },
        "xaxis16": {
         "anchor": "y16",
         "domain": [
          0.825,
          1
         ],
         "showgrid": true
        },
        "xaxis160": {
         "anchor": "y160",
         "domain": [
          0.825,
          1
         ],
         "showgrid": true
        },
        "xaxis161": {
         "anchor": "y161",
         "domain": [
          0,
          0.175
         ],
         "showgrid": true
        },
        "xaxis162": {
         "anchor": "y162",
         "domain": [
          0.275,
          0.45
         ],
         "showgrid": true
        },
        "xaxis163": {
         "anchor": "y163",
         "domain": [
          0.55,
          0.7250000000000001
         ],
         "showgrid": true
        },
        "xaxis164": {
         "anchor": "y164",
         "domain": [
          0.825,
          1
         ],
         "showgrid": true
        },
        "xaxis17": {
         "anchor": "y17",
         "domain": [
          0,
          0.175
         ],
         "showgrid": true
        },
        "xaxis18": {
         "anchor": "y18",
         "domain": [
          0.275,
          0.45
         ],
         "showgrid": true
        },
        "xaxis19": {
         "anchor": "y19",
         "domain": [
          0.55,
          0.7250000000000001
         ],
         "showgrid": true
        },
        "xaxis2": {
         "anchor": "y2",
         "domain": [
          0.275,
          0.45
         ],
         "showgrid": true
        },
        "xaxis20": {
         "anchor": "y20",
         "domain": [
          0.825,
          1
         ],
         "showgrid": true
        },
        "xaxis21": {
         "anchor": "y21",
         "domain": [
          0,
          0.175
         ],
         "showgrid": true
        },
        "xaxis22": {
         "anchor": "y22",
         "domain": [
          0.275,
          0.45
         ],
         "showgrid": true
        },
        "xaxis23": {
         "anchor": "y23",
         "domain": [
          0.55,
          0.7250000000000001
         ],
         "showgrid": true
        },
        "xaxis24": {
         "anchor": "y24",
         "domain": [
          0.825,
          1
         ],
         "showgrid": true
        },
        "xaxis25": {
         "anchor": "y25",
         "domain": [
          0,
          0.175
         ],
         "showgrid": true
        },
        "xaxis26": {
         "anchor": "y26",
         "domain": [
          0.275,
          0.45
         ],
         "showgrid": true
        },
        "xaxis27": {
         "anchor": "y27",
         "domain": [
          0.55,
          0.7250000000000001
         ],
         "showgrid": true
        },
        "xaxis28": {
         "anchor": "y28",
         "domain": [
          0.825,
          1
         ],
         "showgrid": true
        },
        "xaxis29": {
         "anchor": "y29",
         "domain": [
          0,
          0.175
         ],
         "showgrid": true
        },
        "xaxis3": {
         "anchor": "y3",
         "domain": [
          0.55,
          0.7250000000000001
         ],
         "showgrid": true
        },
        "xaxis30": {
         "anchor": "y30",
         "domain": [
          0.275,
          0.45
         ],
         "showgrid": true
        },
        "xaxis31": {
         "anchor": "y31",
         "domain": [
          0.55,
          0.7250000000000001
         ],
         "showgrid": true
        },
        "xaxis32": {
         "anchor": "y32",
         "domain": [
          0.825,
          1
         ],
         "showgrid": true
        },
        "xaxis33": {
         "anchor": "y33",
         "domain": [
          0,
          0.175
         ],
         "showgrid": true
        },
        "xaxis34": {
         "anchor": "y34",
         "domain": [
          0.275,
          0.45
         ],
         "showgrid": true
        },
        "xaxis35": {
         "anchor": "y35",
         "domain": [
          0.55,
          0.7250000000000001
         ],
         "showgrid": true
        },
        "xaxis36": {
         "anchor": "y36",
         "domain": [
          0.825,
          1
         ],
         "showgrid": true
        },
        "xaxis37": {
         "anchor": "y37",
         "domain": [
          0,
          0.175
         ],
         "showgrid": true
        },
        "xaxis38": {
         "anchor": "y38",
         "domain": [
          0.275,
          0.45
         ],
         "showgrid": true
        },
        "xaxis39": {
         "anchor": "y39",
         "domain": [
          0.55,
          0.7250000000000001
         ],
         "showgrid": true
        },
        "xaxis4": {
         "anchor": "y4",
         "domain": [
          0.825,
          1
         ],
         "showgrid": true
        },
        "xaxis40": {
         "anchor": "y40",
         "domain": [
          0.825,
          1
         ],
         "showgrid": true
        },
        "xaxis41": {
         "anchor": "y41",
         "domain": [
          0,
          0.175
         ],
         "showgrid": true
        },
        "xaxis42": {
         "anchor": "y42",
         "domain": [
          0.275,
          0.45
         ],
         "showgrid": true
        },
        "xaxis43": {
         "anchor": "y43",
         "domain": [
          0.55,
          0.7250000000000001
         ],
         "showgrid": true
        },
        "xaxis44": {
         "anchor": "y44",
         "domain": [
          0.825,
          1
         ],
         "showgrid": true
        },
        "xaxis45": {
         "anchor": "y45",
         "domain": [
          0,
          0.175
         ],
         "showgrid": true
        },
        "xaxis46": {
         "anchor": "y46",
         "domain": [
          0.275,
          0.45
         ],
         "showgrid": true
        },
        "xaxis47": {
         "anchor": "y47",
         "domain": [
          0.55,
          0.7250000000000001
         ],
         "showgrid": true
        },
        "xaxis48": {
         "anchor": "y48",
         "domain": [
          0.825,
          1
         ],
         "showgrid": true
        },
        "xaxis49": {
         "anchor": "y49",
         "domain": [
          0,
          0.175
         ],
         "showgrid": true
        },
        "xaxis5": {
         "anchor": "y5",
         "domain": [
          0,
          0.175
         ],
         "showgrid": true
        },
        "xaxis50": {
         "anchor": "y50",
         "domain": [
          0.275,
          0.45
         ],
         "showgrid": true
        },
        "xaxis51": {
         "anchor": "y51",
         "domain": [
          0.55,
          0.7250000000000001
         ],
         "showgrid": true
        },
        "xaxis52": {
         "anchor": "y52",
         "domain": [
          0.825,
          1
         ],
         "showgrid": true
        },
        "xaxis53": {
         "anchor": "y53",
         "domain": [
          0,
          0.175
         ],
         "showgrid": true
        },
        "xaxis54": {
         "anchor": "y54",
         "domain": [
          0.275,
          0.45
         ],
         "showgrid": true
        },
        "xaxis55": {
         "anchor": "y55",
         "domain": [
          0.55,
          0.7250000000000001
         ],
         "showgrid": true
        },
        "xaxis56": {
         "anchor": "y56",
         "domain": [
          0.825,
          1
         ],
         "showgrid": true
        },
        "xaxis57": {
         "anchor": "y57",
         "domain": [
          0,
          0.175
         ],
         "showgrid": true
        },
        "xaxis58": {
         "anchor": "y58",
         "domain": [
          0.275,
          0.45
         ],
         "showgrid": true
        },
        "xaxis59": {
         "anchor": "y59",
         "domain": [
          0.55,
          0.7250000000000001
         ],
         "showgrid": true
        },
        "xaxis6": {
         "anchor": "y6",
         "domain": [
          0.275,
          0.45
         ],
         "showgrid": true
        },
        "xaxis60": {
         "anchor": "y60",
         "domain": [
          0.825,
          1
         ],
         "showgrid": true
        },
        "xaxis61": {
         "anchor": "y61",
         "domain": [
          0,
          0.175
         ],
         "showgrid": true
        },
        "xaxis62": {
         "anchor": "y62",
         "domain": [
          0.275,
          0.45
         ],
         "showgrid": true
        },
        "xaxis63": {
         "anchor": "y63",
         "domain": [
          0.55,
          0.7250000000000001
         ],
         "showgrid": true
        },
        "xaxis64": {
         "anchor": "y64",
         "domain": [
          0.825,
          1
         ],
         "showgrid": true
        },
        "xaxis65": {
         "anchor": "y65",
         "domain": [
          0,
          0.175
         ],
         "showgrid": true
        },
        "xaxis66": {
         "anchor": "y66",
         "domain": [
          0.275,
          0.45
         ],
         "showgrid": true
        },
        "xaxis67": {
         "anchor": "y67",
         "domain": [
          0.55,
          0.7250000000000001
         ],
         "showgrid": true
        },
        "xaxis68": {
         "anchor": "y68",
         "domain": [
          0.825,
          1
         ],
         "showgrid": true
        },
        "xaxis69": {
         "anchor": "y69",
         "domain": [
          0,
          0.175
         ],
         "showgrid": true
        },
        "xaxis7": {
         "anchor": "y7",
         "domain": [
          0.55,
          0.7250000000000001
         ],
         "showgrid": true
        },
        "xaxis70": {
         "anchor": "y70",
         "domain": [
          0.275,
          0.45
         ],
         "showgrid": true
        },
        "xaxis71": {
         "anchor": "y71",
         "domain": [
          0.55,
          0.7250000000000001
         ],
         "showgrid": true
        },
        "xaxis72": {
         "anchor": "y72",
         "domain": [
          0.825,
          1
         ],
         "showgrid": true
        },
        "xaxis73": {
         "anchor": "y73",
         "domain": [
          0,
          0.175
         ],
         "showgrid": true
        },
        "xaxis74": {
         "anchor": "y74",
         "domain": [
          0.275,
          0.45
         ],
         "showgrid": true
        },
        "xaxis75": {
         "anchor": "y75",
         "domain": [
          0.55,
          0.7250000000000001
         ],
         "showgrid": true
        },
        "xaxis76": {
         "anchor": "y76",
         "domain": [
          0.825,
          1
         ],
         "showgrid": true
        },
        "xaxis77": {
         "anchor": "y77",
         "domain": [
          0,
          0.175
         ],
         "showgrid": true
        },
        "xaxis78": {
         "anchor": "y78",
         "domain": [
          0.275,
          0.45
         ],
         "showgrid": true
        },
        "xaxis79": {
         "anchor": "y79",
         "domain": [
          0.55,
          0.7250000000000001
         ],
         "showgrid": true
        },
        "xaxis8": {
         "anchor": "y8",
         "domain": [
          0.825,
          1
         ],
         "showgrid": true
        },
        "xaxis80": {
         "anchor": "y80",
         "domain": [
          0.825,
          1
         ],
         "showgrid": true
        },
        "xaxis81": {
         "anchor": "y81",
         "domain": [
          0,
          0.175
         ],
         "showgrid": true
        },
        "xaxis82": {
         "anchor": "y82",
         "domain": [
          0.275,
          0.45
         ],
         "showgrid": true
        },
        "xaxis83": {
         "anchor": "y83",
         "domain": [
          0.55,
          0.7250000000000001
         ],
         "showgrid": true
        },
        "xaxis84": {
         "anchor": "y84",
         "domain": [
          0.825,
          1
         ],
         "showgrid": true
        },
        "xaxis85": {
         "anchor": "y85",
         "domain": [
          0,
          0.175
         ],
         "showgrid": true
        },
        "xaxis86": {
         "anchor": "y86",
         "domain": [
          0.275,
          0.45
         ],
         "showgrid": true
        },
        "xaxis87": {
         "anchor": "y87",
         "domain": [
          0.55,
          0.7250000000000001
         ],
         "showgrid": true
        },
        "xaxis88": {
         "anchor": "y88",
         "domain": [
          0.825,
          1
         ],
         "showgrid": true
        },
        "xaxis89": {
         "anchor": "y89",
         "domain": [
          0,
          0.175
         ],
         "showgrid": true
        },
        "xaxis9": {
         "anchor": "y9",
         "domain": [
          0,
          0.175
         ],
         "showgrid": true
        },
        "xaxis90": {
         "anchor": "y90",
         "domain": [
          0.275,
          0.45
         ],
         "showgrid": true
        },
        "xaxis91": {
         "anchor": "y91",
         "domain": [
          0.55,
          0.7250000000000001
         ],
         "showgrid": true
        },
        "xaxis92": {
         "anchor": "y92",
         "domain": [
          0.825,
          1
         ],
         "showgrid": true
        },
        "xaxis93": {
         "anchor": "y93",
         "domain": [
          0,
          0.175
         ],
         "showgrid": true
        },
        "xaxis94": {
         "anchor": "y94",
         "domain": [
          0.275,
          0.45
         ],
         "showgrid": true
        },
        "xaxis95": {
         "anchor": "y95",
         "domain": [
          0.55,
          0.7250000000000001
         ],
         "showgrid": true
        },
        "xaxis96": {
         "anchor": "y96",
         "domain": [
          0.825,
          1
         ],
         "showgrid": true
        },
        "xaxis97": {
         "anchor": "y97",
         "domain": [
          0,
          0.175
         ],
         "showgrid": true
        },
        "xaxis98": {
         "anchor": "y98",
         "domain": [
          0.275,
          0.45
         ],
         "showgrid": true
        },
        "xaxis99": {
         "anchor": "y99",
         "domain": [
          0.55,
          0.7250000000000001
         ],
         "showgrid": true
        },
        "yaxis": {
         "anchor": "x",
         "domain": [
          0.9851279000594885,
          1
         ],
         "showgrid": true
        },
        "yaxis10": {
         "anchor": "x10",
         "domain": [
          0.935871505056514,
          0.9507436049970256
         ],
         "showgrid": true
        },
        "yaxis100": {
         "anchor": "x100",
         "domain": [
          0.3940511600237955,
          0.40892325996430706
         ],
         "showgrid": true
        },
        "yaxis101": {
         "anchor": "x101",
         "domain": [
          0.3694229625223082,
          0.3842950624628198
         ],
         "showgrid": true
        },
        "yaxis102": {
         "anchor": "x102",
         "domain": [
          0.3694229625223082,
          0.3842950624628198
         ],
         "showgrid": true
        },
        "yaxis103": {
         "anchor": "x103",
         "domain": [
          0.3694229625223082,
          0.3842950624628198
         ],
         "showgrid": true
        },
        "yaxis104": {
         "anchor": "x104",
         "domain": [
          0.3694229625223082,
          0.3842950624628198
         ],
         "showgrid": true
        },
        "yaxis105": {
         "anchor": "x105",
         "domain": [
          0.344794765020821,
          0.3596668649613326
         ],
         "showgrid": true
        },
        "yaxis106": {
         "anchor": "x106",
         "domain": [
          0.344794765020821,
          0.3596668649613326
         ],
         "showgrid": true
        },
        "yaxis107": {
         "anchor": "x107",
         "domain": [
          0.344794765020821,
          0.3596668649613326
         ],
         "showgrid": true
        },
        "yaxis108": {
         "anchor": "x108",
         "domain": [
          0.344794765020821,
          0.3596668649613326
         ],
         "showgrid": true
        },
        "yaxis109": {
         "anchor": "x109",
         "domain": [
          0.3201665675193338,
          0.3350386674598454
         ],
         "showgrid": true
        },
        "yaxis11": {
         "anchor": "x11",
         "domain": [
          0.935871505056514,
          0.9507436049970256
         ],
         "showgrid": true
        },
        "yaxis110": {
         "anchor": "x110",
         "domain": [
          0.3201665675193338,
          0.3350386674598454
         ],
         "showgrid": true
        },
        "yaxis111": {
         "anchor": "x111",
         "domain": [
          0.3201665675193338,
          0.3350386674598454
         ],
         "showgrid": true
        },
        "yaxis112": {
         "anchor": "x112",
         "domain": [
          0.3201665675193338,
          0.3350386674598454
         ],
         "showgrid": true
        },
        "yaxis113": {
         "anchor": "x113",
         "domain": [
          0.29553837001784655,
          0.31041046995835814
         ],
         "showgrid": true
        },
        "yaxis114": {
         "anchor": "x114",
         "domain": [
          0.29553837001784655,
          0.31041046995835814
         ],
         "showgrid": true
        },
        "yaxis115": {
         "anchor": "x115",
         "domain": [
          0.29553837001784655,
          0.31041046995835814
         ],
         "showgrid": true
        },
        "yaxis116": {
         "anchor": "x116",
         "domain": [
          0.29553837001784655,
          0.31041046995835814
         ],
         "showgrid": true
        },
        "yaxis117": {
         "anchor": "x117",
         "domain": [
          0.27091017251635935,
          0.28578227245687093
         ],
         "showgrid": true
        },
        "yaxis118": {
         "anchor": "x118",
         "domain": [
          0.27091017251635935,
          0.28578227245687093
         ],
         "showgrid": true
        },
        "yaxis119": {
         "anchor": "x119",
         "domain": [
          0.27091017251635935,
          0.28578227245687093
         ],
         "showgrid": true
        },
        "yaxis12": {
         "anchor": "x12",
         "domain": [
          0.935871505056514,
          0.9507436049970256
         ],
         "showgrid": true
        },
        "yaxis120": {
         "anchor": "x120",
         "domain": [
          0.27091017251635935,
          0.28578227245687093
         ],
         "showgrid": true
        },
        "yaxis121": {
         "anchor": "x121",
         "domain": [
          0.24628197501487212,
          0.26115407495538373
         ],
         "showgrid": true
        },
        "yaxis122": {
         "anchor": "x122",
         "domain": [
          0.24628197501487212,
          0.26115407495538373
         ],
         "showgrid": true
        },
        "yaxis123": {
         "anchor": "x123",
         "domain": [
          0.24628197501487212,
          0.26115407495538373
         ],
         "showgrid": true
        },
        "yaxis124": {
         "anchor": "x124",
         "domain": [
          0.24628197501487212,
          0.26115407495538373
         ],
         "showgrid": true
        },
        "yaxis125": {
         "anchor": "x125",
         "domain": [
          0.2216537775133849,
          0.2365258774538965
         ],
         "showgrid": true
        },
        "yaxis126": {
         "anchor": "x126",
         "domain": [
          0.2216537775133849,
          0.2365258774538965
         ],
         "showgrid": true
        },
        "yaxis127": {
         "anchor": "x127",
         "domain": [
          0.2216537775133849,
          0.2365258774538965
         ],
         "showgrid": true
        },
        "yaxis128": {
         "anchor": "x128",
         "domain": [
          0.2216537775133849,
          0.2365258774538965
         ],
         "showgrid": true
        },
        "yaxis129": {
         "anchor": "x129",
         "domain": [
          0.19702558001189768,
          0.2118976799524093
         ],
         "showgrid": true
        },
        "yaxis13": {
         "anchor": "x13",
         "domain": [
          0.9112433075550267,
          0.9261154074955383
         ],
         "showgrid": true
        },
        "yaxis130": {
         "anchor": "x130",
         "domain": [
          0.19702558001189768,
          0.2118976799524093
         ],
         "showgrid": true
        },
        "yaxis131": {
         "anchor": "x131",
         "domain": [
          0.19702558001189768,
          0.2118976799524093
         ],
         "showgrid": true
        },
        "yaxis132": {
         "anchor": "x132",
         "domain": [
          0.19702558001189768,
          0.2118976799524093
         ],
         "showgrid": true
        },
        "yaxis133": {
         "anchor": "x133",
         "domain": [
          0.17239738251041048,
          0.1872694824509221
         ],
         "showgrid": true
        },
        "yaxis134": {
         "anchor": "x134",
         "domain": [
          0.17239738251041048,
          0.1872694824509221
         ],
         "showgrid": true
        },
        "yaxis135": {
         "anchor": "x135",
         "domain": [
          0.17239738251041048,
          0.1872694824509221
         ],
         "showgrid": true
        },
        "yaxis136": {
         "anchor": "x136",
         "domain": [
          0.17239738251041048,
          0.1872694824509221
         ],
         "showgrid": true
        },
        "yaxis137": {
         "anchor": "x137",
         "domain": [
          0.14776918500892328,
          0.1626412849494349
         ],
         "showgrid": true
        },
        "yaxis138": {
         "anchor": "x138",
         "domain": [
          0.14776918500892328,
          0.1626412849494349
         ],
         "showgrid": true
        },
        "yaxis139": {
         "anchor": "x139",
         "domain": [
          0.14776918500892328,
          0.1626412849494349
         ],
         "showgrid": true
        },
        "yaxis14": {
         "anchor": "x14",
         "domain": [
          0.9112433075550267,
          0.9261154074955383
         ],
         "showgrid": true
        },
        "yaxis140": {
         "anchor": "x140",
         "domain": [
          0.14776918500892328,
          0.1626412849494349
         ],
         "showgrid": true
        },
        "yaxis141": {
         "anchor": "x141",
         "domain": [
          0.12314098750743606,
          0.13801308744794766
         ],
         "showgrid": true
        },
        "yaxis142": {
         "anchor": "x142",
         "domain": [
          0.12314098750743606,
          0.13801308744794766
         ],
         "showgrid": true
        },
        "yaxis143": {
         "anchor": "x143",
         "domain": [
          0.12314098750743606,
          0.13801308744794766
         ],
         "showgrid": true
        },
        "yaxis144": {
         "anchor": "x144",
         "domain": [
          0.12314098750743606,
          0.13801308744794766
         ],
         "showgrid": true
        },
        "yaxis145": {
         "anchor": "x145",
         "domain": [
          0.09851279000594884,
          0.11338488994646044
         ],
         "showgrid": true
        },
        "yaxis146": {
         "anchor": "x146",
         "domain": [
          0.09851279000594884,
          0.11338488994646044
         ],
         "showgrid": true
        },
        "yaxis147": {
         "anchor": "x147",
         "domain": [
          0.09851279000594884,
          0.11338488994646044
         ],
         "showgrid": true
        },
        "yaxis148": {
         "anchor": "x148",
         "domain": [
          0.09851279000594884,
          0.11338488994646044
         ],
         "showgrid": true
        },
        "yaxis149": {
         "anchor": "x149",
         "domain": [
          0.07388459250446164,
          0.08875669244497324
         ],
         "showgrid": true
        },
        "yaxis15": {
         "anchor": "x15",
         "domain": [
          0.9112433075550267,
          0.9261154074955383
         ],
         "showgrid": true
        },
        "yaxis150": {
         "anchor": "x150",
         "domain": [
          0.07388459250446164,
          0.08875669244497324
         ],
         "showgrid": true
        },
        "yaxis151": {
         "anchor": "x151",
         "domain": [
          0.07388459250446164,
          0.08875669244497324
         ],
         "showgrid": true
        },
        "yaxis152": {
         "anchor": "x152",
         "domain": [
          0.07388459250446164,
          0.08875669244497324
         ],
         "showgrid": true
        },
        "yaxis153": {
         "anchor": "x153",
         "domain": [
          0.04925639500297442,
          0.06412849494348602
         ],
         "showgrid": true
        },
        "yaxis154": {
         "anchor": "x154",
         "domain": [
          0.04925639500297442,
          0.06412849494348602
         ],
         "showgrid": true
        },
        "yaxis155": {
         "anchor": "x155",
         "domain": [
          0.04925639500297442,
          0.06412849494348602
         ],
         "showgrid": true
        },
        "yaxis156": {
         "anchor": "x156",
         "domain": [
          0.04925639500297442,
          0.06412849494348602
         ],
         "showgrid": true
        },
        "yaxis157": {
         "anchor": "x157",
         "domain": [
          0.02462819750148721,
          0.03950029744199881
         ],
         "showgrid": true
        },
        "yaxis158": {
         "anchor": "x158",
         "domain": [
          0.02462819750148721,
          0.03950029744199881
         ],
         "showgrid": true
        },
        "yaxis159": {
         "anchor": "x159",
         "domain": [
          0.02462819750148721,
          0.03950029744199881
         ],
         "showgrid": true
        },
        "yaxis16": {
         "anchor": "x16",
         "domain": [
          0.9112433075550267,
          0.9261154074955383
         ],
         "showgrid": true
        },
        "yaxis160": {
         "anchor": "x160",
         "domain": [
          0.02462819750148721,
          0.03950029744199881
         ],
         "showgrid": true
        },
        "yaxis161": {
         "anchor": "x161",
         "domain": [
          0,
          0.0148720999405116
         ],
         "showgrid": true
        },
        "yaxis162": {
         "anchor": "x162",
         "domain": [
          0,
          0.0148720999405116
         ],
         "showgrid": true
        },
        "yaxis163": {
         "anchor": "x163",
         "domain": [
          0,
          0.0148720999405116
         ],
         "showgrid": true
        },
        "yaxis164": {
         "anchor": "x164",
         "domain": [
          0,
          0.0148720999405116
         ],
         "showgrid": true
        },
        "yaxis17": {
         "anchor": "x17",
         "domain": [
          0.8866151100535394,
          0.9014872099940511
         ],
         "showgrid": true
        },
        "yaxis18": {
         "anchor": "x18",
         "domain": [
          0.8866151100535394,
          0.9014872099940511
         ],
         "showgrid": true
        },
        "yaxis19": {
         "anchor": "x19",
         "domain": [
          0.8866151100535394,
          0.9014872099940511
         ],
         "showgrid": true
        },
        "yaxis2": {
         "anchor": "x2",
         "domain": [
          0.9851279000594885,
          1
         ],
         "showgrid": true
        },
        "yaxis20": {
         "anchor": "x20",
         "domain": [
          0.8866151100535394,
          0.9014872099940511
         ],
         "showgrid": true
        },
        "yaxis21": {
         "anchor": "x21",
         "domain": [
          0.8619869125520523,
          0.8768590124925639
         ],
         "showgrid": true
        },
        "yaxis22": {
         "anchor": "x22",
         "domain": [
          0.8619869125520523,
          0.8768590124925639
         ],
         "showgrid": true
        },
        "yaxis23": {
         "anchor": "x23",
         "domain": [
          0.8619869125520523,
          0.8768590124925639
         ],
         "showgrid": true
        },
        "yaxis24": {
         "anchor": "x24",
         "domain": [
          0.8619869125520523,
          0.8768590124925639
         ],
         "showgrid": true
        },
        "yaxis25": {
         "anchor": "x25",
         "domain": [
          0.837358715050565,
          0.8522308149910767
         ],
         "showgrid": true
        },
        "yaxis26": {
         "anchor": "x26",
         "domain": [
          0.837358715050565,
          0.8522308149910767
         ],
         "showgrid": true
        },
        "yaxis27": {
         "anchor": "x27",
         "domain": [
          0.837358715050565,
          0.8522308149910767
         ],
         "showgrid": true
        },
        "yaxis28": {
         "anchor": "x28",
         "domain": [
          0.837358715050565,
          0.8522308149910767
         ],
         "showgrid": true
        },
        "yaxis29": {
         "anchor": "x29",
         "domain": [
          0.8127305175490778,
          0.8276026174895894
         ],
         "showgrid": true
        },
        "yaxis3": {
         "anchor": "x3",
         "domain": [
          0.9851279000594885,
          1
         ],
         "showgrid": true
        },
        "yaxis30": {
         "anchor": "x30",
         "domain": [
          0.8127305175490778,
          0.8276026174895894
         ],
         "showgrid": true
        },
        "yaxis31": {
         "anchor": "x31",
         "domain": [
          0.8127305175490778,
          0.8276026174895894
         ],
         "showgrid": true
        },
        "yaxis32": {
         "anchor": "x32",
         "domain": [
          0.8127305175490778,
          0.8276026174895894
         ],
         "showgrid": true
        },
        "yaxis33": {
         "anchor": "x33",
         "domain": [
          0.7881023200475905,
          0.8029744199881022
         ],
         "showgrid": true
        },
        "yaxis34": {
         "anchor": "x34",
         "domain": [
          0.7881023200475905,
          0.8029744199881022
         ],
         "showgrid": true
        },
        "yaxis35": {
         "anchor": "x35",
         "domain": [
          0.7881023200475905,
          0.8029744199881022
         ],
         "showgrid": true
        },
        "yaxis36": {
         "anchor": "x36",
         "domain": [
          0.7881023200475905,
          0.8029744199881022
         ],
         "showgrid": true
        },
        "yaxis37": {
         "anchor": "x37",
         "domain": [
          0.7634741225461034,
          0.778346222486615
         ],
         "showgrid": true
        },
        "yaxis38": {
         "anchor": "x38",
         "domain": [
          0.7634741225461034,
          0.778346222486615
         ],
         "showgrid": true
        },
        "yaxis39": {
         "anchor": "x39",
         "domain": [
          0.7634741225461034,
          0.778346222486615
         ],
         "showgrid": true
        },
        "yaxis4": {
         "anchor": "x4",
         "domain": [
          0.9851279000594885,
          1
         ],
         "showgrid": true
        },
        "yaxis40": {
         "anchor": "x40",
         "domain": [
          0.7634741225461034,
          0.778346222486615
         ],
         "showgrid": true
        },
        "yaxis41": {
         "anchor": "x41",
         "domain": [
          0.7388459250446162,
          0.7537180249851279
         ],
         "showgrid": true
        },
        "yaxis42": {
         "anchor": "x42",
         "domain": [
          0.7388459250446162,
          0.7537180249851279
         ],
         "showgrid": true
        },
        "yaxis43": {
         "anchor": "x43",
         "domain": [
          0.7388459250446162,
          0.7537180249851279
         ],
         "showgrid": true
        },
        "yaxis44": {
         "anchor": "x44",
         "domain": [
          0.7388459250446162,
          0.7537180249851279
         ],
         "showgrid": true
        },
        "yaxis45": {
         "anchor": "x45",
         "domain": [
          0.714217727543129,
          0.7290898274836406
         ],
         "showgrid": true
        },
        "yaxis46": {
         "anchor": "x46",
         "domain": [
          0.714217727543129,
          0.7290898274836406
         ],
         "showgrid": true
        },
        "yaxis47": {
         "anchor": "x47",
         "domain": [
          0.714217727543129,
          0.7290898274836406
         ],
         "showgrid": true
        },
        "yaxis48": {
         "anchor": "x48",
         "domain": [
          0.714217727543129,
          0.7290898274836406
         ],
         "showgrid": true
        },
        "yaxis49": {
         "anchor": "x49",
         "domain": [
          0.6895895300416418,
          0.7044616299821534
         ],
         "showgrid": true
        },
        "yaxis5": {
         "anchor": "x5",
         "domain": [
          0.9604997025580012,
          0.9753718024985129
         ],
         "showgrid": true
        },
        "yaxis50": {
         "anchor": "x50",
         "domain": [
          0.6895895300416418,
          0.7044616299821534
         ],
         "showgrid": true
        },
        "yaxis51": {
         "anchor": "x51",
         "domain": [
          0.6895895300416418,
          0.7044616299821534
         ],
         "showgrid": true
        },
        "yaxis52": {
         "anchor": "x52",
         "domain": [
          0.6895895300416418,
          0.7044616299821534
         ],
         "showgrid": true
        },
        "yaxis53": {
         "anchor": "x53",
         "domain": [
          0.6649613325401547,
          0.6798334324806663
         ],
         "showgrid": true
        },
        "yaxis54": {
         "anchor": "x54",
         "domain": [
          0.6649613325401547,
          0.6798334324806663
         ],
         "showgrid": true
        },
        "yaxis55": {
         "anchor": "x55",
         "domain": [
          0.6649613325401547,
          0.6798334324806663
         ],
         "showgrid": true
        },
        "yaxis56": {
         "anchor": "x56",
         "domain": [
          0.6649613325401547,
          0.6798334324806663
         ],
         "showgrid": true
        },
        "yaxis57": {
         "anchor": "x57",
         "domain": [
          0.6403331350386674,
          0.655205234979179
         ],
         "showgrid": true
        },
        "yaxis58": {
         "anchor": "x58",
         "domain": [
          0.6403331350386674,
          0.655205234979179
         ],
         "showgrid": true
        },
        "yaxis59": {
         "anchor": "x59",
         "domain": [
          0.6403331350386674,
          0.655205234979179
         ],
         "showgrid": true
        },
        "yaxis6": {
         "anchor": "x6",
         "domain": [
          0.9604997025580012,
          0.9753718024985129
         ],
         "showgrid": true
        },
        "yaxis60": {
         "anchor": "x60",
         "domain": [
          0.6403331350386674,
          0.655205234979179
         ],
         "showgrid": true
        },
        "yaxis61": {
         "anchor": "x61",
         "domain": [
          0.6157049375371801,
          0.6305770374776918
         ],
         "showgrid": true
        },
        "yaxis62": {
         "anchor": "x62",
         "domain": [
          0.6157049375371801,
          0.6305770374776918
         ],
         "showgrid": true
        },
        "yaxis63": {
         "anchor": "x63",
         "domain": [
          0.6157049375371801,
          0.6305770374776918
         ],
         "showgrid": true
        },
        "yaxis64": {
         "anchor": "x64",
         "domain": [
          0.6157049375371801,
          0.6305770374776918
         ],
         "showgrid": true
        },
        "yaxis65": {
         "anchor": "x65",
         "domain": [
          0.591076740035693,
          0.6059488399762046
         ],
         "showgrid": true
        },
        "yaxis66": {
         "anchor": "x66",
         "domain": [
          0.591076740035693,
          0.6059488399762046
         ],
         "showgrid": true
        },
        "yaxis67": {
         "anchor": "x67",
         "domain": [
          0.591076740035693,
          0.6059488399762046
         ],
         "showgrid": true
        },
        "yaxis68": {
         "anchor": "x68",
         "domain": [
          0.591076740035693,
          0.6059488399762046
         ],
         "showgrid": true
        },
        "yaxis69": {
         "anchor": "x69",
         "domain": [
          0.5664485425342058,
          0.5813206424747175
         ],
         "showgrid": true
        },
        "yaxis7": {
         "anchor": "x7",
         "domain": [
          0.9604997025580012,
          0.9753718024985129
         ],
         "showgrid": true
        },
        "yaxis70": {
         "anchor": "x70",
         "domain": [
          0.5664485425342058,
          0.5813206424747175
         ],
         "showgrid": true
        },
        "yaxis71": {
         "anchor": "x71",
         "domain": [
          0.5664485425342058,
          0.5813206424747175
         ],
         "showgrid": true
        },
        "yaxis72": {
         "anchor": "x72",
         "domain": [
          0.5664485425342058,
          0.5813206424747175
         ],
         "showgrid": true
        },
        "yaxis73": {
         "anchor": "x73",
         "domain": [
          0.5418203450327186,
          0.5566924449732302
         ],
         "showgrid": true
        },
        "yaxis74": {
         "anchor": "x74",
         "domain": [
          0.5418203450327186,
          0.5566924449732302
         ],
         "showgrid": true
        },
        "yaxis75": {
         "anchor": "x75",
         "domain": [
          0.5418203450327186,
          0.5566924449732302
         ],
         "showgrid": true
        },
        "yaxis76": {
         "anchor": "x76",
         "domain": [
          0.5418203450327186,
          0.5566924449732302
         ],
         "showgrid": true
        },
        "yaxis77": {
         "anchor": "x77",
         "domain": [
          0.5171921475312314,
          0.5320642474717431
         ],
         "showgrid": true
        },
        "yaxis78": {
         "anchor": "x78",
         "domain": [
          0.5171921475312314,
          0.5320642474717431
         ],
         "showgrid": true
        },
        "yaxis79": {
         "anchor": "x79",
         "domain": [
          0.5171921475312314,
          0.5320642474717431
         ],
         "showgrid": true
        },
        "yaxis8": {
         "anchor": "x8",
         "domain": [
          0.9604997025580012,
          0.9753718024985129
         ],
         "showgrid": true
        },
        "yaxis80": {
         "anchor": "x80",
         "domain": [
          0.5171921475312314,
          0.5320642474717431
         ],
         "showgrid": true
        },
        "yaxis81": {
         "anchor": "x81",
         "domain": [
          0.49256395002974424,
          0.5074360499702558
         ],
         "showgrid": true
        },
        "yaxis82": {
         "anchor": "x82",
         "domain": [
          0.49256395002974424,
          0.5074360499702558
         ],
         "showgrid": true
        },
        "yaxis83": {
         "anchor": "x83",
         "domain": [
          0.49256395002974424,
          0.5074360499702558
         ],
         "showgrid": true
        },
        "yaxis84": {
         "anchor": "x84",
         "domain": [
          0.49256395002974424,
          0.5074360499702558
         ],
         "showgrid": true
        },
        "yaxis85": {
         "anchor": "x85",
         "domain": [
          0.46793575252825703,
          0.4828078524687686
         ],
         "showgrid": true
        },
        "yaxis86": {
         "anchor": "x86",
         "domain": [
          0.46793575252825703,
          0.4828078524687686
         ],
         "showgrid": true
        },
        "yaxis87": {
         "anchor": "x87",
         "domain": [
          0.46793575252825703,
          0.4828078524687686
         ],
         "showgrid": true
        },
        "yaxis88": {
         "anchor": "x88",
         "domain": [
          0.46793575252825703,
          0.4828078524687686
         ],
         "showgrid": true
        },
        "yaxis89": {
         "anchor": "x89",
         "domain": [
          0.44330755502676983,
          0.4581796549672814
         ],
         "showgrid": true
        },
        "yaxis9": {
         "anchor": "x9",
         "domain": [
          0.935871505056514,
          0.9507436049970256
         ],
         "showgrid": true
        },
        "yaxis90": {
         "anchor": "x90",
         "domain": [
          0.44330755502676983,
          0.4581796549672814
         ],
         "showgrid": true
        },
        "yaxis91": {
         "anchor": "x91",
         "domain": [
          0.44330755502676983,
          0.4581796549672814
         ],
         "showgrid": true
        },
        "yaxis92": {
         "anchor": "x92",
         "domain": [
          0.44330755502676983,
          0.4581796549672814
         ],
         "showgrid": true
        },
        "yaxis93": {
         "anchor": "x93",
         "domain": [
          0.4186793575252826,
          0.4335514574657942
         ],
         "showgrid": true
        },
        "yaxis94": {
         "anchor": "x94",
         "domain": [
          0.4186793575252826,
          0.4335514574657942
         ],
         "showgrid": true
        },
        "yaxis95": {
         "anchor": "x95",
         "domain": [
          0.4186793575252826,
          0.4335514574657942
         ],
         "showgrid": true
        },
        "yaxis96": {
         "anchor": "x96",
         "domain": [
          0.4186793575252826,
          0.4335514574657942
         ],
         "showgrid": true
        },
        "yaxis97": {
         "anchor": "x97",
         "domain": [
          0.3940511600237955,
          0.40892325996430706
         ],
         "showgrid": true
        },
        "yaxis98": {
         "anchor": "x98",
         "domain": [
          0.3940511600237955,
          0.40892325996430706
         ],
         "showgrid": true
        },
        "yaxis99": {
         "anchor": "x99",
         "domain": [
          0.3940511600237955,
          0.40892325996430706
         ],
         "showgrid": true
        }
       }
      }
     },
     "metadata": {},
     "output_type": "display_data"
    }
   ],
   "source": [
    "fig1 = topic_model.visualize_barchart(top_n_topics = 163, n_words = 10)\n",
    "fig1.write_html(\"TOPKEYWORDS_10_BARCHART.html\")\n",
    "fig1.show()"
   ]
  },
  {
   "cell_type": "code",
   "execution_count": 125,
   "id": "86bd2ae5",
   "metadata": {},
   "outputs": [
    {
     "data": {
      "application/vnd.microsoft.datawrangler.viewer.v0+json": {
       "columns": [
        {
         "name": "index",
         "rawType": "int64",
         "type": "integer"
        },
        {
         "name": "user_id",
         "rawType": "float64",
         "type": "float"
        },
        {
         "name": "username",
         "rawType": "object",
         "type": "string"
        },
        {
         "name": "time",
         "rawType": "int64",
         "type": "integer"
        },
        {
         "name": "rating",
         "rawType": "float64",
         "type": "float"
        },
        {
         "name": "original_text",
         "rawType": "object",
         "type": "string"
        },
        {
         "name": "translated_text",
         "rawType": "object",
         "type": "string"
        },
        {
         "name": "final_with_stopword",
         "rawType": "object",
         "type": "string"
        },
        {
         "name": "final_no_stopword",
         "rawType": "object",
         "type": "string"
        },
        {
         "name": "ori_wc",
         "rawType": "int64",
         "type": "integer"
        },
        {
         "name": "final_wc",
         "rawType": "int64",
         "type": "integer"
        },
        {
         "name": "final_no_stopword_wc",
         "rawType": "int64",
         "type": "integer"
        },
        {
         "name": "sentiment_label",
         "rawType": "object",
         "type": "string"
        },
        {
         "name": "sentiment_score",
         "rawType": "float64",
         "type": "float"
        },
        {
         "name": "label",
         "rawType": "int64",
         "type": "integer"
        },
        {
         "name": "gmap_id",
         "rawType": "object",
         "type": "string"
        },
        {
         "name": "business_name",
         "rawType": "object",
         "type": "string"
        },
        {
         "name": "state",
         "rawType": "object",
         "type": "string"
        },
        {
         "name": "latitude",
         "rawType": "float64",
         "type": "float"
        },
        {
         "name": "longitude",
         "rawType": "float64",
         "type": "float"
        },
        {
         "name": "num_of_reviews",
         "rawType": "int64",
         "type": "integer"
        },
        {
         "name": "avg_rating",
         "rawType": "float64",
         "type": "float"
        },
        {
         "name": "MISC",
         "rawType": "object",
         "type": "unknown"
        },
        {
         "name": "address",
         "rawType": "object",
         "type": "unknown"
        },
        {
         "name": "category",
         "rawType": "object",
         "type": "string"
        },
        {
         "name": "hours",
         "rawType": "object",
         "type": "unknown"
        },
        {
         "name": "description",
         "rawType": "object",
         "type": "unknown"
        },
        {
         "name": "price",
         "rawType": "object",
         "type": "unknown"
        },
        {
         "name": "relative_results",
         "rawType": "object",
         "type": "unknown"
        },
        {
         "name": "resp",
         "rawType": "object",
         "type": "unknown"
        },
        {
         "name": "url",
         "rawType": "object",
         "type": "string"
        },
        {
         "name": "category_1",
         "rawType": "object",
         "type": "string"
        },
        {
         "name": "category_2",
         "rawType": "object",
         "type": "unknown"
        },
        {
         "name": "category_3",
         "rawType": "object",
         "type": "unknown"
        },
        {
         "name": "category_4",
         "rawType": "object",
         "type": "unknown"
        },
        {
         "name": "category_5",
         "rawType": "object",
         "type": "unknown"
        },
        {
         "name": "category_6",
         "rawType": "object",
         "type": "unknown"
        },
        {
         "name": "category_7",
         "rawType": "object",
         "type": "unknown"
        },
        {
         "name": "category_8",
         "rawType": "object",
         "type": "unknown"
        },
        {
         "name": "category_9",
         "rawType": "object",
         "type": "unknown"
        },
        {
         "name": "category_10",
         "rawType": "object",
         "type": "unknown"
        },
        {
         "name": "category_11",
         "rawType": "object",
         "type": "unknown"
        },
        {
         "name": "category_12",
         "rawType": "object",
         "type": "unknown"
        },
        {
         "name": "category_13",
         "rawType": "object",
         "type": "unknown"
        },
        {
         "name": "category_14",
         "rawType": "object",
         "type": "unknown"
        },
        {
         "name": "category_15",
         "rawType": "float64",
         "type": "float"
        },
        {
         "name": "category_16",
         "rawType": "float64",
         "type": "float"
        },
        {
         "name": "category_17",
         "rawType": "float64",
         "type": "float"
        },
        {
         "name": "category_18",
         "rawType": "float64",
         "type": "float"
        },
        {
         "name": "category_19",
         "rawType": "float64",
         "type": "float"
        },
        {
         "name": "category_20",
         "rawType": "float64",
         "type": "float"
        },
        {
         "name": "category_21",
         "rawType": "float64",
         "type": "float"
        },
        {
         "name": "cont_expanded",
         "rawType": "object",
         "type": "string"
        },
        {
         "name": "clean_text",
         "rawType": "object",
         "type": "string"
        },
        {
         "name": "wc",
         "rawType": "int64",
         "type": "integer"
        },
        {
         "name": "topic",
         "rawType": "int64",
         "type": "integer"
        },
        {
         "name": "topic_reduced_embedding",
         "rawType": "int64",
         "type": "integer"
        }
       ],
       "ref": "bef2db2c-b845-4bfe-9b34-b9cf49e3e013",
       "rows": [
        [
         "248",
         "1.136549668638096e+20",
         "Michelle Hefner",
         "1556110693799",
         "5.0",
         "Best place ever....From the Top dogs down everyone is exceptional....Most of counselors are very caring and go out of there way to help you in anyway possible..I highly recommend.",
         "Best place ever....From the Top dogs down everyone is exceptional....Most of counselors are very caring and go out of there way to help you in anyway possible..I highly recommend.",
         "best place ever from the top dog down everyone be exceptional most of counselor be very caring and go out of there way to help you in anyway possible i highly recommend",
         "best place ever top dog everyone exceptional counselor caring go way help anyway possible highly recommend",
         "29",
         "32",
         "16",
         "POSITIVE",
         "0.9989320635795592",
         "1",
         "0x89c807b104e8e0e5:0xe17fbfcb8b540597",
         "Riverside Treatment Services",
         "maryland",
         "39.3259437",
         "-76.4967472",
         "78",
         "4.7",
         "{'Accessibility': ['Wheelchair accessible entrance']}",
         "Riverside Treatment Services, 8359 Pulaski Hwy, Rosedale, MD 21237",
         "['Addiction treatment center', 'Mental health service']",
         "[['Sunday', 'Closed'], ['Monday', '5AM–12PM'], ['Tuesday', '5AM–12PM'], ['Wednesday', '5AM–12PM'], ['Thursday', '5AM–12PM'], ['Friday', '5AM–12PM'], ['Saturday', '7AM–12PM']]",
         null,
         null,
         "['0x89c807ee3d68724b:0x383484e7d798c2d7', '0x89c8013fea649d33:0x497031649d570533', '0x89c81d922234e12d:0xcfc56a1b29dc9849', '0x89c8074d1985e43d:0xd49df43597f779a3']",
         null,
         "https://www.google.com/maps/place//data=!4m2!3m1!1s0x89c807b104e8e0e5:0xe17fbfcb8b540597?authuser=-1&hl=en&gl=us",
         "Addiction treatment center",
         "Mental health service",
         null,
         null,
         null,
         null,
         null,
         null,
         null,
         null,
         null,
         null,
         null,
         null,
         null,
         null,
         null,
         null,
         null,
         null,
         null,
         "Best place ever....From the Top dogs down everyone is exceptional....Most of counselors are very caring and go out of there way to help you in anyway possible..I highly recommend.",
         "best place everfrom the top dogs down everyone is exceptionalmost of counselors are very caring and go out of there way to help you in anyway possiblei highly recommend",
         "29",
         "30",
         "30"
        ],
        [
         "649",
         "1.05895522928765e+20",
         "Elizabeth Frost",
         "1512573873088",
         "3.0",
         "Lots of red tape to actually see a therapist at this center. Very annoying. However I finally found a therapist that is a good fit and I am getting good care!",
         "Lots of red tape to actually see a therapist at this center. Very annoying. However I finally found a therapist that is a good fit and I am getting good care!",
         "lot of red tape to actually see a therapist at this center very annoy however i finally find a therapist that be a good fit and i be get good care",
         "lot red tape actually see therapist center annoy however finally find therapist good fit get good care",
         "31",
         "31",
         "17",
         "POSITIVE",
         "0.9907352924346924",
         "1",
         "0x52b32cb78559c6bf:0xa1dbbe3a13435cdf",
         "Minnesota Center for Psychology",
         "minnesota",
         "44.9624959",
         "-93.196076",
         "36",
         "3.2",
         "{'Service options': ['Online care'], 'Health & safety': ['Appointment required', 'Mask required', 'Staff wear masks', 'Staff required to disinfect surfaces between visits'], 'Accessibility': ['Wheelchair accessible entrance'], 'Planning': ['Appointments recommended']}",
         "Minnesota Center for Psychology, 2324 University Ave W #120, St Paul, MN 55114",
         "['Mental health clinic', 'Marriage or relationship counselor', 'Psychologist']",
         "[['Monday', '8AM–6PM'], ['Tuesday', '8AM–6PM'], ['Wednesday', '8AM–6PM'], ['Thursday', '8AM–6PM'], ['Friday', '8AM–5PM'], ['Saturday', '9AM–1PM'], ['Sunday', 'Closed']]",
         null,
         null,
         "['0x87f6297816e41907:0xc2cb6349bf19ece7', '0x52b32cc60eb1aafb:0xee9c1e1cbb74ebe0', '0x87f62a75b7909e21:0xecdc04c583b36804', '0x87f629e2ac926d2f:0x21a0df3c0c750550', '0x87f6297816e57e29:0xa854c3f2f87a21aa']",
         null,
         "https://www.google.com/maps/place//data=!4m2!3m1!1s0x52b32cb78559c6bf:0xa1dbbe3a13435cdf?authuser=-1&hl=en&gl=us",
         "Mental health clinic",
         "Marriage or relationship counselor",
         "Psychologist",
         null,
         null,
         null,
         null,
         null,
         null,
         null,
         null,
         null,
         null,
         null,
         null,
         null,
         null,
         null,
         null,
         null,
         null,
         "Lots of red tape to actually see a therapist at this center. Very annoying. However I finally found a therapist that is a good fit and I am getting good care!",
         "lots of red tape to actually see a therapist at this center very annoying however i finally found a therapist that is a good fit and i am getting good care",
         "31",
         "30",
         "30"
        ],
        [
         "815",
         "1.0304290152550733e+20",
         "Christa Weigelt",
         "1627993413617",
         "4.0",
         "I loved my counselor Dan but the company itself is terrible. They do have some good Practitioners though when it comes to chemical dependency. Therapy for anything else... Not so much.",
         "I loved my counselor Dan but the company itself is terrible. They do have some good Practitioners though when it comes to chemical dependency. Therapy for anything else... Not so much.",
         "i love my counselor dan but the company itself be terrible they do have some good practitioner though when it come to chemical dependency therapy for anything else not so much",
         "love counselor dan company terrible good practitioner though come chemical dependency therapy anything else not much",
         "31",
         "31",
         "16",
         "NEGATIVE",
         "0.9994919300079346",
         "0",
         "0x52b347e3dc3cb6fd:0x54e2d540c6ef33ec",
         "Nystrom & Associates, Ltd. - Maple Grove",
         "minnesota",
         "45.1006786",
         "-93.4527094",
         "53",
         "2.8",
         "{'Accessibility': ['Wheelchair accessible entrance'], 'Planning': ['Appointments recommended']}",
         "Nystrom & Associates, Ltd. - Maple Grove, 13603 80th Cir N, Maple Grove, MN 55369",
         "['Addiction treatment center', 'Mental health service', 'Family counselor', 'Child psychologist', 'Psychiatrist', 'Psychologist', 'Counselor', 'Alcoholism treatment program', 'Mental health clinic', 'Marriage or relationship counselor']",
         "[['Saturday', 'Closed'], ['Sunday', 'Closed'], ['Monday', '7AM–9PM'], ['Tuesday', '7AM–9PM'], ['Wednesday', '7AM–9PM'], ['Thursday', '7AM–9PM'], ['Friday', '7AM–5PM']]",
         null,
         null,
         "['0x52b34ae68f597985:0xe0cf69408640c0ad', '0x52b337e450bd0f63:0x1c1733390ef5e696', '0x52b337e50268e70b:0x44bf4a7cbb249464', '0x52b338116c40c733:0xa082641c74c0e87c', '0x52b3380e75662d0f:0x1a1b33cba7190fe7']",
         "{'time': 1628110607978, 'text': 'Hello Christa, thank you for your review. If you would like to share more about your experience, you can reach us at qualityassurance1@nystromcounseling.com.'}",
         "https://www.google.com/maps/place//data=!4m2!3m1!1s0x52b347e3dc3cb6fd:0x54e2d540c6ef33ec?authuser=-1&hl=en&gl=us",
         "Addiction treatment center",
         "Mental health service",
         "Family counselor",
         "Child psychologist",
         "Psychiatrist",
         "Psychologist",
         "Counselor",
         "Alcoholism treatment program",
         "Mental health clinic",
         "Marriage or relationship counselor",
         null,
         null,
         null,
         null,
         null,
         null,
         null,
         null,
         null,
         null,
         null,
         "I loved my counselor Dan but the company itself is terrible. They do have some good Practitioners though when it comes to chemical dependency. Therapy for anything else... Not so much.",
         "i loved my counselor dan but the company itself is terrible they do have some good practitioners though when it comes to chemical dependency therapy for anything else not so much",
         "31",
         "30",
         "30"
        ],
        [
         "862",
         "1.1792565662849352e+20",
         "Stephanie McDonald",
         "1534303107505",
         "4.0",
         "This was a great resource for me to get some help - one of the main benefits is that I felt in control a lot of the time, being able to schedule live chats and switch counsellors if I need to. My main advice is that you shouldn't be afraid of switching counsellors for any reason - if you're not comfortable you're not making the most of it.",
         "This was a great resource for me to get some help - one of the main benefits is that I felt in control a lot of the time, being able to schedule live chats and switch counsellors if I need to. My main advice is that you shouldn't be afraid of switching counsellors for any reason - if you're not comfortable you're not making the most of it.",
         "this be a great resource for me to get some help one of the main benefit be that i felt in control a lot of the time be able to schedule live chat and switch counsellor if i need to my main advice be that you should not be afraid of switch counsellor for any reason if you be not comfortable you be not make the most of it",
         "great resource get help one main benefit felt control lot time able schedule live chat switch counsellor need main advice not afraid switch counsellor reason not comfortable not make",
         "68",
         "69",
         "29",
         "POSITIVE",
         "0.9988407492637634",
         "1",
         "0x808fb63f28cc4ac7:0x12483f963427543e",
         "BetterHelp",
         "oregon",
         "45.1575501",
         "-128.1448585",
         "2682",
         "4.8",
         "{'Accessibility': ['Wheelchair accessible entrance']}",
         null,
         "['Mental health service']",
         "[['Thursday', 'Open 24 hours'], ['Friday', 'Open 24 hours'], ['Saturday', 'Open 24 hours'], ['Sunday', 'Open 24 hours'], ['Monday', 'Open 24 hours'], ['Tuesday', 'Open 24 hours'], ['Wednesday', 'Open 24 hours']]",
         null,
         null,
         "['0x808fcabc1516d5bd:0x86ea3bb32cb1ced2', '0x808fb5a9d83bf36f:0xb90cd5523cac37f6', '0x808fb504a24bdcd3:0x2812a1803ed60c8c', '0x808fba1237dab717:0xfa60b4272e3cce64', '0x808fbb3b7061a057:0xc3138c3eba9dc58e']",
         null,
         "https://www.google.com/maps/place//data=!4m2!3m1!1s0x808fb63f28cc4ac7:0x12483f963427543e?authuser=-1&hl=en&gl",
         "Mental health service",
         null,
         null,
         null,
         null,
         null,
         null,
         null,
         null,
         null,
         null,
         null,
         null,
         null,
         null,
         null,
         null,
         null,
         null,
         null,
         null,
         "This was a great resource for me to get some help - one of the main benefits is that I felt in control a lot of the time, being able to schedule live chats and switch counsellors if I need to. My main advice is that you should not be afraid of switching counsellors for any reason - if you are not comfortable you are not making the most of it.",
         "this was a great resource for me to get some help one of the main benefits is that i felt in control a lot of the time being able to schedule live chats and switch counsellors if i need to my main advice is that you should not be afraid of switching counsellors for any reason if you are not comfortable you are not making the most of it",
         "69",
         "30",
         "30"
        ],
        [
         "1015",
         "1.0808449289388515e+20",
         "Linda Dorsett",
         "1630250937110",
         "5.0",
         "Professional care with kindness and positive results from my therapist, Robert Macdonald.",
         "Professional care with kindness and positive results from my therapist, Robert Macdonald.",
         "professional care with kindness and positive result from my therapist robert macdonald",
         "professional care kindness positive result therapist robert macdonald",
         "12",
         "12",
         "8",
         "POSITIVE",
         "0.9988968372344972",
         "1",
         "0x88568f165ad8712d:0xe862f4193abca92c",
         "Ivy Rehab Physical Therapy",
         "southcarolina",
         "34.976734",
         "-81.0019806",
         "66",
         "5.0",
         "{'Accessibility': ['Wheelchair accessible entrance'], 'Planning': ['Appointments recommended']}",
         "Ivy Rehab Physical Therapy, 1738 Celanese Rd Suite 102, Rock Hill, SC 29732",
         "['Physical therapist', 'Sports medicine clinic', 'Physical therapy clinic']",
         "[['Tuesday', '7AM–7PM'], ['Wednesday', '7AM–7PM'], ['Thursday', '7AM–7PM'], ['Friday', '7AM–1PM'], ['Saturday', 'Closed'], ['Sunday', 'Closed'], ['Monday', '7AM–7PM']]",
         null,
         null,
         "['0x88568f51aa05581d:0xf31b212fcde38440', '0x8856893f3b183785:0xd6ac8efbd99200b6', '0x88568f2ebf4eda05:0x9f77a21f86cb9ea2', '0x8856856f1c4c8b87:0x7bd1997b35cf8dcf', '0x88569d084bb3fd51:0xebef5e5b6863b94b']",
         null,
         "https://www.google.com/maps/place//data=!4m2!3m1!1s0x88568f165ad8712d:0xe862f4193abca92c?authuser=-1&hl=en&gl=us",
         "Physical therapist",
         "Sports medicine clinic",
         "Physical therapy clinic",
         null,
         null,
         null,
         null,
         null,
         null,
         null,
         null,
         null,
         null,
         null,
         null,
         null,
         null,
         null,
         null,
         null,
         null,
         "Professional care with kindness and positive results from my therapist, Robert Macdonald.",
         "professional care with kindness and positive results from my therapist robert macdonald",
         "12",
         "30",
         "30"
        ],
        [
         "1239",
         "1.1132511036954576e+20",
         "Brittany Cuelho",
         "1595871168041",
         "5.0",
         "Better help has been wonderful for me. I am a travel nurse and it's hard to find stable counseling and on your time when your schedule and states change so often. This has been an amazing outlet for me to have counseling on my time. I have had nothing but amazing counselors who listen, provide techniques and also give responses that give me healthy ways to respond to stressful situations. I recommend this yo many people who struggle going to regular counselors, financial situations as they help with that as well for counseling or just scheduling issues.",
         "Better help has been wonderful for me. I am a travel nurse and it's hard to find stable counseling and on your time when your schedule and states change so often. This has been an amazing outlet for me to have counseling on my time. I have had nothing but amazing counselors who listen, provide techniques and also give responses that give me healthy ways to respond to stressful situations. I recommend this yo many people who struggle going to regular counselors, financial situations as they help with that as well for counseling or just scheduling issues.",
         "good help have be wonderful for me i be a travel nurse and it be hard to find stable counseling and on your time when your schedule and state change so often this have be an amazing outlet for me to have counsel on my time i have have nothing but amazing counselor who listen provide technique and also give response that give me healthy way to respond to stressful situation i recommend this yo many people who struggle go to regular counselor financial situation a they help with that as well for counsel or just schedule issue",
         "good help wonderful travel nurse hard find stable counseling time schedule state change often amazing outlet counsel time nothing amazing counselor listen provide technique also give response give healthy way respond stressful situation recommend yo many people struggle go regular counselor financial situation help well counsel schedule issue",
         "97",
         "98",
         "48",
         "POSITIVE",
         "0.9989311099052428",
         "1",
         "0x808fb63f28cc4ac7:0x12483f963427543e",
         "BetterHelp",
         "oregon",
         "45.1575501",
         "-128.1448585",
         "2682",
         "4.8",
         "{'Accessibility': ['Wheelchair accessible entrance']}",
         null,
         "['Mental health service']",
         "[['Thursday', 'Open 24 hours'], ['Friday', 'Open 24 hours'], ['Saturday', 'Open 24 hours'], ['Sunday', 'Open 24 hours'], ['Monday', 'Open 24 hours'], ['Tuesday', 'Open 24 hours'], ['Wednesday', 'Open 24 hours']]",
         null,
         null,
         "['0x808fcabc1516d5bd:0x86ea3bb32cb1ced2', '0x808fb5a9d83bf36f:0xb90cd5523cac37f6', '0x808fb504a24bdcd3:0x2812a1803ed60c8c', '0x808fba1237dab717:0xfa60b4272e3cce64', '0x808fbb3b7061a057:0xc3138c3eba9dc58e']",
         null,
         "https://www.google.com/maps/place//data=!4m2!3m1!1s0x808fb63f28cc4ac7:0x12483f963427543e?authuser=-1&hl=en&gl",
         "Mental health service",
         null,
         null,
         null,
         null,
         null,
         null,
         null,
         null,
         null,
         null,
         null,
         null,
         null,
         null,
         null,
         null,
         null,
         null,
         null,
         null,
         "Better help has been wonderful for me. I am a travel nurse and it is hard to find stable counseling and on your time when your schedule and states change so often. This has been an amazing outlet for me to have counseling on my time. I have had nothing but amazing counselors who listen, provide techniques and also give responses that give me healthy ways to respond to stressful situations. I recommend this yo many people who struggle going to regular counselors, financial situations as they help with that as well for counseling or just scheduling issues.",
         "better help has been wonderful for me i am a travel nurse and it is hard to find stable counseling and on your time when your schedule and states change so often this has been an amazing outlet for me to have counseling on my time i have had nothing but amazing counselors who listen provide techniques and also give responses that give me healthy ways to respond to stressful situations i recommend this yo many people who struggle going to regular counselors financial situations as they help with that as well for counseling or just scheduling issues",
         "98",
         "30",
         "30"
        ],
        [
         "1857",
         "1.087094086181304e+20",
         "Jen",
         "1605125647280",
         "5.0",
         "Very professional and knowledgeable therapists who really listen in order to develop a program tailored to the needs of the patient. Thanks to everyone at OST for helping to make my recovery possible!",
         "Very professional and knowledgeable therapists who really listen in order to develop a program tailored to the needs of the patient. Thanks to everyone at OST for helping to make my recovery possible!",
         "very professional and knowledgeable therapist who really listen in order to develop a program tailor to the need of the patient thanks to everyone at ost for help to make my recovery possible",
         "professional knowledgeable therapist really listen order develop program tailor need patient thanks everyone ost help make recovery possible",
         "33",
         "33",
         "18",
         "POSITIVE",
         "0.9989344477653505",
         "1",
         "0x8803b19d1f2343b3:0x45782e86e057ffaa",
         "Orthopedic & Spine Therapy Appleton",
         "wisconsin",
         "44.3012098",
         "-88.3608265",
         "78",
         "4.8",
         "{'Accessibility': ['Wheelchair accessible entrance', 'Wheelchair accessible restroom'], 'Planning': ['Appointments recommended']}",
         "Orthopedic & Spine Therapy Appleton, 4000 N Providence Ave, Appleton, WI 54913",
         "['Physical therapy clinic', 'Massage therapist']",
         "[['Wednesday', '7AM–5PM'], ['Thursday', '7AM–5PM'], ['Friday', '7AM–5PM'], ['Saturday', 'Closed'], ['Sunday', 'Closed'], ['Monday', '7AM–5PM'], ['Tuesday', '7AM–5PM']]",
         null,
         null,
         "['0x8803b16e24bb5b3b:0xbfaff8a80d76386f', '0x8803b6c4926f9ac9:0xe1e8649e078327b', '0x8803b171cbe7051b:0x3ba0d25ff967de1a', '0x8803b0d52c3895cd:0x5bbcea6bae6846c2']",
         null,
         "https://www.google.com/maps/place//data=!4m2!3m1!1s0x8803b19d1f2343b3:0x45782e86e057ffaa?authuser=-1&hl=en&gl=us",
         "Physical therapy clinic",
         "Massage therapist",
         null,
         null,
         null,
         null,
         null,
         null,
         null,
         null,
         null,
         null,
         null,
         null,
         null,
         null,
         null,
         null,
         null,
         null,
         null,
         "Very professional and knowledgeable therapists who really listen in order to develop a program tailored to the needs of the patient. Thanks to everyone at OST for helping to make my recovery possible!",
         "very professional and knowledgeable therapists who really listen in order to develop a program tailored to the needs of the patient thanks to everyone at ost for helping to make my recovery possible",
         "33",
         "30",
         "30"
        ],
        [
         "2056",
         "1.1144432049826498e+20",
         "Jasmine Herron",
         "1519006666675",
         "4.0",
         "I've been there three times. First two loved it! Third it was my therapist. I asked for deep tissue and was not accommodated. She even told me she couldn't but didn't get me another therapist....",
         "I've been there three times. First two loved it! Third it was my therapist. I asked for deep tissue and was not accommodated. She even told me she couldn't but didn't get me another therapist....",
         "i have be there three time first two love it third it be my therapist i ask for deep tissue and be not accommodate she even tell me she could not but do not get me another therapist",
         "three time first two love third therapist ask deep tissue not accommodate even tell could not not get another therapist",
         "35",
         "38",
         "20",
         "NEGATIVE",
         "0.9934831261634828",
         "0",
         "0x52b32ba9ff3fffff:0xbbb9c293a2ef15c3",
         "Massage Xcape & Float",
         "minnesota",
         "44.9942363",
         "-93.147031",
         "118",
         "3.8",
         "{'From the business': ['Identifies as Black-owned', 'Identifies as women-led'], 'Health & safety': ['Appointment required', 'Mask required', 'Temperature check required', 'Staff wear masks', 'Staff get temperature checks', 'Staff required to disinfect surfaces between visits'], 'Accessibility': ['Wheelchair accessible entrance', 'Wheelchair accessible parking lot', 'Wheelchair accessible restroom'], 'Planning': ['LGBTQ friendly']}",
         "Massage Xcape & Float, 1767 Lexington Ave N, Roseville, MN 55113",
         "['Health spa', 'Massage therapist', 'Wellness center', 'Wellness program', 'Massage spa']",
         "[['Friday', '10AM–7PM'], ['Saturday', '10AM–6PM'], ['Sunday', '11AM–6PM'], ['Monday', '10AM–7PM'], ['Tuesday', 'Closed'], ['Wednesday', '11AM–5PM'], ['Thursday', '10AM–7PM']]",
         null,
         null,
         "['0x87f62a20853a82c7:0x3c03c2710a48e208', '0x87f62abd7c77d805:0xca88c3cbb33759c1', '0x52b32bc450c55555:0xec8f000a55c677f3']",
         null,
         "https://www.google.com/maps/place//data=!4m2!3m1!1s0x52b32ba9ff3fffff:0xbbb9c293a2ef15c3?authuser=-1&hl=en&gl=us",
         "Health spa",
         "Massage therapist",
         "Wellness center",
         "Wellness program",
         "Massage spa",
         null,
         null,
         null,
         null,
         null,
         null,
         null,
         null,
         null,
         null,
         null,
         null,
         null,
         null,
         null,
         null,
         "I have been there three times. First two loved it! Third it was my therapist. I asked for deep tissue and was not accommodated. She even told me she could not but did not get me another therapist....",
         "i have been there three times first two loved it third it was my therapist i asked for deep tissue and was not accommodated she even told me she could not but did not get me another therapist",
         "38",
         "30",
         "30"
        ],
        [
         "2100",
         "1.08855561096117e+20",
         "Abbey VanderBent",
         "1598796021776",
         "5.0",
         "Easily the best experience I've had in therapy and I've been to therapists for decades. Queer friendly and affirming. Responsive and respectful. I'm so incredibly grateful that I found them.",
         "Easily the best experience I've had in therapy and I've been to therapists for decades. Queer friendly and affirming. Responsive and respectful. I'm so incredibly grateful that I found them.",
         "easily the best experience i have have in therapy and i have be to therapist for decade queer friendly and affirm responsive and respectful i be so incredibly grateful that i find them",
         "easily best experience therapy therapist decade queer friendly affirm responsive respectful incredibly grateful find",
         "30",
         "33",
         "14",
         "POSITIVE",
         "0.9989332556724548",
         "1",
         "0x87f6263889f9862d:0x629917a8f5807558",
         "Tangletown Psychotherapy and Assessment Center",
         "minnesota",
         "44.9040602",
         "-93.2776374",
         "3",
         "5.0",
         "{'Accessibility': ['Wheelchair accessible entrance'], 'Planning': ['Appointments recommended']}",
         "Tangletown Psychotherapy and Assessment Center, 6 E Diamond Lake Rd, Minneapolis, MN 55419",
         "['Mental health clinic']",
         "[['Saturday', 'Closed'], ['Sunday', 'Closed'], ['Monday', '9AM–9PM'], ['Tuesday', '9AM–9PM'], ['Wednesday', '9AM–9PM'], ['Thursday', '9AM–9PM'], ['Friday', '9AM–5PM']]",
         null,
         null,
         "['0x52b332dadb7b52db:0x3caadb19b200cbf4', '0x87f6265ab39b85b9:0x3dc133a530c75dda', '0x87f62dda4800054b:0x2e0c211d7d329084', '0x52b32cb78559c6bf:0xa1dbbe3a13435cdf', '0x52b332b8fc74e0bb:0x5686b4541f8fbb89']",
         null,
         "https://www.google.com/maps/place//data=!4m2!3m1!1s0x87f6263889f9862d:0x629917a8f5807558?authuser=-1&hl=en&gl=us",
         "Mental health clinic",
         null,
         null,
         null,
         null,
         null,
         null,
         null,
         null,
         null,
         null,
         null,
         null,
         null,
         null,
         null,
         null,
         null,
         null,
         null,
         null,
         "Easily the best experience I have had in therapy and I have been to therapists for decades. Queer friendly and affirming. Responsive and respectful. I am so incredibly grateful that I found them.",
         "easily the best experience i have had in therapy and i have been to therapists for decades queer friendly and affirming responsive and respectful i am so incredibly grateful that i found them",
         "33",
         "30",
         "30"
        ],
        [
         "2123",
         "1.0559508551752076e+20",
         "Shaunese Dumas",
         "1620081437470",
         "4.0",
         "I was initially skeptical about virtual counseling. But, it’s been helpful and super convenient.",
         "I was initially skeptical about virtual counseling. But, it’s been helpful and super convenient.",
         "i be initially skeptical about virtual counseling but it be be helpful and super convenient",
         "initially skeptical virtual counseling helpful super convenient",
         "14",
         "15",
         "7",
         "POSITIVE",
         "0.9989232420921326",
         "1",
         "0x808fb63f28cc4ac7:0x12483f963427543e",
         "BetterHelp",
         "oregon",
         "45.1575501",
         "-128.1448585",
         "2682",
         "4.8",
         "{'Accessibility': ['Wheelchair accessible entrance']}",
         null,
         "['Mental health service']",
         "[['Thursday', 'Open 24 hours'], ['Friday', 'Open 24 hours'], ['Saturday', 'Open 24 hours'], ['Sunday', 'Open 24 hours'], ['Monday', 'Open 24 hours'], ['Tuesday', 'Open 24 hours'], ['Wednesday', 'Open 24 hours']]",
         null,
         null,
         "['0x808fcabc1516d5bd:0x86ea3bb32cb1ced2', '0x808fb5a9d83bf36f:0xb90cd5523cac37f6', '0x808fb504a24bdcd3:0x2812a1803ed60c8c', '0x808fba1237dab717:0xfa60b4272e3cce64', '0x808fbb3b7061a057:0xc3138c3eba9dc58e']",
         null,
         "https://www.google.com/maps/place//data=!4m2!3m1!1s0x808fb63f28cc4ac7:0x12483f963427543e?authuser=-1&hl=en&gl",
         "Mental health service",
         null,
         null,
         null,
         null,
         null,
         null,
         null,
         null,
         null,
         null,
         null,
         null,
         null,
         null,
         null,
         null,
         null,
         null,
         null,
         null,
         "I was initially skeptical about virtual counseling. But, it is been helpful and super convenient.",
         "i was initially skeptical about virtual counseling but it is been helpful and super convenient",
         "15",
         "30",
         "30"
        ],
        [
         "2154",
         "1.0439500064521391e+20",
         "Darlene Carter",
         "1502117890161",
         "5.0",
         "The staff is super friendly. The therapist, techs and balance techs are amazing. I have had the best treatment here and I love it here.",
         "The staff is super friendly. The therapist, techs and balance techs are amazing. I have had the best treatment here and I love it here.",
         "the staff be super friendly the therapist tech and balance tech be amaze i have have the best treatment here and i love it here",
         "staff super friendly therapist tech balance tech amaze best treatment love",
         "25",
         "25",
         "11",
         "POSITIVE",
         "0.9989270567893982",
         "1",
         "0x874d907c52d51001:0xa92ad406221ba785",
         "FYZICAL Therapy & Balance Centers - Provo",
         "utah",
         "40.2779738",
         "-111.6588528",
         "178",
         "4.8",
         "{'Planning': ['Appointments recommended']}",
         "FYZICAL Therapy & Balance Centers - Provo, 3303 N University Ave, Provo, UT 84604",
         "['Physical therapy clinic', 'Physical therapist', 'Rehabilitation center', 'Sports medicine clinic', 'Massage therapist']",
         "[['Monday', '7AM–7PM'], ['Tuesday', '7AM–7PM'], ['Wednesday', '7AM–7PM'], ['Thursday', '7AM–7PM'], ['Friday', '7AM–7PM'], ['Saturday', '7AM–12PM'], ['Sunday', 'Closed']]",
         null,
         null,
         "['0x874d907b8e50f063:0xd06454a48d52f899', '0x874d90a7325ce899:0xdf433865cb85180f', '0x874d9a8798d7f6d3:0xeee4ef41ab9a661d', '0x874d8528f29f258f:0xbbb1c15652e7aa02', '0x874d9a0a2c3236e3:0x8e2ddf21dc0a2864']",
         null,
         "https://www.google.com/maps/place//data=!4m2!3m1!1s0x874d907c52d51001:0xa92ad406221ba785?authuser=-1&hl=en&gl=us",
         "Physical therapy clinic",
         "Physical therapist",
         "Rehabilitation center",
         "Sports medicine clinic",
         "Massage therapist",
         null,
         null,
         null,
         null,
         null,
         null,
         null,
         null,
         null,
         null,
         null,
         null,
         null,
         null,
         null,
         null,
         "The staff is super friendly. The therapist, techs and balance techs are amazing. I have had the best treatment here and I love it here.",
         "the staff is super friendly the therapist techs and balance techs are amazing i have had the best treatment here and i love it here",
         "25",
         "30",
         "30"
        ],
        [
         "2210",
         "1.0127876798791244e+20",
         "Yanira Reyeslopez",
         "1618697433710",
         "5.0",
         "This is a great site BetterHelp to seek therapy and support. Specifically in our current social distance reality we live in. You can communicate via text, phone and video, this is super important to me because I can reach out to my therapist when i need to.  I can use the journal daily or whenever i want. I can view webinars on different topics like anger, relationships,  and many more at my own convenience! I really like this site!!!",
         "This is a great site BetterHelp to seek therapy and support. Specifically in our current social distance reality we live in. You can communicate via text, phone and video, this is super important to me because I can reach out to my therapist when i need to.  I can use the journal daily or whenever i want. I can view webinars on different topics like anger, relationships,  and many more at my own convenience! I really like this site!!!",
         "this be a great site betterhelp to seek therapy and support specifically in our current social distance reality we live in you can communicate via text phone and video this be super important to me because i can reach out to my therapist when i need to i can use the journal daily or whenever i want i can view webinars on different topic like anger relationship and many more at my own convenience i really like this site",
         "great site betterhelp seek therapy support specifically current social distance reality live communicate via text phone video super important reach therapist need use journal daily whenever want view webinars different topic like anger relationship many convenience really like site",
         "79",
         "79",
         "39",
         "POSITIVE",
         "0.9989056587219238",
         "1",
         "0x808fb63f28cc4ac7:0x12483f963427543e",
         "BetterHelp",
         "oregon",
         "45.1575501",
         "-128.1448585",
         "2682",
         "4.8",
         "{'Accessibility': ['Wheelchair accessible entrance']}",
         null,
         "['Mental health service']",
         "[['Thursday', 'Open 24 hours'], ['Friday', 'Open 24 hours'], ['Saturday', 'Open 24 hours'], ['Sunday', 'Open 24 hours'], ['Monday', 'Open 24 hours'], ['Tuesday', 'Open 24 hours'], ['Wednesday', 'Open 24 hours']]",
         null,
         null,
         "['0x808fcabc1516d5bd:0x86ea3bb32cb1ced2', '0x808fb5a9d83bf36f:0xb90cd5523cac37f6', '0x808fb504a24bdcd3:0x2812a1803ed60c8c', '0x808fba1237dab717:0xfa60b4272e3cce64', '0x808fbb3b7061a057:0xc3138c3eba9dc58e']",
         null,
         "https://www.google.com/maps/place//data=!4m2!3m1!1s0x808fb63f28cc4ac7:0x12483f963427543e?authuser=-1&hl=en&gl",
         "Mental health service",
         null,
         null,
         null,
         null,
         null,
         null,
         null,
         null,
         null,
         null,
         null,
         null,
         null,
         null,
         null,
         null,
         null,
         null,
         null,
         null,
         "This is a great site BetterHelp to seek therapy and support. Specifically in our current social distance reality we live in. You can communicate via text, phone and video, this is super important to me because I can reach out to my therapist when i need to.  I can use the journal daily or whenever i want. I can view webinars on different topics like anger, relationships,  and many more at my own convenience! I really like this site!!!",
         "this is a great site betterhelp to seek therapy and support specifically in our current social distance reality we live in you can communicate via text phone and video this is super important to me because i can reach out to my therapist when i need to i can use the journal daily or whenever i want i can view webinars on different topics like anger relationships and many more at my own convenience i really like this site",
         "79",
         "30",
         "30"
        ],
        [
         "2991",
         "1.1209024456994433e+20",
         "Trinh Tran (Trinh)",
         "1549156797893",
         "5.0",
         "I was recommended BetterHelp when I was at my lowest last year. I was matched with an amazing counselor and she has helped me thru so much. They offer many options such as video call, voice call, chat, email-style, etc. and the schedules are flexible. The counselors are actual therapists/social workers with professional experience, they know what they're doing! I've felt so much better since started with BetterHelp, and my counselor has been nothing but kind, understanding, professional, knowledgeable, and patient to me. Highly recommended.",
         "I was recommended BetterHelp when I was at my lowest last year. I was matched with an amazing counselor and she has helped me thru so much. They offer many options such as video call, voice call, chat, email-style, etc. and the schedules are flexible. The counselors are actual therapists/social workers with professional experience, they know what they're doing! I've felt so much better since started with BetterHelp, and my counselor has been nothing but kind, understanding, professional, knowledgeable, and patient to me. Highly recommended.",
         "i be recommend betterhelp when i be at my low last year i be match with an amazing counselor and she have help me thru so much they offer many option such a video call voice call chat email-style etc and the schedule be flexible the counselor be actual therapists/social worker with professional experience they know what they be do i have felt so much good since start with betterhelp and my counselor have be nothing but kind understanding professional knowledgeable and patient to me highly recommended",
         "recommend betterhelp low last year match amazing counselor help thru much offer many option video call voice call chat email-style etc schedule flexible counselor actual therapists/social worker professional experience know felt much good since start betterhelp counselor nothing kind understanding professional knowledgeable patient highly recommended",
         "85",
         "87",
         "45",
         "POSITIVE",
         "0.9989326596260072",
         "1",
         "0x808fb63f28cc4ac7:0x12483f963427543e",
         "BetterHelp",
         "oregon",
         "45.1575501",
         "-128.1448585",
         "2682",
         "4.8",
         "{'Accessibility': ['Wheelchair accessible entrance']}",
         null,
         "['Mental health service']",
         "[['Thursday', 'Open 24 hours'], ['Friday', 'Open 24 hours'], ['Saturday', 'Open 24 hours'], ['Sunday', 'Open 24 hours'], ['Monday', 'Open 24 hours'], ['Tuesday', 'Open 24 hours'], ['Wednesday', 'Open 24 hours']]",
         null,
         null,
         "['0x808fcabc1516d5bd:0x86ea3bb32cb1ced2', '0x808fb5a9d83bf36f:0xb90cd5523cac37f6', '0x808fb504a24bdcd3:0x2812a1803ed60c8c', '0x808fba1237dab717:0xfa60b4272e3cce64', '0x808fbb3b7061a057:0xc3138c3eba9dc58e']",
         null,
         "https://www.google.com/maps/place//data=!4m2!3m1!1s0x808fb63f28cc4ac7:0x12483f963427543e?authuser=-1&hl=en&gl",
         "Mental health service",
         null,
         null,
         null,
         null,
         null,
         null,
         null,
         null,
         null,
         null,
         null,
         null,
         null,
         null,
         null,
         null,
         null,
         null,
         null,
         null,
         "I was recommended BetterHelp when I was at my lowest last year. I was matched with an amazing counselor and she has helped me thru so much. They offer many options such as video call, voice call, chat, email-style, etc. and the schedules are flexible. The counselors are actual therapists/social workers with professional experience, they know what they are doing! I have felt so much better since started with BetterHelp, and my counselor has been nothing but kind, understanding, professional, knowledgeable, and patient to me. Highly recommended.",
         "i was recommended betterhelp when i was at my lowest last year i was matched with an amazing counselor and she has helped me thru so much they offer many options such as video call voice call chat emailstyle etc and the schedules are flexible the counselors are actual therapistssocial workers with professional experience they know what they are doing i have felt so much better since started with betterhelp and my counselor has been nothing but kind understanding professional knowledgeable and patient to me highly recommended",
         "87",
         "30",
         "30"
        ],
        [
         "3688",
         "1.063313277156607e+20",
         "Roxanne Shover",
         "1591759128170",
         "5.0",
         "Excellent counseling program! They even have Christian counselors. The fees are reasonable and the counselors are accessible also.",
         "Excellent counseling program! They even have Christian counselors. The fees are reasonable and the counselors are accessible also.",
         "excellent counseling program they even have christian counselor the fee be reasonable and the counselor be accessible also",
         "excellent counseling program even christian counselor fee reasonable counselor accessible also",
         "18",
         "18",
         "11",
         "POSITIVE",
         "0.9988486766815186",
         "1",
         "0x808fb63f28cc4ac7:0x12483f963427543e",
         "BetterHelp",
         "oregon",
         "45.1575501",
         "-128.1448585",
         "2682",
         "4.8",
         "{'Accessibility': ['Wheelchair accessible entrance']}",
         null,
         "['Mental health service']",
         "[['Thursday', 'Open 24 hours'], ['Friday', 'Open 24 hours'], ['Saturday', 'Open 24 hours'], ['Sunday', 'Open 24 hours'], ['Monday', 'Open 24 hours'], ['Tuesday', 'Open 24 hours'], ['Wednesday', 'Open 24 hours']]",
         null,
         null,
         "['0x808fcabc1516d5bd:0x86ea3bb32cb1ced2', '0x808fb5a9d83bf36f:0xb90cd5523cac37f6', '0x808fb504a24bdcd3:0x2812a1803ed60c8c', '0x808fba1237dab717:0xfa60b4272e3cce64', '0x808fbb3b7061a057:0xc3138c3eba9dc58e']",
         null,
         "https://www.google.com/maps/place//data=!4m2!3m1!1s0x808fb63f28cc4ac7:0x12483f963427543e?authuser=-1&hl=en&gl",
         "Mental health service",
         null,
         null,
         null,
         null,
         null,
         null,
         null,
         null,
         null,
         null,
         null,
         null,
         null,
         null,
         null,
         null,
         null,
         null,
         null,
         null,
         "Excellent counseling program! They even have Christian counselors. The fees are reasonable and the counselors are accessible also.",
         "excellent counseling program they even have christian counselors the fees are reasonable and the counselors are accessible also",
         "18",
         "30",
         "30"
        ],
        [
         "3961",
         "1.1145819181000516e+20",
         "Holly MacDonald",
         "1623361227246",
         "5.0",
         "The BetterHelp app is a great option for people looking for mental health support. You’re able to chat with a counsellor through video, phone call or messaging. It’s flexible and affordable. I would recommend it to anyone who is looking for emotional support.",
         "The BetterHelp app is a great option for people looking for mental health support. You’re able to chat with a counsellor through video, phone call or messaging. It’s flexible and affordable. I would recommend it to anyone who is looking for emotional support.",
         "the betterhelp app be a great option for people look for mental health support you be able to chat with a counsellor through video phone call or messaging it be flexible and affordable i would recommend it to anyone who be look for emotional support",
         "betterhelp app great option people look mental health support able chat counsellor video phone call messaging flexible affordable would recommend anyone look emotional support",
         "43",
         "45",
         "24",
         "POSITIVE",
         "0.9989094734191896",
         "1",
         "0x808fb63f28cc4ac7:0x12483f963427543e",
         "BetterHelp",
         "oregon",
         "45.1575501",
         "-128.1448585",
         "2682",
         "4.8",
         "{'Accessibility': ['Wheelchair accessible entrance']}",
         null,
         "['Mental health service']",
         "[['Thursday', 'Open 24 hours'], ['Friday', 'Open 24 hours'], ['Saturday', 'Open 24 hours'], ['Sunday', 'Open 24 hours'], ['Monday', 'Open 24 hours'], ['Tuesday', 'Open 24 hours'], ['Wednesday', 'Open 24 hours']]",
         null,
         null,
         "['0x808fcabc1516d5bd:0x86ea3bb32cb1ced2', '0x808fb5a9d83bf36f:0xb90cd5523cac37f6', '0x808fb504a24bdcd3:0x2812a1803ed60c8c', '0x808fba1237dab717:0xfa60b4272e3cce64', '0x808fbb3b7061a057:0xc3138c3eba9dc58e']",
         null,
         "https://www.google.com/maps/place//data=!4m2!3m1!1s0x808fb63f28cc4ac7:0x12483f963427543e?authuser=-1&hl=en&gl",
         "Mental health service",
         null,
         null,
         null,
         null,
         null,
         null,
         null,
         null,
         null,
         null,
         null,
         null,
         null,
         null,
         null,
         null,
         null,
         null,
         null,
         null,
         "The BetterHelp app is a great option for people looking for mental health support. You are able to chat with a counsellor through video, phone call or messaging. It is flexible and affordable. I would recommend it to anyone who is looking for emotional support.",
         "the betterhelp app is a great option for people looking for mental health support you are able to chat with a counsellor through video phone call or messaging it is flexible and affordable i would recommend it to anyone who is looking for emotional support",
         "45",
         "30",
         "30"
        ],
        [
         "4174",
         "1.1239617435349862e+20",
         "Maria A (BitGypsy)",
         "1553962183950",
         "5.0",
         "Great staff and excellent treatment at the Bowie location.  This is the first time that I've ever felt  therapy has helped me. My therapist,  Bruce is wonderful and I appreciate his care.",
         "Great staff and excellent treatment at the Bowie location.  This is the first time that I've ever felt  therapy has helped me. My therapist,  Bruce is wonderful and I appreciate his care.",
         "great staff and excellent treatment at the bowie location this be the first time that i have ever felt therapy have help me my therapist bruce be wonderful and i appreciate his care",
         "great staff excellent treatment bowie location first time ever felt therapy help therapist bruce wonderful appreciate care",
         "32",
         "33",
         "17",
         "POSITIVE",
         "0.9989041090011596",
         "1",
         "0x89b7ec71cf5e71cd:0xa9fbf2cd929764ef",
         "NovaCare Rehabilitation",
         "maryland",
         "38.9637872",
         "-76.71137639999999",
         "58",
         "5.0",
         "{'Service options': ['Online care'], 'Health & safety': ['Mask required'], 'Accessibility': ['Wheelchair accessible restroom'], 'Planning': ['Appointments recommended']}",
         "NovaCare Rehabilitation, 16900 Science Dr Suite 104-106, Bowie, MD 20715",
         "['Orthopedic surgeon', 'Sports medicine clinic', 'Pain management physician', 'Physical therapy clinic', 'Wellness center', 'Medical clinic']",
         "[['Saturday', 'Closed'], ['Sunday', 'Closed'], ['Monday', '7AM–8PM'], ['Tuesday', '7AM–4:30PM'], ['Wednesday', '7AM–8PM'], ['Thursday', '9:30AM–8PM'], ['Friday', '7AM–2:30PM']]",
         null,
         null,
         "['0x89b7eb8e6c7beda7:0x24b71b07404ef58d', '0x89b7eb8a1453ddd7:0xb6112755d32ff792', '0x89b7eb8a3d74e057:0x6b6b5a9a93fd7b72', '0x89b7e953725685c5:0xbe7deda5c7200605', '0x89b7e91c7a1e5759:0x9bd5832ea07e0abe']",
         null,
         "https://www.google.com/maps/place//data=!4m2!3m1!1s0x89b7ec71cf5e71cd:0xa9fbf2cd929764ef?authuser=-1&hl=en&gl=us",
         "Orthopedic surgeon",
         "Sports medicine clinic",
         "Pain management physician",
         "Physical therapy clinic",
         "Wellness center",
         "Medical clinic",
         null,
         null,
         null,
         null,
         null,
         null,
         null,
         null,
         null,
         null,
         null,
         null,
         null,
         null,
         null,
         "Great staff and excellent treatment at the Bowie location.  This is the first time that I have ever felt  therapy has helped me. My therapist,  Bruce is wonderful and I appreciate his care.",
         "great staff and excellent treatment at the bowie location this is the first time that i have ever felt therapy has helped me my therapist bruce is wonderful and i appreciate his care",
         "33",
         "30",
         "30"
        ],
        [
         "4660",
         "1.0025616239557127e+20",
         "Rodney Davis",
         "1617213302159",
         "2.0",
         "They are very nice and friendly but emtirely to many patients per Therapist. They get things confused, forget about where you are in your activities, evaluation is very unclear and no clear instructions on what to do on your own once you leave.",
         "They are very nice and friendly but emtirely to many patients per Therapist. They get things confused, forget about where you are in your activities, evaluation is very unclear and no clear instructions on what to do on your own once you leave.",
         "they be very nice and friendly but emtirely to many patient per therapist they get thing confuse forget about where you be in your activity evaluation be very unclear and no clear instruction on what to do on your own once you leave",
         "nice friendly emtirely many patient per therapist get thing confuse forget activity evaluation unclear no clear instruction leave",
         "43",
         "43",
         "18",
         "NEGATIVE",
         "0.9995081424713136",
         "0",
         "0x88890caaacb4267d:0xd753e2d211fb45e5",
         "ATI Physical Therapy",
         "Alabama",
         "33.659820499999995",
         "-86.5812377",
         "56",
         "4.9",
         "{'Service options': ['Online care'], 'Health & safety': ['Mask required', 'Staff wear masks', 'Staff required to disinfect surfaces between visits'], 'Accessibility': ['Wheelchair accessible entrance'], 'Planning': ['Appointments recommended']}",
         "ATI Physical Therapy, 7201 Happy Hollow Rd, Trussville, AL 35173",
         "['Physical therapy clinic', 'Sports medicine clinic', 'Rehabilitation center']",
         "[['Sunday', 'Closed'], ['Monday', '7AM–7PM'], ['Tuesday', '7AM–7PM'], ['Wednesday', '7AM–7PM'], ['Thursday', '7AM–7PM'], ['Friday', '7AM–7PM'], ['Saturday', 'Closed']]",
         null,
         null,
         "['0x88890db06ed28727:0x8c31bf66a6b26f91', '0x88890dc190eb604b:0xa617416b59f03a05', '0x88890db03bd9bcf1:0x8c6a43079f1e64fc', '0x88890dc7e2e7924f:0xd706aa1084ee0145', '0x88890dc1be2549e5:0xd4242a67f4f5fb34']",
         null,
         "https://www.google.com/maps/place//data=!4m2!3m1!1s0x88890caaacb4267d:0xd753e2d211fb45e5?authuser=-1&hl=en&gl=us",
         "Physical therapy clinic",
         "Sports medicine clinic",
         "Rehabilitation center",
         null,
         null,
         null,
         null,
         null,
         null,
         null,
         null,
         null,
         null,
         null,
         null,
         null,
         null,
         null,
         null,
         null,
         null,
         "They are very nice and friendly but emtirely to many patients per Therapist. They get things confused, forget about where you are in your activities, evaluation is very unclear and no clear instructions on what to do on your own once you leave.",
         "they are very nice and friendly but emtirely to many patients per therapist they get things confused forget about where you are in your activities evaluation is very unclear and no clear instructions on what to do on your own once you leave",
         "43",
         "30",
         "30"
        ],
        [
         "4903",
         "1.175782089186505e+20",
         "Michael Tarselli",
         "1507310483114",
         "5.0",
         "Quiet, tranquil, and professional. Therapists are patient and know how to tailor experience to your needs.",
         "Quiet, tranquil, and professional. Therapists are patient and know how to tailor experience to your needs.",
         "quiet tranquil and professional therapist be patient and know how to tailor experience to your need",
         "quiet tranquil professional therapist patient know tailor experience need",
         "16",
         "16",
         "9",
         "POSITIVE",
         "0.998920440673828",
         "1",
         "0x89e37718bca6ce1d:0x3e466643c75efc89",
         "Massage Therapy Works Inc",
         "massachusetts",
         "42.3955694",
         "-71.1217076",
         "284",
         "4.9",
         "{'Health & safety': ['Appointment required', 'Mask required', 'Temperature check required', 'Staff wear masks', 'Staff get temperature checks', 'Staff required to disinfect surfaces between visits'], 'Accessibility': ['Wheelchair accessible elevator', 'Wheelchair accessible entrance', 'Wheelchair accessible parking lot', 'Wheelchair accessible restroom'], 'Planning': ['LGBTQ friendly']}",
         "Massage Therapy Works Inc, 255 Elm St #302, Somerville, MA 02144",
         "['Acupuncturist', 'Massage therapist', 'Wellness center']",
         "[['Friday', '9AM–8PM'], ['Saturday', '10AM–6PM'], ['Sunday', '10AM–9PM'], ['Monday', '9AM–8PM'], ['Tuesday', '9AM–8PM'], ['Wednesday', '9AM–8PM'], ['Thursday', '9AM–8PM']]",
         null,
         null,
         "['0x89e37718a31aaaab:0xd6e511c60945c140', '0x89e3776016e535ed:0x6dc99b98998c2c38', '0x89e3773e133a7587:0x25373ec3e29fa3bb']",
         null,
         "https://www.google.com/maps/place//data=!4m2!3m1!1s0x89e37718bca6ce1d:0x3e466643c75efc89?authuser=-1&hl=en&gl=us",
         "Acupuncturist",
         "Massage therapist",
         "Wellness center",
         null,
         null,
         null,
         null,
         null,
         null,
         null,
         null,
         null,
         null,
         null,
         null,
         null,
         null,
         null,
         null,
         null,
         null,
         "Quiet, tranquil, and professional. Therapists are patient and know how to tailor experience to your needs.",
         "quiet tranquil and professional therapists are patient and know how to tailor experience to your needs",
         "16",
         "30",
         "30"
        ],
        [
         "5339",
         "1.1833233359563748e+20",
         "Kayla Foreman",
         "1500577736844",
         "5.0",
         "I have been coming here to see my therapist for almost a year now and I love it! Last year, I mentally lost it, but with the help and patience from everyone here, I feel like me again. Thank you guys.",
         "I have been coming here to see my therapist for almost a year now and I love it! Last year, I mentally lost it, but with the help and patience from everyone here, I feel like me again. Thank you guys.",
         "i have be come here to see my therapist for almost a year now and i love it last year i mentally lose it but with the help and patience from everyone here i feel like me again thank you guy",
         "come see therapist almost year love last year mentally lose help patience everyone feel like thank guy",
         "41",
         "41",
         "17",
         "POSITIVE",
         "0.998939573764801",
         "1",
         "0x8857758ebfa6f3b7:0xeb68ac61e25ce2bb",
         "Emerge Family Therapy Center & Teaching Clinic",
         "southcarolina",
         "34.9832189",
         "-81.89885249999999",
         "5",
         "4.4",
         "{'Accessibility': ['Wheelchair accessible entrance', 'Wheelchair accessible restroom'], 'Amenities': ['Restroom'], 'Planning': ['Appointments recommended', 'Transgender safespace', 'LGBTQ friendly']}",
         "Emerge Family Therapy Center & Teaching Clinic, 138 Dillon Dr, Spartanburg, SC 29307",
         "['Psychotherapist', 'Family counselor']",
         "[['Monday', '9AM–8PM'], ['Tuesday', '9AM–8PM'], ['Wednesday', '9AM–8PM'], ['Thursday', '9AM–8PM'], ['Friday', '9AM–8PM'], ['Saturday', 'Closed'], ['Sunday', 'Closed']]",
         null,
         null,
         "['0x8857758e8506e9a9:0x7b437fd66b30076f', '0x8857755ee3e976df:0xd5d3cce315d54a31', '0x885775f4f935c883:0x6f998d84a4393682', '0x885775d2ca14ae5b:0xd0dbd5f1987f08a1', '0x885775f48c03e5ab:0x71267afa6c998d61']",
         null,
         "https://www.google.com/maps/place//data=!4m2!3m1!1s0x8857758ebfa6f3b7:0xeb68ac61e25ce2bb?authuser=-1&hl=en&gl=us",
         "Psychotherapist",
         "Family counselor",
         null,
         null,
         null,
         null,
         null,
         null,
         null,
         null,
         null,
         null,
         null,
         null,
         null,
         null,
         null,
         null,
         null,
         null,
         null,
         "I have been coming here to see my therapist for almost a year now and I love it! Last year, I mentally lost it, but with the help and patience from everyone here, I feel like me again. Thank you guys.",
         "i have been coming here to see my therapist for almost a year now and i love it last year i mentally lost it but with the help and patience from everyone here i feel like me again thank you guys",
         "41",
         "30",
         "30"
        ],
        [
         "5446",
         "1.1009466591070957e+20",
         "Jean Stanford",
         "1484185761002",
         "5.0",
         "Thanks to Lindsey and the great staff at Mullis PT. I am very pleased with my therapy experience. This was my second PT with all of you so that speaks for itself. I certainly would pass your name on to others. Also hours in evening helped greatly.\nThanks Again\nJean Stanford",
         "Thanks to Lindsey and the great staff at Mullis PT. I am very pleased with my therapy experience. This was my second PT with all of you so that speaks for itself. I certainly would pass your name on to others. Also hours in evening helped greatly.\nThanks Again\nJean Stanford",
         "thanks to lindsey and the great staff at mullis pt i be very pleased with my therapy experience this be my second pt with all of you so that speaks for itself i certainly would pass your name on to others also hour in even help greatly thanks again jean stanford",
         "thanks lindsey great staff mullis pt pleased therapy experience second pt speaks certainly would pass name others also hour even help greatly thanks jean stanford",
         "51",
         "51",
         "25",
         "POSITIVE",
         "0.9989001750946044",
         "1",
         "0x89e37a408fca3c15:0x78c16e9a856b365b",
         "Professional Physical Therapy",
         "massachusetts",
         "42.3327461",
         "-71.0732958",
         "74",
         "4.9",
         "{'Service options': ['Online care'], 'Accessibility': ['Wheelchair accessible entrance'], 'Planning': ['Appointments recommended']}",
         "Professional Physical Therapy, 811 Massachusetts Ave, Boston, MA 02118",
         "['Physical therapist', 'Physical therapy clinic']",
         "[['Monday', 'Closed'], ['Tuesday', '12–7PM'], ['Wednesday', '8AM–7PM'], ['Thursday', '12–7PM'], ['Friday', '8AM–1PM'], ['Saturday', 'Closed'], ['Sunday', 'Closed']]",
         null,
         null,
         "['0x89e37a860f8de507:0x57545a1fa75b997d', '0x89e37a7dc06769e9:0x6b4038b09250e8d6', '0x89e37a115a0fffff:0xb0b95c4aad56e4ce', '0x89e37a265fe3ca6b:0x5e6d85531ef72960', '0x89e37a0976570549:0x25f34436d7fbe3de']",
         "{'time': 1484343760022, 'text': 'Thank you so much for the kind review Jean!'}",
         "https://www.google.com/maps/place//data=!4m2!3m1!1s0x89e37a408fca3c15:0x78c16e9a856b365b?authuser=-1&hl=en&gl=us",
         "Physical therapist",
         "Physical therapy clinic",
         null,
         null,
         null,
         null,
         null,
         null,
         null,
         null,
         null,
         null,
         null,
         null,
         null,
         null,
         null,
         null,
         null,
         null,
         null,
         "Thanks to Lindsey and the great staff at Mullis PT. I am very pleased with my therapy experience. This was my second PT with all of you so that speaks for itself. I certainly would pass your name on to others. Also hours in evening helped greatly.\nThanks Again\nJean Stanford",
         "thanks to lindsey and the great staff at mullis pt i am very pleased with my therapy experience this was my second pt with all of you so that speaks for itself i certainly would pass your name on to others also hours in evening helped greatly thanks again jean stanford",
         "51",
         "30",
         "30"
        ],
        [
         "5467",
         "1.0298355954181054e+20",
         "Teri Shepherd",
         "1601951618478",
         "5.0",
         "The best part about BetterHelp is that you get to choose your Counselor...... that made a big difference for me. She always responds in a timely matter and when there is not an appointment available on the schedule... I just text her and she fits me in to an appointment slot. She’s there when I need her... we just talk... and it feels really good",
         "The best part about BetterHelp is that you get to choose your Counselor...... that made a big difference for me. She always responds in a timely matter and when there is not an appointment available on the schedule... I just text her and she fits me in to an appointment slot. She’s there when I need her... we just talk... and it feels really good",
         "the best part about betterhelp be that you get to choose your counselor that make a big difference for me she always respond in a timely matter and when there be not an appointment available on the schedule i just text her and she fit me in to an appointment slot she be there when i need her we just talk and it feel really good",
         "best part betterhelp get choose counselor make big difference always respond timely matter not appointment available schedule text fit appointment slot need talk feel really good",
         "65",
         "66",
         "26",
         "POSITIVE",
         "0.998920440673828",
         "1",
         "0x808fb63f28cc4ac7:0x12483f963427543e",
         "BetterHelp",
         "oregon",
         "45.1575501",
         "-128.1448585",
         "2682",
         "4.8",
         "{'Accessibility': ['Wheelchair accessible entrance']}",
         null,
         "['Mental health service']",
         "[['Thursday', 'Open 24 hours'], ['Friday', 'Open 24 hours'], ['Saturday', 'Open 24 hours'], ['Sunday', 'Open 24 hours'], ['Monday', 'Open 24 hours'], ['Tuesday', 'Open 24 hours'], ['Wednesday', 'Open 24 hours']]",
         null,
         null,
         "['0x808fcabc1516d5bd:0x86ea3bb32cb1ced2', '0x808fb5a9d83bf36f:0xb90cd5523cac37f6', '0x808fb504a24bdcd3:0x2812a1803ed60c8c', '0x808fba1237dab717:0xfa60b4272e3cce64', '0x808fbb3b7061a057:0xc3138c3eba9dc58e']",
         null,
         "https://www.google.com/maps/place//data=!4m2!3m1!1s0x808fb63f28cc4ac7:0x12483f963427543e?authuser=-1&hl=en&gl",
         "Mental health service",
         null,
         null,
         null,
         null,
         null,
         null,
         null,
         null,
         null,
         null,
         null,
         null,
         null,
         null,
         null,
         null,
         null,
         null,
         null,
         null,
         "The best part about BetterHelp is that you get to choose your Counselor...... that made a big difference for me. She always responds in a timely matter and when there is not an appointment available on the schedule... I just text her and she fits me in to an appointment slot. She is there when I need her... we just talk... and it feels really good",
         "the best part about betterhelp is that you get to choose your counselor that made a big difference for me she always responds in a timely matter and when there is not an appointment available on the schedule i just text her and she fits me in to an appointment slot she is there when i need her we just talk and it feels really good",
         "66",
         "30",
         "30"
        ],
        [
         "5866",
         "1.024424484894142e+20",
         "carley kruse",
         "1490672008760",
         "1.0",
         "The Nurses and Techs were great. They really are the only ones who helped if anyone. YOU ONLY MEET YOUR THERAPIST ONCE A WEEK! YOUR DOCTOR ONLY GIVES YOU MEDICINE FOR YOUR PROBLEMS. THEY LIED ABOUT MANY THINGS AT THE FRONT DESK ITS NOT JUST 3-5 DAYS ITS MUCH LONGER AT LEAST A WEEK and THAT MY FRIEND DOESN'T DO ANYTHING FOR YOU. its great to meet people, and have  nurses, and tech to understand and give you advice but the assigned therapist doesn't do anything. they meet you once a week.",
         "The Nurses and Techs were great. They really are the only ones who helped if anyone. YOU ONLY MEET YOUR THERAPIST ONCE A WEEK! YOUR DOCTOR ONLY GIVES YOU MEDICINE FOR YOUR PROBLEMS. THEY LIED ABOUT MANY THINGS AT THE FRONT DESK ITS NOT JUST 3-5 DAYS ITS MUCH LONGER AT LEAST A WEEK and THAT MY FRIEND DOESN'T DO ANYTHING FOR YOU. its great to meet people, and have  nurses, and tech to understand and give you advice but the assigned therapist doesn't do anything. they meet you once a week.",
         "the nurse and tech be great they really be the only one who help if anyone you only meet your therapist once a week your doctor only give you medicine for your problem they lie about many thing at the front desk it not just 3-5 day it much long at least a week and that my friend do not do anything for you it great to meet people and have nurse and tech to understand and give you advice but the assigned therapist do not do anything they meet you once a week",
         "nurse tech great really one help anyone meet therapist week doctor give medicine problem lie many thing front desk not 3-5 day much long least week friend not anything great meet people nurse tech understand give advice assigned therapist not anything meet week",
         "92",
         "94",
         "43",
         "NEGATIVE",
         "0.9993314743041992",
         "0",
         "0x88653467720b0c89:0x3884c96c711f55a8",
         "Cumberland Hall Hospital",
         "kentucky",
         "36.738397",
         "-87.46801099999999",
         "96",
         "2.2",
         "{'Accessibility': ['Wheelchair accessible elevator', 'Wheelchair accessible entrance'], 'Planning': ['Appointments recommended']}",
         "Cumberland Hall Hospital, 270 Walton Way, Hopkinsville, KY 42240",
         "['Mental health clinic']",
         "[['Wednesday', 'Open 24 hours'], ['Thursday', 'Open 24 hours'], ['Friday', 'Open 24 hours'], ['Saturday', 'Open 24 hours'], ['Sunday', 'Open 24 hours'], ['Monday', 'Open 24 hours'], ['Tuesday', 'Open 24 hours']]",
         null,
         null,
         "['0x88653699d4515255:0x1785584db92a9c65', '0x8864df62c8621329:0x8f7658e6decdf7e1', '0x886535ad1578ce1d:0x50f440fc6745b1df', '0x88653460c52091a5:0xb4583788d06cb127']",
         null,
         "https://www.google.com/maps/place//data=!4m2!3m1!1s0x88653467720b0c89:0x3884c96c711f55a8?authuser=-1&hl=en&gl=us",
         "Mental health clinic",
         null,
         null,
         null,
         null,
         null,
         null,
         null,
         null,
         null,
         null,
         null,
         null,
         null,
         null,
         null,
         null,
         null,
         null,
         null,
         null,
         "The Nurses and Techs were great. They really are the only ones who helped if anyone. YOU ONLY MEET YOUR THERAPIST ONCE A WEEK! YOUR DOCTOR ONLY GIVES YOU MEDICINE FOR YOUR PROBLEMS. THEY LIED ABOUT MANY THINGS AT THE FRONT DESK ITS NOT JUST 3-5 DAYS ITS MUCH LONGER AT LEAST A WEEK and THAT MY FRIEND DOES NOT DO ANYTHING FOR YOU. its great to meet people, and have  nurses, and tech to understand and give you advice but the assigned therapist does not do anything. they meet you once a week.",
         "the nurses and techs were great they really are the only ones who helped if anyone you only meet your therapist once a week your doctor only gives you medicine for your problems they lied about many things at the front desk its not just days its much longer at least a week and that my friend does not do anything for you its great to meet people and have nurses and tech to understand and give you advice but the assigned therapist does not do anything they meet you once a week",
         "93",
         "30",
         "30"
        ],
        [
         "5879",
         "1.0906141750410596e+20",
         "Maggie Loesch",
         "1595865234880",
         "5.0",
         "While in-person therapy is usually preferred, offering online therapy (specially during a pandemic) is absolutely crucial and wonderful. BetterHelp offers many ways you can choose to receive therapy, either video chatting or messaging or voice memos, etc., making sure you’re comfortable and taken care of. They do a wonderful job of pairing you with the right therapist as well.",
         "While in-person therapy is usually preferred, offering online therapy (specially during a pandemic) is absolutely crucial and wonderful. BetterHelp offers many ways you can choose to receive therapy, either video chatting or messaging or voice memos, etc., making sure you’re comfortable and taken care of. They do a wonderful job of pairing you with the right therapist as well.",
         "while in-person therapy be usually preferred offering online therapy specially during a pandemic be absolutely crucial and wonderful betterhelp offer many way you can choose to receive therapy either video chatting or messaging or voice memo etc. make sure you be comfortable and take care of they do a wonderful job of pair you with the right therapist a well",
         "in-person therapy usually preferred offering online therapy specially pandemic absolutely crucial wonderful betterhelp offer many way choose receive therapy either video chatting messaging voice memo etc. make sure comfortable take care wonderful job pair right therapist well",
         "59",
         "60",
         "37",
         "POSITIVE",
         "0.9988875985145568",
         "1",
         "0x808fb63f28cc4ac7:0x12483f963427543e",
         "BetterHelp",
         "oregon",
         "45.1575501",
         "-128.1448585",
         "2682",
         "4.8",
         "{'Accessibility': ['Wheelchair accessible entrance']}",
         null,
         "['Mental health service']",
         "[['Thursday', 'Open 24 hours'], ['Friday', 'Open 24 hours'], ['Saturday', 'Open 24 hours'], ['Sunday', 'Open 24 hours'], ['Monday', 'Open 24 hours'], ['Tuesday', 'Open 24 hours'], ['Wednesday', 'Open 24 hours']]",
         null,
         null,
         "['0x808fcabc1516d5bd:0x86ea3bb32cb1ced2', '0x808fb5a9d83bf36f:0xb90cd5523cac37f6', '0x808fb504a24bdcd3:0x2812a1803ed60c8c', '0x808fba1237dab717:0xfa60b4272e3cce64', '0x808fbb3b7061a057:0xc3138c3eba9dc58e']",
         null,
         "https://www.google.com/maps/place//data=!4m2!3m1!1s0x808fb63f28cc4ac7:0x12483f963427543e?authuser=-1&hl=en&gl",
         "Mental health service",
         null,
         null,
         null,
         null,
         null,
         null,
         null,
         null,
         null,
         null,
         null,
         null,
         null,
         null,
         null,
         null,
         null,
         null,
         null,
         null,
         "While in-person therapy is usually preferred, offering online therapy (specially during a pandemic) is absolutely crucial and wonderful. BetterHelp offers many ways you can choose to receive therapy, either video chatting or messaging or voice memos, etc., making sure you are comfortable and taken care of. They do a wonderful job of pairing you with the right therapist as well.",
         "while inperson therapy is usually preferred offering online therapy specially during a pandemic is absolutely crucial and wonderful betterhelp offers many ways you can choose to receive therapy either video chatting or messaging or voice memos etc making sure you are comfortable and taken care of they do a wonderful job of pairing you with the right therapist as well",
         "60",
         "30",
         "30"
        ],
        [
         "5947",
         "1.1769855248643092e+20",
         "Katarzyna Pylat",
         "1605531424340",
         "5.0",
         "Please, for anyone wondering whether to get therapy but unsure where to start, give yourself a chance with better help because for me it really made a difference! My therapist was perfectly matched to me and as I come to the end of our therapy journey together I know it's been a great decision. I've been recommending it to all my friends and now to you! Do it!",
         "Please, for anyone wondering whether to get therapy but unsure where to start, give yourself a chance with better help because for me it really made a difference! My therapist was perfectly matched to me and as I come to the end of our therapy journey together I know it's been a great decision. I've been recommending it to all my friends and now to you! Do it!",
         "please for anyone wonder whether to get therapy but unsure where to start give yourself a chance with good help because for me it really make a difference my therapist be perfectly match to me and a i come to the end of our therapy journey together i know it be be a great decision i have be recommend it to all my friend and now to you do it",
         "please anyone wonder whether get therapy unsure start give chance good help really make difference therapist perfectly match come end therapy journey together know great decision recommend friend",
         "68",
         "70",
         "28",
         "POSITIVE",
         "0.9989331364631652",
         "1",
         "0x808fb63f28cc4ac7:0x12483f963427543e",
         "BetterHelp",
         "oregon",
         "45.1575501",
         "-128.1448585",
         "2682",
         "4.8",
         "{'Accessibility': ['Wheelchair accessible entrance']}",
         null,
         "['Mental health service']",
         "[['Thursday', 'Open 24 hours'], ['Friday', 'Open 24 hours'], ['Saturday', 'Open 24 hours'], ['Sunday', 'Open 24 hours'], ['Monday', 'Open 24 hours'], ['Tuesday', 'Open 24 hours'], ['Wednesday', 'Open 24 hours']]",
         null,
         null,
         "['0x808fcabc1516d5bd:0x86ea3bb32cb1ced2', '0x808fb5a9d83bf36f:0xb90cd5523cac37f6', '0x808fb504a24bdcd3:0x2812a1803ed60c8c', '0x808fba1237dab717:0xfa60b4272e3cce64', '0x808fbb3b7061a057:0xc3138c3eba9dc58e']",
         "{'time': 1605645849790, 'text': \"Amazing! We're thrilled to hear this! Thanks so much for sharing, Katarzyna.\"}",
         "https://www.google.com/maps/place//data=!4m2!3m1!1s0x808fb63f28cc4ac7:0x12483f963427543e?authuser=-1&hl=en&gl",
         "Mental health service",
         null,
         null,
         null,
         null,
         null,
         null,
         null,
         null,
         null,
         null,
         null,
         null,
         null,
         null,
         null,
         null,
         null,
         null,
         null,
         null,
         "Please, for anyone wondering whether to get therapy but unsure where to start, give yourself a chance with better help because for me it really made a difference! My therapist was perfectly matched to me and as I come to the end of our therapy journey together I know it is been a great decision. I have been recommending it to all my friends and now to you! Do it!",
         "please for anyone wondering whether to get therapy but unsure where to start give yourself a chance with better help because for me it really made a difference my therapist was perfectly matched to me and as i come to the end of our therapy journey together i know it is been a great decision i have been recommending it to all my friends and now to you do it",
         "70",
         "30",
         "30"
        ],
        [
         "6209",
         "1.0931564069584668e+20",
         "Terrie Raiter",
         "1559185143948",
         "3.0",
         "Therapists always seem tired out.",
         "Therapists always seem tired out.",
         "therapist always seem tire out",
         "therapist always seem tire",
         "5",
         "5",
         "4",
         "NEGATIVE",
         "0.9994888305664062",
         "0",
         "0x52b2d71f52cc465d:0xaa54793d205b3020",
         "OSI Physical Therapy",
         "minnesota",
         "45.076082",
         "-93.0504909",
         "23",
         "4.5",
         "{'Accessibility': ['Wheelchair accessible entrance'], 'Planning': ['Appointments recommended']}",
         "OSI Physical Therapy, 4463 White Bear Pkwy Suite 108, White Bear Lake, MN 55110",
         "['Biofeedback therapist', 'Pain management physician', 'Massage therapist', 'Physical therapist', 'Physical fitness program', 'Physical therapy clinic', 'Rehabilitation center']",
         "[['Wednesday', '8:20AM–5PM'], ['Thursday', '7AM–3:40PM'], ['Friday', '7AM–3:40PM'], ['Saturday', 'Closed'], ['Sunday', 'Closed'], ['Monday', '7AM–3:40PM'], ['Tuesday', '7AM–3:40PM']]",
         null,
         null,
         "['0x52b2d718a599bed9:0x336d2e7bbdebd49', '0x52b32bf43b8faa1b:0x963bc282c0187ea5', '0x87f7d777d2ad90c3:0x4005a367a1f02548', '0x52b2d173ed664d99:0x80d404cd7b23dd94']",
         null,
         "https://www.google.com/maps/place//data=!4m2!3m1!1s0x52b2d71f52cc465d:0xaa54793d205b3020?authuser=-1&hl=en&gl=us",
         "Biofeedback therapist",
         "Pain management physician",
         "Massage therapist",
         "Physical therapist",
         "Physical fitness program",
         "Physical therapy clinic",
         "Rehabilitation center",
         null,
         null,
         null,
         null,
         null,
         null,
         null,
         null,
         null,
         null,
         null,
         null,
         null,
         null,
         "Therapists always seem tired out.",
         "therapists always seem tired out",
         "5",
         "30",
         "30"
        ],
        [
         "7291",
         "1.102835996352302e+20",
         "Edward Morley",
         "1486572073819",
         "3.0",
         "So far so good with my therapist but don't try calling no one will answer your call.",
         "So far so good with my therapist but don't try calling no one will answer your call.",
         "so far so good with my therapist but do not try call no one will answer your call",
         "far good therapist not try call no one answer call",
         "17",
         "18",
         "10",
         "NEGATIVE",
         "0.999502420425415",
         "0",
         "0x89e38b13a2175d19:0xa2a9604f68535802",
         "Advocates Community Counseling",
         "massachusetts",
         "42.3358097",
         "-71.54107599999999",
         "13",
         "3.1",
         "{'Accessibility': ['Wheelchair accessible entrance'], 'Planning': ['Appointments recommended']}",
         "Advocates Community Counseling, 340 Maple St #400, Marlborough, MA 01752",
         "['Mental health clinic', 'Mental health service']",
         "[['Monday', '9AM–5PM'], ['Tuesday', '9AM–5PM'], ['Wednesday', '9AM–5PM'], ['Thursday', '9AM–5PM'], ['Friday', '9AM–5PM'], ['Saturday', 'Closed'], ['Sunday', 'Closed']]",
         null,
         null,
         "['0x89e38b5e5558e9d5:0x3e0c21681712b186', '0x89e38b823c40a005:0x4e908eaa2b6ceb0e', '0x89e38b6ca411db4b:0x5636715e0b85a159', '0x89e3f5bf07a9bbdd:0x11489302a2f26e84', '0x89e38da4ffe00d97:0xcd222c19b62a2349']",
         null,
         "https://www.google.com/maps/place//data=!4m2!3m1!1s0x89e38b13a2175d19:0xa2a9604f68535802?authuser=-1&hl=en&gl=us",
         "Mental health clinic",
         "Mental health service",
         null,
         null,
         null,
         null,
         null,
         null,
         null,
         null,
         null,
         null,
         null,
         null,
         null,
         null,
         null,
         null,
         null,
         null,
         null,
         "So far so good with my therapist but do not try calling no one will answer your call.",
         "so far so good with my therapist but do not try calling no one will answer your call",
         "18",
         "30",
         "30"
        ],
        [
         "8607",
         "1.169931153434175e+20",
         "Sheila Cunningham",
         "1582414858464",
         "5.0",
         "I would recommend BetterHelp to someone and I already have. To be in the comfort of your home during a session is so convenient for the everyday person who doesn't have the means to go in person to seek help.",
         "I would recommend BetterHelp to someone and I already have. To be in the comfort of your home during a session is so convenient for the everyday person who doesn't have the means to go in person to seek help.",
         "i would recommend betterhelp to someone and i already have to be in the comfort of your home during a session be so convenient for the everyday person who do not have the mean to go in person to seek help",
         "would recommend betterhelp someone already comfort home session convenient everyday person not mean go person seek help",
         "40",
         "41",
         "17",
         "POSITIVE",
         "0.9989022016525269",
         "1",
         "0x808fb63f28cc4ac7:0x12483f963427543e",
         "BetterHelp",
         "oregon",
         "45.1575501",
         "-128.1448585",
         "2682",
         "4.8",
         "{'Accessibility': ['Wheelchair accessible entrance']}",
         null,
         "['Mental health service']",
         "[['Thursday', 'Open 24 hours'], ['Friday', 'Open 24 hours'], ['Saturday', 'Open 24 hours'], ['Sunday', 'Open 24 hours'], ['Monday', 'Open 24 hours'], ['Tuesday', 'Open 24 hours'], ['Wednesday', 'Open 24 hours']]",
         null,
         null,
         "['0x808fcabc1516d5bd:0x86ea3bb32cb1ced2', '0x808fb5a9d83bf36f:0xb90cd5523cac37f6', '0x808fb504a24bdcd3:0x2812a1803ed60c8c', '0x808fba1237dab717:0xfa60b4272e3cce64', '0x808fbb3b7061a057:0xc3138c3eba9dc58e']",
         null,
         "https://www.google.com/maps/place//data=!4m2!3m1!1s0x808fb63f28cc4ac7:0x12483f963427543e?authuser=-1&hl=en&gl",
         "Mental health service",
         null,
         null,
         null,
         null,
         null,
         null,
         null,
         null,
         null,
         null,
         null,
         null,
         null,
         null,
         null,
         null,
         null,
         null,
         null,
         null,
         "I would recommend BetterHelp to someone and I already have. To be in the comfort of your home during a session is so convenient for the everyday person who does not have the means to go in person to seek help.",
         "i would recommend betterhelp to someone and i already have to be in the comfort of your home during a session is so convenient for the everyday person who does not have the means to go in person to seek help",
         "41",
         "30",
         "30"
        ],
        [
         "9547",
         "1.0256616752132252e+20",
         "Bfire44",
         "1531503839350",
         "5.0",
         "Never thought online counseling would be so beneficial however once you find the right counselor you can email them anytime you want and they respond to you in a timely manner! I have a great counselor and she is always there when I need her!",
         "Never thought online counseling would be so beneficial however once you find the right counselor you can email them anytime you want and they respond to you in a timely manner! I have a great counselor and she is always there when I need her!",
         "never think online counsel would be so beneficial however once you find the right counselor you can email them anytime you want and they respond to you in a timely manner i have a great counselor and she be always there when i need her",
         "never think online counsel would beneficial however find right counselor email anytime want respond timely manner great counselor always need",
         "45",
         "45",
         "20",
         "POSITIVE",
         "0.998910427093506",
         "1",
         "0x808fb63f28cc4ac7:0x12483f963427543e",
         "BetterHelp",
         "oregon",
         "45.1575501",
         "-128.1448585",
         "2682",
         "4.8",
         "{'Accessibility': ['Wheelchair accessible entrance']}",
         null,
         "['Mental health service']",
         "[['Thursday', 'Open 24 hours'], ['Friday', 'Open 24 hours'], ['Saturday', 'Open 24 hours'], ['Sunday', 'Open 24 hours'], ['Monday', 'Open 24 hours'], ['Tuesday', 'Open 24 hours'], ['Wednesday', 'Open 24 hours']]",
         null,
         null,
         "['0x808fcabc1516d5bd:0x86ea3bb32cb1ced2', '0x808fb5a9d83bf36f:0xb90cd5523cac37f6', '0x808fb504a24bdcd3:0x2812a1803ed60c8c', '0x808fba1237dab717:0xfa60b4272e3cce64', '0x808fbb3b7061a057:0xc3138c3eba9dc58e']",
         null,
         "https://www.google.com/maps/place//data=!4m2!3m1!1s0x808fb63f28cc4ac7:0x12483f963427543e?authuser=-1&hl=en&gl",
         "Mental health service",
         null,
         null,
         null,
         null,
         null,
         null,
         null,
         null,
         null,
         null,
         null,
         null,
         null,
         null,
         null,
         null,
         null,
         null,
         null,
         null,
         "Never thought online counseling would be so beneficial however once you find the right counselor you can email them anytime you want and they respond to you in a timely manner! I have a great counselor and she is always there when I need her!",
         "never thought online counseling would be so beneficial however once you find the right counselor you can email them anytime you want and they respond to you in a timely manner i have a great counselor and she is always there when i need her",
         "45",
         "30",
         "30"
        ],
        [
         "9754",
         "1.1400695318067318e+20",
         "Samantha Spinney",
         "1571242455173",
         "5.0",
         "Very helpful and kind staff , love my therapist here !!\nThey are awesome",
         "Very helpful and kind staff , love my therapist here !!\nThey are awesome",
         "very helpful and kind staff love my therapist here they be awesome",
         "helpful kind staff love therapist awesome",
         "14",
         "12",
         "6",
         "POSITIVE",
         "0.9989173412322998",
         "1",
         "0x80ca5acf551cd6af:0x82fdd5d41eaade10",
         "Doctors' Volunteer Clinic of St. George",
         "utah",
         "37.08742",
         "-113.561119",
         "58",
         "4.0",
         "{'Accessibility': ['Wheelchair accessible entrance'], 'Planning': ['Appointments recommended']}",
         "Doctors' Volunteer Clinic of St. George, 1036 E Riverside Dr, St. George, UT 84790",
         "['Medical clinic', 'Mental health clinic', 'Doctor', 'Free clinic', 'Counselor', 'Psychiatrist', 'Dental clinic']",
         "[['Friday', '9AM–1PM'], ['Saturday', 'Closed'], ['Sunday', 'Closed'], ['Monday', '9AM–12PM'], ['Tuesday', '9AM–12PM'], ['Wednesday', '9AM–12PM'], ['Thursday', '9AM–12PM']]",
         null,
         null,
         "['0x80ca44ce28fd0b97:0xc700ff00ae3e6aa9', '0x80ca5ad9603591ab:0xdb48659ff53c9223', '0x80ca5afedfd6ee8f:0x225ead53c10c349f', '0x80ca5b25f45bb45f:0xab82efcc4da61c96', '0x80ca5ad124066d2d:0x55db2af69c8c18d8']",
         null,
         "https://www.google.com/maps/place//data=!4m2!3m1!1s0x80ca5acf551cd6af:0x82fdd5d41eaade10?authuser=-1&hl=en&gl=us",
         "Medical clinic",
         "Mental health clinic",
         "Doctor",
         "Free clinic",
         "Counselor",
         "Psychiatrist",
         "Dental clinic",
         null,
         null,
         null,
         null,
         null,
         null,
         null,
         null,
         null,
         null,
         null,
         null,
         null,
         null,
         "Very helpful and kind staff , love my therapist here !!\nThey are awesome",
         "very helpful and kind staff love my therapist here they are awesome",
         "12",
         "30",
         "30"
        ],
        [
         "9893",
         "1.0286066428277608e+20",
         "Elenna Otero",
         "1532149211763",
         "1.0",
         "Not a good place to go for counseling if you want help the staff are unfriendly and there counselor act like your wasting there time",
         "Not a good place to go for counseling if you want help the staff are unfriendly and there counselor act like your wasting there time",
         "not a good place to go for counsel if you want help the staff be unfriendly and there counselor act like your waste there time",
         "not good place go counsel want help staff unfriendly counselor act like waste time",
         "25",
         "25",
         "14",
         "NEGATIVE",
         "0.9995086193084716",
         "0",
         "0x54c11e1d66a1cb1f:0xdc74a39ae42b1f90",
         "Lane County Behavioral Health",
         "oregon",
         "44.0610306",
         "-123.072954",
         "28",
         "2.4",
         "{'Accessibility': ['Wheelchair accessible entrance'], 'Planning': ['Appointments recommended']}",
         "Lane County Behavioral Health, 2411 Martin Luther King Jr Blvd, Eugene, OR 97401",
         "['Mental health clinic', 'Mental health service', 'Public health department', 'Pharmacy', 'Medical clinic', 'Doctor', 'Laboratory']",
         "[['Thursday', '8AM–5PM'], ['Friday', '8AM–5PM'], ['Saturday', 'Closed'], ['Sunday', 'Closed'], ['Monday', 'Closed'], ['Tuesday', '8AM–5PM'], ['Wednesday', '8AM–5PM']]",
         null,
         null,
         "['0x54c11e3e8e5023cf:0x90d3127b694bf88b', '0x54c11f4a5ff9bed1:0x89e71d722213d8ba', '0x54c11e1d66a1cb1f:0x420f1d5e7e148c65', '0x54c11e3fee92e845:0xb02774d118da148', '0x54c11e0d9127d84f:0xebdaaabd63d201e2']",
         null,
         "https://www.google.com/maps/place//data=!4m2!3m1!1s0x54c11e1d66a1cb1f:0xdc74a39ae42b1f90?authuser=-1&hl=en&gl=us",
         "Mental health clinic",
         "Mental health service",
         "Public health department",
         "Pharmacy",
         "Medical clinic",
         "Doctor",
         "Laboratory",
         null,
         null,
         null,
         null,
         null,
         null,
         null,
         null,
         null,
         null,
         null,
         null,
         null,
         null,
         "Not a good place to go for counseling if you want help the staff are unfriendly and there counselor act like your wasting there time",
         "not a good place to go for counseling if you want help the staff are unfriendly and there counselor act like your wasting there time",
         "25",
         "30",
         "30"
        ],
        [
         "10446",
         "1.1637851694718974e+20",
         "John Schiller",
         "1595280839799",
         "5.0",
         "I doubted online therapy for awhile, but after trying BetterHelp I have been more than pleasantly surprised. Many of the therapists are great, and still manage to make a connection over the internet.",
         "I doubted online therapy for awhile, but after trying BetterHelp I have been more than pleasantly surprised. Many of the therapists are great, and still manage to make a connection over the internet.",
         "i doubt online therapy for awhile but after try betterhelp i have be more than pleasantly surprise many of the therapist be great and still manage to make a connection over the internet",
         "doubt online therapy awhile try betterhelp pleasantly surprise many therapist great still manage make connection internet",
         "33",
         "33",
         "16",
         "POSITIVE",
         "0.9989381432533264",
         "1",
         "0x808fb63f28cc4ac7:0x12483f963427543e",
         "BetterHelp",
         "oregon",
         "45.1575501",
         "-128.1448585",
         "2682",
         "4.8",
         "{'Accessibility': ['Wheelchair accessible entrance']}",
         null,
         "['Mental health service']",
         "[['Thursday', 'Open 24 hours'], ['Friday', 'Open 24 hours'], ['Saturday', 'Open 24 hours'], ['Sunday', 'Open 24 hours'], ['Monday', 'Open 24 hours'], ['Tuesday', 'Open 24 hours'], ['Wednesday', 'Open 24 hours']]",
         null,
         null,
         "['0x808fcabc1516d5bd:0x86ea3bb32cb1ced2', '0x808fb5a9d83bf36f:0xb90cd5523cac37f6', '0x808fb504a24bdcd3:0x2812a1803ed60c8c', '0x808fba1237dab717:0xfa60b4272e3cce64', '0x808fbb3b7061a057:0xc3138c3eba9dc58e']",
         null,
         "https://www.google.com/maps/place//data=!4m2!3m1!1s0x808fb63f28cc4ac7:0x12483f963427543e?authuser=-1&hl=en&gl",
         "Mental health service",
         null,
         null,
         null,
         null,
         null,
         null,
         null,
         null,
         null,
         null,
         null,
         null,
         null,
         null,
         null,
         null,
         null,
         null,
         null,
         null,
         "I doubted online therapy for awhile, but after trying BetterHelp I have been more than pleasantly surprised. Many of the therapists are great, and still manage to make a connection over the internet.",
         "i doubted online therapy for awhile but after trying betterhelp i have been more than pleasantly surprised many of the therapists are great and still manage to make a connection over the internet",
         "33",
         "30",
         "30"
        ],
        [
         "10630",
         "1.0499505253279398e+20",
         "joanne edwards",
         "1611752562349",
         "5.0",
         "Best staff and friendly atmosphere. The therapist are very professional and caring.",
         "Best staff and friendly atmosphere. The therapist are very professional and caring.",
         "best staff and friendly atmosphere the therapist be very professional and care",
         "best staff friendly atmosphere therapist professional care",
         "12",
         "12",
         "7",
         "POSITIVE",
         "0.9989080429077148",
         "1",
         "0x89c7ba80d1b919e9:0xb006117c3d4c15bb",
         "ATI Physical Therapy",
         "maryland",
         "39.6094079",
         "-75.9441013",
         "38",
         "4.8",
         "{'Service options': ['Online care'], 'Health & safety': ['Mask required', 'Staff wear masks', 'Staff required to disinfect surfaces between visits'], 'Accessibility': ['Wheelchair accessible entrance'], 'Planning': ['Appointments recommended']}",
         "ATI Physical Therapy, 2314 Pulaski Hwy, North East, MD 21901",
         "['Rehabilitation center', 'Physical therapy clinic', 'Sports medicine clinic']",
         "[['Sunday', 'Closed'], ['Monday', '7AM–7PM'], ['Tuesday', '7AM–7PM'], ['Wednesday', '7AM–7PM'], ['Thursday', '7AM–7PM'], ['Friday', '7AM–7PM'], ['Saturday', 'Closed']]",
         null,
         null,
         "['0x89c7bbdf3ab9c7df:0x87772625a9940a31', '0x89c7b8efd3011b63:0xa2fa14310d0c4ee3', '0x89c7af67f97f3ad1:0x3ebedb99713b80b5', '0x89c7b0ede7ae3c71:0xce17b10f1ac342fa', '0x89c7a5f8985185f5:0xb7b0455cbbb866d9']",
         null,
         "https://www.google.com/maps/place//data=!4m2!3m1!1s0x89c7ba80d1b919e9:0xb006117c3d4c15bb?authuser=-1&hl=en&gl=us",
         "Rehabilitation center",
         "Physical therapy clinic",
         "Sports medicine clinic",
         null,
         null,
         null,
         null,
         null,
         null,
         null,
         null,
         null,
         null,
         null,
         null,
         null,
         null,
         null,
         null,
         null,
         null,
         "Best staff and friendly atmosphere. The therapist are very professional and caring.",
         "best staff and friendly atmosphere the therapist are very professional and caring",
         "12",
         "30",
         "30"
        ],
        [
         "10945",
         "1.0553890816607774e+20",
         "MS BROWN REACHING THE NATIONS",
         "1518203777733",
         "5.0",
         "My therapist have been great !!!!!!! Would recommend to this facility😊😊",
         "My therapist have been great !!!!!!! Would recommend to this facility😊😊",
         "my therapist have be great would recommend to this facility smiling_face_with_smiling_eyes smiling_face_with_smiling_eyes",
         "therapist great would recommend facility smiling_face_with_smiling_eyes smiling_face_with_smiling_eyes",
         "11",
         "12",
         "7",
         "POSITIVE",
         "0.9989056587219238",
         "1",
         "0x89c8201aaf27dcaf:0x2b04f6517464fecb",
         "Howard County Physical Therapy Sports Rehabilitation",
         "maryland",
         "39.2103997",
         "-76.7984768",
         "38",
         "4.8",
         "{'Accessibility': ['Wheelchair accessible entrance'], 'Planning': ['Appointments recommended']}",
         "Howard County Physical Therapy Sports Rehabilitation, 6011 University Blvd, Ellicott City, MD 21043",
         "['Physical therapy clinic']",
         "[['Sunday', 'Closed'], ['Monday', '7AM–8PM'], ['Tuesday', '7AM–8PM'], ['Wednesday', '7AM–8PM'], ['Thursday', '7AM–8PM'], ['Friday', '7AM–5PM'], ['Saturday', '7:30–11:30AM']]",
         null,
         null,
         "['0x89c8200e5ab7cc6b:0x87d2d3d34f65e510', '0x89c81fe2a3e1ad07:0x2500413f3b2e0b5d', '0x89c8201af42c7eb5:0xce931b5517fcf853', '0x89b7df0e09b0dcd9:0x763dfc940126407d']",
         null,
         "https://www.google.com/maps/place//data=!4m2!3m1!1s0x89c8201aaf27dcaf:0x2b04f6517464fecb?authuser=-1&hl=en&gl=us",
         "Physical therapy clinic",
         null,
         null,
         null,
         null,
         null,
         null,
         null,
         null,
         null,
         null,
         null,
         null,
         null,
         null,
         null,
         null,
         null,
         null,
         null,
         null,
         "My therapist have been great !!!!!!! Would recommend to this facility😊😊",
         "my therapist have been great would recommend to this facility",
         "10",
         "30",
         "30"
        ],
        [
         "13931",
         "1.0270547401453535e+20",
         "LEH_gaming 1199",
         "1569807336450",
         "2.0",
         "All was great for about a year, until my counselor made a sudden and terrifying shift to evangelical radicalism and rapture propaganda at a session. Mind you we made it clear from the beginning that we are not Christian! Sorely disappointed and deeply betrayed.",
         "All was great for about a year, until my counselor made a sudden and terrifying shift to evangelical radicalism and rapture propaganda at a session. Mind you we made it clear from the beginning that we are not Christian! Sorely disappointed and deeply betrayed.",
         "all be great for about a year until my counselor make a sudden and terrify shift to evangelical radicalism and rapture propaganda at a session mind you we make it clear from the beginning that we be not christian sorely disappointed and deeply betray",
         "great year counselor make sudden terrify shift evangelical radicalism rapture propaganda session mind make clear beginning not christian sorely disappointed deeply betray",
         "44",
         "44",
         "22",
         "NEGATIVE",
         "0.999477207660675",
         "0",
         "0x54950e9fe34fbe81:0xc8f69172474e534f",
         "Sage Center for Wholeness and Health",
         "oregon",
         "45.4842815",
         "-122.7876867",
         "26",
         "4.7",
         "{'Accessibility': ['Wheelchair accessible entrance']}",
         "Sage Center for Wholeness and Health, 10700 SW Beaverton Hillsdale Hwy, Bldg 3, Suite # 560, Beaverton, OR 97005",
         "['Acupuncture clinic', 'Event venue', 'Hypnotherapy service', 'Marriage or relationship counselor', 'Wellness center', 'Reiki therapist', 'Chiropractor', 'Family counselor', 'Massage therapist', 'Nutritionist']",
         "[['Monday', '7AM–8PM'], ['Tuesday', '7AM–8PM'], ['Wednesday', '7AM–8PM'], ['Thursday', '7AM–8PM'], ['Friday', '7AM–8PM'], ['Saturday', '7AM–8PM'], ['Sunday', '7AM–1PM']]",
         null,
         null,
         "['0x54950e9fe3455555:0x8271a011d56c60d5', '0x54950c24cd025025:0xc06559ede41fa8eb', '0x54950c20c0b43cb9:0x8934c250ca56f961', '0x54950c9e33df516f:0x513840941eb4cc1f', '0x5495a09379bce895:0xd132bb15dd1a31d5']",
         "{'time': 1569875291143, 'text': 'Sage Center for Wholeness and Health is a Cooperative (CoWorking) facility that caters to Alternative Health practitioners of all faiths, race, color, national origin, sex, or disability.  All practitioners who offer services within Sage Center are independent practitioners and not employed by Sage Center.   Although we do uphold and enforce a set of standards for those that use our space, we are not in control of nor are we in a position to influence the modalities, philosophies or doctrines used within sessions. It might be more of a service to the public to rate your practitioner on their business google page, facebook or website versus taking it out on the facility in which they practice.   That being said, it is impossible for us to hear that someone has had a poor experience with any of our practitioners and not feel a sense of responsibility or concern around it.   We would like to be available to you personally to hear your grievance and to address it directly with the counsellor in question.  Whatever we can do to help you achieve a sense of resolution around this event we stand willing to do.  You can email us directly at sagecenter4wh@gmail.com or call us at 503-230-7007.  Once again, we are sorry to hear that this took place and especially for the injury it has caused you.  Warm regards,  Paul Sweany'}",
         "https://www.google.com/maps/place//data=!4m2!3m1!1s0x54950e9fe34fbe81:0xc8f69172474e534f?authuser=-1&hl=en&gl=us",
         "Acupuncture clinic",
         "Event venue",
         "Hypnotherapy service",
         "Marriage or relationship counselor",
         "Wellness center",
         "Reiki therapist",
         "Chiropractor",
         "Family counselor",
         "Massage therapist",
         "Nutritionist",
         null,
         null,
         null,
         null,
         null,
         null,
         null,
         null,
         null,
         null,
         null,
         "All was great for about a year, until my counselor made a sudden and terrifying shift to evangelical radicalism and rapture propaganda at a session. Mind you we made it clear from the beginning that we are not Christian! Sorely disappointed and deeply betrayed.",
         "all was great for about a year until my counselor made a sudden and terrifying shift to evangelical radicalism and rapture propaganda at a session mind you we made it clear from the beginning that we are not christian sorely disappointed and deeply betrayed",
         "44",
         "30",
         "30"
        ],
        [
         "14536",
         "1.0921251418501728e+20",
         "Gail Waldman",
         "1608239942106",
         "5.0",
         "You couldn’t find it more caring, knowledgeable and pleasant therapist than Dr. Jung. He is very patient and innovative. Most importantly the PT he designs for you works. The whole staff from the receptionist to the other therapists are very professional, pleasant and welcoming. I feel very fortunate to have found them and highly recommend them.",
         "You couldn’t find it more caring, knowledgeable and pleasant therapist than Dr. Jung. He is very patient and innovative. Most importantly the PT he designs for you works. The whole staff from the receptionist to the other therapists are very professional, pleasant and welcoming. I feel very fortunate to have found them and highly recommend them.",
         "you could not find it more care knowledgeable and pleasant therapist than dr. jung he be very patient and innovative most importantly the pt he design for you work the whole staff from the receptionist to the other therapist be very professional pleasant and welcoming i feel very fortunate to have find them and highly recommend them",
         "could not find care knowledgeable pleasant therapist dr. jung patient innovative importantly pt design work whole staff receptionist therapist professional pleasant welcoming feel fortunate find highly recommend",
         "56",
         "57",
         "27",
         "POSITIVE",
         "0.9989346861839294",
         "1",
         "0x89b7e0824cd74eb7:0xc3babcc7ae039bd4",
         "Columbia Physical Therapy In Motion",
         "maryland",
         "39.1826364",
         "-76.8234116",
         "214",
         "5.0",
         "{'From the business': ['Identifies as veteran-led'], 'Service options': ['Online care'], 'Health & safety': ['Appointment required', 'Mask required', 'Temperature check required', 'Staff wear masks', 'Staff get temperature checks', 'Staff required to disinfect surfaces between visits'], 'Accessibility': ['Wheelchair accessible elevator', 'Wheelchair accessible entrance', 'Wheelchair accessible restroom'], 'Amenities': ['Restroom'], 'Planning': ['Appointments recommended', 'Transgender safespace', 'LGBTQ friendly']}",
         "Columbia Physical Therapy In Motion, 6851 Oak Hall Ln #102, Columbia, MD 21045",
         "['Rehabilitation center', 'Physical therapy clinic', 'Physical therapist', 'Sports medicine clinic']",
         "[['Saturday', 'Closed'], ['Sunday', 'Closed'], ['Monday', '9:30AM–7PM'], ['Tuesday', '7AM–3:30PM'], ['Wednesday', '7AM–7PM'], ['Thursday', '9:30AM–7PM'], ['Friday', '7AM–3:30PM']]",
         null,
         null,
         "['0x89c819cf230c9055:0xf8cc63bb76d23a83', '0x89b7dfa092f637a3:0xba81b64c9c8faa56', '0x89b7df0e09b0dcd9:0x763dfc940126407d', '0x89b7e07e12623795:0xe4abb287a099fb42', '0x89b7df7356002ad7:0x65fdbe8771245537']",
         null,
         "https://www.google.com/maps/place//data=!4m2!3m1!1s0x89b7e0824cd74eb7:0xc3babcc7ae039bd4?authuser=-1&hl=en&gl=us",
         "Rehabilitation center",
         "Physical therapy clinic",
         "Physical therapist",
         "Sports medicine clinic",
         null,
         null,
         null,
         null,
         null,
         null,
         null,
         null,
         null,
         null,
         null,
         null,
         null,
         null,
         null,
         null,
         null,
         "You could not find it more caring, knowledgeable and pleasant therapist than Dr. Jung. He is very patient and innovative. Most importantly the PT he designs for you works. The whole staff from the receptionist to the other therapists are very professional, pleasant and welcoming. I feel very fortunate to have found them and highly recommend them.",
         "you could not find it more caring knowledgeable and pleasant therapist than dr jung he is very patient and innovative most importantly the pt he designs for you works the whole staff from the receptionist to the other therapists are very professional pleasant and welcoming i feel very fortunate to have found them and highly recommend them",
         "57",
         "30",
         "30"
        ],
        [
         "14653",
         "1.1655335128076472e+20",
         "SamanthaPatrice",
         "1549761872796",
         "5.0",
         "Man.... I never thought I could get so much relief with someone in my whole life. I've gone through a lot from being diagnosed with an incurable illness to having a child. Being able to have someone there for me whether it's a message, a phone call, or video chat is incredible and I'm beyond happy with the service. I have social anxiety and going into therapy is hard not to mention pretty harsh on the wallet, this is affordable and 24/7 !! Its incredible!",
         "Man.... I never thought I could get so much relief with someone in my whole life. I've gone through a lot from being diagnosed with an incurable illness to having a child. Being able to have someone there for me whether it's a message, a phone call, or video chat is incredible and I'm beyond happy with the service. I have social anxiety and going into therapy is hard not to mention pretty harsh on the wallet, this is affordable and 24/7 !! Its incredible!",
         "man i never think i could get so much relief with someone in my whole life i have go through a lot from be diagnose with an incurable illness to have a child be able to have someone there for me whether it be a message a phone call or video chat be incredible and i be beyond happy with the service i have social anxiety and go into therapy be hard not to mention pretty harsh on the wallet this be affordable and 24/7 it incredible",
         "man never think could get much relief someone whole life go lot diagnose incurable illness child able someone whether message phone call video chat incredible beyond happy service social anxiety go therapy hard not mention pretty harsh wallet affordable 24/7 incredible",
         "85",
         "87",
         "41",
         "POSITIVE",
         "0.9989386200904846",
         "1",
         "0x808fb63f28cc4ac7:0x12483f963427543e",
         "BetterHelp",
         "oregon",
         "45.1575501",
         "-128.1448585",
         "2682",
         "4.8",
         "{'Accessibility': ['Wheelchair accessible entrance']}",
         null,
         "['Mental health service']",
         "[['Thursday', 'Open 24 hours'], ['Friday', 'Open 24 hours'], ['Saturday', 'Open 24 hours'], ['Sunday', 'Open 24 hours'], ['Monday', 'Open 24 hours'], ['Tuesday', 'Open 24 hours'], ['Wednesday', 'Open 24 hours']]",
         null,
         null,
         "['0x808fcabc1516d5bd:0x86ea3bb32cb1ced2', '0x808fb5a9d83bf36f:0xb90cd5523cac37f6', '0x808fb504a24bdcd3:0x2812a1803ed60c8c', '0x808fba1237dab717:0xfa60b4272e3cce64', '0x808fbb3b7061a057:0xc3138c3eba9dc58e']",
         null,
         "https://www.google.com/maps/place//data=!4m2!3m1!1s0x808fb63f28cc4ac7:0x12483f963427543e?authuser=-1&hl=en&gl",
         "Mental health service",
         null,
         null,
         null,
         null,
         null,
         null,
         null,
         null,
         null,
         null,
         null,
         null,
         null,
         null,
         null,
         null,
         null,
         null,
         null,
         null,
         "Man.... I never thought I could get so much relief with someone in my whole life. I have gone through a lot from being diagnosed with an incurable illness to having a child. Being able to have someone there for me whether it is a message, a phone call, or video chat is incredible and I am beyond happy with the service. I have social anxiety and going into therapy is hard not to mention pretty harsh on the wallet, this is affordable and 24/7 !! Its incredible!",
         "man i never thought i could get so much relief with someone in my whole life i have gone through a lot from being diagnosed with an incurable illness to having a child being able to have someone there for me whether it is a message a phone call or video chat is incredible and i am beyond happy with the service i have social anxiety and going into therapy is hard not to mention pretty harsh on the wallet this is affordable and its incredible",
         "86",
         "30",
         "30"
        ],
        [
         "15918",
         "1.1417650640514384e+20",
         "Vic Churchill",
         "1582773566374",
         "5.0",
         "My wife's therapist was awesome. Knowledgeable..Experienced..Patient..Friendly..recommend highly.",
         "My wife's therapist was awesome. Knowledgeable..Experienced..Patient..Friendly..recommend highly.",
         "my wife 's therapist be awesome knowledgeable experience patient friendly recommend highly",
         "wife 's therapist awesome knowledgeable experience patient friendly recommend highly",
         "7",
         "12",
         "10",
         "POSITIVE",
         "0.9989073276519777",
         "1",
         "0x88890fb41975c49d:0x81826849c122c679",
         "ATI Physical Therapy",
         "Alabama",
         "33.5889645",
         "-86.6987541",
         "26",
         "4.7",
         "{'Service options': ['Online care'], 'Health & safety': ['Mask required', 'Staff wear masks', 'Staff required to disinfect surfaces between visits'], 'Accessibility': ['Wheelchair accessible entrance'], 'Planning': ['Appointments recommended']}",
         "ATI Physical Therapy, 9256 Parkway E Ste A, Birmingham, AL 35206",
         "['Physical therapy clinic', 'Sports medicine clinic', 'Rehabilitation center']",
         "[['Thursday', '7AM–7PM'], ['Friday', '7AM–7PM'], ['Saturday', 'Closed'], ['Sunday', 'Closed'], ['Monday', '7AM–7PM'], ['Tuesday', '7AM–7PM'], ['Wednesday', '7AM–7PM']]",
         null,
         null,
         "['0x8889198440ee41bf:0xc85a00eb75e264ea', '0x88890dc190eb604b:0xa617416b59f03a05', '0x888917900b4d2c17:0x92c59d7bca09af41', '0x88891b30e47f3c49:0xb84f82ef594d7501', '0x8889197ca703e3d3:0xd0ad17b57cc4f489']",
         null,
         "https://www.google.com/maps/place//data=!4m2!3m1!1s0x88890fb41975c49d:0x81826849c122c679?authuser=-1&hl=en&gl=us",
         "Physical therapy clinic",
         "Sports medicine clinic",
         "Rehabilitation center",
         null,
         null,
         null,
         null,
         null,
         null,
         null,
         null,
         null,
         null,
         null,
         null,
         null,
         null,
         null,
         null,
         null,
         null,
         "My wife's therapist was awesome. Knowledgeable..Experienced..Patient..Friendly..recommend highly.",
         "my wifes therapist was awesome knowledgeableexperiencedpatientfriendlyrecommend highly",
         "7",
         "30",
         "30"
        ],
        [
         "16128",
         "1.019544609127238e+20",
         "Nicholas Mariscal",
         "1591490663471",
         "5.0",
         "I’ve had a wonderful experience using BetterHelp, and have in some ways found it more helpful and beneficial than in-person counseling. It was incredibly helpful to have access to it when I had a difficult personal experience and was then required to be thousands of miles away from my home in Europe and Asia for a couple of weeks, and when I felt isolated and needed somebody to talk to, I still had access to a counselor thanks to BetterHelp. I’ve recommended it to friends who have also found it very useful, and I would absolutely continue recommending it to anybody.",
         "I’ve had a wonderful experience using BetterHelp, and have in some ways found it more helpful and beneficial than in-person counseling. It was incredibly helpful to have access to it when I had a difficult personal experience and was then required to be thousands of miles away from my home in Europe and Asia for a couple of weeks, and when I felt isolated and needed somebody to talk to, I still had access to a counselor thanks to BetterHelp. I’ve recommended it to friends who have also found it very useful, and I would absolutely continue recommending it to anybody.",
         "i have have a wonderful experience use betterhelp and have in some way find it more helpful and beneficial than in-person counseling it be incredibly helpful to have access to it when i have a difficult personal experience and be then require to be thousand of mile away from my home in europe and asia for a couple of week and when i felt isolated and need somebody to talk to i still have access to a counselor thanks to betterhelp i have recommend it to friend who have also find it very useful and i would absolutely continue recommend it to anybody",
         "wonderful experience use betterhelp way find helpful beneficial in-person counseling incredibly helpful access difficult personal experience require thousand mile away home europe asia couple week felt isolated need somebody talk still access counselor thanks betterhelp recommend friend also find useful would absolutely continue recommend anybody",
         "101",
         "103",
         "45",
         "POSITIVE",
         "0.9989053010940552",
         "1",
         "0x808fb63f28cc4ac7:0x12483f963427543e",
         "BetterHelp",
         "oregon",
         "45.1575501",
         "-128.1448585",
         "2682",
         "4.8",
         "{'Accessibility': ['Wheelchair accessible entrance']}",
         null,
         "['Mental health service']",
         "[['Thursday', 'Open 24 hours'], ['Friday', 'Open 24 hours'], ['Saturday', 'Open 24 hours'], ['Sunday', 'Open 24 hours'], ['Monday', 'Open 24 hours'], ['Tuesday', 'Open 24 hours'], ['Wednesday', 'Open 24 hours']]",
         null,
         null,
         "['0x808fcabc1516d5bd:0x86ea3bb32cb1ced2', '0x808fb5a9d83bf36f:0xb90cd5523cac37f6', '0x808fb504a24bdcd3:0x2812a1803ed60c8c', '0x808fba1237dab717:0xfa60b4272e3cce64', '0x808fbb3b7061a057:0xc3138c3eba9dc58e']",
         null,
         "https://www.google.com/maps/place//data=!4m2!3m1!1s0x808fb63f28cc4ac7:0x12483f963427543e?authuser=-1&hl=en&gl",
         "Mental health service",
         null,
         null,
         null,
         null,
         null,
         null,
         null,
         null,
         null,
         null,
         null,
         null,
         null,
         null,
         null,
         null,
         null,
         null,
         null,
         null,
         "I have had a wonderful experience using BetterHelp, and have in some ways found it more helpful and beneficial than in-person counseling. It was incredibly helpful to have access to it when I had a difficult personal experience and was then required to be thousands of miles away from my home in Europe and Asia for a couple of weeks, and when I felt isolated and needed somebody to talk to, I still had access to a counselor thanks to BetterHelp. I have recommended it to friends who have also found it very useful, and I would absolutely continue recommending it to anybody.",
         "i have had a wonderful experience using betterhelp and have in some ways found it more helpful and beneficial than inperson counseling it was incredibly helpful to have access to it when i had a difficult personal experience and was then required to be thousands of miles away from my home in europe and asia for a couple of weeks and when i felt isolated and needed somebody to talk to i still had access to a counselor thanks to betterhelp i have recommended it to friends who have also found it very useful and i would absolutely continue recommending it to anybody",
         "103",
         "30",
         "30"
        ],
        [
         "16401",
         "1.06868304997709e+20",
         "Marc Dievendorf",
         "1511979108669",
         "5.0",
         "Excellent facilities and staff. Therapists have lots of treatments to offer to help the patient towards their goals.",
         "Excellent facilities and staff. Therapists have lots of treatments to offer to help the patient towards their goals.",
         "excellent facility and staff therapist have lot of treatment to offer to help the patient towards their goal",
         "excellent facility staff therapist lot treatment offer help patient towards goal",
         "18",
         "18",
         "11",
         "POSITIVE",
         "0.9988598823547364",
         "1",
         "0x88f8a92b43b68cf1:0xd56996e019faa9d8",
         "Carolina Physical Therapy and Sports Medicine",
         "southcarolina",
         "34.0878474",
         "-80.9393061",
         "76",
         "4.9",
         "{'Accessibility': ['Wheelchair accessible entrance'], 'Planning': ['Appointments recommended']}",
         "Carolina Physical Therapy and Sports Medicine, 141 Atrium Way, Columbia, SC 29223",
         "['Physical therapist', 'Sports medicine clinic', 'Physical therapy clinic']",
         "[['Tuesday', '7:30AM–6:30PM'], ['Wednesday', '7:30AM–6:30PM'], ['Thursday', '7:30AM–6:30PM'], ['Friday', '7:30AM–6:30PM'], ['Saturday', '8AM–12PM'], ['Sunday', 'Closed'], ['Monday', '7:30AM–6:30PM']]",
         null,
         null,
         "['0x88f8a51ff5dd60b7:0xc5b8f312c489b007', '0x88f8a8dc57c34c99:0x6e152f7b86be3992', '0x88f8a8c3e98ff5a3:0xa3e2984d50ce61e5', '0x88f8a51ed55c80e9:0xe54fb60dc2352bfe', '0x88f8abdb16eeb655:0xf252861c43aef3da']",
         null,
         "https://www.google.com/maps/place//data=!4m2!3m1!1s0x88f8a92b43b68cf1:0xd56996e019faa9d8?authuser=-1&hl=en&gl=us",
         "Physical therapist",
         "Sports medicine clinic",
         "Physical therapy clinic",
         null,
         null,
         null,
         null,
         null,
         null,
         null,
         null,
         null,
         null,
         null,
         null,
         null,
         null,
         null,
         null,
         null,
         null,
         "Excellent facilities and staff. Therapists have lots of treatments to offer to help the patient towards their goals.",
         "excellent facilities and staff therapists have lots of treatments to offer to help the patient towards their goals",
         "18",
         "30",
         "30"
        ],
        [
         "16471",
         "1.0121053896657776e+20",
         "Sandra Rhees",
         "1621798564410",
         "5.0",
         "Had a great experience and an excellent therapist! Would book here again!",
         "Had a great experience and an excellent therapist! Would book here again!",
         "have a great experience and an excellent therapist would book here again",
         "great experience excellent therapist would book",
         "12",
         "12",
         "6",
         "POSITIVE",
         "0.99891996383667",
         "1",
         "0x87526d9dfc1cc575:0xe329a650f550fcba",
         "Elements Massage",
         "utah",
         "40.7197625",
         "-111.5415667",
         "56",
         "4.9",
         "{'Health & safety': ['Appointment required', 'Staff required to disinfect surfaces between visits'], 'Highlights': ['LGBTQ friendly'], 'Accessibility': ['Wheelchair accessible entrance', 'Wheelchair accessible parking lot']}",
         "Elements Massage, 1635 Redstone Center Dr Suite #115, Park City, UT 84098",
         "['Massage spa', 'Wellness center', 'Massage therapist']",
         "[['Tuesday', '9AM–9PM'], ['Wednesday', '9AM–9PM'], ['Thursday', '9AM–9PM'], ['Friday', '9AM–9PM'], ['Saturday', '9AM–9PM'], ['Sunday', '10AM–7PM'], ['Monday', '9AM–9PM']]",
         null,
         null,
         null,
         null,
         "https://www.google.com/maps/place//data=!4m2!3m1!1s0x87526d9dfc1cc575:0xe329a650f550fcba?authuser=-1&hl=en&gl=us",
         "Massage spa",
         "Wellness center",
         "Massage therapist",
         null,
         null,
         null,
         null,
         null,
         null,
         null,
         null,
         null,
         null,
         null,
         null,
         null,
         null,
         null,
         null,
         null,
         null,
         "Had a great experience and an excellent therapist! Would book here again!",
         "had a great experience and an excellent therapist would book here again",
         "12",
         "30",
         "30"
        ],
        [
         "17089",
         "1.0555181049077542e+20",
         "Matt Olek",
         "1395433529538",
         "5.0",
         "Both of my therapist were knowledgeable and great..I plan on making monthly appointments soon.",
         "Both of my therapist were knowledgeable and great..I plan on making monthly appointments soon.",
         "both of my therapist be knowledgeable and great i plan on make monthly appointment soon",
         "therapist knowledgeable great plan make monthly appointment soon",
         "14",
         "15",
         "8",
         "POSITIVE",
         "0.99887877702713",
         "1",
         "0x89e37718bca6ce1d:0x3e466643c75efc89",
         "Massage Therapy Works Inc",
         "massachusetts",
         "42.3955694",
         "-71.1217076",
         "284",
         "4.9",
         "{'Health & safety': ['Appointment required', 'Mask required', 'Temperature check required', 'Staff wear masks', 'Staff get temperature checks', 'Staff required to disinfect surfaces between visits'], 'Accessibility': ['Wheelchair accessible elevator', 'Wheelchair accessible entrance', 'Wheelchair accessible parking lot', 'Wheelchair accessible restroom'], 'Planning': ['LGBTQ friendly']}",
         "Massage Therapy Works Inc, 255 Elm St #302, Somerville, MA 02144",
         "['Acupuncturist', 'Massage therapist', 'Wellness center']",
         "[['Friday', '9AM–8PM'], ['Saturday', '10AM–6PM'], ['Sunday', '10AM–9PM'], ['Monday', '9AM–8PM'], ['Tuesday', '9AM–8PM'], ['Wednesday', '9AM–8PM'], ['Thursday', '9AM–8PM']]",
         null,
         null,
         "['0x89e37718a31aaaab:0xd6e511c60945c140', '0x89e3776016e535ed:0x6dc99b98998c2c38', '0x89e3773e133a7587:0x25373ec3e29fa3bb']",
         "{'time': 1395800262185, 'text': 'Fantastic! Thanks for the review, Matt. We will be looking forward to helping you still pain-free and healthy.\\n-Richard G., Owner'}",
         "https://www.google.com/maps/place//data=!4m2!3m1!1s0x89e37718bca6ce1d:0x3e466643c75efc89?authuser=-1&hl=en&gl=us",
         "Acupuncturist",
         "Massage therapist",
         "Wellness center",
         null,
         null,
         null,
         null,
         null,
         null,
         null,
         null,
         null,
         null,
         null,
         null,
         null,
         null,
         null,
         null,
         null,
         null,
         "Both of my therapist were knowledgeable and great..I plan on making monthly appointments soon.",
         "both of my therapist were knowledgeable and greati plan on making monthly appointments soon",
         "14",
         "30",
         "30"
        ],
        [
         "17185",
         "1.0354241360239813e+20",
         "Louise Johnson",
         "1575486864926",
         "5.0",
         "He is a good therapist that pushes me to get better! He is very personable and easy to talk to.",
         "He is a good therapist that pushes me to get better! He is very personable and easy to talk to.",
         "he be a good therapist that push me to get good he be very personable and easy to talk to",
         "good therapist push get good personable easy talk",
         "20",
         "20",
         "8",
         "POSITIVE",
         "0.998927891254425",
         "1",
         "0x88005ac284dcf0ab:0x8b01465bda645dfe",
         "Stevens Point Orthopedics",
         "wisconsin",
         "44.5308346",
         "-89.5766536",
         "238",
         "5.0",
         "{'Accessibility': ['Wheelchair accessible entrance'], 'Planning': ['Appointments recommended']}",
         "Stevens Point Orthopedics, 500 Vincent St, Stevens Point, WI 54481",
         "['Orthopedic clinic', 'Orthopedic surgeon']",
         "[['Saturday', 'Closed'], ['Sunday', 'Closed'], ['Monday', '8AM–5PM'], ['Tuesday', '8AM–5PM'], ['Wednesday', '8AM–5PM'], ['Thursday', '8AM–5PM'], ['Friday', '8AM–5PM']]",
         null,
         null,
         "['0x88005a94909038b5:0xb8672f97fd9b48e0', '0x88005ac284dcf0ab:0x5c75f77d13b1fea7', '0x880050e3891413a1:0xe003a9f2045693a4', '0x88005ac284dcf0ab:0xd8a64d3186f23f6b']",
         null,
         "https://www.google.com/maps/place//data=!4m2!3m1!1s0x88005ac284dcf0ab:0x8b01465bda645dfe?authuser=-1&hl=en&gl=us",
         "Orthopedic clinic",
         "Orthopedic surgeon",
         null,
         null,
         null,
         null,
         null,
         null,
         null,
         null,
         null,
         null,
         null,
         null,
         null,
         null,
         null,
         null,
         null,
         null,
         null,
         "He is a good therapist that pushes me to get better! He is very personable and easy to talk to.",
         "he is a good therapist that pushes me to get better he is very personable and easy to talk to",
         "20",
         "30",
         "30"
        ],
        [
         "17429",
         "1.15259396534883e+20",
         "Kim Greene",
         "1531265945621",
         "5.0",
         "This is the best place to receive therapy and case management services, I know that from my own personal experiernces just for the simple fact that I have the best therapist and case manager that really will go out on a limb to really help me succeed to be that better and skillful  person,  I owe them the world's biggest thank you for really giving me a chance and always being there when I do need them.",
         "This is the best place to receive therapy and case management services, I know that from my own personal experiernces just for the simple fact that I have the best therapist and case manager that really will go out on a limb to really help me succeed to be that better and skillful  person,  I owe them the world's biggest thank you for really giving me a chance and always being there when I do need them.",
         "this be the best place to receive therapy and case management service i know that from my own personal experiernces just for the simple fact that i have the best therapist and case manager that really will go out on a limb to really help me succeed to be that good and skillful person i owe them the world 's big thank you for really give me a chance and always be there when i do need them",
         "best place receive therapy case management service know personal experiernces simple fact best therapist case manager really go limb really help succeed good skillful person owe world 's big thank really give chance always need",
         "77",
         "78",
         "35",
         "POSITIVE",
         "0.998893678188324",
         "1",
         "0x87f7d54f85ee19c5:0x8b672309d4dd735f",
         "RADIAS Health",
         "minnesota",
         "44.947482",
         "-93.0880025",
         "8",
         "3.5",
         "{'Accessibility': ['Wheelchair accessible entrance'], 'Planning': ['Appointments recommended']}",
         "RADIAS Health, 166 4th St E UNIT 200, St Paul, MN 55101",
         "['Mental health service']",
         "[['Monday', '8AM–4PM'], ['Tuesday', '8AM–4PM'], ['Wednesday', '8AM–4PM'], ['Thursday', '8AM–4PM'], ['Friday', '8AM–4PM'], ['Saturday', 'Closed'], ['Sunday', 'Closed']]",
         null,
         null,
         "['0x87f7d608510dd105:0x9e7e5dec04cf8734', '0x52b32caafb12360b:0xf5ca4f2bae143480', '0x52b32b55194a3719:0x71ce6bdaea4d79e0', '0x87f6265ab39b85b9:0x3dc133a530c75dda', '0x52b32cde6f0c499d:0x5fd6dabf9c8d7fef']",
         null,
         "https://www.google.com/maps/place//data=!4m2!3m1!1s0x87f7d54f85ee19c5:0x8b672309d4dd735f?authuser=-1&hl=en&gl=us",
         "Mental health service",
         null,
         null,
         null,
         null,
         null,
         null,
         null,
         null,
         null,
         null,
         null,
         null,
         null,
         null,
         null,
         null,
         null,
         null,
         null,
         null,
         "This is the best place to receive therapy and case management services, I know that from my own personal experiernces just for the simple fact that I have the best therapist and case manager that really will go out on a limb to really help me succeed to be that better and skillful  person,  I owe them the world's biggest thank you for really giving me a chance and always being there when I do need them.",
         "this is the best place to receive therapy and case management services i know that from my own personal experiernces just for the simple fact that i have the best therapist and case manager that really will go out on a limb to really help me succeed to be that better and skillful person i owe them the worlds biggest thank you for really giving me a chance and always being there when i do need them",
         "77",
         "30",
         "30"
        ],
        [
         "17483",
         "1.123904343016024e+20",
         "El Schneider",
         "1591636120070",
         "5.0",
         "Better help, especially my counselor Samantha Golden, is amazing! I was able to attend therapy and get the help I needed at a really uncertain time. Sessions were easy to access from my phone wherever I was.\nI am so grateful to have found BetterHelp when I needed it most!",
         "Better help, especially my counselor Samantha Golden, is amazing! I was able to attend therapy and get the help I needed at a really uncertain time. Sessions were easy to access from my phone wherever I was.\nI am so grateful to have found BetterHelp when I needed it most!",
         "good help especially my counselor samantha golden be amaze i be able to attend therapy and get the help i need at a really uncertain time session be easy to access from my phone wherever i be i be so grateful to have find betterhelp when i need it most",
         "good help especially counselor samantha golden amaze able attend therapy get help need really uncertain time session easy access phone wherever grateful find betterhelp need",
         "50",
         "50",
         "25",
         "POSITIVE",
         "0.9989333748817444",
         "1",
         "0x808fb63f28cc4ac7:0x12483f963427543e",
         "BetterHelp",
         "oregon",
         "45.1575501",
         "-128.1448585",
         "2682",
         "4.8",
         "{'Accessibility': ['Wheelchair accessible entrance']}",
         null,
         "['Mental health service']",
         "[['Thursday', 'Open 24 hours'], ['Friday', 'Open 24 hours'], ['Saturday', 'Open 24 hours'], ['Sunday', 'Open 24 hours'], ['Monday', 'Open 24 hours'], ['Tuesday', 'Open 24 hours'], ['Wednesday', 'Open 24 hours']]",
         null,
         null,
         "['0x808fcabc1516d5bd:0x86ea3bb32cb1ced2', '0x808fb5a9d83bf36f:0xb90cd5523cac37f6', '0x808fb504a24bdcd3:0x2812a1803ed60c8c', '0x808fba1237dab717:0xfa60b4272e3cce64', '0x808fbb3b7061a057:0xc3138c3eba9dc58e']",
         null,
         "https://www.google.com/maps/place//data=!4m2!3m1!1s0x808fb63f28cc4ac7:0x12483f963427543e?authuser=-1&hl=en&gl",
         "Mental health service",
         null,
         null,
         null,
         null,
         null,
         null,
         null,
         null,
         null,
         null,
         null,
         null,
         null,
         null,
         null,
         null,
         null,
         null,
         null,
         null,
         "Better help, especially my counselor Samantha Golden, is amazing! I was able to attend therapy and get the help I needed at a really uncertain time. Sessions were easy to access from my phone wherever I was.\nI am so grateful to have found BetterHelp when I needed it most!",
         "better help especially my counselor samantha golden is amazing i was able to attend therapy and get the help i needed at a really uncertain time sessions were easy to access from my phone wherever i was i am so grateful to have found betterhelp when i needed it most",
         "50",
         "30",
         "30"
        ],
        [
         "17906",
         "1.0172398605521296e+20",
         "Kizzie Gonzales",
         "1603859874552",
         "3.0",
         "Great Therapist Great Listener Will Be Scheduling My next session",
         "Great Therapist Great Listener Will Be Scheduling My next session",
         "great therapist great listener will be schedule my next session",
         "great therapist great listener schedule next session",
         "10",
         "10",
         "7",
         "POSITIVE",
         "0.9987590312957764",
         "1",
         "0x89c9dbfb3439a165:0x379e6623fc0a0f56",
         "Thriveworks Counseling",
         "maryland",
         "39.3778813",
         "-77.4078871",
         "28",
         "4.9",
         "{'Service options': ['Online care'], 'Planning': ['Appointments recommended']}",
         "Thriveworks Counseling, 5301 Buckeystown Pike Suite 320, Frederick, MD 21704",
         "['Marriage or relationship counselor', 'Counselor', 'Mental health clinic', 'Psychologist', 'Psychiatrist', 'Psychoanalyst', 'Family counselor', 'Child psychologist', 'Psychotherapist', 'Mental health service']",
         "[['Tuesday', '7AM–12AM'], ['Wednesday', '7AM–12AM'], ['Thursday', '7AM–12AM'], ['Friday', '7AM–12AM'], ['Saturday', '7AM–6PM'], ['Sunday', '8AM–5PM'], ['Monday', '7AM–12AM']]",
         null,
         null,
         null,
         "{'time': 1603921090571, 'text': 'Kizzie, thank you for taking the time to leave your feedback! We appreciate it!'}",
         "https://www.google.com/maps/place//data=!4m2!3m1!1s0x89c9dbfb3439a165:0x379e6623fc0a0f56?authuser=-1&hl=en&gl=us",
         "Marriage or relationship counselor",
         "Counselor",
         "Mental health clinic",
         "Psychologist",
         "Psychiatrist",
         "Psychoanalyst",
         "Family counselor",
         "Child psychologist",
         "Psychotherapist",
         "Mental health service",
         null,
         null,
         null,
         null,
         null,
         null,
         null,
         null,
         null,
         null,
         null,
         "Great Therapist Great Listener Will Be Scheduling My next session",
         "great therapist great listener will be scheduling my next session",
         "10",
         "30",
         "30"
        ],
        [
         "18099",
         "1.0982133941459322e+20",
         "Neidra Crisp",
         "1522721284538",
         "5.0",
         "Very professional, knowledgeable and friendly.  I highly recommend this company and  the therapist  Ben Johnson.",
         "Very professional, knowledgeable and friendly.  I highly recommend this company and  the therapist  Ben Johnson.",
         "very professional knowledgeable and friendly i highly recommend this company and the therapist ben johnson",
         "professional knowledgeable friendly highly recommend company therapist ben johnson",
         "15",
         "15",
         "9",
         "POSITIVE",
         "0.998928725719452",
         "1",
         "0x80ca5add23c93bd9:0x210dd5beac61609b",
         "Fit Physical Therapy Coral Desert",
         "utah",
         "37.0953092",
         "-113.5516456",
         "238",
         "5.0",
         "{'Accessibility': ['Wheelchair accessible entrance'], 'Planning': ['Appointments recommended']}",
         "Fit Physical Therapy Coral Desert, 1490 E Foremaster Dr #110, St. George, UT 84790",
         "['Physical therapy clinic']",
         "[['Monday', '8AM–5PM'], ['Tuesday', '8AM–5PM'], ['Wednesday', '8AM–5PM'], ['Thursday', '8AM–5PM'], ['Friday', '8AM–5PM'], ['Saturday', 'Closed'], ['Sunday', 'Closed']]",
         null,
         null,
         "['0x80ca45286966a2a5:0xf4f35bd11a6e89f6', '0x80ca5add28777757:0x597b6def64ffdd08', '0x80ca437df85c04d1:0x536f627c65cef2a', '0x80ca5b197451318d:0xf84acd58bf9ade14', '0x80ca452bc2d2c8c1:0x3765d3465b631be2']",
         "{'time': 1522856982868, 'text': 'Thank for you for your comments Neidra!'}",
         "https://www.google.com/maps/place//data=!4m2!3m1!1s0x80ca5add23c93bd9:0x210dd5beac61609b?authuser=-1&hl=en&gl=us",
         "Physical therapy clinic",
         null,
         null,
         null,
         null,
         null,
         null,
         null,
         null,
         null,
         null,
         null,
         null,
         null,
         null,
         null,
         null,
         null,
         null,
         null,
         null,
         "Very professional, knowledgeable and friendly.  I highly recommend this company and  the therapist  Ben Johnson.",
         "very professional knowledgeable and friendly i highly recommend this company and the therapist ben johnson",
         "15",
         "30",
         "30"
        ],
        [
         "18367",
         "1.0662442021909044e+20",
         "Donna Mccaskill",
         "1554333472287",
         "5.0",
         "The only place I will get therapy!!! Love the crew!!!",
         "The only place I will get therapy!!! Love the crew!!!",
         "the only place i will get therapy love the crew",
         "place get therapy love crew",
         "10",
         "10",
         "5",
         "POSITIVE",
         "0.9988700747489928",
         "1",
         "0x888a1b63d00ad6a9:0xec035ac3821a635",
         "Marshall Therapy & Sports Rehab - South",
         "Alabama",
         "34.2431373",
         "-86.171318",
         "58",
         "4.6",
         "{'Service options': ['Online care'], 'Accessibility': ['Wheelchair accessible entrance'], 'Planning': ['Appointments recommended']}",
         "Marshall Therapy & Sports Rehab - South, 4198 US-431, Albertville, AL 35950",
         "['Massage therapist', 'Physical therapy clinic', 'Sports medicine clinic', 'Physical fitness program']",
         "[['Friday', '7:30AM–5PM'], ['Saturday', 'Closed'], ['Sunday', 'Closed'], ['Monday', '7:30AM–5PM'], ['Tuesday', '7:30AM–5PM'], ['Wednesday', '7:30AM–5PM'], ['Thursday', '7:30AM–5PM']]",
         null,
         null,
         "['0x888a1b9c6ca062cd:0x72fa55ae2dea4eae', '0x888a1cb0cfe55e8b:0x4ecd46b16ad739fb', '0x8889e4aa5f606b6f:0xad0cf24c7b8a5edd', '0x8889f87324177fa5:0xbdec4a83f2c06c3f', '0x8889f916a6ebc063:0xdc32a2f24c432ca4']",
         null,
         "https://www.google.com/maps/place//data=!4m2!3m1!1s0x888a1b63d00ad6a9:0xec035ac3821a635?authuser=-1&hl=en&gl=us",
         "Massage therapist",
         "Physical therapy clinic",
         "Sports medicine clinic",
         "Physical fitness program",
         null,
         null,
         null,
         null,
         null,
         null,
         null,
         null,
         null,
         null,
         null,
         null,
         null,
         null,
         null,
         null,
         null,
         "The only place I will get therapy!!! Love the crew!!!",
         "the only place i will get therapy love the crew",
         "10",
         "30",
         "30"
        ],
        [
         "18793",
         "1.1441541126398188e+20",
         "Ellen Sandler",
         "1533946558661",
         "1.0",
         "Too much turnover in therapists",
         "Too much turnover in therapists",
         "too much turnover in therapist",
         "much turnover therapist",
         "5",
         "5",
         "3",
         "NEGATIVE",
         "0.9994164705276488",
         "0",
         "0x88051e5859e8347b:0x1f34472edc9f76d0",
         "Elements Massage",
         "wisconsin",
         "43.118721",
         "-87.90625899999999",
         "258",
         "4.7",
         "{'From the business': ['Identifies as women-led'], 'Health & safety': ['Appointment required', 'Staff required to disinfect surfaces between visits'], 'Highlights': ['LGBTQ friendly'], 'Accessibility': ['Wheelchair accessible entrance', 'Wheelchair accessible parking lot']}",
         "Elements Massage, 312 E Silver Spring Dr, Whitefish Bay, WI 53217",
         "['Massage spa', 'Wellness center', 'Massage therapist']",
         "[['Thursday', '9AM–9PM'], ['Friday', '9AM–9PM'], ['Saturday', '9AM–9PM'], ['Sunday', '9AM–9PM'], ['Monday', '9AM–9PM'], ['Tuesday', '9AM–9PM'], ['Wednesday', '9AM–9PM']]",
         null,
         null,
         "['0x88051e60c6eb7647:0x63d28b218d0fdca9', '0x8805176cadf642ff:0x16c157ec8c222a3d', '0x8805192e538ab3b1:0x853d3149385fc366', '0x880519d9daad24c5:0x780acd4a3145f46']",
         "{'time': 1534124701758, 'text': 'Thank you for your feedback Ellen.  As with any job, we do have people move out of town or move on to new opportunities.  We would love the opportunity to work with you to find a suitable replacement therapist.  A manager will be reaching out to you shortly to address your concerns.'}",
         "https://www.google.com/maps/place//data=!4m2!3m1!1s0x88051e5859e8347b:0x1f34472edc9f76d0?authuser=-1&hl=en&gl=us",
         "Massage spa",
         "Wellness center",
         "Massage therapist",
         null,
         null,
         null,
         null,
         null,
         null,
         null,
         null,
         null,
         null,
         null,
         null,
         null,
         null,
         null,
         null,
         null,
         null,
         "Too much turnover in therapists",
         "too much turnover in therapists",
         "5",
         "30",
         "30"
        ],
        [
         "19002",
         "1.134125405764548e+20",
         "Regina Cole",
         "1546988124920",
         "5.0",
         "I did therapy at therapy south for about six weeks this past November and December 2018. The therapist, was very helpful in my care, he helped me to where I was able to return to my job in what I consider to be excellent time. I highly reccomend therapy south!!!",
         "I did therapy at therapy south for about six weeks this past November and December 2018. The therapist, was very helpful in my care, he helped me to where I was able to return to my job in what I consider to be excellent time. I highly reccomend therapy south!!!",
         "i do therapy at therapy south for about six week this past november and december 2018 the therapist be very helpful in my care he help me to where i be able to return to my job in what i consider to be excellent time i highly reccomend therapy south",
         "therapy therapy south six week past november december 2018 therapist helpful care help able return job consider excellent time highly reccomend therapy south",
         "50",
         "50",
         "23",
         "POSITIVE",
         "0.9989134073257446",
         "1",
         "0x887d4b7543dc6007:0x39aa8cdfdf3267bf",
         "TherapySouth Florence",
         "Alabama",
         "34.8349763",
         "-87.6105268",
         "78",
         "5.0",
         "{'Service options': ['Online care'], 'Accessibility': ['Wheelchair accessible entrance', 'Wheelchair accessible restroom'], 'Amenities': ['Restroom'], 'Planning': ['Appointments recommended']}",
         "TherapySouth Florence, 3226 Florence Blvd, Florence, AL 35634",
         "['Physical therapist', 'Physical therapy clinic', 'Rehabilitation center', 'Pain control clinic', 'Wellness center']",
         "[['Tuesday', '8AM–5PM'], ['Wednesday', '8AM–5PM'], ['Thursday', '8AM–5PM'], ['Friday', '8AM–5PM'], ['Saturday', 'Closed'], ['Sunday', 'Closed'], ['Monday', '8AM–5PM']]",
         null,
         null,
         "['0x887d49e27909ffd9:0x9632874a4a66809c', '0x887d378380c68ddb:0x95ba7ab635f8c2c', '0x887d49dd87dbaddf:0xc2151ad2f132a486', '0x887d49d4528a6e85:0x185d6644ab58762b', '0x887d485da481ba0f:0x3cc2ad632c3dd30c']",
         "{'time': 1547432047320, 'text': 'Thank you for the kind words, Regina!'}",
         "https://www.google.com/maps/place//data=!4m2!3m1!1s0x887d4b7543dc6007:0x39aa8cdfdf3267bf?authuser=-1&hl=en&gl=us",
         "Physical therapist",
         "Physical therapy clinic",
         "Rehabilitation center",
         "Pain control clinic",
         "Wellness center",
         null,
         null,
         null,
         null,
         null,
         null,
         null,
         null,
         null,
         null,
         null,
         null,
         null,
         null,
         null,
         null,
         "I did therapy at therapy south for about six weeks this past November and December 2018. The therapist, was very helpful in my care, he helped me to where I was able to return to my job in what I consider to be excellent time. I highly reccomend therapy south!!!",
         "i did therapy at therapy south for about six weeks this past november and december the therapist was very helpful in my care he helped me to where i was able to return to my job in what i consider to be excellent time i highly reccomend therapy south",
         "49",
         "30",
         "30"
        ],
        [
         "19561",
         "1.070138840433136e+20",
         "Steph Zinn",
         "1535465331153",
         "5.0",
         "An amazing first expression of this place a co worker reccomend it. Definitely top notch place with so many therapy choices to choose from something for everyone!",
         "An amazing first expression of this place a co worker reccomend it. Definitely top notch place with so many therapy choices to choose from something for everyone!",
         "an amazing first expression of this place a co worker reccomend it definitely top notch place with so many therapy choice to choose from something for everyone",
         "amazing first expression place co worker reccomend definitely top notch place many therapy choice choose something everyone",
         "27",
         "27",
         "17",
         "POSITIVE",
         "0.9989259839057922",
         "1",
         "0x89c8129e3e8fec39:0xcae26ad6620a78a1",
         "Truth Mind & Body",
         "maryland",
         "39.5117068",
         "-76.6423949",
         "44",
         "5.0",
         "{'From the business': ['Identifies as women-led'], 'Accessibility': ['Wheelchair accessible entrance']}",
         "Truth Mind & Body, 10 Fila Way suite i, Sparks Glencoe, MD 21152",
         "['Wellness center']",
         "[['Thursday', '8AM–9PM'], ['Friday', '8AM–9PM'], ['Saturday', '8AM–9PM'], ['Sunday', '9AM–6PM'], ['Monday', 'Closed'], ['Tuesday', '8AM–9PM'], ['Wednesday', '8AM–9PM']]",
         null,
         null,
         "['0x89c81ffb5eedbe87:0x1383fc54518f002a', '0x89c7e09727ba7615:0x18001a8836fb7402', '0x89c80df501a766a9:0x3c3a4d001e1c3e5e', '0x89c81275eae3559b:0x5dd4902f3225b5e6']",
         "{'time': 1579007649617, 'text': 'Thanks so much, Steph!  We love having you here <3'}",
         "https://www.google.com/maps/place//data=!4m2!3m1!1s0x89c8129e3e8fec39:0xcae26ad6620a78a1?authuser=-1&hl=en&gl=us",
         "Wellness center",
         null,
         null,
         null,
         null,
         null,
         null,
         null,
         null,
         null,
         null,
         null,
         null,
         null,
         null,
         null,
         null,
         null,
         null,
         null,
         null,
         "An amazing first expression of this place a co worker reccomend it. Definitely top notch place with so many therapy choices to choose from something for everyone!",
         "an amazing first expression of this place a co worker reccomend it definitely top notch place with so many therapy choices to choose from something for everyone",
         "27",
         "30",
         "30"
        ]
       ],
       "shape": {
        "columns": 56,
        "rows": 856
       }
      },
      "text/html": [
       "<div>\n",
       "<style scoped>\n",
       "    .dataframe tbody tr th:only-of-type {\n",
       "        vertical-align: middle;\n",
       "    }\n",
       "\n",
       "    .dataframe tbody tr th {\n",
       "        vertical-align: top;\n",
       "    }\n",
       "\n",
       "    .dataframe thead th {\n",
       "        text-align: right;\n",
       "    }\n",
       "</style>\n",
       "<table border=\"1\" class=\"dataframe\">\n",
       "  <thead>\n",
       "    <tr style=\"text-align: right;\">\n",
       "      <th></th>\n",
       "      <th>user_id</th>\n",
       "      <th>username</th>\n",
       "      <th>time</th>\n",
       "      <th>rating</th>\n",
       "      <th>original_text</th>\n",
       "      <th>translated_text</th>\n",
       "      <th>final_with_stopword</th>\n",
       "      <th>final_no_stopword</th>\n",
       "      <th>ori_wc</th>\n",
       "      <th>final_wc</th>\n",
       "      <th>...</th>\n",
       "      <th>category_17</th>\n",
       "      <th>category_18</th>\n",
       "      <th>category_19</th>\n",
       "      <th>category_20</th>\n",
       "      <th>category_21</th>\n",
       "      <th>cont_expanded</th>\n",
       "      <th>clean_text</th>\n",
       "      <th>wc</th>\n",
       "      <th>topic</th>\n",
       "      <th>topic_reduced_embedding</th>\n",
       "    </tr>\n",
       "  </thead>\n",
       "  <tbody>\n",
       "    <tr>\n",
       "      <th>248</th>\n",
       "      <td>1.136550e+20</td>\n",
       "      <td>Michelle Hefner</td>\n",
       "      <td>1556110693799</td>\n",
       "      <td>5.0</td>\n",
       "      <td>Best place ever....From the Top dogs down ever...</td>\n",
       "      <td>Best place ever....From the Top dogs down ever...</td>\n",
       "      <td>best place ever from the top dog down everyone...</td>\n",
       "      <td>best place ever top dog everyone exceptional c...</td>\n",
       "      <td>29</td>\n",
       "      <td>32</td>\n",
       "      <td>...</td>\n",
       "      <td>NaN</td>\n",
       "      <td>NaN</td>\n",
       "      <td>NaN</td>\n",
       "      <td>NaN</td>\n",
       "      <td>NaN</td>\n",
       "      <td>Best place ever....From the Top dogs down ever...</td>\n",
       "      <td>best place everfrom the top dogs down everyone...</td>\n",
       "      <td>29</td>\n",
       "      <td>30</td>\n",
       "      <td>30</td>\n",
       "    </tr>\n",
       "    <tr>\n",
       "      <th>649</th>\n",
       "      <td>1.058955e+20</td>\n",
       "      <td>Elizabeth Frost</td>\n",
       "      <td>1512573873088</td>\n",
       "      <td>3.0</td>\n",
       "      <td>Lots of red tape to actually see a therapist a...</td>\n",
       "      <td>Lots of red tape to actually see a therapist a...</td>\n",
       "      <td>lot of red tape to actually see a therapist at...</td>\n",
       "      <td>lot red tape actually see therapist center ann...</td>\n",
       "      <td>31</td>\n",
       "      <td>31</td>\n",
       "      <td>...</td>\n",
       "      <td>NaN</td>\n",
       "      <td>NaN</td>\n",
       "      <td>NaN</td>\n",
       "      <td>NaN</td>\n",
       "      <td>NaN</td>\n",
       "      <td>Lots of red tape to actually see a therapist a...</td>\n",
       "      <td>lots of red tape to actually see a therapist a...</td>\n",
       "      <td>31</td>\n",
       "      <td>30</td>\n",
       "      <td>30</td>\n",
       "    </tr>\n",
       "    <tr>\n",
       "      <th>815</th>\n",
       "      <td>1.030429e+20</td>\n",
       "      <td>Christa Weigelt</td>\n",
       "      <td>1627993413617</td>\n",
       "      <td>4.0</td>\n",
       "      <td>I loved my counselor Dan but the company itsel...</td>\n",
       "      <td>I loved my counselor Dan but the company itsel...</td>\n",
       "      <td>i love my counselor dan but the company itself...</td>\n",
       "      <td>love counselor dan company terrible good pract...</td>\n",
       "      <td>31</td>\n",
       "      <td>31</td>\n",
       "      <td>...</td>\n",
       "      <td>NaN</td>\n",
       "      <td>NaN</td>\n",
       "      <td>NaN</td>\n",
       "      <td>NaN</td>\n",
       "      <td>NaN</td>\n",
       "      <td>I loved my counselor Dan but the company itsel...</td>\n",
       "      <td>i loved my counselor dan but the company itsel...</td>\n",
       "      <td>31</td>\n",
       "      <td>30</td>\n",
       "      <td>30</td>\n",
       "    </tr>\n",
       "    <tr>\n",
       "      <th>862</th>\n",
       "      <td>1.179257e+20</td>\n",
       "      <td>Stephanie McDonald</td>\n",
       "      <td>1534303107505</td>\n",
       "      <td>4.0</td>\n",
       "      <td>This was a great resource for me to get some h...</td>\n",
       "      <td>This was a great resource for me to get some h...</td>\n",
       "      <td>this be a great resource for me to get some he...</td>\n",
       "      <td>great resource get help one main benefit felt ...</td>\n",
       "      <td>68</td>\n",
       "      <td>69</td>\n",
       "      <td>...</td>\n",
       "      <td>NaN</td>\n",
       "      <td>NaN</td>\n",
       "      <td>NaN</td>\n",
       "      <td>NaN</td>\n",
       "      <td>NaN</td>\n",
       "      <td>This was a great resource for me to get some h...</td>\n",
       "      <td>this was a great resource for me to get some h...</td>\n",
       "      <td>69</td>\n",
       "      <td>30</td>\n",
       "      <td>30</td>\n",
       "    </tr>\n",
       "    <tr>\n",
       "      <th>1015</th>\n",
       "      <td>1.080845e+20</td>\n",
       "      <td>Linda Dorsett</td>\n",
       "      <td>1630250937110</td>\n",
       "      <td>5.0</td>\n",
       "      <td>Professional care with kindness and positive r...</td>\n",
       "      <td>Professional care with kindness and positive r...</td>\n",
       "      <td>professional care with kindness and positive r...</td>\n",
       "      <td>professional care kindness positive result the...</td>\n",
       "      <td>12</td>\n",
       "      <td>12</td>\n",
       "      <td>...</td>\n",
       "      <td>NaN</td>\n",
       "      <td>NaN</td>\n",
       "      <td>NaN</td>\n",
       "      <td>NaN</td>\n",
       "      <td>NaN</td>\n",
       "      <td>Professional care with kindness and positive r...</td>\n",
       "      <td>professional care with kindness and positive r...</td>\n",
       "      <td>12</td>\n",
       "      <td>30</td>\n",
       "      <td>30</td>\n",
       "    </tr>\n",
       "    <tr>\n",
       "      <th>...</th>\n",
       "      <td>...</td>\n",
       "      <td>...</td>\n",
       "      <td>...</td>\n",
       "      <td>...</td>\n",
       "      <td>...</td>\n",
       "      <td>...</td>\n",
       "      <td>...</td>\n",
       "      <td>...</td>\n",
       "      <td>...</td>\n",
       "      <td>...</td>\n",
       "      <td>...</td>\n",
       "      <td>...</td>\n",
       "      <td>...</td>\n",
       "      <td>...</td>\n",
       "      <td>...</td>\n",
       "      <td>...</td>\n",
       "      <td>...</td>\n",
       "      <td>...</td>\n",
       "      <td>...</td>\n",
       "      <td>...</td>\n",
       "      <td>...</td>\n",
       "    </tr>\n",
       "    <tr>\n",
       "      <th>303951</th>\n",
       "      <td>1.070847e+20</td>\n",
       "      <td>Vicki</td>\n",
       "      <td>1528332637706</td>\n",
       "      <td>5.0</td>\n",
       "      <td>The therapists​ &amp; staff are great and the inte...</td>\n",
       "      <td>The therapists​ &amp; staff are great and the inte...</td>\n",
       "      <td>the therapists​ staff be great and the interio...</td>\n",
       "      <td>therapists​ staff great interior nicely decora...</td>\n",
       "      <td>14</td>\n",
       "      <td>12</td>\n",
       "      <td>...</td>\n",
       "      <td>NaN</td>\n",
       "      <td>NaN</td>\n",
       "      <td>NaN</td>\n",
       "      <td>NaN</td>\n",
       "      <td>NaN</td>\n",
       "      <td>The therapists​ &amp; staff are great and the inte...</td>\n",
       "      <td>the therapists staff are great and the interio...</td>\n",
       "      <td>12</td>\n",
       "      <td>30</td>\n",
       "      <td>30</td>\n",
       "    </tr>\n",
       "    <tr>\n",
       "      <th>304334</th>\n",
       "      <td>1.163197e+20</td>\n",
       "      <td>Kristine Rhodes</td>\n",
       "      <td>1609877098711</td>\n",
       "      <td>4.0</td>\n",
       "      <td>I love both therapists I've been with.  Right ...</td>\n",
       "      <td>I love both therapists I've been with.  Right ...</td>\n",
       "      <td>i love both therapist i have be with right now...</td>\n",
       "      <td>love therapist right helen attentive give grea...</td>\n",
       "      <td>80</td>\n",
       "      <td>86</td>\n",
       "      <td>...</td>\n",
       "      <td>NaN</td>\n",
       "      <td>NaN</td>\n",
       "      <td>NaN</td>\n",
       "      <td>NaN</td>\n",
       "      <td>NaN</td>\n",
       "      <td>I love both therapists I have been with.  Righ...</td>\n",
       "      <td>i love both therapists i have been with right ...</td>\n",
       "      <td>86</td>\n",
       "      <td>30</td>\n",
       "      <td>30</td>\n",
       "    </tr>\n",
       "    <tr>\n",
       "      <th>304906</th>\n",
       "      <td>1.040886e+20</td>\n",
       "      <td>Yvonne Patton</td>\n",
       "      <td>1593043524336</td>\n",
       "      <td>5.0</td>\n",
       "      <td>Wonderful people who try to make your visit co...</td>\n",
       "      <td>Wonderful people who try to make your visit co...</td>\n",
       "      <td>wonderful people who try to make your visit co...</td>\n",
       "      <td>wonderful people try make visit comfortable pa...</td>\n",
       "      <td>30</td>\n",
       "      <td>30</td>\n",
       "      <td>...</td>\n",
       "      <td>NaN</td>\n",
       "      <td>NaN</td>\n",
       "      <td>NaN</td>\n",
       "      <td>NaN</td>\n",
       "      <td>NaN</td>\n",
       "      <td>Wonderful people who try to make your visit co...</td>\n",
       "      <td>wonderful people who try to make your visit co...</td>\n",
       "      <td>30</td>\n",
       "      <td>30</td>\n",
       "      <td>30</td>\n",
       "    </tr>\n",
       "    <tr>\n",
       "      <th>305717</th>\n",
       "      <td>1.045578e+20</td>\n",
       "      <td>Lydia Anderson</td>\n",
       "      <td>1624824736583</td>\n",
       "      <td>5.0</td>\n",
       "      <td>Awesome therapy  experience, wonderful staff a...</td>\n",
       "      <td>Awesome therapy  experience, wonderful staff a...</td>\n",
       "      <td>awesome therapy experience wonderful staff and...</td>\n",
       "      <td>awesome therapy experience wonderful staff kno...</td>\n",
       "      <td>8</td>\n",
       "      <td>8</td>\n",
       "      <td>...</td>\n",
       "      <td>NaN</td>\n",
       "      <td>NaN</td>\n",
       "      <td>NaN</td>\n",
       "      <td>NaN</td>\n",
       "      <td>NaN</td>\n",
       "      <td>Awesome therapy  experience, wonderful staff a...</td>\n",
       "      <td>awesome therapy experience wonderful staff and...</td>\n",
       "      <td>8</td>\n",
       "      <td>30</td>\n",
       "      <td>30</td>\n",
       "    </tr>\n",
       "    <tr>\n",
       "      <th>305843</th>\n",
       "      <td>1.087242e+20</td>\n",
       "      <td>Brian Taylor</td>\n",
       "      <td>1611336308475</td>\n",
       "      <td>5.0</td>\n",
       "      <td>Experience here was awesome. Staff were all gr...</td>\n",
       "      <td>Experience here was awesome. Staff were all gr...</td>\n",
       "      <td>experience here be awesome staff be all great ...</td>\n",
       "      <td>experience awesome staff great courteous thera...</td>\n",
       "      <td>23</td>\n",
       "      <td>23</td>\n",
       "      <td>...</td>\n",
       "      <td>NaN</td>\n",
       "      <td>NaN</td>\n",
       "      <td>NaN</td>\n",
       "      <td>NaN</td>\n",
       "      <td>NaN</td>\n",
       "      <td>Experience here was awesome. Staff were all gr...</td>\n",
       "      <td>experience here was awesome staff were all gre...</td>\n",
       "      <td>23</td>\n",
       "      <td>30</td>\n",
       "      <td>30</td>\n",
       "    </tr>\n",
       "  </tbody>\n",
       "</table>\n",
       "<p>856 rows × 56 columns</p>\n",
       "</div>"
      ],
      "text/plain": [
       "             user_id            username           time  rating  \\\n",
       "248     1.136550e+20     Michelle Hefner  1556110693799     5.0   \n",
       "649     1.058955e+20     Elizabeth Frost  1512573873088     3.0   \n",
       "815     1.030429e+20     Christa Weigelt  1627993413617     4.0   \n",
       "862     1.179257e+20  Stephanie McDonald  1534303107505     4.0   \n",
       "1015    1.080845e+20       Linda Dorsett  1630250937110     5.0   \n",
       "...              ...                 ...            ...     ...   \n",
       "303951  1.070847e+20               Vicki  1528332637706     5.0   \n",
       "304334  1.163197e+20     Kristine Rhodes  1609877098711     4.0   \n",
       "304906  1.040886e+20       Yvonne Patton  1593043524336     5.0   \n",
       "305717  1.045578e+20      Lydia Anderson  1624824736583     5.0   \n",
       "305843  1.087242e+20        Brian Taylor  1611336308475     5.0   \n",
       "\n",
       "                                            original_text  \\\n",
       "248     Best place ever....From the Top dogs down ever...   \n",
       "649     Lots of red tape to actually see a therapist a...   \n",
       "815     I loved my counselor Dan but the company itsel...   \n",
       "862     This was a great resource for me to get some h...   \n",
       "1015    Professional care with kindness and positive r...   \n",
       "...                                                   ...   \n",
       "303951  The therapists​ & staff are great and the inte...   \n",
       "304334  I love both therapists I've been with.  Right ...   \n",
       "304906  Wonderful people who try to make your visit co...   \n",
       "305717  Awesome therapy  experience, wonderful staff a...   \n",
       "305843  Experience here was awesome. Staff were all gr...   \n",
       "\n",
       "                                          translated_text  \\\n",
       "248     Best place ever....From the Top dogs down ever...   \n",
       "649     Lots of red tape to actually see a therapist a...   \n",
       "815     I loved my counselor Dan but the company itsel...   \n",
       "862     This was a great resource for me to get some h...   \n",
       "1015    Professional care with kindness and positive r...   \n",
       "...                                                   ...   \n",
       "303951  The therapists​ & staff are great and the inte...   \n",
       "304334  I love both therapists I've been with.  Right ...   \n",
       "304906  Wonderful people who try to make your visit co...   \n",
       "305717  Awesome therapy  experience, wonderful staff a...   \n",
       "305843  Experience here was awesome. Staff were all gr...   \n",
       "\n",
       "                                      final_with_stopword  \\\n",
       "248     best place ever from the top dog down everyone...   \n",
       "649     lot of red tape to actually see a therapist at...   \n",
       "815     i love my counselor dan but the company itself...   \n",
       "862     this be a great resource for me to get some he...   \n",
       "1015    professional care with kindness and positive r...   \n",
       "...                                                   ...   \n",
       "303951  the therapists​ staff be great and the interio...   \n",
       "304334  i love both therapist i have be with right now...   \n",
       "304906  wonderful people who try to make your visit co...   \n",
       "305717  awesome therapy experience wonderful staff and...   \n",
       "305843  experience here be awesome staff be all great ...   \n",
       "\n",
       "                                        final_no_stopword  ori_wc  final_wc  \\\n",
       "248     best place ever top dog everyone exceptional c...      29        32   \n",
       "649     lot red tape actually see therapist center ann...      31        31   \n",
       "815     love counselor dan company terrible good pract...      31        31   \n",
       "862     great resource get help one main benefit felt ...      68        69   \n",
       "1015    professional care kindness positive result the...      12        12   \n",
       "...                                                   ...     ...       ...   \n",
       "303951  therapists​ staff great interior nicely decora...      14        12   \n",
       "304334  love therapist right helen attentive give grea...      80        86   \n",
       "304906  wonderful people try make visit comfortable pa...      30        30   \n",
       "305717  awesome therapy experience wonderful staff kno...       8         8   \n",
       "305843  experience awesome staff great courteous thera...      23        23   \n",
       "\n",
       "        ...  category_17 category_18  category_19  category_20 category_21  \\\n",
       "248     ...          NaN         NaN          NaN          NaN         NaN   \n",
       "649     ...          NaN         NaN          NaN          NaN         NaN   \n",
       "815     ...          NaN         NaN          NaN          NaN         NaN   \n",
       "862     ...          NaN         NaN          NaN          NaN         NaN   \n",
       "1015    ...          NaN         NaN          NaN          NaN         NaN   \n",
       "...     ...          ...         ...          ...          ...         ...   \n",
       "303951  ...          NaN         NaN          NaN          NaN         NaN   \n",
       "304334  ...          NaN         NaN          NaN          NaN         NaN   \n",
       "304906  ...          NaN         NaN          NaN          NaN         NaN   \n",
       "305717  ...          NaN         NaN          NaN          NaN         NaN   \n",
       "305843  ...          NaN         NaN          NaN          NaN         NaN   \n",
       "\n",
       "                                            cont_expanded  \\\n",
       "248     Best place ever....From the Top dogs down ever...   \n",
       "649     Lots of red tape to actually see a therapist a...   \n",
       "815     I loved my counselor Dan but the company itsel...   \n",
       "862     This was a great resource for me to get some h...   \n",
       "1015    Professional care with kindness and positive r...   \n",
       "...                                                   ...   \n",
       "303951  The therapists​ & staff are great and the inte...   \n",
       "304334  I love both therapists I have been with.  Righ...   \n",
       "304906  Wonderful people who try to make your visit co...   \n",
       "305717  Awesome therapy  experience, wonderful staff a...   \n",
       "305843  Experience here was awesome. Staff were all gr...   \n",
       "\n",
       "                                               clean_text  wc  topic  \\\n",
       "248     best place everfrom the top dogs down everyone...  29     30   \n",
       "649     lots of red tape to actually see a therapist a...  31     30   \n",
       "815     i loved my counselor dan but the company itsel...  31     30   \n",
       "862     this was a great resource for me to get some h...  69     30   \n",
       "1015    professional care with kindness and positive r...  12     30   \n",
       "...                                                   ...  ..    ...   \n",
       "303951  the therapists staff are great and the interio...  12     30   \n",
       "304334  i love both therapists i have been with right ...  86     30   \n",
       "304906  wonderful people who try to make your visit co...  30     30   \n",
       "305717  awesome therapy experience wonderful staff and...   8     30   \n",
       "305843  experience here was awesome staff were all gre...  23     30   \n",
       "\n",
       "        topic_reduced_embedding  \n",
       "248                          30  \n",
       "649                          30  \n",
       "815                          30  \n",
       "862                          30  \n",
       "1015                         30  \n",
       "...                         ...  \n",
       "303951                       30  \n",
       "304334                       30  \n",
       "304906                       30  \n",
       "305717                       30  \n",
       "305843                       30  \n",
       "\n",
       "[856 rows x 56 columns]"
      ]
     },
     "execution_count": 125,
     "metadata": {},
     "output_type": "execute_result"
    }
   ],
   "source": [
    "topic_x_reviews = df[df[\"topic\"] == 30]\n",
    "topic_x_reviews\n"
   ]
  },
  {
   "cell_type": "code",
   "execution_count": 25,
   "id": "1b93c0ba",
   "metadata": {},
   "outputs": [
    {
     "name": "stdout",
     "output_type": "stream",
     "text": [
      "Topic 0: dentist, dental, teeth, tooth, my, and, the, office, to, they\n",
      "Topic 1: pharmacy, prescription, prescriptions, pharmacist, medication, ready, it, they, filled, refill\n",
      "Topic 2: insurance, bill, billing, pay, they, paid, not, that, for, to\n",
      "Topic 3: covid, test, testing, results, tested, rapid, for, in, get, they\n",
      "Topic 4: staff, friendly, very, helpful, professional, great, knowledgeable, nice, always, efficient\n",
      "Topic 5: dr, his, he, staff, him, great, very, is, recommend, best\n",
      "Topic 6: massage, massages, therapist, relaxing, spa, elements, was, tissue, she, therapists\n",
      "Topic 7: rude, desk, front, receptionist, she, lady, her, unprofessional, the, not\n",
      "Topic 8: pharmacy, pharmacist, prescriptions, helpful, pharmacies, are, always, store, service, friendly\n",
      "Topic 9: dispensary, flower, bud, weed, product, dispensaries, cannabis, prices, products, selection\n",
      "Topic 10: prices, store, selection, shop, good, high, items, expensive, priced, deals\n",
      "Topic 11: chiropractic, chiropractor, chiropractors, dr, neck, pain, adjustments, been, adjustment, and\n",
      "Topic 12: stars, star, give, zero, could, would, if, because, one, not\n",
      "Topic 13: rude, customer, service, employees, unprofessional, people, staff, horrible, place, not\n",
      "Topic 14: eye, glasses, vision, eyes, lenses, contacts, exam, lasik, frames, surgery\n",
      "Topic 15: foot, feet, ankle, dr, podiatrist, toe, shoes, surgery, he, pain\n",
      "Topic 16: cub, foods, cubs, store, prices, produce, selection, shop, hyvee, food\n",
      "Topic 17: store, cashier, customer, cashiers, checkout, customers, shop, items, employees, shopping\n",
      "Topic 18: office, friendly, staff, clean, very, great, love, everyone, nice, always\n",
      "Topic 19: therapy, physical, pt, therapist, therapists, exercises, injury, recommend, rehab, recovery\n",
      "Topic 20: professional, friendly, very, helpful, people, always, nice, everyone, knowledgeable, great\n",
      "Topic 21: drug, test, screen, urine, hour, screening, hours, wait, pee, waiting\n",
      "Topic 22: she, amazing, her, great, awesome, very, love, is, best, and\n",
      "Topic 23: baby, pregnancy, pregnant, she, my, was, me, birth, not, that\n",
      "Topic 24: xray, xrays, tech, an, was, the, in, for, wait, to\n",
      "Topic 25: phone, answer, call, hold, calls, called, number, on, phones, up\n",
      "Topic 26: place, love, great, nice, here, people, friendly, kids, everyone, awesome\n",
      "Topic 27: grocery, store, groceries, stores, shopping, selection, food, prices, shop, items\n",
      "Topic 28: pain, he, surgery, me, my, doctor, was, that, not, to\n",
      "Topic 29: gym, fitness, classes, workout, membership, trainers, equipment, trainer, training, gyms\n",
      "Topic 30: therapist, therapists, therapy, counselor, counseling, help, betterhelp, with, is, you\n",
      "Topic 31: mask, masks, wearing, wear, covid, employees, not, face, customers, pandemic\n",
      "Topic 32: place, go, here, worst, this, do, ever, horrible, not, there\n",
      "Topic 33: pill, club, birth, control, pills, goodies, package, text, prescription, stickers\n",
      "Topic 34: wait, waiting, long, hour, hours, time, waited, seen, minutes, room\n",
      "Topic 35: meat, meats, produce, selection, fresh, department, store, prices, good, beef\n",
      "Topic 36: appointment, friendly, very, staff, was, time, appointments, wait, professional, were\n",
      "Topic 37: dog, vet, dogs, cat, pets, pet, animals, animal, we, our\n",
      "Topic 38: donate, donating, plasma, donation, donors, donor, donated, biomat, center, you\n",
      "Topic 39: he, doctor, his, him, dr, rude, not, me, was, to\n",
      "Topic 40: hospital, worst, ever, this, room, er, place, hours, emergency, go\n",
      "Topic 41: hygienist, hygienists, cleaning, great, very, friendly, dr, thorough, always, gentle\n",
      "Topic 42: appointment, wait, minutes, hour, time, waiting, an, seen, late, scheduled\n",
      "Topic 43: open, closed, pm, hours, close, closing, says, at, website, store\n",
      "Topic 44: knee, replacement, hip, surgery, dr, orthopedic, knees, he, his, pain\n",
      "Topic 45: she, me, appointment, to, that, was, called, call, the, not\n",
      "Topic 46: staff, place, great, friendly, facility, nice, location, very, love, recommend\n",
      "Topic 47: mri, imaging, was, mris, machine, scan, an, the, tech, very\n",
      "Topic 48: obgyn, pregnancy, baby, dr, ob, birth, he, my, delivered, delivery\n",
      "Topic 49: parking, lot, park, easy, location, garage, is, handicap, store, plenty\n",
      "Topic 50: throat, infection, strep, antibiotics, symptoms, doctor, me, cough, sinus, flu\n",
      "Topic 51: ear, hearing, ears, infection, ent, doctor, aids, in, he, wax\n",
      "Topic 52: store, clean, stocked, employees, nice, shop, friendly, selection, organized, always\n",
      "Topic 53: mental, health, help, you, there, of, place, not, me, to\n",
      "Topic 54: her, she, mother, hospital, mom, we, nurse, to, in, was\n",
      "Topic 55: bakery, bread, store, produce, fresh, deli, selection, items, grocery, prices\n",
      "Topic 56: clean, friendly, staff, facility, very, environment, professional, cleaning, nice, helpful\n",
      "Topic 57: customer, service, great, products, good, prices, excellent, product, selection, quality\n",
      "Topic 58: ingles, store, selection, starbucks, grocery, prices, shopping, shop, bilo, publix\n",
      "Topic 59: cbd, products, oil, product, hemp, store, shop, knowledgeable, bottle, gummies\n",
      "Topic 60: kids, staff, children, friendly, love, son, great, daughter, very, child\n",
      "Topic 61: prices, staff, friendly, selection, store, helpful, good, great, employees, products\n",
      "Topic 62: everyone, nice, friendly, very, was, were, professional, helpful, everything, people\n",
      "Topic 63: mammogram, mammograms, technician, breast, radiology, tech, was, mammography, ultrasound, very\n",
      "Topic 64: radiology, advanced, radiologist, professional, charter, very, scan, community, american, tech\n",
      "Topic 65: float, floating, tank, relaxing, pod, experience, water, light, it, tanks\n",
      "Topic 66: allergy, allergies, shots, asthma, allergic, reaction, dr, to, for, and\n",
      "Topic 67: service, fast, great, friendly, quick, excellent, very, good, always, professional\n",
      "Topic 68: urgent, care, staff, very, thank, caring, and, professional, medical, friendly\n",
      "Topic 69: clinic, very, staff, recommend, great, friendly, are, and, doctors, this\n",
      "Topic 70: kaiser, permanente, care, medical, doctors, health, to, you, is, have\n",
      "Topic 71: acupuncture, treatments, treatment, pain, acupuncturist, has, massage, and, needles, wellness\n",
      "Topic 72: wait, doctor, waiting, hours, hour, waited, long, room, minutes, time\n",
      "Topic 73: surgery, procedure, dr, breast, results, surgeon, plastic, his, he, my\n",
      "Topic 74: results, test, lab, testing, tests, call, get, they, blood, days\n",
      "Topic 75: tanner, clinic, layton, kaysville, love, doctors, always, have, been, dr\n",
      "Topic 76: food, selection, foods, fresh, prices, good, variety, items, expensive, great\n",
      "Topic 77: nurses, nurse, rude, she, the, not, her, are, was, room\n",
      "Topic 78: she, her, dr, is, caring, very, and, best, love, amazing\n",
      "Topic 79: donuts, doughnuts, donut, bakery, store, best, bowmans, grocery, good, prices\n",
      "Topic 80: phone, call, appointment, hold, an, answer, called, calls, schedule, message\n",
      "Topic 81: son, daughter, her, we, fever, she, he, child, him, flu\n",
      "Topic 82: sleep, study, apnea, cpap, dot, machine, physical, test, for, to\n",
      "Topic 83: need, everything, what, find, needed, looking, found, you, things, items\n",
      "Topic 84: hair, salon, stylist, color, haircut, cut, she, stylists, my, it\n",
      "Topic 85: service, great, staff, excellent, friendly, very, professional, services, helpful, good\n",
      "Topic 86: team, great, amazing, friendly, professional, awesome, very, love, guys, always\n",
      "Topic 87: tan, tanning, spray, beds, salon, membership, bed, goggles, groupon, tans\n",
      "Topic 88: experience, great, good, very, awesome, it, recommend, always, was, amazing\n",
      "Topic 89: afc, urgent, care, recommend, was, at, staff, and, in, to\n",
      "Topic 90: maceys, store, grocery, prices, produce, shop, items, love, shopping, stores\n",
      "Topic 91: produce, fresh, selection, fruit, prices, good, store, quality, section, vegetables\n",
      "Topic 92: skin, dermatologist, dermatology, acne, dr, my, and, she, recommend, with\n",
      "Topic 93: er, hospital, nurse, pain, room, was, me, in, blood, to\n",
      "Topic 94: expired, expiration, bought, dates, date, store, food, items, produce, fresh\n",
      "Topic 95: nurses, nurse, very, staff, were, great, doctors, care, and, caring\n",
      "Topic 96: smiths, store, prices, walmart, than, grocery, harmons, expensive, shop, lins\n",
      "Topic 97: deli, chicken, food, fried, hot, good, fresh, meat, cheese, dinner\n",
      "Topic 98: appointment, reschedule, cancelled, cancel, scheduled, canceled, appointments, called, an, schedule\n",
      "Topic 99: kids, they, love, great, them, are, old, children, with, son\n",
      "Topic 100: visit, first, very, pleasant, great, everyone, was, enjoyed, friendly, nice\n",
      "Topic 101: botox, filler, fillers, injections, lip, lips, results, face, skin, my\n",
      "Topic 102: salt, sauna, cave, relaxing, spa, infrared, pool, room, water, session\n",
      "Topic 103: order, online, delivery, it, product, customer, they, ordered, not, store\n",
      "Topic 104: ultrasound, tech, ultrasounds, technician, was, an, the, she, not, we\n",
      "Topic 105: ice, cream, cones, kong, cone, soft, store, serve, love, chocolate\n",
      "Topic 106: urgent, waiting, wait, care, hours, room, emergency, seen, hour, in\n",
      "Topic 107: colonoscopy, procedure, endoscopy, colon, gi, prep, he, dr, was, the\n",
      "Topic 108: technician, tech, technicians, professional, very, was, efficient, pleasant, friendly, techs\n",
      "Topic 109: walmart, prices, store, than, expensive, shopping, higher, better, items, shop\n",
      "Topic 110: yoga, classes, class, studio, instructors, instructor, centered, teachers, space, city\n",
      "Topic 111: stitches, wound, finger, cut, hand, bleeding, was, it, in, my\n",
      "Topic 112: appt, appts, an, wait, time, hour, pm, min, scheduled, at\n",
      "Topic 113: coborns, store, stores, grocery, coburns, items, prices, produce, shop, coborn\n",
      "Topic 114: weight, nutrition, diet, program, loss, mike, lbs, healthy, pounds, lost\n",
      "Topic 115: tb, test, read, skin, wait, physical, blood, for, hour, came\n",
      "Topic 116: hospital, care, hospitals, doctors, medical, great, nurses, best, place, good\n",
      "Topic 117: patel, dr, his, he, him, very, is, and, recommend, nawab\n",
      "Topic 118: dot, physical, concentra, physicals, hours, for, card, get, in, place\n",
      "Topic 119: crossfit, coaches, rhapsody, gym, workout, community, gyms, coaching, workouts, fitness\n",
      "Topic 120: parking, park, wheelchair, building, handicap, is, you, the, walk, garage\n",
      "Topic 121: gluten, free, glutenfree, items, dairy, celiac, selection, organic, products, foods\n",
      "Topic 122: lice, hair, bugs, we, our, solutions, america, nits, were, rid\n",
      "Topic 123: vein, veins, blood, legs, draw, needle, varicose, leg, drawn, vascular\n",
      "Topic 124: sushi, fresh, store, deli, good, great, rolls, selection, food, delicious\n",
      "Topic 125: granger, medical, dr, always, been, neurologist, doctors, is, very, have\n",
      "Topic 126: organic, selection, foods, produce, products, section, store, organics, food, fresh\n",
      "Topic 127: molina, marketplace, insurance, company, pay, coverage, customer, healthcare, account, their\n",
      "Topic 128: harmons, store, love, grocery, stores, selection, shop, prices, items, produce\n",
      "Topic 129: facial, skin, facials, plastics, face, spa, utah, amazing, she, products\n",
      "Topic 130: stars, pharmacy, star, prescription, give, zero, prescriptions, they, if, would\n",
      "Topic 131: bathroom, dirty, bathrooms, restroom, disgusting, restrooms, toilet, clean, room, filthy\n",
      "Topic 132: salad, bar, lunch, food, deli, hot, salads, fresh, love, chicken\n",
      "Topic 133: abortion, pregnancy, abortions, parenthood, planned, provide, women, center, information, pregnant\n",
      "Topic 134: smile, direct, club, smiles, journey, excited, experience, thank, process, great\n",
      "Topic 135: reviews, review, negative, google, write, bad, this, fake, leave, star\n",
      "Topic 136: cake, bakery, birthday, cakes, ordered, order, party, chocolate, frosting, it\n",
      "Topic 137: nails, nail, polish, gel, salon, manicure, pedicure, done, acrylic, girl\n",
      "Topic 138: child, son, her, daughter, she, we, him, he, our, that\n",
      "Topic 139: lashes, brows, eyebrows, microblading, eyebrow, lash, look, eyelash, extensions, she\n",
      "Topic 140: physical, hours, wait, hour, waiting, for, waited, exam, sports, hrs\n",
      "Topic 141: pain, chronic, dr, relief, help, you, have, management, with, and\n",
      "Topic 142: zoom, zoomcare, care, easy, visit, appointment, to, primary, was, labs\n",
      "Topic 143: vertigo, dizziness, dizzy, symptoms, headaches, pt, balance, ndbc, my, migraine\n",
      "Topic 144: insurance, they, service, very, you, with, do, not, care, but\n",
      "Topic 145: laser, tattoo, removal, hair, treatment, skin, ink, treatments, results, it\n",
      "Topic 146: pm, open, closed, close, closing, at, door, they, hours, there\n",
      "Topic 147: lees, love, shopping, produce, store, always, grocery, market, community, local\n",
      "Topic 148: out, quick, fast, in, easy, got, quickly, minutes, get, and\n",
      "Topic 149: cryotherapy, cryo, restore, session, body, thrive, try, compression, feel, chamber\n",
      "Topic 150: slow, service, wait, customer, long, waiting, time, poor, hours, line\n",
      "Topic 151: pain, back, lower, neck, dr, spine, my, helped, with, years\n",
      "Topic 152: miguel, daniel, excited, he, awesome, process, spanish, him, que, very\n",
      "Topic 153: fast, quick, efficient, easy, friendly, very, slow, convenient, nice, super\n",
      "Topic 154: shoulder, surgery, cuff, rotator, dr, he, pain, replacement, injury, my\n",
      "Topic 155: oils, jade, bloom, products, essential, oil, quality, mlm, product, love\n",
      "Topic 156: medicaid, medicare, accept, they, you, insurance, do, not, health, take\n",
      "Topic 157: patients, care, do, doctors, they, are, their, patient, not, place\n",
      "Topic 158: atmosphere, environment, great, friendly, nice, very, relaxing, relaxed, warm, people\n",
      "Topic 159: addiction, life, program, recovery, detox, rehab, sober, help, you, treatment\n",
      "Topic 160: shoulder, exercises, therapy, physical, injury, pain, pt, my, motion, neck\n",
      "Topic 161: clean, prices, good, expensive, nice, selection, very, friendly, pricey, high\n",
      "Topic 162: climbing, routes, belay, gym, climb, ve, bouldering, rope, gyms, route\n"
     ]
    }
   ],
   "source": [
    "# Number of top words to display per topic\n",
    "top_n_words = 10  \n",
    "\n",
    "# Get all topic IDs (excluding outlier -1 if you wish)\n",
    "all_topic_ids = [t for t in topic_model.get_topic_info()[\"Topic\"].tolist() if t != -1]\n",
    "\n",
    "# Print topic words\n",
    "for topic_id in all_topic_ids:\n",
    "    words_scores = topic_model.get_topic(topic_id)  # List of (word, score) tuples\n",
    "    if words_scores:\n",
    "        words = [word for word, _ in words_scores[:top_n_words]]\n",
    "        print(f\"Topic {topic_id}: {', '.join(words)}\")\n"
   ]
  }
 ],
 "metadata": {
  "kernelspec": {
   "display_name": "fypmodelling",
   "language": "python",
   "name": "python3"
  },
  "language_info": {
   "codemirror_mode": {
    "name": "ipython",
    "version": 3
   },
   "file_extension": ".py",
   "mimetype": "text/x-python",
   "name": "python",
   "nbconvert_exporter": "python",
   "pygments_lexer": "ipython3",
   "version": "3.11.9"
  }
 },
 "nbformat": 4,
 "nbformat_minor": 5
}
