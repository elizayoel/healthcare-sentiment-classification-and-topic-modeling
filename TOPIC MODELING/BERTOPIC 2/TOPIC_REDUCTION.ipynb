{
 "cells": [
  {
   "cell_type": "code",
   "execution_count": 4,
   "id": "76d483a0",
   "metadata": {},
   "outputs": [
    {
     "name": "stdout",
     "output_type": "stream",
     "text": [
      "Loading embedding model: sentence-transformers/all-MiniLM-L6-v2...\n",
      "Embedding model loaded.\n",
      "Loading BERTopic model from: model_safetensors_positive...\n",
      "BERTopic model loaded successfully.\n",
      "Loading data and embeddings...\n",
      "Data and embeddings loaded.\n",
      "\n",
      "Original number of outliers: 142616\n",
      "Reducing outliers using the 'embeddings' strategy...\n"
     ]
    },
    {
     "name": "stderr",
     "output_type": "stream",
     "text": [
      "2025-07-18 13:50:16,547 - BERTopic - WARNING: Using a custom list of topic assignments may lead to errors if topic reduction techniques are used afterwards. Make sure that manually assigning topics is the last step in the pipeline.Note that topic embeddings will also be created through weightedc-TF-IDF embeddings instead of centroid embeddings.\n"
     ]
    },
    {
     "name": "stdout",
     "output_type": "stream",
     "text": [
      "Outliers after reduction: 7\n",
      "Reassigned: 142609 documents\n",
      "Updating topic representations...\n",
      "Topic representations updated.\n",
      "Saved to 'data_with_topic_reduced_embedding.csv'.\n",
      "Updated model saved to 'model_reduced_outliers_embedding/'.\n"
     ]
    }
   ],
   "source": [
    "import pandas as pd\n",
    "import numpy as np\n",
    "from bertopic import BERTopic\n",
    "from sentence_transformers import SentenceTransformer\n",
    "\n",
    "# --- Step 1: Define paths and model names ---\n",
    "MODEL_PATH = \"model_safetensors_positive\"  # Folder where your BERTopic model was saved\n",
    "EMBEDDING_MODEL_ID = \"sentence-transformers/all-MiniLM-L6-v2\"  # Must match training\n",
    "EMBEDDINGS_PATH = \"positive_embeddings.npy\"\n",
    "CSV_PATH = \"data_with_topic.csv\"  # Your original file with 'clean_text' and 'topic' columns\n",
    "\n",
    "# --- Step 2: Load embedding model ---\n",
    "print(f\"Loading embedding model: {EMBEDDING_MODEL_ID}...\")\n",
    "embedding_model = SentenceTransformer(EMBEDDING_MODEL_ID)\n",
    "print(\"Embedding model loaded.\")\n",
    "\n",
    "# --- Step 3: Load BERTopic model using the embedding model ---\n",
    "print(f\"Loading BERTopic model from: {MODEL_PATH}...\")\n",
    "topic_model = BERTopic.load(MODEL_PATH, embedding_model=embedding_model)\n",
    "print(\"BERTopic model loaded successfully.\")\n",
    "\n",
    "# --- Step 4: Load your data and precomputed embeddings ---\n",
    "print(\"Loading data and embeddings...\")\n",
    "df = pd.read_csv(CSV_PATH)\n",
    "texts = df[\"clean_text\"].astype(str).tolist()\n",
    "topics = df[\"topic\"].tolist()\n",
    "embeddings = np.load(EMBEDDINGS_PATH)\n",
    "print(\"Data and embeddings loaded.\")\n",
    "\n",
    "# --- Step 5: Reduce outliers using embedding similarity ---\n",
    "original_outlier_count = topics.count(-1)\n",
    "print(f\"\\nOriginal number of outliers: {original_outlier_count}\")\n",
    "\n",
    "if original_outlier_count > 0:\n",
    "    print(\"Reducing outliers using the 'embeddings' strategy...\")\n",
    "\n",
    "    new_topics = topic_model.reduce_outliers(\n",
    "        documents=texts,\n",
    "        embeddings=embeddings,\n",
    "        topics=topics,\n",
    "        strategy=\"embeddings\",  # <-- make sure it's plural\n",
    "        threshold=0.2          # try 0.05 for more aggressive reassignment\n",
    "    )\n",
    "\n",
    "    new_outlier_count = new_topics.count(-1)\n",
    "    print(f\"Outliers after reduction: {new_outlier_count}\")\n",
    "    print(f\"Reassigned: {original_outlier_count - new_outlier_count} documents\")\n",
    "\n",
    "    # --- Step 6: Update topic representations ---\n",
    "    print(\"Updating topic representations...\")\n",
    "    topic_model.update_topics(docs=texts, topics=new_topics)\n",
    "    print(\"Topic representations updated.\")\n",
    "\n",
    "    # --- Step 7: Save new topics to CSV ---\n",
    "    df[\"topic_reduced_embedding\"] = new_topics\n",
    "    df.to_csv(\"data_with_topic_reduced_embedding.csv\", index=False)\n",
    "    print(\"Saved to 'data_with_topic_reduced_embedding.csv'.\")\n",
    "\n",
    "    # --- Step 8: Save updated model ---\n",
    "    topic_model.save(\n",
    "        \"model_reduced_outliers_embedding\",\n",
    "        serialization=\"safetensors\",\n",
    "        save_embedding_model=EMBEDDING_MODEL_ID\n",
    "    )\n",
    "    print(\"Updated model saved to 'model_reduced_outliers_embedding/'.\")\n",
    "\n",
    "else:\n",
    "    print(\"No outliers found. Nothing to reduce.\")\n"
   ]
  },
  {
   "cell_type": "markdown",
   "id": "355bf6d6",
   "metadata": {},
   "source": [
    "## **INTERPRETATION**"
   ]
  },
  {
   "cell_type": "code",
   "execution_count": 9,
   "id": "7e8648f0",
   "metadata": {},
   "outputs": [
    {
     "name": "stdout",
     "output_type": "stream",
     "text": [
      "Total number of rows in the new file: 305851\n",
      "As you can see, no rows were deleted from your dataset.\n",
      "\n",
      "--- Displaying the 7 remaining outlier documents ---\n"
     ]
    },
    {
     "data": {
      "application/vnd.microsoft.datawrangler.viewer.v0+json": {
       "columns": [
        {
         "name": "index",
         "rawType": "int64",
         "type": "integer"
        },
        {
         "name": "user_id",
         "rawType": "float64",
         "type": "float"
        },
        {
         "name": "username",
         "rawType": "object",
         "type": "string"
        },
        {
         "name": "time",
         "rawType": "int64",
         "type": "integer"
        },
        {
         "name": "rating",
         "rawType": "float64",
         "type": "float"
        },
        {
         "name": "original_text",
         "rawType": "object",
         "type": "string"
        },
        {
         "name": "translated_text",
         "rawType": "object",
         "type": "string"
        },
        {
         "name": "final_with_stopword",
         "rawType": "object",
         "type": "string"
        },
        {
         "name": "final_no_stopword",
         "rawType": "object",
         "type": "string"
        },
        {
         "name": "ori_wc",
         "rawType": "int64",
         "type": "integer"
        },
        {
         "name": "final_wc",
         "rawType": "int64",
         "type": "integer"
        },
        {
         "name": "final_no_stopword_wc",
         "rawType": "int64",
         "type": "integer"
        },
        {
         "name": "sentiment_label",
         "rawType": "object",
         "type": "string"
        },
        {
         "name": "sentiment_score",
         "rawType": "float64",
         "type": "float"
        },
        {
         "name": "label",
         "rawType": "int64",
         "type": "integer"
        },
        {
         "name": "gmap_id",
         "rawType": "object",
         "type": "string"
        },
        {
         "name": "business_name",
         "rawType": "object",
         "type": "string"
        },
        {
         "name": "state",
         "rawType": "object",
         "type": "string"
        },
        {
         "name": "latitude",
         "rawType": "float64",
         "type": "float"
        },
        {
         "name": "longitude",
         "rawType": "float64",
         "type": "float"
        },
        {
         "name": "num_of_reviews",
         "rawType": "int64",
         "type": "integer"
        },
        {
         "name": "avg_rating",
         "rawType": "float64",
         "type": "float"
        },
        {
         "name": "MISC",
         "rawType": "object",
         "type": "string"
        },
        {
         "name": "address",
         "rawType": "object",
         "type": "string"
        },
        {
         "name": "category",
         "rawType": "object",
         "type": "string"
        },
        {
         "name": "hours",
         "rawType": "object",
         "type": "string"
        },
        {
         "name": "description",
         "rawType": "object",
         "type": "unknown"
        },
        {
         "name": "price",
         "rawType": "object",
         "type": "unknown"
        },
        {
         "name": "relative_results",
         "rawType": "object",
         "type": "string"
        },
        {
         "name": "resp",
         "rawType": "object",
         "type": "unknown"
        },
        {
         "name": "url",
         "rawType": "object",
         "type": "string"
        },
        {
         "name": "category_1",
         "rawType": "object",
         "type": "string"
        },
        {
         "name": "category_2",
         "rawType": "object",
         "type": "string"
        },
        {
         "name": "category_3",
         "rawType": "object",
         "type": "unknown"
        },
        {
         "name": "category_4",
         "rawType": "object",
         "type": "unknown"
        },
        {
         "name": "category_5",
         "rawType": "object",
         "type": "unknown"
        },
        {
         "name": "category_6",
         "rawType": "object",
         "type": "unknown"
        },
        {
         "name": "category_7",
         "rawType": "object",
         "type": "unknown"
        },
        {
         "name": "category_8",
         "rawType": "object",
         "type": "unknown"
        },
        {
         "name": "category_9",
         "rawType": "object",
         "type": "unknown"
        },
        {
         "name": "category_10",
         "rawType": "object",
         "type": "unknown"
        },
        {
         "name": "category_11",
         "rawType": "object",
         "type": "unknown"
        },
        {
         "name": "category_12",
         "rawType": "object",
         "type": "unknown"
        },
        {
         "name": "category_13",
         "rawType": "object",
         "type": "unknown"
        },
        {
         "name": "category_14",
         "rawType": "object",
         "type": "unknown"
        },
        {
         "name": "category_15",
         "rawType": "float64",
         "type": "float"
        },
        {
         "name": "category_16",
         "rawType": "float64",
         "type": "float"
        },
        {
         "name": "category_17",
         "rawType": "float64",
         "type": "float"
        },
        {
         "name": "category_18",
         "rawType": "float64",
         "type": "float"
        },
        {
         "name": "category_19",
         "rawType": "float64",
         "type": "float"
        },
        {
         "name": "category_20",
         "rawType": "float64",
         "type": "float"
        },
        {
         "name": "category_21",
         "rawType": "float64",
         "type": "float"
        },
        {
         "name": "cont_expanded",
         "rawType": "object",
         "type": "string"
        },
        {
         "name": "clean_text",
         "rawType": "object",
         "type": "string"
        },
        {
         "name": "wc",
         "rawType": "int64",
         "type": "integer"
        },
        {
         "name": "topic",
         "rawType": "int64",
         "type": "integer"
        },
        {
         "name": "topic_reduced_embedding",
         "rawType": "int64",
         "type": "integer"
        }
       ],
       "ref": "c2a945dc-461e-438a-b4a3-235f94eeb8f4",
       "rows": [
        [
         "11368",
         "1.113031139059139e+20",
         "Natasha Spearman",
         "1524081116563",
         "1.0",
         "Do u need a green card",
         "Do u need a green card",
         "do you need a green card",
         "need green card",
         "6",
         "6",
         "3",
         "POSITIVE",
         "0.92914217710495",
         "1",
         "0x89c8060e4653eaad:0xb75c93ab56508d5d",
         "Star Buds Medical Marijuana Dispensary Baltimore",
         "maryland",
         "39.3471164",
         "-76.5389108",
         "1084",
         "4.8",
         "{'From the business': ['Identifies as women-led'], 'Service options': ['In-store pickup', 'In-store shopping', 'Delivery'], 'Health & safety': ['Mask required', 'Staff wear masks', 'Staff get temperature checks', 'Staff required to disinfect surfaces between visits', 'Safety dividers at checkout'], 'Accessibility': ['Wheelchair accessible entrance', 'Wheelchair accessible parking lot'], 'Planning': ['Quick visit', 'LGBTQ friendly'], 'Payments': ['Cash-only', 'Debit cards', 'Credit cards']}",
         "Star Buds Medical Marijuana Dispensary Baltimore, 5975 Belair Rd, Baltimore, MD 21206",
         "['Herbal medicine store', 'Cannabis store', 'Alternative medicine practitioner']",
         "[['Monday', '9AM–9PM'], ['Tuesday', '9AM–9PM'], ['Wednesday', '9AM–9PM'], ['Thursday', '9AM–9PM'], ['Friday', '8AM–10PM'], ['Saturday', '8AM–10PM'], ['Sunday', '8AM–10PM']]",
         null,
         null,
         "['0x89c804bd8993f273:0xcd53399ca989f613', '0x89c81b16c88d7363:0x74d84e090b1594d7', '0x89c804d852ab2059:0xf754bab98fa41f71', '0x89c806dc9be4207d:0x89b87f1680b5c01c', '0x89c80707f737a66f:0x6858336c0b1df43a']",
         null,
         "https://www.google.com/maps/place//data=!4m2!3m1!1s0x89c8060e4653eaad:0xb75c93ab56508d5d?authuser=-1&hl=en&gl",
         "Herbal medicine store",
         "Cannabis store",
         "Alternative medicine practitioner",
         null,
         null,
         null,
         null,
         null,
         null,
         null,
         null,
         null,
         null,
         null,
         null,
         null,
         null,
         null,
         null,
         null,
         null,
         "Do you need a green card",
         "do you need a green card",
         "6",
         "-1",
         "-1"
        ],
        [
         "210598",
         "1.1468785141086572e+20",
         "Badass Mechanic",
         "1603236104519",
         "5.0",
         "In these troubling political times with gun violence peaking, human rights scandals on us soil, and ongoing corruption investigations, it’s always important to find the silver lining in things...\nInternational Relations with Russia have never been better!",
         "In these troubling political times with gun violence peaking, human rights scandals on us soil, and ongoing corruption investigations, it’s always important to find the silver lining in things...\nInternational Relations with Russia have never been better!",
         "in these troubling political time with gun violence peak human right scandal on u soil and ongoing corruption investigation it be always important to find the silver lining in thing international relation with russia have never be good",
         "troubling political time gun violence peak human right scandal u soil ongoing corruption investigation always important find silver lining thing international relation russia never good",
         "37",
         "38",
         "25",
         "POSITIVE",
         "0.9977821707725524",
         "1",
         "0x87526197b12f7b3d:0x7961db6b77c9c9e4",
         "Fresh Market",
         "utah",
         "40.6875",
         "-111.8230556",
         "424",
         "4.0",
         "{'Service options': ['Curbside pickup', 'No-contact delivery', 'Delivery', 'In-store pickup', 'In-store shopping'], 'Health & safety': ['Mask required', 'Staff wear masks', 'Staff get temperature checks', 'Staff required to disinfect surfaces between visits', 'Safety dividers at checkout'], 'Highlights': ['Great produce'], 'Accessibility': ['Wheelchair accessible entrance', 'Wheelchair accessible parking lot'], 'Offerings': ['Organic products', 'Prepared foods'], 'Planning': ['Quick visit'], 'Payments': ['Checks', 'Debit cards', 'NFC mobile payments', 'Credit cards']}",
         "Fresh Market, 3865 S 2300 E, Salt Lake City, UT 84109",
         "['Bakery', 'Supermarket', 'Grocery store', 'Deli', 'Pharmacy']",
         "[['Friday', '7AM–11PM'], ['Saturday', '7AM–11PM'], ['Sunday', '7AM–10PM'], ['Monday', '7AM–11PM'], ['Tuesday', '7AM–11PM'], ['Wednesday', '7AM–11PM'], ['Thursday', '7AM–11PM']]",
         null,
         null,
         "['0x875261f116244819:0x4bc74b149e1d0389', '0x87528ba2b202bcf1:0x1ff8a33983e0f81b', '0x87526197b12f7b3d:0x9770d89365e2f18a', '0x875260716de3a279:0xce94f0ab9ceefb93', '0x875261d524177b87:0x862d794ca00a41b4']",
         null,
         "https://www.google.com/maps/place//data=!4m2!3m1!1s0x87526197b12f7b3d:0x7961db6b77c9c9e4?authuser=-1&hl=en&gl=us",
         "Bakery",
         "Supermarket",
         "Grocery store",
         "Deli",
         "Pharmacy",
         null,
         null,
         null,
         null,
         null,
         null,
         null,
         null,
         null,
         null,
         null,
         null,
         null,
         null,
         null,
         null,
         "In these troubling political times with gun violence peaking, human rights scandals on us soil, and ongoing corruption investigations, it is always important to find the silver lining in things...\nInternational Relations with Russia have never been better!",
         "in these troubling political times with gun violence peaking human rights scandals on us soil and ongoing corruption investigations it is always important to find the silver lining in things international relations with russia have never been better",
         "38",
         "-1",
         "-1"
        ],
        [
         "223429",
         "1.1686687084114705e+20",
         "Bryan Klabunde",
         "1600015360031",
         "1.0",
         "Not sure why they feel the need to broadcast Fox news in times like these, but each to their own.",
         "Not sure why they feel the need to broadcast Fox news in times like these, but each to their own.",
         "not sure why they feel the need to broadcast fox news in time like these but each to their own",
         "not sure feel need broadcast fox news time like",
         "20",
         "20",
         "9",
         "NEGATIVE",
         "0.9979707598686218",
         "0",
         "0x52c7ed83cbcaae1b:0x95ab01a90da32b48",
         "Palubicki's Family Market & Spirits",
         "minnesota",
         "47.5774082",
         "-95.7531255",
         "508",
         "4.4",
         "{'Service options': ['Curbside pickup', 'In-store pickup', 'In-store shopping', 'Delivery'], 'Health & safety': ['Mask required', 'Staff required to disinfect surfaces between visits', 'Safety dividers at checkout'], 'Highlights': ['Great produce'], 'Accessibility': ['Wheelchair accessible entrance'], 'Offerings': ['Salad bar'], 'Amenities': ['Public restroom'], 'Planning': ['Quick visit'], 'Payments': ['Checks', 'NFC mobile payments']}",
         "Palubicki's Family Market & Spirits, 300 W 1st St, Fosston, MN 56542",
         "['Bakery', 'Pharmacy', 'Liquor store', 'Deli', 'Pizza restaurant', 'Pizza Takeout', 'American restaurant', 'Supermarket', 'Grocery store', 'Produce market', 'Restaurant']",
         "[['Tuesday', '8AM–8PM'], ['Wednesday', '8AM–8PM'], ['Thursday', '8AM–8PM'], ['Friday', '8AM–8PM'], ['Saturday', '8AM–8PM'], ['Sunday', '9AM–5PM'], ['Monday', '8AM–8PM']]",
         null,
         null,
         "['0x52c7ed86e65c3e37:0x2f52902ba4b65e6e', '0x52c7ed83edba27c5:0x49773f0abd158dcc', '0x52c7ed83bcaaab0b:0x33ce0babc33708cc', '0x52c7ed9d34bf6149:0x6d4a1a2a7b03d324', '0x52c7f2302281a25b:0x514530fff0798a96']",
         null,
         "https://www.google.com/maps/place//data=!4m2!3m1!1s0x52c7ed83cbcaae1b:0x95ab01a90da32b48?authuser=-1&hl=en&gl=us",
         "Bakery",
         "Pharmacy",
         "Liquor store",
         "Deli",
         "Pizza restaurant",
         "Pizza Takeout",
         "American restaurant",
         "Supermarket",
         "Grocery store",
         "Produce market",
         "Restaurant",
         null,
         null,
         null,
         null,
         null,
         null,
         null,
         null,
         null,
         null,
         "Not sure why they feel the need to broadcast Fox news in times like these, but each to their own.",
         "not sure why they feel the need to broadcast fox news in times like these but each to their own",
         "20",
         "-1",
         "-1"
        ],
        [
         "262338",
         "1.0010179342103018e+20",
         "Elijha Trott",
         "1540242622936",
         "1.0",
         "There is a password and username for the guest WiFi.",
         "There is a password and username for the guest WiFi.",
         "there be a password and username for the guest wifi",
         "password username guest wifi",
         "10",
         "10",
         "4",
         "POSITIVE",
         "0.970379114151001",
         "1",
         "0x889de69b132acfbb:0x56eebcece0b54556",
         "Slidell Memorial Hospital",
         "louisiana",
         "30.2838293",
         "-89.7704122",
         "118",
         "2.6",
         "{'Accessibility': ['Wheelchair accessible entrance']}",
         "Slidell Memorial Hospital, 1001 Gause Blvd, Slidell, LA 70458",
         "['Cancer treatment center', 'General hospital', 'Hospital', 'Medical diagnostic imaging center']",
         "[['Monday', 'Open 24 hours'], ['Tuesday', 'Open 24 hours'], ['Wednesday', 'Open 24 hours'], ['Thursday', 'Open 24 hours'], ['Friday', 'Open 24 hours'], ['Saturday', 'Open 24 hours'], ['Sunday', 'Open 24 hours']]",
         null,
         null,
         "['0x889de6fafa902979:0x116c622557c07266', '0x889de69adc299d91:0x5f05ccc6b6d4807', '0x889de782566455fd:0xec4400a2be63401d', '0x86275cf7b0bf3fa9:0x145cbf0e320501e2', '0x889de6ec53bb2991:0x9cf0bcdcaed9d541']",
         null,
         "https://www.google.com/maps/place//data=!4m2!3m1!1s0x889de69b132acfbb:0x56eebcece0b54556?authuser=-1&hl=en&gl=us",
         "Cancer treatment center",
         "General hospital",
         "Hospital",
         "Medical diagnostic imaging center",
         null,
         null,
         null,
         null,
         null,
         null,
         null,
         null,
         null,
         null,
         null,
         null,
         null,
         null,
         null,
         null,
         null,
         "There is a password and username for the guest WiFi.",
         "there is a password and username for the guest wifi",
         "10",
         "-1",
         "-1"
        ],
        [
         "286341",
         "1.0022453315764393e+20",
         "Marley Shmenderson",
         "1511050145046",
         "2.0",
         "Where is the WiFi password or someone who knows it!",
         "Where is the WiFi password or someone who knows it!",
         "where be the wifi password or someone who know it",
         "wifi password someone know",
         "10",
         "10",
         "4",
         "NEGATIVE",
         "0.9948447942733764",
         "0",
         "0x52b33c2efc18ce3b:0x4ae4bc427be82488",
         "Cub - Coon Rapids North",
         "minnesota",
         "45.2055935",
         "-93.3620764",
         "681",
         "4.2",
         "{'Service options': ['Curbside pickup', 'No-contact delivery', 'Delivery', 'In-store pickup', 'In-store shopping', 'Same-day delivery'], 'Health & safety': ['Mask required', 'Staff wear masks', 'Staff required to disinfect surfaces between visits', 'Safety dividers at checkout'], 'Highlights': ['Great produce'], 'Accessibility': ['Wheelchair accessible entrance', 'Wheelchair accessible parking lot'], 'Planning': ['Quick visit'], 'Payments': ['Checks', 'Debit cards', 'NFC mobile payments']}",
         "Cub - Coon Rapids North, 12900 Riverdale Dr NW, Coon Rapids, MN 55448",
         "['Supermarket', 'Grocery store', 'Pharmacy']",
         "[['Sunday', 'Open 24 hours'], ['Monday', 'Open 24 hours'], ['Tuesday', 'Open 24 hours'], ['Wednesday', 'Open 24 hours'], ['Thursday', 'Open 24 hours'], ['Friday', 'Open 24 hours'], ['Saturday', 'Open 24 hours']]",
         null,
         "$$",
         "['0x52b33dcf37478f5b:0x1207a1171b53fce4', '0x52b33d04797719c9:0x6584b661146851a', '0x52b32355f62c7d8f:0xc38b5ec6e56e6e29', '0x52b3401127d60c25:0xade980dd156b521b', '0x52b33c2e625e50eb:0xda64edf78996dafb']",
         null,
         "https://www.google.com/maps/place//data=!4m2!3m1!1s0x52b33c2efc18ce3b:0x4ae4bc427be82488?authuser=-1&hl=en&gl=us",
         "Supermarket",
         "Grocery store",
         "Pharmacy",
         null,
         null,
         null,
         null,
         null,
         null,
         null,
         null,
         null,
         null,
         null,
         null,
         null,
         null,
         null,
         null,
         null,
         null,
         "Where is the WiFi password or someone who knows it!",
         "where is the wifi password or someone who knows it",
         "10",
         "-1",
         "-1"
        ],
        [
         "289746",
         "1.080674659206753e+20",
         "sara winkler",
         "1598645248483",
         "4.0",
         "B no bc fbm b",
         "B no bc fbm b",
         "b no because fbm b",
         "b no fbm b",
         "5",
         "5",
         "4",
         "NEGATIVE",
         "0.998898983001709",
         "0",
         "0x80cac2a0e6c1da89:0x1a749743302514b5",
         "Zion Canyon Medical Clinic",
         "utah",
         "37.195336",
         "-112.9976892",
         "17",
         "4.1",
         "{'Health & safety': ['Mask required', 'Staff wear masks', 'Staff get temperature checks', 'Staff required to disinfect surfaces between visits'], 'Accessibility': ['Wheelchair accessible entrance'], 'Amenities': ['Gender-neutral restroom']}",
         "Zion Canyon Medical Clinic, 120 Lion Blvd, Springdale, UT 84767",
         "['Medical clinic', 'Walk-in clinic', 'Family practice physician', 'Urgent care center']",
         "[['Monday', '9AM–5PM'], ['Tuesday', '9AM–5PM'], ['Wednesday', '9AM–5PM'], ['Thursday', '9AM–5PM'], ['Friday', '9AM–5PM'], ['Saturday', 'Closed'], ['Sunday', 'Closed']]",
         null,
         null,
         "['0x80cac293c3ce70e5:0x3a946dc2615a6414', '0x80caf7b6a779ab97:0x6ebe57742a6b5fe2', '0x80caf68ec0c63855:0x48c4af6abf59f81c', '0x8734d4213556cdbf:0x32d43aab3584a20a', '0x80ca5aa1ef5ccfb1:0x391352439e39541c']",
         null,
         "https://www.google.com/maps/place//data=!4m2!3m1!1s0x80cac2a0e6c1da89:0x1a749743302514b5?authuser=-1&hl=en&gl=us",
         "Medical clinic",
         "Walk-in clinic",
         "Family practice physician",
         "Urgent care center",
         null,
         null,
         null,
         null,
         null,
         null,
         null,
         null,
         null,
         null,
         null,
         null,
         null,
         null,
         null,
         null,
         null,
         "B no because fbm b",
         "b no because fbm b",
         "5",
         "-1",
         "-1"
        ],
        [
         "304977",
         "1.164393968433006e+20",
         "Travis William",
         "1609460203353",
         "5.0",
         "A bubble of civilization within the Fourth Reich.",
         "A bubble of civilization within the Fourth Reich.",
         "a bubble of civilization within the fourth reich",
         "bubble civilization within fourth reich",
         "8",
         "8",
         "5",
         "POSITIVE",
         "0.9646883606910706",
         "1",
         "0x54c8d47dc89c56cd:0xcc7e51ca16d45e0d",
         "Sky Lakes Medical Center",
         "oregon",
         "42.2531897",
         "-121.7851746",
         "136",
         "2.9",
         "{'Accessibility': ['Wheelchair accessible entrance']}",
         "Sky Lakes Medical Center, 2865 Daggett Ave, Klamath Falls, OR 97601",
         "['General hospital', 'Medical Center']",
         "[['Wednesday', 'Open 24 hours'], ['Thursday', 'Open 24 hours'], ['Friday', 'Open 24 hours'], ['Saturday', 'Open 24 hours'], ['Sunday', 'Open 24 hours'], ['Monday', 'Open 24 hours'], ['Tuesday', 'Open 24 hours']]",
         null,
         null,
         "['0x54c8d478d504e4ad:0x7ee96d901dfdc455', '0x54c8d5a719248ec7:0x49c70eeaec37a199', '0x54c8d38763bbb001:0x7596decd7bc5b946', '0x54c8d380a6298c71:0x4f0b08a2438fa6d5', '0x54c8d5af17aa024b:0xb27b2e9d0121f569']",
         null,
         "https://www.google.com/maps/place//data=!4m2!3m1!1s0x54c8d47dc89c56cd:0xcc7e51ca16d45e0d?authuser=-1&hl=en&gl=us",
         "General hospital",
         "Medical Center",
         null,
         null,
         null,
         null,
         null,
         null,
         null,
         null,
         null,
         null,
         null,
         null,
         null,
         null,
         null,
         null,
         null,
         null,
         null,
         "A bubble of civilization within the Fourth Reich.",
         "a bubble of civilization within the fourth reich",
         "8",
         "-1",
         "-1"
        ]
       ],
       "shape": {
        "columns": 56,
        "rows": 7
       }
      },
      "text/html": [
       "<div>\n",
       "<style scoped>\n",
       "    .dataframe tbody tr th:only-of-type {\n",
       "        vertical-align: middle;\n",
       "    }\n",
       "\n",
       "    .dataframe tbody tr th {\n",
       "        vertical-align: top;\n",
       "    }\n",
       "\n",
       "    .dataframe thead th {\n",
       "        text-align: right;\n",
       "    }\n",
       "</style>\n",
       "<table border=\"1\" class=\"dataframe\">\n",
       "  <thead>\n",
       "    <tr style=\"text-align: right;\">\n",
       "      <th></th>\n",
       "      <th>user_id</th>\n",
       "      <th>username</th>\n",
       "      <th>time</th>\n",
       "      <th>rating</th>\n",
       "      <th>original_text</th>\n",
       "      <th>translated_text</th>\n",
       "      <th>final_with_stopword</th>\n",
       "      <th>final_no_stopword</th>\n",
       "      <th>ori_wc</th>\n",
       "      <th>final_wc</th>\n",
       "      <th>...</th>\n",
       "      <th>category_17</th>\n",
       "      <th>category_18</th>\n",
       "      <th>category_19</th>\n",
       "      <th>category_20</th>\n",
       "      <th>category_21</th>\n",
       "      <th>cont_expanded</th>\n",
       "      <th>clean_text</th>\n",
       "      <th>wc</th>\n",
       "      <th>topic</th>\n",
       "      <th>topic_reduced_embedding</th>\n",
       "    </tr>\n",
       "  </thead>\n",
       "  <tbody>\n",
       "    <tr>\n",
       "      <th>11368</th>\n",
       "      <td>1.113031e+20</td>\n",
       "      <td>Natasha Spearman</td>\n",
       "      <td>1524081116563</td>\n",
       "      <td>1.0</td>\n",
       "      <td>Do u need a green card</td>\n",
       "      <td>Do u need a green card</td>\n",
       "      <td>do you need a green card</td>\n",
       "      <td>need green card</td>\n",
       "      <td>6</td>\n",
       "      <td>6</td>\n",
       "      <td>...</td>\n",
       "      <td>NaN</td>\n",
       "      <td>NaN</td>\n",
       "      <td>NaN</td>\n",
       "      <td>NaN</td>\n",
       "      <td>NaN</td>\n",
       "      <td>Do you need a green card</td>\n",
       "      <td>do you need a green card</td>\n",
       "      <td>6</td>\n",
       "      <td>-1</td>\n",
       "      <td>-1</td>\n",
       "    </tr>\n",
       "    <tr>\n",
       "      <th>210598</th>\n",
       "      <td>1.146879e+20</td>\n",
       "      <td>Badass Mechanic</td>\n",
       "      <td>1603236104519</td>\n",
       "      <td>5.0</td>\n",
       "      <td>In these troubling political times with gun violence peaking, human rights scandals on us soil, and ongoing corruption investigations, it’s always important to find the silver lining in things...\\nInternational Relations with Russia have never been better!</td>\n",
       "      <td>In these troubling political times with gun violence peaking, human rights scandals on us soil, and ongoing corruption investigations, it’s always important to find the silver lining in things...\\nInternational Relations with Russia have never been better!</td>\n",
       "      <td>in these troubling political time with gun violence peak human right scandal on u soil and ongoing corruption investigation it be always important to find the silver lining in thing international relation with russia have never be good</td>\n",
       "      <td>troubling political time gun violence peak human right scandal u soil ongoing corruption investigation always important find silver lining thing international relation russia never good</td>\n",
       "      <td>37</td>\n",
       "      <td>38</td>\n",
       "      <td>...</td>\n",
       "      <td>NaN</td>\n",
       "      <td>NaN</td>\n",
       "      <td>NaN</td>\n",
       "      <td>NaN</td>\n",
       "      <td>NaN</td>\n",
       "      <td>In these troubling political times with gun violence peaking, human rights scandals on us soil, and ongoing corruption investigations, it is always important to find the silver lining in things...\\nInternational Relations with Russia have never been better!</td>\n",
       "      <td>in these troubling political times with gun violence peaking human rights scandals on us soil and ongoing corruption investigations it is always important to find the silver lining in things international relations with russia have never been better</td>\n",
       "      <td>38</td>\n",
       "      <td>-1</td>\n",
       "      <td>-1</td>\n",
       "    </tr>\n",
       "    <tr>\n",
       "      <th>223429</th>\n",
       "      <td>1.168669e+20</td>\n",
       "      <td>Bryan Klabunde</td>\n",
       "      <td>1600015360031</td>\n",
       "      <td>1.0</td>\n",
       "      <td>Not sure why they feel the need to broadcast Fox news in times like these, but each to their own.</td>\n",
       "      <td>Not sure why they feel the need to broadcast Fox news in times like these, but each to their own.</td>\n",
       "      <td>not sure why they feel the need to broadcast fox news in time like these but each to their own</td>\n",
       "      <td>not sure feel need broadcast fox news time like</td>\n",
       "      <td>20</td>\n",
       "      <td>20</td>\n",
       "      <td>...</td>\n",
       "      <td>NaN</td>\n",
       "      <td>NaN</td>\n",
       "      <td>NaN</td>\n",
       "      <td>NaN</td>\n",
       "      <td>NaN</td>\n",
       "      <td>Not sure why they feel the need to broadcast Fox news in times like these, but each to their own.</td>\n",
       "      <td>not sure why they feel the need to broadcast fox news in times like these but each to their own</td>\n",
       "      <td>20</td>\n",
       "      <td>-1</td>\n",
       "      <td>-1</td>\n",
       "    </tr>\n",
       "    <tr>\n",
       "      <th>262338</th>\n",
       "      <td>1.001018e+20</td>\n",
       "      <td>Elijha Trott</td>\n",
       "      <td>1540242622936</td>\n",
       "      <td>1.0</td>\n",
       "      <td>There is a password and username for the guest WiFi.</td>\n",
       "      <td>There is a password and username for the guest WiFi.</td>\n",
       "      <td>there be a password and username for the guest wifi</td>\n",
       "      <td>password username guest wifi</td>\n",
       "      <td>10</td>\n",
       "      <td>10</td>\n",
       "      <td>...</td>\n",
       "      <td>NaN</td>\n",
       "      <td>NaN</td>\n",
       "      <td>NaN</td>\n",
       "      <td>NaN</td>\n",
       "      <td>NaN</td>\n",
       "      <td>There is a password and username for the guest WiFi.</td>\n",
       "      <td>there is a password and username for the guest wifi</td>\n",
       "      <td>10</td>\n",
       "      <td>-1</td>\n",
       "      <td>-1</td>\n",
       "    </tr>\n",
       "    <tr>\n",
       "      <th>286341</th>\n",
       "      <td>1.002245e+20</td>\n",
       "      <td>Marley Shmenderson</td>\n",
       "      <td>1511050145046</td>\n",
       "      <td>2.0</td>\n",
       "      <td>Where is the WiFi password or someone who knows it!</td>\n",
       "      <td>Where is the WiFi password or someone who knows it!</td>\n",
       "      <td>where be the wifi password or someone who know it</td>\n",
       "      <td>wifi password someone know</td>\n",
       "      <td>10</td>\n",
       "      <td>10</td>\n",
       "      <td>...</td>\n",
       "      <td>NaN</td>\n",
       "      <td>NaN</td>\n",
       "      <td>NaN</td>\n",
       "      <td>NaN</td>\n",
       "      <td>NaN</td>\n",
       "      <td>Where is the WiFi password or someone who knows it!</td>\n",
       "      <td>where is the wifi password or someone who knows it</td>\n",
       "      <td>10</td>\n",
       "      <td>-1</td>\n",
       "      <td>-1</td>\n",
       "    </tr>\n",
       "    <tr>\n",
       "      <th>289746</th>\n",
       "      <td>1.080675e+20</td>\n",
       "      <td>sara winkler</td>\n",
       "      <td>1598645248483</td>\n",
       "      <td>4.0</td>\n",
       "      <td>B no bc fbm b</td>\n",
       "      <td>B no bc fbm b</td>\n",
       "      <td>b no because fbm b</td>\n",
       "      <td>b no fbm b</td>\n",
       "      <td>5</td>\n",
       "      <td>5</td>\n",
       "      <td>...</td>\n",
       "      <td>NaN</td>\n",
       "      <td>NaN</td>\n",
       "      <td>NaN</td>\n",
       "      <td>NaN</td>\n",
       "      <td>NaN</td>\n",
       "      <td>B no because fbm b</td>\n",
       "      <td>b no because fbm b</td>\n",
       "      <td>5</td>\n",
       "      <td>-1</td>\n",
       "      <td>-1</td>\n",
       "    </tr>\n",
       "    <tr>\n",
       "      <th>304977</th>\n",
       "      <td>1.164394e+20</td>\n",
       "      <td>Travis William</td>\n",
       "      <td>1609460203353</td>\n",
       "      <td>5.0</td>\n",
       "      <td>A bubble of civilization within the Fourth Reich.</td>\n",
       "      <td>A bubble of civilization within the Fourth Reich.</td>\n",
       "      <td>a bubble of civilization within the fourth reich</td>\n",
       "      <td>bubble civilization within fourth reich</td>\n",
       "      <td>8</td>\n",
       "      <td>8</td>\n",
       "      <td>...</td>\n",
       "      <td>NaN</td>\n",
       "      <td>NaN</td>\n",
       "      <td>NaN</td>\n",
       "      <td>NaN</td>\n",
       "      <td>NaN</td>\n",
       "      <td>A bubble of civilization within the Fourth Reich.</td>\n",
       "      <td>a bubble of civilization within the fourth reich</td>\n",
       "      <td>8</td>\n",
       "      <td>-1</td>\n",
       "      <td>-1</td>\n",
       "    </tr>\n",
       "  </tbody>\n",
       "</table>\n",
       "<p>7 rows × 56 columns</p>\n",
       "</div>"
      ],
      "text/plain": [
       "             user_id            username           time  rating  \\\n",
       "11368   1.113031e+20    Natasha Spearman  1524081116563     1.0   \n",
       "210598  1.146879e+20     Badass Mechanic  1603236104519     5.0   \n",
       "223429  1.168669e+20      Bryan Klabunde  1600015360031     1.0   \n",
       "262338  1.001018e+20        Elijha Trott  1540242622936     1.0   \n",
       "286341  1.002245e+20  Marley Shmenderson  1511050145046     2.0   \n",
       "289746  1.080675e+20        sara winkler  1598645248483     4.0   \n",
       "304977  1.164394e+20      Travis William  1609460203353     5.0   \n",
       "\n",
       "                                                                                                                                                                                                                                                           original_text  \\\n",
       "11368                                                                                                                                                                                                                                             Do u need a green card   \n",
       "210598  In these troubling political times with gun violence peaking, human rights scandals on us soil, and ongoing corruption investigations, it’s always important to find the silver lining in things...\\nInternational Relations with Russia have never been better!   \n",
       "223429                                                                                                                                                                 Not sure why they feel the need to broadcast Fox news in times like these, but each to their own.   \n",
       "262338                                                                                                                                                                                                              There is a password and username for the guest WiFi.   \n",
       "286341                                                                                                                                                                                                               Where is the WiFi password or someone who knows it!   \n",
       "289746                                                                                                                                                                                                                                                     B no bc fbm b   \n",
       "304977                                                                                                                                                                                                                 A bubble of civilization within the Fourth Reich.   \n",
       "\n",
       "                                                                                                                                                                                                                                                         translated_text  \\\n",
       "11368                                                                                                                                                                                                                                             Do u need a green card   \n",
       "210598  In these troubling political times with gun violence peaking, human rights scandals on us soil, and ongoing corruption investigations, it’s always important to find the silver lining in things...\\nInternational Relations with Russia have never been better!   \n",
       "223429                                                                                                                                                                 Not sure why they feel the need to broadcast Fox news in times like these, but each to their own.   \n",
       "262338                                                                                                                                                                                                              There is a password and username for the guest WiFi.   \n",
       "286341                                                                                                                                                                                                               Where is the WiFi password or someone who knows it!   \n",
       "289746                                                                                                                                                                                                                                                     B no bc fbm b   \n",
       "304977                                                                                                                                                                                                                 A bubble of civilization within the Fourth Reich.   \n",
       "\n",
       "                                                                                                                                                                                                                                final_with_stopword  \\\n",
       "11368                                                                                                                                                                                                                      do you need a green card   \n",
       "210598  in these troubling political time with gun violence peak human right scandal on u soil and ongoing corruption investigation it be always important to find the silver lining in thing international relation with russia have never be good   \n",
       "223429                                                                                                                                               not sure why they feel the need to broadcast fox news in time like these but each to their own   \n",
       "262338                                                                                                                                                                                          there be a password and username for the guest wifi   \n",
       "286341                                                                                                                                                                                            where be the wifi password or someone who know it   \n",
       "289746                                                                                                                                                                                                                           b no because fbm b   \n",
       "304977                                                                                                                                                                                             a bubble of civilization within the fourth reich   \n",
       "\n",
       "                                                                                                                                                                                final_no_stopword  \\\n",
       "11368                                                                                                                                                                             need green card   \n",
       "210598  troubling political time gun violence peak human right scandal u soil ongoing corruption investigation always important find silver lining thing international relation russia never good   \n",
       "223429                                                                                                                                            not sure feel need broadcast fox news time like   \n",
       "262338                                                                                                                                                               password username guest wifi   \n",
       "286341                                                                                                                                                                 wifi password someone know   \n",
       "289746                                                                                                                                                                                 b no fbm b   \n",
       "304977                                                                                                                                                    bubble civilization within fourth reich   \n",
       "\n",
       "        ori_wc  final_wc  ...  category_17 category_18  category_19  \\\n",
       "11368        6         6  ...          NaN         NaN          NaN   \n",
       "210598      37        38  ...          NaN         NaN          NaN   \n",
       "223429      20        20  ...          NaN         NaN          NaN   \n",
       "262338      10        10  ...          NaN         NaN          NaN   \n",
       "286341      10        10  ...          NaN         NaN          NaN   \n",
       "289746       5         5  ...          NaN         NaN          NaN   \n",
       "304977       8         8  ...          NaN         NaN          NaN   \n",
       "\n",
       "        category_20 category_21  \\\n",
       "11368           NaN         NaN   \n",
       "210598          NaN         NaN   \n",
       "223429          NaN         NaN   \n",
       "262338          NaN         NaN   \n",
       "286341          NaN         NaN   \n",
       "289746          NaN         NaN   \n",
       "304977          NaN         NaN   \n",
       "\n",
       "                                                                                                                                                                                                                                                            cont_expanded  \\\n",
       "11368                                                                                                                                                                                                                                            Do you need a green card   \n",
       "210598  In these troubling political times with gun violence peaking, human rights scandals on us soil, and ongoing corruption investigations, it is always important to find the silver lining in things...\\nInternational Relations with Russia have never been better!   \n",
       "223429                                                                                                                                                                  Not sure why they feel the need to broadcast Fox news in times like these, but each to their own.   \n",
       "262338                                                                                                                                                                                                               There is a password and username for the guest WiFi.   \n",
       "286341                                                                                                                                                                                                                Where is the WiFi password or someone who knows it!   \n",
       "289746                                                                                                                                                                                                                                                 B no because fbm b   \n",
       "304977                                                                                                                                                                                                                  A bubble of civilization within the Fourth Reich.   \n",
       "\n",
       "                                                                                                                                                                                                                                                       clean_text  \\\n",
       "11368                                                                                                                                                                                                                                    do you need a green card   \n",
       "210598  in these troubling political times with gun violence peaking human rights scandals on us soil and ongoing corruption investigations it is always important to find the silver lining in things international relations with russia have never been better   \n",
       "223429                                                                                                                                                            not sure why they feel the need to broadcast fox news in times like these but each to their own   \n",
       "262338                                                                                                                                                                                                        there is a password and username for the guest wifi   \n",
       "286341                                                                                                                                                                                                         where is the wifi password or someone who knows it   \n",
       "289746                                                                                                                                                                                                                                         b no because fbm b   \n",
       "304977                                                                                                                                                                                                           a bubble of civilization within the fourth reich   \n",
       "\n",
       "        wc  topic  topic_reduced_embedding  \n",
       "11368    6     -1                       -1  \n",
       "210598  38     -1                       -1  \n",
       "223429  20     -1                       -1  \n",
       "262338  10     -1                       -1  \n",
       "286341  10     -1                       -1  \n",
       "289746   5     -1                       -1  \n",
       "304977   8     -1                       -1  \n",
       "\n",
       "[7 rows x 56 columns]"
      ]
     },
     "metadata": {},
     "output_type": "display_data"
    },
    {
     "name": "stdout",
     "output_type": "stream",
     "text": [
      "\n",
      "--- New Topic Distribution ---\n",
      "topic_reduced_embedding\n",
      " 0      54016\n",
      " 1       8157\n",
      " 13      5111\n",
      " 86      4395\n",
      " 3       3744\n",
      "        ...  \n",
      " 336       44\n",
      " 328       41\n",
      " 339       38\n",
      " 332       36\n",
      "-1          7\n",
      "Name: count, Length: 347, dtype: int64\n"
     ]
    }
   ],
   "source": [
    "import pandas as pd\n",
    "\n",
    "# Load the new CSV file with the reduced outlier topic assignments\n",
    "df_reduced = pd.read_csv(\"data_with_topic_reduced_embedding.csv\")\n",
    "\n",
    "# --- 1. Verify that all rows are still present ---\n",
    "print(f\"Total number of rows in the new file: {len(df_reduced)}\")\n",
    "print(\"As you can see, no rows were deleted from your dataset.\")\n",
    "\n",
    "# --- 2. See the 7 remaining outlier rows ---\n",
    "print(\"\\n--- Displaying the 7 remaining outlier documents ---\")\n",
    "# Filter the DataFrame to show only the rows where the new topic is -1\n",
    "remaining_outliers = df_reduced[df_reduced[\"topic_reduced_embedding\"] == -1]\n",
    "\n",
    "# Display the full content of the text for these outliers\n",
    "with pd.option_context('display.max_colwidth', None):\n",
    "    display(remaining_outliers)\n",
    "\n",
    "# --- 3. (Optional) See the new topic distribution ---\n",
    "print(\"\\n--- New Topic Distribution ---\")\n",
    "# This shows how the 142,609 reassigned documents were distributed\n",
    "# among your existing topics.\n",
    "print(df_reduced[\"topic_reduced_embedding\"].value_counts())"
   ]
  },
  {
   "cell_type": "markdown",
   "id": "9c8c6529",
   "metadata": {},
   "source": [
    "## **INSPECT TOPICS FOR DEPLOYMENT**"
   ]
  },
  {
   "cell_type": "code",
   "execution_count": 10,
   "id": "060cdd2b",
   "metadata": {},
   "outputs": [
    {
     "data": {
      "text/plain": [
       "347"
      ]
     },
     "execution_count": 10,
     "metadata": {},
     "output_type": "execute_result"
    }
   ],
   "source": [
    "len(topic_model.get_topics())\n"
   ]
  },
  {
   "cell_type": "code",
   "execution_count": 12,
   "id": "fcbff7ff",
   "metadata": {},
   "outputs": [
    {
     "data": {
      "application/vnd.plotly.v1+json": {
       "config": {
        "plotlyServerURL": "https://plot.ly"
       },
       "data": [
        {
         "marker": {
          "color": "#D55E00"
         },
         "orientation": "h",
         "type": "bar",
         "x": [
          0.00288255134805085,
          0.002883345745366968,
          0.00291301962686428,
          0.003137007464649186,
          0.0034840676545818436,
          0.003909657664289338,
          0.004644845985073473,
          0.005946293946852465,
          0.007476120760089106,
          0.007926189133704693
         ],
         "xaxis": "x",
         "y": [
          "dr  ",
          "they  ",
          "and  ",
          "my  ",
          "office  ",
          "cleaning  ",
          "tooth  ",
          "teeth  ",
          "dental  ",
          "dentist  "
         ],
         "yaxis": "y"
        },
        {
         "marker": {
          "color": "#0072B2"
         },
         "orientation": "h",
         "type": "bar",
         "x": [
          0.004188746418033882,
          0.0042534859880795795,
          0.004260278265028171,
          0.0042921573002334635,
          0.00434576438843291,
          0.005453717282869861,
          0.006484046566272068,
          0.009572945190284716,
          0.010260682555248741,
          0.010453824192752072
         ],
         "xaxis": "x2",
         "y": [
          "payment  ",
          "they  ",
          "card  ",
          "company  ",
          "charged  ",
          "paid  ",
          "pay  ",
          "billing  ",
          "insurance  ",
          "bill  "
         ],
         "yaxis": "y2"
        },
        {
         "marker": {
          "color": "#CC79A7"
         },
         "orientation": "h",
         "type": "bar",
         "x": [
          0.003789420014598162,
          0.003885724647260264,
          0.0039363434444178195,
          0.0040279883722887395,
          0.0073900318355890485,
          0.009112253334244272,
          0.009345755083341012,
          0.012882717355889878,
          0.020619006459204,
          0.0343579696531867
         ],
         "xaxis": "x3",
         "y": [
          "wait  ",
          "car  ",
          "tests  ",
          "hours  ",
          "rapid  ",
          "results  ",
          "tested  ",
          "testing  ",
          "test  ",
          "covid  "
         ],
         "yaxis": "y3"
        },
        {
         "marker": {
          "color": "#E69F00"
         },
         "orientation": "h",
         "type": "bar",
         "x": [
          0.005749993594472765,
          0.006151627730842003,
          0.006582743849175164,
          0.006636472263537838,
          0.008342029603447812,
          0.009199831154768577,
          0.010166828731509373,
          0.016333158106817753,
          0.021736892798367012,
          0.022871835636219626
         ],
         "xaxis": "x4",
         "y": [
          "recovery  ",
          "injury  ",
          "therapists  ",
          "knee  ",
          "therapist  ",
          "shoulder  ",
          "exercises  ",
          "pt  ",
          "physical  ",
          "therapy  "
         ],
         "yaxis": "y4"
        },
        {
         "marker": {
          "color": "#56B4E9"
         },
         "orientation": "h",
         "type": "bar",
         "x": [
          0.0043955253501701125,
          0.004548393886573547,
          0.006004822977155137,
          0.00651870261884087,
          0.006660985514925729,
          0.006796535465027463,
          0.007434393709211583,
          0.014003592991305993,
          0.024678155525813785,
          0.032644427570478314
         ],
         "xaxis": "x5",
         "y": [
          "massage  ",
          "best  ",
          "adjustment  ",
          "pain  ",
          "dr  ",
          "neck  ",
          "adjustments  ",
          "chiropractors  ",
          "chiropractor  ",
          "chiropractic  "
         ],
         "yaxis": "y5"
        },
        {
         "marker": {
          "color": "#009E73"
         },
         "orientation": "h",
         "type": "bar",
         "x": [
          0.006256062684923496,
          0.006275859372596127,
          0.006295317704041295,
          0.006309647190056664,
          0.009249706273776581,
          0.009622453027538072,
          0.009792081798637891,
          0.012204645932250294,
          0.01615992171669703,
          0.027882443445565234
         ],
         "xaxis": "x6",
         "y": [
          "ingrown  ",
          "inserts  ",
          "surgery  ",
          "orthotics  ",
          "shoes  ",
          "toe  ",
          "podiatrist  ",
          "ankle  ",
          "feet  ",
          "foot  "
         ],
         "yaxis": "y6"
        },
        {
         "marker": {
          "color": "#F0E442"
         },
         "orientation": "h",
         "type": "bar",
         "x": [
          0.005200861808172215,
          0.005541527234642653,
          0.0056983364573175935,
          0.005879275543268889,
          0.006084766175868524,
          0.006492795318239787,
          0.008433298727230346,
          0.010518447812324772,
          0.015251068226170379,
          0.06240934012000211
         ],
         "xaxis": "x7",
         "y": [
          "masseuse  ",
          "therapists  ",
          "tip  ",
          "deep  ",
          "couples  ",
          "tissue  ",
          "relaxing  ",
          "therapist  ",
          "massages  ",
          "massage  "
         ],
         "yaxis": "y7"
        },
        {
         "marker": {
          "color": "#D55E00"
         },
         "orientation": "h",
         "type": "bar",
         "x": [
          0.012854159599278643,
          0.013128576972015478,
          0.013323289109436007,
          0.016437656684473737,
          0.016619613609366334,
          0.01698650182077136,
          0.020520553164453195,
          0.02293366016145446,
          0.02751641668937674,
          0.0281570307858256
         ],
         "xaxis": "x8",
         "y": [
          "everyone  ",
          "fast  ",
          "efficient  ",
          "nice  ",
          "always  ",
          "people  ",
          "very  ",
          "helpful  ",
          "friendly  ",
          "professional  "
         ],
         "yaxis": "y8"
        },
        {
         "marker": {
          "color": "#0072B2"
         },
         "orientation": "h",
         "type": "bar",
         "x": [
          0.004687233706091283,
          0.006087051357062653,
          0.006367131349894574,
          0.006402071509122577,
          0.008044788295950046,
          0.00810385304839362,
          0.009239800580008157,
          0.011311827884839911,
          0.024062207075087293,
          0.033516186591802624
         ],
         "xaxis": "x9",
         "y": [
          "optical  ",
          "frames  ",
          "lasik  ",
          "exam  ",
          "contacts  ",
          "lenses  ",
          "eyes  ",
          "vision  ",
          "glasses  ",
          "eye  "
         ],
         "yaxis": "y9"
        },
        {
         "marker": {
          "color": "#CC79A7"
         },
         "orientation": "h",
         "type": "bar",
         "x": [
          0.005762944105906358,
          0.005944805605942132,
          0.006260649693881037,
          0.006699590091090789,
          0.006960687021571269,
          0.00725677381713998,
          0.008925444040699724,
          0.00921350434320136,
          0.010432929840958317,
          0.04482980052850487
         ],
         "xaxis": "x10",
         "y": [
          "service  ",
          "always  ",
          "prescription  ",
          "store  ",
          "helpful  ",
          "pharmacists  ",
          "pharmacies  ",
          "prescriptions  ",
          "pharmacist  ",
          "pharmacy  "
         ],
         "yaxis": "y10"
        },
        {
         "marker": {
          "color": "#E69F00"
         },
         "orientation": "h",
         "type": "bar",
         "x": [
          0.007165999996757106,
          0.007201776077699725,
          0.00796651695740552,
          0.008137550293637441,
          0.008312672402445737,
          0.009304273419902894,
          0.009568078834062677,
          0.011834434427197707,
          0.01393603218688885,
          0.03070036616537548
         ],
         "xaxis": "x11",
         "y": [
          "nice  ",
          "professional  ",
          "very  ",
          "great  ",
          "love  ",
          "everyone  ",
          "staff  ",
          "friendly  ",
          "clean  ",
          "office  "
         ],
         "yaxis": "y11"
        },
        {
         "marker": {
          "color": "#56B4E9"
         },
         "orientation": "h",
         "type": "bar",
         "x": [
          0.003360572954694612,
          0.0034314250594735408,
          0.0035849133540054746,
          0.003843037549558708,
          0.00387303881108548,
          0.003982473815772599,
          0.005115163184973501,
          0.005140318619598682,
          0.005912194264359266,
          0.008019706901613192
         ],
         "xaxis": "x12",
         "y": [
          "told  ",
          "my  ",
          "him  ",
          "me  ",
          "knee  ",
          "doctor  ",
          "mri  ",
          "surgery  ",
          "he  ",
          "pain  "
         ],
         "yaxis": "y12"
        },
        {
         "marker": {
          "color": "#009E73"
         },
         "orientation": "h",
         "type": "bar",
         "x": [
          0.005722322880005407,
          0.00579030979999373,
          0.0066459539909403485,
          0.006689374012830815,
          0.006918969138855964,
          0.007381496290785692,
          0.008363497965572115,
          0.009432900581915095,
          0.013728002151705618,
          0.014400524447367535
         ],
         "xaxis": "x13",
         "y": [
          "line  ",
          "shopping  ",
          "customers  ",
          "lines  ",
          "self  ",
          "customer  ",
          "checkout  ",
          "cashiers  ",
          "store  ",
          "cashier  "
         ],
         "yaxis": "y13"
        },
        {
         "marker": {
          "color": "#F0E442"
         },
         "orientation": "h",
         "type": "bar",
         "x": [
          0.005697797770927918,
          0.00576097711660879,
          0.005919984332819612,
          0.006688392592205941,
          0.007109643982381866,
          0.007733637920343081,
          0.01099814273082254,
          0.012131120256164156,
          0.013957537095270115,
          0.015765278387285423
         ],
         "xaxis": "x14",
         "y": [
          "cares  ",
          "takes  ",
          "is  ",
          "best  ",
          "doctor  ",
          "listens  ",
          "him  ",
          "his  ",
          "he  ",
          "dr  "
         ],
         "yaxis": "y14"
        },
        {
         "marker": {
          "color": "#D55E00"
         },
         "orientation": "h",
         "type": "bar",
         "x": [
          0.003352437007900198,
          0.003471239743188288,
          0.003864524067560845,
          0.0038950881129821697,
          0.004009166997532583,
          0.0040538293303030775,
          0.0048421826489799535,
          0.006793827183103316,
          0.0193725586339875,
          0.03317059836808508
         ],
         "xaxis": "x15",
         "y": [
          "technician  ",
          "waiting  ",
          "hour  ",
          "minutes  ",
          "was  ",
          "wait  ",
          "an  ",
          "tech  ",
          "xrays  ",
          "xray  "
         ],
         "yaxis": "y15"
        },
        {
         "marker": {
          "color": "#0072B2"
         },
         "orientation": "h",
         "type": "bar",
         "x": [
          0.006157662445368231,
          0.006211582069919009,
          0.006344713057080766,
          0.00674612446139919,
          0.007392670245519156,
          0.009163408938325061,
          0.00928606209514824,
          0.009290602985190001,
          0.011576344463798467,
          0.011968623499717054
         ],
         "xaxis": "x16",
         "y": [
          "wonderful  ",
          "very  ",
          "best  ",
          "love  ",
          "sweet  ",
          "great  ",
          "her  ",
          "awesome  ",
          "she  ",
          "amazing  "
         ],
         "yaxis": "y16"
        },
        {
         "marker": {
          "color": "#CC79A7"
         },
         "orientation": "h",
         "type": "bar",
         "x": [
          0.009297433039854008,
          0.009730695985638638,
          0.01374903734665419,
          0.013954153738748896,
          0.014498846547884138,
          0.015334718409532811,
          0.01733139070833851,
          0.020114440014189463,
          0.02829734402637287,
          0.034791426982298854
         ],
         "xaxis": "x17",
         "y": [
          "super  ",
          "nice  ",
          "always  ",
          "very  ",
          "great  ",
          "professional  ",
          "knowledgeable  ",
          "helpful  ",
          "friendly  ",
          "staff  "
         ],
         "yaxis": "y17"
        },
        {
         "marker": {
          "color": "#E69F00"
         },
         "orientation": "h",
         "type": "bar",
         "x": [
          0.008292134285809353,
          0.00841208567108707,
          0.008683689684031088,
          0.009339665556218417,
          0.009414025345293772,
          0.010315933087380585,
          0.0157477417051849,
          0.020707059354387342,
          0.03550847658240853,
          0.10735782203261654
         ],
         "xaxis": "x18",
         "y": [
          "shopping  ",
          "shop  ",
          "selection  ",
          "prices  ",
          "produce  ",
          "hyvee  ",
          "store  ",
          "cubs  ",
          "foods  ",
          "cub  "
         ],
         "yaxis": "y18"
        },
        {
         "marker": {
          "color": "#56B4E9"
         },
         "orientation": "h",
         "type": "bar",
         "x": [
          0.00650080371512293,
          0.006775014354208818,
          0.0073854974991818196,
          0.008731365512704172,
          0.008865550882547887,
          0.010243770156377747,
          0.014567750904145858,
          0.015437537372923084,
          0.019178472496731526,
          0.027730633341781233
         ],
         "xaxis": "x19",
         "y": [
          "answering  ",
          "called  ",
          "calling  ",
          "number  ",
          "phones  ",
          "calls  ",
          "call  ",
          "hold  ",
          "answer  ",
          "phone  "
         ],
         "yaxis": "y19"
        },
        {
         "marker": {
          "color": "#009E73"
         },
         "orientation": "h",
         "type": "bar",
         "x": [
          0.008108952939413093,
          0.008173776840931297,
          0.0085461051835739,
          0.008832594607674599,
          0.010843291884119574,
          0.0115239238635979,
          0.012630712209342011,
          0.015925239038578152,
          0.02440511651285268,
          0.04651651128427124
         ],
         "xaxis": "x20",
         "y": [
          "sample  ",
          "preemployment  ",
          "employment  ",
          "hour  ",
          "pee  ",
          "screening  ",
          "urine  ",
          "screen  ",
          "test  ",
          "drug  "
         ],
         "yaxis": "y20"
        },
        {
         "marker": {
          "color": "#F0E442"
         },
         "orientation": "h",
         "type": "bar",
         "x": [
          0.01017658128196874,
          0.011172842164353715,
          0.012736471633865418,
          0.013251330293298025,
          0.01704666533549343,
          0.018489051037570186,
          0.022193138678835062,
          0.022815575589968023,
          0.024012213344099705,
          0.07379637586221044
         ],
         "xaxis": "x21",
         "y": [
          "services  ",
          "good  ",
          "very  ",
          "professional  ",
          "quick  ",
          "friendly  ",
          "excellent  ",
          "great  ",
          "fast  ",
          "service  "
         ],
         "yaxis": "y21"
        },
        {
         "marker": {
          "color": "#D55E00"
         },
         "orientation": "h",
         "type": "bar",
         "x": [
          0.0038718425920018355,
          0.004456517853637059,
          0.0045071063472439474,
          0.0048961874352385585,
          0.00498876077831739,
          0.00539568857891134,
          0.00585844316134791,
          0.009578752772183004,
          0.01417690522117339,
          0.019890365745330825
         ],
         "xaxis": "x22",
         "y": [
          "rating  ",
          "reason  ",
          "because  ",
          "if  ",
          "would  ",
          "could  ",
          "zero  ",
          "give  ",
          "star  ",
          "stars  "
         ],
         "yaxis": "y22"
        },
        {
         "marker": {
          "color": "#0072B2"
         },
         "orientation": "h",
         "type": "bar",
         "x": [
          0.008923195070556784,
          0.009009908839141408,
          0.009167874430970023,
          0.011088938879811452,
          0.01229533652861126,
          0.016019740420564914,
          0.016819769663413635,
          0.016997163956050863,
          0.020018498890868666,
          0.028733377170322715
         ],
         "xaxis": "x23",
         "y": [
          "time  ",
          "room  ",
          "minutes  ",
          "seen  ",
          "waited  ",
          "hour  ",
          "hours  ",
          "long  ",
          "waiting  ",
          "wait  "
         ],
         "yaxis": "y23"
        },
        {
         "marker": {
          "color": "#CC79A7"
         },
         "orientation": "h",
         "type": "bar",
         "x": [
          0.0036839197789074124,
          0.0037469469864145222,
          0.004046690916649576,
          0.004078340638256085,
          0.004357817626698828,
          0.006156871733382503,
          0.00713801347564466,
          0.007196081228296098,
          0.008298481546899992,
          0.009020798698479483
         ],
         "xaxis": "x24",
         "y": [
          "family  ",
          "dad  ",
          "we  ",
          "nurses  ",
          "nurse  ",
          "she  ",
          "hospital  ",
          "mom  ",
          "mother  ",
          "her  "
         ],
         "yaxis": "y24"
        },
        {
         "marker": {
          "color": "#E69F00"
         },
         "orientation": "h",
         "type": "bar",
         "x": [
          0.009242650488120403,
          0.011738928541388744,
          0.01236251674552159,
          0.012918124756766028,
          0.01379688419449203,
          0.014414766263278325,
          0.016902660027598975,
          0.03104884516815136,
          0.04876077646519577,
          0.08296834146393592
         ],
         "xaxis": "x25",
         "y": [
          "good  ",
          "shop  ",
          "items  ",
          "selection  ",
          "shopping  ",
          "prices  ",
          "stores  ",
          "groceries  ",
          "store  ",
          "grocery  "
         ],
         "yaxis": "y25"
        },
        {
         "marker": {
          "color": "#56B4E9"
         },
         "orientation": "h",
         "type": "bar",
         "x": [
          0.0049933588084884965,
          0.005761665282311561,
          0.005805787108251505,
          0.006007634608889228,
          0.006787653679964611,
          0.007168760930436755,
          0.007359380293246384,
          0.01068597694619267,
          0.01642977068591876,
          0.029793324442036365
         ],
         "xaxis": "x26",
         "y": [
          "pharmacies  ",
          "customers  ",
          "worst  ",
          "pharmacists  ",
          "prescription  ",
          "customer  ",
          "prescriptions  ",
          "rude  ",
          "pharmacist  ",
          "pharmacy  "
         ],
         "yaxis": "y26"
        },
        {
         "marker": {
          "color": "#009E73"
         },
         "orientation": "h",
         "type": "bar",
         "x": [
          0.0043520053242156005,
          0.004508978093542646,
          0.004825952837959529,
          0.004886731995791411,
          0.005157386080484282,
          0.005933425447682751,
          0.006463019678483984,
          0.006464193810231776,
          0.007933308594185642,
          0.008608387922931227
         ],
         "xaxis": "x27",
         "y": [
          "old  ",
          "us  ",
          "him  ",
          "she  ",
          "fever  ",
          "we  ",
          "child  ",
          "her  ",
          "son  ",
          "daughter  "
         ],
         "yaxis": "y27"
        },
        {
         "marker": {
          "color": "#F0E442"
         },
         "orientation": "h",
         "type": "bar",
         "x": [
          0.007397140265698836,
          0.007400058528190892,
          0.008474322754034107,
          0.009906371708087386,
          0.010836886656127073,
          0.012521540739224887,
          0.013268490980910404,
          0.013408324050926677,
          0.0208268848700775,
          0.043060268775081297
         ],
         "xaxis": "x28",
         "y": [
          "gyms  ",
          "training  ",
          "trainer  ",
          "equipment  ",
          "trainers  ",
          "classes  ",
          "membership  ",
          "workout  ",
          "fitness  ",
          "gym  "
         ],
         "yaxis": "y28"
        },
        {
         "marker": {
          "color": "#D55E00"
         },
         "orientation": "h",
         "type": "bar",
         "x": [
          0.00536202247545591,
          0.005761483910710818,
          0.006022189718619273,
          0.006594426928796762,
          0.007021289258141987,
          0.00894193497964061,
          0.02216601876193236,
          0.025676680490185153,
          0.03322252585593461,
          0.056372890036501894
         ],
         "xaxis": "x29",
         "y": [
          "nose  ",
          "customers  ",
          "pandemic  ",
          "employees  ",
          "face  ",
          "covid  ",
          "wear  ",
          "wearing  ",
          "masks  ",
          "mask  "
         ],
         "yaxis": "y29"
        },
        {
         "marker": {
          "color": "#0072B2"
         },
         "orientation": "h",
         "type": "bar",
         "x": [
          0.0035753041414988656,
          0.0036311334892933727,
          0.004111786547454033,
          0.004242845359741849,
          0.004299660655233842,
          0.004991605883463387,
          0.006213063893112038,
          0.009107031416391282,
          0.009980923781906452,
          0.011403136380947303
         ],
         "xaxis": "x30",
         "y": [
          "me  ",
          "miscarriage  ",
          "she  ",
          "labor  ",
          "weeks  ",
          "birth  ",
          "ultrasound  ",
          "pregnant  ",
          "pregnancy  ",
          "baby  "
         ],
         "yaxis": "y30"
        },
        {
         "marker": {
          "color": "#CC79A7"
         },
         "orientation": "h",
         "type": "bar",
         "x": [
          0.004916320646107067,
          0.005206433833901431,
          0.0053517543213104585,
          0.005982842793761428,
          0.0063568706297487,
          0.006673814359652824,
          0.006782641161683813,
          0.008179370996680974,
          0.011742165674667316,
          0.016921055718135798
         ],
         "xaxis": "x31",
         "y": [
          "nice  ",
          "professional  ",
          "wait  ",
          "time  ",
          "very  ",
          "staff  ",
          "easy  ",
          "friendly  ",
          "appointments  ",
          "appointment  "
         ],
         "yaxis": "y31"
        },
        {
         "marker": {
          "color": "#E69F00"
         },
         "orientation": "h",
         "type": "bar",
         "x": [
          0.006186995438264741,
          0.006797383557941652,
          0.007374070439362251,
          0.007628490229283043,
          0.008870256077200595,
          0.009341428493795656,
          0.013451116382331532,
          0.018170507888212003,
          0.018761466937441254,
          0.02456784271806179
         ],
         "xaxis": "x32",
         "y": [
          "slow  ",
          "wait  ",
          "minutes  ",
          "fill  ",
          "filled  ",
          "pick  ",
          "prescriptions  ",
          "ready  ",
          "pharmacy  ",
          "prescription  "
         ],
         "yaxis": "y32"
        },
        {
         "marker": {
          "color": "#56B4E9"
         },
         "orientation": "h",
         "type": "bar",
         "x": [
          0.012706427332544575,
          0.014681688769484834,
          0.014786529533483686,
          0.016391133758252116,
          0.01741163404176088,
          0.021860235979233224,
          0.023225031758136075,
          0.030891414353099552,
          0.037376375594132184,
          0.10827586725221224
         ],
         "xaxis": "x33",
         "y": [
          "butcher  ",
          "store  ",
          "beef  ",
          "prices  ",
          "department  ",
          "selection  ",
          "fresh  ",
          "produce  ",
          "meats  ",
          "meat  "
         ],
         "yaxis": "y33"
        },
        {
         "marker": {
          "color": "#009E73"
         },
         "orientation": "h",
         "type": "bar",
         "x": [
          0.006806225170393288,
          0.007248192260750752,
          0.009363448718556164,
          0.009859615409739392,
          0.010474121284244,
          0.011064500300243233,
          0.011119121631855558,
          0.012833299499551712,
          0.02208725574673092,
          0.0314799438558714
         ],
         "xaxis": "x34",
         "y": [
          "puppy  ",
          "cats  ",
          "animal  ",
          "animals  ",
          "pet  ",
          "pets  ",
          "cat  ",
          "dogs  ",
          "vet  ",
          "dog  "
         ],
         "yaxis": "y34"
        },
        {
         "marker": {
          "color": "#F0E442"
         },
         "orientation": "h",
         "type": "bar",
         "x": [
          0.005613785195690565,
          0.0059350672194375806,
          0.006206272695384814,
          0.0063590933144077105,
          0.007493820093237946,
          0.009297197336837294,
          0.010194987777906771,
          0.012850502723658988,
          0.015237384111569783,
          0.016946347668480802
         ],
         "xaxis": "x35",
         "y": [
          "babies  ",
          "pregnant  ",
          "dr  ",
          "delivered  ",
          "delivery  ",
          "birth  ",
          "ob  ",
          "baby  ",
          "pregnancy  ",
          "obgyn  "
         ],
         "yaxis": "y35"
        },
        {
         "marker": {
          "color": "#D55E00"
         },
         "orientation": "h",
         "type": "bar",
         "x": [
          0.0072998194096192915,
          0.008923650708722908,
          0.00913564121577389,
          0.009963605821157014,
          0.01116422412936508,
          0.013514744114263314,
          0.014033156561455701,
          0.015299169977736417,
          0.020340332365596986,
          0.03325905335810169
         ],
         "xaxis": "x36",
         "y": [
          "good  ",
          "everyone  ",
          "friendly  ",
          "here  ",
          "awesome  ",
          "people  ",
          "great  ",
          "nice  ",
          "love  ",
          "place  "
         ],
         "yaxis": "y36"
        },
        {
         "marker": {
          "color": "#0072B2"
         },
         "orientation": "h",
         "type": "bar",
         "x": [
          0.0033177415602538914,
          0.0035908603300792005,
          0.0036172913920298694,
          0.0037585534677304776,
          0.003955097915600042,
          0.00410767109548915,
          0.0041513508533305805,
          0.004774346123469922,
          0.005730061352441948,
          0.012538208389052221
         ],
         "xaxis": "x37",
         "y": [
          "of  ",
          "depression  ",
          "psychiatrist  ",
          "you  ",
          "there  ",
          "place  ",
          "therapist  ",
          "help  ",
          "health  ",
          "mental  "
         ],
         "yaxis": "y37"
        },
        {
         "marker": {
          "color": "#CC79A7"
         },
         "orientation": "h",
         "type": "bar",
         "x": [
          0.00670990951261078,
          0.007518007133880432,
          0.008417037034551116,
          0.008477922089546388,
          0.009182690834439684,
          0.009845545387440991,
          0.00995562772870471,
          0.01012161066566243,
          0.026110450162734652,
          0.02854304281107605
         ],
         "xaxis": "x38",
         "y": [
          "business  ",
          "bad  ",
          "worst  ",
          "rude  ",
          "customers  ",
          "poor  ",
          "horrible  ",
          "terrible  ",
          "service  ",
          "customer  "
         ],
         "yaxis": "y38"
        },
        {
         "marker": {
          "color": "#E69F00"
         },
         "orientation": "h",
         "type": "bar",
         "x": [
          0.005233343330504427,
          0.005286696012259122,
          0.00618547820001223,
          0.007032088019947366,
          0.0071311647809406565,
          0.00816201026311416,
          0.014089715453123808,
          0.0174882561238658,
          0.030820989733452774,
          0.04035939900913538
         ],
         "xaxis": "x39",
         "y": [
          "reason  ",
          "one  ",
          "wish  ",
          "would  ",
          "if  ",
          "could  ",
          "zero  ",
          "give  ",
          "star  ",
          "stars  "
         ],
         "yaxis": "y39"
        },
        {
         "marker": {
          "color": "#56B4E9"
         },
         "orientation": "h",
         "type": "bar",
         "x": [
          0.008816072539015762,
          0.009286372978434355,
          0.009736682103676848,
          0.010009233196602001,
          0.010417418816000086,
          0.011122510526052325,
          0.011206119156861856,
          0.016370987123575802,
          0.017283773533344544,
          0.023507839149099614
         ],
         "xaxis": "x40",
         "y": [
          "are  ",
          "love  ",
          "recommend  ",
          "great  ",
          "awesome  ",
          "amazing  ",
          "highly  ",
          "his  ",
          "staff  ",
          "dr  "
         ],
         "yaxis": "y40"
        },
        {
         "marker": {
          "color": "#009E73"
         },
         "orientation": "h",
         "type": "bar",
         "x": [
          0.008069662099705376,
          0.008113387477076545,
          0.008659818806301525,
          0.009220397085442467,
          0.010120247498959711,
          0.011587626458923639,
          0.01168017899469178,
          0.014015622155594711,
          0.015783618120197105,
          0.02489578792879489
         ],
         "xaxis": "x41",
         "y": [
          "never  ",
          "bad  ",
          "terrible  ",
          "waste  ",
          "ever  ",
          "horrible  ",
          "here  ",
          "go  ",
          "worst  ",
          "place  "
         ],
         "yaxis": "y41"
        },
        {
         "marker": {
          "color": "#F0E442"
         },
         "orientation": "h",
         "type": "bar",
         "x": [
          0.0061547441697373945,
          0.0061689491497568345,
          0.007192863865333877,
          0.008239455388695067,
          0.008869716595833707,
          0.010642668551172652,
          0.011384459144137646,
          0.01674810859126696,
          0.017160890179918998,
          0.02898243206644234
         ],
         "xaxis": "x42",
         "y": [
          "very  ",
          "hour  ",
          "nice  ",
          "short  ",
          "time  ",
          "waiting  ",
          "friendly  ",
          "staff  ",
          "long  ",
          "wait  "
         ],
         "yaxis": "y42"
        },
        {
         "marker": {
          "color": "#D55E00"
         },
         "orientation": "h",
         "type": "bar",
         "x": [
          0.009771662755860349,
          0.010081171296323613,
          0.01008906312743693,
          0.011003691021650818,
          0.012925537925828342,
          0.014981479644311093,
          0.015703382344148913,
          0.021751513223502463,
          0.03771597110732744,
          0.049134119310957375
         ],
         "xaxis": "x43",
         "y": [
          "website  ",
          "doors  ",
          "door  ",
          "says  ",
          "closing  ",
          "close  ",
          "hours  ",
          "pm  ",
          "closed  ",
          "open  "
         ],
         "yaxis": "y43"
        },
        {
         "marker": {
          "color": "#0072B2"
         },
         "orientation": "h",
         "type": "bar",
         "x": [
          0.010721253480815169,
          0.011382849715760179,
          0.012563138628982114,
          0.014395954777953607,
          0.014662969320939707,
          0.01772981708040616,
          0.02509901073703885,
          0.028721206364737815,
          0.039489114447993086,
          0.05791289576797973
         ],
         "xaxis": "x44",
         "y": [
          "expensive  ",
          "nice  ",
          "good  ",
          "selection  ",
          "items  ",
          "stores  ",
          "shopping  ",
          "prices  ",
          "shop  ",
          "store  "
         ],
         "yaxis": "y44"
        },
        {
         "marker": {
          "color": "#CC79A7"
         },
         "orientation": "h",
         "type": "bar",
         "x": [
          0.006963584943379198,
          0.0075224521704851935,
          0.007673322890038206,
          0.008252525244485588,
          0.008893245160190029,
          0.00890293336943495,
          0.00926119499678709,
          0.012100884055541264,
          0.017993078874832008,
          0.05300378636369082
         ],
         "xaxis": "x45",
         "y": [
          "job  ",
          "always  ",
          "very  ",
          "friendly  ",
          "great  ",
          "gentle  ",
          "thorough  ",
          "cleaning  ",
          "hygienists  ",
          "hygienist  "
         ],
         "yaxis": "y45"
        },
        {
         "marker": {
          "color": "#E69F00"
         },
         "orientation": "h",
         "type": "bar",
         "x": [
          0.008573159660381708,
          0.00886113881173521,
          0.009191827704115077,
          0.010229931195168447,
          0.01053260064079127,
          0.01158738614863895,
          0.012830152769266922,
          0.01363412627899304,
          0.02190858220760277,
          0.026571428704881078
         ],
         "xaxis": "x46",
         "y": [
          "courteous  ",
          "polite  ",
          "was  ",
          "efficient  ",
          "were  ",
          "helpful  ",
          "very  ",
          "professional  ",
          "friendly  ",
          "staff  "
         ],
         "yaxis": "y46"
        },
        {
         "marker": {
          "color": "#56B4E9"
         },
         "orientation": "h",
         "type": "bar",
         "x": [
          0.004582228837518264,
          0.004600174411193974,
          0.004990944480604855,
          0.005300308031130389,
          0.005789179963433347,
          0.005797683169209282,
          0.005824509896403885,
          0.010534039851303495,
          0.013117073331938794,
          0.01347877334724891
         ],
         "xaxis": "x47",
         "y": [
          "cares  ",
          "amazing  ",
          "love  ",
          "best  ",
          "is  ",
          "caring  ",
          "listens  ",
          "dr  ",
          "she  ",
          "her  "
         ],
         "yaxis": "y47"
        },
        {
         "marker": {
          "color": "#009E73"
         },
         "orientation": "h",
         "type": "bar",
         "x": [
          0.004447828405627863,
          0.004474127947873926,
          0.004524531442722846,
          0.004611610657498015,
          0.004768704951903102,
          0.005044127376989758,
          0.005066676163716917,
          0.007610002734637912,
          0.013591215136899077,
          0.02933917336681662
         ],
         "xaxis": "x48",
         "y": [
          "place  ",
          "hospitals  ",
          "go  ",
          "horrible  ",
          "er  ",
          "this  ",
          "nurses  ",
          "ever  ",
          "worst  ",
          "hospital  "
         ],
         "yaxis": "y48"
        },
        {
         "marker": {
          "color": "#F0E442"
         },
         "orientation": "h",
         "type": "bar",
         "x": [
          0.00800322990000717,
          0.008311659537515084,
          0.008789986141883826,
          0.009528677843110508,
          0.009735169634088629,
          0.00998180685209412,
          0.01096283125810525,
          0.012398378304744497,
          0.01299556466476296,
          0.022256965847063256
         ],
         "xaxis": "x49",
         "y": [
          "early  ",
          "scheduled  ",
          "time  ",
          "an  ",
          "waiting  ",
          "seen  ",
          "minutes  ",
          "wait  ",
          "hour  ",
          "appointment  "
         ],
         "yaxis": "y49"
        },
        {
         "marker": {
          "color": "#D55E00"
         },
         "orientation": "h",
         "type": "bar",
         "x": [
          0.004663708446999138,
          0.004742607559635643,
          0.005078324795241703,
          0.006143878345007368,
          0.006984273820121296,
          0.00903390911905912,
          0.011340303209485343,
          0.01750013635721494,
          0.02475857023608146,
          0.05018212248767265
         ],
         "xaxis": "x50",
         "y": [
          "doctor  ",
          "loss  ",
          "audiologist  ",
          "wax  ",
          "aids  ",
          "ent  ",
          "infection  ",
          "ears  ",
          "hearing  ",
          "ear  "
         ],
         "yaxis": "y50"
        },
        {
         "marker": {
          "color": "#0072B2"
         },
         "orientation": "h",
         "type": "bar",
         "x": [
          0.004363495805853263,
          0.004532223286886631,
          0.0046451526430121865,
          0.005074464471168459,
          0.0053139813512013915,
          0.0055343120459802496,
          0.0072010751172461715,
          0.0075469036820980636,
          0.010845249487032712,
          0.06266081565305051
         ],
         "xaxis": "x51",
         "y": [
          "was  ",
          "claustrophobic  ",
          "an  ",
          "radiology  ",
          "technician  ",
          "tech  ",
          "machine  ",
          "mris  ",
          "imaging  ",
          "mri  "
         ],
         "yaxis": "y51"
        },
        {
         "marker": {
          "color": "#CC79A7"
         },
         "orientation": "h",
         "type": "bar",
         "x": [
          0.0038744519123535973,
          0.003928574154793634,
          0.0044639393789874535,
          0.004506076515915137,
          0.004939653377570908,
          0.005027403582436649,
          0.005206032316386842,
          0.0059165140559164905,
          0.006057043683733844,
          0.008606177247852682
         ],
         "xaxis": "x52",
         "y": [
          "iv  ",
          "me  ",
          "chest  ",
          "heart  ",
          "blood  ",
          "pain  ",
          "room  ",
          "nurse  ",
          "hospital  ",
          "er  "
         ],
         "yaxis": "y52"
        },
        {
         "marker": {
          "color": "#E69F00"
         },
         "orientation": "h",
         "type": "bar",
         "x": [
          0.006772969923312155,
          0.007677012184502693,
          0.009356592366569232,
          0.010179710468429302,
          0.010268560602892805,
          0.01077029984433324,
          0.01080385946677167,
          0.011018455060144853,
          0.012175916045722567,
          0.01671914533702175
         ],
         "xaxis": "x53",
         "y": [
          "seen  ",
          "minutes  ",
          "room  ",
          "long  ",
          "hour  ",
          "hours  ",
          "waited  ",
          "waiting  ",
          "doctor  ",
          "wait  "
         ],
         "yaxis": "y53"
        },
        {
         "marker": {
          "color": "#56B4E9"
         },
         "orientation": "h",
         "type": "bar",
         "x": [
          0.00617855690796381,
          0.00648199538932632,
          0.006621319647347349,
          0.007201857451517061,
          0.007459488874082803,
          0.008615112270288865,
          0.009778843148042393,
          0.010119631420613999,
          0.013748927367442949,
          0.015981571937053834
         ],
         "xaxis": "x54",
         "y": [
          "tuck  ",
          "tummy  ",
          "dr  ",
          "augmentation  ",
          "surgeon  ",
          "procedure  ",
          "results  ",
          "plastic  ",
          "surgery  ",
          "breast  "
         ],
         "yaxis": "y54"
        },
        {
         "marker": {
          "color": "#009E73"
         },
         "orientation": "h",
         "type": "bar",
         "x": [
          0.011522774770782809,
          0.011842542736924543,
          0.012377532538764465,
          0.012788884880743007,
          0.012944796653659609,
          0.013471070820228833,
          0.01402066664468772,
          0.02404510530750302,
          0.06767908624244809,
          0.07104194492617379
         ],
         "xaxis": "x55",
         "y": [
          "organized  ",
          "selection  ",
          "nice  ",
          "prices  ",
          "items  ",
          "shop  ",
          "employees  ",
          "stocked  ",
          "clean  ",
          "store  "
         ],
         "yaxis": "y55"
        },
        {
         "marker": {
          "color": "#F0E442"
         },
         "orientation": "h",
         "type": "bar",
         "x": [
          0.007180657251329898,
          0.007354287239427327,
          0.007371054362614982,
          0.008440586516228298,
          0.00880708765306975,
          0.00937479397020523,
          0.011170912488572582,
          0.011569792796706927,
          0.014395234401344296,
          0.025855994986980817
         ],
         "xaxis": "x56",
         "y": [
          "great  ",
          "comfortable  ",
          "kid  ",
          "love  ",
          "son  ",
          "daughter  ",
          "friendly  ",
          "children  ",
          "staff  ",
          "kids  "
         ],
         "yaxis": "y56"
        },
        {
         "marker": {
          "color": "#D55E00"
         },
         "orientation": "h",
         "type": "bar",
         "x": [
          0.012607648920106247,
          0.01363150868938218,
          0.014656084854334376,
          0.01743375380921529,
          0.017553097185251675,
          0.01888887728955266,
          0.020951082900887846,
          0.021277281212821006,
          0.034342631311352186,
          0.10821874237999192
         ],
         "xaxis": "x57",
         "y": [
          "baked  ",
          "grocery  ",
          "cookies  ",
          "deli  ",
          "selection  ",
          "fresh  ",
          "produce  ",
          "store  ",
          "bread  ",
          "bakery  "
         ],
         "yaxis": "y57"
        },
        {
         "marker": {
          "color": "#0072B2"
         },
         "orientation": "h",
         "type": "bar",
         "x": [
          0.0036399380546336653,
          0.003760132261842536,
          0.003999691633543264,
          0.004171523233066429,
          0.005471738549680936,
          0.006118693659755507,
          0.006674324746309856,
          0.0067876678175749425,
          0.008327203329590119,
          0.010868736852481914
         ],
         "xaxis": "x58",
         "y": [
          "doctors  ",
          "not  ",
          "unprofessional  ",
          "worst  ",
          "dr  ",
          "rude  ",
          "his  ",
          "him  ",
          "doctor  ",
          "he  "
         ],
         "yaxis": "y58"
        },
        {
         "marker": {
          "color": "#CC79A7"
         },
         "orientation": "h",
         "type": "bar",
         "x": [
          0.003995700268839243,
          0.004106120700094276,
          0.004114363283846363,
          0.004205964381266305,
          0.004234065427761276,
          0.0042380289964145685,
          0.004295001975437996,
          0.0183738821207796,
          0.026179263810420267,
          0.031078064851558024
         ],
         "xaxis": "x59",
         "y": [
          "amazing  ",
          "recommend  ",
          "are  ",
          "with  ",
          "knowledgeable  ",
          "is  ",
          "great  ",
          "therapy  ",
          "therapists  ",
          "therapist  "
         ],
         "yaxis": "y59"
        },
        {
         "marker": {
          "color": "#E69F00"
         },
         "orientation": "h",
         "type": "bar",
         "x": [
          0.010319765393492298,
          0.01059944628184964,
          0.011184938210044787,
          0.012870079064852108,
          0.014785199130662218,
          0.015503800301958361,
          0.016851183566680843,
          0.018796812153128624,
          0.024430585852412482,
          0.04433269126554753
         ],
         "xaxis": "x60",
         "y": [
          "courteous  ",
          "pleasant  ",
          "everything  ",
          "professional  ",
          "very  ",
          "were  ",
          "helpful  ",
          "friendly  ",
          "nice  ",
          "everyone  "
         ],
         "yaxis": "y60"
        },
        {
         "marker": {
          "color": "#56B4E9"
         },
         "orientation": "h",
         "type": "bar",
         "x": [
          0.005222950368530384,
          0.005522778369468782,
          0.00599003972190841,
          0.007209504401149853,
          0.0077599065059695055,
          0.007809468087053765,
          0.008170901648394404,
          0.009416992194281196,
          0.01303497490095169,
          0.013651345463465275
         ],
         "xaxis": "x61",
         "y": [
          "sore  ",
          "test  ",
          "antibiotics  ",
          "symptoms  ",
          "infection  ",
          "sinus  ",
          "flu  ",
          "cough  ",
          "strep  ",
          "throat  "
         ],
         "yaxis": "y61"
        },
        {
         "marker": {
          "color": "#009E73"
         },
         "orientation": "h",
         "type": "bar",
         "x": [
          0.0037369647450021058,
          0.0037982949687293964,
          0.00393374233251079,
          0.004049063039896511,
          0.0040871129055660175,
          0.004192849055451625,
          0.004265597567936549,
          0.0044609605698569255,
          0.005347784045654805,
          0.025404167544919844
         ],
         "xaxis": "x62",
         "y": [
          "been  ",
          "are  ",
          "staff  ",
          "doctors  ",
          "friendly  ",
          "very  ",
          "clinics  ",
          "this  ",
          "recommend  ",
          "clinic  "
         ],
         "yaxis": "y62"
        },
        {
         "marker": {
          "color": "#F0E442"
         },
         "orientation": "h",
         "type": "bar",
         "x": [
          0.01280201884482836,
          0.015272345800949556,
          0.016663305745682647,
          0.01670170927792751,
          0.016811367278695196,
          0.01739609271372385,
          0.022773530365001383,
          0.03352494325517493,
          0.04710525882670666,
          0.1246655907986069
         ],
         "xaxis": "x63",
         "y": [
          "quality  ",
          "section  ",
          "prices  ",
          "vegetables  ",
          "fruits  ",
          "store  ",
          "selection  ",
          "fruit  ",
          "fresh  ",
          "produce  "
         ],
         "yaxis": "y63"
        },
        {
         "marker": {
          "color": "#D55E00"
         },
         "orientation": "h",
         "type": "bar",
         "x": [
          0.005303449901347632,
          0.0053352652830449005,
          0.005514867211260734,
          0.005740700028786375,
          0.006691086098317365,
          0.006991544898386357,
          0.011774311219723192,
          0.018710911685370583,
          0.03428656034436959,
          0.03896873904726412
         ],
         "xaxis": "x64",
         "y": [
          "people  ",
          "woman  ",
          "ladies  ",
          "at  ",
          "attitude  ",
          "unprofessional  ",
          "lady  ",
          "rude  ",
          "front  ",
          "desk  "
         ],
         "yaxis": "y64"
        },
        {
         "marker": {
          "color": "#0072B2"
         },
         "orientation": "h",
         "type": "bar",
         "x": [
          0.010222245921734973,
          0.011640119355255002,
          0.011694285205024928,
          0.011716604944219418,
          0.012924273786402296,
          0.014935310147359767,
          0.015421757265662169,
          0.01633618384744798,
          0.01673737485593699,
          0.05512122530230578
         ],
         "xaxis": "x65",
         "y": [
          "price  ",
          "good  ",
          "employees  ",
          "high  ",
          "deals  ",
          "products  ",
          "selection  ",
          "staff  ",
          "friendly  ",
          "prices  "
         ],
         "yaxis": "y65"
        },
        {
         "marker": {
          "color": "#CC79A7"
         },
         "orientation": "h",
         "type": "bar",
         "x": [
          0.006541309448804039,
          0.00677618219851539,
          0.007398340731456946,
          0.007949456988362358,
          0.008769794748485224,
          0.011638685652723987,
          0.011940128815959265,
          0.01517747641602315,
          0.02048895354901257,
          0.10761608045736838
         ],
         "xaxis": "x66",
         "y": [
          "store  ",
          "valet  ",
          "location  ",
          "plenty  ",
          "easy  ",
          "garage  ",
          "handicap  ",
          "park  ",
          "lot  ",
          "parking  "
         ],
         "yaxis": "y66"
        },
        {
         "marker": {
          "color": "#E69F00"
         },
         "orientation": "h",
         "type": "bar",
         "x": [
          0.007723187061624972,
          0.008059250934453912,
          0.008365919832561523,
          0.00855021680231632,
          0.009647938423602577,
          0.011069495693558862,
          0.011734202588871177,
          0.01401515598591815,
          0.015396483631943835,
          0.03001053531579025
         ],
         "xaxis": "x67",
         "y": [
          "dispensaries  ",
          "gram  ",
          "flower  ",
          "product  ",
          "strains  ",
          "thc  ",
          "dispensary  ",
          "bud  ",
          "cannabis  ",
          "weed  "
         ],
         "yaxis": "y67"
        },
        {
         "marker": {
          "color": "#56B4E9"
         },
         "orientation": "h",
         "type": "bar",
         "x": [
          0.003981360493893984,
          0.004038124141694861,
          0.004160909767138301,
          0.004230425819119053,
          0.00428122496630814,
          0.004425022321150926,
          0.004546892284152579,
          0.005472646596488812,
          0.01630863405203566,
          0.03369624857163945
         ],
         "xaxis": "x68",
         "y": [
          "caring  ",
          "fast  ",
          "emergency  ",
          "very  ",
          "efficient  ",
          "staff  ",
          "quick  ",
          "facility  ",
          "care  ",
          "urgent  "
         ],
         "yaxis": "y68"
        },
        {
         "marker": {
          "color": "#009E73"
         },
         "orientation": "h",
         "type": "bar",
         "x": [
          0.006718253147400614,
          0.006835436220682187,
          0.00691980425519606,
          0.007999448341275806,
          0.010240897250535994,
          0.011398128627810847,
          0.013941895553671554,
          0.018929354715449903,
          0.030568286588596807,
          0.08701847072610133
         ],
         "xaxis": "x69",
         "y": [
          "technician  ",
          "tech  ",
          "courteous  ",
          "professional  ",
          "american  ",
          "community  ",
          "charter  ",
          "radiologist  ",
          "advanced  ",
          "radiology  "
         ],
         "yaxis": "y69"
        },
        {
         "marker": {
          "color": "#F0E442"
         },
         "orientation": "h",
         "type": "bar",
         "x": [
          0.005990955989985338,
          0.006241821901187202,
          0.006576334531103615,
          0.006946666805545433,
          0.008637637111979575,
          0.008836986170812336,
          0.009014598057091936,
          0.009094178930542525,
          0.010842991745234174,
          0.03778078197641064
         ],
         "xaxis": "x70",
         "y": [
          "visits  ",
          "friendly  ",
          "nice  ",
          "great  ",
          "very  ",
          "enjoyed  ",
          "pleasant  ",
          "everyone  ",
          "first  ",
          "visit  "
         ],
         "yaxis": "y70"
        },
        {
         "marker": {
          "color": "#D55E00"
         },
         "orientation": "h",
         "type": "bar",
         "x": [
          0.004852296813631151,
          0.004865236924395565,
          0.005749432344979666,
          0.005831597066903422,
          0.0058565546781377716,
          0.005938132538585448,
          0.008117808698142019,
          0.00861787499560641,
          0.020070285972443216,
          0.02429744182607662
         ],
         "xaxis": "x71",
         "y": [
          "nice  ",
          "caring  ",
          "were  ",
          "great  ",
          "very  ",
          "doctors  ",
          "nursing  ",
          "practitioner  ",
          "nurse  ",
          "nurses  "
         ],
         "yaxis": "y71"
        },
        {
         "marker": {
          "color": "#0072B2"
         },
         "orientation": "h",
         "type": "bar",
         "x": [
          0.003368535511789389,
          0.0035885812173706336,
          0.0036292148262336843,
          0.004222382956701495,
          0.004397492474197071,
          0.0045054171621723696,
          0.006061943246882925,
          0.006319729481097541,
          0.007333894865706072,
          0.026120061118944788
         ],
         "xaxis": "x72",
         "y": [
          "have  ",
          "treatment  ",
          "you  ",
          "dr  ",
          "clinic  ",
          "help  ",
          "management  ",
          "relief  ",
          "chronic  ",
          "pain  "
         ],
         "yaxis": "y72"
        },
        {
         "marker": {
          "color": "#CC79A7"
         },
         "orientation": "h",
         "type": "bar",
         "x": [
          0.006354032873026694,
          0.006731649841207376,
          0.008071446094600879,
          0.008470076176909742,
          0.009606952779870398,
          0.012568167982743688,
          0.013483673891076594,
          0.018312803129466537,
          0.020319027998937103,
          0.03198875990929868
         ],
         "xaxis": "x73",
         "y": [
          "session  ",
          "app  ",
          "sessions  ",
          "therapy  ",
          "help  ",
          "therapist  ",
          "counselors  ",
          "betterhelp  ",
          "counseling  ",
          "counselor  "
         ],
         "yaxis": "y73"
        },
        {
         "marker": {
          "color": "#E69F00"
         },
         "orientation": "h",
         "type": "bar",
         "x": [
          0.00369942034237553,
          0.003827861192197728,
          0.0038402248217017172,
          0.003962412275123161,
          0.004073309175049456,
          0.004414782902776278,
          0.004500202867941037,
          0.009979128887548651,
          0.016323129199104745,
          0.01644866007600167
         ],
         "xaxis": "x74",
         "y": [
          "hospital  ",
          "patients  ",
          "room  ",
          "her  ",
          "unprofessional  ",
          "nursing  ",
          "she  ",
          "rude  ",
          "nurse  ",
          "nurses  "
         ],
         "yaxis": "y74"
        },
        {
         "marker": {
          "color": "#56B4E9"
         },
         "orientation": "h",
         "type": "bar",
         "x": [
          0.004860535354812343,
          0.005562194503958786,
          0.00850717516412275,
          0.00895228836278444,
          0.009342618668742473,
          0.011595354211482846,
          0.013376234345092195,
          0.013982456807427608,
          0.01590152538897826,
          0.081558230291604
         ],
         "xaxis": "x75",
         "y": [
          "pleasant  ",
          "sonogram  ",
          "mammography  ",
          "ultrasound  ",
          "tech  ",
          "radiology  ",
          "breast  ",
          "technician  ",
          "mammograms  ",
          "mammogram  "
         ],
         "yaxis": "y75"
        },
        {
         "marker": {
          "color": "#009E73"
         },
         "orientation": "h",
         "type": "bar",
         "x": [
          0.011494435868456422,
          0.012336121276978142,
          0.013727182069441228,
          0.015248301481554344,
          0.01916859654849712,
          0.024378929495461513,
          0.03126017315024438,
          0.031973349048224804,
          0.04955464786899168,
          0.05629888234983027
         ],
         "xaxis": "x76",
         "y": [
          "chocolate  ",
          "package  ",
          "love  ",
          "pills  ",
          "stickers  ",
          "goodies  ",
          "control  ",
          "birth  ",
          "club  ",
          "pill  "
         ],
         "yaxis": "y76"
        },
        {
         "marker": {
          "color": "#F0E442"
         },
         "orientation": "h",
         "type": "bar",
         "x": [
          0.004123029704754773,
          0.004238108890606128,
          0.004427021568192449,
          0.004504011585874963,
          0.004524682933761733,
          0.005233654248444436,
          0.005691476159620754,
          0.009976005442496319,
          0.014737507529669581,
          0.01977628475963196
         ],
         "xaxis": "x77",
         "y": [
          "worst  ",
          "there  ",
          "disrespectful  ",
          "are  ",
          "here  ",
          "horrible  ",
          "place  ",
          "unprofessional  ",
          "staff  ",
          "rude  "
         ],
         "yaxis": "y77"
        },
        {
         "marker": {
          "color": "#D55E00"
         },
         "orientation": "h",
         "type": "bar",
         "x": [
          0.008766961394667056,
          0.00902307632646829,
          0.00914940415653817,
          0.009582598938183287,
          0.009824841102941904,
          0.011571204704241117,
          0.023347232639835847,
          0.0292182588229197,
          0.06526081332123579,
          0.08168160270932542
         ],
         "xaxis": "x78",
         "y": [
          "rotisserie  ",
          "cheese  ",
          "good  ",
          "selection  ",
          "meat  ",
          "hot  ",
          "fried  ",
          "food  ",
          "chicken  ",
          "deli  "
         ],
         "yaxis": "y78"
        },
        {
         "marker": {
          "color": "#0072B2"
         },
         "orientation": "h",
         "type": "bar",
         "x": [
          0.0037451141456324058,
          0.0038659859927582378,
          0.0040239019021590825,
          0.004947670318004174,
          0.005419793252184459,
          0.0057410923268779186,
          0.005834490271139654,
          0.009747519219630416,
          0.014867871274155993,
          0.028512316442543713
         ],
         "xaxis": "x79",
         "y": [
          "phone  ",
          "people  ",
          "customer  ",
          "her  ",
          "unprofessional  ",
          "she  ",
          "attitude  ",
          "receptionists  ",
          "rude  ",
          "receptionist  "
         ],
         "yaxis": "y79"
        },
        {
         "marker": {
          "color": "#CC79A7"
         },
         "orientation": "h",
         "type": "bar",
         "x": [
          0.005182346615607379,
          0.005283462865000129,
          0.005287839333617713,
          0.005707410030948745,
          0.006782447663416498,
          0.007296521577966483,
          0.010056632479469235,
          0.010504114885916765,
          0.010566315129895061,
          0.021658100487616128
         ],
         "xaxis": "x80",
         "y": [
          "recommend  ",
          "him  ",
          "questions  ",
          "surgical  ",
          "he  ",
          "his  ",
          "procedure  ",
          "dr  ",
          "surgeon  ",
          "surgery  "
         ],
         "yaxis": "y80"
        },
        {
         "marker": {
          "color": "#E69F00"
         },
         "orientation": "h",
         "type": "bar",
         "x": [
          0.005033237440549542,
          0.005608394001453482,
          0.006416350938074342,
          0.008096673330092369,
          0.009724818759704294,
          0.013024745999737831,
          0.017025222921002222,
          0.021371760127997585,
          0.025959032971929634,
          0.032267937609366484
         ],
         "xaxis": "x81",
         "y": [
          "center  ",
          "plasma  ",
          "donations  ",
          "biomat  ",
          "donated  ",
          "donor  ",
          "donors  ",
          "donation  ",
          "donating  ",
          "donate  "
         ],
         "yaxis": "y81"
        },
        {
         "marker": {
          "color": "#56B4E9"
         },
         "orientation": "h",
         "type": "bar",
         "x": [
          0.011608757570793384,
          0.01167472831096548,
          0.011685363954738575,
          0.011960335341208368,
          0.012353348742924071,
          0.013396944617796945,
          0.014168025500302836,
          0.014596765864437825,
          0.019582922042434253,
          0.18204873074802616
         ],
         "xaxis": "x82",
         "y": [
          "shop  ",
          "bilo  ",
          "publix  ",
          "starbucks  ",
          "prices  ",
          "shopping  ",
          "grocery  ",
          "selection  ",
          "store  ",
          "ingles  "
         ],
         "yaxis": "y82"
        },
        {
         "marker": {
          "color": "#009E73"
         },
         "orientation": "h",
         "type": "bar",
         "x": [
          0.015332625692285629,
          0.017523119488384756,
          0.01804135488701033,
          0.019557923502193566,
          0.0197880434402724,
          0.02023164316390688,
          0.020661120232075118,
          0.028494216865227438,
          0.03622951061182537,
          0.0390394754593037
         ],
         "xaxis": "x83",
         "y": [
          "quality  ",
          "price  ",
          "selection  ",
          "great  ",
          "product  ",
          "good  ",
          "customer  ",
          "products  ",
          "service  ",
          "prices  "
         ],
         "yaxis": "y83"
        },
        {
         "marker": {
          "color": "#F0E442"
         },
         "orientation": "h",
         "type": "bar",
         "x": [
          0.006918650617425054,
          0.00735582671475093,
          0.007843745717400239,
          0.008106662607906096,
          0.008387700509766673,
          0.014879535541224622,
          0.014890748952406628,
          0.025949559155165357,
          0.03206105433003885,
          0.11123901459257925
         ],
         "xaxis": "x84",
         "y": [
          "knowledgeable  ",
          "gummies  ",
          "store  ",
          "bottle  ",
          "shop  ",
          "product  ",
          "hemp  ",
          "oil  ",
          "products  ",
          "cbd  "
         ],
         "yaxis": "y84"
        },
        {
         "marker": {
          "color": "#D55E00"
         },
         "orientation": "h",
         "type": "bar",
         "x": [
          0.0037500600569347073,
          0.00422946058108491,
          0.004854875377330759,
          0.00587061221909743,
          0.0060733130543453515,
          0.010012968286020245,
          0.014415540406001683,
          0.01648939985061299,
          0.02589971971642814,
          0.047016885025854716
         ],
         "xaxis": "x85",
         "y": [
          "shot  ",
          "test  ",
          "testing  ",
          "allergist  ",
          "reaction  ",
          "allergic  ",
          "shots  ",
          "asthma  ",
          "allergies  ",
          "allergy  "
         ],
         "yaxis": "y85"
        },
        {
         "marker": {
          "color": "#0072B2"
         },
         "orientation": "h",
         "type": "bar",
         "x": [
          0.007448161461188206,
          0.007792409763566858,
          0.008011568251528,
          0.00808948759244884,
          0.008096900747645824,
          0.008168443882123545,
          0.013638630390597073,
          0.017230040799222728,
          0.04310712956168521,
          0.07167305515195768
         ],
         "xaxis": "x86",
         "y": [
          "helpful  ",
          "products  ",
          "always  ",
          "love  ",
          "awesome  ",
          "customers  ",
          "excellent  ",
          "great  ",
          "service  ",
          "customer  "
         ],
         "yaxis": "y86"
        },
        {
         "marker": {
          "color": "#CC79A7"
         },
         "orientation": "h",
         "type": "bar",
         "x": [
          0.0033214682968142023,
          0.0034631337486775156,
          0.003670551293774983,
          0.00374833276142265,
          0.003784796132541796,
          0.003886805119348754,
          0.003975327241466801,
          0.004058336652169614,
          0.0042625607242251,
          0.005165976799580113
         ],
         "xaxis": "x87",
         "y": [
          "asked  ",
          "that  ",
          "told  ",
          "said  ",
          "her  ",
          "me  ",
          "call  ",
          "called  ",
          "appointment  ",
          "she  "
         ],
         "yaxis": "y87"
        },
        {
         "marker": {
          "color": "#E69F00"
         },
         "orientation": "h",
         "type": "bar",
         "x": [
          0.006275954966714246,
          0.006583509232879938,
          0.00671833767070374,
          0.006825687502649174,
          0.006861953281258954,
          0.009395725762506002,
          0.01379361345746668,
          0.015327366719896337,
          0.01998515296399574,
          0.06409244358522176
         ],
         "xaxis": "x88",
         "y": [
          "his  ",
          "total  ",
          "surgeon  ",
          "orthopedic  ",
          "he  ",
          "dr  ",
          "surgery  ",
          "knees  ",
          "replacement  ",
          "knee  "
         ],
         "yaxis": "y88"
        },
        {
         "marker": {
          "color": "#56B4E9"
         },
         "orientation": "h",
         "type": "bar",
         "x": [
          0.0037785179116379595,
          0.0037913023727674366,
          0.004164740236080586,
          0.0042381710596607084,
          0.004662984815995453,
          0.004732786720669988,
          0.005417964522981961,
          0.00917624544113036,
          0.015922809833345323,
          0.016571259429698993
         ],
         "xaxis": "x89",
         "y": [
          "doctor  ",
          "are  ",
          "patients  ",
          "staff  ",
          "unprofessional  ",
          "doctors  ",
          "office  ",
          "rude  ",
          "front  ",
          "desk  "
         ],
         "yaxis": "y89"
        },
        {
         "marker": {
          "color": "#009E73"
         },
         "orientation": "h",
         "type": "bar",
         "x": [
          0.005470530556191653,
          0.006196516382164375,
          0.006268412579828822,
          0.006440894817564381,
          0.006513389668204167,
          0.007145920165347343,
          0.007545725140766352,
          0.008608521510653196,
          0.011334429323263506,
          0.07103522417990053
         ],
         "xaxis": "x90",
         "y": [
          "session  ",
          "needles  ",
          "wellness  ",
          "cupping  ",
          "pain  ",
          "treatment  ",
          "massage  ",
          "acupuncturist  ",
          "treatments  ",
          "acupuncture  "
         ],
         "yaxis": "y90"
        },
        {
         "marker": {
          "color": "#F0E442"
         },
         "orientation": "h",
         "type": "bar",
         "x": [
          0.0072671546370778215,
          0.007398517306872708,
          0.007767417962264126,
          0.00822234687790724,
          0.008603584552051307,
          0.00917012050370624,
          0.01159238593954235,
          0.01419147307169503,
          0.031074011089515234,
          0.09275574504927957
         ],
         "xaxis": "x91",
         "y": [
          "edibles  ",
          "dry  ",
          "prices  ",
          "dispensary  ",
          "strains  ",
          "floral  ",
          "quality  ",
          "selection  ",
          "flowers  ",
          "flower  "
         ],
         "yaxis": "y91"
        },
        {
         "marker": {
          "color": "#D55E00"
         },
         "orientation": "h",
         "type": "bar",
         "x": [
          0.005361897921144697,
          0.005524977181510571,
          0.006073800655884329,
          0.006643125452004976,
          0.00692502684609756,
          0.007739793257866021,
          0.008245621647609214,
          0.008498379955684462,
          0.009453974744707735,
          0.01116164376400739
         ],
         "xaxis": "x92",
         "y": [
          "pm  ",
          "waited  ",
          "late  ",
          "doctor  ",
          "time  ",
          "waiting  ",
          "hour  ",
          "minutes  ",
          "wait  ",
          "appointment  "
         ],
         "yaxis": "y92"
        },
        {
         "marker": {
          "color": "#0072B2"
         },
         "orientation": "h",
         "type": "bar",
         "x": [
          0.007407825790233992,
          0.008348457854560114,
          0.008357416639827269,
          0.008423383336469352,
          0.009273684448813357,
          0.012224309476875049,
          0.014966394262817132,
          0.01786099615690591,
          0.03264685215054065,
          0.08512344551724492
         ],
         "xaxis": "x93",
         "y": [
          "shower  ",
          "tanks  ",
          "water  ",
          "experience  ",
          "light  ",
          "pod  ",
          "relaxing  ",
          "tank  ",
          "floating  ",
          "float  "
         ],
         "yaxis": "y93"
        },
        {
         "marker": {
          "color": "#CC79A7"
         },
         "orientation": "h",
         "type": "bar",
         "x": [
          0.004885831557354654,
          0.00534840700547314,
          0.006394886651171618,
          0.006747145923307889,
          0.00708558775842932,
          0.008045499839429428,
          0.008090642888207914,
          0.00870595909535146,
          0.02650544475515685,
          0.06708602010504712
         ],
         "xaxis": "x94",
         "y": [
          "best  ",
          "favorite  ",
          "deals  ",
          "flower  ",
          "selection  ",
          "products  ",
          "product  ",
          "prices  ",
          "dispensaries  ",
          "dispensary  "
         ],
         "yaxis": "y94"
        },
        {
         "marker": {
          "color": "#E69F00"
         },
         "orientation": "h",
         "type": "bar",
         "x": [
          0.011575941256938838,
          0.012444314957229774,
          0.013086589415411512,
          0.016295335263383257,
          0.01763808120328578,
          0.02274002753783361,
          0.02834292227222277,
          0.03431646822223274,
          0.03725998213422537,
          0.07665981833576904
         ],
         "xaxis": "x95",
         "y": [
          "quality  ",
          "products  ",
          "too  ",
          "higher  ",
          "overpriced  ",
          "price  ",
          "expensive  ",
          "high  ",
          "priced  ",
          "prices  "
         ],
         "yaxis": "y95"
        },
        {
         "marker": {
          "color": "#56B4E9"
         },
         "orientation": "h",
         "type": "bar",
         "x": [
          0.00419994902567967,
          0.004201203752192202,
          0.004388245659541689,
          0.004588517752379088,
          0.004997645619633402,
          0.005501111890973908,
          0.010271336466316556,
          0.02419492968927478,
          0.026412535963079648,
          0.032625594602868124
         ],
         "xaxis": "x96",
         "y": [
          "cancer  ",
          "she  ",
          "callender  ",
          "dr  ",
          "dermatologists  ",
          "face  ",
          "acne  ",
          "dermatology  ",
          "dermatologist  ",
          "skin  "
         ],
         "yaxis": "y96"
        },
        {
         "marker": {
          "color": "#009E73"
         },
         "orientation": "h",
         "type": "bar",
         "x": [
          0.003481079940341157,
          0.003798939071994203,
          0.00420493742966631,
          0.004274947069935252,
          0.004402551460850439,
          0.0044695881597485105,
          0.004595085792113595,
          0.00542176128411246,
          0.009579510328118334,
          0.06794415222462222
         ],
         "xaxis": "x97",
         "y": [
          "healthcare  ",
          "location  ",
          "urgent  ",
          "doctors  ",
          "health  ",
          "medical  ",
          "kaisers  ",
          "care  ",
          "permanente  ",
          "kaiser  "
         ],
         "yaxis": "y97"
        },
        {
         "marker": {
          "color": "#F0E442"
         },
         "orientation": "h",
         "type": "bar",
         "x": [
          0.004847229944664631,
          0.004937723275763744,
          0.005937570825098805,
          0.00619302589095267,
          0.007759889743823868,
          0.00821429224768027,
          0.008354570460590406,
          0.011156346659125684,
          0.015849291136829757,
          0.07605827569670809
         ],
         "xaxis": "x98",
         "y": [
          "pharmacist  ",
          "call  ",
          "pick  ",
          "fill  ",
          "refill  ",
          "ready  ",
          "filled  ",
          "rxs  ",
          "pharmacy  ",
          "rx  "
         ],
         "yaxis": "y98"
        },
        {
         "marker": {
          "color": "#D55E00"
         },
         "orientation": "h",
         "type": "bar",
         "x": [
          0.013630766694788464,
          0.01738845281748492,
          0.01802441331386869,
          0.020741302432534338,
          0.02539781281092372,
          0.03023097424200173,
          0.032825101576614564,
          0.03629149323201216,
          0.045650246055874026,
          0.046704880015734675
         ],
         "xaxis": "x99",
         "y": [
          "easy  ",
          "things  ",
          "items  ",
          "found  ",
          "looking  ",
          "what  ",
          "needed  ",
          "find  ",
          "everything  ",
          "need  "
         ],
         "yaxis": "y99"
        },
        {
         "marker": {
          "color": "#0072B2"
         },
         "orientation": "h",
         "type": "bar",
         "x": [
          0.005361260495549432,
          0.005525251581138671,
          0.006160147918512461,
          0.0067825061538501225,
          0.006843919016894508,
          0.0070367618664602515,
          0.00784835407645045,
          0.008601621496263423,
          0.04003162221653276,
          0.0463761939058162
         ],
         "xaxis": "x100",
         "y": [
          "pleasant  ",
          "great  ",
          "staff  ",
          "ladies  ",
          "very  ",
          "friendly  ",
          "nice  ",
          "helpful  ",
          "front  ",
          "desk  "
         ],
         "yaxis": "y100"
        },
        {
         "marker": {
          "color": "#CC79A7"
         },
         "orientation": "h",
         "type": "bar",
         "x": [
          0.006842393766629193,
          0.006855163930963911,
          0.007294311354620545,
          0.007356889475944019,
          0.007683011071629648,
          0.009043507356182345,
          0.012350029898338466,
          0.012376667484661426,
          0.013833939535781086,
          0.01511612258937787
         ],
         "xaxis": "x101",
         "y": [
          "message  ",
          "an  ",
          "called  ",
          "calls  ",
          "voicemail  ",
          "answer  ",
          "hold  ",
          "appointment  ",
          "call  ",
          "phone  "
         ],
         "yaxis": "y101"
        },
        {
         "marker": {
          "color": "#E69F00"
         },
         "orientation": "h",
         "type": "bar",
         "x": [
          0.007506511208047388,
          0.007744990286013341,
          0.008280420143063752,
          0.008870216315569945,
          0.008893670410276194,
          0.009449917511270379,
          0.009619766440425578,
          0.010819261973557828,
          0.016402143769967677,
          0.09497956361595557
         ],
         "xaxis": "x102",
         "y": [
          "always  ",
          "crew  ",
          "love  ",
          "guys  ",
          "awesome  ",
          "professional  ",
          "friendly  ",
          "amazing  ",
          "great  ",
          "team  "
         ],
         "yaxis": "y102"
        },
        {
         "marker": {
          "color": "#56B4E9"
         },
         "orientation": "h",
         "type": "bar",
         "x": [
          0.012307236854769364,
          0.012626796371596133,
          0.014676566950174285,
          0.01639779812758725,
          0.021755035778389803,
          0.02610369424746678,
          0.028261097620339615,
          0.029461760099597174,
          0.033499838377351945,
          0.09200262382615126
         ],
         "xaxis": "x103",
         "y": [
          "items  ",
          "pricey  ",
          "variety  ",
          "expensive  ",
          "good  ",
          "fresh  ",
          "prices  ",
          "selection  ",
          "foods  ",
          "food  "
         ],
         "yaxis": "y103"
        },
        {
         "marker": {
          "color": "#009E73"
         },
         "orientation": "h",
         "type": "bar",
         "x": [
          0.004735793523834452,
          0.004736677772508964,
          0.0054075714426516175,
          0.005707604694935416,
          0.006954266630654502,
          0.008044870771804914,
          0.013115595517052749,
          0.016975567691755265,
          0.01832290000453026,
          0.03172760410443804
         ],
         "xaxis": "x104",
         "y": [
          "bandage  ",
          "stitched  ",
          "er  ",
          "laceration  ",
          "hand  ",
          "bleeding  ",
          "cut  ",
          "finger  ",
          "wound  ",
          "stitches  "
         ],
         "yaxis": "y104"
        },
        {
         "marker": {
          "color": "#F0E442"
         },
         "orientation": "h",
         "type": "bar",
         "x": [
          0.009626067357424708,
          0.010304514696338486,
          0.010311213865322369,
          0.01049297092801857,
          0.012205984836397826,
          0.015662548798427215,
          0.015829262906222524,
          0.016443908706555953,
          0.022903591744542148,
          0.02586017722579261
         ],
         "xaxis": "x105",
         "y": [
          "super  ",
          "nice  ",
          "amazing  ",
          "awesome  ",
          "location  ",
          "great  ",
          "love  ",
          "friendly  ",
          "staff  ",
          "place  "
         ],
         "yaxis": "y105"
        },
        {
         "marker": {
          "color": "#D55E00"
         },
         "orientation": "h",
         "type": "bar",
         "x": [
          0.005777658566904327,
          0.0058248224573923665,
          0.006481350746188794,
          0.007500391291097602,
          0.013792184099752375,
          0.015178519115303967,
          0.015287161533318177,
          0.023384160496586856,
          0.0341147149981765,
          0.06797378979779807
         ],
         "xaxis": "x106",
         "y": [
          "she  ",
          "blonde  ",
          "avanti  ",
          "stylists  ",
          "cut  ",
          "color  ",
          "haircut  ",
          "stylist  ",
          "salon  ",
          "hair  "
         ],
         "yaxis": "y106"
        },
        {
         "marker": {
          "color": "#0072B2"
         },
         "orientation": "h",
         "type": "bar",
         "x": [
          0.00528839657492692,
          0.005394958812923473,
          0.005745126698201381,
          0.006250132761287078,
          0.007339113631054848,
          0.007882444148918984,
          0.011501233969339483,
          0.014767885061321713,
          0.0394557511342139,
          0.11100252116667679
         ],
         "xaxis": "x107",
         "y": [
          "been  ",
          "our  ",
          "syracuse  ",
          "always  ",
          "doctors  ",
          "love  ",
          "kaysville  ",
          "layton  ",
          "clinic  ",
          "tanner  "
         ],
         "yaxis": "y107"
        },
        {
         "marker": {
          "color": "#CC79A7"
         },
         "orientation": "h",
         "type": "bar",
         "x": [
          0.010685971412179454,
          0.012048609226392228,
          0.01222575401229018,
          0.01663964572477332,
          0.01864866194576345,
          0.02407622443517827,
          0.029043256692112062,
          0.02947397924674189,
          0.062089331812782034,
          0.14408929505260057
         ],
         "xaxis": "x108",
         "y": [
          "fresh  ",
          "prices  ",
          "best  ",
          "grocery  ",
          "store  ",
          "bakery  ",
          "bowmans  ",
          "donut  ",
          "doughnuts  ",
          "donuts  "
         ],
         "yaxis": "y108"
        },
        {
         "marker": {
          "color": "#E69F00"
         },
         "orientation": "h",
         "type": "bar",
         "x": [
          0.008207492886518949,
          0.00825742241481865,
          0.00993670648526088,
          0.01042793549411748,
          0.010570368570931018,
          0.018037717582808064,
          0.019797284983834658,
          0.022685465110173525,
          0.02897972056745956,
          0.0375772518110532
         ],
         "xaxis": "x109",
         "y": [
          "clean  ",
          "filthy  ",
          "toilet  ",
          "disgusting  ",
          "use  ",
          "dirty  ",
          "restrooms  ",
          "restroom  ",
          "bathrooms  ",
          "bathroom  "
         ],
         "yaxis": "y109"
        },
        {
         "marker": {
          "color": "#56B4E9"
         },
         "orientation": "h",
         "type": "bar",
         "x": [
          0.005834179305841151,
          0.005919052334481417,
          0.006432822672833175,
          0.007645860009904131,
          0.009156238406991273,
          0.009289456191744917,
          0.009416473873236316,
          0.010468810087966933,
          0.011818350196625247,
          0.02060556498692227
         ],
         "xaxis": "x110",
         "y": [
          "rescheduled  ",
          "called  ",
          "schedule  ",
          "appointments  ",
          "scheduled  ",
          "canceled  ",
          "cancel  ",
          "cancelled  ",
          "reschedule  ",
          "appointment  "
         ],
         "yaxis": "y110"
        },
        {
         "marker": {
          "color": "#009E73"
         },
         "orientation": "h",
         "type": "bar",
         "x": [
          0.005183052952448371,
          0.005673973103075239,
          0.006113755048561858,
          0.006130901660458093,
          0.0061715656217348515,
          0.006239630791354322,
          0.009420096609184704,
          0.012075456454786434,
          0.024987990718613688,
          0.05746729628733149
         ],
         "xaxis": "x111",
         "y": [
          "was  ",
          "quick  ",
          "process  ",
          "tech  ",
          "easy  ",
          "scanning  ",
          "dexa  ",
          "scans  ",
          "ct  ",
          "scan  "
         ],
         "yaxis": "y111"
        },
        {
         "marker": {
          "color": "#F0E442"
         },
         "orientation": "h",
         "type": "bar",
         "x": [
          0.005179247851066298,
          0.005693779595203733,
          0.005729141883015143,
          0.005756122236924835,
          0.007335878722107515,
          0.007442636675522268,
          0.008134086558172979,
          0.008190922706598299,
          0.008785801711920577,
          0.014842931858384723
         ],
         "xaxis": "x112",
         "y": [
          "recommend  ",
          "nice  ",
          "love  ",
          "care  ",
          "facility  ",
          "great  ",
          "medical  ",
          "location  ",
          "doctors  ",
          "place  "
         ],
         "yaxis": "y112"
        },
        {
         "marker": {
          "color": "#D55E00"
         },
         "orientation": "h",
         "type": "bar",
         "x": [
          0.0029797802419918276,
          0.0030011260344627814,
          0.0030868658464026665,
          0.003387184247143726,
          0.0036567226717107186,
          0.0038788694744228604,
          0.0043775578730466756,
          0.0053900275245504494,
          0.014526417767445454,
          0.016184767071488977
         ],
         "xaxis": "x113",
         "y": [
          "patients  ",
          "star  ",
          "not  ",
          "but  ",
          "this  ",
          "bad  ",
          "write  ",
          "negative  ",
          "review  ",
          "reviews  "
         ],
         "yaxis": "y113"
        },
        {
         "marker": {
          "color": "#0072B2"
         },
         "orientation": "h",
         "type": "bar",
         "x": [
          0.004417973556993469,
          0.004613547514985264,
          0.005007046201132836,
          0.006101816686036353,
          0.009816837286674032,
          0.010231765492834633,
          0.02257901822702937,
          0.02348734249788959,
          0.030068275881089276,
          0.05486500679745642
         ],
         "xaxis": "x114",
         "y": [
          "night  ",
          "test  ",
          "physical  ",
          "supplies  ",
          "dot  ",
          "machine  ",
          "apnea  ",
          "cpap  ",
          "study  ",
          "sleep  "
         ],
         "yaxis": "y114"
        },
        {
         "marker": {
          "color": "#CC79A7"
         },
         "orientation": "h",
         "type": "bar",
         "x": [
          0.005640420967923555,
          0.005687497981375434,
          0.00579665240271011,
          0.005877270071557731,
          0.006223089283056221,
          0.006553549158258773,
          0.007259160384930473,
          0.007357997061944806,
          0.01287834748760285,
          0.08295478587655526
         ],
         "xaxis": "x115",
         "y": [
          "time  ",
          "early  ",
          "wait  ",
          "hour  ",
          "online  ",
          "scheduled  ",
          "pm  ",
          "an  ",
          "appts  ",
          "appt  "
         ],
         "yaxis": "y115"
        },
        {
         "marker": {
          "color": "#E69F00"
         },
         "orientation": "h",
         "type": "bar",
         "x": [
          0.02089838223864419,
          0.021449022180092415,
          0.022625687070529213,
          0.023140329730781093,
          0.024414604459936613,
          0.030332519238335204,
          0.03218476224307177,
          0.038722388214826826,
          0.07303699224786588,
          0.19917135854893508
         ],
         "xaxis": "x116",
         "y": [
          "expensive  ",
          "choices  ",
          "priced  ",
          "high  ",
          "variety  ",
          "selections  ",
          "pricey  ",
          "good  ",
          "prices  ",
          "selection  "
         ],
         "yaxis": "y116"
        },
        {
         "marker": {
          "color": "#56B4E9"
         },
         "orientation": "h",
         "type": "bar",
         "x": [
          0.005981861997708398,
          0.006036988064725375,
          0.006459381546647157,
          0.0070572395277817964,
          0.00741996974467228,
          0.007544002857004671,
          0.007989402804631961,
          0.008129188737736841,
          0.009376648842704473,
          0.03205716045252397
         ],
         "xaxis": "x117",
         "y": [
          "placed  ",
          "orders  ",
          "pick  ",
          "product  ",
          "ordered  ",
          "pickup  ",
          "delivery  ",
          "curbside  ",
          "online  ",
          "order  "
         ],
         "yaxis": "y117"
        },
        {
         "marker": {
          "color": "#009E73"
         },
         "orientation": "h",
         "type": "bar",
         "x": [
          0.007307464659846086,
          0.007656077902874041,
          0.008003058420596712,
          0.008064429615562812,
          0.008765183647117706,
          0.008890107004195064,
          0.009321975711740921,
          0.009638139911394023,
          0.022350702175701172,
          0.041726857601111896
         ],
         "xaxis": "x118",
         "y": [
          "helpful  ",
          "kind  ",
          "compassionate  ",
          "care  ",
          "always  ",
          "very  ",
          "friendly  ",
          "professional  ",
          "staff  ",
          "caring  "
         ],
         "yaxis": "y118"
        },
        {
         "marker": {
          "color": "#F0E442"
         },
         "orientation": "h",
         "type": "bar",
         "x": [
          0.007937788486131242,
          0.008116405693036831,
          0.008263270744405244,
          0.009252462765277074,
          0.009649906917152307,
          0.009925066319999131,
          0.011707271768657867,
          0.013709222043842348,
          0.02100467039607508,
          0.062155606999420784
         ],
         "xaxis": "x119",
         "y": [
          "professional  ",
          "wonderful  ",
          "pleasant  ",
          "always  ",
          "very  ",
          "recommend  ",
          "awesome  ",
          "good  ",
          "great  ",
          "experience  "
         ],
         "yaxis": "y119"
        },
        {
         "marker": {
          "color": "#D55E00"
         },
         "orientation": "h",
         "type": "bar",
         "x": [
          0.004907384182209346,
          0.005669400872718273,
          0.0088935943477906,
          0.009095225776168456,
          0.011399739165205907,
          0.0115848741458257,
          0.01469252659207465,
          0.015452850539142334,
          0.024543981921365688,
          0.04607196753207732
         ],
         "xaxis": "x120",
         "y": [
          "she  ",
          "drawing  ",
          "veins  ",
          "lab  ",
          "vein  ",
          "drawn  ",
          "arm  ",
          "needle  ",
          "draw  ",
          "blood  "
         ],
         "yaxis": "y120"
        },
        {
         "marker": {
          "color": "#0072B2"
         },
         "orientation": "h",
         "type": "bar",
         "x": [
          0.010315318726632432,
          0.010487500419633878,
          0.014879837651550371,
          0.01524317938661707,
          0.01674370760863059,
          0.017873197666387942,
          0.018703817429215747,
          0.02022186090143721,
          0.026104983375736548,
          0.04699698030518
         ],
         "xaxis": "x121",
         "y": [
          "purchased  ",
          "produce  ",
          "store  ",
          "items  ",
          "food  ",
          "date  ",
          "bought  ",
          "dates  ",
          "expiration  ",
          "expired  "
         ],
         "yaxis": "y121"
        },
        {
         "marker": {
          "color": "#CC79A7"
         },
         "orientation": "h",
         "type": "bar",
         "x": [
          0.004470310392236536,
          0.005029988644422614,
          0.005605154306867083,
          0.0059429527635054945,
          0.0066594601126102404,
          0.007911902685194113,
          0.007956065948867079,
          0.008260655745803211,
          0.013160374831443555,
          0.03963649443815913
         ],
         "xaxis": "x122",
         "y": [
          "an  ",
          "waited  ",
          "room  ",
          "hour  ",
          "seen  ",
          "waiting  ",
          "hours  ",
          "wait  ",
          "care  ",
          "urgent  "
         ],
         "yaxis": "y122"
        },
        {
         "marker": {
          "color": "#E69F00"
         },
         "orientation": "h",
         "type": "bar",
         "x": [
          0.004487493375831567,
          0.004685936386925211,
          0.00483750403947357,
          0.004919378587666378,
          0.004995212916944706,
          0.005597574045722377,
          0.006653093346604929,
          0.007869982633634977,
          0.01253876895766787,
          0.013166762927582579
         ],
         "xaxis": "x123",
         "y": [
          "call  ",
          "called  ",
          "fill  ",
          "filled  ",
          "meds  ",
          "pharmacist  ",
          "prescriptions  ",
          "medication  ",
          "pharmacy  ",
          "prescription  "
         ],
         "yaxis": "y123"
        },
        {
         "marker": {
          "color": "#56B4E9"
         },
         "orientation": "h",
         "type": "bar",
         "x": [
          0.005229688286647,
          0.005246488713590038,
          0.0056942597330800464,
          0.006463679487845365,
          0.006588419537089917,
          0.006868930471734947,
          0.010004191694300729,
          0.01032546754278165,
          0.012403554751798855,
          0.016627747404311062
         ],
         "xaxis": "x124",
         "y": [
          "help  ",
          "addicts  ",
          "treatment  ",
          "recovery  ",
          "life  ",
          "addict  ",
          "sober  ",
          "program  ",
          "detox  ",
          "addiction  "
         ],
         "yaxis": "y124"
        },
        {
         "marker": {
          "color": "#009E73"
         },
         "orientation": "h",
         "type": "bar",
         "x": [
          0.005088532015999929,
          0.005187103440766131,
          0.005326366217240929,
          0.00577627133379572,
          0.0060322356495212046,
          0.006466054468807873,
          0.008648236478994533,
          0.010752335032213258,
          0.022381450901367353,
          0.036972491996504285
         ],
         "xaxis": "x125",
         "y": [
          "these  ",
          "there  ",
          "are  ",
          "do  ",
          "place  ",
          "very  ",
          "disrespectful  ",
          "people  ",
          "unprofessional  ",
          "rude  "
         ],
         "yaxis": "y125"
        },
        {
         "marker": {
          "color": "#F0E442"
         },
         "orientation": "h",
         "type": "bar",
         "x": [
          0.007308048924490514,
          0.007720739589379728,
          0.008121595125072588,
          0.008321000280956878,
          0.010034803336604893,
          0.012551579164853867,
          0.012986556753064546,
          0.0135997756763709,
          0.021157863820368362,
          0.03939606720522774
         ],
         "xaxis": "x126",
         "y": [
          "coming  ",
          "daughter  ",
          "great  ",
          "everyone  ",
          "loves  ",
          "children  ",
          "place  ",
          "here  ",
          "love  ",
          "kids  "
         ],
         "yaxis": "y126"
        },
        {
         "marker": {
          "color": "#D55E00"
         },
         "orientation": "h",
         "type": "bar",
         "x": [
          0.009075382498904994,
          0.009076750658037817,
          0.010057279599125219,
          0.010486948173712544,
          0.010993368754646758,
          0.013928461917536699,
          0.015331574033735994,
          0.01790322584985817,
          0.02014810223613839,
          0.15805030787882313
         ],
         "xaxis": "x127",
         "y": [
          "stores  ",
          "shopping  ",
          "selection  ",
          "shop  ",
          "items  ",
          "produce  ",
          "prices  ",
          "grocery  ",
          "store  ",
          "maceys  "
         ],
         "yaxis": "y127"
        },
        {
         "marker": {
          "color": "#0072B2"
         },
         "orientation": "h",
         "type": "bar",
         "x": [
          0.003367770360749052,
          0.003408018442028552,
          0.0034290465827905075,
          0.003507419845131884,
          0.0036769650119744556,
          0.003726127178168893,
          0.004266927952857852,
          0.008419718609369421,
          0.015767051902928007,
          0.08801737522308303
         ],
         "xaxis": "x128",
         "y": [
          "test  ",
          "was  ",
          "wait  ",
          "at  ",
          "staff  ",
          "definitely  ",
          "recommend  ",
          "care  ",
          "urgent  ",
          "afc  "
         ],
         "yaxis": "y128"
        },
        {
         "marker": {
          "color": "#CC79A7"
         },
         "orientation": "h",
         "type": "bar",
         "x": [
          0.009057002222081922,
          0.009636068250699651,
          0.009753691197343525,
          0.011190194287858186,
          0.012942284038949436,
          0.013202256779071414,
          0.018825271710128974,
          0.025876027364262408,
          0.0467195138777351,
          0.059570479084590996
         ],
         "xaxis": "x129",
         "y": [
          "tans  ",
          "groupon  ",
          "bed  ",
          "goggles  ",
          "membership  ",
          "salon  ",
          "beds  ",
          "spray  ",
          "tanning  ",
          "tan  "
         ],
         "yaxis": "y129"
        },
        {
         "marker": {
          "color": "#E69F00"
         },
         "orientation": "h",
         "type": "bar",
         "x": [
          0.009375031981631202,
          0.009731023196413273,
          0.010183558376537881,
          0.010353730019621248,
          0.011012581701039232,
          0.011641939629328298,
          0.012394063234772896,
          0.012900849429824042,
          0.015935100032307165,
          0.01803284909998416
         ],
         "xaxis": "x130",
         "y": [
          "patient  ",
          "excellent  ",
          "very  ",
          "knowledgeable  ",
          "patients  ",
          "caring  ",
          "professional  ",
          "friendly  ",
          "staff  ",
          "doctors  "
         ],
         "yaxis": "y130"
        },
        {
         "marker": {
          "color": "#56B4E9"
         },
         "orientation": "h",
         "type": "bar",
         "x": [
          0.0037473989438518195,
          0.004022246163459181,
          0.004023092991579867,
          0.004458547259614935,
          0.004755478926665022,
          0.006390366418120725,
          0.008812024854837569,
          0.024669707003622456,
          0.03930254094890589,
          0.05937304174127451
         ],
         "xaxis": "x131",
         "y": [
          "discount  ",
          "medical  ",
          "vet  ",
          "care  ",
          "vets  ",
          "lhi  ",
          "military  ",
          "veteran  ",
          "veterans  ",
          "va  "
         ],
         "yaxis": "y131"
        },
        {
         "marker": {
          "color": "#009E73"
         },
         "orientation": "h",
         "type": "bar",
         "x": [
          0.004170350014365631,
          0.0044260350502881044,
          0.004476664093659241,
          0.0045312994112524955,
          0.005420902978541474,
          0.005914835436242672,
          0.014504604615287098,
          0.02244769700520769,
          0.03130340096107635,
          0.03817637397504468
         ],
         "xaxis": "x132",
         "y": [
          "wait  ",
          "get  ",
          "minutes  ",
          "hour  ",
          "vaccination  ",
          "vaccines  ",
          "shots  ",
          "vaccine  ",
          "shot  ",
          "flu  "
         ],
         "yaxis": "y132"
        },
        {
         "marker": {
          "color": "#F0E442"
         },
         "orientation": "h",
         "type": "bar",
         "x": [
          0.004539923544652216,
          0.004542440926675572,
          0.0051517604387856615,
          0.005508961633877994,
          0.005995815537601852,
          0.006663025766413585,
          0.010407314028874222,
          0.01052548522366715,
          0.01605186881949304,
          0.02199901544694349
         ],
         "xaxis": "x133",
         "y": [
          "listened  ",
          "me  ",
          "concerns  ",
          "knowledgeable  ",
          "very  ",
          "questions  ",
          "his  ",
          "guy  ",
          "him  ",
          "he  "
         ],
         "yaxis": "y133"
        },
        {
         "marker": {
          "color": "#D55E00"
         },
         "orientation": "h",
         "type": "bar",
         "x": [
          0.0045805706987982215,
          0.004795193298773906,
          0.0048169710034735285,
          0.005754976274182893,
          0.005770564895396396,
          0.00612863117287271,
          0.0062171863850524044,
          0.014592177644319805,
          0.015010548165416167,
          0.020802413894046023
         ],
         "xaxis": "x134",
         "y": [
          "highly  ",
          "therapy  ",
          "spine  ",
          "exercises  ",
          "relief  ",
          "dr  ",
          "helped  ",
          "lower  ",
          "back  ",
          "pain  "
         ],
         "yaxis": "y134"
        },
        {
         "marker": {
          "color": "#0072B2"
         },
         "orientation": "h",
         "type": "bar",
         "x": [
          0.006208645990878529,
          0.0063415870483459124,
          0.006586651724991574,
          0.008460521945636863,
          0.012661846926656423,
          0.013736511801635374,
          0.014552154142294233,
          0.014804111040868347,
          0.021264842651806306,
          0.05486503530214749
         ],
         "xaxis": "x135",
         "y": [
          "injector  ",
          "skin  ",
          "face  ",
          "results  ",
          "injections  ",
          "lips  ",
          "fillers  ",
          "lip  ",
          "filler  ",
          "botox  "
         ],
         "yaxis": "y135"
        },
        {
         "marker": {
          "color": "#CC79A7"
         },
         "orientation": "h",
         "type": "bar",
         "x": [
          0.004228632084462448,
          0.004286328284436007,
          0.004587317472569173,
          0.004649265517079907,
          0.0048399150794786764,
          0.004975315519105929,
          0.004985853740988434,
          0.005902713063668067,
          0.008767304236023126,
          0.01183419407068457
         ],
         "xaxis": "x136",
         "y": [
          "we  ",
          "parent  ",
          "our  ",
          "parents  ",
          "him  ",
          "her  ",
          "therapist  ",
          "daughter  ",
          "son  ",
          "child  "
         ],
         "yaxis": "y136"
        },
        {
         "marker": {
          "color": "#E69F00"
         },
         "orientation": "h",
         "type": "bar",
         "x": [
          0.004324757308759951,
          0.0048938440280457355,
          0.004903149230974758,
          0.005342697272666476,
          0.0056141845238647965,
          0.0071193241847162525,
          0.0075485495251202475,
          0.011404344415081341,
          0.01809084581408957,
          0.04949845890317375
         ],
         "xaxis": "x137",
         "y": [
          "bmi  ",
          "digestive  ",
          "gi  ",
          "granite  ",
          "peaks  ",
          "prep  ",
          "colon  ",
          "procedure  ",
          "endoscopy  ",
          "colonoscopy  "
         ],
         "yaxis": "y137"
        },
        {
         "marker": {
          "color": "#56B4E9"
         },
         "orientation": "h",
         "type": "bar",
         "x": [
          0.012639954685896276,
          0.012727617679389442,
          0.01370678766344628,
          0.014894247948830519,
          0.01632193280620015,
          0.020223537328917733,
          0.020951942108921956,
          0.021660441730425733,
          0.04014195366251377,
          0.14171222608623096
         ],
         "xaxis": "x138",
         "y": [
          "expensive  ",
          "market  ",
          "harmons  ",
          "than  ",
          "grocery  ",
          "prices  ",
          "store  ",
          "walmart  ",
          "lins  ",
          "smiths  "
         ],
         "yaxis": "y138"
        },
        {
         "marker": {
          "color": "#009E73"
         },
         "orientation": "h",
         "type": "bar",
         "x": [
          0.003745069495254515,
          0.0038861300464268405,
          0.003912035040199406,
          0.004015366559290117,
          0.004073433985077221,
          0.004557187020291747,
          0.008709966878048677,
          0.008788641844848417,
          0.012186956674672143,
          0.06889841849389641
         ],
         "xaxis": "x139",
         "y": [
          "she  ",
          "wait  ",
          "room  ",
          "baby  ",
          "was  ",
          "an  ",
          "ultrasounds  ",
          "technician  ",
          "tech  ",
          "ultrasound  "
         ],
         "yaxis": "y139"
        },
        {
         "marker": {
          "color": "#F0E442"
         },
         "orientation": "h",
         "type": "bar",
         "x": [
          0.004578585622954584,
          0.004877393322463306,
          0.005276363571404152,
          0.005492444373809852,
          0.005855743009362195,
          0.006036112249361293,
          0.00627166851195338,
          0.006883892910687631,
          0.016675670630037127,
          0.02576493467906563
         ],
         "xaxis": "x140",
         "y": [
          "was  ",
          "professional  ",
          "reception  ",
          "helpful  ",
          "pleasant  ",
          "nice  ",
          "very  ",
          "friendly  ",
          "receptionists  ",
          "receptionist  "
         ],
         "yaxis": "y140"
        },
        {
         "marker": {
          "color": "#D55E00"
         },
         "orientation": "h",
         "type": "bar",
         "x": [
          0.011586304300084331,
          0.014350365951160775,
          0.015017529862731782,
          0.01664033663853451,
          0.018577195696545364,
          0.03143230570443489,
          0.05475106437096954,
          0.06806798577543084,
          0.13949672156151158,
          0.149102470239298
         ],
         "xaxis": "x141",
         "y": [
          "selection  ",
          "icecream  ",
          "serve  ",
          "store  ",
          "soft  ",
          "cone  ",
          "kong  ",
          "cones  ",
          "cream  ",
          "ice  "
         ],
         "yaxis": "y141"
        },
        {
         "marker": {
          "color": "#0072B2"
         },
         "orientation": "h",
         "type": "bar",
         "x": [
          0.008620532485280505,
          0.009596435465106579,
          0.00985386959400037,
          0.011207260778677787,
          0.011644913997770503,
          0.0117608998736575,
          0.014404861310959487,
          0.017396416483511694,
          0.017722769385010904,
          0.0366180209339776
         ],
         "xaxis": "x142",
         "y": [
          "eating  ",
          "nutrition  ",
          "lose  ",
          "lost  ",
          "pounds  ",
          "lbs  ",
          "diet  ",
          "loss  ",
          "program  ",
          "weight  "
         ],
         "yaxis": "y142"
        },
        {
         "marker": {
          "color": "#CC79A7"
         },
         "orientation": "h",
         "type": "bar",
         "x": [
          0.004448202929717594,
          0.00447578939835258,
          0.005356015982815169,
          0.0063776145407078155,
          0.007343727027165606,
          0.007583523795554566,
          0.008060578000733638,
          0.008168410124337609,
          0.026605358226808828,
          0.030598417092181474
         ],
         "xaxis": "x143",
         "y": [
          "this  ",
          "yelp  ",
          "bad  ",
          "write  ",
          "fake  ",
          "negative  ",
          "google  ",
          "star  ",
          "review  ",
          "reviews  "
         ],
         "yaxis": "y143"
        },
        {
         "marker": {
          "color": "#E69F00"
         },
         "orientation": "h",
         "type": "bar",
         "x": [
          0.00888637610071624,
          0.010102120143372665,
          0.010225063586366911,
          0.010461003880763145,
          0.010729017890981374,
          0.011295138840204218,
          0.011346289987397973,
          0.011385671489499085,
          0.013617415947654941,
          0.03478777502715107
         ],
         "xaxis": "x144",
         "y": [
          "are  ",
          "son  ",
          "them  ",
          "children  ",
          "year  ",
          "love  ",
          "great  ",
          "they  ",
          "old  ",
          "kids  "
         ],
         "yaxis": "y144"
        },
        {
         "marker": {
          "color": "#56B4E9"
         },
         "orientation": "h",
         "type": "bar",
         "x": [
          0.009464918662550817,
          0.010929742464133491,
          0.012150144545714989,
          0.016160098751034812,
          0.01694642572896367,
          0.01710631734627007,
          0.02729146954384358,
          0.028451941352251483,
          0.03313756582864897,
          0.09339242330434067
         ],
         "xaxis": "x145",
         "y": [
          "great  ",
          "professional  ",
          "helpful  ",
          "cleaning  ",
          "nice  ",
          "very  ",
          "environment  ",
          "friendly  ",
          "staff  ",
          "clean  "
         ],
         "yaxis": "y145"
        },
        {
         "marker": {
          "color": "#009E73"
         },
         "orientation": "h",
         "type": "bar",
         "x": [
          0.009964887125397743,
          0.010756714899339975,
          0.010971226748952652,
          0.012556964965624624,
          0.017267042658840354,
          0.02667485497253692,
          0.027805033969834244,
          0.03968813638661309,
          0.042274483750953974,
          0.07970217020517026
         ],
         "xaxis": "x146",
         "y": [
          "dispensary  ",
          "product  ",
          "deals  ",
          "selection  ",
          "buds  ",
          "tender  ",
          "budtender  ",
          "tenders  ",
          "budtenders  ",
          "bud  "
         ],
         "yaxis": "y146"
        },
        {
         "marker": {
          "color": "#F0E442"
         },
         "orientation": "h",
         "type": "bar",
         "x": [
          0.008760130708074666,
          0.009023628813411295,
          0.009163381089813866,
          0.010803327510801772,
          0.011794008038257042,
          0.012532842798467532,
          0.014302315883333683,
          0.025944622560307065,
          0.03706412898544622,
          0.0785946489334668
         ],
         "xaxis": "x147",
         "y": [
          "was  ",
          "techs  ",
          "friendly  ",
          "pleasant  ",
          "efficient  ",
          "very  ",
          "professional  ",
          "technicians  ",
          "tech  ",
          "technician  "
         ],
         "yaxis": "y147"
        },
        {
         "marker": {
          "color": "#D55E00"
         },
         "orientation": "h",
         "type": "bar",
         "x": [
          0.0044554744704806935,
          0.004456079765530278,
          0.004543604838008567,
          0.005352599591767332,
          0.005384868626462317,
          0.005640646528065959,
          0.005712938873093364,
          0.007088718108651588,
          0.011086442302596748,
          0.044490149250417756
         ],
         "xaxis": "x148",
         "y": [
          "staff  ",
          "there  ",
          "great  ",
          "good  ",
          "doctors  ",
          "care  ",
          "best  ",
          "nurses  ",
          "hospitals  ",
          "hospital  "
         ],
         "yaxis": "y148"
        },
        {
         "marker": {
          "color": "#0072B2"
         },
         "orientation": "h",
         "type": "bar",
         "x": [
          0.008376716422626553,
          0.008830698572280454,
          0.009477389826013625,
          0.009643200696750965,
          0.0098638680278524,
          0.010741868793856505,
          0.011142851135235216,
          0.012703617214829502,
          0.02916871468490205,
          0.07970432219934052
         ],
         "xaxis": "x149",
         "y": [
          "thru  ",
          "poor  ",
          "line  ",
          "long  ",
          "fast  ",
          "customer  ",
          "drive  ",
          "wait  ",
          "service  ",
          "slow  "
         ],
         "yaxis": "y149"
        },
        {
         "marker": {
          "color": "#CC79A7"
         },
         "orientation": "h",
         "type": "bar",
         "x": [
          0.00604995062330732,
          0.006142028974557283,
          0.006823578711949585,
          0.007583031647848883,
          0.010277398652709128,
          0.011851272577646328,
          0.013984569216037331,
          0.0165265268266722,
          0.018660376648723172,
          0.03822720998838829
         ],
         "xaxis": "x150",
         "y": [
          "ready  ",
          "fill  ",
          "filled  ",
          "medication  ",
          "refilled  ",
          "prescriptions  ",
          "pharmacy  ",
          "prescription  ",
          "refills  ",
          "refill  "
         ],
         "yaxis": "y150"
        },
        {
         "marker": {
          "color": "#E69F00"
         },
         "orientation": "h",
         "type": "bar",
         "x": [
          0.009427423539418053,
          0.009447131315416538,
          0.011167594546221262,
          0.0126501005837281,
          0.013023678365210858,
          0.013453959251089866,
          0.01363608256480152,
          0.018622343723311154,
          0.0209582804332566,
          0.1043189953596277
         ],
         "xaxis": "x151",
         "y": [
          "better  ",
          "shop  ",
          "items  ",
          "higher  ",
          "than  ",
          "shopping  ",
          "expensive  ",
          "store  ",
          "prices  ",
          "walmart  "
         ],
         "yaxis": "y151"
        },
        {
         "marker": {
          "color": "#56B4E9"
         },
         "orientation": "h",
         "type": "bar",
         "x": [
          0.0046459683811097665,
          0.00466543682032882,
          0.005578810816853003,
          0.00572538304691854,
          0.005733246892544782,
          0.0061817906800434195,
          0.006828832731125781,
          0.011592095023872834,
          0.014856472533340145,
          0.03162118574302012
         ],
         "xaxis": "x152",
         "y": [
          "has  ",
          "highly  ",
          "healthy  ",
          "holistic  ",
          "energy  ",
          "life  ",
          "body  ",
          "healing  ",
          "health  ",
          "wellness  "
         ],
         "yaxis": "y152"
        },
        {
         "marker": {
          "color": "#009E73"
         },
         "orientation": "h",
         "type": "bar",
         "x": [
          0.006559540118081277,
          0.006997661624741805,
          0.007445818474832351,
          0.009828252486183157,
          0.013451925307405152,
          0.014718158503712329,
          0.016775832775493552,
          0.028268611532080306,
          0.03408144690370912,
          0.09800418779893584
         ],
         "xaxis": "x153",
         "y": [
          "grifols  ",
          "talecris  ",
          "donated  ",
          "donor  ",
          "donors  ",
          "center  ",
          "donation  ",
          "donating  ",
          "donate  ",
          "plasma  "
         ],
         "yaxis": "y153"
        },
        {
         "marker": {
          "color": "#F0E442"
         },
         "orientation": "h",
         "type": "bar",
         "x": [
          0.005172626776118083,
          0.005425982985209184,
          0.0059440821071869475,
          0.00914844298604213,
          0.009292099477550353,
          0.009738871497048019,
          0.011050518252183006,
          0.013808122871057562,
          0.015378952630101635,
          0.017059354480696048
         ],
         "xaxis": "x154",
         "y": [
          "them  ",
          "meds  ",
          "pharmacist  ",
          "zero  ",
          "give  ",
          "prescriptions  ",
          "prescription  ",
          "star  ",
          "pharmacy  ",
          "stars  "
         ],
         "yaxis": "y154"
        },
        {
         "marker": {
          "color": "#D55E00"
         },
         "orientation": "h",
         "type": "bar",
         "x": [
          0.010539425470193008,
          0.011435431012280867,
          0.011500376795746453,
          0.011677961944895725,
          0.01170115592785405,
          0.012036248742220946,
          0.012509829697500587,
          0.017185122191638712,
          0.017200675353008246,
          0.14969998767652531
         ],
         "xaxis": "x155",
         "y": [
          "shopping  ",
          "produce  ",
          "shop  ",
          "selection  ",
          "items  ",
          "love  ",
          "stores  ",
          "store  ",
          "grocery  ",
          "harmons  "
         ],
         "yaxis": "y155"
        },
        {
         "marker": {
          "color": "#0072B2"
         },
         "orientation": "h",
         "type": "bar",
         "x": [
          0.007668861394214007,
          0.009401856381926664,
          0.010306288298592786,
          0.010534005584161378,
          0.0155867342395531,
          0.017781445859711698,
          0.02728707427729081,
          0.0348661267409466,
          0.03737190642971006,
          0.1303641896326177
         ],
         "xaxis": "x156",
         "y": [
          "icing  ",
          "chocolate  ",
          "party  ",
          "frosting  ",
          "order  ",
          "ordered  ",
          "cakes  ",
          "birthday  ",
          "bakery  ",
          "cake  "
         ],
         "yaxis": "y156"
        },
        {
         "marker": {
          "color": "#CC79A7"
         },
         "orientation": "h",
         "type": "bar",
         "x": [
          0.006036655719407901,
          0.006049263941234719,
          0.006341846628701834,
          0.006705568465246206,
          0.007459950607601871,
          0.00781986747795355,
          0.009070998287015707,
          0.0111739258033009,
          0.03046753624291714,
          0.04298213274706527
         ],
         "xaxis": "x157",
         "y": [
          "get  ",
          "result  ",
          "tests  ",
          "email  ",
          "days  ",
          "rapid  ",
          "tested  ",
          "testing  ",
          "test  ",
          "results  "
         ],
         "yaxis": "y157"
        },
        {
         "marker": {
          "color": "#E69F00"
         },
         "orientation": "h",
         "type": "bar",
         "x": [
          0.005726238752750684,
          0.0068102179220550976,
          0.0069376304600775145,
          0.007117782108179627,
          0.007597326000309234,
          0.007607724817067206,
          0.01026828778521727,
          0.01128690551702296,
          0.024277480398164793,
          0.046215562037320364
         ],
         "xaxis": "x158",
         "y": [
          "hrs  ",
          "exam  ",
          "sports  ",
          "waiting  ",
          "wait  ",
          "hour  ",
          "physicals  ",
          "hours  ",
          "dot  ",
          "physical  "
         ],
         "yaxis": "y158"
        },
        {
         "marker": {
          "color": "#56B4E9"
         },
         "orientation": "h",
         "type": "bar",
         "x": [
          0.005019762203663013,
          0.0051278878138877075,
          0.005254805046636815,
          0.005381295644161639,
          0.006575528050101377,
          0.006651178120414463,
          0.008243538705890618,
          0.010464226480423017,
          0.010585986931597973,
          0.018120065348455096
         ],
         "xaxis": "x159",
         "y": [
          "hospital  ",
          "disgusting  ",
          "bathroom  ",
          "floors  ",
          "clean  ",
          "filthy  ",
          "rooms  ",
          "floor  ",
          "room  ",
          "dirty  "
         ],
         "yaxis": "y159"
        },
        {
         "marker": {
          "color": "#009E73"
         },
         "orientation": "h",
         "type": "bar",
         "x": [
          0.007576701430088023,
          0.00786761454392433,
          0.008143362481778034,
          0.008175193223894667,
          0.008517299780472021,
          0.009650514312193438,
          0.00985831550301979,
          0.010101095230134404,
          0.010251388490474335,
          0.04669901452689328
         ],
         "xaxis": "x160",
         "y": [
          "very  ",
          "excellent  ",
          "building  ",
          "beautiful  ",
          "friendly  ",
          "nice  ",
          "great  ",
          "staff  ",
          "facilities  ",
          "facility  "
         ],
         "yaxis": "y160"
        },
        {
         "marker": {
          "color": "#F0E442"
         },
         "orientation": "h",
         "type": "bar",
         "x": [
          0.009355770314458299,
          0.009689360184468754,
          0.012318469565122689,
          0.013510917983223224,
          0.015890139107942403,
          0.021557735566918,
          0.031524332266563926,
          0.03680250415520129,
          0.04175943635952104,
          0.09884342516858897
         ],
         "xaxis": "x161",
         "y": [
          "city  ",
          "space  ",
          "centered  ",
          "teachers  ",
          "instructor  ",
          "instructors  ",
          "studio  ",
          "class  ",
          "classes  ",
          "yoga  "
         ],
         "yaxis": "y161"
        },
        {
         "marker": {
          "color": "#D55E00"
         },
         "orientation": "h",
         "type": "bar",
         "x": [
          0.011974434797067482,
          0.01211648799876803,
          0.01220709219454646,
          0.013160774124567301,
          0.015226013276443132,
          0.01757222966452453,
          0.019057180609305693,
          0.01978509404212689,
          0.03992206646847244,
          0.0867654939139628
         ],
         "xaxis": "x162",
         "y": [
          "great  ",
          "thorough  ",
          "quick  ",
          "nice  ",
          "service  ",
          "very  ",
          "professional  ",
          "friendly  ",
          "cleaning  ",
          "clean  "
         ],
         "yaxis": "y162"
        },
        {
         "marker": {
          "color": "#0072B2"
         },
         "orientation": "h",
         "type": "bar",
         "x": [
          0.00508776397404463,
          0.005262659353094586,
          0.005277060273361127,
          0.005547167828814029,
          0.005661222054325196,
          0.005901132476375343,
          0.005980460193813797,
          0.007599138496448803,
          0.009991103550229575,
          0.017493654769466987
         ],
         "xaxis": "x163",
         "y": [
          "is  ",
          "very  ",
          "recommend  ",
          "love  ",
          "great  ",
          "always  ",
          "friendly  ",
          "staff  ",
          "dr  ",
          "office  "
         ],
         "yaxis": "y163"
        },
        {
         "marker": {
          "color": "#CC79A7"
         },
         "orientation": "h",
         "type": "bar",
         "x": [
          0.007124828633606903,
          0.007211041796986245,
          0.0072156364132580815,
          0.007338697827825842,
          0.007495806460380868,
          0.00754709715738292,
          0.007999375697449714,
          0.01023091229602107,
          0.01574569969302198,
          0.01652048883901835
         ],
         "xaxis": "x164",
         "y": [
          "good  ",
          "family  ",
          "take  ",
          "me  ",
          "took  ",
          "treat  ",
          "always  ",
          "they  ",
          "treated  ",
          "care  "
         ],
         "yaxis": "y164"
        },
        {
         "marker": {
          "color": "#E69F00"
         },
         "orientation": "h",
         "type": "bar",
         "x": [
          0.010870050279764914,
          0.011334049523172926,
          0.011992987585276817,
          0.012862310306484813,
          0.01481346239781342,
          0.01547753984149091,
          0.01594225091425674,
          0.020141591927803074,
          0.021955153534712415,
          0.15844330065648157
         ],
         "xaxis": "x165",
         "y": [
          "shop  ",
          "prices  ",
          "corborns  ",
          "produce  ",
          "items  ",
          "grocery  ",
          "stores  ",
          "store  ",
          "coburns  ",
          "coborns  "
         ],
         "yaxis": "y165"
        },
        {
         "marker": {
          "color": "#56B4E9"
         },
         "orientation": "h",
         "type": "bar",
         "x": [
          0.0068483666176443235,
          0.00726929478657541,
          0.008610614959669971,
          0.009070759970264885,
          0.009133532469258902,
          0.00980813352569303,
          0.009819748214972801,
          0.01321274531836406,
          0.031425546771755734,
          0.08380859101707382
         ],
         "xaxis": "x166",
         "y": [
          "surgeon  ",
          "total  ",
          "pain  ",
          "replaced  ",
          "dr  ",
          "gross  ",
          "hips  ",
          "surgery  ",
          "replacement  ",
          "hip  "
         ],
         "yaxis": "y166"
        },
        {
         "marker": {
          "color": "#009E73"
         },
         "orientation": "h",
         "type": "bar",
         "x": [
          0.0049038381463071745,
          0.005275339402746921,
          0.005401211345616951,
          0.005520481940919436,
          0.005589158120767664,
          0.005951301134267933,
          0.006265894117538235,
          0.006415923546029493,
          0.010908649132288591,
          0.0440374955609633
         ],
         "xaxis": "x167",
         "y": [
          "parked  ",
          "garage  ",
          "spot  ",
          "handicap  ",
          "lot  ",
          "spaces  ",
          "valet  ",
          "building  ",
          "park  ",
          "parking  "
         ],
         "yaxis": "y167"
        },
        {
         "marker": {
          "color": "#F0E442"
         },
         "orientation": "h",
         "type": "bar",
         "x": [
          0.008670375423963272,
          0.009605929070319926,
          0.011851322279110177,
          0.014399230650970886,
          0.017724062595330176,
          0.021049011993492166,
          0.0311502427655136,
          0.044125354276031675,
          0.054126018686167864,
          0.05739077201750343
         ],
         "xaxis": "x168",
         "y": [
          "within  ",
          "get  ",
          "minutes  ",
          "got  ",
          "quickly  ",
          "in  ",
          "easy  ",
          "out  ",
          "fast  ",
          "quick  "
         ],
         "yaxis": "y168"
        },
        {
         "marker": {
          "color": "#D55E00"
         },
         "orientation": "h",
         "type": "bar",
         "x": [
          0.00720493921936547,
          0.007707363098528685,
          0.008295844563168044,
          0.008842013917293674,
          0.01292968181895248,
          0.013433687177286385,
          0.015181169739526197,
          0.018655685742087088,
          0.02117271981073024,
          0.02391375674481823
         ],
         "xaxis": "x169",
         "y": [
          "surgeon  ",
          "thumb  ",
          "dr  ",
          "elbow  ",
          "finger  ",
          "carpal  ",
          "tunnel  ",
          "surgery  ",
          "wrist  ",
          "hand  "
         ],
         "yaxis": "y169"
        },
        {
         "marker": {
          "color": "#0072B2"
         },
         "orientation": "h",
         "type": "bar",
         "x": [
          0.0059813035953810885,
          0.00614582296406602,
          0.006818882786834042,
          0.007158345758850238,
          0.008887329816079169,
          0.010250019831437373,
          0.011318779634415806,
          0.014508278016556768,
          0.05951295040711092,
          0.16133718644757988
         ],
         "xaxis": "x170",
         "y": [
          "for  ",
          "quick  ",
          "cdl  ",
          "jung  ",
          "concentra  ",
          "hours  ",
          "card  ",
          "physicals  ",
          "physical  ",
          "dot  "
         ],
         "yaxis": "y170"
        },
        {
         "marker": {
          "color": "#CC79A7"
         },
         "orientation": "h",
         "type": "bar",
         "x": [
          0.007985508899518034,
          0.008161094459672344,
          0.012273641942725361,
          0.01308642009811326,
          0.014177565129021187,
          0.017398000566458436,
          0.019139745578206316,
          0.027106736270789,
          0.03539377532738379,
          0.08683191789607514
         ],
         "xaxis": "x171",
         "y": [
          "moderna  ",
          "efficient  ",
          "vaccinations  ",
          "shots  ",
          "vaccinated  ",
          "vaccines  ",
          "shot  ",
          "vaccination  ",
          "covid  ",
          "vaccine  "
         ],
         "yaxis": "y171"
        },
        {
         "marker": {
          "color": "#E69F00"
         },
         "orientation": "h",
         "type": "bar",
         "x": [
          0.015558545272897467,
          0.01690403111612919,
          0.017493450028630196,
          0.0185541812833529,
          0.019950184075991764,
          0.025260023115243037,
          0.028973114523656095,
          0.03480347359343045,
          0.03649137012079098,
          0.17740664372420772
         ],
         "xaxis": "x172",
         "y": [
          "vegan  ",
          "store  ",
          "food  ",
          "organics  ",
          "products  ",
          "section  ",
          "produce  ",
          "foods  ",
          "selection  ",
          "organic  "
         ],
         "yaxis": "y172"
        },
        {
         "marker": {
          "color": "#56B4E9"
         },
         "orientation": "h",
         "type": "bar",
         "x": [
          0.004914175542022426,
          0.005067617383078453,
          0.005285999768879649,
          0.005325405798800868,
          0.0062001459197003755,
          0.006427380796329531,
          0.010388034630047187,
          0.012392329234870348,
          0.036921586282904185,
          0.095976087874862
         ],
         "xaxis": "x173",
         "y": [
          "came  ",
          "waited  ",
          "hour  ",
          "shot  ",
          "wait  ",
          "physical  ",
          "skin  ",
          "read  ",
          "test  ",
          "tb  "
         ],
         "yaxis": "y173"
        },
        {
         "marker": {
          "color": "#009E73"
         },
         "orientation": "h",
         "type": "bar",
         "x": [
          0.005024958176639518,
          0.0051150666657979816,
          0.005365801321337738,
          0.006165322488193953,
          0.007234956936164677,
          0.008021012289027359,
          0.009789351753803441,
          0.02711892465651837,
          0.0314298954085148,
          0.09850044405395585
         ],
         "xaxis": "x174",
         "y": [
          "items  ",
          "walgreen  ",
          "walmart  ",
          "employees  ",
          "riteaid  ",
          "pharmacy  ",
          "store  ",
          "aid  ",
          "rite  ",
          "walgreens  "
         ],
         "yaxis": "y174"
        },
        {
         "marker": {
          "color": "#F0E442"
         },
         "orientation": "h",
         "type": "bar",
         "x": [
          0.007315025484779678,
          0.008162482200899532,
          0.008517141785969485,
          0.008749051827726432,
          0.011328293305967163,
          0.01412300575564103,
          0.015493715488635668,
          0.02226739445659648,
          0.03932610674989071,
          0.05561880285590595
         ],
         "xaxis": "x175",
         "y": [
          "start  ",
          "smileguide  ",
          "experience  ",
          "guide  ",
          "process  ",
          "excited  ",
          "journey  ",
          "club  ",
          "direct  ",
          "smile  "
         ],
         "yaxis": "y175"
        },
        {
         "marker": {
          "color": "#D55E00"
         },
         "orientation": "h",
         "type": "bar",
         "x": [
          0.0033890811293423306,
          0.00352706220444725,
          0.0035586814886334884,
          0.0035842108390399105,
          0.003636459164733142,
          0.00364949483169557,
          0.004170082147259973,
          0.004277158407466802,
          0.004598744821953367,
          0.052109689018977806
         ],
         "xaxis": "x176",
         "y": [
          "as  ",
          "doctor  ",
          "pcps  ",
          "patient  ",
          "see  ",
          "my  ",
          "care  ",
          "medical  ",
          "urgent  ",
          "pcp  "
         ],
         "yaxis": "y176"
        },
        {
         "marker": {
          "color": "#0072B2"
         },
         "orientation": "h",
         "type": "bar",
         "x": [
          0.005811683685000229,
          0.00592404456323548,
          0.00814733282736533,
          0.009680698418950173,
          0.01003071225441894,
          0.010316217091888834,
          0.02231408462890624,
          0.028095049816973285,
          0.0331444846932454,
          0.05719053650940718
         ],
         "xaxis": "x177",
         "y": [
          "results  ",
          "sessions  ",
          "ink  ",
          "treatments  ",
          "skin  ",
          "treatment  ",
          "hair  ",
          "removal  ",
          "tattoo  ",
          "laser  "
         ],
         "yaxis": "y177"
        },
        {
         "marker": {
          "color": "#CC79A7"
         },
         "orientation": "h",
         "type": "bar",
         "x": [
          0.00531443861441192,
          0.005635782129818827,
          0.006062938990568104,
          0.007690335873459448,
          0.007965616333784911,
          0.008334348564493787,
          0.00854774420964697,
          0.008962439624991722,
          0.016613169913886176,
          0.1241309936789009
         ],
         "xaxis": "x178",
         "y": [
          "professional  ",
          "very  ",
          "him  ",
          "nawab  ",
          "he  ",
          "abbas  ",
          "ent  ",
          "his  ",
          "dr  ",
          "patel  "
         ],
         "yaxis": "y178"
        },
        {
         "marker": {
          "color": "#E69F00"
         },
         "orientation": "h",
         "type": "bar",
         "x": [
          0.0072970144109755055,
          0.00814771096052529,
          0.00944347080751741,
          0.010174868436206493,
          0.01144254317571803,
          0.013728645178793767,
          0.014477297993916631,
          0.015620894612373874,
          0.04328416642717868,
          0.06059187472968653
         ],
         "xaxis": "x179",
         "y": [
          "cleaning  ",
          "nice  ",
          "very  ",
          "environment  ",
          "professional  ",
          "facilities  ",
          "friendly  ",
          "staff  ",
          "facility  ",
          "clean  "
         ],
         "yaxis": "y179"
        },
        {
         "marker": {
          "color": "#56B4E9"
         },
         "orientation": "h",
         "type": "bar",
         "x": [
          0.012375323336267136,
          0.013414133229084238,
          0.0143321579296314,
          0.02052079893765834,
          0.024410259071104893,
          0.03759927038097319,
          0.04097669288708542,
          0.04795603354128142,
          0.08970731559244435,
          0.11522976416330884
         ],
         "xaxis": "x180",
         "y": [
          "prices  ",
          "beers  ",
          "sell  ",
          "grocery  ",
          "alcohol  ",
          "store  ",
          "selection  ",
          "wine  ",
          "liquor  ",
          "beer  "
         ],
         "yaxis": "y180"
        },
        {
         "marker": {
          "color": "#009E73"
         },
         "orientation": "h",
         "type": "bar",
         "x": [
          0.01126620871874403,
          0.011271548789891749,
          0.011321738356834414,
          0.014594924586182221,
          0.01545878283477621,
          0.015752102196551446,
          0.017098539036048587,
          0.019182295962520097,
          0.022582217754831116,
          0.04680260137831984
         ],
         "xaxis": "x181",
         "y": [
          "stocked  ",
          "great  ",
          "items  ",
          "selection  ",
          "staff  ",
          "employees  ",
          "helpful  ",
          "friendly  ",
          "shop  ",
          "store  "
         ],
         "yaxis": "y181"
        },
        {
         "marker": {
          "color": "#F0E442"
         },
         "orientation": "h",
         "type": "bar",
         "x": [
          0.010117465438085295,
          0.010712314895812515,
          0.010885134243808109,
          0.012458777903248041,
          0.01322551484634582,
          0.015946407073894543,
          0.019713268218827754,
          0.020563439227082356,
          0.03362673272083802,
          0.08997302882748905
         ],
         "xaxis": "x182",
         "y": [
          "new  ",
          "always  ",
          "everyone  ",
          "smiling  ",
          "happy  ",
          "beautiful  ",
          "thank  ",
          "love  ",
          "smiles  ",
          "smile  "
         ],
         "yaxis": "y182"
        },
        {
         "marker": {
          "color": "#D55E00"
         },
         "orientation": "h",
         "type": "bar",
         "x": [
          0.004456754071260675,
          0.004461938884200773,
          0.0045059370287525696,
          0.004645161192657735,
          0.005660036251247519,
          0.0058354112382824515,
          0.005991923464079118,
          0.006327148907603282,
          0.010810709216225045,
          0.030800787426253414
         ],
         "xaxis": "x183",
         "y": [
          "them  ",
          "copy  ",
          "release  ",
          "form  ",
          "paperwork  ",
          "information  ",
          "record  ",
          "fax  ",
          "medical  ",
          "records  "
         ],
         "yaxis": "y183"
        },
        {
         "marker": {
          "color": "#0072B2"
         },
         "orientation": "h",
         "type": "bar",
         "x": [
          0.009281845600664574,
          0.009579682354074122,
          0.010724840317931639,
          0.012547321224398417,
          0.014900975069786092,
          0.018563691201329148,
          0.01888435326116608,
          0.03016385344871653,
          0.033897609854104296,
          0.04735258539494765
         ],
         "xaxis": "x184",
         "y": [
          "extensions  ",
          "eyelash  ",
          "waxing  ",
          "wax  ",
          "lash  ",
          "eyebrow  ",
          "microblading  ",
          "eyebrows  ",
          "brows  ",
          "lashes  "
         ],
         "yaxis": "y184"
        },
        {
         "marker": {
          "color": "#CC79A7"
         },
         "orientation": "h",
         "type": "bar",
         "x": [
          0.006470690531447306,
          0.006519204815647395,
          0.00676275084327988,
          0.010863730216613252,
          0.01457866079102975,
          0.015019962139654654,
          0.019227282280283,
          0.03162232231311155,
          0.038473419280137686,
          0.055767175074813276
         ],
         "xaxis": "x185",
         "y": [
          "poole  ",
          "vanish  ",
          "dixie  ",
          "prostatic  ",
          "leg  ",
          "vascular  ",
          "varicose  ",
          "legs  ",
          "veins  ",
          "vein  "
         ],
         "yaxis": "y185"
        },
        {
         "marker": {
          "color": "#E69F00"
         },
         "orientation": "h",
         "type": "bar",
         "x": [
          0.005842515585101721,
          0.006105182979539654,
          0.006205392804427913,
          0.006719851413273667,
          0.0084683246773055,
          0.01229755425248042,
          0.013792626909671736,
          0.014673448975489686,
          0.015064363736137636,
          0.02051321858551318
         ],
         "xaxis": "x186",
         "y": [
          "patients  ",
          "website  ",
          "hours  ",
          "at  ",
          "door  ",
          "close  ",
          "closed  ",
          "closing  ",
          "open  ",
          "pm  "
         ],
         "yaxis": "y186"
        },
        {
         "marker": {
          "color": "#56B4E9"
         },
         "orientation": "h",
         "type": "bar",
         "x": [
          0.011187122156825303,
          0.011882038119994559,
          0.011948874644180577,
          0.015724953892098405,
          0.015769555566867734,
          0.0176567528226334,
          0.018421721601417196,
          0.020813531091782227,
          0.030797264653489826,
          0.0984518217425683
         ],
         "xaxis": "x187",
         "y": [
          "la  ",
          "interpreter  ",
          "bilingual  ",
          "language  ",
          "speaks  ",
          "que  ",
          "de  ",
          "speak  ",
          "english  ",
          "spanish  "
         ],
         "yaxis": "y187"
        },
        {
         "marker": {
          "color": "#009E73"
         },
         "orientation": "h",
         "type": "bar",
         "x": [
          0.014567767667001507,
          0.01714336552979947,
          0.018139661467374817,
          0.019835026818759625,
          0.02075775423277294,
          0.022850902309292803,
          0.025104202826865634,
          0.033465773380658995,
          0.15023478379280358,
          0.18840940084734042
         ],
         "xaxis": "x188",
         "y": [
          "soups  ",
          "lunch  ",
          "chicken  ",
          "fresh  ",
          "hot  ",
          "food  ",
          "deli  ",
          "salads  ",
          "bar  ",
          "salad  "
         ],
         "yaxis": "y188"
        },
        {
         "marker": {
          "color": "#F0E442"
         },
         "orientation": "h",
         "type": "bar",
         "x": [
          0.00439380603755392,
          0.004797921783815782,
          0.005142985408458351,
          0.00544188724040903,
          0.006020108511722612,
          0.009131876011817308,
          0.009510337297358173,
          0.01780917601094562,
          0.02557943226811105,
          0.08940946944030205
         ],
         "xaxis": "x189",
         "y": [
          "walgreens  ",
          "service  ",
          "customer  ",
          "pharmacies  ",
          "pharmacist  ",
          "prescription  ",
          "prescriptions  ",
          "target  ",
          "pharmacy  ",
          "cvs  "
         ],
         "yaxis": "y189"
        },
        {
         "marker": {
          "color": "#D55E00"
         },
         "orientation": "h",
         "type": "bar",
         "x": [
          0.004877840103320138,
          0.005145518768364839,
          0.005171689844860019,
          0.00536048560644634,
          0.006027270903228559,
          0.0061038418096149875,
          0.006612584063810951,
          0.009004196094158558,
          0.016539597082670034,
          0.05761650624176808
         ],
         "xaxis": "x190",
         "y": [
          "years  ",
          "helped  ",
          "adjustments  ",
          "headaches  ",
          "dr  ",
          "back  ",
          "relief  ",
          "shoulder  ",
          "pain  ",
          "neck  "
         ],
         "yaxis": "y190"
        },
        {
         "marker": {
          "color": "#0072B2"
         },
         "orientation": "h",
         "type": "bar",
         "x": [
          0.008830048336456809,
          0.010327441493782286,
          0.010607720492589073,
          0.011708579611348698,
          0.012192620985960717,
          0.01683112736220194,
          0.0204027229594077,
          0.021852699355524433,
          0.032336088299880834,
          0.05616807069499358
         ],
         "xaxis": "x191",
         "y": [
          "oil  ",
          "defective  ",
          "gram  ",
          "product  ",
          "exchange  ",
          "bought  ",
          "pen  ",
          "vape  ",
          "cartridges  ",
          "cartridge  "
         ],
         "yaxis": "y191"
        },
        {
         "marker": {
          "color": "#CC79A7"
         },
         "orientation": "h",
         "type": "bar",
         "x": [
          0.012298528804931807,
          0.013078916321766837,
          0.014534090317865615,
          0.022134587013522486,
          0.023689957790968996,
          0.031886124554021504,
          0.03285036472656051,
          0.0348841204591136,
          0.08014745160067507,
          0.11095250883944142
         ],
         "xaxis": "x192",
         "y": [
          "warm  ",
          "knowledgeable  ",
          "inviting  ",
          "comfortable  ",
          "great  ",
          "relaxing  ",
          "friendly  ",
          "staff  ",
          "environment  ",
          "atmosphere  "
         ],
         "yaxis": "y192"
        },
        {
         "marker": {
          "color": "#E69F00"
         },
         "orientation": "h",
         "type": "bar",
         "x": [
          0.008742089688110303,
          0.008764912287351831,
          0.009471399161702173,
          0.009503844424574482,
          0.009708220660682006,
          0.011086934408582565,
          0.015109171446931493,
          0.019562334041588844,
          0.02079094473092399,
          0.04347052306166788
         ],
         "xaxis": "x193",
         "y": [
          "best  ",
          "quality  ",
          "received  ",
          "compassionate  ",
          "always  ",
          "great  ",
          "professional  ",
          "excellent  ",
          "caring  ",
          "care  "
         ],
         "yaxis": "y193"
        },
        {
         "marker": {
          "color": "#56B4E9"
         },
         "orientation": "h",
         "type": "bar",
         "x": [
          0.004276938658177938,
          0.0044619385870307525,
          0.0047490104058162935,
          0.006158522251147056,
          0.006310809450147503,
          0.006593317451982041,
          0.008771529437608054,
          0.011579257093453041,
          0.01612303551023728,
          0.04280059188191092
         ],
         "xaxis": "x194",
         "y": [
          "place  ",
          "food  ",
          "staff  ",
          "therapy  ",
          "center  ",
          "nursing  ",
          "facility  ",
          "recovery  ",
          "rehabilitation  ",
          "rehab  "
         ],
         "yaxis": "y194"
        },
        {
         "marker": {
          "color": "#009E73"
         },
         "orientation": "h",
         "type": "bar",
         "x": [
          0.010218673948007932,
          0.010954672539504474,
          0.01140136536732288,
          0.012229009891900523,
          0.012664480621140695,
          0.013311344455433555,
          0.01681651161066089,
          0.02126875656271081,
          0.021363517821979806,
          0.18645888614293513
         ],
         "xaxis": "x195",
         "y": [
          "warm  ",
          "service  ",
          "very  ",
          "relaxed  ",
          "clean  ",
          "nice  ",
          "environment  ",
          "friendly  ",
          "great  ",
          "atmosphere  "
         ],
         "yaxis": "y195"
        },
        {
         "marker": {
          "color": "#F0E442"
         },
         "orientation": "h",
         "type": "bar",
         "x": [
          0.011491028082774734,
          0.012430756308768795,
          0.01440215438693881,
          0.01447028770260433,
          0.01672973711466933,
          0.022547499071940452,
          0.02886210523650647,
          0.03556632301758703,
          0.040427991921006386,
          0.10640366200456786
         ],
         "xaxis": "x196",
         "y": [
          "fitness  ",
          "workouts  ",
          "gyms  ",
          "coaching  ",
          "community  ",
          "workout  ",
          "gym  ",
          "rhapsody  ",
          "coaches  ",
          "crossfit  "
         ],
         "yaxis": "y196"
        },
        {
         "marker": {
          "color": "#D55E00"
         },
         "orientation": "h",
         "type": "bar",
         "x": [
          0.007073470604259392,
          0.007328100167595905,
          0.007337624177261514,
          0.009190500145881287,
          0.009264460969598461,
          0.01002762345595653,
          0.015364852219630142,
          0.01854400901354297,
          0.018640092646556097,
          0.029786247868919254
         ],
         "xaxis": "x197",
         "y": [
          "comfortable  ",
          "first  ",
          "always  ",
          "pleasant  ",
          "visits  ",
          "very  ",
          "welcoming  ",
          "friendly  ",
          "staff  ",
          "visit  "
         ],
         "yaxis": "y197"
        },
        {
         "marker": {
          "color": "#0072B2"
         },
         "orientation": "h",
         "type": "bar",
         "x": [
          0.007722416957429466,
          0.007812105088727596,
          0.008349117478812536,
          0.009348946230175523,
          0.009740002630186824,
          0.010088737421210347,
          0.012673598257644294,
          0.018770020759949223,
          0.04829555262124639,
          0.05959533309793429
         ],
         "xaxis": "x198",
         "y": [
          "relaxing  ",
          "esthetician  ",
          "amazing  ",
          "hydrafacial  ",
          "products  ",
          "spa  ",
          "face  ",
          "facials  ",
          "skin  ",
          "facial  "
         ],
         "yaxis": "y198"
        },
        {
         "marker": {
          "color": "#CC79A7"
         },
         "orientation": "h",
         "type": "bar",
         "x": [
          0.007408961289236041,
          0.008943708215642332,
          0.009107676753551609,
          0.009727387103734558,
          0.010169031138283704,
          0.011478348375205907,
          0.01214912934291529,
          0.01236644971714504,
          0.013111131180821111,
          0.03879148648811314
         ],
         "xaxis": "x199",
         "y": [
          "handicap  ",
          "chairs  ",
          "disabled  ",
          "handicapped  ",
          "elevator  ",
          "accessible  ",
          "wheel  ",
          "wheelchairs  ",
          "chair  ",
          "wheelchair  "
         ],
         "yaxis": "y199"
        },
        {
         "marker": {
          "color": "#E69F00"
         },
         "orientation": "h",
         "type": "bar",
         "x": [
          0.009180459900204803,
          0.011147008438851936,
          0.01171857645216409,
          0.020788677455531486,
          0.02174937686589178,
          0.024094727174670354,
          0.02534912236234996,
          0.025592732757345672,
          0.049648116955669015,
          0.11007527241972537
         ],
         "xaxis": "x200",
         "y": [
          "inventory  ",
          "stocking  ",
          "aisles  ",
          "items  ",
          "stock  ",
          "empty  ",
          "shelf  ",
          "store  ",
          "stocked  ",
          "shelves  "
         ],
         "yaxis": "y200"
        },
        {
         "marker": {
          "color": "#56B4E9"
         },
         "orientation": "h",
         "type": "bar",
         "x": [
          0.016642629550811902,
          0.016756242243961838,
          0.017070040668445214,
          0.02283268661826705,
          0.023456936382981273,
          0.02387550310800712,
          0.030105496664865262,
          0.030136775988084362,
          0.06584236435812535,
          0.10565005809243724
         ],
         "xaxis": "x201",
         "y": [
          "little  ",
          "high  ",
          "nice  ",
          "variety  ",
          "good  ",
          "selection  ",
          "expensive  ",
          "pricey  ",
          "prices  ",
          "clean  "
         ],
         "yaxis": "y201"
        },
        {
         "marker": {
          "color": "#009E73"
         },
         "orientation": "h",
         "type": "bar",
         "x": [
          0.006259851921990491,
          0.006362579315577518,
          0.006949876081137071,
          0.007092897455941903,
          0.00782583960100044,
          0.008511873492305847,
          0.009145223160134738,
          0.0166150676189122,
          0.030312148572670082,
          0.04324968836938269
         ],
         "xaxis": "x202",
         "y": [
          "pain  ",
          "has  ",
          "dr  ",
          "neck  ",
          "chronic  ",
          "life  ",
          "headache  ",
          "migraine  ",
          "headaches  ",
          "migraines  "
         ],
         "yaxis": "y202"
        },
        {
         "marker": {
          "color": "#F0E442"
         },
         "orientation": "h",
         "type": "bar",
         "x": [
          0.009997252734899093,
          0.010388146180704851,
          0.01047470262212812,
          0.011101455706259014,
          0.013946656439311929,
          0.013997324601335983,
          0.02074459316539834,
          0.02467699193287737,
          0.024942240341327873,
          0.09046537778099804
         ],
         "xaxis": "x203",
         "y": [
          "hot  ",
          "indoor  ",
          "gym  ",
          "tub  ",
          "classes  ",
          "water  ",
          "swimming  ",
          "swim  ",
          "locker  ",
          "pool  "
         ],
         "yaxis": "y203"
        },
        {
         "marker": {
          "color": "#D55E00"
         },
         "orientation": "h",
         "type": "bar",
         "x": [
          0.020799047079833814,
          0.02255052610697758,
          0.023438294885093077,
          0.023923677247447896,
          0.025115774938122618,
          0.026844838473618248,
          0.02885560518249454,
          0.03070693689341942,
          0.09818911631628441,
          0.18468510931506749
         ],
         "xaxis": "x204",
         "y": [
          "options  ",
          "products  ",
          "dairy  ",
          "selection  ",
          "foods  ",
          "organic  ",
          "items  ",
          "glutenfree  ",
          "free  ",
          "gluten  "
         ],
         "yaxis": "y204"
        },
        {
         "marker": {
          "color": "#0072B2"
         },
         "orientation": "h",
         "type": "bar",
         "x": [
          0.009507002297068091,
          0.010047194041675846,
          0.010225773755868544,
          0.01032557299514595,
          0.012222439046735766,
          0.012401874378458853,
          0.0180577233247926,
          0.021714538673380766,
          0.028074807301285417,
          0.22729280014257694
         ],
         "xaxis": "x205",
         "y": [
          "rice  ",
          "delicious  ",
          "selection  ",
          "good  ",
          "rolls  ",
          "food  ",
          "store  ",
          "deli  ",
          "fresh  ",
          "sushi  "
         ],
         "yaxis": "y205"
        },
        {
         "marker": {
          "color": "#CC79A7"
         },
         "orientation": "h",
         "type": "bar",
         "x": [
          0.008118580781334359,
          0.00865146226752014,
          0.009383906190882352,
          0.010708026916946268,
          0.011518462604512114,
          0.011733773605803313,
          0.013832672255128905,
          0.017635755897388104,
          0.06760036680667535,
          0.08573416148249358
         ],
         "xaxis": "x206",
         "y": [
          "sessions  ",
          "chamber  ",
          "try  ",
          "compression  ",
          "thrive  ",
          "body  ",
          "session  ",
          "restore  ",
          "cryo  ",
          "cryotherapy  "
         ],
         "yaxis": "y206"
        },
        {
         "marker": {
          "color": "#E69F00"
         },
         "orientation": "h",
         "type": "bar",
         "x": [
          0.004747478153108229,
          0.004993186556502027,
          0.005420972681270701,
          0.005564599363228052,
          0.006397164225257748,
          0.00854960811090084,
          0.011591794604371071,
          0.012958725648784341,
          0.014619935661369847,
          0.01836222452523021
         ],
         "xaxis": "x207",
         "y": [
          "patient  ",
          "medical  ",
          "violated  ",
          "violations  ",
          "rights  ",
          "information  ",
          "privacy  ",
          "violation  ",
          "hipaa  ",
          "hippa  "
         ],
         "yaxis": "y207"
        },
        {
         "marker": {
          "color": "#56B4E9"
         },
         "orientation": "h",
         "type": "bar",
         "x": [
          0.0058231506762775245,
          0.006047445242148879,
          0.00834015543632343,
          0.010500274341234924,
          0.01089344752905892,
          0.01281352546660989,
          0.015827076973762202,
          0.01848009183776056,
          0.018483826559707203,
          0.020197201599327544
         ],
         "xaxis": "x208",
         "y": [
          "shipping  ",
          "pillpack  ",
          "prescription  ",
          "package  ",
          "text  ",
          "club  ",
          "pills  ",
          "birth  ",
          "control  ",
          "pill  "
         ],
         "yaxis": "y208"
        },
        {
         "marker": {
          "color": "#009E73"
         },
         "orientation": "h",
         "type": "bar",
         "x": [
          0.004416037107947623,
          0.004594298009491959,
          0.004662338043729975,
          0.005233503008194638,
          0.0058374850614452784,
          0.006800880507030093,
          0.007111822848600729,
          0.007798897423117687,
          0.010193702227191492,
          0.11005881510645908
         ],
         "xaxis": "x209",
         "y": [
          "recommend  ",
          "visit  ",
          "very  ",
          "drug  ",
          "professional  ",
          "experience  ",
          "urgent  ",
          "physical  ",
          "dot  ",
          "concentra  "
         ],
         "yaxis": "y209"
        },
        {
         "marker": {
          "color": "#F0E442"
         },
         "orientation": "h",
         "type": "bar",
         "x": [
          0.007314143915864424,
          0.0077492052338223715,
          0.008704979025182094,
          0.009529208373532317,
          0.010213008580571368,
          0.010355911479746457,
          0.014227301520757978,
          0.01693853494483658,
          0.017008699973311083,
          0.019707106407192948
         ],
         "xaxis": "x210",
         "y": [
          "do  ",
          "parents  ",
          "kid  ",
          "place  ",
          "your  ",
          "here  ",
          "child  ",
          "send  ",
          "children  ",
          "kids  "
         ],
         "yaxis": "y210"
        },
        {
         "marker": {
          "color": "#D55E00"
         },
         "orientation": "h",
         "type": "bar",
         "x": [
          0.005690447912217867,
          0.005730267594314946,
          0.005986110738748299,
          0.006209304485668813,
          0.0063226856513651135,
          0.007482427543966371,
          0.008143845109775418,
          0.009860259082954034,
          0.016259711043825422,
          0.03542579033828925
         ],
         "xaxis": "x211",
         "y": [
          "orthopaedics  ",
          "shoulder  ",
          "recommend  ",
          "his  ",
          "surgeon  ",
          "surgery  ",
          "dr  ",
          "orthopaedic  ",
          "orthopedics  ",
          "orthopedic  "
         ],
         "yaxis": "y211"
        },
        {
         "marker": {
          "color": "#0072B2"
         },
         "orientation": "h",
         "type": "bar",
         "x": [
          0.006929882396201963,
          0.007018271518229046,
          0.007073374265857988,
          0.007348104750988347,
          0.007369627278933863,
          0.00756805934243054,
          0.008415726057318999,
          0.010370456516124307,
          0.013611287220792327,
          0.06682619672102423
         ],
         "xaxis": "x212",
         "y": [
          "customers  ",
          "chicken  ",
          "meat  ",
          "store  ",
          "gloves  ",
          "customer  ",
          "counter  ",
          "employees  ",
          "food  ",
          "deli  "
         ],
         "yaxis": "y212"
        },
        {
         "marker": {
          "color": "#CC79A7"
         },
         "orientation": "h",
         "type": "bar",
         "x": [
          0.0048421365219452304,
          0.004932461986300801,
          0.005344164792026451,
          0.005874801696028403,
          0.006407757035112876,
          0.010725594010620787,
          0.011740599982844676,
          0.012320353810212053,
          0.01996540610558584,
          0.03525312474937552
         ],
         "xaxis": "x213",
         "y": [
          "filled  ",
          "pick  ",
          "medication  ",
          "fill  ",
          "ready  ",
          "prescriptions  ",
          "prescription  ",
          "walmart  ",
          "pharmacy  ",
          "walgreens  "
         ],
         "yaxis": "y213"
        },
        {
         "marker": {
          "color": "#E69F00"
         },
         "orientation": "h",
         "type": "bar",
         "x": [
          0.007998566206205657,
          0.008055483062774033,
          0.008235460404371033,
          0.008351643524743714,
          0.009221121770761466,
          0.00962487723703462,
          0.01054607893523525,
          0.010702385083113471,
          0.019898270201771987,
          0.1469164006389042
         ],
         "xaxis": "x214",
         "y": [
          "lca  ",
          "peace  ",
          "clinics  ",
          "rid  ",
          "bugs  ",
          "our  ",
          "solutions  ",
          "america  ",
          "hair  ",
          "lice  "
         ],
         "yaxis": "y214"
        },
        {
         "marker": {
          "color": "#56B4E9"
         },
         "orientation": "h",
         "type": "bar",
         "x": [
          0.0069772810370604685,
          0.007003222685447487,
          0.007022092974798044,
          0.01371859507479876,
          0.013985194963066872,
          0.016143887077758875,
          0.016152533193563724,
          0.01725532852816266,
          0.03244245990159533,
          0.07422194541785528
         ],
         "xaxis": "x215",
         "y": [
          "done  ",
          "tip  ",
          "acrylic  ",
          "salon  ",
          "pedicure  ",
          "manicure  ",
          "gel  ",
          "polish  ",
          "nail  ",
          "nails  "
         ],
         "yaxis": "y215"
        },
        {
         "marker": {
          "color": "#009E73"
         },
         "orientation": "h",
         "type": "bar",
         "x": [
          0.00992921187388947,
          0.011617274125253518,
          0.012323407833523438,
          0.013632003514487233,
          0.013876637168221313,
          0.013996784557018534,
          0.01686470044755995,
          0.02239236518371794,
          0.03182366557166884,
          0.04088278694759115
         ],
         "xaxis": "x216",
         "y": [
          "time  ",
          "great  ",
          "busy  ",
          "waiting  ",
          "quick  ",
          "good  ",
          "fast  ",
          "long  ",
          "wait  ",
          "service  "
         ],
         "yaxis": "y216"
        },
        {
         "marker": {
          "color": "#F0E442"
         },
         "orientation": "h",
         "type": "bar",
         "x": [
          0.0054515470318876064,
          0.005514047755297729,
          0.00566531156975095,
          0.005692657758565727,
          0.0059405768519909,
          0.006329735503592111,
          0.007180474090490961,
          0.007552969522040896,
          0.030872796268542804,
          0.11636295943352275
         ],
         "xaxis": "x217",
         "y": [
          "twelves  ",
          "riverton  ",
          "center  ",
          "good  ",
          "love  ",
          "clinic  ",
          "always  ",
          "doctors  ",
          "medical  ",
          "granger  "
         ],
         "yaxis": "y217"
        },
        {
         "marker": {
          "color": "#D55E00"
         },
         "orientation": "h",
         "type": "bar",
         "x": [
          0.009910010323207083,
          0.009998108830706834,
          0.010736820667004196,
          0.01096573037227527,
          0.012178676921914627,
          0.01750657585597975,
          0.020555069513095898,
          0.02286011682830507,
          0.028915587375926612,
          0.07955114180303297
         ],
         "xaxis": "x218",
         "y": [
          "crisis  ",
          "counseling  ",
          "information  ",
          "women  ",
          "provide  ",
          "planned  ",
          "parenthood  ",
          "abortions  ",
          "pregnancy  ",
          "abortion  "
         ],
         "yaxis": "y218"
        },
        {
         "marker": {
          "color": "#0072B2"
         },
         "orientation": "h",
         "type": "bar",
         "x": [
          0.009596025282222944,
          0.009703084603176329,
          0.010656629359144656,
          0.012147797851751472,
          0.012268388215023351,
          0.0150317851945059,
          0.016994872446975305,
          0.018998264073640806,
          0.03726272330370636,
          0.07427072390947967
         ],
         "xaxis": "x219",
         "y": [
          "always  ",
          "job  ",
          "work  ",
          "are  ",
          "people  ",
          "friendly  ",
          "helpful  ",
          "nice  ",
          "workers  ",
          "employees  "
         ],
         "yaxis": "y219"
        },
        {
         "marker": {
          "color": "#CC79A7"
         },
         "orientation": "h",
         "type": "bar",
         "x": [
          0.007267899547408846,
          0.007377570285631307,
          0.007459418417357308,
          0.0074718165270515145,
          0.007948943007750503,
          0.008682430577129198,
          0.008869821331601635,
          0.008961943466342404,
          0.011934334967082277,
          0.01730347472380674
         ],
         "xaxis": "x220",
         "y": [
          "son  ",
          "we  ",
          "pediatrics  ",
          "daughter  ",
          "our  ",
          "dr  ",
          "pediatrician  ",
          "child  ",
          "children  ",
          "kids  "
         ],
         "yaxis": "y220"
        },
        {
         "marker": {
          "color": "#E69F00"
         },
         "orientation": "h",
         "type": "bar",
         "x": [
          0.010894415087594918,
          0.011226716873225137,
          0.01157263125572644,
          0.01377550738479159,
          0.01685168251258652,
          0.018526848309274674,
          0.02508592629197406,
          0.02705507376899663,
          0.038138194925456316,
          0.08029346242652671
         ],
         "xaxis": "x221",
         "y": [
          "building  ",
          "nice  ",
          "construction  ",
          "renovations  ",
          "looks  ",
          "store  ",
          "renovation  ",
          "remodeled  ",
          "remodeling  ",
          "remodel  "
         ],
         "yaxis": "y221"
        },
        {
         "marker": {
          "color": "#56B4E9"
         },
         "orientation": "h",
         "type": "bar",
         "x": [
          0.00651550237975069,
          0.006812592384660847,
          0.006819177030735557,
          0.0070272080414118,
          0.007387987008909816,
          0.008208854067929806,
          0.009177192955179448,
          0.00936046859650926,
          0.01827883859874658,
          0.0989450421541955
         ],
         "xaxis": "x222",
         "y": [
          "customer  ",
          "premium  ",
          "account  ",
          "pay  ",
          "healthcare  ",
          "coverage  ",
          "company  ",
          "insurance  ",
          "marketplace  ",
          "molina  "
         ],
         "yaxis": "y222"
        },
        {
         "marker": {
          "color": "#009E73"
         },
         "orientation": "h",
         "type": "bar",
         "x": [
          0.0089997802857366,
          0.009936197239209837,
          0.01001692339561899,
          0.010514972805448547,
          0.012685416783031308,
          0.014265856588910079,
          0.015302104410966345,
          0.029053779566725734,
          0.034127035717356646,
          0.04193513281436761
         ],
         "xaxis": "x223",
         "y": [
          "weekends  ",
          "prescription  ",
          "closing  ",
          "close  ",
          "pm  ",
          "closes  ",
          "hours  ",
          "open  ",
          "closed  ",
          "pharmacy  "
         ],
         "yaxis": "y223"
        },
        {
         "marker": {
          "color": "#F0E442"
         },
         "orientation": "h",
         "type": "bar",
         "x": [
          0.004150610807839914,
          0.004151848515241888,
          0.004572770297293516,
          0.005192318920019546,
          0.005649635742143832,
          0.00587782781039608,
          0.007868070163288225,
          0.013447125351720287,
          0.029197961864696646,
          0.031143616362373547
         ],
         "xaxis": "x224",
         "y": [
          "medicinal  ",
          "docs  ",
          "product  ",
          "dispensary  ",
          "recreational  ",
          "thc  ",
          "card  ",
          "medical  ",
          "cannabis  ",
          "marijuana  "
         ],
         "yaxis": "y224"
        },
        {
         "marker": {
          "color": "#D55E00"
         },
         "orientation": "h",
         "type": "bar",
         "x": [
          0.008878442635715543,
          0.009208658066190974,
          0.009845469455093661,
          0.010018104276315689,
          0.015457439815645317,
          0.015726571061787868,
          0.016009580093965713,
          0.016697666469336833,
          0.026419493998481498,
          0.030876138579782778
         ],
         "xaxis": "x225",
         "y": [
          "say  ",
          "its  ",
          "alright  ",
          "bilo  ",
          "it  ",
          "bad  ",
          "okay  ",
          "better  ",
          "good  ",
          "ok  "
         ],
         "yaxis": "y225"
        },
        {
         "marker": {
          "color": "#0072B2"
         },
         "orientation": "h",
         "type": "bar",
         "x": [
          0.00946241518127146,
          0.010242693577605088,
          0.010808119443964207,
          0.010986416928693097,
          0.011948046192070766,
          0.013193139084129472,
          0.01451389546261933,
          0.024780068761598315,
          0.03273764478163292,
          0.18013456546194387
         ],
         "xaxis": "x226",
         "y": [
          "prices  ",
          "menu  ",
          "remodeled  ",
          "weird  ",
          "stores  ",
          "grocery  ",
          "selection  ",
          "confusing  ",
          "store  ",
          "layout  "
         ],
         "yaxis": "y226"
        },
        {
         "marker": {
          "color": "#CC79A7"
         },
         "orientation": "h",
         "type": "bar",
         "x": [
          0.007997339196508408,
          0.009383024874045342,
          0.010825112366544182,
          0.011361475659127198,
          0.012592582721611654,
          0.012835939414834746,
          0.014834909919870125,
          0.01599248929686785,
          0.017464698002462406,
          0.019179803331894202
         ],
         "xaxis": "x227",
         "y": [
          "always  ",
          "recommend  ",
          "staff  ",
          "love  ",
          "great  ",
          "team  ",
          "awesome  ",
          "best  ",
          "amazing  ",
          "his  "
         ],
         "yaxis": "y227"
        },
        {
         "marker": {
          "color": "#E69F00"
         },
         "orientation": "h",
         "type": "bar",
         "x": [
          0.005834214277703298,
          0.005977934801600669,
          0.006543594391471162,
          0.00764573855378757,
          0.00852851058089386,
          0.009853126208764183,
          0.010298029003588432,
          0.013261909450826287,
          0.017217933278951682,
          0.07527762095625312
         ],
         "xaxis": "x228",
         "y": [
          "ear  ",
          "therapist  ",
          "inner  ",
          "vestibular  ",
          "balance  ",
          "pt  ",
          "ndbc  ",
          "dizzy  ",
          "dizziness  ",
          "vertigo  "
         ],
         "yaxis": "y228"
        },
        {
         "marker": {
          "color": "#56B4E9"
         },
         "orientation": "h",
         "type": "bar",
         "x": [
          0.007134466485406565,
          0.007146523552724022,
          0.007351597423546177,
          0.0074089908045350756,
          0.009068951521882756,
          0.011248935781847628,
          0.016511447383607682,
          0.017277425034822443,
          0.07320609464293475,
          0.10014788361927729
         ],
         "xaxis": "x229",
         "y": [
          "chairs  ",
          "benefits  ",
          "room  ",
          "relaxation  ",
          "spa  ",
          "meditation  ",
          "session  ",
          "relaxing  ",
          "cave  ",
          "salt  "
         ],
         "yaxis": "y229"
        },
        {
         "marker": {
          "color": "#009E73"
         },
         "orientation": "h",
         "type": "bar",
         "x": [
          0.006808338046101882,
          0.006828239173608837,
          0.007008091220300255,
          0.007938971470542625,
          0.00825772587932401,
          0.008385187060836163,
          0.008431509839965786,
          0.0104486909445146,
          0.014605778592129677,
          0.1438113141950494
         ],
         "xaxis": "x230",
         "y": [
          "very  ",
          "wonderful  ",
          "personable  ",
          "great  ",
          "her  ",
          "dr  ",
          "she  ",
          "kelly  ",
          "kims  ",
          "kim  "
         ],
         "yaxis": "y230"
        },
        {
         "marker": {
          "color": "#F0E442"
         },
         "orientation": "h",
         "type": "bar",
         "x": [
          0.0053595130772824805,
          0.0054404868666780735,
          0.0054479318997515324,
          0.005967206053826619,
          0.006089727272276993,
          0.006696422892061528,
          0.007085639100181213,
          0.007224930777822504,
          0.00992649655762701,
          0.015014609672570883
         ],
         "xaxis": "x231",
         "y": [
          "they  ",
          "people  ",
          "about  ",
          "health  ",
          "do  ",
          "their  ",
          "patient  ",
          "doctors  ",
          "care  ",
          "patients  "
         ],
         "yaxis": "y231"
        },
        {
         "marker": {
          "color": "#D55E00"
         },
         "orientation": "h",
         "type": "bar",
         "x": [
          0.012828085172010926,
          0.013119118484012704,
          0.014972929189924605,
          0.018894456827490018,
          0.02049456371897405,
          0.020976092971900277,
          0.024955744723208377,
          0.0344208015391151,
          0.03578621106982072,
          0.07877039078958246
         ],
         "xaxis": "x232",
         "y": [
          "juice  ",
          "buy  ",
          "pepsi  ",
          "water  ",
          "diet  ",
          "sodas  ",
          "drinks  ",
          "fountain  ",
          "coke  ",
          "soda  "
         ],
         "yaxis": "y232"
        },
        {
         "marker": {
          "color": "#0072B2"
         },
         "orientation": "h",
         "type": "bar",
         "x": [
          0.009662923777804065,
          0.01374143106406535,
          0.015243459464855415,
          0.01684718090489769,
          0.0307003734945457,
          0.03264782987799108,
          0.0340044163691377,
          0.04576997398138767,
          0.049310061280663064,
          0.10183378912781983
         ],
         "xaxis": "x233",
         "y": [
          "love  ",
          "mlm  ",
          "quality  ",
          "product  ",
          "products  ",
          "essential  ",
          "oil  ",
          "bloom  ",
          "jade  ",
          "oils  "
         ],
         "yaxis": "y233"
        },
        {
         "marker": {
          "color": "#CC79A7"
         },
         "orientation": "h",
         "type": "bar",
         "x": [
          0.009235550300478916,
          0.009778671069728278,
          0.010403659027395895,
          0.012174625151586696,
          0.013504920706119477,
          0.013814865629359943,
          0.02330731987916785,
          0.023439016451414017,
          0.0753529661180103,
          0.16696498392466486
         ],
         "xaxis": "x234",
         "y": [
          "shopping  ",
          "deli  ",
          "shop  ",
          "fresh  ",
          "ingles  ",
          "selection  ",
          "inside  ",
          "store  ",
          "coffee  ",
          "starbucks  "
         ],
         "yaxis": "y234"
        },
        {
         "marker": {
          "color": "#E69F00"
         },
         "orientation": "h",
         "type": "bar",
         "x": [
          0.006072608300554967,
          0.006313204411908169,
          0.006501549188685942,
          0.006747563919074604,
          0.0070619165662460385,
          0.007370829896884491,
          0.008223058478476309,
          0.009781656418566634,
          0.00992604060124054,
          0.033164331337613887
         ],
         "xaxis": "x235",
         "y": [
          "experience  ",
          "questions  ",
          "staff  ",
          "made  ",
          "explained  ",
          "professional  ",
          "very  ",
          "comfortable  ",
          "procedures  ",
          "procedure  "
         ],
         "yaxis": "y235"
        },
        {
         "marker": {
          "color": "#56B4E9"
         },
         "orientation": "h",
         "type": "bar",
         "x": [
          0.004335634953585892,
          0.004483958332306141,
          0.004869308751391438,
          0.005127196158724364,
          0.005312381734706381,
          0.005340163044963795,
          0.007267895929016564,
          0.008688938271256514,
          0.026638574920775013,
          0.07545926287963094
         ],
         "xaxis": "x236",
         "y": [
          "pembroke  ",
          "moved  ",
          "summerlin  ",
          "view  ",
          "location  ",
          "care  ",
          "baires  ",
          "utah  ",
          "clinic  ",
          "ogden  "
         ],
         "yaxis": "y236"
        },
        {
         "marker": {
          "color": "#009E73"
         },
         "orientation": "h",
         "type": "bar",
         "x": [
          0.01029360248605639,
          0.011442131573946565,
          0.011683876391926902,
          0.011966477446692826,
          0.012497848064688066,
          0.01328930645121701,
          0.015068521888169088,
          0.016030032886782692,
          0.017213585815832353,
          0.03396716686220731
         ],
         "xaxis": "x237",
         "y": [
          "was  ",
          "polite  ",
          "long  ",
          "quickly  ",
          "fast  ",
          "wait  ",
          "quick  ",
          "friendly  ",
          "nice  ",
          "everyone  "
         ],
         "yaxis": "y237"
        },
        {
         "marker": {
          "color": "#F0E442"
         },
         "orientation": "h",
         "type": "bar",
         "x": [
          0.011914900946139102,
          0.012058020369126541,
          0.01567754738192279,
          0.017276486375347337,
          0.019334654033219132,
          0.020767153460307185,
          0.02325235163763465,
          0.02422248911723707,
          0.03808466598485056,
          0.04219807202912135
         ],
         "xaxis": "x238",
         "y": [
          "taste  ",
          "drinks  ",
          "healthy  ",
          "delicious  ",
          "herbalife  ",
          "shake  ",
          "smoothies  ",
          "tea  ",
          "smoothie  ",
          "shakes  "
         ],
         "yaxis": "y238"
        },
        {
         "marker": {
          "color": "#D55E00"
         },
         "orientation": "h",
         "type": "bar",
         "x": [
          0.013406831528588606,
          0.014696044364168612,
          0.01480991306584433,
          0.015101314499743088,
          0.015429677329418268,
          0.015545269448524248,
          0.01953910109105194,
          0.019787707532834008,
          0.02251018123874749,
          0.19177303324372122
         ],
         "xaxis": "x239",
         "y": [
          "fruit  ",
          "market  ",
          "local  ",
          "marketplace  ",
          "grocery  ",
          "store  ",
          "produce  ",
          "love  ",
          "shopping  ",
          "lees  "
         ],
         "yaxis": "y239"
        },
        {
         "marker": {
          "color": "#0072B2"
         },
         "orientation": "h",
         "type": "bar",
         "x": [
          0.007587829155881176,
          0.008340027407591592,
          0.01049457770820953,
          0.010690240763975893,
          0.010707449315169282,
          0.012376010632356297,
          0.01887781664139561,
          0.023225929838051124,
          0.023230199750465898,
          0.02969092614333028
         ],
         "xaxis": "x240",
         "y": [
          "service  ",
          "family  ",
          "quality  ",
          "wonderful  ",
          "friendly  ",
          "great  ",
          "caring  ",
          "excellent  ",
          "staff  ",
          "care  "
         ],
         "yaxis": "y240"
        },
        {
         "marker": {
          "color": "#CC79A7"
         },
         "orientation": "h",
         "type": "bar",
         "x": [
          0.005504692231794284,
          0.005509100631895549,
          0.005697511463977003,
          0.006199097130263527,
          0.006268377476691253,
          0.006400592981092566,
          0.007340998866215242,
          0.010795585348525113,
          0.057617589674840805,
          0.08500101833827066
         ],
         "xaxis": "x241",
         "y": [
          "appointment  ",
          "primary  ",
          "specialist  ",
          "visit  ",
          "labs  ",
          "labcorp  ",
          "easy  ",
          "care  ",
          "zoomcare  ",
          "zoom  "
         ],
         "yaxis": "y241"
        },
        {
         "marker": {
          "color": "#E69F00"
         },
         "orientation": "h",
         "type": "bar",
         "x": [
          0.004500948974440809,
          0.004993071185350382,
          0.0057994955791983984,
          0.005802095424868479,
          0.006229973623037165,
          0.007310773724013773,
          0.007530213301213054,
          0.009582547701142566,
          0.022888355605551493,
          0.0371412295255469
         ],
         "xaxis": "x242",
         "y": [
          "therapy  ",
          "cervical  ",
          "dr  ",
          "interventions  ",
          "surgery  ",
          "fusion  ",
          "scoliosis  ",
          "pain  ",
          "spinal  ",
          "spine  "
         ],
         "yaxis": "y242"
        },
        {
         "marker": {
          "color": "#56B4E9"
         },
         "orientation": "h",
         "type": "bar",
         "x": [
          0.007514865708951187,
          0.008281417403656826,
          0.008465210879928898,
          0.008819731330333784,
          0.009124445755010193,
          0.009854203941264714,
          0.011416606469629996,
          0.013515426736840194,
          0.017534324650291703,
          0.04098352147749782
         ],
         "xaxis": "x243",
         "y": [
          "staff  ",
          "wonderful  ",
          "love  ",
          "always  ",
          "his  ",
          "thank  ",
          "beautiful  ",
          "dr  ",
          "smiles  ",
          "smile  "
         ],
         "yaxis": "y243"
        },
        {
         "marker": {
          "color": "#009E73"
         },
         "orientation": "h",
         "type": "bar",
         "x": [
          0.004396892131606527,
          0.004649375585284533,
          0.004676849216257433,
          0.005331186738580414,
          0.005353808807471618,
          0.005732977067068652,
          0.008099411523819502,
          0.00997304022411858,
          0.010048319904882492,
          0.06198798293838305
         ],
         "xaxis": "x244",
         "y": [
          "inserted  ",
          "parenthood  ",
          "mirena  ",
          "obgyn  ",
          "iuds  ",
          "removed  ",
          "insertion  ",
          "control  ",
          "birth  ",
          "iud  "
         ],
         "yaxis": "y244"
        },
        {
         "marker": {
          "color": "#F0E442"
         },
         "orientation": "h",
         "type": "bar",
         "x": [
          0.005429885220526379,
          0.006363351111037589,
          0.00665872575630729,
          0.006843739263355647,
          0.00857455487045952,
          0.009501485703306113,
          0.009536150438615448,
          0.010641624085260341,
          0.012069021744736706,
          0.0324666196168686
         ],
         "xaxis": "x245",
         "y": [
          "bladder  ",
          "sample  ",
          "kidney  ",
          "symptoms  ",
          "antibiotics  ",
          "antibiotic  ",
          "culture  ",
          "infection  ",
          "urine  ",
          "uti  "
         ],
         "yaxis": "y245"
        },
        {
         "marker": {
          "color": "#D55E00"
         },
         "orientation": "h",
         "type": "bar",
         "x": [
          0.007023491746282754,
          0.007028110368825514,
          0.007208677946881222,
          0.011640022770641328,
          0.012128333463649516,
          0.013129916270410765,
          0.014745501747270833,
          0.01599742252311902,
          0.016198897493175882,
          0.02078911846806092
         ],
         "xaxis": "x246",
         "y": [
          "prices  ",
          "discount  ",
          "rewards  ",
          "store  ",
          "card  ",
          "items  ",
          "coupon  ",
          "coupons  ",
          "price  ",
          "sale  "
         ],
         "yaxis": "y246"
        },
        {
         "marker": {
          "color": "#0072B2"
         },
         "orientation": "h",
         "type": "bar",
         "x": [
          0.006509452470743446,
          0.0066322923943814135,
          0.007006876648939853,
          0.008794826253809092,
          0.008813203981998186,
          0.011247418891352695,
          0.012869051553087601,
          0.013194192880738514,
          0.017446951909334377,
          0.04642713909154239
         ],
         "xaxis": "x247",
         "y": [
          "ent  ",
          "breathe  ",
          "he  ",
          "nasal  ",
          "nostril  ",
          "surgery  ",
          "rhinoplasty  ",
          "deviated  ",
          "septum  ",
          "nose  "
         ],
         "yaxis": "y247"
        },
        {
         "marker": {
          "color": "#CC79A7"
         },
         "orientation": "h",
         "type": "bar",
         "x": [
          0.007116803030618134,
          0.007246027561659142,
          0.008346986436939503,
          0.0083732289543001,
          0.010244720153918687,
          0.011137219211163615,
          0.012005433834588295,
          0.017309602821004133,
          0.0524563903223364,
          0.05548334020315599
         ],
         "xaxis": "x248",
         "y": [
          "lay  ",
          "maternity  ",
          "relaxing  ",
          "postpartum  ",
          "therapist  ",
          "pregnancy  ",
          "massages  ",
          "pregnant  ",
          "prenatal  ",
          "massage  "
         ],
         "yaxis": "y248"
        },
        {
         "marker": {
          "color": "#E69F00"
         },
         "orientation": "h",
         "type": "bar",
         "x": [
          0.005842947537308747,
          0.006087804276525495,
          0.007141990773940096,
          0.007172354638279909,
          0.009340865708631595,
          0.010032706406860445,
          0.01075683856291432,
          0.012223012592128909,
          0.02298937636542725,
          0.036176084546671344
         ],
         "xaxis": "x249",
         "y": [
          "disrespectful  ",
          "are  ",
          "people  ",
          "managers  ",
          "management  ",
          "workers  ",
          "employee  ",
          "manager  ",
          "rude  ",
          "employees  "
         ],
         "yaxis": "y249"
        },
        {
         "marker": {
          "color": "#56B4E9"
         },
         "orientation": "h",
         "type": "bar",
         "x": [
          0.015315883241798727,
          0.016562566744498936,
          0.017897107449135755,
          0.02364497049339176,
          0.024920144534872925,
          0.02571652502835167,
          0.0320951805670642,
          0.033613821105001634,
          0.038697850486621534,
          0.08481740432368516
         ],
         "xaxis": "x250",
         "y": [
          "route  ",
          "gyms  ",
          "rope  ",
          "ve  ",
          "bouldering  ",
          "climb  ",
          "gym  ",
          "belay  ",
          "routes  ",
          "climbing  "
         ],
         "yaxis": "y250"
        },
        {
         "marker": {
          "color": "#009E73"
         },
         "orientation": "h",
         "type": "bar",
         "x": [
          0.0054637582007317905,
          0.0057106779104122065,
          0.005962430941016951,
          0.006065107424758595,
          0.007331067268595859,
          0.007408559027494465,
          0.008966799159338672,
          0.012173353849276657,
          0.01548894884141171,
          0.029599219185750418
         ],
         "xaxis": "x251",
         "y": [
          "injured  ",
          "sports  ",
          "knowledgeable  ",
          "help  ",
          "team  ",
          "helped  ",
          "accident  ",
          "recovery  ",
          "injuries  ",
          "injury  "
         ],
         "yaxis": "y251"
        },
        {
         "marker": {
          "color": "#F0E442"
         },
         "orientation": "h",
         "type": "bar",
         "x": [
          0.004386484772975416,
          0.004524611400123203,
          0.004616781789431337,
          0.004686232396227621,
          0.005387199904102345,
          0.0067836740988866575,
          0.006902468329096306,
          0.01153775865086556,
          0.012453000426275812,
          0.08259263232712888
         ],
         "xaxis": "x252",
         "y": [
          "professional  ",
          "has  ",
          "truly  ",
          "concerns  ",
          "pitts  ",
          "he  ",
          "him  ",
          "his  ",
          "dr  ",
          "smith  "
         ],
         "yaxis": "y252"
        },
        {
         "marker": {
          "color": "#D55E00"
         },
         "orientation": "h",
         "type": "bar",
         "x": [
          0.005518119330166952,
          0.005598595055949256,
          0.005651467332105413,
          0.005691443903960079,
          0.00570924538052972,
          0.006381848531224992,
          0.009575157676721383,
          0.016396555985257213,
          0.020459574455457152,
          0.03460360277056287
         ],
         "xaxis": "x253",
         "y": [
          "were  ",
          "professional  ",
          "staff  ",
          "easy  ",
          "was  ",
          "very  ",
          "results  ",
          "tests  ",
          "testing  ",
          "test  "
         ],
         "yaxis": "y253"
        },
        {
         "marker": {
          "color": "#0072B2"
         },
         "orientation": "h",
         "type": "bar",
         "x": [
          0.004352814410717266,
          0.0046906846185011414,
          0.0050760145496873,
          0.005208655154025321,
          0.005593297903156487,
          0.006213238502183386,
          0.006603564904762637,
          0.008581343773802633,
          0.010045341741476742,
          0.013020592512663163
         ],
         "xaxis": "x254",
         "y": [
          "reschedule  ",
          "an  ",
          "hung  ",
          "phone  ",
          "she  ",
          "lady  ",
          "called  ",
          "receptionist  ",
          "appointment  ",
          "rude  "
         ],
         "yaxis": "y254"
        },
        {
         "marker": {
          "color": "#CC79A7"
         },
         "orientation": "h",
         "type": "bar",
         "x": [
          0.009086685257688291,
          0.009699269544668182,
          0.009938870620548036,
          0.009961258211650902,
          0.011435608033528432,
          0.011921658782117102,
          0.015241771466306701,
          0.015395978398697933,
          0.022537946392263218,
          0.06933711243410351
         ],
         "xaxis": "x255",
         "y": [
          "atmosphere  ",
          "feel  ",
          "feeling  ",
          "session  ",
          "experience  ",
          "calming  ",
          "relax  ",
          "relaxation  ",
          "relaxed  ",
          "relaxing  "
         ],
         "yaxis": "y255"
        },
        {
         "marker": {
          "color": "#E69F00"
         },
         "orientation": "h",
         "type": "bar",
         "x": [
          0.012286470745437008,
          0.012498353966926225,
          0.012506210994025579,
          0.013857040902269134,
          0.01438239123725037,
          0.0166968049618557,
          0.016931973454158023,
          0.018294816455731312,
          0.022405719648719635,
          0.053931059708036716
         ],
         "xaxis": "x256",
         "y": [
          "grocery  ",
          "good  ",
          "shopping  ",
          "shop  ",
          "foods  ",
          "selection  ",
          "deli  ",
          "fresh  ",
          "store  ",
          "food  "
         ],
         "yaxis": "y256"
        },
        {
         "marker": {
          "color": "#56B4E9"
         },
         "orientation": "h",
         "type": "bar",
         "x": [
          0.009492732067499765,
          0.009546839676093467,
          0.011929781045170914,
          0.012727198357678797,
          0.012983601611419886,
          0.01384388131926603,
          0.019886854768065322,
          0.029220899564707793,
          0.03314114951137401,
          0.057337410612997915
         ],
         "xaxis": "x257",
         "y": [
          "cigars  ",
          "prices  ",
          "smokers  ",
          "product  ",
          "pipe  ",
          "shop  ",
          "cigarettes  ",
          "tobacco  ",
          "smoking  ",
          "smoke  "
         ],
         "yaxis": "y257"
        },
        {
         "marker": {
          "color": "#009E73"
         },
         "orientation": "h",
         "type": "bar",
         "x": [
          0.003910596053175066,
          0.004014775548728792,
          0.004416971875190954,
          0.00447782272567834,
          0.004485471600924125,
          0.004577211006867432,
          0.004732982172823788,
          0.005749375274534374,
          0.005931161120892078,
          0.008254750661700063
         ],
         "xaxis": "x258",
         "y": [
          "prescribed  ",
          "depression  ",
          "me  ",
          "she  ",
          "mental  ",
          "medications  ",
          "anxiety  ",
          "psychiatrist  ",
          "meds  ",
          "medication  "
         ],
         "yaxis": "y258"
        },
        {
         "marker": {
          "color": "#F0E442"
         },
         "orientation": "h",
         "type": "bar",
         "x": [
          0.006611056283216149,
          0.0066627144916350635,
          0.008199505480924086,
          0.008615605439147103,
          0.008684685256052895,
          0.008898922095325184,
          0.009055060700029927,
          0.009524524767466512,
          0.010128333764296008,
          0.029911339655988717
         ],
         "xaxis": "x259",
         "y": [
          "dermatologist  ",
          "scabies  ",
          "ivy  ",
          "allergic  ",
          "eczema  ",
          "reaction  ",
          "poison  ",
          "cream  ",
          "skin  ",
          "rash  "
         ],
         "yaxis": "y259"
        },
        {
         "marker": {
          "color": "#D55E00"
         },
         "orientation": "h",
         "type": "bar",
         "x": [
          0.005076066695941549,
          0.005078495934668938,
          0.005094654945401316,
          0.005229406506895588,
          0.0058743374468170585,
          0.006915127161288261,
          0.007322961287893272,
          0.012524614564606452,
          0.015247657437442377,
          0.05421030512652744
         ],
         "xaxis": "x260",
         "y": [
          "take  ",
          "you  ",
          "they  ",
          "do  ",
          "govt  ",
          "insurance  ",
          "health  ",
          "accept  ",
          "medicare  ",
          "medicaid  "
         ],
         "yaxis": "y260"
        },
        {
         "marker": {
          "color": "#0072B2"
         },
         "orientation": "h",
         "type": "bar",
         "x": [
          0.013568576057086378,
          0.015293077572691126,
          0.018207319297551032,
          0.018720889161048335,
          0.037709258059143116,
          0.04073443234320721,
          0.04382319539219542,
          0.07130344870940641,
          0.07328172900308323,
          0.09358110185956268
         ],
         "xaxis": "x261",
         "y": [
          "organized  ",
          "very  ",
          "convenient  ",
          "quickly  ",
          "friendly  ",
          "staff  ",
          "easy  ",
          "efficient  ",
          "fast  ",
          "quick  "
         ],
         "yaxis": "y261"
        },
        {
         "marker": {
          "color": "#CC79A7"
         },
         "orientation": "h",
         "type": "bar",
         "x": [
          0.004709350626430412,
          0.005955247665603961,
          0.006037601639318362,
          0.006358506685618807,
          0.007727667002297818,
          0.011209694046073535,
          0.011420426620452692,
          0.012047171022365018,
          0.014689877267181678,
          0.028660391288443193
         ],
         "xaxis": "x262",
         "y": [
          "symptoms  ",
          "digestive  ",
          "gi  ",
          "dr  ",
          "issues  ",
          "gastroenterologist  ",
          "stomach  ",
          "gastro  ",
          "utah  ",
          "gastroenterology  "
         ],
         "yaxis": "y262"
        },
        {
         "marker": {
          "color": "#E69F00"
         },
         "orientation": "h",
         "type": "bar",
         "x": [
          0.010260244043172564,
          0.010505447229941057,
          0.010549412853258474,
          0.011272493671664828,
          0.013648716821331003,
          0.01374187243832439,
          0.014484620286344872,
          0.01724452646366275,
          0.02040287725124764,
          0.03140599462900683
         ],
         "xaxis": "x263",
         "y": [
          "coach  ",
          "body  ",
          "diet  ",
          "lbs  ",
          "fat  ",
          "trainer  ",
          "weight  ",
          "nutrition  ",
          "chris  ",
          "mike  "
         ],
         "yaxis": "y263"
        },
        {
         "marker": {
          "color": "#56B4E9"
         },
         "orientation": "h",
         "type": "bar",
         "x": [
          0.0067732913885880435,
          0.007070232534840783,
          0.007245985541050095,
          0.00804196535110706,
          0.00825063737169006,
          0.008304467683952741,
          0.011100686530461574,
          0.011575663554312214,
          0.06403943576405297,
          0.07200551380370315
         ],
         "xaxis": "x264",
         "y": [
          "service  ",
          "scripts  ",
          "call  ",
          "pick  ",
          "order  ",
          "ready  ",
          "minnmed  ",
          "refilling  ",
          "refill  ",
          "refills  "
         ],
         "yaxis": "y264"
        },
        {
         "marker": {
          "color": "#009E73"
         },
         "orientation": "h",
         "type": "bar",
         "x": [
          0.0046384992737567325,
          0.004935814062457118,
          0.00516062484640494,
          0.005280823697816599,
          0.005284480272484572,
          0.007809170562548895,
          0.008928090701138279,
          0.011379264620200634,
          0.019398806378903174,
          0.02853139441546259
         ],
         "xaxis": "x265",
         "y": [
          "get  ",
          "blood  ",
          "days  ",
          "tests  ",
          "called  ",
          "call  ",
          "labs  ",
          "test  ",
          "lab  ",
          "results  "
         ],
         "yaxis": "y265"
        },
        {
         "marker": {
          "color": "#F0E442"
         },
         "orientation": "h",
         "type": "bar",
         "x": [
          0.008386884119807909,
          0.00882458582495048,
          0.008966197702417075,
          0.009427339340942927,
          0.009452299647244906,
          0.009468342237784729,
          0.009697770719763467,
          0.009944865211092495,
          0.010836044453610126,
          0.040318400346049
         ],
         "xaxis": "x266",
         "y": [
          "you  ",
          "about  ",
          "they  ",
          "dollars  ",
          "do  ",
          "people  ",
          "cash  ",
          "want  ",
          "your  ",
          "money  "
         ],
         "yaxis": "y266"
        },
        {
         "marker": {
          "color": "#D55E00"
         },
         "orientation": "h",
         "type": "bar",
         "x": [
          0.006817494079207073,
          0.008474739471631692,
          0.008478778669684127,
          0.0111824559387689,
          0.011580392311327735,
          0.01524043215283515,
          0.01540265681173138,
          0.021390792794814525,
          0.025204726726110276,
          0.039764169507622585
         ],
         "xaxis": "x267",
         "y": [
          "vegetarian  ",
          "selection  ",
          "nutrition  ",
          "herbalife  ",
          "product  ",
          "vitamin  ",
          "supplement  ",
          "vitamins  ",
          "products  ",
          "supplements  "
         ],
         "yaxis": "y267"
        },
        {
         "marker": {
          "color": "#0072B2"
         },
         "orientation": "h",
         "type": "bar",
         "x": [
          0.009359534725780463,
          0.010414875657775944,
          0.010501911681723465,
          0.01158928054305397,
          0.011777759130428623,
          0.013668080495669472,
          0.014780077894757153,
          0.024062866225884168,
          0.03225882620077494,
          0.07180251135776208
         ],
         "xaxis": "x268",
         "y": [
          "selection  ",
          "lake  ",
          "salt  ",
          "shop  ",
          "prices  ",
          "best  ",
          "stores  ",
          "store  ",
          "grocery  ",
          "utah  "
         ],
         "yaxis": "y268"
        },
        {
         "marker": {
          "color": "#CC79A7"
         },
         "orientation": "h",
         "type": "bar",
         "x": [
          0.005338877410811531,
          0.005721098295981121,
          0.0060560321488673866,
          0.006464154258466063,
          0.006597373124017763,
          0.006830144692879249,
          0.006880173136895956,
          0.007261865553358362,
          0.008272511940358426,
          0.008957638138612282
         ],
         "xaxis": "x269",
         "y": [
          "visit  ",
          "helpful  ",
          "was  ",
          "professional  ",
          "were  ",
          "doctor  ",
          "dr  ",
          "friendly  ",
          "very  ",
          "staff  "
         ],
         "yaxis": "y269"
        },
        {
         "marker": {
          "color": "#E69F00"
         },
         "orientation": "h",
         "type": "bar",
         "x": [
          0.004710362623569697,
          0.004761175993691612,
          0.005040273010631279,
          0.00575703801123185,
          0.006876975134989245,
          0.007489672340121406,
          0.009166979422725518,
          0.01151270727397847,
          0.014487119109440439,
          0.01918260825253488
         ],
         "xaxis": "x270",
         "y": [
          "security  ",
          "color  ",
          "racism  ",
          "employee  ",
          "employees  ",
          "manager  ",
          "store  ",
          "white  ",
          "black  ",
          "racist  "
         ],
         "yaxis": "y270"
        },
        {
         "marker": {
          "color": "#56B4E9"
         },
         "orientation": "h",
         "type": "bar",
         "x": [
          0.006058950127571081,
          0.006304440920643561,
          0.007400386115523738,
          0.007513139085643124,
          0.0076974567914857165,
          0.007779796895429273,
          0.008939554953322267,
          0.009154844499527786,
          0.00967080747084212,
          0.1450145139229867
         ],
         "xaxis": "x271",
         "y": [
          "wonderful  ",
          "love  ",
          "church  ",
          "great  ",
          "her  ",
          "amazing  ",
          "kids  ",
          "heathers  ",
          "she  ",
          "heather  "
         ],
         "yaxis": "y271"
        },
        {
         "marker": {
          "color": "#009E73"
         },
         "orientation": "h",
         "type": "bar",
         "x": [
          0.004413838945804421,
          0.004472754478642701,
          0.004550104236577947,
          0.00473846094046849,
          0.005184242030684481,
          0.005817527744193845,
          0.006047549139111965,
          0.007461594742533819,
          0.011771262781463943,
          0.014393200536721626
         ],
         "xaxis": "x272",
         "y": [
          "doctors  ",
          "help  ",
          "you  ",
          "treatment  ",
          "symptoms  ",
          "dr  ",
          "see  ",
          "problem  ",
          "diagnosis  ",
          "doctor  "
         ],
         "yaxis": "y272"
        },
        {
         "marker": {
          "color": "#F0E442"
         },
         "orientation": "h",
         "type": "bar",
         "x": [
          0.006280115952733837,
          0.006381968999407787,
          0.006741103047257876,
          0.008226409684234506,
          0.008447554518014114,
          0.009058685491506208,
          0.009274979302840627,
          0.00933232072010156,
          0.010382466845887256,
          0.012018752317217576
         ],
         "xaxis": "x273",
         "y": [
          "waited  ",
          "signed  ",
          "waiting  ",
          "sign  ",
          "paperwork  ",
          "wait  ",
          "hour  ",
          "registration  ",
          "register  ",
          "online  "
         ],
         "yaxis": "y273"
        },
        {
         "marker": {
          "color": "#D55E00"
         },
         "orientation": "h",
         "type": "bar",
         "x": [
          0.006296259552558941,
          0.00723352845586529,
          0.007342654913275519,
          0.008192086496733786,
          0.009098177437283505,
          0.010876932597100996,
          0.012547720092969419,
          0.014731599960923415,
          0.025981269957860164,
          0.05988949352772525
         ],
         "xaxis": "x274",
         "y": [
          "friendly  ",
          "efficient  ",
          "questions  ",
          "dot  ",
          "professional  ",
          "very  ",
          "examination  ",
          "exams  ",
          "thorough  ",
          "exam  "
         ],
         "yaxis": "y274"
        },
        {
         "marker": {
          "color": "#0072B2"
         },
         "orientation": "h",
         "type": "bar",
         "x": [
          0.010307453563147616,
          0.010560395825266918,
          0.011421619583148053,
          0.012987171719122486,
          0.013301486197307822,
          0.015784303233555858,
          0.02895993881886136,
          0.034991856471777494,
          0.045436968852480414,
          0.06963938398396005
         ],
         "xaxis": "x275",
         "y": [
          "picture  ",
          "dimensions  ",
          "printing  ",
          "printed  ",
          "print  ",
          "image  ",
          "pictures  ",
          "passport  ",
          "photos  ",
          "photo  "
         ],
         "yaxis": "y275"
        },
        {
         "marker": {
          "color": "#CC79A7"
         },
         "orientation": "h",
         "type": "bar",
         "x": [
          0.005085309788621898,
          0.005359278999852444,
          0.0061673757393361705,
          0.007895148758848697,
          0.00828027906222073,
          0.009416458325084429,
          0.009597682149076628,
          0.011794851118241023,
          0.013825246715855095,
          0.07795801186883178
         ],
         "xaxis": "x276",
         "y": [
          "facials  ",
          "massages  ",
          "atmosphere  ",
          "services  ",
          "facial  ",
          "spavia  ",
          "spas  ",
          "relaxing  ",
          "massage  ",
          "spa  "
         ],
         "yaxis": "y276"
        },
        {
         "marker": {
          "color": "#E69F00"
         },
         "orientation": "h",
         "type": "bar",
         "x": [
          0.008019987223095368,
          0.008640014624156221,
          0.011220532051545712,
          0.012166759031303686,
          0.013974604930529747,
          0.014837275910879317,
          0.018436135616837646,
          0.029848011267093768,
          0.03064127941174245,
          0.042733866403090986
         ],
         "xaxis": "x277",
         "y": [
          "food  ",
          "bagger  ",
          "grocery  ",
          "bagging  ",
          "items  ",
          "store  ",
          "baggers  ",
          "bags  ",
          "groceries  ",
          "bag  "
         ],
         "yaxis": "y277"
        },
        {
         "marker": {
          "color": "#56B4E9"
         },
         "orientation": "h",
         "type": "bar",
         "x": [
          0.013167278491874481,
          0.013225999730861422,
          0.013253735269256633,
          0.014114237189347859,
          0.015174431282683391,
          0.01647081215421913,
          0.01830144271823303,
          0.021789721605393324,
          0.032669000755852017,
          0.2789121053586826
         ],
         "xaxis": "x278",
         "y": [
          "easy  ",
          "daniel  ",
          "amazing  ",
          "helpful  ",
          "flavia  ",
          "informative  ",
          "process  ",
          "awesome  ",
          "excited  ",
          "miguel  "
         ],
         "yaxis": "y278"
        },
        {
         "marker": {
          "color": "#009E73"
         },
         "orientation": "h",
         "type": "bar",
         "x": [
          0.00889631344331011,
          0.009604033841331442,
          0.009745548149639365,
          0.010243687259032347,
          0.010401442778222249,
          0.011157883892794571,
          0.014353248578328896,
          0.017686568271709696,
          0.03688231210677057,
          0.11002564755104743
         ],
         "xaxis": "x279",
         "y": [
          "hot  ",
          "relaxing  ",
          "massage  ",
          "saunas  ",
          "towels  ",
          "tub  ",
          "sweat  ",
          "steam  ",
          "infrared  ",
          "sauna  "
         ],
         "yaxis": "y279"
        },
        {
         "marker": {
          "color": "#F0E442"
         },
         "orientation": "h",
         "type": "bar",
         "x": [
          0.012517836781670198,
          0.015367464463567808,
          0.01611572422752684,
          0.01734964556038184,
          0.018263220737208097,
          0.021632566415910975,
          0.024939079019646513,
          0.02869417263995877,
          0.031742382699267345,
          0.21051888494259882
         ],
         "xaxis": "x280",
         "y": [
          "love  ",
          "sales  ",
          "deals  ",
          "items  ",
          "store  ",
          "prices  ",
          "market  ",
          "produce  ",
          "meat  ",
          "kents  "
         ],
         "yaxis": "y280"
        },
        {
         "marker": {
          "color": "#D55E00"
         },
         "orientation": "h",
         "type": "bar",
         "x": [
          0.006651558193203828,
          0.006691833782490552,
          0.007379241014016738,
          0.008625420042010674,
          0.010220341577320192,
          0.010240812695627847,
          0.015543408161666175,
          0.01729750093830854,
          0.07030733988939114,
          0.13329077032559922
         ],
         "xaxis": "x281",
         "y": [
          "membership  ",
          "relaxation  ",
          "whitefish  ",
          "monthly  ",
          "massages  ",
          "relaxing  ",
          "therapists  ",
          "therapist  ",
          "massage  ",
          "elements  "
         ],
         "yaxis": "y281"
        },
        {
         "marker": {
          "color": "#0072B2"
         },
         "orientation": "h",
         "type": "bar",
         "x": [
          0.008187908886359986,
          0.009347274128192052,
          0.009393681749295335,
          0.01065624419455427,
          0.011273022346951263,
          0.011658550746044773,
          0.0118705326243746,
          0.01594221625155522,
          0.03933038812796667,
          0.04090914042369574
         ],
         "xaxis": "x282",
         "y": [
          "unprofessional  ",
          "calling  ",
          "answered  ",
          "person  ",
          "phones  ",
          "people  ",
          "answers  ",
          "answer  ",
          "rude  ",
          "phone  "
         ],
         "yaxis": "y282"
        },
        {
         "marker": {
          "color": "#CC79A7"
         },
         "orientation": "h",
         "type": "bar",
         "x": [
          0.008950845737071651,
          0.00924226194613129,
          0.011546871059012183,
          0.012019395895274062,
          0.015993387328001905,
          0.016872676100486105,
          0.01722096351160017,
          0.02038520287711344,
          0.023766093147162482,
          0.10914721129077049
         ],
         "xaxis": "x283",
         "y": [
          "listen  ",
          "efficient  ",
          "kind  ",
          "personable  ",
          "knowledgeable  ",
          "always  ",
          "very  ",
          "compassionate  ",
          "professional  ",
          "caring  "
         ],
         "yaxis": "y283"
        },
        {
         "marker": {
          "color": "#E69F00"
         },
         "orientation": "h",
         "type": "bar",
         "x": [
          0.008758096419993762,
          0.008851754833184698,
          0.009904493106492605,
          0.01187817188180124,
          0.013674747520533142,
          0.014596493101780806,
          0.015359929462596856,
          0.026074829806217233,
          0.03049669722229461,
          0.05949148858220429
         ],
         "xaxis": "x284",
         "y": [
          "beautiful  ",
          "wonderful  ",
          "greeted  ",
          "friendly  ",
          "always  ",
          "faces  ",
          "staff  ",
          "smiling  ",
          "smiles  ",
          "smile  "
         ],
         "yaxis": "y284"
        },
        {
         "marker": {
          "color": "#56B4E9"
         },
         "orientation": "h",
         "type": "bar",
         "x": [
          0.005858894484277954,
          0.005933733505542453,
          0.006211778761259082,
          0.007595870079052182,
          0.008412112878709601,
          0.01015440765116751,
          0.013698596004905078,
          0.014306371015136213,
          0.016438411144533885,
          0.030142031422655396
         ],
         "xaxis": "x285",
         "y": [
          "order  ",
          "meds  ",
          "birth  ",
          "prescription  ",
          "cycle  ",
          "medication  ",
          "pharmacy  ",
          "ivf  ",
          "freedom  ",
          "fertility  "
         ],
         "yaxis": "y285"
        },
        {
         "marker": {
          "color": "#009E73"
         },
         "orientation": "h",
         "type": "bar",
         "x": [
          0.004194201802131977,
          0.004213137923552357,
          0.004552413088692631,
          0.004651689160792785,
          0.004697009685343574,
          0.005427454653029778,
          0.01064161454358948,
          0.014346532264921589,
          0.02099615950047874,
          0.02611076586920206
         ],
         "xaxis": "x286",
         "y": [
          "urgent  ",
          "days  ",
          "prescribe  ",
          "doctor  ",
          "medication  ",
          "prescription  ",
          "prescribed  ",
          "infection  ",
          "antibiotic  ",
          "antibiotics  "
         ],
         "yaxis": "y286"
        },
        {
         "marker": {
          "color": "#F0E442"
         },
         "orientation": "h",
         "type": "bar",
         "x": [
          0.004208199193984463,
          0.004845328642079713,
          0.0049991227301653665,
          0.005077531257851926,
          0.005679375554395398,
          0.006045810446012503,
          0.007781898335541288,
          0.013733633236966131,
          0.020265688792509916,
          0.0331901883222003
         ],
         "xaxis": "x287",
         "y": [
          "went  ",
          "headaches  ",
          "shot  ",
          "brain  ",
          "er  ",
          "head  ",
          "concussion  ",
          "headache  ",
          "migraines  ",
          "migraine  "
         ],
         "yaxis": "y287"
        },
        {
         "marker": {
          "color": "#D55E00"
         },
         "orientation": "h",
         "type": "bar",
         "x": [
          0.008591214522495987,
          0.009239870339080015,
          0.010110026989879969,
          0.010261630409454922,
          0.010988025199491292,
          0.012486621205183894,
          0.013187191685549602,
          0.021705237400332825,
          0.02558333164501204,
          0.057120898826102086
         ],
         "xaxis": "x288",
         "y": [
          "great  ",
          "love  ",
          "very  ",
          "location  ",
          "organized  ",
          "friendly  ",
          "environment  ",
          "nice  ",
          "place  ",
          "clean  "
         ],
         "yaxis": "y288"
        },
        {
         "marker": {
          "color": "#0072B2"
         },
         "orientation": "h",
         "type": "bar",
         "x": [
          0.00890431386824923,
          0.009092906018649085,
          0.009242315873924893,
          0.009288633478563242,
          0.010857804221245939,
          0.01579021490669969,
          0.01601747082823036,
          0.032690076679172356,
          0.09932764624246278,
          0.15098792780503464
         ],
         "xaxis": "x289",
         "y": [
          "professional  ",
          "thorough  ",
          "very  ",
          "dr  ",
          "manor  ",
          "great  ",
          "excellent  ",
          "manners  ",
          "manner  ",
          "bedside  "
         ],
         "yaxis": "y289"
        },
        {
         "marker": {
          "color": "#CC79A7"
         },
         "orientation": "h",
         "type": "bar",
         "x": [
          0.0034281599365680137,
          0.0035091120058752512,
          0.0035304390851285017,
          0.0035851321215019587,
          0.003724940814696772,
          0.004104387948266233,
          0.004146013243022443,
          0.005817870780875139,
          0.006816307269812003,
          0.006894546986463057
         ],
         "xaxis": "x290",
         "y": [
          "for  ",
          "money  ",
          "company  ",
          "pain  ",
          "adjustment  ",
          "treatment  ",
          "pay  ",
          "chiropractic  ",
          "insurance  ",
          "chiropractor  "
         ],
         "yaxis": "y290"
        },
        {
         "marker": {
          "color": "#E69F00"
         },
         "orientation": "h",
         "type": "bar",
         "x": [
          0.005422426847032246,
          0.0061315639303147216,
          0.007661847123718375,
          0.007787908376096961,
          0.008422591489130719,
          0.013371855850459339,
          0.013477779394745187,
          0.024558043846782788,
          0.035805478376132974,
          0.05265624725876026
         ],
         "xaxis": "x291",
         "y": [
          "kidneys  ",
          "ct  ",
          "urine  ",
          "scan  ",
          "er  ",
          "gallbladder  ",
          "pain  ",
          "stones  ",
          "stone  ",
          "kidney  "
         ],
         "yaxis": "y291"
        },
        {
         "marker": {
          "color": "#56B4E9"
         },
         "orientation": "h",
         "type": "bar",
         "x": [
          0.008573136652360987,
          0.008785629260511074,
          0.010197572821653799,
          0.010230492965523776,
          0.010403442710638642,
          0.01279912425907576,
          0.018131389516167405,
          0.03493258464251517,
          0.046244855164714986,
          0.051585558234618065
         ],
         "xaxis": "x292",
         "y": [
          "sons  ",
          "we  ",
          "procedure  ",
          "our  ",
          "son  ",
          "baby  ",
          "ties  ",
          "lip  ",
          "tongue  ",
          "tie  "
         ],
         "yaxis": "y292"
        },
        {
         "marker": {
          "color": "#009E73"
         },
         "orientation": "h",
         "type": "bar",
         "x": [
          0.004571123892474177,
          0.005182241427643108,
          0.005399103798179923,
          0.0061107377257449995,
          0.006728288280400448,
          0.00718662988354678,
          0.007450154718276852,
          0.010122169008817981,
          0.014818263651527427,
          0.01745139977959158
         ],
         "xaxis": "x293",
         "y": [
          "american  ",
          "racism  ",
          "hispanic  ",
          "people  ",
          "african  ",
          "race  ",
          "color  ",
          "white  ",
          "black  ",
          "racist  "
         ],
         "yaxis": "y293"
        },
        {
         "marker": {
          "color": "#F0E442"
         },
         "orientation": "h",
         "type": "bar",
         "x": [
          0.008759790299907663,
          0.010500871888003286,
          0.011394455669053869,
          0.01218819709332805,
          0.015814980854892705,
          0.01683513859525499,
          0.025988110160737515,
          0.026859915110936338,
          0.030984869330625064,
          0.03598215728934048
         ],
         "xaxis": "x294",
         "y": [
          "wrong  ",
          "gps  ",
          "find  ",
          "map  ",
          "address  ",
          "directions  ",
          "building  ",
          "google  ",
          "location  ",
          "maps  "
         ],
         "yaxis": "y294"
        },
        {
         "marker": {
          "color": "#D55E00"
         },
         "orientation": "h",
         "type": "bar",
         "x": [
          0.003929849686229529,
          0.003934378184399001,
          0.004077438026917468,
          0.004550382582614229,
          0.004595361874680691,
          0.004699020581540498,
          0.004882127415134245,
          0.004918979266224871,
          0.005391373270859671,
          0.009644224890588958
         ],
         "xaxis": "x295",
         "y": [
          "surgery  ",
          "me  ",
          "ultrasound  ",
          "pelvic  ",
          "hysterectomy  ",
          "cyst  ",
          "control  ",
          "birth  ",
          "she  ",
          "endometriosis  "
         ],
         "yaxis": "y295"
        },
        {
         "marker": {
          "color": "#0072B2"
         },
         "orientation": "h",
         "type": "bar",
         "x": [
          0.0051668641818383935,
          0.005350823705077134,
          0.005856680163670738,
          0.006089918121099928,
          0.006520700541273875,
          0.007358369927899909,
          0.007479728150875166,
          0.0075741082346842395,
          0.009266656445598312,
          0.027093218041275915
         ],
         "xaxis": "x296",
         "y": [
          "appreciate  ",
          "everyone  ",
          "all  ",
          "much  ",
          "care  ",
          "you  ",
          "thankful  ",
          "thanks  ",
          "grateful  ",
          "thank  "
         ],
         "yaxis": "y296"
        },
        {
         "marker": {
          "color": "#CC79A7"
         },
         "orientation": "h",
         "type": "bar",
         "x": [
          0.01056654377601481,
          0.010806663595911639,
          0.011597270398017513,
          0.015835557062488417,
          0.01912764056973579,
          0.028309414265371712,
          0.03599782133720765,
          0.04333176152106385,
          0.05010247638648818,
          0.05569192940651534
         ],
         "xaxis": "x297",
         "y": [
          "bud  ",
          "joint  ",
          "smoke  ",
          "bought  ",
          "roll  ",
          "gram  ",
          "rolls  ",
          "pre  ",
          "prerolls  ",
          "preroll  "
         ],
         "yaxis": "y297"
        },
        {
         "marker": {
          "color": "#E69F00"
         },
         "orientation": "h",
         "type": "bar",
         "x": [
          0.009546105501688659,
          0.010011629407994502,
          0.010126266837725597,
          0.010527466860249069,
          0.010765903622103468,
          0.014697973104961187,
          0.0150626488422138,
          0.03693426331811383,
          0.04208791290407375,
          0.10485280044495861
         ],
         "xaxis": "x298",
         "y": [
          "always  ",
          "easy  ",
          "helpful  ",
          "courteous  ",
          "convenient  ",
          "very  ",
          "flexible  ",
          "staff  ",
          "friendly  ",
          "efficient  "
         ],
         "yaxis": "y298"
        },
        {
         "marker": {
          "color": "#56B4E9"
         },
         "orientation": "h",
         "type": "bar",
         "x": [
          0.006090045007468038,
          0.006573797250756458,
          0.006701443682877628,
          0.006822948196781748,
          0.006918415874559695,
          0.011383328690509962,
          0.014453118648660517,
          0.016177065874763318,
          0.07070027748959976,
          0.0846606785683158
         ],
         "xaxis": "x299",
         "y": [
          "minutes  ",
          "cvs  ",
          "pick  ",
          "days  ",
          "wait  ",
          "fill  ",
          "filled  ",
          "ready  ",
          "scripts  ",
          "script  "
         ],
         "yaxis": "y299"
        },
        {
         "marker": {
          "color": "#009E73"
         },
         "orientation": "h",
         "type": "bar",
         "x": [
          0.005206043248164208,
          0.005784489620501844,
          0.00658473443801901,
          0.008545396831931647,
          0.009550613145270446,
          0.01051795474977205,
          0.012156825175786739,
          0.013724930012808965,
          0.016513822868576385,
          0.019041590881188897
         ],
         "xaxis": "x300",
         "y": [
          "here  ",
          "hour  ",
          "seen  ",
          "wait  ",
          "er  ",
          "hospital  ",
          "hours  ",
          "waiting  ",
          "room  ",
          "emergency  "
         ],
         "yaxis": "y300"
        },
        {
         "marker": {
          "color": "#F0E442"
         },
         "orientation": "h",
         "type": "bar",
         "x": [
          0.009973401660295087,
          0.010450647359233607,
          0.01334940463084074,
          0.014064437518943929,
          0.01618307937684699,
          0.0176202174075894,
          0.019963779562143784,
          0.02117337320711642,
          0.022454058933216555,
          0.07666814721763546
         ],
         "xaxis": "x301",
         "y": [
          "his  ",
          "dr  ",
          "loss  ",
          "wills  ",
          "bariatric  ",
          "gastric  ",
          "weight  ",
          "surgery  ",
          "sleeve  ",
          "mailapur  "
         ],
         "yaxis": "y301"
        },
        {
         "marker": {
          "color": "#D55E00"
         },
         "orientation": "h",
         "type": "bar",
         "x": [
          0.005925631156195433,
          0.007103532658179534,
          0.007185465762363979,
          0.009151664791045485,
          0.009391135735098515,
          0.01024619647225466,
          0.011450288539140359,
          0.014368868677572347,
          0.014807625185672258,
          0.016379509213347763
         ],
         "xaxis": "x302",
         "y": [
          "attitude  ",
          "called  ",
          "answered  ",
          "her  ",
          "woman  ",
          "hung  ",
          "she  ",
          "lady  ",
          "phone  ",
          "rude  "
         ],
         "yaxis": "y302"
        },
        {
         "marker": {
          "color": "#0072B2"
         },
         "orientation": "h",
         "type": "bar",
         "x": [
          0.00637658822547262,
          0.00654560505319442,
          0.00663789982169873,
          0.007002766549191109,
          0.007289974670337646,
          0.007574399222002025,
          0.008465106955000311,
          0.009421091925523255,
          0.009470215095072964,
          0.14786594367921505
         ],
         "xaxis": "x303",
         "y": [
          "job  ",
          "nikki  ",
          "has  ",
          "she  ",
          "five  ",
          "amazing  ",
          "amandas  ",
          "lexi  ",
          "lindas  ",
          "amanda  "
         ],
         "yaxis": "y303"
        },
        {
         "marker": {
          "color": "#CC79A7"
         },
         "orientation": "h",
         "type": "bar",
         "x": [
          0.00683507082956922,
          0.0069642939241295184,
          0.0070313549649789215,
          0.007206483194404529,
          0.007226591838477172,
          0.007232628179605803,
          0.00774532190355885,
          0.01107546742785206,
          0.01136451499299643,
          0.02016141219458432
         ],
         "xaxis": "x304",
         "y": [
          "senior  ",
          "heartlands  ",
          "nursing  ",
          "loved  ",
          "activities  ",
          "resident  ",
          "care  ",
          "facility  ",
          "living  ",
          "residents  "
         ],
         "yaxis": "y304"
        },
        {
         "marker": {
          "color": "#E69F00"
         },
         "orientation": "h",
         "type": "bar",
         "x": [
          0.005014088264290165,
          0.005027429708000906,
          0.005296923868334578,
          0.006215084399595001,
          0.006773320890616215,
          0.007291022863068114,
          0.007864650895153149,
          0.00953367585243628,
          0.04307411707738882,
          0.05662004624371661
         ],
         "xaxis": "x305",
         "y": [
          "hate  ",
          "syringes  ",
          "marcus  ",
          "iv  ",
          "afraid  ",
          "injection  ",
          "stick  ",
          "arm  ",
          "needle  ",
          "needles  "
         ],
         "yaxis": "y305"
        },
        {
         "marker": {
          "color": "#56B4E9"
         },
         "orientation": "h",
         "type": "bar",
         "x": [
          0.006082237950670283,
          0.006521229768019488,
          0.006605480859733599,
          0.0067671882924127055,
          0.007282883570104873,
          0.00839888366431917,
          0.012066997171876186,
          0.01836839640012785,
          0.02209802817222929,
          0.05713157713949487
         ],
         "xaxis": "x306",
         "y": [
          "inguinal  ",
          "abdominal  ",
          "dr  ",
          "herniated  ",
          "mesh  ",
          "kravitz  ",
          "repair  ",
          "reinhorn  ",
          "surgery  ",
          "hernia  "
         ],
         "yaxis": "y306"
        },
        {
         "marker": {
          "color": "#009E73"
         },
         "orientation": "h",
         "type": "bar",
         "x": [
          0.006707814432605496,
          0.0069655210676906835,
          0.007136793994881392,
          0.007480268579314966,
          0.007656600987995062,
          0.007795324150806775,
          0.007910465247727821,
          0.01671416491018427,
          0.0235418339894082,
          0.03109605300768598
         ],
         "xaxis": "x307",
         "y": [
          "time  ",
          "fast  ",
          "little  ",
          "good  ",
          "very  ",
          "waiting  ",
          "bit  ",
          "care  ",
          "long  ",
          "wait  "
         ],
         "yaxis": "y307"
        },
        {
         "marker": {
          "color": "#F0E442"
         },
         "orientation": "h",
         "type": "bar",
         "x": [
          0.004011799434208313,
          0.004037413634877643,
          0.004084532861318525,
          0.0041693302192467455,
          0.004268264078992579,
          0.004841850339108932,
          0.005367495959474562,
          0.00573087670897743,
          0.0073075755846067235,
          0.0241398401849445
         ],
         "xaxis": "x308",
         "y": [
          "diagnosis  ",
          "dr  ",
          "he  ",
          "condition  ",
          "doctor  ",
          "referral  ",
          "brain  ",
          "neurological  ",
          "neurology  ",
          "neurologist  "
         ],
         "yaxis": "y308"
        },
        {
         "marker": {
          "color": "#D55E00"
         },
         "orientation": "h",
         "type": "bar",
         "x": [
          0.006921873712197266,
          0.007852115533387305,
          0.00795461345886198,
          0.009313347200796433,
          0.009988168174913272,
          0.010157053331674411,
          0.018798756320717293,
          0.019346991792124544,
          0.028058600809415052,
          0.06280453493411395
         ],
         "xaxis": "x309",
         "y": [
          "easy  ",
          "results  ",
          "tests  ",
          "edina  ",
          "test  ",
          "efficient  ",
          "testing  ",
          "arcpoint  ",
          "labs  ",
          "lab  "
         ],
         "yaxis": "y309"
        },
        {
         "marker": {
          "color": "#0072B2"
         },
         "orientation": "h",
         "type": "bar",
         "x": [
          0.004841566817572844,
          0.0048696878053098615,
          0.0052462234702096745,
          0.005510588792392264,
          0.005879200217694,
          0.006044629798538073,
          0.006353916183085003,
          0.006361044738694471,
          0.010202336394556795,
          0.05694771691656561
         ],
         "xaxis": "x310",
         "y": [
          "mins  ",
          "called  ",
          "hour  ",
          "wait  ",
          "doctor  ",
          "waiting  ",
          "an  ",
          "min  ",
          "appts  ",
          "appt  "
         ],
         "yaxis": "y310"
        },
        {
         "marker": {
          "color": "#CC79A7"
         },
         "orientation": "h",
         "type": "bar",
         "x": [
          0.00760515215634017,
          0.007787423172594824,
          0.008000586155549001,
          0.008279926097203273,
          0.00884335645858698,
          0.009182062273139214,
          0.009764558438410726,
          0.02306148050224816,
          0.027904769789513215,
          0.04041338713661222
         ],
         "xaxis": "x311",
         "y": [
          "functionabilities  ",
          "speech  ",
          "sensory  ",
          "spectrum  ",
          "child  ",
          "heritage  ",
          "him  ",
          "son  ",
          "autistic  ",
          "autism  "
         ],
         "yaxis": "y311"
        },
        {
         "marker": {
          "color": "#E69F00"
         },
         "orientation": "h",
         "type": "bar",
         "x": [
          0.0034503455049908764,
          0.003496201930973755,
          0.004542138366283059,
          0.00474177614838092,
          0.005106259536935138,
          0.0060072129430533555,
          0.006737818645204317,
          0.007144868626629488,
          0.008170439644646381,
          0.016505689818749666
         ],
         "xaxis": "x312",
         "y": [
          "is  ",
          "patient  ",
          "are  ",
          "medical  ",
          "doctor  ",
          "patients  ",
          "unprofessional  ",
          "doctors  ",
          "staff  ",
          "rude  "
         ],
         "yaxis": "y312"
        },
        {
         "marker": {
          "color": "#56B4E9"
         },
         "orientation": "h",
         "type": "bar",
         "x": [
          0.007686476513973142,
          0.007716648086871888,
          0.008124979574501395,
          0.009685133821722858,
          0.009752148640684464,
          0.00986124871791113,
          0.010658713496638996,
          0.020561307205979727,
          0.026778476235356972,
          0.12006257949204983
         ],
         "xaxis": "x313",
         "y": [
          "best  ",
          "always  ",
          "chad  ",
          "he  ",
          "awesome  ",
          "edwards  ",
          "amazing  ",
          "dr  ",
          "johnson  ",
          "jones  "
         ],
         "yaxis": "y313"
        },
        {
         "marker": {
          "color": "#009E73"
         },
         "orientation": "h",
         "type": "bar",
         "x": [
          0.008322299731309416,
          0.009522290056098103,
          0.009733346129487291,
          0.01025640289656245,
          0.011229950111740212,
          0.011960399013373887,
          0.03508126098081881,
          0.0393671226787501,
          0.040710936601414144,
          0.0803023574354669
         ],
         "xaxis": "x314",
         "y": [
          "diseases  ",
          "rash  ",
          "maryana  ",
          "symptoms  ",
          "shenderov  ",
          "bite  ",
          "lymes  ",
          "tick  ",
          "disease  ",
          "lyme  "
         ],
         "yaxis": "y314"
        },
        {
         "marker": {
          "color": "#F0E442"
         },
         "orientation": "h",
         "type": "bar",
         "x": [
          0.005904594472032809,
          0.006062880766961476,
          0.00606827295635032,
          0.006716273289799332,
          0.007652672753368065,
          0.007907924804688427,
          0.00956258838605317,
          0.012723992040531951,
          0.01795202347947877,
          0.1369887665259227
         ],
         "xaxis": "x315",
         "y": [
          "listen  ",
          "professional  ",
          "very  ",
          "luther  ",
          "concerns  ",
          "questions  ",
          "he  ",
          "his  ",
          "dr  ",
          "brown  "
         ],
         "yaxis": "y315"
        },
        {
         "marker": {
          "color": "#D55E00"
         },
         "orientation": "h",
         "type": "bar",
         "x": [
          0.009034068251630544,
          0.01022437140775992,
          0.010915590469471697,
          0.011035778066446641,
          0.011911983626375477,
          0.011934634402705563,
          0.01449878387520326,
          0.017076741619325025,
          0.01786337186907686,
          0.03804595508787049
         ],
         "xaxis": "x316",
         "y": [
          "felt  ",
          "feeling  ",
          "hydration  ",
          "vitamin  ",
          "boost  ",
          "drip  ",
          "energy  ",
          "infusion  ",
          "fika  ",
          "iv  "
         ],
         "yaxis": "y316"
        },
        {
         "marker": {
          "color": "#0072B2"
         },
         "orientation": "h",
         "type": "bar",
         "x": [
          0.008055124650565227,
          0.008350551411178419,
          0.008368283229166561,
          0.00850436429907415,
          0.008674905873936259,
          0.010958755289415529,
          0.012026283091774287,
          0.014666053152100724,
          0.03514508187162506,
          0.03657119529858483
         ],
         "xaxis": "x317",
         "y": [
          "alex  ",
          "his  ",
          "tyler  ",
          "helped  ",
          "tony  ",
          "he  ",
          "him  ",
          "matt  ",
          "justin  ",
          "josh  "
         ],
         "yaxis": "y317"
        },
        {
         "marker": {
          "color": "#CC79A7"
         },
         "orientation": "h",
         "type": "bar",
         "x": [
          0.013643695931330638,
          0.015901617317608197,
          0.01652358829745112,
          0.019611680217998577,
          0.020239118587096188,
          0.02053646831972179,
          0.023084371572704866,
          0.025105309506639518,
          0.09612915800295196,
          0.09681310532606618
         ],
         "xaxis": "x318",
         "y": [
          "nice  ",
          "dirty  ",
          "polite  ",
          "helpful  ",
          "friendly  ",
          "always  ",
          "workers  ",
          "organized  ",
          "clean  ",
          "employees  "
         ],
         "yaxis": "y318"
        },
        {
         "marker": {
          "color": "#E69F00"
         },
         "orientation": "h",
         "type": "bar",
         "x": [
          0.004991533972506172,
          0.00568207748383832,
          0.0063690359310250135,
          0.006408149352217191,
          0.0067250233892866065,
          0.007637721175090438,
          0.00848893665890998,
          0.009929676176187913,
          0.011387392016563325,
          0.016408891186641607
         ],
         "xaxis": "x319",
         "y": [
          "pay  ",
          "cost  ",
          "labcorp  ",
          "insurance  ",
          "bill  ",
          "labs  ",
          "tests  ",
          "test  ",
          "blood  ",
          "lab  "
         ],
         "yaxis": "y319"
        },
        {
         "marker": {
          "color": "#56B4E9"
         },
         "orientation": "h",
         "type": "bar",
         "x": [
          0.009399980583206567,
          0.011920362931062559,
          0.012048936821567498,
          0.012261394136867753,
          0.013959175606620333,
          0.015160334307503458,
          0.015389691755486021,
          0.01568544587421598,
          0.028807745031040277,
          0.21222853419184257
         ],
         "xaxis": "x320",
         "y": [
          "fresh  ",
          "compared  ",
          "shop  ",
          "walmart  ",
          "prices  ",
          "ice  ",
          "overpriced  ",
          "cream  ",
          "store  ",
          "macys  "
         ],
         "yaxis": "y320"
        },
        {
         "marker": {
          "color": "#009E73"
         },
         "orientation": "h",
         "type": "bar",
         "x": [
          0.011405720256039965,
          0.011531669393298447,
          0.011940569330172787,
          0.013144202400213597,
          0.013270625010068635,
          0.015118481161259011,
          0.019508185998859076,
          0.027952783789359285,
          0.10870229061431659,
          0.17630228984399182
         ],
         "xaxis": "x321",
         "y": [
          "pumpkins  ",
          "selection  ",
          "prices  ",
          "stores  ",
          "quality  ",
          "layout  ",
          "store  ",
          "grocery  ",
          "byerlys  ",
          "lunds  "
         ],
         "yaxis": "y321"
        },
        {
         "marker": {
          "color": "#F0E442"
         },
         "orientation": "h",
         "type": "bar",
         "x": [
          0.01782369170440544,
          0.017877173752099396,
          0.019312499669626032,
          0.019582121287202107,
          0.021680625117565758,
          0.02662632631795607,
          0.03126129839933658,
          0.035967163430863765,
          0.11975536111227307,
          0.2520833624077404
         ],
         "xaxis": "x322",
         "y": [
          "than  ",
          "high  ",
          "item  ",
          "town  ",
          "expensive  ",
          "neighborhood  ",
          "higher  ",
          "prices  ",
          "grocers  ",
          "grocer  "
         ],
         "yaxis": "y322"
        },
        {
         "marker": {
          "color": "#D55E00"
         },
         "orientation": "h",
         "type": "bar",
         "x": [
          0.006951757718889932,
          0.0073024404623082744,
          0.008807363977097747,
          0.009963010989693013,
          0.010390603812879762,
          0.01254511106983539,
          0.014542463203060432,
          0.018632389693254012,
          0.034647955439350904,
          0.038647491421102444
         ],
         "xaxis": "x323",
         "y": [
          "dr  ",
          "cohen  ",
          "center  ",
          "neurosurgeon  ",
          "neuro  ",
          "kar  ",
          "brain  ",
          "neurological  ",
          "neurology  ",
          "neurologist  "
         ],
         "yaxis": "y323"
        },
        {
         "marker": {
          "color": "#0072B2"
         },
         "orientation": "h",
         "type": "bar",
         "x": [
          0.018290560289649305,
          0.02220436773609487,
          0.024984191396642808,
          0.02713575237211734,
          0.029667214626390194,
          0.030945361105070176,
          0.03876083237703376,
          0.04658625716845708,
          0.059121454112908124,
          0.06814815200305842
         ],
         "xaxis": "x324",
         "y": [
          "property  ",
          "trail  ",
          "corbett  ",
          "horse  ",
          "riding  ",
          "ride  ",
          "animals  ",
          "farm  ",
          "stuart  ",
          "horses  "
         ],
         "yaxis": "y324"
        },
        {
         "marker": {
          "color": "#CC79A7"
         },
         "orientation": "h",
         "type": "bar",
         "x": [
          0.015810515233964543,
          0.01626580096841719,
          0.016364450236770568,
          0.017124371655926358,
          0.01840793892492363,
          0.018494775528847124,
          0.018862954825227433,
          0.06250287311078012,
          0.06861171302888802,
          0.08864008326289091
         ],
         "xaxis": "x325",
         "y": [
          "produce  ",
          "stores  ",
          "organized  ",
          "selection  ",
          "fresh  ",
          "groceries  ",
          "stocked  ",
          "clean  ",
          "store  ",
          "grocery  "
         ],
         "yaxis": "y325"
        },
        {
         "marker": {
          "color": "#E69F00"
         },
         "orientation": "h",
         "type": "bar",
         "x": [
          0.006829278820636137,
          0.007048367962496257,
          0.00728912075199527,
          0.007582766342542018,
          0.008491354882035182,
          0.009863090693564306,
          0.011020651981127064,
          0.014108149343365217,
          0.018865786959685053,
          0.02440936420825926
         ],
         "xaxis": "x326",
         "y": [
          "sisters  ",
          "brothers  ",
          "brotherhood  ",
          "help  ",
          "firefighter  ",
          "center  ",
          "iaff  ",
          "life  ",
          "firefighters  ",
          "coe  "
         ],
         "yaxis": "y326"
        },
        {
         "marker": {
          "color": "#56B4E9"
         },
         "orientation": "h",
         "type": "bar",
         "x": [
          0.014190998296695902,
          0.014589498420689875,
          0.015096826580172754,
          0.0154125741787898,
          0.01663899267899656,
          0.034420959287885515,
          0.037945405905896436,
          0.03852155287299662,
          0.04118429169631075,
          0.1350117355119616
         ],
         "xaxis": "x327",
         "y": [
          "great  ",
          "stock  ",
          "pricey  ",
          "sometimes  ",
          "items  ",
          "good  ",
          "prices  ",
          "sales  ",
          "sale  ",
          "deals  "
         ],
         "yaxis": "y327"
        },
        {
         "marker": {
          "color": "#009E73"
         },
         "orientation": "h",
         "type": "bar",
         "x": [
          0.006269133886279287,
          0.007538490294347906,
          0.007641494997520244,
          0.007878222120101077,
          0.008413319568217696,
          0.010717563977890868,
          0.013471800020302864,
          0.013791066861476166,
          0.02205194136111523,
          0.0743377664218615
         ],
         "xaxis": "x328",
         "y": [
          "breathing  ",
          "surgery  ",
          "infections  ",
          "chronic  ",
          "ent  ",
          "nasal  ",
          "sinuses  ",
          "sinusitis  ",
          "infection  ",
          "sinus  "
         ],
         "yaxis": "y328"
        },
        {
         "marker": {
          "color": "#F0E442"
         },
         "orientation": "h",
         "type": "bar",
         "x": [
          0.010231272994958145,
          0.010568534663076154,
          0.010748859426337187,
          0.01075144860936329,
          0.010858451431551805,
          0.011413983906613153,
          0.011667170814102068,
          0.011956720197053081,
          0.01538484414343386,
          0.19509977014930882
         ],
         "xaxis": "x329",
         "y": [
          "product  ",
          "cost  ",
          "savings  ",
          "price  ",
          "monthly  ",
          "buying  ",
          "credit  ",
          "saved  ",
          "order  ",
          "blink  "
         ],
         "yaxis": "y329"
        },
        {
         "marker": {
          "color": "#D55E00"
         },
         "orientation": "h",
         "type": "bar",
         "x": [
          0.007323826275018726,
          0.0077476929912295945,
          0.008516188479431785,
          0.013215214672736222,
          0.013648880565910763,
          0.01622214231420065,
          0.018252082815270604,
          0.020442027401922698,
          0.02836528943404246,
          0.05039939512811798
         ],
         "xaxis": "x330",
         "y": [
          "scar  ",
          "colonna  ",
          "cancer  ",
          "dermatologist  ",
          "melanoma  ",
          "skin  ",
          "removed  ",
          "biopsy  ",
          "moles  ",
          "mole  "
         ],
         "yaxis": "y330"
        },
        {
         "marker": {
          "color": "#0072B2"
         },
         "orientation": "h",
         "type": "bar",
         "x": [
          0.01015058636282628,
          0.010271690292260261,
          0.010680522661797915,
          0.011211728238798223,
          0.011429402840391331,
          0.012455804150610109,
          0.012838567036292823,
          0.013950168334886706,
          0.015431522525742012,
          0.13503341769515537
         ],
         "xaxis": "x331",
         "y": [
          "oleg  ",
          "videos  ",
          "exercises  ",
          "explained  ",
          "tweets  ",
          "dustin  ",
          "knowledgeable  ",
          "dr  ",
          "feldmans  ",
          "feldman  "
         ],
         "yaxis": "y331"
        },
        {
         "marker": {
          "color": "#CC79A7"
         },
         "orientation": "h",
         "type": "bar",
         "x": [
          0.015670510035108328,
          0.017672089872274158,
          0.018291985041724138,
          0.019154537548112426,
          0.022510573673774344,
          0.030413708345216683,
          0.03256919415067813,
          0.03266943895146506,
          0.1635024767126156,
          0.24855397629005468
         ],
         "xaxis": "x332",
         "y": [
          "sandwich  ",
          "caribous  ",
          "ice  ",
          "breakfast  ",
          "cups  ",
          "store  ",
          "inside  ",
          "cup  ",
          "coffee  ",
          "caribou  "
         ],
         "yaxis": "y332"
        },
        {
         "marker": {
          "color": "#E69F00"
         },
         "orientation": "h",
         "type": "bar",
         "x": [
          0.00953053782863278,
          0.009606557589856927,
          0.010233450031970117,
          0.010442928688725674,
          0.010536304963991909,
          0.012052351777416762,
          0.017019901102966927,
          0.043575180202017914,
          0.04692304601064219,
          0.14322270095524225
         ],
         "xaxis": "x333",
         "y": [
          "graston  ",
          "bike  ",
          "paul  ",
          "rehabilitation  ",
          "therapist  ",
          "techniques  ",
          "academy  ",
          "therapy  ",
          "physical  ",
          "alpine  "
         ],
         "yaxis": "y333"
        },
        {
         "marker": {
          "color": "#56B4E9"
         },
         "orientation": "h",
         "type": "bar",
         "x": [
          0.006253379332258237,
          0.006585399177136319,
          0.006707906053156127,
          0.008771686278648189,
          0.009083392682961183,
          0.013016424833849368,
          0.015938038850570147,
          0.031848080862707726,
          0.05482075999253808,
          0.0692820086312359
         ],
         "xaxis": "x334",
         "y": [
          "manor  ",
          "great  ",
          "rooms  ",
          "clean  ",
          "rails  ",
          "manners  ",
          "manner  ",
          "side  ",
          "beds  ",
          "bed  "
         ],
         "yaxis": "y334"
        },
        {
         "marker": {
          "color": "#009E73"
         },
         "orientation": "h",
         "type": "bar",
         "x": [
          0.0037600872788015613,
          0.0039046629905730057,
          0.005015556549684308,
          0.005023166366289392,
          0.0054269651194884735,
          0.006010618409162055,
          0.006615943873161367,
          0.008796734747626407,
          0.010302998264371942,
          0.01170359920399661
         ],
         "xaxis": "x335",
         "y": [
          "called  ",
          "fill  ",
          "her  ",
          "prescriptions  ",
          "rude  ",
          "she  ",
          "medication  ",
          "pharmacy  ",
          "pharmacist  ",
          "prescription  "
         ],
         "yaxis": "y335"
        },
        {
         "marker": {
          "color": "#F0E442"
         },
         "orientation": "h",
         "type": "bar",
         "x": [
          0.005534314419898802,
          0.005692220609250347,
          0.005878210769912334,
          0.006750180659425277,
          0.0072183153924129505,
          0.010892488438552448,
          0.01211195808143871,
          0.012601711177636069,
          0.02281617593840464,
          0.0303258676570583
         ],
         "xaxis": "x336",
         "y": [
          "her  ",
          "comfortable  ",
          "tillery  ",
          "she  ",
          "dr  ",
          "gynecology  ",
          "womens  ",
          "gyno  ",
          "gynecologist  ",
          "gyn  "
         ],
         "yaxis": "y336"
        },
        {
         "marker": {
          "color": "#D55E00"
         },
         "orientation": "h",
         "type": "bar",
         "x": [
          0.010510669885806337,
          0.01239970869859819,
          0.012400455543956397,
          0.01265941041377279,
          0.018686007964664374,
          0.020200595346947747,
          0.027194749503702924,
          0.07838503721301096,
          0.09104743089943598,
          0.11792701427537822
         ],
         "xaxis": "x337",
         "y": [
          "draper  ",
          "results  ",
          "ufp  ",
          "chemical  ",
          "botox  ",
          "jeanna  ",
          "alfie  ",
          "utah  ",
          "facial  ",
          "plastics  "
         ],
         "yaxis": "y337"
        },
        {
         "marker": {
          "color": "#0072B2"
         },
         "orientation": "h",
         "type": "bar",
         "x": [
          0.014662900786408965,
          0.017026452816956594,
          0.017589872735067427,
          0.017813627530375423,
          0.01859645642766779,
          0.01888557619887193,
          0.020032157117501302,
          0.02465599281780665,
          0.025316568674468663,
          0.066122201330719
         ],
         "xaxis": "x338",
         "y": [
          "books  ",
          "unique  ",
          "shop  ",
          "crystal  ",
          "jewelry  ",
          "ira  ",
          "selection  ",
          "gifts  ",
          "stones  ",
          "crystals  "
         ],
         "yaxis": "y338"
        },
        {
         "marker": {
          "color": "#CC79A7"
         },
         "orientation": "h",
         "type": "bar",
         "x": [
          0.010602421795330844,
          0.011091964040920754,
          0.011157135510094115,
          0.011633336075828235,
          0.011779072633348714,
          0.012379298047735843,
          0.012702648808950875,
          0.016068949940717014,
          0.017072637776971048,
          0.17623648171714715
         ],
         "xaxis": "x339",
         "y": [
          "palmers  ",
          "he  ",
          "questions  ",
          "obgyn  ",
          "hardofhearing  ",
          "rushed  ",
          "ben  ",
          "his  ",
          "dr  ",
          "palmer  "
         ],
         "yaxis": "y339"
        },
        {
         "marker": {
          "color": "#E69F00"
         },
         "orientation": "h",
         "type": "bar",
         "x": [
          0.011925569491592597,
          0.012526902849086141,
          0.012685041899666254,
          0.014245367109102791,
          0.017848661600635328,
          0.01996792427101292,
          0.02241574694039949,
          0.0231088837971477,
          0.05833370050363077,
          0.24686432565251146
         ],
         "xaxis": "x340",
         "y": [
          "since  ",
          "his  ",
          "been  ",
          "always  ",
          "mason  ",
          "kids  ",
          "dr  ",
          "love  ",
          "nelson  ",
          "anglin  "
         ],
         "yaxis": "y340"
        },
        {
         "marker": {
          "color": "#56B4E9"
         },
         "orientation": "h",
         "type": "bar",
         "x": [
          0.009790018794698086,
          0.009943658224969698,
          0.01190738345933358,
          0.013759482947062347,
          0.015112035721257053,
          0.016485340403395537,
          0.020049021568796132,
          0.02087245805123526,
          0.025350299009883268,
          0.05797802580642937
         ],
         "xaxis": "x341",
         "y": [
          "people  ",
          "easy  ",
          "too  ",
          "town  ",
          "small  ",
          "house  ",
          "convenient  ",
          "busy  ",
          "close  ",
          "crowded  "
         ],
         "yaxis": "y341"
        },
        {
         "marker": {
          "color": "#009E73"
         },
         "orientation": "h",
         "type": "bar",
         "x": [
          0.008796915246754194,
          0.008863263559154013,
          0.009569866744664604,
          0.01055114159145609,
          0.010800625356819223,
          0.011721073248645335,
          0.01358166174631311,
          0.017615147107174173,
          0.036211054651253176,
          0.05999262345638168
         ],
         "xaxis": "x342",
         "y": [
          "deliveries  ",
          "product  ",
          "free  ",
          "order  ",
          "customer  ",
          "packages  ",
          "service  ",
          "deliver  ",
          "shipping  ",
          "delivery  "
         ],
         "yaxis": "y342"
        },
        {
         "marker": {
          "color": "#F0E442"
         },
         "orientation": "h",
         "type": "bar",
         "x": [
          0.018337659102651446,
          0.019976982467216357,
          0.020088355554738202,
          0.021382541448328716,
          0.025751650670994292,
          0.03179627831020899,
          0.03331630599701089,
          0.03475370759223502,
          0.04430879751442016,
          0.04700944887048861
         ],
         "xaxis": "x343",
         "y": [
          "cheap  ",
          "what  ",
          "little  ",
          "items  ",
          "price  ",
          "expensive  ",
          "need  ",
          "everything  ",
          "prices  ",
          "pricey  "
         ],
         "yaxis": "y343"
        },
        {
         "marker": {
          "color": "#D55E00"
         },
         "orientation": "h",
         "type": "bar",
         "x": [
          0.007119577563889621,
          0.007415465439914861,
          0.007669254345731755,
          0.009389319408751833,
          0.011631021929220135,
          0.013636517393297886,
          0.01627592280229954,
          0.022093127557276458,
          0.02575962519392762,
          0.046800933213682054
         ],
         "xaxis": "x344",
         "y": [
          "nasty  ",
          "crawling  ",
          "dead  ",
          "roach  ",
          "ants  ",
          "bites  ",
          "bug  ",
          "roaches  ",
          "bed  ",
          "bugs  "
         ],
         "yaxis": "y344"
        },
        {
         "marker": {
          "color": "#0072B2"
         },
         "orientation": "h",
         "type": "bar",
         "x": [
          0.010085705734852703,
          0.010992808732405185,
          0.011394359909099738,
          0.011798569253959945,
          0.01256320997989164,
          0.013012689655798493,
          0.01979297488532222,
          0.024599374306238833,
          0.026848049863887835,
          0.08198050475385012
         ],
         "xaxis": "x345",
         "y": [
          "products  ",
          "vapes  ",
          "selection  ",
          "coils  ",
          "coil  ",
          "shop  ",
          "juices  ",
          "juice  ",
          "vaping  ",
          "vape  "
         ],
         "yaxis": "y345"
        },
        {
         "marker": {
          "color": "#CC79A7"
         },
         "orientation": "h",
         "type": "bar",
         "x": [
          0.012871110461273629,
          0.01290306392126693,
          0.013274245059249285,
          0.015170121644602875,
          0.01676911823691977,
          0.018221057489541673,
          0.019308855664007054,
          0.020248332520023827,
          0.035749578496151374,
          0.09453189234713105
         ],
         "xaxis": "x346",
         "y": [
          "good  ",
          "meal  ",
          "delicious  ",
          "hot  ",
          "eat  ",
          "dinner  ",
          "bar  ",
          "breakfast  ",
          "food  ",
          "lunch  "
         ],
         "yaxis": "y346"
        }
       ],
       "layout": {
        "annotations": [
         {
          "font": {
           "size": 16
          },
          "showarrow": false,
          "text": "Topic 0",
          "x": 0.0875,
          "xanchor": "center",
          "xref": "paper",
          "y": 1,
          "yanchor": "bottom",
          "yref": "paper"
         },
         {
          "font": {
           "size": 16
          },
          "showarrow": false,
          "text": "Topic 1",
          "x": 0.36250000000000004,
          "xanchor": "center",
          "xref": "paper",
          "y": 1,
          "yanchor": "bottom",
          "yref": "paper"
         },
         {
          "font": {
           "size": 16
          },
          "showarrow": false,
          "text": "Topic 2",
          "x": 0.6375000000000001,
          "xanchor": "center",
          "xref": "paper",
          "y": 1,
          "yanchor": "bottom",
          "yref": "paper"
         },
         {
          "font": {
           "size": 16
          },
          "showarrow": false,
          "text": "Topic 3",
          "x": 0.9125,
          "xanchor": "center",
          "xref": "paper",
          "y": 1,
          "yanchor": "bottom",
          "yref": "paper"
         },
         {
          "font": {
           "size": 16
          },
          "showarrow": false,
          "text": "Topic 4",
          "x": 0.0875,
          "xanchor": "center",
          "xref": "paper",
          "y": 0.9884528999867884,
          "yanchor": "bottom",
          "yref": "paper"
         },
         {
          "font": {
           "size": 16
          },
          "showarrow": false,
          "text": "Topic 5",
          "x": 0.36250000000000004,
          "xanchor": "center",
          "xref": "paper",
          "y": 0.9884528999867884,
          "yanchor": "bottom",
          "yref": "paper"
         },
         {
          "font": {
           "size": 16
          },
          "showarrow": false,
          "text": "Topic 6",
          "x": 0.6375000000000001,
          "xanchor": "center",
          "xref": "paper",
          "y": 0.9884528999867884,
          "yanchor": "bottom",
          "yref": "paper"
         },
         {
          "font": {
           "size": 16
          },
          "showarrow": false,
          "text": "Topic 7",
          "x": 0.9125,
          "xanchor": "center",
          "xref": "paper",
          "y": 0.9884528999867884,
          "yanchor": "bottom",
          "yref": "paper"
         },
         {
          "font": {
           "size": 16
          },
          "showarrow": false,
          "text": "Topic 8",
          "x": 0.0875,
          "xanchor": "center",
          "xref": "paper",
          "y": 0.9769057999735766,
          "yanchor": "bottom",
          "yref": "paper"
         },
         {
          "font": {
           "size": 16
          },
          "showarrow": false,
          "text": "Topic 9",
          "x": 0.36250000000000004,
          "xanchor": "center",
          "xref": "paper",
          "y": 0.9769057999735766,
          "yanchor": "bottom",
          "yref": "paper"
         },
         {
          "font": {
           "size": 16
          },
          "showarrow": false,
          "text": "Topic 10",
          "x": 0.6375000000000001,
          "xanchor": "center",
          "xref": "paper",
          "y": 0.9769057999735766,
          "yanchor": "bottom",
          "yref": "paper"
         },
         {
          "font": {
           "size": 16
          },
          "showarrow": false,
          "text": "Topic 11",
          "x": 0.9125,
          "xanchor": "center",
          "xref": "paper",
          "y": 0.9769057999735766,
          "yanchor": "bottom",
          "yref": "paper"
         },
         {
          "font": {
           "size": 16
          },
          "showarrow": false,
          "text": "Topic 12",
          "x": 0.0875,
          "xanchor": "center",
          "xref": "paper",
          "y": 0.9653586999603648,
          "yanchor": "bottom",
          "yref": "paper"
         },
         {
          "font": {
           "size": 16
          },
          "showarrow": false,
          "text": "Topic 13",
          "x": 0.36250000000000004,
          "xanchor": "center",
          "xref": "paper",
          "y": 0.9653586999603648,
          "yanchor": "bottom",
          "yref": "paper"
         },
         {
          "font": {
           "size": 16
          },
          "showarrow": false,
          "text": "Topic 14",
          "x": 0.6375000000000001,
          "xanchor": "center",
          "xref": "paper",
          "y": 0.9653586999603648,
          "yanchor": "bottom",
          "yref": "paper"
         },
         {
          "font": {
           "size": 16
          },
          "showarrow": false,
          "text": "Topic 15",
          "x": 0.9125,
          "xanchor": "center",
          "xref": "paper",
          "y": 0.9653586999603648,
          "yanchor": "bottom",
          "yref": "paper"
         },
         {
          "font": {
           "size": 16
          },
          "showarrow": false,
          "text": "Topic 16",
          "x": 0.0875,
          "xanchor": "center",
          "xref": "paper",
          "y": 0.953811599947153,
          "yanchor": "bottom",
          "yref": "paper"
         },
         {
          "font": {
           "size": 16
          },
          "showarrow": false,
          "text": "Topic 17",
          "x": 0.36250000000000004,
          "xanchor": "center",
          "xref": "paper",
          "y": 0.953811599947153,
          "yanchor": "bottom",
          "yref": "paper"
         },
         {
          "font": {
           "size": 16
          },
          "showarrow": false,
          "text": "Topic 18",
          "x": 0.6375000000000001,
          "xanchor": "center",
          "xref": "paper",
          "y": 0.953811599947153,
          "yanchor": "bottom",
          "yref": "paper"
         },
         {
          "font": {
           "size": 16
          },
          "showarrow": false,
          "text": "Topic 19",
          "x": 0.9125,
          "xanchor": "center",
          "xref": "paper",
          "y": 0.953811599947153,
          "yanchor": "bottom",
          "yref": "paper"
         },
         {
          "font": {
           "size": 16
          },
          "showarrow": false,
          "text": "Topic 20",
          "x": 0.0875,
          "xanchor": "center",
          "xref": "paper",
          "y": 0.9422644999339411,
          "yanchor": "bottom",
          "yref": "paper"
         },
         {
          "font": {
           "size": 16
          },
          "showarrow": false,
          "text": "Topic 21",
          "x": 0.36250000000000004,
          "xanchor": "center",
          "xref": "paper",
          "y": 0.9422644999339411,
          "yanchor": "bottom",
          "yref": "paper"
         },
         {
          "font": {
           "size": 16
          },
          "showarrow": false,
          "text": "Topic 22",
          "x": 0.6375000000000001,
          "xanchor": "center",
          "xref": "paper",
          "y": 0.9422644999339411,
          "yanchor": "bottom",
          "yref": "paper"
         },
         {
          "font": {
           "size": 16
          },
          "showarrow": false,
          "text": "Topic 23",
          "x": 0.9125,
          "xanchor": "center",
          "xref": "paper",
          "y": 0.9422644999339411,
          "yanchor": "bottom",
          "yref": "paper"
         },
         {
          "font": {
           "size": 16
          },
          "showarrow": false,
          "text": "Topic 24",
          "x": 0.0875,
          "xanchor": "center",
          "xref": "paper",
          "y": 0.9307173999207293,
          "yanchor": "bottom",
          "yref": "paper"
         },
         {
          "font": {
           "size": 16
          },
          "showarrow": false,
          "text": "Topic 25",
          "x": 0.36250000000000004,
          "xanchor": "center",
          "xref": "paper",
          "y": 0.9307173999207293,
          "yanchor": "bottom",
          "yref": "paper"
         },
         {
          "font": {
           "size": 16
          },
          "showarrow": false,
          "text": "Topic 26",
          "x": 0.6375000000000001,
          "xanchor": "center",
          "xref": "paper",
          "y": 0.9307173999207293,
          "yanchor": "bottom",
          "yref": "paper"
         },
         {
          "font": {
           "size": 16
          },
          "showarrow": false,
          "text": "Topic 27",
          "x": 0.9125,
          "xanchor": "center",
          "xref": "paper",
          "y": 0.9307173999207293,
          "yanchor": "bottom",
          "yref": "paper"
         },
         {
          "font": {
           "size": 16
          },
          "showarrow": false,
          "text": "Topic 28",
          "x": 0.0875,
          "xanchor": "center",
          "xref": "paper",
          "y": 0.9191702999075175,
          "yanchor": "bottom",
          "yref": "paper"
         },
         {
          "font": {
           "size": 16
          },
          "showarrow": false,
          "text": "Topic 29",
          "x": 0.36250000000000004,
          "xanchor": "center",
          "xref": "paper",
          "y": 0.9191702999075175,
          "yanchor": "bottom",
          "yref": "paper"
         },
         {
          "font": {
           "size": 16
          },
          "showarrow": false,
          "text": "Topic 30",
          "x": 0.6375000000000001,
          "xanchor": "center",
          "xref": "paper",
          "y": 0.9191702999075175,
          "yanchor": "bottom",
          "yref": "paper"
         },
         {
          "font": {
           "size": 16
          },
          "showarrow": false,
          "text": "Topic 31",
          "x": 0.9125,
          "xanchor": "center",
          "xref": "paper",
          "y": 0.9191702999075175,
          "yanchor": "bottom",
          "yref": "paper"
         },
         {
          "font": {
           "size": 16
          },
          "showarrow": false,
          "text": "Topic 32",
          "x": 0.0875,
          "xanchor": "center",
          "xref": "paper",
          "y": 0.9076231998943056,
          "yanchor": "bottom",
          "yref": "paper"
         },
         {
          "font": {
           "size": 16
          },
          "showarrow": false,
          "text": "Topic 33",
          "x": 0.36250000000000004,
          "xanchor": "center",
          "xref": "paper",
          "y": 0.9076231998943056,
          "yanchor": "bottom",
          "yref": "paper"
         },
         {
          "font": {
           "size": 16
          },
          "showarrow": false,
          "text": "Topic 34",
          "x": 0.6375000000000001,
          "xanchor": "center",
          "xref": "paper",
          "y": 0.9076231998943056,
          "yanchor": "bottom",
          "yref": "paper"
         },
         {
          "font": {
           "size": 16
          },
          "showarrow": false,
          "text": "Topic 35",
          "x": 0.9125,
          "xanchor": "center",
          "xref": "paper",
          "y": 0.9076231998943056,
          "yanchor": "bottom",
          "yref": "paper"
         },
         {
          "font": {
           "size": 16
          },
          "showarrow": false,
          "text": "Topic 36",
          "x": 0.0875,
          "xanchor": "center",
          "xref": "paper",
          "y": 0.8960760998810938,
          "yanchor": "bottom",
          "yref": "paper"
         },
         {
          "font": {
           "size": 16
          },
          "showarrow": false,
          "text": "Topic 37",
          "x": 0.36250000000000004,
          "xanchor": "center",
          "xref": "paper",
          "y": 0.8960760998810938,
          "yanchor": "bottom",
          "yref": "paper"
         },
         {
          "font": {
           "size": 16
          },
          "showarrow": false,
          "text": "Topic 38",
          "x": 0.6375000000000001,
          "xanchor": "center",
          "xref": "paper",
          "y": 0.8960760998810938,
          "yanchor": "bottom",
          "yref": "paper"
         },
         {
          "font": {
           "size": 16
          },
          "showarrow": false,
          "text": "Topic 39",
          "x": 0.9125,
          "xanchor": "center",
          "xref": "paper",
          "y": 0.8960760998810938,
          "yanchor": "bottom",
          "yref": "paper"
         },
         {
          "font": {
           "size": 16
          },
          "showarrow": false,
          "text": "Topic 40",
          "x": 0.0875,
          "xanchor": "center",
          "xref": "paper",
          "y": 0.884528999867882,
          "yanchor": "bottom",
          "yref": "paper"
         },
         {
          "font": {
           "size": 16
          },
          "showarrow": false,
          "text": "Topic 41",
          "x": 0.36250000000000004,
          "xanchor": "center",
          "xref": "paper",
          "y": 0.884528999867882,
          "yanchor": "bottom",
          "yref": "paper"
         },
         {
          "font": {
           "size": 16
          },
          "showarrow": false,
          "text": "Topic 42",
          "x": 0.6375000000000001,
          "xanchor": "center",
          "xref": "paper",
          "y": 0.884528999867882,
          "yanchor": "bottom",
          "yref": "paper"
         },
         {
          "font": {
           "size": 16
          },
          "showarrow": false,
          "text": "Topic 43",
          "x": 0.9125,
          "xanchor": "center",
          "xref": "paper",
          "y": 0.884528999867882,
          "yanchor": "bottom",
          "yref": "paper"
         },
         {
          "font": {
           "size": 16
          },
          "showarrow": false,
          "text": "Topic 44",
          "x": 0.0875,
          "xanchor": "center",
          "xref": "paper",
          "y": 0.8729818998546702,
          "yanchor": "bottom",
          "yref": "paper"
         },
         {
          "font": {
           "size": 16
          },
          "showarrow": false,
          "text": "Topic 45",
          "x": 0.36250000000000004,
          "xanchor": "center",
          "xref": "paper",
          "y": 0.8729818998546702,
          "yanchor": "bottom",
          "yref": "paper"
         },
         {
          "font": {
           "size": 16
          },
          "showarrow": false,
          "text": "Topic 46",
          "x": 0.6375000000000001,
          "xanchor": "center",
          "xref": "paper",
          "y": 0.8729818998546702,
          "yanchor": "bottom",
          "yref": "paper"
         },
         {
          "font": {
           "size": 16
          },
          "showarrow": false,
          "text": "Topic 47",
          "x": 0.9125,
          "xanchor": "center",
          "xref": "paper",
          "y": 0.8729818998546702,
          "yanchor": "bottom",
          "yref": "paper"
         },
         {
          "font": {
           "size": 16
          },
          "showarrow": false,
          "text": "Topic 48",
          "x": 0.0875,
          "xanchor": "center",
          "xref": "paper",
          "y": 0.8614347998414584,
          "yanchor": "bottom",
          "yref": "paper"
         },
         {
          "font": {
           "size": 16
          },
          "showarrow": false,
          "text": "Topic 49",
          "x": 0.36250000000000004,
          "xanchor": "center",
          "xref": "paper",
          "y": 0.8614347998414584,
          "yanchor": "bottom",
          "yref": "paper"
         },
         {
          "font": {
           "size": 16
          },
          "showarrow": false,
          "text": "Topic 50",
          "x": 0.6375000000000001,
          "xanchor": "center",
          "xref": "paper",
          "y": 0.8614347998414584,
          "yanchor": "bottom",
          "yref": "paper"
         },
         {
          "font": {
           "size": 16
          },
          "showarrow": false,
          "text": "Topic 51",
          "x": 0.9125,
          "xanchor": "center",
          "xref": "paper",
          "y": 0.8614347998414584,
          "yanchor": "bottom",
          "yref": "paper"
         },
         {
          "font": {
           "size": 16
          },
          "showarrow": false,
          "text": "Topic 52",
          "x": 0.0875,
          "xanchor": "center",
          "xref": "paper",
          "y": 0.8498876998282465,
          "yanchor": "bottom",
          "yref": "paper"
         },
         {
          "font": {
           "size": 16
          },
          "showarrow": false,
          "text": "Topic 53",
          "x": 0.36250000000000004,
          "xanchor": "center",
          "xref": "paper",
          "y": 0.8498876998282465,
          "yanchor": "bottom",
          "yref": "paper"
         },
         {
          "font": {
           "size": 16
          },
          "showarrow": false,
          "text": "Topic 54",
          "x": 0.6375000000000001,
          "xanchor": "center",
          "xref": "paper",
          "y": 0.8498876998282465,
          "yanchor": "bottom",
          "yref": "paper"
         },
         {
          "font": {
           "size": 16
          },
          "showarrow": false,
          "text": "Topic 55",
          "x": 0.9125,
          "xanchor": "center",
          "xref": "paper",
          "y": 0.8498876998282465,
          "yanchor": "bottom",
          "yref": "paper"
         },
         {
          "font": {
           "size": 16
          },
          "showarrow": false,
          "text": "Topic 56",
          "x": 0.0875,
          "xanchor": "center",
          "xref": "paper",
          "y": 0.8383405998150347,
          "yanchor": "bottom",
          "yref": "paper"
         },
         {
          "font": {
           "size": 16
          },
          "showarrow": false,
          "text": "Topic 57",
          "x": 0.36250000000000004,
          "xanchor": "center",
          "xref": "paper",
          "y": 0.8383405998150347,
          "yanchor": "bottom",
          "yref": "paper"
         },
         {
          "font": {
           "size": 16
          },
          "showarrow": false,
          "text": "Topic 58",
          "x": 0.6375000000000001,
          "xanchor": "center",
          "xref": "paper",
          "y": 0.8383405998150347,
          "yanchor": "bottom",
          "yref": "paper"
         },
         {
          "font": {
           "size": 16
          },
          "showarrow": false,
          "text": "Topic 59",
          "x": 0.9125,
          "xanchor": "center",
          "xref": "paper",
          "y": 0.8383405998150347,
          "yanchor": "bottom",
          "yref": "paper"
         },
         {
          "font": {
           "size": 16
          },
          "showarrow": false,
          "text": "Topic 60",
          "x": 0.0875,
          "xanchor": "center",
          "xref": "paper",
          "y": 0.8267934998018229,
          "yanchor": "bottom",
          "yref": "paper"
         },
         {
          "font": {
           "size": 16
          },
          "showarrow": false,
          "text": "Topic 61",
          "x": 0.36250000000000004,
          "xanchor": "center",
          "xref": "paper",
          "y": 0.8267934998018229,
          "yanchor": "bottom",
          "yref": "paper"
         },
         {
          "font": {
           "size": 16
          },
          "showarrow": false,
          "text": "Topic 62",
          "x": 0.6375000000000001,
          "xanchor": "center",
          "xref": "paper",
          "y": 0.8267934998018229,
          "yanchor": "bottom",
          "yref": "paper"
         },
         {
          "font": {
           "size": 16
          },
          "showarrow": false,
          "text": "Topic 63",
          "x": 0.9125,
          "xanchor": "center",
          "xref": "paper",
          "y": 0.8267934998018229,
          "yanchor": "bottom",
          "yref": "paper"
         },
         {
          "font": {
           "size": 16
          },
          "showarrow": false,
          "text": "Topic 64",
          "x": 0.0875,
          "xanchor": "center",
          "xref": "paper",
          "y": 0.8152463997886112,
          "yanchor": "bottom",
          "yref": "paper"
         },
         {
          "font": {
           "size": 16
          },
          "showarrow": false,
          "text": "Topic 65",
          "x": 0.36250000000000004,
          "xanchor": "center",
          "xref": "paper",
          "y": 0.8152463997886112,
          "yanchor": "bottom",
          "yref": "paper"
         },
         {
          "font": {
           "size": 16
          },
          "showarrow": false,
          "text": "Topic 66",
          "x": 0.6375000000000001,
          "xanchor": "center",
          "xref": "paper",
          "y": 0.8152463997886112,
          "yanchor": "bottom",
          "yref": "paper"
         },
         {
          "font": {
           "size": 16
          },
          "showarrow": false,
          "text": "Topic 67",
          "x": 0.9125,
          "xanchor": "center",
          "xref": "paper",
          "y": 0.8152463997886112,
          "yanchor": "bottom",
          "yref": "paper"
         },
         {
          "font": {
           "size": 16
          },
          "showarrow": false,
          "text": "Topic 68",
          "x": 0.0875,
          "xanchor": "center",
          "xref": "paper",
          "y": 0.8036992997753993,
          "yanchor": "bottom",
          "yref": "paper"
         },
         {
          "font": {
           "size": 16
          },
          "showarrow": false,
          "text": "Topic 69",
          "x": 0.36250000000000004,
          "xanchor": "center",
          "xref": "paper",
          "y": 0.8036992997753993,
          "yanchor": "bottom",
          "yref": "paper"
         },
         {
          "font": {
           "size": 16
          },
          "showarrow": false,
          "text": "Topic 70",
          "x": 0.6375000000000001,
          "xanchor": "center",
          "xref": "paper",
          "y": 0.8036992997753993,
          "yanchor": "bottom",
          "yref": "paper"
         },
         {
          "font": {
           "size": 16
          },
          "showarrow": false,
          "text": "Topic 71",
          "x": 0.9125,
          "xanchor": "center",
          "xref": "paper",
          "y": 0.8036992997753993,
          "yanchor": "bottom",
          "yref": "paper"
         },
         {
          "font": {
           "size": 16
          },
          "showarrow": false,
          "text": "Topic 72",
          "x": 0.0875,
          "xanchor": "center",
          "xref": "paper",
          "y": 0.7921521997621876,
          "yanchor": "bottom",
          "yref": "paper"
         },
         {
          "font": {
           "size": 16
          },
          "showarrow": false,
          "text": "Topic 73",
          "x": 0.36250000000000004,
          "xanchor": "center",
          "xref": "paper",
          "y": 0.7921521997621876,
          "yanchor": "bottom",
          "yref": "paper"
         },
         {
          "font": {
           "size": 16
          },
          "showarrow": false,
          "text": "Topic 74",
          "x": 0.6375000000000001,
          "xanchor": "center",
          "xref": "paper",
          "y": 0.7921521997621876,
          "yanchor": "bottom",
          "yref": "paper"
         },
         {
          "font": {
           "size": 16
          },
          "showarrow": false,
          "text": "Topic 75",
          "x": 0.9125,
          "xanchor": "center",
          "xref": "paper",
          "y": 0.7921521997621876,
          "yanchor": "bottom",
          "yref": "paper"
         },
         {
          "font": {
           "size": 16
          },
          "showarrow": false,
          "text": "Topic 76",
          "x": 0.0875,
          "xanchor": "center",
          "xref": "paper",
          "y": 0.780605099748976,
          "yanchor": "bottom",
          "yref": "paper"
         },
         {
          "font": {
           "size": 16
          },
          "showarrow": false,
          "text": "Topic 77",
          "x": 0.36250000000000004,
          "xanchor": "center",
          "xref": "paper",
          "y": 0.780605099748976,
          "yanchor": "bottom",
          "yref": "paper"
         },
         {
          "font": {
           "size": 16
          },
          "showarrow": false,
          "text": "Topic 78",
          "x": 0.6375000000000001,
          "xanchor": "center",
          "xref": "paper",
          "y": 0.780605099748976,
          "yanchor": "bottom",
          "yref": "paper"
         },
         {
          "font": {
           "size": 16
          },
          "showarrow": false,
          "text": "Topic 79",
          "x": 0.9125,
          "xanchor": "center",
          "xref": "paper",
          "y": 0.780605099748976,
          "yanchor": "bottom",
          "yref": "paper"
         },
         {
          "font": {
           "size": 16
          },
          "showarrow": false,
          "text": "Topic 80",
          "x": 0.0875,
          "xanchor": "center",
          "xref": "paper",
          "y": 0.769057999735764,
          "yanchor": "bottom",
          "yref": "paper"
         },
         {
          "font": {
           "size": 16
          },
          "showarrow": false,
          "text": "Topic 81",
          "x": 0.36250000000000004,
          "xanchor": "center",
          "xref": "paper",
          "y": 0.769057999735764,
          "yanchor": "bottom",
          "yref": "paper"
         },
         {
          "font": {
           "size": 16
          },
          "showarrow": false,
          "text": "Topic 82",
          "x": 0.6375000000000001,
          "xanchor": "center",
          "xref": "paper",
          "y": 0.769057999735764,
          "yanchor": "bottom",
          "yref": "paper"
         },
         {
          "font": {
           "size": 16
          },
          "showarrow": false,
          "text": "Topic 83",
          "x": 0.9125,
          "xanchor": "center",
          "xref": "paper",
          "y": 0.769057999735764,
          "yanchor": "bottom",
          "yref": "paper"
         },
         {
          "font": {
           "size": 16
          },
          "showarrow": false,
          "text": "Topic 84",
          "x": 0.0875,
          "xanchor": "center",
          "xref": "paper",
          "y": 0.7575108997225524,
          "yanchor": "bottom",
          "yref": "paper"
         },
         {
          "font": {
           "size": 16
          },
          "showarrow": false,
          "text": "Topic 85",
          "x": 0.36250000000000004,
          "xanchor": "center",
          "xref": "paper",
          "y": 0.7575108997225524,
          "yanchor": "bottom",
          "yref": "paper"
         },
         {
          "font": {
           "size": 16
          },
          "showarrow": false,
          "text": "Topic 86",
          "x": 0.6375000000000001,
          "xanchor": "center",
          "xref": "paper",
          "y": 0.7575108997225524,
          "yanchor": "bottom",
          "yref": "paper"
         },
         {
          "font": {
           "size": 16
          },
          "showarrow": false,
          "text": "Topic 87",
          "x": 0.9125,
          "xanchor": "center",
          "xref": "paper",
          "y": 0.7575108997225524,
          "yanchor": "bottom",
          "yref": "paper"
         },
         {
          "font": {
           "size": 16
          },
          "showarrow": false,
          "text": "Topic 88",
          "x": 0.0875,
          "xanchor": "center",
          "xref": "paper",
          "y": 0.7459637997093406,
          "yanchor": "bottom",
          "yref": "paper"
         },
         {
          "font": {
           "size": 16
          },
          "showarrow": false,
          "text": "Topic 89",
          "x": 0.36250000000000004,
          "xanchor": "center",
          "xref": "paper",
          "y": 0.7459637997093406,
          "yanchor": "bottom",
          "yref": "paper"
         },
         {
          "font": {
           "size": 16
          },
          "showarrow": false,
          "text": "Topic 90",
          "x": 0.6375000000000001,
          "xanchor": "center",
          "xref": "paper",
          "y": 0.7459637997093406,
          "yanchor": "bottom",
          "yref": "paper"
         },
         {
          "font": {
           "size": 16
          },
          "showarrow": false,
          "text": "Topic 91",
          "x": 0.9125,
          "xanchor": "center",
          "xref": "paper",
          "y": 0.7459637997093406,
          "yanchor": "bottom",
          "yref": "paper"
         },
         {
          "font": {
           "size": 16
          },
          "showarrow": false,
          "text": "Topic 92",
          "x": 0.0875,
          "xanchor": "center",
          "xref": "paper",
          "y": 0.7344166996961288,
          "yanchor": "bottom",
          "yref": "paper"
         },
         {
          "font": {
           "size": 16
          },
          "showarrow": false,
          "text": "Topic 93",
          "x": 0.36250000000000004,
          "xanchor": "center",
          "xref": "paper",
          "y": 0.7344166996961288,
          "yanchor": "bottom",
          "yref": "paper"
         },
         {
          "font": {
           "size": 16
          },
          "showarrow": false,
          "text": "Topic 94",
          "x": 0.6375000000000001,
          "xanchor": "center",
          "xref": "paper",
          "y": 0.7344166996961288,
          "yanchor": "bottom",
          "yref": "paper"
         },
         {
          "font": {
           "size": 16
          },
          "showarrow": false,
          "text": "Topic 95",
          "x": 0.9125,
          "xanchor": "center",
          "xref": "paper",
          "y": 0.7344166996961288,
          "yanchor": "bottom",
          "yref": "paper"
         },
         {
          "font": {
           "size": 16
          },
          "showarrow": false,
          "text": "Topic 96",
          "x": 0.0875,
          "xanchor": "center",
          "xref": "paper",
          "y": 0.7228695996829171,
          "yanchor": "bottom",
          "yref": "paper"
         },
         {
          "font": {
           "size": 16
          },
          "showarrow": false,
          "text": "Topic 97",
          "x": 0.36250000000000004,
          "xanchor": "center",
          "xref": "paper",
          "y": 0.7228695996829171,
          "yanchor": "bottom",
          "yref": "paper"
         },
         {
          "font": {
           "size": 16
          },
          "showarrow": false,
          "text": "Topic 98",
          "x": 0.6375000000000001,
          "xanchor": "center",
          "xref": "paper",
          "y": 0.7228695996829171,
          "yanchor": "bottom",
          "yref": "paper"
         },
         {
          "font": {
           "size": 16
          },
          "showarrow": false,
          "text": "Topic 99",
          "x": 0.9125,
          "xanchor": "center",
          "xref": "paper",
          "y": 0.7228695996829171,
          "yanchor": "bottom",
          "yref": "paper"
         },
         {
          "font": {
           "size": 16
          },
          "showarrow": false,
          "text": "Topic 100",
          "x": 0.0875,
          "xanchor": "center",
          "xref": "paper",
          "y": 0.7113224996697052,
          "yanchor": "bottom",
          "yref": "paper"
         },
         {
          "font": {
           "size": 16
          },
          "showarrow": false,
          "text": "Topic 101",
          "x": 0.36250000000000004,
          "xanchor": "center",
          "xref": "paper",
          "y": 0.7113224996697052,
          "yanchor": "bottom",
          "yref": "paper"
         },
         {
          "font": {
           "size": 16
          },
          "showarrow": false,
          "text": "Topic 102",
          "x": 0.6375000000000001,
          "xanchor": "center",
          "xref": "paper",
          "y": 0.7113224996697052,
          "yanchor": "bottom",
          "yref": "paper"
         },
         {
          "font": {
           "size": 16
          },
          "showarrow": false,
          "text": "Topic 103",
          "x": 0.9125,
          "xanchor": "center",
          "xref": "paper",
          "y": 0.7113224996697052,
          "yanchor": "bottom",
          "yref": "paper"
         },
         {
          "font": {
           "size": 16
          },
          "showarrow": false,
          "text": "Topic 104",
          "x": 0.0875,
          "xanchor": "center",
          "xref": "paper",
          "y": 0.6997753996564935,
          "yanchor": "bottom",
          "yref": "paper"
         },
         {
          "font": {
           "size": 16
          },
          "showarrow": false,
          "text": "Topic 105",
          "x": 0.36250000000000004,
          "xanchor": "center",
          "xref": "paper",
          "y": 0.6997753996564935,
          "yanchor": "bottom",
          "yref": "paper"
         },
         {
          "font": {
           "size": 16
          },
          "showarrow": false,
          "text": "Topic 106",
          "x": 0.6375000000000001,
          "xanchor": "center",
          "xref": "paper",
          "y": 0.6997753996564935,
          "yanchor": "bottom",
          "yref": "paper"
         },
         {
          "font": {
           "size": 16
          },
          "showarrow": false,
          "text": "Topic 107",
          "x": 0.9125,
          "xanchor": "center",
          "xref": "paper",
          "y": 0.6997753996564935,
          "yanchor": "bottom",
          "yref": "paper"
         },
         {
          "font": {
           "size": 16
          },
          "showarrow": false,
          "text": "Topic 108",
          "x": 0.0875,
          "xanchor": "center",
          "xref": "paper",
          "y": 0.6882282996432818,
          "yanchor": "bottom",
          "yref": "paper"
         },
         {
          "font": {
           "size": 16
          },
          "showarrow": false,
          "text": "Topic 109",
          "x": 0.36250000000000004,
          "xanchor": "center",
          "xref": "paper",
          "y": 0.6882282996432818,
          "yanchor": "bottom",
          "yref": "paper"
         },
         {
          "font": {
           "size": 16
          },
          "showarrow": false,
          "text": "Topic 110",
          "x": 0.6375000000000001,
          "xanchor": "center",
          "xref": "paper",
          "y": 0.6882282996432818,
          "yanchor": "bottom",
          "yref": "paper"
         },
         {
          "font": {
           "size": 16
          },
          "showarrow": false,
          "text": "Topic 111",
          "x": 0.9125,
          "xanchor": "center",
          "xref": "paper",
          "y": 0.6882282996432818,
          "yanchor": "bottom",
          "yref": "paper"
         },
         {
          "font": {
           "size": 16
          },
          "showarrow": false,
          "text": "Topic 112",
          "x": 0.0875,
          "xanchor": "center",
          "xref": "paper",
          "y": 0.6766811996300699,
          "yanchor": "bottom",
          "yref": "paper"
         },
         {
          "font": {
           "size": 16
          },
          "showarrow": false,
          "text": "Topic 113",
          "x": 0.36250000000000004,
          "xanchor": "center",
          "xref": "paper",
          "y": 0.6766811996300699,
          "yanchor": "bottom",
          "yref": "paper"
         },
         {
          "font": {
           "size": 16
          },
          "showarrow": false,
          "text": "Topic 114",
          "x": 0.6375000000000001,
          "xanchor": "center",
          "xref": "paper",
          "y": 0.6766811996300699,
          "yanchor": "bottom",
          "yref": "paper"
         },
         {
          "font": {
           "size": 16
          },
          "showarrow": false,
          "text": "Topic 115",
          "x": 0.9125,
          "xanchor": "center",
          "xref": "paper",
          "y": 0.6766811996300699,
          "yanchor": "bottom",
          "yref": "paper"
         },
         {
          "font": {
           "size": 16
          },
          "showarrow": false,
          "text": "Topic 116",
          "x": 0.0875,
          "xanchor": "center",
          "xref": "paper",
          "y": 0.6651340996168582,
          "yanchor": "bottom",
          "yref": "paper"
         },
         {
          "font": {
           "size": 16
          },
          "showarrow": false,
          "text": "Topic 117",
          "x": 0.36250000000000004,
          "xanchor": "center",
          "xref": "paper",
          "y": 0.6651340996168582,
          "yanchor": "bottom",
          "yref": "paper"
         },
         {
          "font": {
           "size": 16
          },
          "showarrow": false,
          "text": "Topic 118",
          "x": 0.6375000000000001,
          "xanchor": "center",
          "xref": "paper",
          "y": 0.6651340996168582,
          "yanchor": "bottom",
          "yref": "paper"
         },
         {
          "font": {
           "size": 16
          },
          "showarrow": false,
          "text": "Topic 119",
          "x": 0.9125,
          "xanchor": "center",
          "xref": "paper",
          "y": 0.6651340996168582,
          "yanchor": "bottom",
          "yref": "paper"
         },
         {
          "font": {
           "size": 16
          },
          "showarrow": false,
          "text": "Topic 120",
          "x": 0.0875,
          "xanchor": "center",
          "xref": "paper",
          "y": 0.6535869996036464,
          "yanchor": "bottom",
          "yref": "paper"
         },
         {
          "font": {
           "size": 16
          },
          "showarrow": false,
          "text": "Topic 121",
          "x": 0.36250000000000004,
          "xanchor": "center",
          "xref": "paper",
          "y": 0.6535869996036464,
          "yanchor": "bottom",
          "yref": "paper"
         },
         {
          "font": {
           "size": 16
          },
          "showarrow": false,
          "text": "Topic 122",
          "x": 0.6375000000000001,
          "xanchor": "center",
          "xref": "paper",
          "y": 0.6535869996036464,
          "yanchor": "bottom",
          "yref": "paper"
         },
         {
          "font": {
           "size": 16
          },
          "showarrow": false,
          "text": "Topic 123",
          "x": 0.9125,
          "xanchor": "center",
          "xref": "paper",
          "y": 0.6535869996036464,
          "yanchor": "bottom",
          "yref": "paper"
         },
         {
          "font": {
           "size": 16
          },
          "showarrow": false,
          "text": "Topic 124",
          "x": 0.0875,
          "xanchor": "center",
          "xref": "paper",
          "y": 0.6420398995904346,
          "yanchor": "bottom",
          "yref": "paper"
         },
         {
          "font": {
           "size": 16
          },
          "showarrow": false,
          "text": "Topic 125",
          "x": 0.36250000000000004,
          "xanchor": "center",
          "xref": "paper",
          "y": 0.6420398995904346,
          "yanchor": "bottom",
          "yref": "paper"
         },
         {
          "font": {
           "size": 16
          },
          "showarrow": false,
          "text": "Topic 126",
          "x": 0.6375000000000001,
          "xanchor": "center",
          "xref": "paper",
          "y": 0.6420398995904346,
          "yanchor": "bottom",
          "yref": "paper"
         },
         {
          "font": {
           "size": 16
          },
          "showarrow": false,
          "text": "Topic 127",
          "x": 0.9125,
          "xanchor": "center",
          "xref": "paper",
          "y": 0.6420398995904346,
          "yanchor": "bottom",
          "yref": "paper"
         },
         {
          "font": {
           "size": 16
          },
          "showarrow": false,
          "text": "Topic 128",
          "x": 0.0875,
          "xanchor": "center",
          "xref": "paper",
          "y": 0.6304927995772229,
          "yanchor": "bottom",
          "yref": "paper"
         },
         {
          "font": {
           "size": 16
          },
          "showarrow": false,
          "text": "Topic 129",
          "x": 0.36250000000000004,
          "xanchor": "center",
          "xref": "paper",
          "y": 0.6304927995772229,
          "yanchor": "bottom",
          "yref": "paper"
         },
         {
          "font": {
           "size": 16
          },
          "showarrow": false,
          "text": "Topic 130",
          "x": 0.6375000000000001,
          "xanchor": "center",
          "xref": "paper",
          "y": 0.6304927995772229,
          "yanchor": "bottom",
          "yref": "paper"
         },
         {
          "font": {
           "size": 16
          },
          "showarrow": false,
          "text": "Topic 131",
          "x": 0.9125,
          "xanchor": "center",
          "xref": "paper",
          "y": 0.6304927995772229,
          "yanchor": "bottom",
          "yref": "paper"
         },
         {
          "font": {
           "size": 16
          },
          "showarrow": false,
          "text": "Topic 132",
          "x": 0.0875,
          "xanchor": "center",
          "xref": "paper",
          "y": 0.6189456995640111,
          "yanchor": "bottom",
          "yref": "paper"
         },
         {
          "font": {
           "size": 16
          },
          "showarrow": false,
          "text": "Topic 133",
          "x": 0.36250000000000004,
          "xanchor": "center",
          "xref": "paper",
          "y": 0.6189456995640111,
          "yanchor": "bottom",
          "yref": "paper"
         },
         {
          "font": {
           "size": 16
          },
          "showarrow": false,
          "text": "Topic 134",
          "x": 0.6375000000000001,
          "xanchor": "center",
          "xref": "paper",
          "y": 0.6189456995640111,
          "yanchor": "bottom",
          "yref": "paper"
         },
         {
          "font": {
           "size": 16
          },
          "showarrow": false,
          "text": "Topic 135",
          "x": 0.9125,
          "xanchor": "center",
          "xref": "paper",
          "y": 0.6189456995640111,
          "yanchor": "bottom",
          "yref": "paper"
         },
         {
          "font": {
           "size": 16
          },
          "showarrow": false,
          "text": "Topic 136",
          "x": 0.0875,
          "xanchor": "center",
          "xref": "paper",
          "y": 0.6073985995507993,
          "yanchor": "bottom",
          "yref": "paper"
         },
         {
          "font": {
           "size": 16
          },
          "showarrow": false,
          "text": "Topic 137",
          "x": 0.36250000000000004,
          "xanchor": "center",
          "xref": "paper",
          "y": 0.6073985995507993,
          "yanchor": "bottom",
          "yref": "paper"
         },
         {
          "font": {
           "size": 16
          },
          "showarrow": false,
          "text": "Topic 138",
          "x": 0.6375000000000001,
          "xanchor": "center",
          "xref": "paper",
          "y": 0.6073985995507993,
          "yanchor": "bottom",
          "yref": "paper"
         },
         {
          "font": {
           "size": 16
          },
          "showarrow": false,
          "text": "Topic 139",
          "x": 0.9125,
          "xanchor": "center",
          "xref": "paper",
          "y": 0.6073985995507993,
          "yanchor": "bottom",
          "yref": "paper"
         },
         {
          "font": {
           "size": 16
          },
          "showarrow": false,
          "text": "Topic 140",
          "x": 0.0875,
          "xanchor": "center",
          "xref": "paper",
          "y": 0.5958514995375875,
          "yanchor": "bottom",
          "yref": "paper"
         },
         {
          "font": {
           "size": 16
          },
          "showarrow": false,
          "text": "Topic 141",
          "x": 0.36250000000000004,
          "xanchor": "center",
          "xref": "paper",
          "y": 0.5958514995375875,
          "yanchor": "bottom",
          "yref": "paper"
         },
         {
          "font": {
           "size": 16
          },
          "showarrow": false,
          "text": "Topic 142",
          "x": 0.6375000000000001,
          "xanchor": "center",
          "xref": "paper",
          "y": 0.5958514995375875,
          "yanchor": "bottom",
          "yref": "paper"
         },
         {
          "font": {
           "size": 16
          },
          "showarrow": false,
          "text": "Topic 143",
          "x": 0.9125,
          "xanchor": "center",
          "xref": "paper",
          "y": 0.5958514995375875,
          "yanchor": "bottom",
          "yref": "paper"
         },
         {
          "font": {
           "size": 16
          },
          "showarrow": false,
          "text": "Topic 144",
          "x": 0.0875,
          "xanchor": "center",
          "xref": "paper",
          "y": 0.5843043995243757,
          "yanchor": "bottom",
          "yref": "paper"
         },
         {
          "font": {
           "size": 16
          },
          "showarrow": false,
          "text": "Topic 145",
          "x": 0.36250000000000004,
          "xanchor": "center",
          "xref": "paper",
          "y": 0.5843043995243757,
          "yanchor": "bottom",
          "yref": "paper"
         },
         {
          "font": {
           "size": 16
          },
          "showarrow": false,
          "text": "Topic 146",
          "x": 0.6375000000000001,
          "xanchor": "center",
          "xref": "paper",
          "y": 0.5843043995243757,
          "yanchor": "bottom",
          "yref": "paper"
         },
         {
          "font": {
           "size": 16
          },
          "showarrow": false,
          "text": "Topic 147",
          "x": 0.9125,
          "xanchor": "center",
          "xref": "paper",
          "y": 0.5843043995243757,
          "yanchor": "bottom",
          "yref": "paper"
         },
         {
          "font": {
           "size": 16
          },
          "showarrow": false,
          "text": "Topic 148",
          "x": 0.0875,
          "xanchor": "center",
          "xref": "paper",
          "y": 0.572757299511164,
          "yanchor": "bottom",
          "yref": "paper"
         },
         {
          "font": {
           "size": 16
          },
          "showarrow": false,
          "text": "Topic 149",
          "x": 0.36250000000000004,
          "xanchor": "center",
          "xref": "paper",
          "y": 0.572757299511164,
          "yanchor": "bottom",
          "yref": "paper"
         },
         {
          "font": {
           "size": 16
          },
          "showarrow": false,
          "text": "Topic 150",
          "x": 0.6375000000000001,
          "xanchor": "center",
          "xref": "paper",
          "y": 0.572757299511164,
          "yanchor": "bottom",
          "yref": "paper"
         },
         {
          "font": {
           "size": 16
          },
          "showarrow": false,
          "text": "Topic 151",
          "x": 0.9125,
          "xanchor": "center",
          "xref": "paper",
          "y": 0.572757299511164,
          "yanchor": "bottom",
          "yref": "paper"
         },
         {
          "font": {
           "size": 16
          },
          "showarrow": false,
          "text": "Topic 152",
          "x": 0.0875,
          "xanchor": "center",
          "xref": "paper",
          "y": 0.5612101994979523,
          "yanchor": "bottom",
          "yref": "paper"
         },
         {
          "font": {
           "size": 16
          },
          "showarrow": false,
          "text": "Topic 153",
          "x": 0.36250000000000004,
          "xanchor": "center",
          "xref": "paper",
          "y": 0.5612101994979523,
          "yanchor": "bottom",
          "yref": "paper"
         },
         {
          "font": {
           "size": 16
          },
          "showarrow": false,
          "text": "Topic 154",
          "x": 0.6375000000000001,
          "xanchor": "center",
          "xref": "paper",
          "y": 0.5612101994979523,
          "yanchor": "bottom",
          "yref": "paper"
         },
         {
          "font": {
           "size": 16
          },
          "showarrow": false,
          "text": "Topic 155",
          "x": 0.9125,
          "xanchor": "center",
          "xref": "paper",
          "y": 0.5612101994979523,
          "yanchor": "bottom",
          "yref": "paper"
         },
         {
          "font": {
           "size": 16
          },
          "showarrow": false,
          "text": "Topic 156",
          "x": 0.0875,
          "xanchor": "center",
          "xref": "paper",
          "y": 0.5496630994847405,
          "yanchor": "bottom",
          "yref": "paper"
         },
         {
          "font": {
           "size": 16
          },
          "showarrow": false,
          "text": "Topic 157",
          "x": 0.36250000000000004,
          "xanchor": "center",
          "xref": "paper",
          "y": 0.5496630994847405,
          "yanchor": "bottom",
          "yref": "paper"
         },
         {
          "font": {
           "size": 16
          },
          "showarrow": false,
          "text": "Topic 158",
          "x": 0.6375000000000001,
          "xanchor": "center",
          "xref": "paper",
          "y": 0.5496630994847405,
          "yanchor": "bottom",
          "yref": "paper"
         },
         {
          "font": {
           "size": 16
          },
          "showarrow": false,
          "text": "Topic 159",
          "x": 0.9125,
          "xanchor": "center",
          "xref": "paper",
          "y": 0.5496630994847405,
          "yanchor": "bottom",
          "yref": "paper"
         },
         {
          "font": {
           "size": 16
          },
          "showarrow": false,
          "text": "Topic 160",
          "x": 0.0875,
          "xanchor": "center",
          "xref": "paper",
          "y": 0.5381159994715288,
          "yanchor": "bottom",
          "yref": "paper"
         },
         {
          "font": {
           "size": 16
          },
          "showarrow": false,
          "text": "Topic 161",
          "x": 0.36250000000000004,
          "xanchor": "center",
          "xref": "paper",
          "y": 0.5381159994715288,
          "yanchor": "bottom",
          "yref": "paper"
         },
         {
          "font": {
           "size": 16
          },
          "showarrow": false,
          "text": "Topic 162",
          "x": 0.6375000000000001,
          "xanchor": "center",
          "xref": "paper",
          "y": 0.5381159994715288,
          "yanchor": "bottom",
          "yref": "paper"
         },
         {
          "font": {
           "size": 16
          },
          "showarrow": false,
          "text": "Topic 163",
          "x": 0.9125,
          "xanchor": "center",
          "xref": "paper",
          "y": 0.5381159994715288,
          "yanchor": "bottom",
          "yref": "paper"
         },
         {
          "font": {
           "size": 16
          },
          "showarrow": false,
          "text": "Topic 164",
          "x": 0.0875,
          "xanchor": "center",
          "xref": "paper",
          "y": 0.526568899458317,
          "yanchor": "bottom",
          "yref": "paper"
         },
         {
          "font": {
           "size": 16
          },
          "showarrow": false,
          "text": "Topic 165",
          "x": 0.36250000000000004,
          "xanchor": "center",
          "xref": "paper",
          "y": 0.526568899458317,
          "yanchor": "bottom",
          "yref": "paper"
         },
         {
          "font": {
           "size": 16
          },
          "showarrow": false,
          "text": "Topic 166",
          "x": 0.6375000000000001,
          "xanchor": "center",
          "xref": "paper",
          "y": 0.526568899458317,
          "yanchor": "bottom",
          "yref": "paper"
         },
         {
          "font": {
           "size": 16
          },
          "showarrow": false,
          "text": "Topic 167",
          "x": 0.9125,
          "xanchor": "center",
          "xref": "paper",
          "y": 0.526568899458317,
          "yanchor": "bottom",
          "yref": "paper"
         },
         {
          "font": {
           "size": 16
          },
          "showarrow": false,
          "text": "Topic 168",
          "x": 0.0875,
          "xanchor": "center",
          "xref": "paper",
          "y": 0.5150217994451052,
          "yanchor": "bottom",
          "yref": "paper"
         },
         {
          "font": {
           "size": 16
          },
          "showarrow": false,
          "text": "Topic 169",
          "x": 0.36250000000000004,
          "xanchor": "center",
          "xref": "paper",
          "y": 0.5150217994451052,
          "yanchor": "bottom",
          "yref": "paper"
         },
         {
          "font": {
           "size": 16
          },
          "showarrow": false,
          "text": "Topic 170",
          "x": 0.6375000000000001,
          "xanchor": "center",
          "xref": "paper",
          "y": 0.5150217994451052,
          "yanchor": "bottom",
          "yref": "paper"
         },
         {
          "font": {
           "size": 16
          },
          "showarrow": false,
          "text": "Topic 171",
          "x": 0.9125,
          "xanchor": "center",
          "xref": "paper",
          "y": 0.5150217994451052,
          "yanchor": "bottom",
          "yref": "paper"
         },
         {
          "font": {
           "size": 16
          },
          "showarrow": false,
          "text": "Topic 172",
          "x": 0.0875,
          "xanchor": "center",
          "xref": "paper",
          "y": 0.5034746994318934,
          "yanchor": "bottom",
          "yref": "paper"
         },
         {
          "font": {
           "size": 16
          },
          "showarrow": false,
          "text": "Topic 173",
          "x": 0.36250000000000004,
          "xanchor": "center",
          "xref": "paper",
          "y": 0.5034746994318934,
          "yanchor": "bottom",
          "yref": "paper"
         },
         {
          "font": {
           "size": 16
          },
          "showarrow": false,
          "text": "Topic 174",
          "x": 0.6375000000000001,
          "xanchor": "center",
          "xref": "paper",
          "y": 0.5034746994318934,
          "yanchor": "bottom",
          "yref": "paper"
         },
         {
          "font": {
           "size": 16
          },
          "showarrow": false,
          "text": "Topic 175",
          "x": 0.9125,
          "xanchor": "center",
          "xref": "paper",
          "y": 0.5034746994318934,
          "yanchor": "bottom",
          "yref": "paper"
         },
         {
          "font": {
           "size": 16
          },
          "showarrow": false,
          "text": "Topic 176",
          "x": 0.0875,
          "xanchor": "center",
          "xref": "paper",
          "y": 0.4919275994186816,
          "yanchor": "bottom",
          "yref": "paper"
         },
         {
          "font": {
           "size": 16
          },
          "showarrow": false,
          "text": "Topic 177",
          "x": 0.36250000000000004,
          "xanchor": "center",
          "xref": "paper",
          "y": 0.4919275994186816,
          "yanchor": "bottom",
          "yref": "paper"
         },
         {
          "font": {
           "size": 16
          },
          "showarrow": false,
          "text": "Topic 178",
          "x": 0.6375000000000001,
          "xanchor": "center",
          "xref": "paper",
          "y": 0.4919275994186816,
          "yanchor": "bottom",
          "yref": "paper"
         },
         {
          "font": {
           "size": 16
          },
          "showarrow": false,
          "text": "Topic 179",
          "x": 0.9125,
          "xanchor": "center",
          "xref": "paper",
          "y": 0.4919275994186816,
          "yanchor": "bottom",
          "yref": "paper"
         },
         {
          "font": {
           "size": 16
          },
          "showarrow": false,
          "text": "Topic 180",
          "x": 0.0875,
          "xanchor": "center",
          "xref": "paper",
          "y": 0.48038049940546984,
          "yanchor": "bottom",
          "yref": "paper"
         },
         {
          "font": {
           "size": 16
          },
          "showarrow": false,
          "text": "Topic 181",
          "x": 0.36250000000000004,
          "xanchor": "center",
          "xref": "paper",
          "y": 0.48038049940546984,
          "yanchor": "bottom",
          "yref": "paper"
         },
         {
          "font": {
           "size": 16
          },
          "showarrow": false,
          "text": "Topic 182",
          "x": 0.6375000000000001,
          "xanchor": "center",
          "xref": "paper",
          "y": 0.48038049940546984,
          "yanchor": "bottom",
          "yref": "paper"
         },
         {
          "font": {
           "size": 16
          },
          "showarrow": false,
          "text": "Topic 183",
          "x": 0.9125,
          "xanchor": "center",
          "xref": "paper",
          "y": 0.48038049940546984,
          "yanchor": "bottom",
          "yref": "paper"
         },
         {
          "font": {
           "size": 16
          },
          "showarrow": false,
          "text": "Topic 184",
          "x": 0.0875,
          "xanchor": "center",
          "xref": "paper",
          "y": 0.46883339939225804,
          "yanchor": "bottom",
          "yref": "paper"
         },
         {
          "font": {
           "size": 16
          },
          "showarrow": false,
          "text": "Topic 185",
          "x": 0.36250000000000004,
          "xanchor": "center",
          "xref": "paper",
          "y": 0.46883339939225804,
          "yanchor": "bottom",
          "yref": "paper"
         },
         {
          "font": {
           "size": 16
          },
          "showarrow": false,
          "text": "Topic 186",
          "x": 0.6375000000000001,
          "xanchor": "center",
          "xref": "paper",
          "y": 0.46883339939225804,
          "yanchor": "bottom",
          "yref": "paper"
         },
         {
          "font": {
           "size": 16
          },
          "showarrow": false,
          "text": "Topic 187",
          "x": 0.9125,
          "xanchor": "center",
          "xref": "paper",
          "y": 0.46883339939225804,
          "yanchor": "bottom",
          "yref": "paper"
         },
         {
          "font": {
           "size": 16
          },
          "showarrow": false,
          "text": "Topic 188",
          "x": 0.0875,
          "xanchor": "center",
          "xref": "paper",
          "y": 0.45728629937904625,
          "yanchor": "bottom",
          "yref": "paper"
         },
         {
          "font": {
           "size": 16
          },
          "showarrow": false,
          "text": "Topic 189",
          "x": 0.36250000000000004,
          "xanchor": "center",
          "xref": "paper",
          "y": 0.45728629937904625,
          "yanchor": "bottom",
          "yref": "paper"
         },
         {
          "font": {
           "size": 16
          },
          "showarrow": false,
          "text": "Topic 190",
          "x": 0.6375000000000001,
          "xanchor": "center",
          "xref": "paper",
          "y": 0.45728629937904625,
          "yanchor": "bottom",
          "yref": "paper"
         },
         {
          "font": {
           "size": 16
          },
          "showarrow": false,
          "text": "Topic 191",
          "x": 0.9125,
          "xanchor": "center",
          "xref": "paper",
          "y": 0.45728629937904625,
          "yanchor": "bottom",
          "yref": "paper"
         },
         {
          "font": {
           "size": 16
          },
          "showarrow": false,
          "text": "Topic 192",
          "x": 0.0875,
          "xanchor": "center",
          "xref": "paper",
          "y": 0.4457391993658345,
          "yanchor": "bottom",
          "yref": "paper"
         },
         {
          "font": {
           "size": 16
          },
          "showarrow": false,
          "text": "Topic 193",
          "x": 0.36250000000000004,
          "xanchor": "center",
          "xref": "paper",
          "y": 0.4457391993658345,
          "yanchor": "bottom",
          "yref": "paper"
         },
         {
          "font": {
           "size": 16
          },
          "showarrow": false,
          "text": "Topic 194",
          "x": 0.6375000000000001,
          "xanchor": "center",
          "xref": "paper",
          "y": 0.4457391993658345,
          "yanchor": "bottom",
          "yref": "paper"
         },
         {
          "font": {
           "size": 16
          },
          "showarrow": false,
          "text": "Topic 195",
          "x": 0.9125,
          "xanchor": "center",
          "xref": "paper",
          "y": 0.4457391993658345,
          "yanchor": "bottom",
          "yref": "paper"
         },
         {
          "font": {
           "size": 16
          },
          "showarrow": false,
          "text": "Topic 196",
          "x": 0.0875,
          "xanchor": "center",
          "xref": "paper",
          "y": 0.43419209935262276,
          "yanchor": "bottom",
          "yref": "paper"
         },
         {
          "font": {
           "size": 16
          },
          "showarrow": false,
          "text": "Topic 197",
          "x": 0.36250000000000004,
          "xanchor": "center",
          "xref": "paper",
          "y": 0.43419209935262276,
          "yanchor": "bottom",
          "yref": "paper"
         },
         {
          "font": {
           "size": 16
          },
          "showarrow": false,
          "text": "Topic 198",
          "x": 0.6375000000000001,
          "xanchor": "center",
          "xref": "paper",
          "y": 0.43419209935262276,
          "yanchor": "bottom",
          "yref": "paper"
         },
         {
          "font": {
           "size": 16
          },
          "showarrow": false,
          "text": "Topic 199",
          "x": 0.9125,
          "xanchor": "center",
          "xref": "paper",
          "y": 0.43419209935262276,
          "yanchor": "bottom",
          "yref": "paper"
         },
         {
          "font": {
           "size": 16
          },
          "showarrow": false,
          "text": "Topic 200",
          "x": 0.0875,
          "xanchor": "center",
          "xref": "paper",
          "y": 0.42264499933941096,
          "yanchor": "bottom",
          "yref": "paper"
         },
         {
          "font": {
           "size": 16
          },
          "showarrow": false,
          "text": "Topic 201",
          "x": 0.36250000000000004,
          "xanchor": "center",
          "xref": "paper",
          "y": 0.42264499933941096,
          "yanchor": "bottom",
          "yref": "paper"
         },
         {
          "font": {
           "size": 16
          },
          "showarrow": false,
          "text": "Topic 202",
          "x": 0.6375000000000001,
          "xanchor": "center",
          "xref": "paper",
          "y": 0.42264499933941096,
          "yanchor": "bottom",
          "yref": "paper"
         },
         {
          "font": {
           "size": 16
          },
          "showarrow": false,
          "text": "Topic 203",
          "x": 0.9125,
          "xanchor": "center",
          "xref": "paper",
          "y": 0.42264499933941096,
          "yanchor": "bottom",
          "yref": "paper"
         },
         {
          "font": {
           "size": 16
          },
          "showarrow": false,
          "text": "Topic 204",
          "x": 0.0875,
          "xanchor": "center",
          "xref": "paper",
          "y": 0.41109789932619917,
          "yanchor": "bottom",
          "yref": "paper"
         },
         {
          "font": {
           "size": 16
          },
          "showarrow": false,
          "text": "Topic 205",
          "x": 0.36250000000000004,
          "xanchor": "center",
          "xref": "paper",
          "y": 0.41109789932619917,
          "yanchor": "bottom",
          "yref": "paper"
         },
         {
          "font": {
           "size": 16
          },
          "showarrow": false,
          "text": "Topic 206",
          "x": 0.6375000000000001,
          "xanchor": "center",
          "xref": "paper",
          "y": 0.41109789932619917,
          "yanchor": "bottom",
          "yref": "paper"
         },
         {
          "font": {
           "size": 16
          },
          "showarrow": false,
          "text": "Topic 207",
          "x": 0.9125,
          "xanchor": "center",
          "xref": "paper",
          "y": 0.41109789932619917,
          "yanchor": "bottom",
          "yref": "paper"
         },
         {
          "font": {
           "size": 16
          },
          "showarrow": false,
          "text": "Topic 208",
          "x": 0.0875,
          "xanchor": "center",
          "xref": "paper",
          "y": 0.39955079931298737,
          "yanchor": "bottom",
          "yref": "paper"
         },
         {
          "font": {
           "size": 16
          },
          "showarrow": false,
          "text": "Topic 209",
          "x": 0.36250000000000004,
          "xanchor": "center",
          "xref": "paper",
          "y": 0.39955079931298737,
          "yanchor": "bottom",
          "yref": "paper"
         },
         {
          "font": {
           "size": 16
          },
          "showarrow": false,
          "text": "Topic 210",
          "x": 0.6375000000000001,
          "xanchor": "center",
          "xref": "paper",
          "y": 0.39955079931298737,
          "yanchor": "bottom",
          "yref": "paper"
         },
         {
          "font": {
           "size": 16
          },
          "showarrow": false,
          "text": "Topic 211",
          "x": 0.9125,
          "xanchor": "center",
          "xref": "paper",
          "y": 0.39955079931298737,
          "yanchor": "bottom",
          "yref": "paper"
         },
         {
          "font": {
           "size": 16
          },
          "showarrow": false,
          "text": "Topic 212",
          "x": 0.0875,
          "xanchor": "center",
          "xref": "paper",
          "y": 0.3880036992997756,
          "yanchor": "bottom",
          "yref": "paper"
         },
         {
          "font": {
           "size": 16
          },
          "showarrow": false,
          "text": "Topic 213",
          "x": 0.36250000000000004,
          "xanchor": "center",
          "xref": "paper",
          "y": 0.3880036992997756,
          "yanchor": "bottom",
          "yref": "paper"
         },
         {
          "font": {
           "size": 16
          },
          "showarrow": false,
          "text": "Topic 214",
          "x": 0.6375000000000001,
          "xanchor": "center",
          "xref": "paper",
          "y": 0.3880036992997756,
          "yanchor": "bottom",
          "yref": "paper"
         },
         {
          "font": {
           "size": 16
          },
          "showarrow": false,
          "text": "Topic 215",
          "x": 0.9125,
          "xanchor": "center",
          "xref": "paper",
          "y": 0.3880036992997756,
          "yanchor": "bottom",
          "yref": "paper"
         },
         {
          "font": {
           "size": 16
          },
          "showarrow": false,
          "text": "Topic 216",
          "x": 0.0875,
          "xanchor": "center",
          "xref": "paper",
          "y": 0.3764565992865638,
          "yanchor": "bottom",
          "yref": "paper"
         },
         {
          "font": {
           "size": 16
          },
          "showarrow": false,
          "text": "Topic 217",
          "x": 0.36250000000000004,
          "xanchor": "center",
          "xref": "paper",
          "y": 0.3764565992865638,
          "yanchor": "bottom",
          "yref": "paper"
         },
         {
          "font": {
           "size": 16
          },
          "showarrow": false,
          "text": "Topic 218",
          "x": 0.6375000000000001,
          "xanchor": "center",
          "xref": "paper",
          "y": 0.3764565992865638,
          "yanchor": "bottom",
          "yref": "paper"
         },
         {
          "font": {
           "size": 16
          },
          "showarrow": false,
          "text": "Topic 219",
          "x": 0.9125,
          "xanchor": "center",
          "xref": "paper",
          "y": 0.3764565992865638,
          "yanchor": "bottom",
          "yref": "paper"
         },
         {
          "font": {
           "size": 16
          },
          "showarrow": false,
          "text": "Topic 220",
          "x": 0.0875,
          "xanchor": "center",
          "xref": "paper",
          "y": 0.364909499273352,
          "yanchor": "bottom",
          "yref": "paper"
         },
         {
          "font": {
           "size": 16
          },
          "showarrow": false,
          "text": "Topic 221",
          "x": 0.36250000000000004,
          "xanchor": "center",
          "xref": "paper",
          "y": 0.364909499273352,
          "yanchor": "bottom",
          "yref": "paper"
         },
         {
          "font": {
           "size": 16
          },
          "showarrow": false,
          "text": "Topic 222",
          "x": 0.6375000000000001,
          "xanchor": "center",
          "xref": "paper",
          "y": 0.364909499273352,
          "yanchor": "bottom",
          "yref": "paper"
         },
         {
          "font": {
           "size": 16
          },
          "showarrow": false,
          "text": "Topic 223",
          "x": 0.9125,
          "xanchor": "center",
          "xref": "paper",
          "y": 0.364909499273352,
          "yanchor": "bottom",
          "yref": "paper"
         },
         {
          "font": {
           "size": 16
          },
          "showarrow": false,
          "text": "Topic 224",
          "x": 0.0875,
          "xanchor": "center",
          "xref": "paper",
          "y": 0.3533623992601402,
          "yanchor": "bottom",
          "yref": "paper"
         },
         {
          "font": {
           "size": 16
          },
          "showarrow": false,
          "text": "Topic 225",
          "x": 0.36250000000000004,
          "xanchor": "center",
          "xref": "paper",
          "y": 0.3533623992601402,
          "yanchor": "bottom",
          "yref": "paper"
         },
         {
          "font": {
           "size": 16
          },
          "showarrow": false,
          "text": "Topic 226",
          "x": 0.6375000000000001,
          "xanchor": "center",
          "xref": "paper",
          "y": 0.3533623992601402,
          "yanchor": "bottom",
          "yref": "paper"
         },
         {
          "font": {
           "size": 16
          },
          "showarrow": false,
          "text": "Topic 227",
          "x": 0.9125,
          "xanchor": "center",
          "xref": "paper",
          "y": 0.3533623992601402,
          "yanchor": "bottom",
          "yref": "paper"
         },
         {
          "font": {
           "size": 16
          },
          "showarrow": false,
          "text": "Topic 228",
          "x": 0.0875,
          "xanchor": "center",
          "xref": "paper",
          "y": 0.3418152992469284,
          "yanchor": "bottom",
          "yref": "paper"
         },
         {
          "font": {
           "size": 16
          },
          "showarrow": false,
          "text": "Topic 229",
          "x": 0.36250000000000004,
          "xanchor": "center",
          "xref": "paper",
          "y": 0.3418152992469284,
          "yanchor": "bottom",
          "yref": "paper"
         },
         {
          "font": {
           "size": 16
          },
          "showarrow": false,
          "text": "Topic 230",
          "x": 0.6375000000000001,
          "xanchor": "center",
          "xref": "paper",
          "y": 0.3418152992469284,
          "yanchor": "bottom",
          "yref": "paper"
         },
         {
          "font": {
           "size": 16
          },
          "showarrow": false,
          "text": "Topic 231",
          "x": 0.9125,
          "xanchor": "center",
          "xref": "paper",
          "y": 0.3418152992469284,
          "yanchor": "bottom",
          "yref": "paper"
         },
         {
          "font": {
           "size": 16
          },
          "showarrow": false,
          "text": "Topic 232",
          "x": 0.0875,
          "xanchor": "center",
          "xref": "paper",
          "y": 0.3302681992337166,
          "yanchor": "bottom",
          "yref": "paper"
         },
         {
          "font": {
           "size": 16
          },
          "showarrow": false,
          "text": "Topic 233",
          "x": 0.36250000000000004,
          "xanchor": "center",
          "xref": "paper",
          "y": 0.3302681992337166,
          "yanchor": "bottom",
          "yref": "paper"
         },
         {
          "font": {
           "size": 16
          },
          "showarrow": false,
          "text": "Topic 234",
          "x": 0.6375000000000001,
          "xanchor": "center",
          "xref": "paper",
          "y": 0.3302681992337166,
          "yanchor": "bottom",
          "yref": "paper"
         },
         {
          "font": {
           "size": 16
          },
          "showarrow": false,
          "text": "Topic 235",
          "x": 0.9125,
          "xanchor": "center",
          "xref": "paper",
          "y": 0.3302681992337166,
          "yanchor": "bottom",
          "yref": "paper"
         },
         {
          "font": {
           "size": 16
          },
          "showarrow": false,
          "text": "Topic 236",
          "x": 0.0875,
          "xanchor": "center",
          "xref": "paper",
          "y": 0.3187210992205048,
          "yanchor": "bottom",
          "yref": "paper"
         },
         {
          "font": {
           "size": 16
          },
          "showarrow": false,
          "text": "Topic 237",
          "x": 0.36250000000000004,
          "xanchor": "center",
          "xref": "paper",
          "y": 0.3187210992205048,
          "yanchor": "bottom",
          "yref": "paper"
         },
         {
          "font": {
           "size": 16
          },
          "showarrow": false,
          "text": "Topic 238",
          "x": 0.6375000000000001,
          "xanchor": "center",
          "xref": "paper",
          "y": 0.3187210992205048,
          "yanchor": "bottom",
          "yref": "paper"
         },
         {
          "font": {
           "size": 16
          },
          "showarrow": false,
          "text": "Topic 239",
          "x": 0.9125,
          "xanchor": "center",
          "xref": "paper",
          "y": 0.3187210992205048,
          "yanchor": "bottom",
          "yref": "paper"
         },
         {
          "font": {
           "size": 16
          },
          "showarrow": false,
          "text": "Topic 240",
          "x": 0.0875,
          "xanchor": "center",
          "xref": "paper",
          "y": 0.307173999207293,
          "yanchor": "bottom",
          "yref": "paper"
         },
         {
          "font": {
           "size": 16
          },
          "showarrow": false,
          "text": "Topic 241",
          "x": 0.36250000000000004,
          "xanchor": "center",
          "xref": "paper",
          "y": 0.307173999207293,
          "yanchor": "bottom",
          "yref": "paper"
         },
         {
          "font": {
           "size": 16
          },
          "showarrow": false,
          "text": "Topic 242",
          "x": 0.6375000000000001,
          "xanchor": "center",
          "xref": "paper",
          "y": 0.307173999207293,
          "yanchor": "bottom",
          "yref": "paper"
         },
         {
          "font": {
           "size": 16
          },
          "showarrow": false,
          "text": "Topic 243",
          "x": 0.9125,
          "xanchor": "center",
          "xref": "paper",
          "y": 0.307173999207293,
          "yanchor": "bottom",
          "yref": "paper"
         },
         {
          "font": {
           "size": 16
          },
          "showarrow": false,
          "text": "Topic 244",
          "x": 0.0875,
          "xanchor": "center",
          "xref": "paper",
          "y": 0.2956268991940812,
          "yanchor": "bottom",
          "yref": "paper"
         },
         {
          "font": {
           "size": 16
          },
          "showarrow": false,
          "text": "Topic 245",
          "x": 0.36250000000000004,
          "xanchor": "center",
          "xref": "paper",
          "y": 0.2956268991940812,
          "yanchor": "bottom",
          "yref": "paper"
         },
         {
          "font": {
           "size": 16
          },
          "showarrow": false,
          "text": "Topic 246",
          "x": 0.6375000000000001,
          "xanchor": "center",
          "xref": "paper",
          "y": 0.2956268991940812,
          "yanchor": "bottom",
          "yref": "paper"
         },
         {
          "font": {
           "size": 16
          },
          "showarrow": false,
          "text": "Topic 247",
          "x": 0.9125,
          "xanchor": "center",
          "xref": "paper",
          "y": 0.2956268991940812,
          "yanchor": "bottom",
          "yref": "paper"
         },
         {
          "font": {
           "size": 16
          },
          "showarrow": false,
          "text": "Topic 248",
          "x": 0.0875,
          "xanchor": "center",
          "xref": "paper",
          "y": 0.2840797991808694,
          "yanchor": "bottom",
          "yref": "paper"
         },
         {
          "font": {
           "size": 16
          },
          "showarrow": false,
          "text": "Topic 249",
          "x": 0.36250000000000004,
          "xanchor": "center",
          "xref": "paper",
          "y": 0.2840797991808694,
          "yanchor": "bottom",
          "yref": "paper"
         },
         {
          "font": {
           "size": 16
          },
          "showarrow": false,
          "text": "Topic 250",
          "x": 0.6375000000000001,
          "xanchor": "center",
          "xref": "paper",
          "y": 0.2840797991808694,
          "yanchor": "bottom",
          "yref": "paper"
         },
         {
          "font": {
           "size": 16
          },
          "showarrow": false,
          "text": "Topic 251",
          "x": 0.9125,
          "xanchor": "center",
          "xref": "paper",
          "y": 0.2840797991808694,
          "yanchor": "bottom",
          "yref": "paper"
         },
         {
          "font": {
           "size": 16
          },
          "showarrow": false,
          "text": "Topic 252",
          "x": 0.0875,
          "xanchor": "center",
          "xref": "paper",
          "y": 0.2725326991676576,
          "yanchor": "bottom",
          "yref": "paper"
         },
         {
          "font": {
           "size": 16
          },
          "showarrow": false,
          "text": "Topic 253",
          "x": 0.36250000000000004,
          "xanchor": "center",
          "xref": "paper",
          "y": 0.2725326991676576,
          "yanchor": "bottom",
          "yref": "paper"
         },
         {
          "font": {
           "size": 16
          },
          "showarrow": false,
          "text": "Topic 254",
          "x": 0.6375000000000001,
          "xanchor": "center",
          "xref": "paper",
          "y": 0.2725326991676576,
          "yanchor": "bottom",
          "yref": "paper"
         },
         {
          "font": {
           "size": 16
          },
          "showarrow": false,
          "text": "Topic 255",
          "x": 0.9125,
          "xanchor": "center",
          "xref": "paper",
          "y": 0.2725326991676576,
          "yanchor": "bottom",
          "yref": "paper"
         },
         {
          "font": {
           "size": 16
          },
          "showarrow": false,
          "text": "Topic 256",
          "x": 0.0875,
          "xanchor": "center",
          "xref": "paper",
          "y": 0.2609855991544458,
          "yanchor": "bottom",
          "yref": "paper"
         },
         {
          "font": {
           "size": 16
          },
          "showarrow": false,
          "text": "Topic 257",
          "x": 0.36250000000000004,
          "xanchor": "center",
          "xref": "paper",
          "y": 0.2609855991544458,
          "yanchor": "bottom",
          "yref": "paper"
         },
         {
          "font": {
           "size": 16
          },
          "showarrow": false,
          "text": "Topic 258",
          "x": 0.6375000000000001,
          "xanchor": "center",
          "xref": "paper",
          "y": 0.2609855991544458,
          "yanchor": "bottom",
          "yref": "paper"
         },
         {
          "font": {
           "size": 16
          },
          "showarrow": false,
          "text": "Topic 259",
          "x": 0.9125,
          "xanchor": "center",
          "xref": "paper",
          "y": 0.2609855991544458,
          "yanchor": "bottom",
          "yref": "paper"
         },
         {
          "font": {
           "size": 16
          },
          "showarrow": false,
          "text": "Topic 260",
          "x": 0.0875,
          "xanchor": "center",
          "xref": "paper",
          "y": 0.24943849914123403,
          "yanchor": "bottom",
          "yref": "paper"
         },
         {
          "font": {
           "size": 16
          },
          "showarrow": false,
          "text": "Topic 261",
          "x": 0.36250000000000004,
          "xanchor": "center",
          "xref": "paper",
          "y": 0.24943849914123403,
          "yanchor": "bottom",
          "yref": "paper"
         },
         {
          "font": {
           "size": 16
          },
          "showarrow": false,
          "text": "Topic 262",
          "x": 0.6375000000000001,
          "xanchor": "center",
          "xref": "paper",
          "y": 0.24943849914123403,
          "yanchor": "bottom",
          "yref": "paper"
         },
         {
          "font": {
           "size": 16
          },
          "showarrow": false,
          "text": "Topic 263",
          "x": 0.9125,
          "xanchor": "center",
          "xref": "paper",
          "y": 0.24943849914123403,
          "yanchor": "bottom",
          "yref": "paper"
         },
         {
          "font": {
           "size": 16
          },
          "showarrow": false,
          "text": "Topic 264",
          "x": 0.0875,
          "xanchor": "center",
          "xref": "paper",
          "y": 0.23789139912802224,
          "yanchor": "bottom",
          "yref": "paper"
         },
         {
          "font": {
           "size": 16
          },
          "showarrow": false,
          "text": "Topic 265",
          "x": 0.36250000000000004,
          "xanchor": "center",
          "xref": "paper",
          "y": 0.23789139912802224,
          "yanchor": "bottom",
          "yref": "paper"
         },
         {
          "font": {
           "size": 16
          },
          "showarrow": false,
          "text": "Topic 266",
          "x": 0.6375000000000001,
          "xanchor": "center",
          "xref": "paper",
          "y": 0.23789139912802224,
          "yanchor": "bottom",
          "yref": "paper"
         },
         {
          "font": {
           "size": 16
          },
          "showarrow": false,
          "text": "Topic 267",
          "x": 0.9125,
          "xanchor": "center",
          "xref": "paper",
          "y": 0.23789139912802224,
          "yanchor": "bottom",
          "yref": "paper"
         },
         {
          "font": {
           "size": 16
          },
          "showarrow": false,
          "text": "Topic 268",
          "x": 0.0875,
          "xanchor": "center",
          "xref": "paper",
          "y": 0.22634429911481044,
          "yanchor": "bottom",
          "yref": "paper"
         },
         {
          "font": {
           "size": 16
          },
          "showarrow": false,
          "text": "Topic 269",
          "x": 0.36250000000000004,
          "xanchor": "center",
          "xref": "paper",
          "y": 0.22634429911481044,
          "yanchor": "bottom",
          "yref": "paper"
         },
         {
          "font": {
           "size": 16
          },
          "showarrow": false,
          "text": "Topic 270",
          "x": 0.6375000000000001,
          "xanchor": "center",
          "xref": "paper",
          "y": 0.22634429911481044,
          "yanchor": "bottom",
          "yref": "paper"
         },
         {
          "font": {
           "size": 16
          },
          "showarrow": false,
          "text": "Topic 271",
          "x": 0.9125,
          "xanchor": "center",
          "xref": "paper",
          "y": 0.22634429911481044,
          "yanchor": "bottom",
          "yref": "paper"
         },
         {
          "font": {
           "size": 16
          },
          "showarrow": false,
          "text": "Topic 272",
          "x": 0.0875,
          "xanchor": "center",
          "xref": "paper",
          "y": 0.21479719910159864,
          "yanchor": "bottom",
          "yref": "paper"
         },
         {
          "font": {
           "size": 16
          },
          "showarrow": false,
          "text": "Topic 273",
          "x": 0.36250000000000004,
          "xanchor": "center",
          "xref": "paper",
          "y": 0.21479719910159864,
          "yanchor": "bottom",
          "yref": "paper"
         },
         {
          "font": {
           "size": 16
          },
          "showarrow": false,
          "text": "Topic 274",
          "x": 0.6375000000000001,
          "xanchor": "center",
          "xref": "paper",
          "y": 0.21479719910159864,
          "yanchor": "bottom",
          "yref": "paper"
         },
         {
          "font": {
           "size": 16
          },
          "showarrow": false,
          "text": "Topic 275",
          "x": 0.9125,
          "xanchor": "center",
          "xref": "paper",
          "y": 0.21479719910159864,
          "yanchor": "bottom",
          "yref": "paper"
         },
         {
          "font": {
           "size": 16
          },
          "showarrow": false,
          "text": "Topic 276",
          "x": 0.0875,
          "xanchor": "center",
          "xref": "paper",
          "y": 0.20325009908838684,
          "yanchor": "bottom",
          "yref": "paper"
         },
         {
          "font": {
           "size": 16
          },
          "showarrow": false,
          "text": "Topic 277",
          "x": 0.36250000000000004,
          "xanchor": "center",
          "xref": "paper",
          "y": 0.20325009908838684,
          "yanchor": "bottom",
          "yref": "paper"
         },
         {
          "font": {
           "size": 16
          },
          "showarrow": false,
          "text": "Topic 278",
          "x": 0.6375000000000001,
          "xanchor": "center",
          "xref": "paper",
          "y": 0.20325009908838684,
          "yanchor": "bottom",
          "yref": "paper"
         },
         {
          "font": {
           "size": 16
          },
          "showarrow": false,
          "text": "Topic 279",
          "x": 0.9125,
          "xanchor": "center",
          "xref": "paper",
          "y": 0.20325009908838684,
          "yanchor": "bottom",
          "yref": "paper"
         },
         {
          "font": {
           "size": 16
          },
          "showarrow": false,
          "text": "Topic 280",
          "x": 0.0875,
          "xanchor": "center",
          "xref": "paper",
          "y": 0.19170299907517505,
          "yanchor": "bottom",
          "yref": "paper"
         },
         {
          "font": {
           "size": 16
          },
          "showarrow": false,
          "text": "Topic 281",
          "x": 0.36250000000000004,
          "xanchor": "center",
          "xref": "paper",
          "y": 0.19170299907517505,
          "yanchor": "bottom",
          "yref": "paper"
         },
         {
          "font": {
           "size": 16
          },
          "showarrow": false,
          "text": "Topic 282",
          "x": 0.6375000000000001,
          "xanchor": "center",
          "xref": "paper",
          "y": 0.19170299907517505,
          "yanchor": "bottom",
          "yref": "paper"
         },
         {
          "font": {
           "size": 16
          },
          "showarrow": false,
          "text": "Topic 283",
          "x": 0.9125,
          "xanchor": "center",
          "xref": "paper",
          "y": 0.19170299907517505,
          "yanchor": "bottom",
          "yref": "paper"
         },
         {
          "font": {
           "size": 16
          },
          "showarrow": false,
          "text": "Topic 284",
          "x": 0.0875,
          "xanchor": "center",
          "xref": "paper",
          "y": 0.18015589906196328,
          "yanchor": "bottom",
          "yref": "paper"
         },
         {
          "font": {
           "size": 16
          },
          "showarrow": false,
          "text": "Topic 285",
          "x": 0.36250000000000004,
          "xanchor": "center",
          "xref": "paper",
          "y": 0.18015589906196328,
          "yanchor": "bottom",
          "yref": "paper"
         },
         {
          "font": {
           "size": 16
          },
          "showarrow": false,
          "text": "Topic 286",
          "x": 0.6375000000000001,
          "xanchor": "center",
          "xref": "paper",
          "y": 0.18015589906196328,
          "yanchor": "bottom",
          "yref": "paper"
         },
         {
          "font": {
           "size": 16
          },
          "showarrow": false,
          "text": "Topic 287",
          "x": 0.9125,
          "xanchor": "center",
          "xref": "paper",
          "y": 0.18015589906196328,
          "yanchor": "bottom",
          "yref": "paper"
         },
         {
          "font": {
           "size": 16
          },
          "showarrow": false,
          "text": "Topic 288",
          "x": 0.0875,
          "xanchor": "center",
          "xref": "paper",
          "y": 0.1686087990487515,
          "yanchor": "bottom",
          "yref": "paper"
         },
         {
          "font": {
           "size": 16
          },
          "showarrow": false,
          "text": "Topic 289",
          "x": 0.36250000000000004,
          "xanchor": "center",
          "xref": "paper",
          "y": 0.1686087990487515,
          "yanchor": "bottom",
          "yref": "paper"
         },
         {
          "font": {
           "size": 16
          },
          "showarrow": false,
          "text": "Topic 290",
          "x": 0.6375000000000001,
          "xanchor": "center",
          "xref": "paper",
          "y": 0.1686087990487515,
          "yanchor": "bottom",
          "yref": "paper"
         },
         {
          "font": {
           "size": 16
          },
          "showarrow": false,
          "text": "Topic 291",
          "x": 0.9125,
          "xanchor": "center",
          "xref": "paper",
          "y": 0.1686087990487515,
          "yanchor": "bottom",
          "yref": "paper"
         },
         {
          "font": {
           "size": 16
          },
          "showarrow": false,
          "text": "Topic 292",
          "x": 0.0875,
          "xanchor": "center",
          "xref": "paper",
          "y": 0.1570616990355397,
          "yanchor": "bottom",
          "yref": "paper"
         },
         {
          "font": {
           "size": 16
          },
          "showarrow": false,
          "text": "Topic 293",
          "x": 0.36250000000000004,
          "xanchor": "center",
          "xref": "paper",
          "y": 0.1570616990355397,
          "yanchor": "bottom",
          "yref": "paper"
         },
         {
          "font": {
           "size": 16
          },
          "showarrow": false,
          "text": "Topic 294",
          "x": 0.6375000000000001,
          "xanchor": "center",
          "xref": "paper",
          "y": 0.1570616990355397,
          "yanchor": "bottom",
          "yref": "paper"
         },
         {
          "font": {
           "size": 16
          },
          "showarrow": false,
          "text": "Topic 295",
          "x": 0.9125,
          "xanchor": "center",
          "xref": "paper",
          "y": 0.1570616990355397,
          "yanchor": "bottom",
          "yref": "paper"
         },
         {
          "font": {
           "size": 16
          },
          "showarrow": false,
          "text": "Topic 296",
          "x": 0.0875,
          "xanchor": "center",
          "xref": "paper",
          "y": 0.1455145990223279,
          "yanchor": "bottom",
          "yref": "paper"
         },
         {
          "font": {
           "size": 16
          },
          "showarrow": false,
          "text": "Topic 297",
          "x": 0.36250000000000004,
          "xanchor": "center",
          "xref": "paper",
          "y": 0.1455145990223279,
          "yanchor": "bottom",
          "yref": "paper"
         },
         {
          "font": {
           "size": 16
          },
          "showarrow": false,
          "text": "Topic 298",
          "x": 0.6375000000000001,
          "xanchor": "center",
          "xref": "paper",
          "y": 0.1455145990223279,
          "yanchor": "bottom",
          "yref": "paper"
         },
         {
          "font": {
           "size": 16
          },
          "showarrow": false,
          "text": "Topic 299",
          "x": 0.9125,
          "xanchor": "center",
          "xref": "paper",
          "y": 0.1455145990223279,
          "yanchor": "bottom",
          "yref": "paper"
         },
         {
          "font": {
           "size": 16
          },
          "showarrow": false,
          "text": "Topic 300",
          "x": 0.0875,
          "xanchor": "center",
          "xref": "paper",
          "y": 0.13396749900911614,
          "yanchor": "bottom",
          "yref": "paper"
         },
         {
          "font": {
           "size": 16
          },
          "showarrow": false,
          "text": "Topic 301",
          "x": 0.36250000000000004,
          "xanchor": "center",
          "xref": "paper",
          "y": 0.13396749900911614,
          "yanchor": "bottom",
          "yref": "paper"
         },
         {
          "font": {
           "size": 16
          },
          "showarrow": false,
          "text": "Topic 302",
          "x": 0.6375000000000001,
          "xanchor": "center",
          "xref": "paper",
          "y": 0.13396749900911614,
          "yanchor": "bottom",
          "yref": "paper"
         },
         {
          "font": {
           "size": 16
          },
          "showarrow": false,
          "text": "Topic 303",
          "x": 0.9125,
          "xanchor": "center",
          "xref": "paper",
          "y": 0.13396749900911614,
          "yanchor": "bottom",
          "yref": "paper"
         },
         {
          "font": {
           "size": 16
          },
          "showarrow": false,
          "text": "Topic 304",
          "x": 0.0875,
          "xanchor": "center",
          "xref": "paper",
          "y": 0.12242039899590434,
          "yanchor": "bottom",
          "yref": "paper"
         },
         {
          "font": {
           "size": 16
          },
          "showarrow": false,
          "text": "Topic 305",
          "x": 0.36250000000000004,
          "xanchor": "center",
          "xref": "paper",
          "y": 0.12242039899590434,
          "yanchor": "bottom",
          "yref": "paper"
         },
         {
          "font": {
           "size": 16
          },
          "showarrow": false,
          "text": "Topic 306",
          "x": 0.6375000000000001,
          "xanchor": "center",
          "xref": "paper",
          "y": 0.12242039899590434,
          "yanchor": "bottom",
          "yref": "paper"
         },
         {
          "font": {
           "size": 16
          },
          "showarrow": false,
          "text": "Topic 307",
          "x": 0.9125,
          "xanchor": "center",
          "xref": "paper",
          "y": 0.12242039899590434,
          "yanchor": "bottom",
          "yref": "paper"
         },
         {
          "font": {
           "size": 16
          },
          "showarrow": false,
          "text": "Topic 308",
          "x": 0.0875,
          "xanchor": "center",
          "xref": "paper",
          "y": 0.11087329898269256,
          "yanchor": "bottom",
          "yref": "paper"
         },
         {
          "font": {
           "size": 16
          },
          "showarrow": false,
          "text": "Topic 309",
          "x": 0.36250000000000004,
          "xanchor": "center",
          "xref": "paper",
          "y": 0.11087329898269256,
          "yanchor": "bottom",
          "yref": "paper"
         },
         {
          "font": {
           "size": 16
          },
          "showarrow": false,
          "text": "Topic 310",
          "x": 0.6375000000000001,
          "xanchor": "center",
          "xref": "paper",
          "y": 0.11087329898269256,
          "yanchor": "bottom",
          "yref": "paper"
         },
         {
          "font": {
           "size": 16
          },
          "showarrow": false,
          "text": "Topic 311",
          "x": 0.9125,
          "xanchor": "center",
          "xref": "paper",
          "y": 0.11087329898269256,
          "yanchor": "bottom",
          "yref": "paper"
         },
         {
          "font": {
           "size": 16
          },
          "showarrow": false,
          "text": "Topic 312",
          "x": 0.0875,
          "xanchor": "center",
          "xref": "paper",
          "y": 0.09932619896948076,
          "yanchor": "bottom",
          "yref": "paper"
         },
         {
          "font": {
           "size": 16
          },
          "showarrow": false,
          "text": "Topic 313",
          "x": 0.36250000000000004,
          "xanchor": "center",
          "xref": "paper",
          "y": 0.09932619896948076,
          "yanchor": "bottom",
          "yref": "paper"
         },
         {
          "font": {
           "size": 16
          },
          "showarrow": false,
          "text": "Topic 314",
          "x": 0.6375000000000001,
          "xanchor": "center",
          "xref": "paper",
          "y": 0.09932619896948076,
          "yanchor": "bottom",
          "yref": "paper"
         },
         {
          "font": {
           "size": 16
          },
          "showarrow": false,
          "text": "Topic 315",
          "x": 0.9125,
          "xanchor": "center",
          "xref": "paper",
          "y": 0.09932619896948076,
          "yanchor": "bottom",
          "yref": "paper"
         },
         {
          "font": {
           "size": 16
          },
          "showarrow": false,
          "text": "Topic 316",
          "x": 0.0875,
          "xanchor": "center",
          "xref": "paper",
          "y": 0.087779098956269,
          "yanchor": "bottom",
          "yref": "paper"
         },
         {
          "font": {
           "size": 16
          },
          "showarrow": false,
          "text": "Topic 317",
          "x": 0.36250000000000004,
          "xanchor": "center",
          "xref": "paper",
          "y": 0.087779098956269,
          "yanchor": "bottom",
          "yref": "paper"
         },
         {
          "font": {
           "size": 16
          },
          "showarrow": false,
          "text": "Topic 318",
          "x": 0.6375000000000001,
          "xanchor": "center",
          "xref": "paper",
          "y": 0.087779098956269,
          "yanchor": "bottom",
          "yref": "paper"
         },
         {
          "font": {
           "size": 16
          },
          "showarrow": false,
          "text": "Topic 319",
          "x": 0.9125,
          "xanchor": "center",
          "xref": "paper",
          "y": 0.087779098956269,
          "yanchor": "bottom",
          "yref": "paper"
         },
         {
          "font": {
           "size": 16
          },
          "showarrow": false,
          "text": "Topic 320",
          "x": 0.0875,
          "xanchor": "center",
          "xref": "paper",
          "y": 0.0762319989430572,
          "yanchor": "bottom",
          "yref": "paper"
         },
         {
          "font": {
           "size": 16
          },
          "showarrow": false,
          "text": "Topic 321",
          "x": 0.36250000000000004,
          "xanchor": "center",
          "xref": "paper",
          "y": 0.0762319989430572,
          "yanchor": "bottom",
          "yref": "paper"
         },
         {
          "font": {
           "size": 16
          },
          "showarrow": false,
          "text": "Topic 322",
          "x": 0.6375000000000001,
          "xanchor": "center",
          "xref": "paper",
          "y": 0.0762319989430572,
          "yanchor": "bottom",
          "yref": "paper"
         },
         {
          "font": {
           "size": 16
          },
          "showarrow": false,
          "text": "Topic 323",
          "x": 0.9125,
          "xanchor": "center",
          "xref": "paper",
          "y": 0.0762319989430572,
          "yanchor": "bottom",
          "yref": "paper"
         },
         {
          "font": {
           "size": 16
          },
          "showarrow": false,
          "text": "Topic 324",
          "x": 0.0875,
          "xanchor": "center",
          "xref": "paper",
          "y": 0.06468489892984543,
          "yanchor": "bottom",
          "yref": "paper"
         },
         {
          "font": {
           "size": 16
          },
          "showarrow": false,
          "text": "Topic 325",
          "x": 0.36250000000000004,
          "xanchor": "center",
          "xref": "paper",
          "y": 0.06468489892984543,
          "yanchor": "bottom",
          "yref": "paper"
         },
         {
          "font": {
           "size": 16
          },
          "showarrow": false,
          "text": "Topic 326",
          "x": 0.6375000000000001,
          "xanchor": "center",
          "xref": "paper",
          "y": 0.06468489892984543,
          "yanchor": "bottom",
          "yref": "paper"
         },
         {
          "font": {
           "size": 16
          },
          "showarrow": false,
          "text": "Topic 327",
          "x": 0.9125,
          "xanchor": "center",
          "xref": "paper",
          "y": 0.06468489892984543,
          "yanchor": "bottom",
          "yref": "paper"
         },
         {
          "font": {
           "size": 16
          },
          "showarrow": false,
          "text": "Topic 328",
          "x": 0.0875,
          "xanchor": "center",
          "xref": "paper",
          "y": 0.05313779891663363,
          "yanchor": "bottom",
          "yref": "paper"
         },
         {
          "font": {
           "size": 16
          },
          "showarrow": false,
          "text": "Topic 329",
          "x": 0.36250000000000004,
          "xanchor": "center",
          "xref": "paper",
          "y": 0.05313779891663363,
          "yanchor": "bottom",
          "yref": "paper"
         },
         {
          "font": {
           "size": 16
          },
          "showarrow": false,
          "text": "Topic 330",
          "x": 0.6375000000000001,
          "xanchor": "center",
          "xref": "paper",
          "y": 0.05313779891663363,
          "yanchor": "bottom",
          "yref": "paper"
         },
         {
          "font": {
           "size": 16
          },
          "showarrow": false,
          "text": "Topic 331",
          "x": 0.9125,
          "xanchor": "center",
          "xref": "paper",
          "y": 0.05313779891663363,
          "yanchor": "bottom",
          "yref": "paper"
         },
         {
          "font": {
           "size": 16
          },
          "showarrow": false,
          "text": "Topic 332",
          "x": 0.0875,
          "xanchor": "center",
          "xref": "paper",
          "y": 0.04159069890342185,
          "yanchor": "bottom",
          "yref": "paper"
         },
         {
          "font": {
           "size": 16
          },
          "showarrow": false,
          "text": "Topic 333",
          "x": 0.36250000000000004,
          "xanchor": "center",
          "xref": "paper",
          "y": 0.04159069890342185,
          "yanchor": "bottom",
          "yref": "paper"
         },
         {
          "font": {
           "size": 16
          },
          "showarrow": false,
          "text": "Topic 334",
          "x": 0.6375000000000001,
          "xanchor": "center",
          "xref": "paper",
          "y": 0.04159069890342185,
          "yanchor": "bottom",
          "yref": "paper"
         },
         {
          "font": {
           "size": 16
          },
          "showarrow": false,
          "text": "Topic 335",
          "x": 0.9125,
          "xanchor": "center",
          "xref": "paper",
          "y": 0.04159069890342185,
          "yanchor": "bottom",
          "yref": "paper"
         },
         {
          "font": {
           "size": 16
          },
          "showarrow": false,
          "text": "Topic 336",
          "x": 0.0875,
          "xanchor": "center",
          "xref": "paper",
          "y": 0.030043598890210063,
          "yanchor": "bottom",
          "yref": "paper"
         },
         {
          "font": {
           "size": 16
          },
          "showarrow": false,
          "text": "Topic 337",
          "x": 0.36250000000000004,
          "xanchor": "center",
          "xref": "paper",
          "y": 0.030043598890210063,
          "yanchor": "bottom",
          "yref": "paper"
         },
         {
          "font": {
           "size": 16
          },
          "showarrow": false,
          "text": "Topic 338",
          "x": 0.6375000000000001,
          "xanchor": "center",
          "xref": "paper",
          "y": 0.030043598890210063,
          "yanchor": "bottom",
          "yref": "paper"
         },
         {
          "font": {
           "size": 16
          },
          "showarrow": false,
          "text": "Topic 339",
          "x": 0.9125,
          "xanchor": "center",
          "xref": "paper",
          "y": 0.030043598890210063,
          "yanchor": "bottom",
          "yref": "paper"
         },
         {
          "font": {
           "size": 16
          },
          "showarrow": false,
          "text": "Topic 340",
          "x": 0.0875,
          "xanchor": "center",
          "xref": "paper",
          "y": 0.01849649887699828,
          "yanchor": "bottom",
          "yref": "paper"
         },
         {
          "font": {
           "size": 16
          },
          "showarrow": false,
          "text": "Topic 341",
          "x": 0.36250000000000004,
          "xanchor": "center",
          "xref": "paper",
          "y": 0.01849649887699828,
          "yanchor": "bottom",
          "yref": "paper"
         },
         {
          "font": {
           "size": 16
          },
          "showarrow": false,
          "text": "Topic 342",
          "x": 0.6375000000000001,
          "xanchor": "center",
          "xref": "paper",
          "y": 0.01849649887699828,
          "yanchor": "bottom",
          "yref": "paper"
         },
         {
          "font": {
           "size": 16
          },
          "showarrow": false,
          "text": "Topic 343",
          "x": 0.9125,
          "xanchor": "center",
          "xref": "paper",
          "y": 0.01849649887699828,
          "yanchor": "bottom",
          "yref": "paper"
         },
         {
          "font": {
           "size": 16
          },
          "showarrow": false,
          "text": "Topic 344",
          "x": 0.0875,
          "xanchor": "center",
          "xref": "paper",
          "y": 0.006949398863786497,
          "yanchor": "bottom",
          "yref": "paper"
         },
         {
          "font": {
           "size": 16
          },
          "showarrow": false,
          "text": "Topic 345",
          "x": 0.36250000000000004,
          "xanchor": "center",
          "xref": "paper",
          "y": 0.006949398863786497,
          "yanchor": "bottom",
          "yref": "paper"
         }
        ],
        "height": 21750,
        "hoverlabel": {
         "bgcolor": "white",
         "font": {
          "family": "Rockwell",
          "size": 16
         }
        },
        "showlegend": false,
        "template": {
         "data": {
          "bar": [
           {
            "error_x": {
             "color": "#2a3f5f"
            },
            "error_y": {
             "color": "#2a3f5f"
            },
            "marker": {
             "line": {
              "color": "white",
              "width": 0.5
             },
             "pattern": {
              "fillmode": "overlay",
              "size": 10,
              "solidity": 0.2
             }
            },
            "type": "bar"
           }
          ],
          "barpolar": [
           {
            "marker": {
             "line": {
              "color": "white",
              "width": 0.5
             },
             "pattern": {
              "fillmode": "overlay",
              "size": 10,
              "solidity": 0.2
             }
            },
            "type": "barpolar"
           }
          ],
          "carpet": [
           {
            "aaxis": {
             "endlinecolor": "#2a3f5f",
             "gridcolor": "#C8D4E3",
             "linecolor": "#C8D4E3",
             "minorgridcolor": "#C8D4E3",
             "startlinecolor": "#2a3f5f"
            },
            "baxis": {
             "endlinecolor": "#2a3f5f",
             "gridcolor": "#C8D4E3",
             "linecolor": "#C8D4E3",
             "minorgridcolor": "#C8D4E3",
             "startlinecolor": "#2a3f5f"
            },
            "type": "carpet"
           }
          ],
          "choropleth": [
           {
            "colorbar": {
             "outlinewidth": 0,
             "ticks": ""
            },
            "type": "choropleth"
           }
          ],
          "contour": [
           {
            "colorbar": {
             "outlinewidth": 0,
             "ticks": ""
            },
            "colorscale": [
             [
              0,
              "#0d0887"
             ],
             [
              0.1111111111111111,
              "#46039f"
             ],
             [
              0.2222222222222222,
              "#7201a8"
             ],
             [
              0.3333333333333333,
              "#9c179e"
             ],
             [
              0.4444444444444444,
              "#bd3786"
             ],
             [
              0.5555555555555556,
              "#d8576b"
             ],
             [
              0.6666666666666666,
              "#ed7953"
             ],
             [
              0.7777777777777778,
              "#fb9f3a"
             ],
             [
              0.8888888888888888,
              "#fdca26"
             ],
             [
              1,
              "#f0f921"
             ]
            ],
            "type": "contour"
           }
          ],
          "contourcarpet": [
           {
            "colorbar": {
             "outlinewidth": 0,
             "ticks": ""
            },
            "type": "contourcarpet"
           }
          ],
          "heatmap": [
           {
            "colorbar": {
             "outlinewidth": 0,
             "ticks": ""
            },
            "colorscale": [
             [
              0,
              "#0d0887"
             ],
             [
              0.1111111111111111,
              "#46039f"
             ],
             [
              0.2222222222222222,
              "#7201a8"
             ],
             [
              0.3333333333333333,
              "#9c179e"
             ],
             [
              0.4444444444444444,
              "#bd3786"
             ],
             [
              0.5555555555555556,
              "#d8576b"
             ],
             [
              0.6666666666666666,
              "#ed7953"
             ],
             [
              0.7777777777777778,
              "#fb9f3a"
             ],
             [
              0.8888888888888888,
              "#fdca26"
             ],
             [
              1,
              "#f0f921"
             ]
            ],
            "type": "heatmap"
           }
          ],
          "histogram": [
           {
            "marker": {
             "pattern": {
              "fillmode": "overlay",
              "size": 10,
              "solidity": 0.2
             }
            },
            "type": "histogram"
           }
          ],
          "histogram2d": [
           {
            "colorbar": {
             "outlinewidth": 0,
             "ticks": ""
            },
            "colorscale": [
             [
              0,
              "#0d0887"
             ],
             [
              0.1111111111111111,
              "#46039f"
             ],
             [
              0.2222222222222222,
              "#7201a8"
             ],
             [
              0.3333333333333333,
              "#9c179e"
             ],
             [
              0.4444444444444444,
              "#bd3786"
             ],
             [
              0.5555555555555556,
              "#d8576b"
             ],
             [
              0.6666666666666666,
              "#ed7953"
             ],
             [
              0.7777777777777778,
              "#fb9f3a"
             ],
             [
              0.8888888888888888,
              "#fdca26"
             ],
             [
              1,
              "#f0f921"
             ]
            ],
            "type": "histogram2d"
           }
          ],
          "histogram2dcontour": [
           {
            "colorbar": {
             "outlinewidth": 0,
             "ticks": ""
            },
            "colorscale": [
             [
              0,
              "#0d0887"
             ],
             [
              0.1111111111111111,
              "#46039f"
             ],
             [
              0.2222222222222222,
              "#7201a8"
             ],
             [
              0.3333333333333333,
              "#9c179e"
             ],
             [
              0.4444444444444444,
              "#bd3786"
             ],
             [
              0.5555555555555556,
              "#d8576b"
             ],
             [
              0.6666666666666666,
              "#ed7953"
             ],
             [
              0.7777777777777778,
              "#fb9f3a"
             ],
             [
              0.8888888888888888,
              "#fdca26"
             ],
             [
              1,
              "#f0f921"
             ]
            ],
            "type": "histogram2dcontour"
           }
          ],
          "mesh3d": [
           {
            "colorbar": {
             "outlinewidth": 0,
             "ticks": ""
            },
            "type": "mesh3d"
           }
          ],
          "parcoords": [
           {
            "line": {
             "colorbar": {
              "outlinewidth": 0,
              "ticks": ""
             }
            },
            "type": "parcoords"
           }
          ],
          "pie": [
           {
            "automargin": true,
            "type": "pie"
           }
          ],
          "scatter": [
           {
            "fillpattern": {
             "fillmode": "overlay",
             "size": 10,
             "solidity": 0.2
            },
            "type": "scatter"
           }
          ],
          "scatter3d": [
           {
            "line": {
             "colorbar": {
              "outlinewidth": 0,
              "ticks": ""
             }
            },
            "marker": {
             "colorbar": {
              "outlinewidth": 0,
              "ticks": ""
             }
            },
            "type": "scatter3d"
           }
          ],
          "scattercarpet": [
           {
            "marker": {
             "colorbar": {
              "outlinewidth": 0,
              "ticks": ""
             }
            },
            "type": "scattercarpet"
           }
          ],
          "scattergeo": [
           {
            "marker": {
             "colorbar": {
              "outlinewidth": 0,
              "ticks": ""
             }
            },
            "type": "scattergeo"
           }
          ],
          "scattergl": [
           {
            "marker": {
             "colorbar": {
              "outlinewidth": 0,
              "ticks": ""
             }
            },
            "type": "scattergl"
           }
          ],
          "scattermap": [
           {
            "marker": {
             "colorbar": {
              "outlinewidth": 0,
              "ticks": ""
             }
            },
            "type": "scattermap"
           }
          ],
          "scattermapbox": [
           {
            "marker": {
             "colorbar": {
              "outlinewidth": 0,
              "ticks": ""
             }
            },
            "type": "scattermapbox"
           }
          ],
          "scatterpolar": [
           {
            "marker": {
             "colorbar": {
              "outlinewidth": 0,
              "ticks": ""
             }
            },
            "type": "scatterpolar"
           }
          ],
          "scatterpolargl": [
           {
            "marker": {
             "colorbar": {
              "outlinewidth": 0,
              "ticks": ""
             }
            },
            "type": "scatterpolargl"
           }
          ],
          "scatterternary": [
           {
            "marker": {
             "colorbar": {
              "outlinewidth": 0,
              "ticks": ""
             }
            },
            "type": "scatterternary"
           }
          ],
          "surface": [
           {
            "colorbar": {
             "outlinewidth": 0,
             "ticks": ""
            },
            "colorscale": [
             [
              0,
              "#0d0887"
             ],
             [
              0.1111111111111111,
              "#46039f"
             ],
             [
              0.2222222222222222,
              "#7201a8"
             ],
             [
              0.3333333333333333,
              "#9c179e"
             ],
             [
              0.4444444444444444,
              "#bd3786"
             ],
             [
              0.5555555555555556,
              "#d8576b"
             ],
             [
              0.6666666666666666,
              "#ed7953"
             ],
             [
              0.7777777777777778,
              "#fb9f3a"
             ],
             [
              0.8888888888888888,
              "#fdca26"
             ],
             [
              1,
              "#f0f921"
             ]
            ],
            "type": "surface"
           }
          ],
          "table": [
           {
            "cells": {
             "fill": {
              "color": "#EBF0F8"
             },
             "line": {
              "color": "white"
             }
            },
            "header": {
             "fill": {
              "color": "#C8D4E3"
             },
             "line": {
              "color": "white"
             }
            },
            "type": "table"
           }
          ]
         },
         "layout": {
          "annotationdefaults": {
           "arrowcolor": "#2a3f5f",
           "arrowhead": 0,
           "arrowwidth": 1
          },
          "autotypenumbers": "strict",
          "coloraxis": {
           "colorbar": {
            "outlinewidth": 0,
            "ticks": ""
           }
          },
          "colorscale": {
           "diverging": [
            [
             0,
             "#8e0152"
            ],
            [
             0.1,
             "#c51b7d"
            ],
            [
             0.2,
             "#de77ae"
            ],
            [
             0.3,
             "#f1b6da"
            ],
            [
             0.4,
             "#fde0ef"
            ],
            [
             0.5,
             "#f7f7f7"
            ],
            [
             0.6,
             "#e6f5d0"
            ],
            [
             0.7,
             "#b8e186"
            ],
            [
             0.8,
             "#7fbc41"
            ],
            [
             0.9,
             "#4d9221"
            ],
            [
             1,
             "#276419"
            ]
           ],
           "sequential": [
            [
             0,
             "#0d0887"
            ],
            [
             0.1111111111111111,
             "#46039f"
            ],
            [
             0.2222222222222222,
             "#7201a8"
            ],
            [
             0.3333333333333333,
             "#9c179e"
            ],
            [
             0.4444444444444444,
             "#bd3786"
            ],
            [
             0.5555555555555556,
             "#d8576b"
            ],
            [
             0.6666666666666666,
             "#ed7953"
            ],
            [
             0.7777777777777778,
             "#fb9f3a"
            ],
            [
             0.8888888888888888,
             "#fdca26"
            ],
            [
             1,
             "#f0f921"
            ]
           ],
           "sequentialminus": [
            [
             0,
             "#0d0887"
            ],
            [
             0.1111111111111111,
             "#46039f"
            ],
            [
             0.2222222222222222,
             "#7201a8"
            ],
            [
             0.3333333333333333,
             "#9c179e"
            ],
            [
             0.4444444444444444,
             "#bd3786"
            ],
            [
             0.5555555555555556,
             "#d8576b"
            ],
            [
             0.6666666666666666,
             "#ed7953"
            ],
            [
             0.7777777777777778,
             "#fb9f3a"
            ],
            [
             0.8888888888888888,
             "#fdca26"
            ],
            [
             1,
             "#f0f921"
            ]
           ]
          },
          "colorway": [
           "#636efa",
           "#EF553B",
           "#00cc96",
           "#ab63fa",
           "#FFA15A",
           "#19d3f3",
           "#FF6692",
           "#B6E880",
           "#FF97FF",
           "#FECB52"
          ],
          "font": {
           "color": "#2a3f5f"
          },
          "geo": {
           "bgcolor": "white",
           "lakecolor": "white",
           "landcolor": "white",
           "showlakes": true,
           "showland": true,
           "subunitcolor": "#C8D4E3"
          },
          "hoverlabel": {
           "align": "left"
          },
          "hovermode": "closest",
          "mapbox": {
           "style": "light"
          },
          "paper_bgcolor": "white",
          "plot_bgcolor": "white",
          "polar": {
           "angularaxis": {
            "gridcolor": "#EBF0F8",
            "linecolor": "#EBF0F8",
            "ticks": ""
           },
           "bgcolor": "white",
           "radialaxis": {
            "gridcolor": "#EBF0F8",
            "linecolor": "#EBF0F8",
            "ticks": ""
           }
          },
          "scene": {
           "xaxis": {
            "backgroundcolor": "white",
            "gridcolor": "#DFE8F3",
            "gridwidth": 2,
            "linecolor": "#EBF0F8",
            "showbackground": true,
            "ticks": "",
            "zerolinecolor": "#EBF0F8"
           },
           "yaxis": {
            "backgroundcolor": "white",
            "gridcolor": "#DFE8F3",
            "gridwidth": 2,
            "linecolor": "#EBF0F8",
            "showbackground": true,
            "ticks": "",
            "zerolinecolor": "#EBF0F8"
           },
           "zaxis": {
            "backgroundcolor": "white",
            "gridcolor": "#DFE8F3",
            "gridwidth": 2,
            "linecolor": "#EBF0F8",
            "showbackground": true,
            "ticks": "",
            "zerolinecolor": "#EBF0F8"
           }
          },
          "shapedefaults": {
           "line": {
            "color": "#2a3f5f"
           }
          },
          "ternary": {
           "aaxis": {
            "gridcolor": "#DFE8F3",
            "linecolor": "#A2B1C6",
            "ticks": ""
           },
           "baxis": {
            "gridcolor": "#DFE8F3",
            "linecolor": "#A2B1C6",
            "ticks": ""
           },
           "bgcolor": "white",
           "caxis": {
            "gridcolor": "#DFE8F3",
            "linecolor": "#A2B1C6",
            "ticks": ""
           }
          },
          "title": {
           "x": 0.05
          },
          "xaxis": {
           "automargin": true,
           "gridcolor": "#EBF0F8",
           "linecolor": "#EBF0F8",
           "ticks": "",
           "title": {
            "standoff": 15
           },
           "zerolinecolor": "#EBF0F8",
           "zerolinewidth": 2
          },
          "yaxis": {
           "automargin": true,
           "gridcolor": "#EBF0F8",
           "linecolor": "#EBF0F8",
           "ticks": "",
           "title": {
            "standoff": 15
           },
           "zerolinecolor": "#EBF0F8",
           "zerolinewidth": 2
          }
         }
        },
        "title": {
         "font": {
          "color": "Black",
          "size": 22
         },
         "text": "Topic Word Scores",
         "x": 0.5,
         "xanchor": "center",
         "yanchor": "top"
        },
        "width": 1000,
        "xaxis": {
         "anchor": "y",
         "domain": [
          0,
          0.175
         ],
         "showgrid": true
        },
        "xaxis10": {
         "anchor": "y10",
         "domain": [
          0.275,
          0.45
         ],
         "showgrid": true
        },
        "xaxis100": {
         "anchor": "y100",
         "domain": [
          0.825,
          1
         ],
         "showgrid": true
        },
        "xaxis101": {
         "anchor": "y101",
         "domain": [
          0,
          0.175
         ],
         "showgrid": true
        },
        "xaxis102": {
         "anchor": "y102",
         "domain": [
          0.275,
          0.45
         ],
         "showgrid": true
        },
        "xaxis103": {
         "anchor": "y103",
         "domain": [
          0.55,
          0.7250000000000001
         ],
         "showgrid": true
        },
        "xaxis104": {
         "anchor": "y104",
         "domain": [
          0.825,
          1
         ],
         "showgrid": true
        },
        "xaxis105": {
         "anchor": "y105",
         "domain": [
          0,
          0.175
         ],
         "showgrid": true
        },
        "xaxis106": {
         "anchor": "y106",
         "domain": [
          0.275,
          0.45
         ],
         "showgrid": true
        },
        "xaxis107": {
         "anchor": "y107",
         "domain": [
          0.55,
          0.7250000000000001
         ],
         "showgrid": true
        },
        "xaxis108": {
         "anchor": "y108",
         "domain": [
          0.825,
          1
         ],
         "showgrid": true
        },
        "xaxis109": {
         "anchor": "y109",
         "domain": [
          0,
          0.175
         ],
         "showgrid": true
        },
        "xaxis11": {
         "anchor": "y11",
         "domain": [
          0.55,
          0.7250000000000001
         ],
         "showgrid": true
        },
        "xaxis110": {
         "anchor": "y110",
         "domain": [
          0.275,
          0.45
         ],
         "showgrid": true
        },
        "xaxis111": {
         "anchor": "y111",
         "domain": [
          0.55,
          0.7250000000000001
         ],
         "showgrid": true
        },
        "xaxis112": {
         "anchor": "y112",
         "domain": [
          0.825,
          1
         ],
         "showgrid": true
        },
        "xaxis113": {
         "anchor": "y113",
         "domain": [
          0,
          0.175
         ],
         "showgrid": true
        },
        "xaxis114": {
         "anchor": "y114",
         "domain": [
          0.275,
          0.45
         ],
         "showgrid": true
        },
        "xaxis115": {
         "anchor": "y115",
         "domain": [
          0.55,
          0.7250000000000001
         ],
         "showgrid": true
        },
        "xaxis116": {
         "anchor": "y116",
         "domain": [
          0.825,
          1
         ],
         "showgrid": true
        },
        "xaxis117": {
         "anchor": "y117",
         "domain": [
          0,
          0.175
         ],
         "showgrid": true
        },
        "xaxis118": {
         "anchor": "y118",
         "domain": [
          0.275,
          0.45
         ],
         "showgrid": true
        },
        "xaxis119": {
         "anchor": "y119",
         "domain": [
          0.55,
          0.7250000000000001
         ],
         "showgrid": true
        },
        "xaxis12": {
         "anchor": "y12",
         "domain": [
          0.825,
          1
         ],
         "showgrid": true
        },
        "xaxis120": {
         "anchor": "y120",
         "domain": [
          0.825,
          1
         ],
         "showgrid": true
        },
        "xaxis121": {
         "anchor": "y121",
         "domain": [
          0,
          0.175
         ],
         "showgrid": true
        },
        "xaxis122": {
         "anchor": "y122",
         "domain": [
          0.275,
          0.45
         ],
         "showgrid": true
        },
        "xaxis123": {
         "anchor": "y123",
         "domain": [
          0.55,
          0.7250000000000001
         ],
         "showgrid": true
        },
        "xaxis124": {
         "anchor": "y124",
         "domain": [
          0.825,
          1
         ],
         "showgrid": true
        },
        "xaxis125": {
         "anchor": "y125",
         "domain": [
          0,
          0.175
         ],
         "showgrid": true
        },
        "xaxis126": {
         "anchor": "y126",
         "domain": [
          0.275,
          0.45
         ],
         "showgrid": true
        },
        "xaxis127": {
         "anchor": "y127",
         "domain": [
          0.55,
          0.7250000000000001
         ],
         "showgrid": true
        },
        "xaxis128": {
         "anchor": "y128",
         "domain": [
          0.825,
          1
         ],
         "showgrid": true
        },
        "xaxis129": {
         "anchor": "y129",
         "domain": [
          0,
          0.175
         ],
         "showgrid": true
        },
        "xaxis13": {
         "anchor": "y13",
         "domain": [
          0,
          0.175
         ],
         "showgrid": true
        },
        "xaxis130": {
         "anchor": "y130",
         "domain": [
          0.275,
          0.45
         ],
         "showgrid": true
        },
        "xaxis131": {
         "anchor": "y131",
         "domain": [
          0.55,
          0.7250000000000001
         ],
         "showgrid": true
        },
        "xaxis132": {
         "anchor": "y132",
         "domain": [
          0.825,
          1
         ],
         "showgrid": true
        },
        "xaxis133": {
         "anchor": "y133",
         "domain": [
          0,
          0.175
         ],
         "showgrid": true
        },
        "xaxis134": {
         "anchor": "y134",
         "domain": [
          0.275,
          0.45
         ],
         "showgrid": true
        },
        "xaxis135": {
         "anchor": "y135",
         "domain": [
          0.55,
          0.7250000000000001
         ],
         "showgrid": true
        },
        "xaxis136": {
         "anchor": "y136",
         "domain": [
          0.825,
          1
         ],
         "showgrid": true
        },
        "xaxis137": {
         "anchor": "y137",
         "domain": [
          0,
          0.175
         ],
         "showgrid": true
        },
        "xaxis138": {
         "anchor": "y138",
         "domain": [
          0.275,
          0.45
         ],
         "showgrid": true
        },
        "xaxis139": {
         "anchor": "y139",
         "domain": [
          0.55,
          0.7250000000000001
         ],
         "showgrid": true
        },
        "xaxis14": {
         "anchor": "y14",
         "domain": [
          0.275,
          0.45
         ],
         "showgrid": true
        },
        "xaxis140": {
         "anchor": "y140",
         "domain": [
          0.825,
          1
         ],
         "showgrid": true
        },
        "xaxis141": {
         "anchor": "y141",
         "domain": [
          0,
          0.175
         ],
         "showgrid": true
        },
        "xaxis142": {
         "anchor": "y142",
         "domain": [
          0.275,
          0.45
         ],
         "showgrid": true
        },
        "xaxis143": {
         "anchor": "y143",
         "domain": [
          0.55,
          0.7250000000000001
         ],
         "showgrid": true
        },
        "xaxis144": {
         "anchor": "y144",
         "domain": [
          0.825,
          1
         ],
         "showgrid": true
        },
        "xaxis145": {
         "anchor": "y145",
         "domain": [
          0,
          0.175
         ],
         "showgrid": true
        },
        "xaxis146": {
         "anchor": "y146",
         "domain": [
          0.275,
          0.45
         ],
         "showgrid": true
        },
        "xaxis147": {
         "anchor": "y147",
         "domain": [
          0.55,
          0.7250000000000001
         ],
         "showgrid": true
        },
        "xaxis148": {
         "anchor": "y148",
         "domain": [
          0.825,
          1
         ],
         "showgrid": true
        },
        "xaxis149": {
         "anchor": "y149",
         "domain": [
          0,
          0.175
         ],
         "showgrid": true
        },
        "xaxis15": {
         "anchor": "y15",
         "domain": [
          0.55,
          0.7250000000000001
         ],
         "showgrid": true
        },
        "xaxis150": {
         "anchor": "y150",
         "domain": [
          0.275,
          0.45
         ],
         "showgrid": true
        },
        "xaxis151": {
         "anchor": "y151",
         "domain": [
          0.55,
          0.7250000000000001
         ],
         "showgrid": true
        },
        "xaxis152": {
         "anchor": "y152",
         "domain": [
          0.825,
          1
         ],
         "showgrid": true
        },
        "xaxis153": {
         "anchor": "y153",
         "domain": [
          0,
          0.175
         ],
         "showgrid": true
        },
        "xaxis154": {
         "anchor": "y154",
         "domain": [
          0.275,
          0.45
         ],
         "showgrid": true
        },
        "xaxis155": {
         "anchor": "y155",
         "domain": [
          0.55,
          0.7250000000000001
         ],
         "showgrid": true
        },
        "xaxis156": {
         "anchor": "y156",
         "domain": [
          0.825,
          1
         ],
         "showgrid": true
        },
        "xaxis157": {
         "anchor": "y157",
         "domain": [
          0,
          0.175
         ],
         "showgrid": true
        },
        "xaxis158": {
         "anchor": "y158",
         "domain": [
          0.275,
          0.45
         ],
         "showgrid": true
        },
        "xaxis159": {
         "anchor": "y159",
         "domain": [
          0.55,
          0.7250000000000001
         ],
         "showgrid": true
        },
        "xaxis16": {
         "anchor": "y16",
         "domain": [
          0.825,
          1
         ],
         "showgrid": true
        },
        "xaxis160": {
         "anchor": "y160",
         "domain": [
          0.825,
          1
         ],
         "showgrid": true
        },
        "xaxis161": {
         "anchor": "y161",
         "domain": [
          0,
          0.175
         ],
         "showgrid": true
        },
        "xaxis162": {
         "anchor": "y162",
         "domain": [
          0.275,
          0.45
         ],
         "showgrid": true
        },
        "xaxis163": {
         "anchor": "y163",
         "domain": [
          0.55,
          0.7250000000000001
         ],
         "showgrid": true
        },
        "xaxis164": {
         "anchor": "y164",
         "domain": [
          0.825,
          1
         ],
         "showgrid": true
        },
        "xaxis165": {
         "anchor": "y165",
         "domain": [
          0,
          0.175
         ],
         "showgrid": true
        },
        "xaxis166": {
         "anchor": "y166",
         "domain": [
          0.275,
          0.45
         ],
         "showgrid": true
        },
        "xaxis167": {
         "anchor": "y167",
         "domain": [
          0.55,
          0.7250000000000001
         ],
         "showgrid": true
        },
        "xaxis168": {
         "anchor": "y168",
         "domain": [
          0.825,
          1
         ],
         "showgrid": true
        },
        "xaxis169": {
         "anchor": "y169",
         "domain": [
          0,
          0.175
         ],
         "showgrid": true
        },
        "xaxis17": {
         "anchor": "y17",
         "domain": [
          0,
          0.175
         ],
         "showgrid": true
        },
        "xaxis170": {
         "anchor": "y170",
         "domain": [
          0.275,
          0.45
         ],
         "showgrid": true
        },
        "xaxis171": {
         "anchor": "y171",
         "domain": [
          0.55,
          0.7250000000000001
         ],
         "showgrid": true
        },
        "xaxis172": {
         "anchor": "y172",
         "domain": [
          0.825,
          1
         ],
         "showgrid": true
        },
        "xaxis173": {
         "anchor": "y173",
         "domain": [
          0,
          0.175
         ],
         "showgrid": true
        },
        "xaxis174": {
         "anchor": "y174",
         "domain": [
          0.275,
          0.45
         ],
         "showgrid": true
        },
        "xaxis175": {
         "anchor": "y175",
         "domain": [
          0.55,
          0.7250000000000001
         ],
         "showgrid": true
        },
        "xaxis176": {
         "anchor": "y176",
         "domain": [
          0.825,
          1
         ],
         "showgrid": true
        },
        "xaxis177": {
         "anchor": "y177",
         "domain": [
          0,
          0.175
         ],
         "showgrid": true
        },
        "xaxis178": {
         "anchor": "y178",
         "domain": [
          0.275,
          0.45
         ],
         "showgrid": true
        },
        "xaxis179": {
         "anchor": "y179",
         "domain": [
          0.55,
          0.7250000000000001
         ],
         "showgrid": true
        },
        "xaxis18": {
         "anchor": "y18",
         "domain": [
          0.275,
          0.45
         ],
         "showgrid": true
        },
        "xaxis180": {
         "anchor": "y180",
         "domain": [
          0.825,
          1
         ],
         "showgrid": true
        },
        "xaxis181": {
         "anchor": "y181",
         "domain": [
          0,
          0.175
         ],
         "showgrid": true
        },
        "xaxis182": {
         "anchor": "y182",
         "domain": [
          0.275,
          0.45
         ],
         "showgrid": true
        },
        "xaxis183": {
         "anchor": "y183",
         "domain": [
          0.55,
          0.7250000000000001
         ],
         "showgrid": true
        },
        "xaxis184": {
         "anchor": "y184",
         "domain": [
          0.825,
          1
         ],
         "showgrid": true
        },
        "xaxis185": {
         "anchor": "y185",
         "domain": [
          0,
          0.175
         ],
         "showgrid": true
        },
        "xaxis186": {
         "anchor": "y186",
         "domain": [
          0.275,
          0.45
         ],
         "showgrid": true
        },
        "xaxis187": {
         "anchor": "y187",
         "domain": [
          0.55,
          0.7250000000000001
         ],
         "showgrid": true
        },
        "xaxis188": {
         "anchor": "y188",
         "domain": [
          0.825,
          1
         ],
         "showgrid": true
        },
        "xaxis189": {
         "anchor": "y189",
         "domain": [
          0,
          0.175
         ],
         "showgrid": true
        },
        "xaxis19": {
         "anchor": "y19",
         "domain": [
          0.55,
          0.7250000000000001
         ],
         "showgrid": true
        },
        "xaxis190": {
         "anchor": "y190",
         "domain": [
          0.275,
          0.45
         ],
         "showgrid": true
        },
        "xaxis191": {
         "anchor": "y191",
         "domain": [
          0.55,
          0.7250000000000001
         ],
         "showgrid": true
        },
        "xaxis192": {
         "anchor": "y192",
         "domain": [
          0.825,
          1
         ],
         "showgrid": true
        },
        "xaxis193": {
         "anchor": "y193",
         "domain": [
          0,
          0.175
         ],
         "showgrid": true
        },
        "xaxis194": {
         "anchor": "y194",
         "domain": [
          0.275,
          0.45
         ],
         "showgrid": true
        },
        "xaxis195": {
         "anchor": "y195",
         "domain": [
          0.55,
          0.7250000000000001
         ],
         "showgrid": true
        },
        "xaxis196": {
         "anchor": "y196",
         "domain": [
          0.825,
          1
         ],
         "showgrid": true
        },
        "xaxis197": {
         "anchor": "y197",
         "domain": [
          0,
          0.175
         ],
         "showgrid": true
        },
        "xaxis198": {
         "anchor": "y198",
         "domain": [
          0.275,
          0.45
         ],
         "showgrid": true
        },
        "xaxis199": {
         "anchor": "y199",
         "domain": [
          0.55,
          0.7250000000000001
         ],
         "showgrid": true
        },
        "xaxis2": {
         "anchor": "y2",
         "domain": [
          0.275,
          0.45
         ],
         "showgrid": true
        },
        "xaxis20": {
         "anchor": "y20",
         "domain": [
          0.825,
          1
         ],
         "showgrid": true
        },
        "xaxis200": {
         "anchor": "y200",
         "domain": [
          0.825,
          1
         ],
         "showgrid": true
        },
        "xaxis201": {
         "anchor": "y201",
         "domain": [
          0,
          0.175
         ],
         "showgrid": true
        },
        "xaxis202": {
         "anchor": "y202",
         "domain": [
          0.275,
          0.45
         ],
         "showgrid": true
        },
        "xaxis203": {
         "anchor": "y203",
         "domain": [
          0.55,
          0.7250000000000001
         ],
         "showgrid": true
        },
        "xaxis204": {
         "anchor": "y204",
         "domain": [
          0.825,
          1
         ],
         "showgrid": true
        },
        "xaxis205": {
         "anchor": "y205",
         "domain": [
          0,
          0.175
         ],
         "showgrid": true
        },
        "xaxis206": {
         "anchor": "y206",
         "domain": [
          0.275,
          0.45
         ],
         "showgrid": true
        },
        "xaxis207": {
         "anchor": "y207",
         "domain": [
          0.55,
          0.7250000000000001
         ],
         "showgrid": true
        },
        "xaxis208": {
         "anchor": "y208",
         "domain": [
          0.825,
          1
         ],
         "showgrid": true
        },
        "xaxis209": {
         "anchor": "y209",
         "domain": [
          0,
          0.175
         ],
         "showgrid": true
        },
        "xaxis21": {
         "anchor": "y21",
         "domain": [
          0,
          0.175
         ],
         "showgrid": true
        },
        "xaxis210": {
         "anchor": "y210",
         "domain": [
          0.275,
          0.45
         ],
         "showgrid": true
        },
        "xaxis211": {
         "anchor": "y211",
         "domain": [
          0.55,
          0.7250000000000001
         ],
         "showgrid": true
        },
        "xaxis212": {
         "anchor": "y212",
         "domain": [
          0.825,
          1
         ],
         "showgrid": true
        },
        "xaxis213": {
         "anchor": "y213",
         "domain": [
          0,
          0.175
         ],
         "showgrid": true
        },
        "xaxis214": {
         "anchor": "y214",
         "domain": [
          0.275,
          0.45
         ],
         "showgrid": true
        },
        "xaxis215": {
         "anchor": "y215",
         "domain": [
          0.55,
          0.7250000000000001
         ],
         "showgrid": true
        },
        "xaxis216": {
         "anchor": "y216",
         "domain": [
          0.825,
          1
         ],
         "showgrid": true
        },
        "xaxis217": {
         "anchor": "y217",
         "domain": [
          0,
          0.175
         ],
         "showgrid": true
        },
        "xaxis218": {
         "anchor": "y218",
         "domain": [
          0.275,
          0.45
         ],
         "showgrid": true
        },
        "xaxis219": {
         "anchor": "y219",
         "domain": [
          0.55,
          0.7250000000000001
         ],
         "showgrid": true
        },
        "xaxis22": {
         "anchor": "y22",
         "domain": [
          0.275,
          0.45
         ],
         "showgrid": true
        },
        "xaxis220": {
         "anchor": "y220",
         "domain": [
          0.825,
          1
         ],
         "showgrid": true
        },
        "xaxis221": {
         "anchor": "y221",
         "domain": [
          0,
          0.175
         ],
         "showgrid": true
        },
        "xaxis222": {
         "anchor": "y222",
         "domain": [
          0.275,
          0.45
         ],
         "showgrid": true
        },
        "xaxis223": {
         "anchor": "y223",
         "domain": [
          0.55,
          0.7250000000000001
         ],
         "showgrid": true
        },
        "xaxis224": {
         "anchor": "y224",
         "domain": [
          0.825,
          1
         ],
         "showgrid": true
        },
        "xaxis225": {
         "anchor": "y225",
         "domain": [
          0,
          0.175
         ],
         "showgrid": true
        },
        "xaxis226": {
         "anchor": "y226",
         "domain": [
          0.275,
          0.45
         ],
         "showgrid": true
        },
        "xaxis227": {
         "anchor": "y227",
         "domain": [
          0.55,
          0.7250000000000001
         ],
         "showgrid": true
        },
        "xaxis228": {
         "anchor": "y228",
         "domain": [
          0.825,
          1
         ],
         "showgrid": true
        },
        "xaxis229": {
         "anchor": "y229",
         "domain": [
          0,
          0.175
         ],
         "showgrid": true
        },
        "xaxis23": {
         "anchor": "y23",
         "domain": [
          0.55,
          0.7250000000000001
         ],
         "showgrid": true
        },
        "xaxis230": {
         "anchor": "y230",
         "domain": [
          0.275,
          0.45
         ],
         "showgrid": true
        },
        "xaxis231": {
         "anchor": "y231",
         "domain": [
          0.55,
          0.7250000000000001
         ],
         "showgrid": true
        },
        "xaxis232": {
         "anchor": "y232",
         "domain": [
          0.825,
          1
         ],
         "showgrid": true
        },
        "xaxis233": {
         "anchor": "y233",
         "domain": [
          0,
          0.175
         ],
         "showgrid": true
        },
        "xaxis234": {
         "anchor": "y234",
         "domain": [
          0.275,
          0.45
         ],
         "showgrid": true
        },
        "xaxis235": {
         "anchor": "y235",
         "domain": [
          0.55,
          0.7250000000000001
         ],
         "showgrid": true
        },
        "xaxis236": {
         "anchor": "y236",
         "domain": [
          0.825,
          1
         ],
         "showgrid": true
        },
        "xaxis237": {
         "anchor": "y237",
         "domain": [
          0,
          0.175
         ],
         "showgrid": true
        },
        "xaxis238": {
         "anchor": "y238",
         "domain": [
          0.275,
          0.45
         ],
         "showgrid": true
        },
        "xaxis239": {
         "anchor": "y239",
         "domain": [
          0.55,
          0.7250000000000001
         ],
         "showgrid": true
        },
        "xaxis24": {
         "anchor": "y24",
         "domain": [
          0.825,
          1
         ],
         "showgrid": true
        },
        "xaxis240": {
         "anchor": "y240",
         "domain": [
          0.825,
          1
         ],
         "showgrid": true
        },
        "xaxis241": {
         "anchor": "y241",
         "domain": [
          0,
          0.175
         ],
         "showgrid": true
        },
        "xaxis242": {
         "anchor": "y242",
         "domain": [
          0.275,
          0.45
         ],
         "showgrid": true
        },
        "xaxis243": {
         "anchor": "y243",
         "domain": [
          0.55,
          0.7250000000000001
         ],
         "showgrid": true
        },
        "xaxis244": {
         "anchor": "y244",
         "domain": [
          0.825,
          1
         ],
         "showgrid": true
        },
        "xaxis245": {
         "anchor": "y245",
         "domain": [
          0,
          0.175
         ],
         "showgrid": true
        },
        "xaxis246": {
         "anchor": "y246",
         "domain": [
          0.275,
          0.45
         ],
         "showgrid": true
        },
        "xaxis247": {
         "anchor": "y247",
         "domain": [
          0.55,
          0.7250000000000001
         ],
         "showgrid": true
        },
        "xaxis248": {
         "anchor": "y248",
         "domain": [
          0.825,
          1
         ],
         "showgrid": true
        },
        "xaxis249": {
         "anchor": "y249",
         "domain": [
          0,
          0.175
         ],
         "showgrid": true
        },
        "xaxis25": {
         "anchor": "y25",
         "domain": [
          0,
          0.175
         ],
         "showgrid": true
        },
        "xaxis250": {
         "anchor": "y250",
         "domain": [
          0.275,
          0.45
         ],
         "showgrid": true
        },
        "xaxis251": {
         "anchor": "y251",
         "domain": [
          0.55,
          0.7250000000000001
         ],
         "showgrid": true
        },
        "xaxis252": {
         "anchor": "y252",
         "domain": [
          0.825,
          1
         ],
         "showgrid": true
        },
        "xaxis253": {
         "anchor": "y253",
         "domain": [
          0,
          0.175
         ],
         "showgrid": true
        },
        "xaxis254": {
         "anchor": "y254",
         "domain": [
          0.275,
          0.45
         ],
         "showgrid": true
        },
        "xaxis255": {
         "anchor": "y255",
         "domain": [
          0.55,
          0.7250000000000001
         ],
         "showgrid": true
        },
        "xaxis256": {
         "anchor": "y256",
         "domain": [
          0.825,
          1
         ],
         "showgrid": true
        },
        "xaxis257": {
         "anchor": "y257",
         "domain": [
          0,
          0.175
         ],
         "showgrid": true
        },
        "xaxis258": {
         "anchor": "y258",
         "domain": [
          0.275,
          0.45
         ],
         "showgrid": true
        },
        "xaxis259": {
         "anchor": "y259",
         "domain": [
          0.55,
          0.7250000000000001
         ],
         "showgrid": true
        },
        "xaxis26": {
         "anchor": "y26",
         "domain": [
          0.275,
          0.45
         ],
         "showgrid": true
        },
        "xaxis260": {
         "anchor": "y260",
         "domain": [
          0.825,
          1
         ],
         "showgrid": true
        },
        "xaxis261": {
         "anchor": "y261",
         "domain": [
          0,
          0.175
         ],
         "showgrid": true
        },
        "xaxis262": {
         "anchor": "y262",
         "domain": [
          0.275,
          0.45
         ],
         "showgrid": true
        },
        "xaxis263": {
         "anchor": "y263",
         "domain": [
          0.55,
          0.7250000000000001
         ],
         "showgrid": true
        },
        "xaxis264": {
         "anchor": "y264",
         "domain": [
          0.825,
          1
         ],
         "showgrid": true
        },
        "xaxis265": {
         "anchor": "y265",
         "domain": [
          0,
          0.175
         ],
         "showgrid": true
        },
        "xaxis266": {
         "anchor": "y266",
         "domain": [
          0.275,
          0.45
         ],
         "showgrid": true
        },
        "xaxis267": {
         "anchor": "y267",
         "domain": [
          0.55,
          0.7250000000000001
         ],
         "showgrid": true
        },
        "xaxis268": {
         "anchor": "y268",
         "domain": [
          0.825,
          1
         ],
         "showgrid": true
        },
        "xaxis269": {
         "anchor": "y269",
         "domain": [
          0,
          0.175
         ],
         "showgrid": true
        },
        "xaxis27": {
         "anchor": "y27",
         "domain": [
          0.55,
          0.7250000000000001
         ],
         "showgrid": true
        },
        "xaxis270": {
         "anchor": "y270",
         "domain": [
          0.275,
          0.45
         ],
         "showgrid": true
        },
        "xaxis271": {
         "anchor": "y271",
         "domain": [
          0.55,
          0.7250000000000001
         ],
         "showgrid": true
        },
        "xaxis272": {
         "anchor": "y272",
         "domain": [
          0.825,
          1
         ],
         "showgrid": true
        },
        "xaxis273": {
         "anchor": "y273",
         "domain": [
          0,
          0.175
         ],
         "showgrid": true
        },
        "xaxis274": {
         "anchor": "y274",
         "domain": [
          0.275,
          0.45
         ],
         "showgrid": true
        },
        "xaxis275": {
         "anchor": "y275",
         "domain": [
          0.55,
          0.7250000000000001
         ],
         "showgrid": true
        },
        "xaxis276": {
         "anchor": "y276",
         "domain": [
          0.825,
          1
         ],
         "showgrid": true
        },
        "xaxis277": {
         "anchor": "y277",
         "domain": [
          0,
          0.175
         ],
         "showgrid": true
        },
        "xaxis278": {
         "anchor": "y278",
         "domain": [
          0.275,
          0.45
         ],
         "showgrid": true
        },
        "xaxis279": {
         "anchor": "y279",
         "domain": [
          0.55,
          0.7250000000000001
         ],
         "showgrid": true
        },
        "xaxis28": {
         "anchor": "y28",
         "domain": [
          0.825,
          1
         ],
         "showgrid": true
        },
        "xaxis280": {
         "anchor": "y280",
         "domain": [
          0.825,
          1
         ],
         "showgrid": true
        },
        "xaxis281": {
         "anchor": "y281",
         "domain": [
          0,
          0.175
         ],
         "showgrid": true
        },
        "xaxis282": {
         "anchor": "y282",
         "domain": [
          0.275,
          0.45
         ],
         "showgrid": true
        },
        "xaxis283": {
         "anchor": "y283",
         "domain": [
          0.55,
          0.7250000000000001
         ],
         "showgrid": true
        },
        "xaxis284": {
         "anchor": "y284",
         "domain": [
          0.825,
          1
         ],
         "showgrid": true
        },
        "xaxis285": {
         "anchor": "y285",
         "domain": [
          0,
          0.175
         ],
         "showgrid": true
        },
        "xaxis286": {
         "anchor": "y286",
         "domain": [
          0.275,
          0.45
         ],
         "showgrid": true
        },
        "xaxis287": {
         "anchor": "y287",
         "domain": [
          0.55,
          0.7250000000000001
         ],
         "showgrid": true
        },
        "xaxis288": {
         "anchor": "y288",
         "domain": [
          0.825,
          1
         ],
         "showgrid": true
        },
        "xaxis289": {
         "anchor": "y289",
         "domain": [
          0,
          0.175
         ],
         "showgrid": true
        },
        "xaxis29": {
         "anchor": "y29",
         "domain": [
          0,
          0.175
         ],
         "showgrid": true
        },
        "xaxis290": {
         "anchor": "y290",
         "domain": [
          0.275,
          0.45
         ],
         "showgrid": true
        },
        "xaxis291": {
         "anchor": "y291",
         "domain": [
          0.55,
          0.7250000000000001
         ],
         "showgrid": true
        },
        "xaxis292": {
         "anchor": "y292",
         "domain": [
          0.825,
          1
         ],
         "showgrid": true
        },
        "xaxis293": {
         "anchor": "y293",
         "domain": [
          0,
          0.175
         ],
         "showgrid": true
        },
        "xaxis294": {
         "anchor": "y294",
         "domain": [
          0.275,
          0.45
         ],
         "showgrid": true
        },
        "xaxis295": {
         "anchor": "y295",
         "domain": [
          0.55,
          0.7250000000000001
         ],
         "showgrid": true
        },
        "xaxis296": {
         "anchor": "y296",
         "domain": [
          0.825,
          1
         ],
         "showgrid": true
        },
        "xaxis297": {
         "anchor": "y297",
         "domain": [
          0,
          0.175
         ],
         "showgrid": true
        },
        "xaxis298": {
         "anchor": "y298",
         "domain": [
          0.275,
          0.45
         ],
         "showgrid": true
        },
        "xaxis299": {
         "anchor": "y299",
         "domain": [
          0.55,
          0.7250000000000001
         ],
         "showgrid": true
        },
        "xaxis3": {
         "anchor": "y3",
         "domain": [
          0.55,
          0.7250000000000001
         ],
         "showgrid": true
        },
        "xaxis30": {
         "anchor": "y30",
         "domain": [
          0.275,
          0.45
         ],
         "showgrid": true
        },
        "xaxis300": {
         "anchor": "y300",
         "domain": [
          0.825,
          1
         ],
         "showgrid": true
        },
        "xaxis301": {
         "anchor": "y301",
         "domain": [
          0,
          0.175
         ],
         "showgrid": true
        },
        "xaxis302": {
         "anchor": "y302",
         "domain": [
          0.275,
          0.45
         ],
         "showgrid": true
        },
        "xaxis303": {
         "anchor": "y303",
         "domain": [
          0.55,
          0.7250000000000001
         ],
         "showgrid": true
        },
        "xaxis304": {
         "anchor": "y304",
         "domain": [
          0.825,
          1
         ],
         "showgrid": true
        },
        "xaxis305": {
         "anchor": "y305",
         "domain": [
          0,
          0.175
         ],
         "showgrid": true
        },
        "xaxis306": {
         "anchor": "y306",
         "domain": [
          0.275,
          0.45
         ],
         "showgrid": true
        },
        "xaxis307": {
         "anchor": "y307",
         "domain": [
          0.55,
          0.7250000000000001
         ],
         "showgrid": true
        },
        "xaxis308": {
         "anchor": "y308",
         "domain": [
          0.825,
          1
         ],
         "showgrid": true
        },
        "xaxis309": {
         "anchor": "y309",
         "domain": [
          0,
          0.175
         ],
         "showgrid": true
        },
        "xaxis31": {
         "anchor": "y31",
         "domain": [
          0.55,
          0.7250000000000001
         ],
         "showgrid": true
        },
        "xaxis310": {
         "anchor": "y310",
         "domain": [
          0.275,
          0.45
         ],
         "showgrid": true
        },
        "xaxis311": {
         "anchor": "y311",
         "domain": [
          0.55,
          0.7250000000000001
         ],
         "showgrid": true
        },
        "xaxis312": {
         "anchor": "y312",
         "domain": [
          0.825,
          1
         ],
         "showgrid": true
        },
        "xaxis313": {
         "anchor": "y313",
         "domain": [
          0,
          0.175
         ],
         "showgrid": true
        },
        "xaxis314": {
         "anchor": "y314",
         "domain": [
          0.275,
          0.45
         ],
         "showgrid": true
        },
        "xaxis315": {
         "anchor": "y315",
         "domain": [
          0.55,
          0.7250000000000001
         ],
         "showgrid": true
        },
        "xaxis316": {
         "anchor": "y316",
         "domain": [
          0.825,
          1
         ],
         "showgrid": true
        },
        "xaxis317": {
         "anchor": "y317",
         "domain": [
          0,
          0.175
         ],
         "showgrid": true
        },
        "xaxis318": {
         "anchor": "y318",
         "domain": [
          0.275,
          0.45
         ],
         "showgrid": true
        },
        "xaxis319": {
         "anchor": "y319",
         "domain": [
          0.55,
          0.7250000000000001
         ],
         "showgrid": true
        },
        "xaxis32": {
         "anchor": "y32",
         "domain": [
          0.825,
          1
         ],
         "showgrid": true
        },
        "xaxis320": {
         "anchor": "y320",
         "domain": [
          0.825,
          1
         ],
         "showgrid": true
        },
        "xaxis321": {
         "anchor": "y321",
         "domain": [
          0,
          0.175
         ],
         "showgrid": true
        },
        "xaxis322": {
         "anchor": "y322",
         "domain": [
          0.275,
          0.45
         ],
         "showgrid": true
        },
        "xaxis323": {
         "anchor": "y323",
         "domain": [
          0.55,
          0.7250000000000001
         ],
         "showgrid": true
        },
        "xaxis324": {
         "anchor": "y324",
         "domain": [
          0.825,
          1
         ],
         "showgrid": true
        },
        "xaxis325": {
         "anchor": "y325",
         "domain": [
          0,
          0.175
         ],
         "showgrid": true
        },
        "xaxis326": {
         "anchor": "y326",
         "domain": [
          0.275,
          0.45
         ],
         "showgrid": true
        },
        "xaxis327": {
         "anchor": "y327",
         "domain": [
          0.55,
          0.7250000000000001
         ],
         "showgrid": true
        },
        "xaxis328": {
         "anchor": "y328",
         "domain": [
          0.825,
          1
         ],
         "showgrid": true
        },
        "xaxis329": {
         "anchor": "y329",
         "domain": [
          0,
          0.175
         ],
         "showgrid": true
        },
        "xaxis33": {
         "anchor": "y33",
         "domain": [
          0,
          0.175
         ],
         "showgrid": true
        },
        "xaxis330": {
         "anchor": "y330",
         "domain": [
          0.275,
          0.45
         ],
         "showgrid": true
        },
        "xaxis331": {
         "anchor": "y331",
         "domain": [
          0.55,
          0.7250000000000001
         ],
         "showgrid": true
        },
        "xaxis332": {
         "anchor": "y332",
         "domain": [
          0.825,
          1
         ],
         "showgrid": true
        },
        "xaxis333": {
         "anchor": "y333",
         "domain": [
          0,
          0.175
         ],
         "showgrid": true
        },
        "xaxis334": {
         "anchor": "y334",
         "domain": [
          0.275,
          0.45
         ],
         "showgrid": true
        },
        "xaxis335": {
         "anchor": "y335",
         "domain": [
          0.55,
          0.7250000000000001
         ],
         "showgrid": true
        },
        "xaxis336": {
         "anchor": "y336",
         "domain": [
          0.825,
          1
         ],
         "showgrid": true
        },
        "xaxis337": {
         "anchor": "y337",
         "domain": [
          0,
          0.175
         ],
         "showgrid": true
        },
        "xaxis338": {
         "anchor": "y338",
         "domain": [
          0.275,
          0.45
         ],
         "showgrid": true
        },
        "xaxis339": {
         "anchor": "y339",
         "domain": [
          0.55,
          0.7250000000000001
         ],
         "showgrid": true
        },
        "xaxis34": {
         "anchor": "y34",
         "domain": [
          0.275,
          0.45
         ],
         "showgrid": true
        },
        "xaxis340": {
         "anchor": "y340",
         "domain": [
          0.825,
          1
         ],
         "showgrid": true
        },
        "xaxis341": {
         "anchor": "y341",
         "domain": [
          0,
          0.175
         ],
         "showgrid": true
        },
        "xaxis342": {
         "anchor": "y342",
         "domain": [
          0.275,
          0.45
         ],
         "showgrid": true
        },
        "xaxis343": {
         "anchor": "y343",
         "domain": [
          0.55,
          0.7250000000000001
         ],
         "showgrid": true
        },
        "xaxis344": {
         "anchor": "y344",
         "domain": [
          0.825,
          1
         ],
         "showgrid": true
        },
        "xaxis345": {
         "anchor": "y345",
         "domain": [
          0,
          0.175
         ],
         "showgrid": true
        },
        "xaxis346": {
         "anchor": "y346",
         "domain": [
          0.275,
          0.45
         ],
         "showgrid": true
        },
        "xaxis347": {
         "anchor": "y347",
         "domain": [
          0.55,
          0.7250000000000001
         ],
         "showgrid": true
        },
        "xaxis348": {
         "anchor": "y348",
         "domain": [
          0.825,
          1
         ],
         "showgrid": true
        },
        "xaxis35": {
         "anchor": "y35",
         "domain": [
          0.55,
          0.7250000000000001
         ],
         "showgrid": true
        },
        "xaxis36": {
         "anchor": "y36",
         "domain": [
          0.825,
          1
         ],
         "showgrid": true
        },
        "xaxis37": {
         "anchor": "y37",
         "domain": [
          0,
          0.175
         ],
         "showgrid": true
        },
        "xaxis38": {
         "anchor": "y38",
         "domain": [
          0.275,
          0.45
         ],
         "showgrid": true
        },
        "xaxis39": {
         "anchor": "y39",
         "domain": [
          0.55,
          0.7250000000000001
         ],
         "showgrid": true
        },
        "xaxis4": {
         "anchor": "y4",
         "domain": [
          0.825,
          1
         ],
         "showgrid": true
        },
        "xaxis40": {
         "anchor": "y40",
         "domain": [
          0.825,
          1
         ],
         "showgrid": true
        },
        "xaxis41": {
         "anchor": "y41",
         "domain": [
          0,
          0.175
         ],
         "showgrid": true
        },
        "xaxis42": {
         "anchor": "y42",
         "domain": [
          0.275,
          0.45
         ],
         "showgrid": true
        },
        "xaxis43": {
         "anchor": "y43",
         "domain": [
          0.55,
          0.7250000000000001
         ],
         "showgrid": true
        },
        "xaxis44": {
         "anchor": "y44",
         "domain": [
          0.825,
          1
         ],
         "showgrid": true
        },
        "xaxis45": {
         "anchor": "y45",
         "domain": [
          0,
          0.175
         ],
         "showgrid": true
        },
        "xaxis46": {
         "anchor": "y46",
         "domain": [
          0.275,
          0.45
         ],
         "showgrid": true
        },
        "xaxis47": {
         "anchor": "y47",
         "domain": [
          0.55,
          0.7250000000000001
         ],
         "showgrid": true
        },
        "xaxis48": {
         "anchor": "y48",
         "domain": [
          0.825,
          1
         ],
         "showgrid": true
        },
        "xaxis49": {
         "anchor": "y49",
         "domain": [
          0,
          0.175
         ],
         "showgrid": true
        },
        "xaxis5": {
         "anchor": "y5",
         "domain": [
          0,
          0.175
         ],
         "showgrid": true
        },
        "xaxis50": {
         "anchor": "y50",
         "domain": [
          0.275,
          0.45
         ],
         "showgrid": true
        },
        "xaxis51": {
         "anchor": "y51",
         "domain": [
          0.55,
          0.7250000000000001
         ],
         "showgrid": true
        },
        "xaxis52": {
         "anchor": "y52",
         "domain": [
          0.825,
          1
         ],
         "showgrid": true
        },
        "xaxis53": {
         "anchor": "y53",
         "domain": [
          0,
          0.175
         ],
         "showgrid": true
        },
        "xaxis54": {
         "anchor": "y54",
         "domain": [
          0.275,
          0.45
         ],
         "showgrid": true
        },
        "xaxis55": {
         "anchor": "y55",
         "domain": [
          0.55,
          0.7250000000000001
         ],
         "showgrid": true
        },
        "xaxis56": {
         "anchor": "y56",
         "domain": [
          0.825,
          1
         ],
         "showgrid": true
        },
        "xaxis57": {
         "anchor": "y57",
         "domain": [
          0,
          0.175
         ],
         "showgrid": true
        },
        "xaxis58": {
         "anchor": "y58",
         "domain": [
          0.275,
          0.45
         ],
         "showgrid": true
        },
        "xaxis59": {
         "anchor": "y59",
         "domain": [
          0.55,
          0.7250000000000001
         ],
         "showgrid": true
        },
        "xaxis6": {
         "anchor": "y6",
         "domain": [
          0.275,
          0.45
         ],
         "showgrid": true
        },
        "xaxis60": {
         "anchor": "y60",
         "domain": [
          0.825,
          1
         ],
         "showgrid": true
        },
        "xaxis61": {
         "anchor": "y61",
         "domain": [
          0,
          0.175
         ],
         "showgrid": true
        },
        "xaxis62": {
         "anchor": "y62",
         "domain": [
          0.275,
          0.45
         ],
         "showgrid": true
        },
        "xaxis63": {
         "anchor": "y63",
         "domain": [
          0.55,
          0.7250000000000001
         ],
         "showgrid": true
        },
        "xaxis64": {
         "anchor": "y64",
         "domain": [
          0.825,
          1
         ],
         "showgrid": true
        },
        "xaxis65": {
         "anchor": "y65",
         "domain": [
          0,
          0.175
         ],
         "showgrid": true
        },
        "xaxis66": {
         "anchor": "y66",
         "domain": [
          0.275,
          0.45
         ],
         "showgrid": true
        },
        "xaxis67": {
         "anchor": "y67",
         "domain": [
          0.55,
          0.7250000000000001
         ],
         "showgrid": true
        },
        "xaxis68": {
         "anchor": "y68",
         "domain": [
          0.825,
          1
         ],
         "showgrid": true
        },
        "xaxis69": {
         "anchor": "y69",
         "domain": [
          0,
          0.175
         ],
         "showgrid": true
        },
        "xaxis7": {
         "anchor": "y7",
         "domain": [
          0.55,
          0.7250000000000001
         ],
         "showgrid": true
        },
        "xaxis70": {
         "anchor": "y70",
         "domain": [
          0.275,
          0.45
         ],
         "showgrid": true
        },
        "xaxis71": {
         "anchor": "y71",
         "domain": [
          0.55,
          0.7250000000000001
         ],
         "showgrid": true
        },
        "xaxis72": {
         "anchor": "y72",
         "domain": [
          0.825,
          1
         ],
         "showgrid": true
        },
        "xaxis73": {
         "anchor": "y73",
         "domain": [
          0,
          0.175
         ],
         "showgrid": true
        },
        "xaxis74": {
         "anchor": "y74",
         "domain": [
          0.275,
          0.45
         ],
         "showgrid": true
        },
        "xaxis75": {
         "anchor": "y75",
         "domain": [
          0.55,
          0.7250000000000001
         ],
         "showgrid": true
        },
        "xaxis76": {
         "anchor": "y76",
         "domain": [
          0.825,
          1
         ],
         "showgrid": true
        },
        "xaxis77": {
         "anchor": "y77",
         "domain": [
          0,
          0.175
         ],
         "showgrid": true
        },
        "xaxis78": {
         "anchor": "y78",
         "domain": [
          0.275,
          0.45
         ],
         "showgrid": true
        },
        "xaxis79": {
         "anchor": "y79",
         "domain": [
          0.55,
          0.7250000000000001
         ],
         "showgrid": true
        },
        "xaxis8": {
         "anchor": "y8",
         "domain": [
          0.825,
          1
         ],
         "showgrid": true
        },
        "xaxis80": {
         "anchor": "y80",
         "domain": [
          0.825,
          1
         ],
         "showgrid": true
        },
        "xaxis81": {
         "anchor": "y81",
         "domain": [
          0,
          0.175
         ],
         "showgrid": true
        },
        "xaxis82": {
         "anchor": "y82",
         "domain": [
          0.275,
          0.45
         ],
         "showgrid": true
        },
        "xaxis83": {
         "anchor": "y83",
         "domain": [
          0.55,
          0.7250000000000001
         ],
         "showgrid": true
        },
        "xaxis84": {
         "anchor": "y84",
         "domain": [
          0.825,
          1
         ],
         "showgrid": true
        },
        "xaxis85": {
         "anchor": "y85",
         "domain": [
          0,
          0.175
         ],
         "showgrid": true
        },
        "xaxis86": {
         "anchor": "y86",
         "domain": [
          0.275,
          0.45
         ],
         "showgrid": true
        },
        "xaxis87": {
         "anchor": "y87",
         "domain": [
          0.55,
          0.7250000000000001
         ],
         "showgrid": true
        },
        "xaxis88": {
         "anchor": "y88",
         "domain": [
          0.825,
          1
         ],
         "showgrid": true
        },
        "xaxis89": {
         "anchor": "y89",
         "domain": [
          0,
          0.175
         ],
         "showgrid": true
        },
        "xaxis9": {
         "anchor": "y9",
         "domain": [
          0,
          0.175
         ],
         "showgrid": true
        },
        "xaxis90": {
         "anchor": "y90",
         "domain": [
          0.275,
          0.45
         ],
         "showgrid": true
        },
        "xaxis91": {
         "anchor": "y91",
         "domain": [
          0.55,
          0.7250000000000001
         ],
         "showgrid": true
        },
        "xaxis92": {
         "anchor": "y92",
         "domain": [
          0.825,
          1
         ],
         "showgrid": true
        },
        "xaxis93": {
         "anchor": "y93",
         "domain": [
          0,
          0.175
         ],
         "showgrid": true
        },
        "xaxis94": {
         "anchor": "y94",
         "domain": [
          0.275,
          0.45
         ],
         "showgrid": true
        },
        "xaxis95": {
         "anchor": "y95",
         "domain": [
          0.55,
          0.7250000000000001
         ],
         "showgrid": true
        },
        "xaxis96": {
         "anchor": "y96",
         "domain": [
          0.825,
          1
         ],
         "showgrid": true
        },
        "xaxis97": {
         "anchor": "y97",
         "domain": [
          0,
          0.175
         ],
         "showgrid": true
        },
        "xaxis98": {
         "anchor": "y98",
         "domain": [
          0.275,
          0.45
         ],
         "showgrid": true
        },
        "xaxis99": {
         "anchor": "y99",
         "domain": [
          0.55,
          0.7250000000000001
         ],
         "showgrid": true
        },
        "yaxis": {
         "anchor": "x",
         "domain": [
          0.9930506011362137,
          1
         ],
         "showgrid": true
        },
        "yaxis10": {
         "anchor": "x10",
         "domain": [
          0.9699564011097901,
          0.9769057999735766
         ],
         "showgrid": true
        },
        "yaxis100": {
         "anchor": "x100",
         "domain": [
          0.7159202008191305,
          0.7228695996829171
         ],
         "showgrid": true
        },
        "yaxis101": {
         "anchor": "x101",
         "domain": [
          0.7043731008059186,
          0.7113224996697052
         ],
         "showgrid": true
        },
        "yaxis102": {
         "anchor": "x102",
         "domain": [
          0.7043731008059186,
          0.7113224996697052
         ],
         "showgrid": true
        },
        "yaxis103": {
         "anchor": "x103",
         "domain": [
          0.7043731008059186,
          0.7113224996697052
         ],
         "showgrid": true
        },
        "yaxis104": {
         "anchor": "x104",
         "domain": [
          0.7043731008059186,
          0.7113224996697052
         ],
         "showgrid": true
        },
        "yaxis105": {
         "anchor": "x105",
         "domain": [
          0.692826000792707,
          0.6997753996564935
         ],
         "showgrid": true
        },
        "yaxis106": {
         "anchor": "x106",
         "domain": [
          0.692826000792707,
          0.6997753996564935
         ],
         "showgrid": true
        },
        "yaxis107": {
         "anchor": "x107",
         "domain": [
          0.692826000792707,
          0.6997753996564935
         ],
         "showgrid": true
        },
        "yaxis108": {
         "anchor": "x108",
         "domain": [
          0.692826000792707,
          0.6997753996564935
         ],
         "showgrid": true
        },
        "yaxis109": {
         "anchor": "x109",
         "domain": [
          0.6812789007794953,
          0.6882282996432818
         ],
         "showgrid": true
        },
        "yaxis11": {
         "anchor": "x11",
         "domain": [
          0.9699564011097901,
          0.9769057999735766
         ],
         "showgrid": true
        },
        "yaxis110": {
         "anchor": "x110",
         "domain": [
          0.6812789007794953,
          0.6882282996432818
         ],
         "showgrid": true
        },
        "yaxis111": {
         "anchor": "x111",
         "domain": [
          0.6812789007794953,
          0.6882282996432818
         ],
         "showgrid": true
        },
        "yaxis112": {
         "anchor": "x112",
         "domain": [
          0.6812789007794953,
          0.6882282996432818
         ],
         "showgrid": true
        },
        "yaxis113": {
         "anchor": "x113",
         "domain": [
          0.6697318007662834,
          0.6766811996300699
         ],
         "showgrid": true
        },
        "yaxis114": {
         "anchor": "x114",
         "domain": [
          0.6697318007662834,
          0.6766811996300699
         ],
         "showgrid": true
        },
        "yaxis115": {
         "anchor": "x115",
         "domain": [
          0.6697318007662834,
          0.6766811996300699
         ],
         "showgrid": true
        },
        "yaxis116": {
         "anchor": "x116",
         "domain": [
          0.6697318007662834,
          0.6766811996300699
         ],
         "showgrid": true
        },
        "yaxis117": {
         "anchor": "x117",
         "domain": [
          0.6581847007530717,
          0.6651340996168582
         ],
         "showgrid": true
        },
        "yaxis118": {
         "anchor": "x118",
         "domain": [
          0.6581847007530717,
          0.6651340996168582
         ],
         "showgrid": true
        },
        "yaxis119": {
         "anchor": "x119",
         "domain": [
          0.6581847007530717,
          0.6651340996168582
         ],
         "showgrid": true
        },
        "yaxis12": {
         "anchor": "x12",
         "domain": [
          0.9699564011097901,
          0.9769057999735766
         ],
         "showgrid": true
        },
        "yaxis120": {
         "anchor": "x120",
         "domain": [
          0.6581847007530717,
          0.6651340996168582
         ],
         "showgrid": true
        },
        "yaxis121": {
         "anchor": "x121",
         "domain": [
          0.6466376007398599,
          0.6535869996036464
         ],
         "showgrid": true
        },
        "yaxis122": {
         "anchor": "x122",
         "domain": [
          0.6466376007398599,
          0.6535869996036464
         ],
         "showgrid": true
        },
        "yaxis123": {
         "anchor": "x123",
         "domain": [
          0.6466376007398599,
          0.6535869996036464
         ],
         "showgrid": true
        },
        "yaxis124": {
         "anchor": "x124",
         "domain": [
          0.6466376007398599,
          0.6535869996036464
         ],
         "showgrid": true
        },
        "yaxis125": {
         "anchor": "x125",
         "domain": [
          0.6350905007266481,
          0.6420398995904346
         ],
         "showgrid": true
        },
        "yaxis126": {
         "anchor": "x126",
         "domain": [
          0.6350905007266481,
          0.6420398995904346
         ],
         "showgrid": true
        },
        "yaxis127": {
         "anchor": "x127",
         "domain": [
          0.6350905007266481,
          0.6420398995904346
         ],
         "showgrid": true
        },
        "yaxis128": {
         "anchor": "x128",
         "domain": [
          0.6350905007266481,
          0.6420398995904346
         ],
         "showgrid": true
        },
        "yaxis129": {
         "anchor": "x129",
         "domain": [
          0.6235434007134364,
          0.6304927995772229
         ],
         "showgrid": true
        },
        "yaxis13": {
         "anchor": "x13",
         "domain": [
          0.9584093010965783,
          0.9653586999603648
         ],
         "showgrid": true
        },
        "yaxis130": {
         "anchor": "x130",
         "domain": [
          0.6235434007134364,
          0.6304927995772229
         ],
         "showgrid": true
        },
        "yaxis131": {
         "anchor": "x131",
         "domain": [
          0.6235434007134364,
          0.6304927995772229
         ],
         "showgrid": true
        },
        "yaxis132": {
         "anchor": "x132",
         "domain": [
          0.6235434007134364,
          0.6304927995772229
         ],
         "showgrid": true
        },
        "yaxis133": {
         "anchor": "x133",
         "domain": [
          0.6119963007002246,
          0.6189456995640111
         ],
         "showgrid": true
        },
        "yaxis134": {
         "anchor": "x134",
         "domain": [
          0.6119963007002246,
          0.6189456995640111
         ],
         "showgrid": true
        },
        "yaxis135": {
         "anchor": "x135",
         "domain": [
          0.6119963007002246,
          0.6189456995640111
         ],
         "showgrid": true
        },
        "yaxis136": {
         "anchor": "x136",
         "domain": [
          0.6119963007002246,
          0.6189456995640111
         ],
         "showgrid": true
        },
        "yaxis137": {
         "anchor": "x137",
         "domain": [
          0.6004492006870128,
          0.6073985995507993
         ],
         "showgrid": true
        },
        "yaxis138": {
         "anchor": "x138",
         "domain": [
          0.6004492006870128,
          0.6073985995507993
         ],
         "showgrid": true
        },
        "yaxis139": {
         "anchor": "x139",
         "domain": [
          0.6004492006870128,
          0.6073985995507993
         ],
         "showgrid": true
        },
        "yaxis14": {
         "anchor": "x14",
         "domain": [
          0.9584093010965783,
          0.9653586999603648
         ],
         "showgrid": true
        },
        "yaxis140": {
         "anchor": "x140",
         "domain": [
          0.6004492006870128,
          0.6073985995507993
         ],
         "showgrid": true
        },
        "yaxis141": {
         "anchor": "x141",
         "domain": [
          0.588902100673801,
          0.5958514995375875
         ],
         "showgrid": true
        },
        "yaxis142": {
         "anchor": "x142",
         "domain": [
          0.588902100673801,
          0.5958514995375875
         ],
         "showgrid": true
        },
        "yaxis143": {
         "anchor": "x143",
         "domain": [
          0.588902100673801,
          0.5958514995375875
         ],
         "showgrid": true
        },
        "yaxis144": {
         "anchor": "x144",
         "domain": [
          0.588902100673801,
          0.5958514995375875
         ],
         "showgrid": true
        },
        "yaxis145": {
         "anchor": "x145",
         "domain": [
          0.5773550006605892,
          0.5843043995243757
         ],
         "showgrid": true
        },
        "yaxis146": {
         "anchor": "x146",
         "domain": [
          0.5773550006605892,
          0.5843043995243757
         ],
         "showgrid": true
        },
        "yaxis147": {
         "anchor": "x147",
         "domain": [
          0.5773550006605892,
          0.5843043995243757
         ],
         "showgrid": true
        },
        "yaxis148": {
         "anchor": "x148",
         "domain": [
          0.5773550006605892,
          0.5843043995243757
         ],
         "showgrid": true
        },
        "yaxis149": {
         "anchor": "x149",
         "domain": [
          0.5658079006473775,
          0.572757299511164
         ],
         "showgrid": true
        },
        "yaxis15": {
         "anchor": "x15",
         "domain": [
          0.9584093010965783,
          0.9653586999603648
         ],
         "showgrid": true
        },
        "yaxis150": {
         "anchor": "x150",
         "domain": [
          0.5658079006473775,
          0.572757299511164
         ],
         "showgrid": true
        },
        "yaxis151": {
         "anchor": "x151",
         "domain": [
          0.5658079006473775,
          0.572757299511164
         ],
         "showgrid": true
        },
        "yaxis152": {
         "anchor": "x152",
         "domain": [
          0.5658079006473775,
          0.572757299511164
         ],
         "showgrid": true
        },
        "yaxis153": {
         "anchor": "x153",
         "domain": [
          0.5542608006341657,
          0.5612101994979523
         ],
         "showgrid": true
        },
        "yaxis154": {
         "anchor": "x154",
         "domain": [
          0.5542608006341657,
          0.5612101994979523
         ],
         "showgrid": true
        },
        "yaxis155": {
         "anchor": "x155",
         "domain": [
          0.5542608006341657,
          0.5612101994979523
         ],
         "showgrid": true
        },
        "yaxis156": {
         "anchor": "x156",
         "domain": [
          0.5542608006341657,
          0.5612101994979523
         ],
         "showgrid": true
        },
        "yaxis157": {
         "anchor": "x157",
         "domain": [
          0.5427137006209539,
          0.5496630994847405
         ],
         "showgrid": true
        },
        "yaxis158": {
         "anchor": "x158",
         "domain": [
          0.5427137006209539,
          0.5496630994847405
         ],
         "showgrid": true
        },
        "yaxis159": {
         "anchor": "x159",
         "domain": [
          0.5427137006209539,
          0.5496630994847405
         ],
         "showgrid": true
        },
        "yaxis16": {
         "anchor": "x16",
         "domain": [
          0.9584093010965783,
          0.9653586999603648
         ],
         "showgrid": true
        },
        "yaxis160": {
         "anchor": "x160",
         "domain": [
          0.5427137006209539,
          0.5496630994847405
         ],
         "showgrid": true
        },
        "yaxis161": {
         "anchor": "x161",
         "domain": [
          0.5311666006077422,
          0.5381159994715288
         ],
         "showgrid": true
        },
        "yaxis162": {
         "anchor": "x162",
         "domain": [
          0.5311666006077422,
          0.5381159994715288
         ],
         "showgrid": true
        },
        "yaxis163": {
         "anchor": "x163",
         "domain": [
          0.5311666006077422,
          0.5381159994715288
         ],
         "showgrid": true
        },
        "yaxis164": {
         "anchor": "x164",
         "domain": [
          0.5311666006077422,
          0.5381159994715288
         ],
         "showgrid": true
        },
        "yaxis165": {
         "anchor": "x165",
         "domain": [
          0.5196195005945304,
          0.526568899458317
         ],
         "showgrid": true
        },
        "yaxis166": {
         "anchor": "x166",
         "domain": [
          0.5196195005945304,
          0.526568899458317
         ],
         "showgrid": true
        },
        "yaxis167": {
         "anchor": "x167",
         "domain": [
          0.5196195005945304,
          0.526568899458317
         ],
         "showgrid": true
        },
        "yaxis168": {
         "anchor": "x168",
         "domain": [
          0.5196195005945304,
          0.526568899458317
         ],
         "showgrid": true
        },
        "yaxis169": {
         "anchor": "x169",
         "domain": [
          0.5080724005813186,
          0.5150217994451052
         ],
         "showgrid": true
        },
        "yaxis17": {
         "anchor": "x17",
         "domain": [
          0.9468622010833665,
          0.953811599947153
         ],
         "showgrid": true
        },
        "yaxis170": {
         "anchor": "x170",
         "domain": [
          0.5080724005813186,
          0.5150217994451052
         ],
         "showgrid": true
        },
        "yaxis171": {
         "anchor": "x171",
         "domain": [
          0.5080724005813186,
          0.5150217994451052
         ],
         "showgrid": true
        },
        "yaxis172": {
         "anchor": "x172",
         "domain": [
          0.5080724005813186,
          0.5150217994451052
         ],
         "showgrid": true
        },
        "yaxis173": {
         "anchor": "x173",
         "domain": [
          0.49652530056810684,
          0.5034746994318934
         ],
         "showgrid": true
        },
        "yaxis174": {
         "anchor": "x174",
         "domain": [
          0.49652530056810684,
          0.5034746994318934
         ],
         "showgrid": true
        },
        "yaxis175": {
         "anchor": "x175",
         "domain": [
          0.49652530056810684,
          0.5034746994318934
         ],
         "showgrid": true
        },
        "yaxis176": {
         "anchor": "x176",
         "domain": [
          0.49652530056810684,
          0.5034746994318934
         ],
         "showgrid": true
        },
        "yaxis177": {
         "anchor": "x177",
         "domain": [
          0.4849782005548951,
          0.4919275994186816
         ],
         "showgrid": true
        },
        "yaxis178": {
         "anchor": "x178",
         "domain": [
          0.4849782005548951,
          0.4919275994186816
         ],
         "showgrid": true
        },
        "yaxis179": {
         "anchor": "x179",
         "domain": [
          0.4849782005548951,
          0.4919275994186816
         ],
         "showgrid": true
        },
        "yaxis18": {
         "anchor": "x18",
         "domain": [
          0.9468622010833665,
          0.953811599947153
         ],
         "showgrid": true
        },
        "yaxis180": {
         "anchor": "x180",
         "domain": [
          0.4849782005548951,
          0.4919275994186816
         ],
         "showgrid": true
        },
        "yaxis181": {
         "anchor": "x181",
         "domain": [
          0.47343110054168336,
          0.48038049940546984
         ],
         "showgrid": true
        },
        "yaxis182": {
         "anchor": "x182",
         "domain": [
          0.47343110054168336,
          0.48038049940546984
         ],
         "showgrid": true
        },
        "yaxis183": {
         "anchor": "x183",
         "domain": [
          0.47343110054168336,
          0.48038049940546984
         ],
         "showgrid": true
        },
        "yaxis184": {
         "anchor": "x184",
         "domain": [
          0.47343110054168336,
          0.48038049940546984
         ],
         "showgrid": true
        },
        "yaxis185": {
         "anchor": "x185",
         "domain": [
          0.46188400052847156,
          0.46883339939225804
         ],
         "showgrid": true
        },
        "yaxis186": {
         "anchor": "x186",
         "domain": [
          0.46188400052847156,
          0.46883339939225804
         ],
         "showgrid": true
        },
        "yaxis187": {
         "anchor": "x187",
         "domain": [
          0.46188400052847156,
          0.46883339939225804
         ],
         "showgrid": true
        },
        "yaxis188": {
         "anchor": "x188",
         "domain": [
          0.46188400052847156,
          0.46883339939225804
         ],
         "showgrid": true
        },
        "yaxis189": {
         "anchor": "x189",
         "domain": [
          0.45033690051525976,
          0.45728629937904625
         ],
         "showgrid": true
        },
        "yaxis19": {
         "anchor": "x19",
         "domain": [
          0.9468622010833665,
          0.953811599947153
         ],
         "showgrid": true
        },
        "yaxis190": {
         "anchor": "x190",
         "domain": [
          0.45033690051525976,
          0.45728629937904625
         ],
         "showgrid": true
        },
        "yaxis191": {
         "anchor": "x191",
         "domain": [
          0.45033690051525976,
          0.45728629937904625
         ],
         "showgrid": true
        },
        "yaxis192": {
         "anchor": "x192",
         "domain": [
          0.45033690051525976,
          0.45728629937904625
         ],
         "showgrid": true
        },
        "yaxis193": {
         "anchor": "x193",
         "domain": [
          0.438789800502048,
          0.4457391993658345
         ],
         "showgrid": true
        },
        "yaxis194": {
         "anchor": "x194",
         "domain": [
          0.438789800502048,
          0.4457391993658345
         ],
         "showgrid": true
        },
        "yaxis195": {
         "anchor": "x195",
         "domain": [
          0.438789800502048,
          0.4457391993658345
         ],
         "showgrid": true
        },
        "yaxis196": {
         "anchor": "x196",
         "domain": [
          0.438789800502048,
          0.4457391993658345
         ],
         "showgrid": true
        },
        "yaxis197": {
         "anchor": "x197",
         "domain": [
          0.4272427004888363,
          0.43419209935262276
         ],
         "showgrid": true
        },
        "yaxis198": {
         "anchor": "x198",
         "domain": [
          0.4272427004888363,
          0.43419209935262276
         ],
         "showgrid": true
        },
        "yaxis199": {
         "anchor": "x199",
         "domain": [
          0.4272427004888363,
          0.43419209935262276
         ],
         "showgrid": true
        },
        "yaxis2": {
         "anchor": "x2",
         "domain": [
          0.9930506011362137,
          1
         ],
         "showgrid": true
        },
        "yaxis20": {
         "anchor": "x20",
         "domain": [
          0.9468622010833665,
          0.953811599947153
         ],
         "showgrid": true
        },
        "yaxis200": {
         "anchor": "x200",
         "domain": [
          0.4272427004888363,
          0.43419209935262276
         ],
         "showgrid": true
        },
        "yaxis201": {
         "anchor": "x201",
         "domain": [
          0.4156956004756245,
          0.42264499933941096
         ],
         "showgrid": true
        },
        "yaxis202": {
         "anchor": "x202",
         "domain": [
          0.4156956004756245,
          0.42264499933941096
         ],
         "showgrid": true
        },
        "yaxis203": {
         "anchor": "x203",
         "domain": [
          0.4156956004756245,
          0.42264499933941096
         ],
         "showgrid": true
        },
        "yaxis204": {
         "anchor": "x204",
         "domain": [
          0.4156956004756245,
          0.42264499933941096
         ],
         "showgrid": true
        },
        "yaxis205": {
         "anchor": "x205",
         "domain": [
          0.4041485004624127,
          0.41109789932619917
         ],
         "showgrid": true
        },
        "yaxis206": {
         "anchor": "x206",
         "domain": [
          0.4041485004624127,
          0.41109789932619917
         ],
         "showgrid": true
        },
        "yaxis207": {
         "anchor": "x207",
         "domain": [
          0.4041485004624127,
          0.41109789932619917
         ],
         "showgrid": true
        },
        "yaxis208": {
         "anchor": "x208",
         "domain": [
          0.4041485004624127,
          0.41109789932619917
         ],
         "showgrid": true
        },
        "yaxis209": {
         "anchor": "x209",
         "domain": [
          0.3926014004492009,
          0.39955079931298737
         ],
         "showgrid": true
        },
        "yaxis21": {
         "anchor": "x21",
         "domain": [
          0.9353151010701546,
          0.9422644999339411
         ],
         "showgrid": true
        },
        "yaxis210": {
         "anchor": "x210",
         "domain": [
          0.3926014004492009,
          0.39955079931298737
         ],
         "showgrid": true
        },
        "yaxis211": {
         "anchor": "x211",
         "domain": [
          0.3926014004492009,
          0.39955079931298737
         ],
         "showgrid": true
        },
        "yaxis212": {
         "anchor": "x212",
         "domain": [
          0.3926014004492009,
          0.39955079931298737
         ],
         "showgrid": true
        },
        "yaxis213": {
         "anchor": "x213",
         "domain": [
          0.3810543004359891,
          0.3880036992997756
         ],
         "showgrid": true
        },
        "yaxis214": {
         "anchor": "x214",
         "domain": [
          0.3810543004359891,
          0.3880036992997756
         ],
         "showgrid": true
        },
        "yaxis215": {
         "anchor": "x215",
         "domain": [
          0.3810543004359891,
          0.3880036992997756
         ],
         "showgrid": true
        },
        "yaxis216": {
         "anchor": "x216",
         "domain": [
          0.3810543004359891,
          0.3880036992997756
         ],
         "showgrid": true
        },
        "yaxis217": {
         "anchor": "x217",
         "domain": [
          0.3695072004227773,
          0.3764565992865638
         ],
         "showgrid": true
        },
        "yaxis218": {
         "anchor": "x218",
         "domain": [
          0.3695072004227773,
          0.3764565992865638
         ],
         "showgrid": true
        },
        "yaxis219": {
         "anchor": "x219",
         "domain": [
          0.3695072004227773,
          0.3764565992865638
         ],
         "showgrid": true
        },
        "yaxis22": {
         "anchor": "x22",
         "domain": [
          0.9353151010701546,
          0.9422644999339411
         ],
         "showgrid": true
        },
        "yaxis220": {
         "anchor": "x220",
         "domain": [
          0.3695072004227773,
          0.3764565992865638
         ],
         "showgrid": true
        },
        "yaxis221": {
         "anchor": "x221",
         "domain": [
          0.3579601004095655,
          0.364909499273352
         ],
         "showgrid": true
        },
        "yaxis222": {
         "anchor": "x222",
         "domain": [
          0.3579601004095655,
          0.364909499273352
         ],
         "showgrid": true
        },
        "yaxis223": {
         "anchor": "x223",
         "domain": [
          0.3579601004095655,
          0.364909499273352
         ],
         "showgrid": true
        },
        "yaxis224": {
         "anchor": "x224",
         "domain": [
          0.3579601004095655,
          0.364909499273352
         ],
         "showgrid": true
        },
        "yaxis225": {
         "anchor": "x225",
         "domain": [
          0.3464130003963537,
          0.3533623992601402
         ],
         "showgrid": true
        },
        "yaxis226": {
         "anchor": "x226",
         "domain": [
          0.3464130003963537,
          0.3533623992601402
         ],
         "showgrid": true
        },
        "yaxis227": {
         "anchor": "x227",
         "domain": [
          0.3464130003963537,
          0.3533623992601402
         ],
         "showgrid": true
        },
        "yaxis228": {
         "anchor": "x228",
         "domain": [
          0.3464130003963537,
          0.3533623992601402
         ],
         "showgrid": true
        },
        "yaxis229": {
         "anchor": "x229",
         "domain": [
          0.3348659003831419,
          0.3418152992469284
         ],
         "showgrid": true
        },
        "yaxis23": {
         "anchor": "x23",
         "domain": [
          0.9353151010701546,
          0.9422644999339411
         ],
         "showgrid": true
        },
        "yaxis230": {
         "anchor": "x230",
         "domain": [
          0.3348659003831419,
          0.3418152992469284
         ],
         "showgrid": true
        },
        "yaxis231": {
         "anchor": "x231",
         "domain": [
          0.3348659003831419,
          0.3418152992469284
         ],
         "showgrid": true
        },
        "yaxis232": {
         "anchor": "x232",
         "domain": [
          0.3348659003831419,
          0.3418152992469284
         ],
         "showgrid": true
        },
        "yaxis233": {
         "anchor": "x233",
         "domain": [
          0.3233188003699301,
          0.3302681992337166
         ],
         "showgrid": true
        },
        "yaxis234": {
         "anchor": "x234",
         "domain": [
          0.3233188003699301,
          0.3302681992337166
         ],
         "showgrid": true
        },
        "yaxis235": {
         "anchor": "x235",
         "domain": [
          0.3233188003699301,
          0.3302681992337166
         ],
         "showgrid": true
        },
        "yaxis236": {
         "anchor": "x236",
         "domain": [
          0.3233188003699301,
          0.3302681992337166
         ],
         "showgrid": true
        },
        "yaxis237": {
         "anchor": "x237",
         "domain": [
          0.3117717003567183,
          0.3187210992205048
         ],
         "showgrid": true
        },
        "yaxis238": {
         "anchor": "x238",
         "domain": [
          0.3117717003567183,
          0.3187210992205048
         ],
         "showgrid": true
        },
        "yaxis239": {
         "anchor": "x239",
         "domain": [
          0.3117717003567183,
          0.3187210992205048
         ],
         "showgrid": true
        },
        "yaxis24": {
         "anchor": "x24",
         "domain": [
          0.9353151010701546,
          0.9422644999339411
         ],
         "showgrid": true
        },
        "yaxis240": {
         "anchor": "x240",
         "domain": [
          0.3117717003567183,
          0.3187210992205048
         ],
         "showgrid": true
        },
        "yaxis241": {
         "anchor": "x241",
         "domain": [
          0.3002246003435065,
          0.307173999207293
         ],
         "showgrid": true
        },
        "yaxis242": {
         "anchor": "x242",
         "domain": [
          0.3002246003435065,
          0.307173999207293
         ],
         "showgrid": true
        },
        "yaxis243": {
         "anchor": "x243",
         "domain": [
          0.3002246003435065,
          0.307173999207293
         ],
         "showgrid": true
        },
        "yaxis244": {
         "anchor": "x244",
         "domain": [
          0.3002246003435065,
          0.307173999207293
         ],
         "showgrid": true
        },
        "yaxis245": {
         "anchor": "x245",
         "domain": [
          0.2886775003302947,
          0.2956268991940812
         ],
         "showgrid": true
        },
        "yaxis246": {
         "anchor": "x246",
         "domain": [
          0.2886775003302947,
          0.2956268991940812
         ],
         "showgrid": true
        },
        "yaxis247": {
         "anchor": "x247",
         "domain": [
          0.2886775003302947,
          0.2956268991940812
         ],
         "showgrid": true
        },
        "yaxis248": {
         "anchor": "x248",
         "domain": [
          0.2886775003302947,
          0.2956268991940812
         ],
         "showgrid": true
        },
        "yaxis249": {
         "anchor": "x249",
         "domain": [
          0.2771304003170829,
          0.2840797991808694
         ],
         "showgrid": true
        },
        "yaxis25": {
         "anchor": "x25",
         "domain": [
          0.9237680010569428,
          0.9307173999207293
         ],
         "showgrid": true
        },
        "yaxis250": {
         "anchor": "x250",
         "domain": [
          0.2771304003170829,
          0.2840797991808694
         ],
         "showgrid": true
        },
        "yaxis251": {
         "anchor": "x251",
         "domain": [
          0.2771304003170829,
          0.2840797991808694
         ],
         "showgrid": true
        },
        "yaxis252": {
         "anchor": "x252",
         "domain": [
          0.2771304003170829,
          0.2840797991808694
         ],
         "showgrid": true
        },
        "yaxis253": {
         "anchor": "x253",
         "domain": [
          0.2655833003038711,
          0.2725326991676576
         ],
         "showgrid": true
        },
        "yaxis254": {
         "anchor": "x254",
         "domain": [
          0.2655833003038711,
          0.2725326991676576
         ],
         "showgrid": true
        },
        "yaxis255": {
         "anchor": "x255",
         "domain": [
          0.2655833003038711,
          0.2725326991676576
         ],
         "showgrid": true
        },
        "yaxis256": {
         "anchor": "x256",
         "domain": [
          0.2655833003038711,
          0.2725326991676576
         ],
         "showgrid": true
        },
        "yaxis257": {
         "anchor": "x257",
         "domain": [
          0.2540362002906593,
          0.2609855991544458
         ],
         "showgrid": true
        },
        "yaxis258": {
         "anchor": "x258",
         "domain": [
          0.2540362002906593,
          0.2609855991544458
         ],
         "showgrid": true
        },
        "yaxis259": {
         "anchor": "x259",
         "domain": [
          0.2540362002906593,
          0.2609855991544458
         ],
         "showgrid": true
        },
        "yaxis26": {
         "anchor": "x26",
         "domain": [
          0.9237680010569428,
          0.9307173999207293
         ],
         "showgrid": true
        },
        "yaxis260": {
         "anchor": "x260",
         "domain": [
          0.2540362002906593,
          0.2609855991544458
         ],
         "showgrid": true
        },
        "yaxis261": {
         "anchor": "x261",
         "domain": [
          0.24248910027744752,
          0.24943849914123403
         ],
         "showgrid": true
        },
        "yaxis262": {
         "anchor": "x262",
         "domain": [
          0.24248910027744752,
          0.24943849914123403
         ],
         "showgrid": true
        },
        "yaxis263": {
         "anchor": "x263",
         "domain": [
          0.24248910027744752,
          0.24943849914123403
         ],
         "showgrid": true
        },
        "yaxis264": {
         "anchor": "x264",
         "domain": [
          0.24248910027744752,
          0.24943849914123403
         ],
         "showgrid": true
        },
        "yaxis265": {
         "anchor": "x265",
         "domain": [
          0.23094200026423573,
          0.23789139912802224
         ],
         "showgrid": true
        },
        "yaxis266": {
         "anchor": "x266",
         "domain": [
          0.23094200026423573,
          0.23789139912802224
         ],
         "showgrid": true
        },
        "yaxis267": {
         "anchor": "x267",
         "domain": [
          0.23094200026423573,
          0.23789139912802224
         ],
         "showgrid": true
        },
        "yaxis268": {
         "anchor": "x268",
         "domain": [
          0.23094200026423573,
          0.23789139912802224
         ],
         "showgrid": true
        },
        "yaxis269": {
         "anchor": "x269",
         "domain": [
          0.21939490025102393,
          0.22634429911481044
         ],
         "showgrid": true
        },
        "yaxis27": {
         "anchor": "x27",
         "domain": [
          0.9237680010569428,
          0.9307173999207293
         ],
         "showgrid": true
        },
        "yaxis270": {
         "anchor": "x270",
         "domain": [
          0.21939490025102393,
          0.22634429911481044
         ],
         "showgrid": true
        },
        "yaxis271": {
         "anchor": "x271",
         "domain": [
          0.21939490025102393,
          0.22634429911481044
         ],
         "showgrid": true
        },
        "yaxis272": {
         "anchor": "x272",
         "domain": [
          0.21939490025102393,
          0.22634429911481044
         ],
         "showgrid": true
        },
        "yaxis273": {
         "anchor": "x273",
         "domain": [
          0.20784780023781213,
          0.21479719910159864
         ],
         "showgrid": true
        },
        "yaxis274": {
         "anchor": "x274",
         "domain": [
          0.20784780023781213,
          0.21479719910159864
         ],
         "showgrid": true
        },
        "yaxis275": {
         "anchor": "x275",
         "domain": [
          0.20784780023781213,
          0.21479719910159864
         ],
         "showgrid": true
        },
        "yaxis276": {
         "anchor": "x276",
         "domain": [
          0.20784780023781213,
          0.21479719910159864
         ],
         "showgrid": true
        },
        "yaxis277": {
         "anchor": "x277",
         "domain": [
          0.19630070022460033,
          0.20325009908838684
         ],
         "showgrid": true
        },
        "yaxis278": {
         "anchor": "x278",
         "domain": [
          0.19630070022460033,
          0.20325009908838684
         ],
         "showgrid": true
        },
        "yaxis279": {
         "anchor": "x279",
         "domain": [
          0.19630070022460033,
          0.20325009908838684
         ],
         "showgrid": true
        },
        "yaxis28": {
         "anchor": "x28",
         "domain": [
          0.9237680010569428,
          0.9307173999207293
         ],
         "showgrid": true
        },
        "yaxis280": {
         "anchor": "x280",
         "domain": [
          0.19630070022460033,
          0.20325009908838684
         ],
         "showgrid": true
        },
        "yaxis281": {
         "anchor": "x281",
         "domain": [
          0.18475360021138854,
          0.19170299907517505
         ],
         "showgrid": true
        },
        "yaxis282": {
         "anchor": "x282",
         "domain": [
          0.18475360021138854,
          0.19170299907517505
         ],
         "showgrid": true
        },
        "yaxis283": {
         "anchor": "x283",
         "domain": [
          0.18475360021138854,
          0.19170299907517505
         ],
         "showgrid": true
        },
        "yaxis284": {
         "anchor": "x284",
         "domain": [
          0.18475360021138854,
          0.19170299907517505
         ],
         "showgrid": true
        },
        "yaxis285": {
         "anchor": "x285",
         "domain": [
          0.17320650019817677,
          0.18015589906196328
         ],
         "showgrid": true
        },
        "yaxis286": {
         "anchor": "x286",
         "domain": [
          0.17320650019817677,
          0.18015589906196328
         ],
         "showgrid": true
        },
        "yaxis287": {
         "anchor": "x287",
         "domain": [
          0.17320650019817677,
          0.18015589906196328
         ],
         "showgrid": true
        },
        "yaxis288": {
         "anchor": "x288",
         "domain": [
          0.17320650019817677,
          0.18015589906196328
         ],
         "showgrid": true
        },
        "yaxis289": {
         "anchor": "x289",
         "domain": [
          0.161659400184965,
          0.1686087990487515
         ],
         "showgrid": true
        },
        "yaxis29": {
         "anchor": "x29",
         "domain": [
          0.912220901043731,
          0.9191702999075175
         ],
         "showgrid": true
        },
        "yaxis290": {
         "anchor": "x290",
         "domain": [
          0.161659400184965,
          0.1686087990487515
         ],
         "showgrid": true
        },
        "yaxis291": {
         "anchor": "x291",
         "domain": [
          0.161659400184965,
          0.1686087990487515
         ],
         "showgrid": true
        },
        "yaxis292": {
         "anchor": "x292",
         "domain": [
          0.161659400184965,
          0.1686087990487515
         ],
         "showgrid": true
        },
        "yaxis293": {
         "anchor": "x293",
         "domain": [
          0.1501123001717532,
          0.1570616990355397
         ],
         "showgrid": true
        },
        "yaxis294": {
         "anchor": "x294",
         "domain": [
          0.1501123001717532,
          0.1570616990355397
         ],
         "showgrid": true
        },
        "yaxis295": {
         "anchor": "x295",
         "domain": [
          0.1501123001717532,
          0.1570616990355397
         ],
         "showgrid": true
        },
        "yaxis296": {
         "anchor": "x296",
         "domain": [
          0.1501123001717532,
          0.1570616990355397
         ],
         "showgrid": true
        },
        "yaxis297": {
         "anchor": "x297",
         "domain": [
          0.1385652001585414,
          0.1455145990223279
         ],
         "showgrid": true
        },
        "yaxis298": {
         "anchor": "x298",
         "domain": [
          0.1385652001585414,
          0.1455145990223279
         ],
         "showgrid": true
        },
        "yaxis299": {
         "anchor": "x299",
         "domain": [
          0.1385652001585414,
          0.1455145990223279
         ],
         "showgrid": true
        },
        "yaxis3": {
         "anchor": "x3",
         "domain": [
          0.9930506011362137,
          1
         ],
         "showgrid": true
        },
        "yaxis30": {
         "anchor": "x30",
         "domain": [
          0.912220901043731,
          0.9191702999075175
         ],
         "showgrid": true
        },
        "yaxis300": {
         "anchor": "x300",
         "domain": [
          0.1385652001585414,
          0.1455145990223279
         ],
         "showgrid": true
        },
        "yaxis301": {
         "anchor": "x301",
         "domain": [
          0.12701810014532963,
          0.13396749900911614
         ],
         "showgrid": true
        },
        "yaxis302": {
         "anchor": "x302",
         "domain": [
          0.12701810014532963,
          0.13396749900911614
         ],
         "showgrid": true
        },
        "yaxis303": {
         "anchor": "x303",
         "domain": [
          0.12701810014532963,
          0.13396749900911614
         ],
         "showgrid": true
        },
        "yaxis304": {
         "anchor": "x304",
         "domain": [
          0.12701810014532963,
          0.13396749900911614
         ],
         "showgrid": true
        },
        "yaxis305": {
         "anchor": "x305",
         "domain": [
          0.11547100013211785,
          0.12242039899590434
         ],
         "showgrid": true
        },
        "yaxis306": {
         "anchor": "x306",
         "domain": [
          0.11547100013211785,
          0.12242039899590434
         ],
         "showgrid": true
        },
        "yaxis307": {
         "anchor": "x307",
         "domain": [
          0.11547100013211785,
          0.12242039899590434
         ],
         "showgrid": true
        },
        "yaxis308": {
         "anchor": "x308",
         "domain": [
          0.11547100013211785,
          0.12242039899590434
         ],
         "showgrid": true
        },
        "yaxis309": {
         "anchor": "x309",
         "domain": [
          0.10392390011890607,
          0.11087329898269256
         ],
         "showgrid": true
        },
        "yaxis31": {
         "anchor": "x31",
         "domain": [
          0.912220901043731,
          0.9191702999075175
         ],
         "showgrid": true
        },
        "yaxis310": {
         "anchor": "x310",
         "domain": [
          0.10392390011890607,
          0.11087329898269256
         ],
         "showgrid": true
        },
        "yaxis311": {
         "anchor": "x311",
         "domain": [
          0.10392390011890607,
          0.11087329898269256
         ],
         "showgrid": true
        },
        "yaxis312": {
         "anchor": "x312",
         "domain": [
          0.10392390011890607,
          0.11087329898269256
         ],
         "showgrid": true
        },
        "yaxis313": {
         "anchor": "x313",
         "domain": [
          0.09237680010569427,
          0.09932619896948076
         ],
         "showgrid": true
        },
        "yaxis314": {
         "anchor": "x314",
         "domain": [
          0.09237680010569427,
          0.09932619896948076
         ],
         "showgrid": true
        },
        "yaxis315": {
         "anchor": "x315",
         "domain": [
          0.09237680010569427,
          0.09932619896948076
         ],
         "showgrid": true
        },
        "yaxis316": {
         "anchor": "x316",
         "domain": [
          0.09237680010569427,
          0.09932619896948076
         ],
         "showgrid": true
        },
        "yaxis317": {
         "anchor": "x317",
         "domain": [
          0.0808297000924825,
          0.087779098956269
         ],
         "showgrid": true
        },
        "yaxis318": {
         "anchor": "x318",
         "domain": [
          0.0808297000924825,
          0.087779098956269
         ],
         "showgrid": true
        },
        "yaxis319": {
         "anchor": "x319",
         "domain": [
          0.0808297000924825,
          0.087779098956269
         ],
         "showgrid": true
        },
        "yaxis32": {
         "anchor": "x32",
         "domain": [
          0.912220901043731,
          0.9191702999075175
         ],
         "showgrid": true
        },
        "yaxis320": {
         "anchor": "x320",
         "domain": [
          0.0808297000924825,
          0.087779098956269
         ],
         "showgrid": true
        },
        "yaxis321": {
         "anchor": "x321",
         "domain": [
          0.0692826000792707,
          0.0762319989430572
         ],
         "showgrid": true
        },
        "yaxis322": {
         "anchor": "x322",
         "domain": [
          0.0692826000792707,
          0.0762319989430572
         ],
         "showgrid": true
        },
        "yaxis323": {
         "anchor": "x323",
         "domain": [
          0.0692826000792707,
          0.0762319989430572
         ],
         "showgrid": true
        },
        "yaxis324": {
         "anchor": "x324",
         "domain": [
          0.0692826000792707,
          0.0762319989430572
         ],
         "showgrid": true
        },
        "yaxis325": {
         "anchor": "x325",
         "domain": [
          0.057735500066058924,
          0.06468489892984543
         ],
         "showgrid": true
        },
        "yaxis326": {
         "anchor": "x326",
         "domain": [
          0.057735500066058924,
          0.06468489892984543
         ],
         "showgrid": true
        },
        "yaxis327": {
         "anchor": "x327",
         "domain": [
          0.057735500066058924,
          0.06468489892984543
         ],
         "showgrid": true
        },
        "yaxis328": {
         "anchor": "x328",
         "domain": [
          0.057735500066058924,
          0.06468489892984543
         ],
         "showgrid": true
        },
        "yaxis329": {
         "anchor": "x329",
         "domain": [
          0.046188400052847134,
          0.05313779891663363
         ],
         "showgrid": true
        },
        "yaxis33": {
         "anchor": "x33",
         "domain": [
          0.9006738010305191,
          0.9076231998943056
         ],
         "showgrid": true
        },
        "yaxis330": {
         "anchor": "x330",
         "domain": [
          0.046188400052847134,
          0.05313779891663363
         ],
         "showgrid": true
        },
        "yaxis331": {
         "anchor": "x331",
         "domain": [
          0.046188400052847134,
          0.05313779891663363
         ],
         "showgrid": true
        },
        "yaxis332": {
         "anchor": "x332",
         "domain": [
          0.046188400052847134,
          0.05313779891663363
         ],
         "showgrid": true
        },
        "yaxis333": {
         "anchor": "x333",
         "domain": [
          0.03464130003963535,
          0.04159069890342185
         ],
         "showgrid": true
        },
        "yaxis334": {
         "anchor": "x334",
         "domain": [
          0.03464130003963535,
          0.04159069890342185
         ],
         "showgrid": true
        },
        "yaxis335": {
         "anchor": "x335",
         "domain": [
          0.03464130003963535,
          0.04159069890342185
         ],
         "showgrid": true
        },
        "yaxis336": {
         "anchor": "x336",
         "domain": [
          0.03464130003963535,
          0.04159069890342185
         ],
         "showgrid": true
        },
        "yaxis337": {
         "anchor": "x337",
         "domain": [
          0.023094200026423567,
          0.030043598890210063
         ],
         "showgrid": true
        },
        "yaxis338": {
         "anchor": "x338",
         "domain": [
          0.023094200026423567,
          0.030043598890210063
         ],
         "showgrid": true
        },
        "yaxis339": {
         "anchor": "x339",
         "domain": [
          0.023094200026423567,
          0.030043598890210063
         ],
         "showgrid": true
        },
        "yaxis34": {
         "anchor": "x34",
         "domain": [
          0.9006738010305191,
          0.9076231998943056
         ],
         "showgrid": true
        },
        "yaxis340": {
         "anchor": "x340",
         "domain": [
          0.023094200026423567,
          0.030043598890210063
         ],
         "showgrid": true
        },
        "yaxis341": {
         "anchor": "x341",
         "domain": [
          0.011547100013211783,
          0.01849649887699828
         ],
         "showgrid": true
        },
        "yaxis342": {
         "anchor": "x342",
         "domain": [
          0.011547100013211783,
          0.01849649887699828
         ],
         "showgrid": true
        },
        "yaxis343": {
         "anchor": "x343",
         "domain": [
          0.011547100013211783,
          0.01849649887699828
         ],
         "showgrid": true
        },
        "yaxis344": {
         "anchor": "x344",
         "domain": [
          0.011547100013211783,
          0.01849649887699828
         ],
         "showgrid": true
        },
        "yaxis345": {
         "anchor": "x345",
         "domain": [
          0,
          0.006949398863786497
         ],
         "showgrid": true
        },
        "yaxis346": {
         "anchor": "x346",
         "domain": [
          0,
          0.006949398863786497
         ],
         "showgrid": true
        },
        "yaxis347": {
         "anchor": "x347",
         "domain": [
          0,
          0.006949398863786497
         ],
         "showgrid": true
        },
        "yaxis348": {
         "anchor": "x348",
         "domain": [
          0,
          0.006949398863786497
         ],
         "showgrid": true
        },
        "yaxis35": {
         "anchor": "x35",
         "domain": [
          0.9006738010305191,
          0.9076231998943056
         ],
         "showgrid": true
        },
        "yaxis36": {
         "anchor": "x36",
         "domain": [
          0.9006738010305191,
          0.9076231998943056
         ],
         "showgrid": true
        },
        "yaxis37": {
         "anchor": "x37",
         "domain": [
          0.8891267010173073,
          0.8960760998810938
         ],
         "showgrid": true
        },
        "yaxis38": {
         "anchor": "x38",
         "domain": [
          0.8891267010173073,
          0.8960760998810938
         ],
         "showgrid": true
        },
        "yaxis39": {
         "anchor": "x39",
         "domain": [
          0.8891267010173073,
          0.8960760998810938
         ],
         "showgrid": true
        },
        "yaxis4": {
         "anchor": "x4",
         "domain": [
          0.9930506011362137,
          1
         ],
         "showgrid": true
        },
        "yaxis40": {
         "anchor": "x40",
         "domain": [
          0.8891267010173073,
          0.8960760998810938
         ],
         "showgrid": true
        },
        "yaxis41": {
         "anchor": "x41",
         "domain": [
          0.8775796010040955,
          0.884528999867882
         ],
         "showgrid": true
        },
        "yaxis42": {
         "anchor": "x42",
         "domain": [
          0.8775796010040955,
          0.884528999867882
         ],
         "showgrid": true
        },
        "yaxis43": {
         "anchor": "x43",
         "domain": [
          0.8775796010040955,
          0.884528999867882
         ],
         "showgrid": true
        },
        "yaxis44": {
         "anchor": "x44",
         "domain": [
          0.8775796010040955,
          0.884528999867882
         ],
         "showgrid": true
        },
        "yaxis45": {
         "anchor": "x45",
         "domain": [
          0.8660325009908837,
          0.8729818998546702
         ],
         "showgrid": true
        },
        "yaxis46": {
         "anchor": "x46",
         "domain": [
          0.8660325009908837,
          0.8729818998546702
         ],
         "showgrid": true
        },
        "yaxis47": {
         "anchor": "x47",
         "domain": [
          0.8660325009908837,
          0.8729818998546702
         ],
         "showgrid": true
        },
        "yaxis48": {
         "anchor": "x48",
         "domain": [
          0.8660325009908837,
          0.8729818998546702
         ],
         "showgrid": true
        },
        "yaxis49": {
         "anchor": "x49",
         "domain": [
          0.8544854009776719,
          0.8614347998414584
         ],
         "showgrid": true
        },
        "yaxis5": {
         "anchor": "x5",
         "domain": [
          0.9815035011230019,
          0.9884528999867884
         ],
         "showgrid": true
        },
        "yaxis50": {
         "anchor": "x50",
         "domain": [
          0.8544854009776719,
          0.8614347998414584
         ],
         "showgrid": true
        },
        "yaxis51": {
         "anchor": "x51",
         "domain": [
          0.8544854009776719,
          0.8614347998414584
         ],
         "showgrid": true
        },
        "yaxis52": {
         "anchor": "x52",
         "domain": [
          0.8544854009776719,
          0.8614347998414584
         ],
         "showgrid": true
        },
        "yaxis53": {
         "anchor": "x53",
         "domain": [
          0.84293830096446,
          0.8498876998282465
         ],
         "showgrid": true
        },
        "yaxis54": {
         "anchor": "x54",
         "domain": [
          0.84293830096446,
          0.8498876998282465
         ],
         "showgrid": true
        },
        "yaxis55": {
         "anchor": "x55",
         "domain": [
          0.84293830096446,
          0.8498876998282465
         ],
         "showgrid": true
        },
        "yaxis56": {
         "anchor": "x56",
         "domain": [
          0.84293830096446,
          0.8498876998282465
         ],
         "showgrid": true
        },
        "yaxis57": {
         "anchor": "x57",
         "domain": [
          0.8313912009512482,
          0.8383405998150347
         ],
         "showgrid": true
        },
        "yaxis58": {
         "anchor": "x58",
         "domain": [
          0.8313912009512482,
          0.8383405998150347
         ],
         "showgrid": true
        },
        "yaxis59": {
         "anchor": "x59",
         "domain": [
          0.8313912009512482,
          0.8383405998150347
         ],
         "showgrid": true
        },
        "yaxis6": {
         "anchor": "x6",
         "domain": [
          0.9815035011230019,
          0.9884528999867884
         ],
         "showgrid": true
        },
        "yaxis60": {
         "anchor": "x60",
         "domain": [
          0.8313912009512482,
          0.8383405998150347
         ],
         "showgrid": true
        },
        "yaxis61": {
         "anchor": "x61",
         "domain": [
          0.8198441009380364,
          0.8267934998018229
         ],
         "showgrid": true
        },
        "yaxis62": {
         "anchor": "x62",
         "domain": [
          0.8198441009380364,
          0.8267934998018229
         ],
         "showgrid": true
        },
        "yaxis63": {
         "anchor": "x63",
         "domain": [
          0.8198441009380364,
          0.8267934998018229
         ],
         "showgrid": true
        },
        "yaxis64": {
         "anchor": "x64",
         "domain": [
          0.8198441009380364,
          0.8267934998018229
         ],
         "showgrid": true
        },
        "yaxis65": {
         "anchor": "x65",
         "domain": [
          0.8082970009248247,
          0.8152463997886112
         ],
         "showgrid": true
        },
        "yaxis66": {
         "anchor": "x66",
         "domain": [
          0.8082970009248247,
          0.8152463997886112
         ],
         "showgrid": true
        },
        "yaxis67": {
         "anchor": "x67",
         "domain": [
          0.8082970009248247,
          0.8152463997886112
         ],
         "showgrid": true
        },
        "yaxis68": {
         "anchor": "x68",
         "domain": [
          0.8082970009248247,
          0.8152463997886112
         ],
         "showgrid": true
        },
        "yaxis69": {
         "anchor": "x69",
         "domain": [
          0.7967499009116128,
          0.8036992997753993
         ],
         "showgrid": true
        },
        "yaxis7": {
         "anchor": "x7",
         "domain": [
          0.9815035011230019,
          0.9884528999867884
         ],
         "showgrid": true
        },
        "yaxis70": {
         "anchor": "x70",
         "domain": [
          0.7967499009116128,
          0.8036992997753993
         ],
         "showgrid": true
        },
        "yaxis71": {
         "anchor": "x71",
         "domain": [
          0.7967499009116128,
          0.8036992997753993
         ],
         "showgrid": true
        },
        "yaxis72": {
         "anchor": "x72",
         "domain": [
          0.7967499009116128,
          0.8036992997753993
         ],
         "showgrid": true
        },
        "yaxis73": {
         "anchor": "x73",
         "domain": [
          0.7852028008984011,
          0.7921521997621876
         ],
         "showgrid": true
        },
        "yaxis74": {
         "anchor": "x74",
         "domain": [
          0.7852028008984011,
          0.7921521997621876
         ],
         "showgrid": true
        },
        "yaxis75": {
         "anchor": "x75",
         "domain": [
          0.7852028008984011,
          0.7921521997621876
         ],
         "showgrid": true
        },
        "yaxis76": {
         "anchor": "x76",
         "domain": [
          0.7852028008984011,
          0.7921521997621876
         ],
         "showgrid": true
        },
        "yaxis77": {
         "anchor": "x77",
         "domain": [
          0.7736557008851894,
          0.780605099748976
         ],
         "showgrid": true
        },
        "yaxis78": {
         "anchor": "x78",
         "domain": [
          0.7736557008851894,
          0.780605099748976
         ],
         "showgrid": true
        },
        "yaxis79": {
         "anchor": "x79",
         "domain": [
          0.7736557008851894,
          0.780605099748976
         ],
         "showgrid": true
        },
        "yaxis8": {
         "anchor": "x8",
         "domain": [
          0.9815035011230019,
          0.9884528999867884
         ],
         "showgrid": true
        },
        "yaxis80": {
         "anchor": "x80",
         "domain": [
          0.7736557008851894,
          0.780605099748976
         ],
         "showgrid": true
        },
        "yaxis81": {
         "anchor": "x81",
         "domain": [
          0.7621086008719775,
          0.769057999735764
         ],
         "showgrid": true
        },
        "yaxis82": {
         "anchor": "x82",
         "domain": [
          0.7621086008719775,
          0.769057999735764
         ],
         "showgrid": true
        },
        "yaxis83": {
         "anchor": "x83",
         "domain": [
          0.7621086008719775,
          0.769057999735764
         ],
         "showgrid": true
        },
        "yaxis84": {
         "anchor": "x84",
         "domain": [
          0.7621086008719775,
          0.769057999735764
         ],
         "showgrid": true
        },
        "yaxis85": {
         "anchor": "x85",
         "domain": [
          0.7505615008587658,
          0.7575108997225524
         ],
         "showgrid": true
        },
        "yaxis86": {
         "anchor": "x86",
         "domain": [
          0.7505615008587658,
          0.7575108997225524
         ],
         "showgrid": true
        },
        "yaxis87": {
         "anchor": "x87",
         "domain": [
          0.7505615008587658,
          0.7575108997225524
         ],
         "showgrid": true
        },
        "yaxis88": {
         "anchor": "x88",
         "domain": [
          0.7505615008587658,
          0.7575108997225524
         ],
         "showgrid": true
        },
        "yaxis89": {
         "anchor": "x89",
         "domain": [
          0.739014400845554,
          0.7459637997093406
         ],
         "showgrid": true
        },
        "yaxis9": {
         "anchor": "x9",
         "domain": [
          0.9699564011097901,
          0.9769057999735766
         ],
         "showgrid": true
        },
        "yaxis90": {
         "anchor": "x90",
         "domain": [
          0.739014400845554,
          0.7459637997093406
         ],
         "showgrid": true
        },
        "yaxis91": {
         "anchor": "x91",
         "domain": [
          0.739014400845554,
          0.7459637997093406
         ],
         "showgrid": true
        },
        "yaxis92": {
         "anchor": "x92",
         "domain": [
          0.739014400845554,
          0.7459637997093406
         ],
         "showgrid": true
        },
        "yaxis93": {
         "anchor": "x93",
         "domain": [
          0.7274673008323422,
          0.7344166996961288
         ],
         "showgrid": true
        },
        "yaxis94": {
         "anchor": "x94",
         "domain": [
          0.7274673008323422,
          0.7344166996961288
         ],
         "showgrid": true
        },
        "yaxis95": {
         "anchor": "x95",
         "domain": [
          0.7274673008323422,
          0.7344166996961288
         ],
         "showgrid": true
        },
        "yaxis96": {
         "anchor": "x96",
         "domain": [
          0.7274673008323422,
          0.7344166996961288
         ],
         "showgrid": true
        },
        "yaxis97": {
         "anchor": "x97",
         "domain": [
          0.7159202008191305,
          0.7228695996829171
         ],
         "showgrid": true
        },
        "yaxis98": {
         "anchor": "x98",
         "domain": [
          0.7159202008191305,
          0.7228695996829171
         ],
         "showgrid": true
        },
        "yaxis99": {
         "anchor": "x99",
         "domain": [
          0.7159202008191305,
          0.7228695996829171
         ],
         "showgrid": true
        }
       }
      }
     },
     "metadata": {},
     "output_type": "display_data"
    }
   ],
   "source": [
    "fig1 = topic_model.visualize_barchart(top_n_topics = 347, n_words = 10)\n",
    "fig1.write_html(\"TOPKEYWORDS_10_BARCHART.html\")\n",
    "fig1.show()"
   ]
  },
  {
   "cell_type": "markdown",
   "id": "d719e514",
   "metadata": {},
   "source": [
    "groups = {\n",
    "    \"\n",
    "}"
   ]
  }
 ],
 "metadata": {
  "kernelspec": {
   "display_name": "fypmodelling",
   "language": "python",
   "name": "python3"
  },
  "language_info": {
   "codemirror_mode": {
    "name": "ipython",
    "version": 3
   },
   "file_extension": ".py",
   "mimetype": "text/x-python",
   "name": "python",
   "nbconvert_exporter": "python",
   "pygments_lexer": "ipython3",
   "version": "3.11.9"
  }
 },
 "nbformat": 4,
 "nbformat_minor": 5
}
