{
 "cells": [
  {
   "cell_type": "code",
   "execution_count": 1,
   "id": "87536ffd",
   "metadata": {},
   "outputs": [
    {
     "name": "stderr",
     "output_type": "stream",
     "text": [
      "WARNING:absl:Compiled the loaded model, but the compiled metrics have yet to be built. `model.compile_metrics` will be empty until you train or evaluate the model.\n"
     ]
    }
   ],
   "source": [
    "from tensorflow.keras.models import load_model\n",
    "model = load_model(\"rnn_model.h5\")\n"
   ]
  },
  {
   "cell_type": "code",
   "execution_count": 2,
   "id": "746ba780",
   "metadata": {},
   "outputs": [
    {
     "name": "stdout",
     "output_type": "stream",
     "text": [
      "[[711, 58, 2819, 26]]\n"
     ]
    }
   ],
   "source": [
    "import pickle\n",
    "text = [\"i love this service\"]\n",
    "\n",
    "# Load tokenizer\n",
    "with open(\"tokenizer.pkl\", \"rb\") as f:\n",
    "    tokenizer = pickle.load(f)\n",
    "\n",
    "# Convert to sequence\n",
    "seq = tokenizer.texts_to_sequences(text)\n",
    "print(seq)  # e.g., [[1, 2, 3]]"
   ]
  },
  {
   "cell_type": "code",
   "execution_count": 3,
   "id": "6313a91b",
   "metadata": {},
   "outputs": [
    {
     "name": "stdout",
     "output_type": "stream",
     "text": [
      "711\n",
      "i\n"
     ]
    }
   ],
   "source": [
    "# Check full word-to-index dictionary\n",
    "print(tokenizer.word_index['i'])  # should print 711\n",
    "\n",
    "# Or reverse lookup\n",
    "print(tokenizer.index_word[711])  # should print 'i'"
   ]
  },
  {
   "cell_type": "code",
   "execution_count": 3,
   "id": "74d99a6c",
   "metadata": {},
   "outputs": [
    {
     "name": "stderr",
     "output_type": "stream",
     "text": [
      "C:\\Users\\eliza\\AppData\\Local\\Packages\\PythonSoftwareFoundation.Python.3.11_qbz5n2kfra8p0\\LocalCache\\local-packages\\Python311\\site-packages\\keras\\src\\saving\\saving_lib.py:802: UserWarning: Skipping variable loading for optimizer 'rmsprop', because it has 10 variables whereas the saved optimizer has 18 variables. \n",
      "  saveable.load_own_variables(weights_store.get(inner_path))\n"
     ]
    }
   ],
   "source": [
    "from tensorflow.keras.models import load_model\n",
    "\n",
    "model = load_model(\"1dcnn_model.keras\")"
   ]
  },
  {
   "cell_type": "code",
   "execution_count": 5,
   "id": "fa338963",
   "metadata": {},
   "outputs": [],
   "source": [
    "#load tokenizer\n",
    "import pickle\n",
    "with open(\"1dcnn_tokenizer.pkl\",\"rb\") as f:\n",
    "    tokenizer = pickle.load(f)\n",
    "    "
   ]
  },
  {
   "cell_type": "code",
   "execution_count": 6,
   "id": "47c8abda",
   "metadata": {},
   "outputs": [],
   "source": [
    "example_texts = [\n",
    "    \"The service was excellent and the staff were friendly.\",\n",
    "    \"Worst experience ever, I will never come back.\",\n",
    "    \"It was okay, nothing special.\",\n",
    "    \"Clean, efficient, and affordable—highly recommended!\"\n",
    "]"
   ]
  },
  {
   "cell_type": "code",
   "execution_count": 7,
   "id": "382b55a8",
   "metadata": {},
   "outputs": [],
   "source": [
    "from tensorflow.keras.preprocessing.sequence import pad_sequences\n",
    "\n",
    "# Convert to sequences\n",
    "example_seq = tokenizer.texts_to_sequences(example_texts)\n",
    "\n",
    "# Pad sequences\n",
    "max_len = 100  # use the same max_len as during training\n",
    "example_pad = pad_sequences(example_seq, maxlen=max_len, padding='post', truncating='post')\n"
   ]
  },
  {
   "cell_type": "code",
   "execution_count": 8,
   "id": "fc505a45",
   "metadata": {},
   "outputs": [],
   "source": [
    "from tensorflow.keras.preprocessing.sequence import pad_sequences\n",
    "\n",
    "# Convert to sequences\n",
    "example_seq = tokenizer.texts_to_sequences(example_texts)\n",
    "\n",
    "# Pad sequences\n",
    "max_len = 100  # use the same max_len as during training\n",
    "example_pad = pad_sequences(example_seq, maxlen=max_len, padding='post', truncating='post')\n"
   ]
  },
  {
   "cell_type": "code",
   "execution_count": 11,
   "id": "8b64c0d1",
   "metadata": {},
   "outputs": [
    {
     "name": "stdout",
     "output_type": "stream",
     "text": [
      "\u001b[1m1/1\u001b[0m \u001b[32m━━━━━━━━━━━━━━━━━━━━\u001b[0m\u001b[37m\u001b[0m \u001b[1m0s\u001b[0m 408ms/step\n",
      "Review: The service was excellent and the staff were friendly.\n",
      "Sentiment: Positive (Confidence: 1.00)\n",
      "\n",
      "Review: Worst experience ever, I will never come back.\n",
      "Sentiment: Negative (Confidence: 0.00)\n",
      "\n",
      "Review: It was okay, nothing special.\n",
      "Sentiment: Negative (Confidence: 0.06)\n",
      "\n",
      "Review: Clean, efficient, and affordable—highly recommended!\n",
      "Sentiment: Positive (Confidence: 1.00)\n",
      "\n"
     ]
    }
   ],
   "source": [
    "# Predict probabilities\n",
    "pred_prob = model.predict(example_pad)\n",
    "\n",
    "# Convert to binary labels (0 = negative, 1 = positive)\n",
    "pred_labels = (pred_prob > 0.5).astype(\"int32\")\n",
    "\n",
    "for i, text in enumerate(example_texts):\n",
    "    label = \"Positive\" if pred_labels[i][0] == 1 else \"Negative\"\n",
    "    print(f\"Review: {text}\")\n",
    "    print(f\"Sentiment: {label} (Confidence: {pred_prob[i][0]:.2f})\\n\")\n"
   ]
  }
 ],
 "metadata": {
  "kernelspec": {
   "display_name": "Python 3",
   "language": "python",
   "name": "python3"
  },
  "language_info": {
   "codemirror_mode": {
    "name": "ipython",
    "version": 3
   },
   "file_extension": ".py",
   "mimetype": "text/x-python",
   "name": "python",
   "nbconvert_exporter": "python",
   "pygments_lexer": "ipython3",
   "version": "3.11.9"
  }
 },
 "nbformat": 4,
 "nbformat_minor": 5
}
