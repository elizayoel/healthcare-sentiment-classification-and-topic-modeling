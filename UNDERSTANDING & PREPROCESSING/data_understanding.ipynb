{
 "cells": [
  {
   "cell_type": "code",
   "execution_count": null,
   "metadata": {},
   "outputs": [],
   "source": [
    "#import necessary libraries\n",
    "import pandas as pd"
   ]
  },
  {
   "cell_type": "code",
   "execution_count": 59,
   "metadata": {},
   "outputs": [
    {
     "name": "stderr",
     "output_type": "stream",
     "text": [
      "C:\\Users\\eliza\\AppData\\Local\\Temp\\ipykernel_12904\\426374838.py:3: DtypeWarning: Columns (9,31,32,33) have mixed types. Specify dtype option on import or set low_memory=False.\n",
      "  healthcare_df = pd.read_csv(path)\n"
     ]
    }
   ],
   "source": [
    "#import dataset\n",
    "path = \"C:/Users/eliza/Documents/Semester V/Sentiment Analysis/ALL_HEALTHCARE.csv\"\n",
    "healthcare_df = pd.read_csv(path)"
   ]
  },
  {
   "cell_type": "code",
   "execution_count": null,
   "metadata": {},
   "outputs": [],
   "source": [
    "healthcare_df"
   ]
  },
  {
   "cell_type": "markdown",
   "metadata": {},
   "source": [
    "**ORIGINAL DATA OVERVIEW**  "
   ]
  },
  {
   "cell_type": "markdown",
   "metadata": {},
   "source": [
    "DATA DIMENSION"
   ]
  },
  {
   "cell_type": "code",
   "execution_count": 8,
   "metadata": {},
   "outputs": [
    {
     "name": "stdout",
     "output_type": "stream",
     "text": [
      "The dataset contains 301299 rows and 37 columns.\n"
     ]
    }
   ],
   "source": [
    "num_rows, num_columns = healthcare_df.shape\n",
    "print(f\"The dataset contains {num_rows} rows and {num_columns} columns.\")"
   ]
  },
  {
   "cell_type": "markdown",
   "metadata": {},
   "source": [
    "COLUMN NAMES"
   ]
  },
  {
   "cell_type": "code",
   "execution_count": 3,
   "metadata": {},
   "outputs": [
    {
     "data": {
      "text/plain": [
       "Index(['user_id', 'name_x', 'time', 'rating', 'text', 'resp', 'gmap_id',\n",
       "       'name_y', 'address', 'description', 'latitude', 'longitude', 'category',\n",
       "       'avg_rating', 'num_of_reviews', 'price', 'hours', 'MISC', 'state',\n",
       "       'relative_results', 'url', 'category_1', 'category_2', 'category_3',\n",
       "       'category_4', 'category_5', 'category_6', 'category_7', 'category_8',\n",
       "       'category_9', 'category_10', 'category_11', 'category_12',\n",
       "       'category_13', 'category_14', 'category_15', 'general_labelling'],\n",
       "      dtype='object')"
      ]
     },
     "execution_count": 3,
     "metadata": {},
     "output_type": "execute_result"
    }
   ],
   "source": [
    "healthcare_df.columns"
   ]
  },
  {
   "cell_type": "markdown",
   "metadata": {},
   "source": [
    "SEE DATA TYPES"
   ]
  },
  {
   "cell_type": "code",
   "execution_count": 9,
   "metadata": {},
   "outputs": [
    {
     "name": "stdout",
     "output_type": "stream",
     "text": [
      "<class 'pandas.core.frame.DataFrame'>\n",
      "RangeIndex: 301299 entries, 0 to 301298\n",
      "Data columns (total 37 columns):\n",
      " #   Column             Non-Null Count   Dtype  \n",
      "---  ------             --------------   -----  \n",
      " 0   user_id            301299 non-null  float64\n",
      " 1   name_x             301296 non-null  object \n",
      " 2   time               301299 non-null  int64  \n",
      " 3   rating             301299 non-null  float64\n",
      " 4   text               301297 non-null  object \n",
      " 5   resp               99981 non-null   object \n",
      " 6   gmap_id            301299 non-null  object \n",
      " 7   name_y             301299 non-null  object \n",
      " 8   address            301047 non-null  object \n",
      " 9   description        3421 non-null    object \n",
      " 10  latitude           301299 non-null  float64\n",
      " 11  longitude          301299 non-null  float64\n",
      " 12  category           301299 non-null  object \n",
      " 13  avg_rating         301299 non-null  float64\n",
      " 14  num_of_reviews     301299 non-null  int64  \n",
      " 15  price              3506 non-null    object \n",
      " 16  hours              290357 non-null  object \n",
      " 17  MISC               296122 non-null  object \n",
      " 18  state              278009 non-null  object \n",
      " 19  relative_results   297375 non-null  object \n",
      " 20  url                301299 non-null  object \n",
      " 21  category_1         301299 non-null  object \n",
      " 22  category_2         212979 non-null  object \n",
      " 23  category_3         157278 non-null  object \n",
      " 24  category_4         113369 non-null  object \n",
      " 25  category_5         82057 non-null   object \n",
      " 26  category_6         44119 non-null   object \n",
      " 27  category_7         26209 non-null   object \n",
      " 28  category_8         17700 non-null   object \n",
      " 29  category_9         9980 non-null    object \n",
      " 30  category_10        3736 non-null    object \n",
      " 31  category_11        264 non-null     object \n",
      " 32  category_12        221 non-null     object \n",
      " 33  category_13        221 non-null     object \n",
      " 34  category_14        0 non-null       float64\n",
      " 35  category_15        0 non-null       float64\n",
      " 36  general_labelling  301299 non-null  object \n",
      "dtypes: float64(7), int64(2), object(28)\n",
      "memory usage: 85.1+ MB\n",
      "None\n"
     ]
    }
   ],
   "source": [
    "print(healthcare_df.info())"
   ]
  },
  {
   "cell_type": "markdown",
   "metadata": {},
   "source": [
    "ACTUAL DATA TYPES"
   ]
  },
  {
   "cell_type": "code",
   "execution_count": 60,
   "metadata": {},
   "outputs": [
    {
     "name": "stdout",
     "output_type": "stream",
     "text": [
      "user_id: {<class 'float'>}\n",
      "name_x: {<class 'str'>, <class 'float'>}\n",
      "time: {<class 'int'>}\n",
      "rating: {<class 'float'>}\n",
      "text: {<class 'str'>, <class 'float'>}\n",
      "resp: {<class 'str'>, <class 'float'>}\n",
      "gmap_id: {<class 'str'>}\n",
      "name_y: {<class 'str'>}\n",
      "address: {<class 'str'>, <class 'float'>}\n",
      "description: {<class 'str'>, <class 'float'>}\n",
      "latitude: {<class 'float'>}\n",
      "longitude: {<class 'float'>}\n",
      "category: {<class 'str'>}\n",
      "avg_rating: {<class 'float'>}\n",
      "num_of_reviews: {<class 'int'>}\n",
      "price: {<class 'str'>, <class 'float'>}\n",
      "hours: {<class 'str'>, <class 'float'>}\n",
      "MISC: {<class 'str'>, <class 'float'>}\n",
      "state: {<class 'str'>, <class 'float'>}\n",
      "relative_results: {<class 'str'>, <class 'float'>}\n",
      "url: {<class 'str'>}\n",
      "category_1: {<class 'str'>}\n",
      "category_2: {<class 'str'>, <class 'float'>}\n",
      "category_3: {<class 'str'>, <class 'float'>}\n",
      "category_4: {<class 'str'>, <class 'float'>}\n",
      "category_5: {<class 'str'>, <class 'float'>}\n",
      "category_6: {<class 'str'>, <class 'float'>}\n",
      "category_7: {<class 'str'>, <class 'float'>}\n",
      "category_8: {<class 'str'>, <class 'float'>}\n",
      "category_9: {<class 'str'>, <class 'float'>}\n",
      "category_10: {<class 'str'>, <class 'float'>}\n",
      "category_11: {<class 'str'>, <class 'float'>}\n",
      "category_12: {<class 'str'>, <class 'float'>}\n",
      "category_13: {<class 'str'>, <class 'float'>}\n",
      "category_14: {<class 'float'>}\n",
      "category_15: {<class 'float'>}\n",
      "general_labelling: {<class 'str'>}\n"
     ]
    }
   ],
   "source": [
    "# Summarize the actual data types for each column\n",
    "for col in healthcare_df.columns:\n",
    "    print(f\"{col}: {set(type(x) for x in healthcare_df[col])}\")"
   ]
  },
  {
   "cell_type": "markdown",
   "metadata": {},
   "source": [
    "**REDUCED DATASET**"
   ]
  },
  {
   "cell_type": "code",
   "execution_count": null,
   "metadata": {},
   "outputs": [],
   "source": [
    "#taking useful variables only for the text analysis purpose\n",
    "#the old dataset is not modified at all for future use\n",
    "modeling_df = healthcare_df[['user_id','name_x','rating','text','gmap_id','name_y']]\n",
    "#modeling_df.to_csv('pretraining_data.csv', index=False)"
   ]
  },
  {
   "cell_type": "markdown",
   "metadata": {},
   "source": [
    "IMPORT DATASET"
   ]
  },
  {
   "cell_type": "code",
   "execution_count": 62,
   "metadata": {},
   "outputs": [
    {
     "data": {
      "application/vnd.microsoft.datawrangler.viewer.v0+json": {
       "columns": [
        {
         "name": "index",
         "rawType": "int64",
         "type": "integer"
        },
        {
         "name": "user_id",
         "rawType": "float64",
         "type": "float"
        },
        {
         "name": "name_x",
         "rawType": "object",
         "type": "unknown"
        },
        {
         "name": "rating",
         "rawType": "float64",
         "type": "float"
        },
        {
         "name": "text",
         "rawType": "object",
         "type": "unknown"
        },
        {
         "name": "gmap_id",
         "rawType": "object",
         "type": "string"
        },
        {
         "name": "name_y",
         "rawType": "object",
         "type": "string"
        }
       ],
       "conversionMethod": "pd.DataFrame",
       "ref": "ba92eaf7-15e2-4d42-9d0f-1e233e544d49",
       "rows": [
        [
         "0",
         "1.1689133054664912e+20",
         "Andrew",
         "5.0",
         "I was shocked when I saw PW had a 2.7 star average rating. I have come here for the past 4 years and received nothing but excellent treatment from the front desk staff, the nurses and the doctors. Highly recommend my doctor of this time, Dr. Acosta with his excellent professionalism, bedside manner and eagerness to help.",
         "0x87c96ee6220bff3d:0x3ba603ed95a0b0ca",
         "Pat Walker Health Center"
        ],
        [
         "1",
         "1.0651418896033015e+20",
         "Oakley Davis",
         "5.0",
         "My experience at Pat Walker was a very good one. Dr. Beck was extremely thorough and seemed to be very genuine. I needed several tests and X-rays all of them together took less than an hour. Very affordable, especially when compared to other healthcare providers in the area for uninsured patients. Super friendly staff. 10/10.",
         "0x87c96ee6220bff3d:0x3ba603ed95a0b0ca",
         "Pat Walker Health Center"
        ],
        [
         "2",
         "1.089844187175508e+20",
         "sam Rami",
         "1.0",
         "Here is what they do, you schedule an appointment and you are late 10min what ever is the reason and they charge you $40 and putting hold on your UA account. However, they can hold you on waiting for 40min and no penalty for them. Not Fare, just using a student as business.",
         "0x87c96ee6220bff3d:0x3ba603ed95a0b0ca",
         "Pat Walker Health Center"
        ],
        [
         "3",
         "1.0006810128560697e+20",
         "Katie McGuffin",
         "5.0",
         "I’ve been here twice, once for STD testing, and once for an IUD. i saw two different doctors, both were super amazing. they were the ones to even inform me about all the good things about the IUD, and were very comforting & understanding the whole time i was getting it put in. The nurses are amazing too. Would very much recommend",
         "0x87c96ee6220bff3d:0x3ba603ed95a0b0ca",
         "Pat Walker Health Center"
        ],
        [
         "4",
         "1.0118146224544204e+20",
         "Dene Wamsley",
         "2.0",
         "I've had very mixed experiences with Pat Walker, but I haven't felt the urge to leave a review until today.\n\nThe only reason I am giving them more than 1 star is because of Dr. Acosta. He is a fantastic and friendly doctor, and I am extremely grateful that he thought to test me for Celiac disease. I came to Pat Walker several times over 2 years due to strange and chronic symptoms, and tried a few different doctors. Until Dr. Acosta, none could put the pieces together. One doctor even told me it was just anxiety, and that I should \"lay off the energy drinks\" (which I don't drink). It was extremely condescending and disheartening. Turns out I just need to lay off the gluten!\n\nToday, I had an appointment with the Women's Clinic at 1:30. Being an off campus student, I left my apartment an hour before my scheduled time and drove 25 minutes in a torrential downpour. Pat Walker only offers about 6 patient parking spots, which were all occupied. From 1 pm to 1:30 pm, I drove all around searching for parking to no avail. There were no available spots on the street, nor in the Garland parking deck. I was forced to cancel my appointment.\n\nWhile this was unfortunate, the woman who handled my phone call was even more unfortunate. I was extremely stressed when I called her to ask her to cancel my appointment due to no available parking. Rather than being sympathetic at all, she came across as incredibly annoyed. Exasperated, I asked if Pat Walker was planning on adding any more patient parking spots (since they have been continuously doing construction for almost a year now). She responded \"No, our parking is LIM-I-TED,\" as if I am hard of hearing. She told me I should have tried arriving earlier, as if leaving an hour before my scheduled appointment is not enough?\n\nMy issue is this: I am a stressed client, trying to seek medical help, and I was unable to find parking. I was treated like a nuisance by the staff. Even IF the staff feels that it's normal and justified for a clinic to offer only 6 measly parking spots for off-campus clients (which personally, I don't), the least they can do is respond in a sympathetic manner. Pat Walker's staff exacerbated an already stressful situation.",
         "0x87c96ee6220bff3d:0x3ba603ed95a0b0ca",
         "Pat Walker Health Center"
        ],
        [
         "5",
         "1.0422815878898968e+20",
         "Diablo Smac",
         "2.0",
         "Don’t go to CAPS. I was left completely unsatisfied by the care I received from my CAPS psychiatrist during my senior year. I left her care in worse shape than when I first saw her. I was condescended to on every occasion I met with her, and goaded into taking medications that I was unsure about. The way they run things is borderline draconian. When I voiced concerns about the medications I was treated as though I was being irrational and uncooperative. If you miss appointments and don’t give any notice, (particularly if you miss multiple in a row) they will likely never agree to meet with you again. The only positives were Nurse Patty (very nice lady), and some of the counselors are great. If you really need help and CAPS is you’re only option for whatever reason, I would meet with a counselor and have them refer you to a psychiatrist not affiliated with the University. I promise you will be better for it.\n\n(CAPS absolutely deserves one star, but because this is Pat a walker as a whole and I’ve had less problems elsewhere in the building I am giving it two stars.)",
         "0x87c96ee6220bff3d:0x3ba603ed95a0b0ca",
         "Pat Walker Health Center"
        ],
        [
         "6",
         "1.120272808070059e+20",
         "Logan Verkamp",
         "5.0",
         "Went into Pat Walker health center around 830 in the morning with severe stomach pain. They had me back in less than 10 minutes, checked me out and had me on my way to the ER in under and hour where it was confirmed I was having an appendicitis. Everyone at the health center was very nice and comforting while also getting me taken care of. Thank you to all the people who helped!",
         "0x87c96ee6220bff3d:0x3ba603ed95a0b0ca",
         "Pat Walker Health Center"
        ],
        [
         "7",
         "1.1565077632723807e+20",
         "Ashton Hicks",
         "1.0",
         "The CAPS Program:\n\nI’ve battled depression for years after my brother passed away and even my professor expressed concern because I was missing class due to it. He advised that I go to Pat Walker to seek help and I set an appointment.\n\nI waited about two weeks. I set an appointment for 10am, but apparently that means your appointment is for 9:30am for paperwork (it must be enough paperwork for a house purchase!).\n\nThe morning of, I left my house early and arrived at the campus at 9:30am. Parking was horrendous, as you can assume. So, after walking all the way across campus at arriving there at 9:50, I am met with a receptionist that tells me that since I was not there at 9:30am, my appointment was cancelled and I’d have to make another one for two weeks in advance!\n\nListen, I know I wasn’t early early, but I’ve never heard of anyone cancelling your appointment for being there in advance?? If you want me there at 9:30, make my appointment at that time. If I’m early to MY APPOINTMENT TIME, why is it being cancelled?\n\nI’ll add to the fact that there was NO one in the waiting room. This place is a joke. I made an appointment but I was so upset and discouraged that I just threw the reminder card in the trash. I don’t mind paying for help that is actually effective and doesn’t cancel appointments for early arrivals.",
         "0x87c96ee6220bff3d:0x3ba603ed95a0b0ca",
         "Pat Walker Health Center"
        ],
        [
         "8",
         "1.1377470485869178e+20",
         "Vince Capps",
         "5.0",
         "Friendly and knowledge staff, and easy and fast check-in.  Literally the most convenient doctor's appointment I've ever experienced.  Dr. Schultz and Nurse, Wendy, provided outstanding help, and the wait time for an x-ray was short.  I admit it was a rainy day and early morning, but I could still gather the clinic is sincere and diligent.",
         "0x87c96ee6220bff3d:0x3ba603ed95a0b0ca",
         "Pat Walker Health Center"
        ],
        [
         "9",
         "1.0217995722664075e+20",
         "Cheryl Engelkes",
         "1.0",
         "Please do not let your U of A student go to this clinic!!!  My daughter went there her Freshman year 2 days in a row. The first day they told her she had a cold.  She went back the next day with a high fever, and was told that her white blood cells were elevated,  but they didn’t know where the infection was so they gave her a general antibiotic and told her to rest. Luckily her sister was in town that night and stopped in to see her.  She took her to the emergency room because she was concerned.  Long story short, we spent the next 29 days in the hospital fighting bacterial meningitis!  And after all that, they sent us a bill for their service!  Had to pay because they will hold your grades, and you have to turn in your grades by a certain date to keep your scholarship!  1 Star is too high for this place, but you can’t leave a review without giving them that!",
         "0x87c96ee6220bff3d:0x3ba603ed95a0b0ca",
         "Pat Walker Health Center"
        ],
        [
         "10",
         "1.1565077632723807e+20",
         "Ashton Hicks",
         "1.0",
         "The CAPS Program:\n\nI’ve battled depression for years after my brother passed away and even my professor expressed concern because I was missing class due to it. He advised that I go to Pat Walker to seek help and I set an appointment.\n\nI waited about two weeks. I set an appointment for 10am, but apparently that means your appointment is for 9:30am for paperwork (it must be enough paperwork for a house purchase!).\n\nThe morning of, I left my house early and arrived at the campus at 9:30am. Parking was horrendous, as you can assume. So, after walking all the way across campus at arriving there at 9:50, I am met with a receptionist that tells me that since I was not there at 9:30am, my appointment was cancelled and I’d have to make another one for two weeks in advance!\n\nListen, I know I wasn’t early early, but I’ve never heard of anyone cancelling your appointment for being there in advance?? If you want me there at 9:30, make my appointment at that time. If I’m early to MY APPOINTMENT TIME, why is it being cancelled?\n\nI’ll add to the fact that there was NO one in the waiting room. This place is a joke. I made an appointment but I was so upset and discouraged that I just threw the reminder card in the trash. I don’t mind paying for help that is actually effective and doesn’t cancel appointments for early arrivals.",
         "0x87c96ee6220bff3d:0x3ba603ed95a0b0ca",
         "Pat Walker Health Center"
        ],
        [
         "11",
         "1.0404837927854336e+20",
         "Morgan Bailey",
         "1.0",
         "This place is a complete JOKE!!!! I have been there 3 times. The first time I went there they would not give me medicine and when they did blood work they didn't know how to draw blood and stuck me 4 or 5 times. I actually wound up in the hospital a week later due to the lack of proper treatment and help for what I had. The most recent time I went was this Wednesday. I went up there because I woke up with my voice completely gone, dry coughing, very sore throat, upset stomach, temperature of 99.6, body aches, head ache, and felt very weak. The \"Doctor\" I saw refused to do test on me to make sure it wasn't something else saying it was the common cold. I fought with her telling her I know my body very well and I know this is not the common cold. Long story short I left with no help. You would think that they would do everything they could to ensure a student isn't contagious so it is not spread to the whole college. I left a message with the supervisor and have yet to receive a call. My mom will be calling the university to complain. This is unacceptable of a doctors office and I along with many other people I have talked to said they will not be back unless something is fixed.\nI ended up getting an appointment at another doctors office and when I went in the doctor immediately knew it was strep by looking at the back of my throat and were in shock that a doctor didn't see that. He did a test to ensure it was and they came back positive. He also said I am having flu like symptoms and to be resting, drinking a lot of fluid and take my antibiotic for 10 days so my strep does not get worse as well as taking medicine to keep my fever down.",
         "0x87c96ee6220bff3d:0x3ba603ed95a0b0ca",
         "Pat Walker Health Center"
        ],
        [
         "12",
         "1.0239889525053235e+20",
         "Stephanie Garza",
         "3.0",
         "well i could’ve died (it really felt like i was) bc of how one of the doctors didn’t prescribe me the medicine i asked for back in October. Dr. Susan Raben-Taylor seemed to listen to me until i asked for prednisone, which treats bronchitis. i always get prednisone when i get really bad bronchitis and need it for bronchitis especially since i’m asthmatic. i’d had a really bad cold that turned into severe bronchitis and when i asked for the prescription she said “no, we’re not going to do that.” and that was the end of that. she ended up giving me a regular rescue inhaler and a corticosteroid inhaler that she said would help the inflammation in my lungs. well it didn’t bc as an asthmatic would know, corticosteroid inhalers take weeks to start working so it was pointless to begin with. i got it anyways and as expected it didn’t work, but gave me minor oral thrush on my tongue so that was a wasted $60.\nFast forward to fall break and I ended up getting pleurisy (which is basically one step away from pneumonia) and it hurt to take deep breaths, cough, laugh, sneeze, move around when trying to fall asleep, etc. When I say hurt I mean INTENESE PAIN. It felt like someone was stabbing me over and over again when i would have to cough (since the bronchitis was still there.) When I coughed, I couldn’t do it standing up, I had to sit down or kneel over because of how bad the pain was. The lining of my lungs was severely inflamed WHICH COULD HAVE BEEN AVOIDED had I been prescribed prednisone. But noooo, the doctors “know best.” Umm excuse me but have you been in another person’s body and know it like the actual person does? I know my body and knew I needed prednisone.\nAnyways, the pleurisy lasted all of fall break, and I went back to PWHC, this time to Dr. Deborah Deere, who was an angel and felt my rib cage and lungs and ordered a chest x ray to make sure i didn’t have pneumonia since i was complaining of pain so much. They didn’t see pneumonia but wrote me antibiotics just in case and Dr. Deere told me to take ibuprofen since there wasn’t anything much else they could do since I was far into having pleurisy already. I ended up having the pleurisy for about 2 weeks before the pain finally went away. Lemme tell you when i had it i was scared to even go to sleep bc i was terrified of waking up and not being able to breathe, that’s how bad it hurt. Long story short (lol apologies for how long this rant ended up being) this all could have been avoided if the first doctor had given me the medication i asked for since it is after all my body and i know how it works and its limits and breaking points. People know their own dang bodies, don’t try and act like you know better bc you have the title of doctor on your name.\n\nNeedless to say, be careful choosing your doctors at PWHC. I recommend Dr. Deere or Dr. Howerton. Both are angels and seem to genuinely care about their patients.",
         "0x87c96ee6220bff3d:0x3ba603ed95a0b0ca",
         "Pat Walker Health Center"
        ],
        [
         "13",
         "1.1329921874106794e+20",
         "David Martin",
         "5.0",
         "I'm guessing that all of the reviews are from bratty \"special snowflakes\" - but this place is great. Shultz and Sharaf have LITERALLY saved my life! I've never had a problem getting an appointment, and rarely have to wait once I sign in.",
         "0x87c96ee6220bff3d:0x3ba603ed95a0b0ca",
         "Pat Walker Health Center"
        ],
        [
         "14",
         "1.1144360947710493e+20",
         "Paul Knightly",
         "1.0",
         "Set an appointment and was told to be there 30 minutes early to fill out paperwork. I showed up 25 minutes early because I had to jump start my car to find out that my appointment had been canceled because I was not there 30 minutes prior to the appointment. I asked the receptionist if I really needed the full 30 minutes to fill out paperwork to which her response was \"I don't know if you're capable of that or not.\" She offered to reschedule for the next available appointment, even though there was not another soul in the waiting room. I declined as I had already waited 3 weeks to get in for this appointment. In 27 years of going to different doctors offices, I've never had an office cancel an appointment for showing up 25 minutes early. I will not be using the Pat Walker Health Center for the remainder of my time as a student and will try my luck in the Healthcare Marketplace as soon as I'm eligible for open enrollment. Not worth it.",
         "0x87c96ee6220bff3d:0x3ba603ed95a0b0ca",
         "Pat Walker Health Center"
        ],
        [
         "15",
         "1.068014914096972e+20",
         "Matthew Barnes",
         "5.0",
         "Been many times. They've always been quick and extremely kind and helpful.",
         "0x87c96ee6220bff3d:0x3ba603ed95a0b0ca",
         "Pat Walker Health Center"
        ],
        [
         "16",
         "1.0748873123764856e+20",
         "Kristi Orr Dagenhart",
         "4.0",
         "I went to Pat Walker after complete dissatisfaction at Med Express, so clearly Pat Walker was better in comparision. I'm giving 4 stars because the MD had good bedside manner, was thorough (still waiting on a referral however), and checked up on me through the patient portal website. The phlebotomist did a good job- he drew 5+ vials of blood and I barely felt it since he did a pretty good job making chit chat to distract me. My service at Pat Walker included more tests- EKG, eye exam, lab work, etc- and was CHEAPER than my med express bill. Granted, I had to make an appointment and I waited a loonggggg time to be seen, but I was much more comfortable with the competency of those around me.",
         "0x87c96ee6220bff3d:0x3ba603ed95a0b0ca",
         "Pat Walker Health Center"
        ],
        [
         "17",
         "1.0382474213804042e+20",
         "Claire De Léon",
         "2.0",
         "The normal medical staff is fine, and they deal well with normal and conventional medical problems. But I had bad experiences with CAPS, particularly their greediness and lack of really understanding. Not to mention their use of grad students as counselors. Find good mental health counselors can be hard, and CAPS is not the place for it.\n\nEdited a year and half later:\nI discovered I'm trans and there were plenty of chances for the 3 different counselors I met with to help me figure this out. Instead I went through a hell of suicidal thoughts and depression before finally figuring it out for myself. Shout out to Ryan Burchfield and Meghan Werner. These two community counselors (in Rogers and Fayetteville, respectively) helped me a ton. See one of them if you think you may be non-binary or trans or in the lgbtq+ community and need counseling.",
         "0x87c96ee6220bff3d:0x3ba603ed95a0b0ca",
         "Pat Walker Health Center"
        ],
        [
         "18",
         "1.0747699276381484e+20",
         "Naomi Larsen",
         "1.0",
         "Went in for a CAPS meeting, my Dr. Told me all the things I already knew on what to do. She didn't seem understanding and there was nothing gained from the apt. at all.",
         "0x87c96ee6220bff3d:0x3ba603ed95a0b0ca",
         "Pat Walker Health Center"
        ],
        [
         "19",
         "1.083719089113796e+20",
         "Sarah Brady",
         "1.0",
         "Had multiple bad experiences with phone-calls and psychological services are not great.",
         "0x87c96ee6220bff3d:0x3ba603ed95a0b0ca",
         "Pat Walker Health Center"
        ],
        [
         "20",
         "1.1791930282525535e+20",
         "Bonnie Jackson",
         "5.0",
         "Cornerstone has exceeded my expectations in every way.\nMy husband had a stroke. We are older so when he was discharged from North Hills rehab, I really needed help.\nCornerstone is a very well run business\n,organization.\nThey communicate exceptionally well and have excellent customer service and advocacy, are flexible, and patient.\nThe people who have come to our home have been friendly, professional, knowledgeable, positive attitudes, experienced, flexible, and sensitive to my husband’s needs as well as mine.\nI’m using them for every aspect of his care, sitting with him so I can get out, and general light housekeeping.\nI highly recommend Cornerstone Caregiving.",
         "0x87c96b3ea3efa7ed:0x4bf95c05c2931de7",
         "Cornerstone Caregiving"
        ],
        [
         "21",
         "1.0342439943888634e+20",
         "Gene Randall",
         "5.0",
         "OMGoodness I can't describe how helpful Cornerstone staff has been in providing johnny-on-the-spot services to my uncle in Rogers, Arkansas! He came home unexpectedly early from a medical rehab facility and needed immediate support. Other agencies were unable to respond at short notice but Cornerstone had resources immediately available! What a life-saver! My uncle can be challenging to care for and requires a variety of skill sets. Susan at Cornerstone has been consistently successful in meeting his needs, and mine too, as she facilitates and supports my 'care from a distance'--we live in Alaska! We are SO grateful as we couldn't do it without Cornerstone Caregiving professional services.",
         "0x87c96b3ea3efa7ed:0x4bf95c05c2931de7",
         "Cornerstone Caregiving"
        ],
        [
         "22",
         "1.1335459115956268e+20",
         "Tatum Thrasher",
         "5.0",
         "Cornerstone Caregiving goes well beyond expectations to treat your loved ones like their own! Great company to work for and with!",
         "0x87c96b3ea3efa7ed:0x4bf95c05c2931de7",
         "Cornerstone Caregiving"
        ],
        [
         "23",
         "1.159842465223036e+20",
         "Crystal Stevens",
         "5.0",
         "Cornerstone Caregiving goes above and beyond to provide top quality care for families!",
         "0x87c96b3ea3efa7ed:0x4bf95c05c2931de7",
         "Cornerstone Caregiving"
        ],
        [
         "24",
         "1.0894614556213015e+20",
         "Tonya Tabor",
         "5.0",
         "Truly compassionate care for their clients and staff",
         "0x87c96b3ea3efa7ed:0x4bf95c05c2931de7",
         "Cornerstone Caregiving"
        ],
        [
         "25",
         "1.1715985835730847e+20",
         "Jane Doe",
         "5.0",
         "I had my left knee replaced last year and it’s time to have my right knee done. The doc and his staff are kind and efficient. Makes me not worry about the surgery.",
         "0x87d2be8f6ff74a71:0xd0893f742a753053",
         "Marty L. Siems, M.D."
        ],
        [
         "26",
         "1.104101251620096e+20",
         "Erica Cooper",
         "5.0",
         "I took my dad and the whole process was wonderful!! From the scheduling to the rescheduling, checking in, wait time, and friendliness of the nurses/workers/doctors. It was great. Dr. Siems took his time to explain everything and answer our questions. I definitely recommend him.",
         "0x87d2be8f6ff74a71:0xd0893f742a753053",
         "Marty L. Siems, M.D."
        ],
        [
         "27",
         "1.0777761499809872e+20",
         "Tracey Hodges",
         "5.0",
         "I've had several surgeries in my lifetime. But i must tell you Dr Sims is the best surgeon around. After my knee surgery i was up and walking same day. The next day i hardly had little to no pain. I recommend for knee surgery that everyone uses Dr Martin Sims.",
         "0x87d2be8f6ff74a71:0xd0893f742a753053",
         "Marty L. Siems, M.D."
        ],
        [
         "28",
         "1.060690040217738e+20",
         "Candius Montgomery",
         "5.0",
         "It was my first time to Ortho Arkansas and I had a great Experience I was very very scared to get the shot in my hip for Tendinitis in my hip I must say the shot is helping me him and another Doctor calmed me down and I was able to get the shot. I'm greatful hope to see them soon for another shot it has really helped.",
         "0x87d2be8f6ff74a71:0xd0893f742a753053",
         "Marty L. Siems, M.D."
        ],
        [
         "29",
         "1.1205298279462828e+20",
         "Wanda Wade",
         "5.0",
         "I had a knee replacement 3 years ago and have been very happy with the results.  Dr Siems is a very wonderful and good doctor.  The staff at Arkansas Ortho is great.",
         "0x87d2be8f6ff74a71:0xd0893f742a753053",
         "Marty L. Siems, M.D."
        ],
        [
         "30",
         "1.1808941669326664e+20",
         "bernestine rhodes",
         "5.0",
         "I am very grateful to have Dr. Martin Siems at Ortho Arkansas in North Little Rock to help me with my bone on bone knees.  I go to Ortho once ever three months to get injections. Dr. Siems and the staff at Ortho are very kind, thoughtful, and friendly. I highly recommend that you see Dr. Siems to help with your pain.",
         "0x87d2be8f6ff74a71:0xd0893f742a753053",
         "Marty L. Siems, M.D."
        ],
        [
         "31",
         "1.0893172820788055e+20",
         "Lisa H",
         "3.0",
         "Dr. Siems had Little to No respect for me. He showed no concerns or interests in my issues. He was more opinionated than professional. As for a Dr I understand he's very busy, but he could have more patience & compassion for his patients. I do respect his honesty, however...he's not the Dr for me.",
         "0x87d2be8f6ff74a71:0xd0893f742a753053",
         "Marty L. Siems, M.D."
        ],
        [
         "32",
         "1.1624451870620195e+20",
         "Sharrie Stewart",
         "5.0",
         "Very nice; very detailed doctor. He explained every thing I needed to know. Waiting period wasnt too long considering how busy they were. Staff is friendly but not pushy. Service dogs welcome..",
         "0x87d2be8f6ff74a71:0xd0893f742a753053",
         "Marty L. Siems, M.D."
        ],
        [
         "33",
         "1.009940722905261e+20",
         "Sheliah Altendorf",
         "5.0",
         "Everyone was patient and kind to my husband. He was in pain during his MRI. It was very uncomfortable being still during this process. The staff made him feel so at ease. We are so grateful🙏🙌🤗👏👍😁",
         "0x87d2be8f6ff74a71:0xd0893f742a753053",
         "Marty L. Siems, M.D."
        ],
        [
         "34",
         "1.0816179004320748e+20",
         "Cyndee Moody",
         "5.0",
         "This is a great doctor. He is very straight forward and informative. He did my shoulder surgery and treated one of my knees with steroid shots. Great bedside manor, very caring. I highly recommend this doctor.",
         "0x87d2be8f6ff74a71:0xd0893f742a753053",
         "Marty L. Siems, M.D."
        ],
        [
         "35",
         "1.1624451870620195e+20",
         "Sharrie Stewart",
         "5.0",
         "Very nice; very detailed doctor. He explained every thing I needed to know. Waiting period wasnt too long considering how busy they were. Staff is friendly but not pushy. Service dogs welcome..",
         "0x87d2be8f6ff74a71:0xd0893f742a753053",
         "Marty L. Siems, M.D."
        ],
        [
         "36",
         "1.048586201634592e+20",
         "Warren Webb",
         "5.0",
         "Great doctor!!  Straight forward and tells you like it is!  He worked on both of my knees.",
         "0x87d2be8f6ff74a71:0xd0893f742a753053",
         "Marty L. Siems, M.D."
        ],
        [
         "37",
         "1.1395653248014755e+20",
         "olivia fahey",
         "1.0",
         "Went to get my MRI results  and he didn't give them back  he told me I have this new thing then what he told me before my MRI  but he also asked what was the problem with my leg again.",
         "0x87d2be8f6ff74a71:0xd0893f742a753053",
         "Marty L. Siems, M.D."
        ],
        [
         "38",
         "1.1585816437663516e+20",
         "Deborah Rupert",
         "5.0",
         "I am experiencing a good relationship and quality of knowledge with Dr.Siems so far. I will continue to use him.",
         "0x87d2be8f6ff74a71:0xd0893f742a753053",
         "Marty L. Siems, M.D."
        ],
        [
         "39",
         "1.02323175407635e+20",
         "Toni Bone",
         "5.0",
         "I am new to Dr. Cloud. With my appointment I was very pleased with his waiting room, his wonderful staff and more importantly with him. He was kind, very patient with me and He listened to me. He took time to go over everything with me and it was an all round great visit.",
         "0x87ccd5325416ed7b:0xbbfa4cfca7be9046",
         "Michael Cloud, MD"
        ],
        [
         "40",
         "1.1816836565330724e+20",
         "Richard Myrick",
         "5.0",
         "Cloud was great. My doctor retired and referred his patients to Cloud. I was so glad he did. Took time with me as new patient.  45 min. The next time I went to him he remember our conversation.  A+",
         "0x87ccd5325416ed7b:0xbbfa4cfca7be9046",
         "Michael Cloud, MD"
        ],
        [
         "41",
         "1.0254609574124025e+20",
         "Danielle Stephens",
         "5.0",
         "Dr. Cloud is a Very thorough, intuitive, friendly, professional as well as extremely kind Doctor and human being, which is a very rare combination to find these days! All the nurses and ladies and gentlemen in the office have always been super helpful and very kind. Wonderful doctors office! Very satisfied!",
         "0x87ccd5325416ed7b:0xbbfa4cfca7be9046",
         "Michael Cloud, MD"
        ],
        [
         "42",
         "1.1096030081144069e+20",
         "Natalie Bryant",
         "1.0",
         "I wouldn't take my DOG to Dr. Cloud. Please save yourself the trouble and see a real MD that will listen to your and your problems appropriately.",
         "0x87ccd5325416ed7b:0xbbfa4cfca7be9046",
         "Michael Cloud, MD"
        ],
        [
         "43",
         "1.004128408997116e+20",
         "Jennifer Pompeo",
         "5.0",
         "Very thorough doctor who actually listens to you! Highly recommend.",
         "0x87ccd5325416ed7b:0xbbfa4cfca7be9046",
         "Michael Cloud, MD"
        ],
        [
         "44",
         "1.0893011003033824e+20",
         "Debra Horn",
         "5.0",
         "He is so personable and shows concerefor you. I think he's great. I will be back!!",
         "0x87ccd5325416ed7b:0xbbfa4cfca7be9046",
         "Michael Cloud, MD"
        ],
        [
         "45",
         "1.1012521376345906e+20",
         "Maegan Hendricks",
         "5.0",
         "I've been using Argenta Counseling for a couple of months now, and it's been a pleasant experience. They paired me with someone I work well with and always leave a session feeling calmer.\nThe waiting room is a little weird, with no one at the window to check you in, and I understand how this may be off-putting to some.\nHowever, since the pandemic began, I've been to several doctor's offices utilizing a similar system and plan to keep that system going forward.\nI recommend giving Argenta Counseling a chance and have recommended their services to several family members and close friends.",
         "0x87d2bc8334b48b79:0x6e11fadac7a87cca",
         "Argenta Counseling"
        ],
        [
         "46",
         "1.1484886583380623e+20",
         "Reed Balentine",
         "5.0",
         "Most beautiful aesthetics I have seen in a Counseling Office! Staff are incredibly friendly and accomodating.",
         "0x87d2bc8334b48b79:0x6e11fadac7a87cca",
         "Argenta Counseling"
        ],
        [
         "47",
         "1.0237492774906184e+20",
         "J Voss",
         "1.0",
         "I recently got custody of my 15 year old son. He had been seeing a counselor through Argenta. I found the counselor to be unprofessional wanting to discuss reasons why I would move him to another therapy option in front of my child and telling me that \"all therapy isn't created equally and he opens up to me\" rather than discussing the matter privately or recommending other options more feasible for our changing family dynamic.",
         "0x87d2bc8334b48b79:0x6e11fadac7a87cca",
         "Argenta Counseling"
        ],
        [
         "48",
         "1.0479684427178092e+20",
         "Misty Shepherd",
         "5.0",
         "When going through the scheduling process they responded in a very timely manner and they make you feel very comfortable. The therapist are also top notch. I highly recommend Argenta for your counseling needs.",
         "0x87d2bc8334b48b79:0x6e11fadac7a87cca",
         "Argenta Counseling"
        ],
        [
         "49",
         "1.135933902408757e+20",
         "Jared Santiago (SaveTheRhinos)",
         "1.0",
         "Scheduled an appointment and arrived at the appropriate office. There was a door bell when I walked in to notify the occupants of my arrival. The office is awkwardly setup and I looked around, there was no one in the office. I took a seat in the office, noticed there was an Arlo camera in the corner, I felt better about not seeing anyone because Arlo sends notifications to your phone to let you know when motion was detected.  Sat there for probably 45 mins or so with no movement in the office, I finally called 20 mins or so after my appointment was supposed to start. After two awkward holds I was asked to reschedule. Didn’t reschedule. They had three clocks in the office, two set to different times and the one in the waiting room was stopped, ironic?",
         "0x87d2bc8334b48b79:0x6e11fadac7a87cca",
         "Argenta Counseling"
        ]
       ],
       "shape": {
        "columns": 6,
        "rows": 301299
       }
      },
      "text/html": [
       "<div>\n",
       "<style scoped>\n",
       "    .dataframe tbody tr th:only-of-type {\n",
       "        vertical-align: middle;\n",
       "    }\n",
       "\n",
       "    .dataframe tbody tr th {\n",
       "        vertical-align: top;\n",
       "    }\n",
       "\n",
       "    .dataframe thead th {\n",
       "        text-align: right;\n",
       "    }\n",
       "</style>\n",
       "<table border=\"1\" class=\"dataframe\">\n",
       "  <thead>\n",
       "    <tr style=\"text-align: right;\">\n",
       "      <th></th>\n",
       "      <th>user_id</th>\n",
       "      <th>name_x</th>\n",
       "      <th>rating</th>\n",
       "      <th>text</th>\n",
       "      <th>gmap_id</th>\n",
       "      <th>name_y</th>\n",
       "    </tr>\n",
       "  </thead>\n",
       "  <tbody>\n",
       "    <tr>\n",
       "      <th>0</th>\n",
       "      <td>1.168913e+20</td>\n",
       "      <td>Andrew</td>\n",
       "      <td>5.0</td>\n",
       "      <td>I was shocked when I saw PW had a 2.7 star ave...</td>\n",
       "      <td>0x87c96ee6220bff3d:0x3ba603ed95a0b0ca</td>\n",
       "      <td>Pat Walker Health Center</td>\n",
       "    </tr>\n",
       "    <tr>\n",
       "      <th>1</th>\n",
       "      <td>1.065142e+20</td>\n",
       "      <td>Oakley Davis</td>\n",
       "      <td>5.0</td>\n",
       "      <td>My experience at Pat Walker was a very good on...</td>\n",
       "      <td>0x87c96ee6220bff3d:0x3ba603ed95a0b0ca</td>\n",
       "      <td>Pat Walker Health Center</td>\n",
       "    </tr>\n",
       "    <tr>\n",
       "      <th>2</th>\n",
       "      <td>1.089844e+20</td>\n",
       "      <td>sam Rami</td>\n",
       "      <td>1.0</td>\n",
       "      <td>Here is what they do, you schedule an appointm...</td>\n",
       "      <td>0x87c96ee6220bff3d:0x3ba603ed95a0b0ca</td>\n",
       "      <td>Pat Walker Health Center</td>\n",
       "    </tr>\n",
       "    <tr>\n",
       "      <th>3</th>\n",
       "      <td>1.000681e+20</td>\n",
       "      <td>Katie McGuffin</td>\n",
       "      <td>5.0</td>\n",
       "      <td>I’ve been here twice, once for STD testing, an...</td>\n",
       "      <td>0x87c96ee6220bff3d:0x3ba603ed95a0b0ca</td>\n",
       "      <td>Pat Walker Health Center</td>\n",
       "    </tr>\n",
       "    <tr>\n",
       "      <th>4</th>\n",
       "      <td>1.011815e+20</td>\n",
       "      <td>Dene Wamsley</td>\n",
       "      <td>2.0</td>\n",
       "      <td>I've had very mixed experiences with Pat Walke...</td>\n",
       "      <td>0x87c96ee6220bff3d:0x3ba603ed95a0b0ca</td>\n",
       "      <td>Pat Walker Health Center</td>\n",
       "    </tr>\n",
       "    <tr>\n",
       "      <th>...</th>\n",
       "      <td>...</td>\n",
       "      <td>...</td>\n",
       "      <td>...</td>\n",
       "      <td>...</td>\n",
       "      <td>...</td>\n",
       "      <td>...</td>\n",
       "    </tr>\n",
       "    <tr>\n",
       "      <th>301294</th>\n",
       "      <td>1.009026e+20</td>\n",
       "      <td>Mark S</td>\n",
       "      <td>1.0</td>\n",
       "      <td>Brought my dog in on a Friday because he was v...</td>\n",
       "      <td>0x8626ba564f365f59:0x7e6e5bdbec491a49</td>\n",
       "      <td>Azalea Lakes Veterinary Clinic</td>\n",
       "    </tr>\n",
       "    <tr>\n",
       "      <th>301295</th>\n",
       "      <td>1.037343e+20</td>\n",
       "      <td>Kaycie LaGrone</td>\n",
       "      <td>1.0</td>\n",
       "      <td>I boarded my dog there while I was on a trip a...</td>\n",
       "      <td>0x8626ba564f365f59:0x7e6e5bdbec491a49</td>\n",
       "      <td>Azalea Lakes Veterinary Clinic</td>\n",
       "    </tr>\n",
       "    <tr>\n",
       "      <th>301296</th>\n",
       "      <td>1.016109e+20</td>\n",
       "      <td>Edie Chaffin</td>\n",
       "      <td>1.0</td>\n",
       "      <td>I brought my lab there for years. The past yea...</td>\n",
       "      <td>0x8626ba564f365f59:0x7e6e5bdbec491a49</td>\n",
       "      <td>Azalea Lakes Veterinary Clinic</td>\n",
       "    </tr>\n",
       "    <tr>\n",
       "      <th>301297</th>\n",
       "      <td>1.174574e+20</td>\n",
       "      <td>Jon Goodart</td>\n",
       "      <td>1.0</td>\n",
       "      <td>I would say the coaches and workouts are great...</td>\n",
       "      <td>0x8626a38aeb6e628f:0xce96adca225b4502</td>\n",
       "      <td>Orangetheory Fitness</td>\n",
       "    </tr>\n",
       "    <tr>\n",
       "      <th>301298</th>\n",
       "      <td>1.062912e+20</td>\n",
       "      <td>Kourtney Outlaw</td>\n",
       "      <td>1.0</td>\n",
       "      <td>Honestly, I’m not one to make reviews BUT this...</td>\n",
       "      <td>0x8626a38aeb6e628f:0xce96adca225b4502</td>\n",
       "      <td>Orangetheory Fitness</td>\n",
       "    </tr>\n",
       "  </tbody>\n",
       "</table>\n",
       "<p>301299 rows × 6 columns</p>\n",
       "</div>"
      ],
      "text/plain": [
       "             user_id           name_x  rating  \\\n",
       "0       1.168913e+20           Andrew     5.0   \n",
       "1       1.065142e+20     Oakley Davis     5.0   \n",
       "2       1.089844e+20         sam Rami     1.0   \n",
       "3       1.000681e+20   Katie McGuffin     5.0   \n",
       "4       1.011815e+20     Dene Wamsley     2.0   \n",
       "...              ...              ...     ...   \n",
       "301294  1.009026e+20           Mark S     1.0   \n",
       "301295  1.037343e+20   Kaycie LaGrone     1.0   \n",
       "301296  1.016109e+20     Edie Chaffin     1.0   \n",
       "301297  1.174574e+20      Jon Goodart     1.0   \n",
       "301298  1.062912e+20  Kourtney Outlaw     1.0   \n",
       "\n",
       "                                                     text  \\\n",
       "0       I was shocked when I saw PW had a 2.7 star ave...   \n",
       "1       My experience at Pat Walker was a very good on...   \n",
       "2       Here is what they do, you schedule an appointm...   \n",
       "3       I’ve been here twice, once for STD testing, an...   \n",
       "4       I've had very mixed experiences with Pat Walke...   \n",
       "...                                                   ...   \n",
       "301294  Brought my dog in on a Friday because he was v...   \n",
       "301295  I boarded my dog there while I was on a trip a...   \n",
       "301296  I brought my lab there for years. The past yea...   \n",
       "301297  I would say the coaches and workouts are great...   \n",
       "301298  Honestly, I’m not one to make reviews BUT this...   \n",
       "\n",
       "                                      gmap_id                          name_y  \n",
       "0       0x87c96ee6220bff3d:0x3ba603ed95a0b0ca        Pat Walker Health Center  \n",
       "1       0x87c96ee6220bff3d:0x3ba603ed95a0b0ca        Pat Walker Health Center  \n",
       "2       0x87c96ee6220bff3d:0x3ba603ed95a0b0ca        Pat Walker Health Center  \n",
       "3       0x87c96ee6220bff3d:0x3ba603ed95a0b0ca        Pat Walker Health Center  \n",
       "4       0x87c96ee6220bff3d:0x3ba603ed95a0b0ca        Pat Walker Health Center  \n",
       "...                                       ...                             ...  \n",
       "301294  0x8626ba564f365f59:0x7e6e5bdbec491a49  Azalea Lakes Veterinary Clinic  \n",
       "301295  0x8626ba564f365f59:0x7e6e5bdbec491a49  Azalea Lakes Veterinary Clinic  \n",
       "301296  0x8626ba564f365f59:0x7e6e5bdbec491a49  Azalea Lakes Veterinary Clinic  \n",
       "301297  0x8626a38aeb6e628f:0xce96adca225b4502            Orangetheory Fitness  \n",
       "301298  0x8626a38aeb6e628f:0xce96adca225b4502            Orangetheory Fitness  \n",
       "\n",
       "[301299 rows x 6 columns]"
      ]
     },
     "execution_count": 62,
     "metadata": {},
     "output_type": "execute_result"
    }
   ],
   "source": [
    "path = \"C:/Users/eliza/Documents/Semester V/Sentiment Analysis/pretraining_data.csv\"\n",
    "text_df = pd.read_csv(path)\n",
    "text_df"
   ]
  },
  {
   "cell_type": "markdown",
   "metadata": {},
   "source": [
    "**DATA DIMENSION**"
   ]
  },
  {
   "cell_type": "code",
   "execution_count": 7,
   "metadata": {},
   "outputs": [
    {
     "name": "stdout",
     "output_type": "stream",
     "text": [
      "The dataset contains 301299 rows and 6 columns.\n"
     ]
    }
   ],
   "source": [
    "num_rows, num_columns = text_df.shape\n",
    "print(f\"The dataset contains {num_rows} rows and {num_columns} columns.\")"
   ]
  },
  {
   "cell_type": "markdown",
   "metadata": {},
   "source": [
    "**COLUMN NAMES**"
   ]
  },
  {
   "cell_type": "code",
   "execution_count": 14,
   "metadata": {},
   "outputs": [
    {
     "data": {
      "text/plain": [
       "Index(['user_id', 'name_x', 'rating', 'text', 'gmap_id', 'name_y'], dtype='object')"
      ]
     },
     "execution_count": 14,
     "metadata": {},
     "output_type": "execute_result"
    }
   ],
   "source": [
    "text_df.columns"
   ]
  },
  {
   "cell_type": "markdown",
   "metadata": {},
   "source": [
    "**COLUMN TYPES**"
   ]
  },
  {
   "cell_type": "code",
   "execution_count": 15,
   "metadata": {},
   "outputs": [
    {
     "name": "stdout",
     "output_type": "stream",
     "text": [
      "user_id: {<class 'float'>}\n",
      "name_x: {<class 'str'>, <class 'float'>}\n",
      "rating: {<class 'float'>}\n",
      "text: {<class 'str'>, <class 'float'>}\n",
      "gmap_id: {<class 'str'>}\n",
      "name_y: {<class 'str'>}\n"
     ]
    }
   ],
   "source": [
    "for col in text_df.columns:\n",
    "    print(f\"{col}: {set(type(x) for x in healthcare_df[col])}\")"
   ]
  },
  {
   "cell_type": "markdown",
   "metadata": {},
   "source": [
    "**CHECK MISSING VALUES**"
   ]
  },
  {
   "cell_type": "code",
   "execution_count": 63,
   "metadata": {},
   "outputs": [
    {
     "name": "stdout",
     "output_type": "stream",
     "text": [
      "user_id    0\n",
      "name_x     3\n",
      "rating     0\n",
      "text       2\n",
      "gmap_id    0\n",
      "name_y     0\n",
      "dtype: int64\n"
     ]
    }
   ],
   "source": [
    "print(text_df.isnull().sum())"
   ]
  },
  {
   "cell_type": "markdown",
   "metadata": {},
   "source": [
    "**DROP MISSING VALUES**"
   ]
  },
  {
   "cell_type": "code",
   "execution_count": 64,
   "metadata": {},
   "outputs": [],
   "source": [
    "text_df = text_df.dropna(subset = ['text'])"
   ]
  },
  {
   "cell_type": "code",
   "execution_count": 65,
   "metadata": {},
   "outputs": [],
   "source": [
    "text_df = text_df.dropna(subset = ['name_x'])"
   ]
  },
  {
   "cell_type": "code",
   "execution_count": 21,
   "metadata": {},
   "outputs": [
    {
     "name": "stdout",
     "output_type": "stream",
     "text": [
      "user_id    0\n",
      "name_x     3\n",
      "rating     0\n",
      "text       0\n",
      "gmap_id    0\n",
      "name_y     0\n",
      "dtype: int64\n"
     ]
    }
   ],
   "source": [
    "print(text_df.isnull().sum())"
   ]
  },
  {
   "cell_type": "markdown",
   "metadata": {},
   "source": [
    "**CHECK VALUES AFTER DROPPING**"
   ]
  },
  {
   "cell_type": "code",
   "execution_count": 23,
   "metadata": {},
   "outputs": [
    {
     "data": {
      "text/plain": [
       "(301294, 6)"
      ]
     },
     "execution_count": 23,
     "metadata": {},
     "output_type": "execute_result"
    }
   ],
   "source": [
    "text_df.shape"
   ]
  },
  {
   "cell_type": "markdown",
   "metadata": {},
   "source": [
    "**CHECK & REMOVE EXACT DUPLICATED ROWS**"
   ]
  },
  {
   "cell_type": "code",
   "execution_count": 31,
   "metadata": {},
   "outputs": [
    {
     "name": "stdout",
     "output_type": "stream",
     "text": [
      "             user_id           name_x  rating  \\\n",
      "0       1.168913e+20           Andrew     5.0   \n",
      "1       1.065142e+20     Oakley Davis     5.0   \n",
      "2       1.089844e+20         sam Rami     1.0   \n",
      "3       1.000681e+20   Katie McGuffin     5.0   \n",
      "4       1.011815e+20     Dene Wamsley     2.0   \n",
      "...              ...              ...     ...   \n",
      "300701  1.161111e+20    Johnny Miller     1.0   \n",
      "300702  1.087943e+20      Three for T     1.0   \n",
      "300706  1.087943e+20      Three for T     1.0   \n",
      "301176  1.072778e+20  Germaine monroe     2.0   \n",
      "301177  1.072778e+20  Germaine monroe     2.0   \n",
      "\n",
      "                                                     text  \\\n",
      "0       I was shocked when I saw PW had a 2.7 star ave...   \n",
      "1       My experience at Pat Walker was a very good on...   \n",
      "2       Here is what they do, you schedule an appointm...   \n",
      "3       I’ve been here twice, once for STD testing, an...   \n",
      "4       I've had very mixed experiences with Pat Walke...   \n",
      "...                                                   ...   \n",
      "300701                                      Sad reopening   \n",
      "300702                                     Lines too long   \n",
      "300706                                     Lines too long   \n",
      "301176     It's not open 24 if that's what your thinking.   \n",
      "301177     It's not open 24 if that's what your thinking.   \n",
      "\n",
      "                                      gmap_id                    name_y  \n",
      "0       0x87c96ee6220bff3d:0x3ba603ed95a0b0ca  Pat Walker Health Center  \n",
      "1       0x87c96ee6220bff3d:0x3ba603ed95a0b0ca  Pat Walker Health Center  \n",
      "2       0x87c96ee6220bff3d:0x3ba603ed95a0b0ca  Pat Walker Health Center  \n",
      "3       0x87c96ee6220bff3d:0x3ba603ed95a0b0ca  Pat Walker Health Center  \n",
      "4       0x87c96ee6220bff3d:0x3ba603ed95a0b0ca  Pat Walker Health Center  \n",
      "...                                       ...                       ...  \n",
      "300701  0x889e02f829391d95:0x2b28f4ddc476a82a                Winn-Dixie  \n",
      "300702  0x889e02f829391d95:0x2b28f4ddc476a82a                Winn-Dixie  \n",
      "300706  0x889e02f829391d95:0x2b28f4ddc476a82a                Winn-Dixie  \n",
      "301176   0x8636d3a4207ecbad:0x11932cbdfd38510              Plex Fitness  \n",
      "301177   0x8636d3a4207ecbad:0x11932cbdfd38510              Plex Fitness  \n",
      "\n",
      "[9957 rows x 6 columns]\n"
     ]
    }
   ],
   "source": [
    "# Display exact duplicate rows\n",
    "duplicates = text_df[text_df.duplicated(keep=False)]\n",
    "print(duplicates)\n"
   ]
  },
  {
   "cell_type": "code",
   "execution_count": 66,
   "metadata": {},
   "outputs": [
    {
     "name": "stdout",
     "output_type": "stream",
     "text": [
      "           user_id            name_x  rating  \\\n",
      "0     1.000060e+20   Crystal Winston     5.0   \n",
      "1     1.000120e+20       LAURA TOROK     1.0   \n",
      "2     1.000124e+20    Erika Mcdonald     1.0   \n",
      "3     1.000129e+20            Adi Lu     1.0   \n",
      "4     1.000193e+20  heath hoogshagen     5.0   \n",
      "...            ...               ...     ...   \n",
      "4945  1.184312e+20       Steve Koach     5.0   \n",
      "4946  1.184322e+20     Stanley Crabb     3.0   \n",
      "4947  1.184334e+20         Jim Geier     5.0   \n",
      "4948  1.184412e+20   Ginger Bourquin     5.0   \n",
      "4949  1.184455e+20   Teresa Matthews     5.0   \n",
      "\n",
      "                                                   text  \\\n",
      "0     Dr. Chet and his staff are awesome! They made ...   \n",
      "1     Tried to see if we could send our injured work...   \n",
      "2     Dr. Khan was consistently late (we could alway...   \n",
      "3     Very BAD experience!!!!\\nI waited for over 1.5...   \n",
      "4            No complaints at all. Enjoy all the staff.   \n",
      "...                                                 ...   \n",
      "4945  Professional service from everyone you make co...   \n",
      "4946  Mediocore...  not great, but not bad either. M...   \n",
      "4947  Go here best place ever , make sure to ask for...   \n",
      "4948  \" My first time into the Fayetteville office w...   \n",
      "4949                          Very nice & caring staff!   \n",
      "\n",
      "                                    gmap_id  \\\n",
      "0     0x888c2a6864dfea71:0x7b30669ba35a1b8a   \n",
      "1     0x8636cd53a145c6c1:0x60c3a2969e3e624b   \n",
      "2     0x8889172ab7d2bfe3:0xc5aeca331a65b5ac   \n",
      "3     0x8620b04403edfab1:0x4a9b8011d274379e   \n",
      "4     0x87c910f981de4a8d:0x48a58a1f7c23c267   \n",
      "...                                     ...   \n",
      "4945  0x88929300e18e86ff:0xeb5b55e405872062   \n",
      "4946  0x87d42bb04d53509b:0x9d4eb1558c5a6bb2   \n",
      "4947  0x87cd2b1d5745f5af:0x1066c7c5ae0ead2f   \n",
      "4948  0x87c96cb2bd7164a1:0xa0dfb52c179e43d3   \n",
      "4949  0x888c2a6864dfea71:0x7b30669ba35a1b8a   \n",
      "\n",
      "                                                 name_y  count  \n",
      "0     Carmichael Dental Care, Chet Swartzentruber DM...      2  \n",
      "1                             Total Care Medical Clinic      2  \n",
      "2                       Alabama Psychiatry & Counseling      2  \n",
      "3                          Rapid Urgent Care - Metairie      2  \n",
      "4                                Metro Park Dental Arts      2  \n",
      "...                                                 ...    ...  \n",
      "4945                                      Denney Vision      2  \n",
      "4946                   Families Inc Counseling Services      2  \n",
      "4947              Hot Springs Garden Home Spa & Massage      2  \n",
      "4948                              Whitlock Orthodontics      2  \n",
      "4949  Carmichael Dental Care, Chet Swartzentruber DM...      2  \n",
      "\n",
      "[4950 rows x 7 columns]\n"
     ]
    }
   ],
   "source": [
    "# Count how many times each row is duplicated\n",
    "duplicate_counts = text_df[text_df.duplicated(keep=False)].groupby(text_df.columns.tolist()).size().reset_index(name='count')\n",
    "print(duplicate_counts)"
   ]
  },
  {
   "cell_type": "markdown",
   "metadata": {},
   "source": [
    "Dr. Chet and his staff are awesome! They made me feel comfortable and most importantly my experience was painless. I use to be afraid to go to the dentist but now I love getting my dental care done at Carmichael Dental Care."
   ]
  },
  {
   "cell_type": "markdown",
   "metadata": {},
   "source": [
    "Short wait time, nice atmosphere, Dr. Appeared concern. Pleasant and helpful visit."
   ]
  },
  {
   "cell_type": "code",
   "execution_count": null,
   "metadata": {},
   "outputs": [
    {
     "name": "stdout",
     "output_type": "stream",
     "text": [
      "             user_id        name_x  rating  \\\n",
      "110877  1.000346e+20  Evelyn Hayws     4.0   \n",
      "110880  1.000346e+20  Evelyn Hayws     4.0   \n",
      "111452  1.000346e+20  Evelyn Hayws     4.0   \n",
      "111455  1.000346e+20  Evelyn Hayws     4.0   \n",
      "\n",
      "                                                     text  \\\n",
      "110877  Short wait time, nice atmosphere, Dr. Appeared...   \n",
      "110880  Short wait time, nice atmosphere, Dr. Appeared...   \n",
      "111452  Short wait time, nice atmosphere, Dr. Appeared...   \n",
      "111455  Short wait time, nice atmosphere, Dr. Appeared...   \n",
      "\n",
      "                                      gmap_id                 name_y  \n",
      "110877  0x88928d99f61618a3:0x3d20e8fd128d6be0  Hassan Kesserwani, MD  \n",
      "110880  0x88928d99f61618a3:0x3d20e8fd128d6be0  Hassan Kesserwani, MD  \n",
      "111452  0x88928d99f61618a3:0x3d20e8fd128d6be0  Hassan Kesserwani, MD  \n",
      "111455  0x88928d99f61618a3:0x3d20e8fd128d6be0  Hassan Kesserwani, MD  \n"
     ]
    }
   ],
   "source": [
    "duplicated_sen1 = text_df[(text_df['text'] == \"Short wait time, nice atmosphere, Dr. Appeared concern. Pleasant and helpful visit.\") \n",
    "                          & (text_df['text'].duplicated(keep=False))]\n",
    "print(duplicated_sen1)"
   ]
  },
  {
   "cell_type": "code",
   "execution_count": 37,
   "metadata": {},
   "outputs": [
    {
     "name": "stdout",
     "output_type": "stream",
     "text": [
      "             user_id           name_x  rating  \\\n",
      "151857  1.000060e+20  Crystal Winston     5.0   \n",
      "151874  1.000060e+20  Crystal Winston     5.0   \n",
      "\n",
      "                                                     text  \\\n",
      "151857  Dr. Chet and his staff are awesome! They made ...   \n",
      "151874  Dr. Chet and his staff are awesome! They made ...   \n",
      "\n",
      "                                      gmap_id  \\\n",
      "151857  0x888c2a6864dfea71:0x7b30669ba35a1b8a   \n",
      "151874  0x888c2a6864dfea71:0x7b30669ba35a1b8a   \n",
      "\n",
      "                                                   name_y  \n",
      "151857  Carmichael Dental Care, Chet Swartzentruber DM...  \n",
      "151874  Carmichael Dental Care, Chet Swartzentruber DM...  \n"
     ]
    }
   ],
   "source": [
    "# Filter for records where text is \"Great\" and it's duplicated\n",
    "duplicated_sen2 = text_df[(text_df['text'] == \"Dr. Chet and his staff are awesome! They made me feel comfortable and most importantly my experience was painless. I use to be afraid to go to the dentist but now I love getting my dental care done at Carmichael Dental Care.\") & (text_df['text'].duplicated(keep=False))]\n",
    "print(duplicated_sen2)"
   ]
  },
  {
   "cell_type": "markdown",
   "metadata": {},
   "source": [
    "**DROP EXACT DUPLICATES**"
   ]
  },
  {
   "cell_type": "code",
   "execution_count": 70,
   "metadata": {},
   "outputs": [],
   "source": [
    "# Remove exact duplicate rows and keep only one occurrence\n",
    "text_df = text_df.drop_duplicates()"
   ]
  },
  {
   "cell_type": "code",
   "execution_count": 40,
   "metadata": {},
   "outputs": [],
   "source": [
    "# Reset index after removing duplicates\n",
    "text_df = text_df.reset_index(drop=True)"
   ]
  },
  {
   "cell_type": "code",
   "execution_count": 41,
   "metadata": {},
   "outputs": [
    {
     "name": "stdout",
     "output_type": "stream",
     "text": [
      "0\n"
     ]
    }
   ],
   "source": [
    "# Check for remaining duplicates\n",
    "print(text_df.duplicated().sum())"
   ]
  },
  {
   "cell_type": "markdown",
   "metadata": {},
   "source": [
    "**CHECK DATA SHAPE AFTER REMOVING DUPLICATES**"
   ]
  },
  {
   "cell_type": "code",
   "execution_count": 42,
   "metadata": {},
   "outputs": [
    {
     "data": {
      "text/plain": [
       "(296287, 6)"
      ]
     },
     "execution_count": 42,
     "metadata": {},
     "output_type": "execute_result"
    }
   ],
   "source": [
    "text_df.shape"
   ]
  },
  {
   "cell_type": "markdown",
   "metadata": {},
   "source": [
    "**DUPLICATED REVIEW TEXT**"
   ]
  },
  {
   "cell_type": "code",
   "execution_count": 43,
   "metadata": {},
   "outputs": [
    {
     "name": "stdout",
     "output_type": "stream",
     "text": [
      "text\n",
      "Great                                                                                                                                                                                                                                                                                                                                                                                                                                                                                                                                                                                                                                                                                                                                                                                                                                                                                                 139\n",
      "Great service                                                                                                                                                                                                                                                                                                                                                                                                                                                                                                                                                                                                                                                                                                                                                                                                                                                                                         123\n",
      "Great place                                                                                                                                                                                                                                                                                                                                                                                                                                                                                                                                                                                                                                                                                                                                                                                                                                                                                            87\n",
      "Great staff                                                                                                                                                                                                                                                                                                                                                                                                                                                                                                                                                                                                                                                                                                                                                                                                                                                                                            84\n",
      "Good                                                                                                                                                                                                                                                                                                                                                                                                                                                                                                                                                                                                                                                                                                                                                                                                                                                                                                   75\n",
      "                                                                                                                                                                                                                                                                                                                                                                                                                                                                                                                                                                                                                                                                                                                                                                                                                                                                                                     ... \n",
      "I believe I broke my arm so I went to the hospital, while I was in the back I started having an asthma / panic attack. The nurse came in and told me that symptoms of drug abuse. I asked to take a drug test to have no drugs in my system. They didn't care. When the doctor was checking my broken arm and I screamed he yelled at me don't yell at me in the doctor like I'm not supposed to yell when I'm in excruciating pain. After they did x-rays 20 minutes later the doctor comes in like let's do x-rays you don't know they've done I'm already your sew-in organized over there.  Very unprofessional. It's worth driving to Lake Charles just to avoid Jennings Legion.  I never once asked them for any pain medication or anything but they kept saying they can't give me any drugs I never asked for it while you're bringing it up they think that's the only reason I'm there      2\n",
      "Oh yeahhh                                                                                                                                                                                                                                                                                                                                                                                                                                                                                                                                                                                                                                                                                                                                                                                                                                                                                               2\n",
      "This place sucks.                                                                                                                                                                                                                                                                                                                                                                                                                                                                                                                                                                                                                                                                                                                                                                                                                                                                                       2\n",
      "Ask me directly                                                                                                                                                                                                                                                                                                                                                                                                                                                                                                                                                                                                                                                                                                                                                                                                                                                                                         2\n",
      "Not good massage therapy at all                                                                                                                                                                                                                                                                                                                                                                                                                                                                                                                                                                                                                                                                                                                                                                                                                                                                         2\n",
      "Name: count, Length: 1656, dtype: int64\n"
     ]
    }
   ],
   "source": [
    "# Count the occurrences of each text value\n",
    "duplicate_text_counts = text_df['text'].value_counts()\n",
    "\n",
    "# Filter to show only duplicated texts (those that occur more than once)\n",
    "duplicate_texts = duplicate_text_counts[duplicate_text_counts > 1]\n",
    "print(duplicate_texts)"
   ]
  },
  {
   "cell_type": "markdown",
   "metadata": {},
   "source": [
    "**data duplication wont be deleted because it have real world meaning** \n",
    "If a review like \"Great\" is posted multiple times by different users, it reflects the true sentiment distribution and should be retained.\n",
    "User frequency might be important (e.g., if many people say \"Great\", it indicates popularity). The same review might be posted for different businesses (e.g., a common feedback like \"Great service\").\n",
    "If the goal is to analyze business-specific reviews, the context matters, and you might need to keep them."
   ]
  },
  {
   "cell_type": "code",
   "execution_count": 44,
   "metadata": {},
   "outputs": [
    {
     "name": "stdout",
     "output_type": "stream",
     "text": [
      "             user_id               name_x  rating   text  \\\n",
      "5191    1.137669e+20     Stephen Phillips     5.0  Great   \n",
      "10360   1.068358e+20      Erica Treadwell     5.0  Great   \n",
      "19847   1.126386e+20         david morgan     4.0  Great   \n",
      "21460   1.170148e+20        Marvin Risley     5.0  Great   \n",
      "22277   1.106720e+20          Linda Hayes     5.0  Great   \n",
      "...              ...                  ...     ...    ...   \n",
      "224346  1.111767e+20           Jay Mittal     5.0  Great   \n",
      "224355  1.086875e+20         Abdul Rehman     5.0  Great   \n",
      "224944  1.134910e+20  Marvin Marvinquincy     5.0  Great   \n",
      "224961  1.098925e+20         Keith Teague     4.0  Great   \n",
      "234714  1.070992e+20        wayne osborne     2.0  Great   \n",
      "\n",
      "                                      gmap_id  \\\n",
      "5191    0x87c9696c2590d237:0x40132fe87e7441c6   \n",
      "10360   0x87d2125c07d76ba7:0x6aaef6019671063c   \n",
      "19847   0x87d42f31147c34cf:0x15ce4018734a154a   \n",
      "21460   0x87c910f9a223c7cf:0x8b461dad2e29b751   \n",
      "22277   0x86346b7461afe153:0x536b6459ecc1b7e1   \n",
      "...                                       ...   \n",
      "224346  0x88891be923d8dd47:0x1ae4e29733db7dbe   \n",
      "224355  0x88891be923d8dd47:0x1ae4e29733db7dbe   \n",
      "224944  0x88891bac1ae79a63:0x232815e6603753f0   \n",
      "224961  0x88891bac1ae79a63:0x232815e6603753f0   \n",
      "234714  0x88419e612f20f0f7:0x15263e281dc938e7   \n",
      "\n",
      "                                    name_y  \n",
      "5191                 TruHealth Family Care  \n",
      "10360                        Phillips Lori  \n",
      "19847                 Woodsprings Pharmacy  \n",
      "21460                   Integrated Medical  \n",
      "22277                  Texarkana Nutrition  \n",
      "...                                    ...  \n",
      "224346               UAB Campus Recreation  \n",
      "224355               UAB Campus Recreation  \n",
      "224944        Downtown Jimmie Hale Mission  \n",
      "224961        Downtown Jimmie Hale Mission  \n",
      "234714  Licking Valley Veterinary Services  \n",
      "\n",
      "[139 rows x 6 columns]\n"
     ]
    }
   ],
   "source": [
    "# Filter for records where text is \"Great\" and it's duplicated\n",
    "duplicated_great = text_df[(text_df['text'] == \"Great\") & (text_df['text'].duplicated(keep=False))]\n",
    "print(duplicated_great)\n"
   ]
  },
  {
   "cell_type": "markdown",
   "metadata": {},
   "source": [
    "CORRECT DATA TYPES"
   ]
  },
  {
   "cell_type": "code",
   "execution_count": 45,
   "metadata": {},
   "outputs": [
    {
     "data": {
      "application/vnd.microsoft.datawrangler.viewer.v0+json": {
       "columns": [
        {
         "name": "index",
         "rawType": "int64",
         "type": "integer"
        },
        {
         "name": "user_id",
         "rawType": "float64",
         "type": "float"
        },
        {
         "name": "name_x",
         "rawType": "object",
         "type": "string"
        },
        {
         "name": "rating",
         "rawType": "float64",
         "type": "float"
        },
        {
         "name": "text",
         "rawType": "object",
         "type": "string"
        },
        {
         "name": "gmap_id",
         "rawType": "object",
         "type": "string"
        },
        {
         "name": "name_y",
         "rawType": "object",
         "type": "string"
        }
       ],
       "conversionMethod": "pd.DataFrame",
       "ref": "ec4ec48b-958a-4379-90a2-6f5b9b0d48e7",
       "rows": [
        [
         "0",
         "1.1689133054664912e+20",
         "Andrew",
         "5.0",
         "I was shocked when I saw PW had a 2.7 star average rating. I have come here for the past 4 years and received nothing but excellent treatment from the front desk staff, the nurses and the doctors. Highly recommend my doctor of this time, Dr. Acosta with his excellent professionalism, bedside manner and eagerness to help.",
         "0x87c96ee6220bff3d:0x3ba603ed95a0b0ca",
         "Pat Walker Health Center"
        ],
        [
         "1",
         "1.0651418896033015e+20",
         "Oakley Davis",
         "5.0",
         "My experience at Pat Walker was a very good one. Dr. Beck was extremely thorough and seemed to be very genuine. I needed several tests and X-rays all of them together took less than an hour. Very affordable, especially when compared to other healthcare providers in the area for uninsured patients. Super friendly staff. 10/10.",
         "0x87c96ee6220bff3d:0x3ba603ed95a0b0ca",
         "Pat Walker Health Center"
        ],
        [
         "2",
         "1.089844187175508e+20",
         "sam Rami",
         "1.0",
         "Here is what they do, you schedule an appointment and you are late 10min what ever is the reason and they charge you $40 and putting hold on your UA account. However, they can hold you on waiting for 40min and no penalty for them. Not Fare, just using a student as business.",
         "0x87c96ee6220bff3d:0x3ba603ed95a0b0ca",
         "Pat Walker Health Center"
        ],
        [
         "3",
         "1.0006810128560697e+20",
         "Katie McGuffin",
         "5.0",
         "I’ve been here twice, once for STD testing, and once for an IUD. i saw two different doctors, both were super amazing. they were the ones to even inform me about all the good things about the IUD, and were very comforting & understanding the whole time i was getting it put in. The nurses are amazing too. Would very much recommend",
         "0x87c96ee6220bff3d:0x3ba603ed95a0b0ca",
         "Pat Walker Health Center"
        ],
        [
         "4",
         "1.0118146224544204e+20",
         "Dene Wamsley",
         "2.0",
         "I've had very mixed experiences with Pat Walker, but I haven't felt the urge to leave a review until today.\n\nThe only reason I am giving them more than 1 star is because of Dr. Acosta. He is a fantastic and friendly doctor, and I am extremely grateful that he thought to test me for Celiac disease. I came to Pat Walker several times over 2 years due to strange and chronic symptoms, and tried a few different doctors. Until Dr. Acosta, none could put the pieces together. One doctor even told me it was just anxiety, and that I should \"lay off the energy drinks\" (which I don't drink). It was extremely condescending and disheartening. Turns out I just need to lay off the gluten!\n\nToday, I had an appointment with the Women's Clinic at 1:30. Being an off campus student, I left my apartment an hour before my scheduled time and drove 25 minutes in a torrential downpour. Pat Walker only offers about 6 patient parking spots, which were all occupied. From 1 pm to 1:30 pm, I drove all around searching for parking to no avail. There were no available spots on the street, nor in the Garland parking deck. I was forced to cancel my appointment.\n\nWhile this was unfortunate, the woman who handled my phone call was even more unfortunate. I was extremely stressed when I called her to ask her to cancel my appointment due to no available parking. Rather than being sympathetic at all, she came across as incredibly annoyed. Exasperated, I asked if Pat Walker was planning on adding any more patient parking spots (since they have been continuously doing construction for almost a year now). She responded \"No, our parking is LIM-I-TED,\" as if I am hard of hearing. She told me I should have tried arriving earlier, as if leaving an hour before my scheduled appointment is not enough?\n\nMy issue is this: I am a stressed client, trying to seek medical help, and I was unable to find parking. I was treated like a nuisance by the staff. Even IF the staff feels that it's normal and justified for a clinic to offer only 6 measly parking spots for off-campus clients (which personally, I don't), the least they can do is respond in a sympathetic manner. Pat Walker's staff exacerbated an already stressful situation.",
         "0x87c96ee6220bff3d:0x3ba603ed95a0b0ca",
         "Pat Walker Health Center"
        ],
        [
         "5",
         "1.0422815878898968e+20",
         "Diablo Smac",
         "2.0",
         "Don’t go to CAPS. I was left completely unsatisfied by the care I received from my CAPS psychiatrist during my senior year. I left her care in worse shape than when I first saw her. I was condescended to on every occasion I met with her, and goaded into taking medications that I was unsure about. The way they run things is borderline draconian. When I voiced concerns about the medications I was treated as though I was being irrational and uncooperative. If you miss appointments and don’t give any notice, (particularly if you miss multiple in a row) they will likely never agree to meet with you again. The only positives were Nurse Patty (very nice lady), and some of the counselors are great. If you really need help and CAPS is you’re only option for whatever reason, I would meet with a counselor and have them refer you to a psychiatrist not affiliated with the University. I promise you will be better for it.\n\n(CAPS absolutely deserves one star, but because this is Pat a walker as a whole and I’ve had less problems elsewhere in the building I am giving it two stars.)",
         "0x87c96ee6220bff3d:0x3ba603ed95a0b0ca",
         "Pat Walker Health Center"
        ],
        [
         "6",
         "1.120272808070059e+20",
         "Logan Verkamp",
         "5.0",
         "Went into Pat Walker health center around 830 in the morning with severe stomach pain. They had me back in less than 10 minutes, checked me out and had me on my way to the ER in under and hour where it was confirmed I was having an appendicitis. Everyone at the health center was very nice and comforting while also getting me taken care of. Thank you to all the people who helped!",
         "0x87c96ee6220bff3d:0x3ba603ed95a0b0ca",
         "Pat Walker Health Center"
        ],
        [
         "7",
         "1.1565077632723807e+20",
         "Ashton Hicks",
         "1.0",
         "The CAPS Program:\n\nI’ve battled depression for years after my brother passed away and even my professor expressed concern because I was missing class due to it. He advised that I go to Pat Walker to seek help and I set an appointment.\n\nI waited about two weeks. I set an appointment for 10am, but apparently that means your appointment is for 9:30am for paperwork (it must be enough paperwork for a house purchase!).\n\nThe morning of, I left my house early and arrived at the campus at 9:30am. Parking was horrendous, as you can assume. So, after walking all the way across campus at arriving there at 9:50, I am met with a receptionist that tells me that since I was not there at 9:30am, my appointment was cancelled and I’d have to make another one for two weeks in advance!\n\nListen, I know I wasn’t early early, but I’ve never heard of anyone cancelling your appointment for being there in advance?? If you want me there at 9:30, make my appointment at that time. If I’m early to MY APPOINTMENT TIME, why is it being cancelled?\n\nI’ll add to the fact that there was NO one in the waiting room. This place is a joke. I made an appointment but I was so upset and discouraged that I just threw the reminder card in the trash. I don’t mind paying for help that is actually effective and doesn’t cancel appointments for early arrivals.",
         "0x87c96ee6220bff3d:0x3ba603ed95a0b0ca",
         "Pat Walker Health Center"
        ],
        [
         "8",
         "1.1377470485869178e+20",
         "Vince Capps",
         "5.0",
         "Friendly and knowledge staff, and easy and fast check-in.  Literally the most convenient doctor's appointment I've ever experienced.  Dr. Schultz and Nurse, Wendy, provided outstanding help, and the wait time for an x-ray was short.  I admit it was a rainy day and early morning, but I could still gather the clinic is sincere and diligent.",
         "0x87c96ee6220bff3d:0x3ba603ed95a0b0ca",
         "Pat Walker Health Center"
        ],
        [
         "9",
         "1.0217995722664075e+20",
         "Cheryl Engelkes",
         "1.0",
         "Please do not let your U of A student go to this clinic!!!  My daughter went there her Freshman year 2 days in a row. The first day they told her she had a cold.  She went back the next day with a high fever, and was told that her white blood cells were elevated,  but they didn’t know where the infection was so they gave her a general antibiotic and told her to rest. Luckily her sister was in town that night and stopped in to see her.  She took her to the emergency room because she was concerned.  Long story short, we spent the next 29 days in the hospital fighting bacterial meningitis!  And after all that, they sent us a bill for their service!  Had to pay because they will hold your grades, and you have to turn in your grades by a certain date to keep your scholarship!  1 Star is too high for this place, but you can’t leave a review without giving them that!",
         "0x87c96ee6220bff3d:0x3ba603ed95a0b0ca",
         "Pat Walker Health Center"
        ],
        [
         "10",
         "1.0404837927854336e+20",
         "Morgan Bailey",
         "1.0",
         "This place is a complete JOKE!!!! I have been there 3 times. The first time I went there they would not give me medicine and when they did blood work they didn't know how to draw blood and stuck me 4 or 5 times. I actually wound up in the hospital a week later due to the lack of proper treatment and help for what I had. The most recent time I went was this Wednesday. I went up there because I woke up with my voice completely gone, dry coughing, very sore throat, upset stomach, temperature of 99.6, body aches, head ache, and felt very weak. The \"Doctor\" I saw refused to do test on me to make sure it wasn't something else saying it was the common cold. I fought with her telling her I know my body very well and I know this is not the common cold. Long story short I left with no help. You would think that they would do everything they could to ensure a student isn't contagious so it is not spread to the whole college. I left a message with the supervisor and have yet to receive a call. My mom will be calling the university to complain. This is unacceptable of a doctors office and I along with many other people I have talked to said they will not be back unless something is fixed.\nI ended up getting an appointment at another doctors office and when I went in the doctor immediately knew it was strep by looking at the back of my throat and were in shock that a doctor didn't see that. He did a test to ensure it was and they came back positive. He also said I am having flu like symptoms and to be resting, drinking a lot of fluid and take my antibiotic for 10 days so my strep does not get worse as well as taking medicine to keep my fever down.",
         "0x87c96ee6220bff3d:0x3ba603ed95a0b0ca",
         "Pat Walker Health Center"
        ],
        [
         "11",
         "1.0239889525053235e+20",
         "Stephanie Garza",
         "3.0",
         "well i could’ve died (it really felt like i was) bc of how one of the doctors didn’t prescribe me the medicine i asked for back in October. Dr. Susan Raben-Taylor seemed to listen to me until i asked for prednisone, which treats bronchitis. i always get prednisone when i get really bad bronchitis and need it for bronchitis especially since i’m asthmatic. i’d had a really bad cold that turned into severe bronchitis and when i asked for the prescription she said “no, we’re not going to do that.” and that was the end of that. she ended up giving me a regular rescue inhaler and a corticosteroid inhaler that she said would help the inflammation in my lungs. well it didn’t bc as an asthmatic would know, corticosteroid inhalers take weeks to start working so it was pointless to begin with. i got it anyways and as expected it didn’t work, but gave me minor oral thrush on my tongue so that was a wasted $60.\nFast forward to fall break and I ended up getting pleurisy (which is basically one step away from pneumonia) and it hurt to take deep breaths, cough, laugh, sneeze, move around when trying to fall asleep, etc. When I say hurt I mean INTENESE PAIN. It felt like someone was stabbing me over and over again when i would have to cough (since the bronchitis was still there.) When I coughed, I couldn’t do it standing up, I had to sit down or kneel over because of how bad the pain was. The lining of my lungs was severely inflamed WHICH COULD HAVE BEEN AVOIDED had I been prescribed prednisone. But noooo, the doctors “know best.” Umm excuse me but have you been in another person’s body and know it like the actual person does? I know my body and knew I needed prednisone.\nAnyways, the pleurisy lasted all of fall break, and I went back to PWHC, this time to Dr. Deborah Deere, who was an angel and felt my rib cage and lungs and ordered a chest x ray to make sure i didn’t have pneumonia since i was complaining of pain so much. They didn’t see pneumonia but wrote me antibiotics just in case and Dr. Deere told me to take ibuprofen since there wasn’t anything much else they could do since I was far into having pleurisy already. I ended up having the pleurisy for about 2 weeks before the pain finally went away. Lemme tell you when i had it i was scared to even go to sleep bc i was terrified of waking up and not being able to breathe, that’s how bad it hurt. Long story short (lol apologies for how long this rant ended up being) this all could have been avoided if the first doctor had given me the medication i asked for since it is after all my body and i know how it works and its limits and breaking points. People know their own dang bodies, don’t try and act like you know better bc you have the title of doctor on your name.\n\nNeedless to say, be careful choosing your doctors at PWHC. I recommend Dr. Deere or Dr. Howerton. Both are angels and seem to genuinely care about their patients.",
         "0x87c96ee6220bff3d:0x3ba603ed95a0b0ca",
         "Pat Walker Health Center"
        ],
        [
         "12",
         "1.1329921874106794e+20",
         "David Martin",
         "5.0",
         "I'm guessing that all of the reviews are from bratty \"special snowflakes\" - but this place is great. Shultz and Sharaf have LITERALLY saved my life! I've never had a problem getting an appointment, and rarely have to wait once I sign in.",
         "0x87c96ee6220bff3d:0x3ba603ed95a0b0ca",
         "Pat Walker Health Center"
        ],
        [
         "13",
         "1.1144360947710493e+20",
         "Paul Knightly",
         "1.0",
         "Set an appointment and was told to be there 30 minutes early to fill out paperwork. I showed up 25 minutes early because I had to jump start my car to find out that my appointment had been canceled because I was not there 30 minutes prior to the appointment. I asked the receptionist if I really needed the full 30 minutes to fill out paperwork to which her response was \"I don't know if you're capable of that or not.\" She offered to reschedule for the next available appointment, even though there was not another soul in the waiting room. I declined as I had already waited 3 weeks to get in for this appointment. In 27 years of going to different doctors offices, I've never had an office cancel an appointment for showing up 25 minutes early. I will not be using the Pat Walker Health Center for the remainder of my time as a student and will try my luck in the Healthcare Marketplace as soon as I'm eligible for open enrollment. Not worth it.",
         "0x87c96ee6220bff3d:0x3ba603ed95a0b0ca",
         "Pat Walker Health Center"
        ],
        [
         "14",
         "1.068014914096972e+20",
         "Matthew Barnes",
         "5.0",
         "Been many times. They've always been quick and extremely kind and helpful.",
         "0x87c96ee6220bff3d:0x3ba603ed95a0b0ca",
         "Pat Walker Health Center"
        ],
        [
         "15",
         "1.0748873123764856e+20",
         "Kristi Orr Dagenhart",
         "4.0",
         "I went to Pat Walker after complete dissatisfaction at Med Express, so clearly Pat Walker was better in comparision. I'm giving 4 stars because the MD had good bedside manner, was thorough (still waiting on a referral however), and checked up on me through the patient portal website. The phlebotomist did a good job- he drew 5+ vials of blood and I barely felt it since he did a pretty good job making chit chat to distract me. My service at Pat Walker included more tests- EKG, eye exam, lab work, etc- and was CHEAPER than my med express bill. Granted, I had to make an appointment and I waited a loonggggg time to be seen, but I was much more comfortable with the competency of those around me.",
         "0x87c96ee6220bff3d:0x3ba603ed95a0b0ca",
         "Pat Walker Health Center"
        ],
        [
         "16",
         "1.0382474213804042e+20",
         "Claire De Léon",
         "2.0",
         "The normal medical staff is fine, and they deal well with normal and conventional medical problems. But I had bad experiences with CAPS, particularly their greediness and lack of really understanding. Not to mention their use of grad students as counselors. Find good mental health counselors can be hard, and CAPS is not the place for it.\n\nEdited a year and half later:\nI discovered I'm trans and there were plenty of chances for the 3 different counselors I met with to help me figure this out. Instead I went through a hell of suicidal thoughts and depression before finally figuring it out for myself. Shout out to Ryan Burchfield and Meghan Werner. These two community counselors (in Rogers and Fayetteville, respectively) helped me a ton. See one of them if you think you may be non-binary or trans or in the lgbtq+ community and need counseling.",
         "0x87c96ee6220bff3d:0x3ba603ed95a0b0ca",
         "Pat Walker Health Center"
        ],
        [
         "17",
         "1.0747699276381484e+20",
         "Naomi Larsen",
         "1.0",
         "Went in for a CAPS meeting, my Dr. Told me all the things I already knew on what to do. She didn't seem understanding and there was nothing gained from the apt. at all.",
         "0x87c96ee6220bff3d:0x3ba603ed95a0b0ca",
         "Pat Walker Health Center"
        ],
        [
         "18",
         "1.083719089113796e+20",
         "Sarah Brady",
         "1.0",
         "Had multiple bad experiences with phone-calls and psychological services are not great.",
         "0x87c96ee6220bff3d:0x3ba603ed95a0b0ca",
         "Pat Walker Health Center"
        ],
        [
         "19",
         "1.1791930282525535e+20",
         "Bonnie Jackson",
         "5.0",
         "Cornerstone has exceeded my expectations in every way.\nMy husband had a stroke. We are older so when he was discharged from North Hills rehab, I really needed help.\nCornerstone is a very well run business\n,organization.\nThey communicate exceptionally well and have excellent customer service and advocacy, are flexible, and patient.\nThe people who have come to our home have been friendly, professional, knowledgeable, positive attitudes, experienced, flexible, and sensitive to my husband’s needs as well as mine.\nI’m using them for every aspect of his care, sitting with him so I can get out, and general light housekeeping.\nI highly recommend Cornerstone Caregiving.",
         "0x87c96b3ea3efa7ed:0x4bf95c05c2931de7",
         "Cornerstone Caregiving"
        ],
        [
         "20",
         "1.0342439943888634e+20",
         "Gene Randall",
         "5.0",
         "OMGoodness I can't describe how helpful Cornerstone staff has been in providing johnny-on-the-spot services to my uncle in Rogers, Arkansas! He came home unexpectedly early from a medical rehab facility and needed immediate support. Other agencies were unable to respond at short notice but Cornerstone had resources immediately available! What a life-saver! My uncle can be challenging to care for and requires a variety of skill sets. Susan at Cornerstone has been consistently successful in meeting his needs, and mine too, as she facilitates and supports my 'care from a distance'--we live in Alaska! We are SO grateful as we couldn't do it without Cornerstone Caregiving professional services.",
         "0x87c96b3ea3efa7ed:0x4bf95c05c2931de7",
         "Cornerstone Caregiving"
        ],
        [
         "21",
         "1.1335459115956268e+20",
         "Tatum Thrasher",
         "5.0",
         "Cornerstone Caregiving goes well beyond expectations to treat your loved ones like their own! Great company to work for and with!",
         "0x87c96b3ea3efa7ed:0x4bf95c05c2931de7",
         "Cornerstone Caregiving"
        ],
        [
         "22",
         "1.159842465223036e+20",
         "Crystal Stevens",
         "5.0",
         "Cornerstone Caregiving goes above and beyond to provide top quality care for families!",
         "0x87c96b3ea3efa7ed:0x4bf95c05c2931de7",
         "Cornerstone Caregiving"
        ],
        [
         "23",
         "1.0894614556213015e+20",
         "Tonya Tabor",
         "5.0",
         "Truly compassionate care for their clients and staff",
         "0x87c96b3ea3efa7ed:0x4bf95c05c2931de7",
         "Cornerstone Caregiving"
        ],
        [
         "24",
         "1.1715985835730847e+20",
         "Jane Doe",
         "5.0",
         "I had my left knee replaced last year and it’s time to have my right knee done. The doc and his staff are kind and efficient. Makes me not worry about the surgery.",
         "0x87d2be8f6ff74a71:0xd0893f742a753053",
         "Marty L. Siems, M.D."
        ],
        [
         "25",
         "1.104101251620096e+20",
         "Erica Cooper",
         "5.0",
         "I took my dad and the whole process was wonderful!! From the scheduling to the rescheduling, checking in, wait time, and friendliness of the nurses/workers/doctors. It was great. Dr. Siems took his time to explain everything and answer our questions. I definitely recommend him.",
         "0x87d2be8f6ff74a71:0xd0893f742a753053",
         "Marty L. Siems, M.D."
        ],
        [
         "26",
         "1.0777761499809872e+20",
         "Tracey Hodges",
         "5.0",
         "I've had several surgeries in my lifetime. But i must tell you Dr Sims is the best surgeon around. After my knee surgery i was up and walking same day. The next day i hardly had little to no pain. I recommend for knee surgery that everyone uses Dr Martin Sims.",
         "0x87d2be8f6ff74a71:0xd0893f742a753053",
         "Marty L. Siems, M.D."
        ],
        [
         "27",
         "1.060690040217738e+20",
         "Candius Montgomery",
         "5.0",
         "It was my first time to Ortho Arkansas and I had a great Experience I was very very scared to get the shot in my hip for Tendinitis in my hip I must say the shot is helping me him and another Doctor calmed me down and I was able to get the shot. I'm greatful hope to see them soon for another shot it has really helped.",
         "0x87d2be8f6ff74a71:0xd0893f742a753053",
         "Marty L. Siems, M.D."
        ],
        [
         "28",
         "1.1205298279462828e+20",
         "Wanda Wade",
         "5.0",
         "I had a knee replacement 3 years ago and have been very happy with the results.  Dr Siems is a very wonderful and good doctor.  The staff at Arkansas Ortho is great.",
         "0x87d2be8f6ff74a71:0xd0893f742a753053",
         "Marty L. Siems, M.D."
        ],
        [
         "29",
         "1.1808941669326664e+20",
         "bernestine rhodes",
         "5.0",
         "I am very grateful to have Dr. Martin Siems at Ortho Arkansas in North Little Rock to help me with my bone on bone knees.  I go to Ortho once ever three months to get injections. Dr. Siems and the staff at Ortho are very kind, thoughtful, and friendly. I highly recommend that you see Dr. Siems to help with your pain.",
         "0x87d2be8f6ff74a71:0xd0893f742a753053",
         "Marty L. Siems, M.D."
        ],
        [
         "30",
         "1.0893172820788055e+20",
         "Lisa H",
         "3.0",
         "Dr. Siems had Little to No respect for me. He showed no concerns or interests in my issues. He was more opinionated than professional. As for a Dr I understand he's very busy, but he could have more patience & compassion for his patients. I do respect his honesty, however...he's not the Dr for me.",
         "0x87d2be8f6ff74a71:0xd0893f742a753053",
         "Marty L. Siems, M.D."
        ],
        [
         "31",
         "1.1624451870620195e+20",
         "Sharrie Stewart",
         "5.0",
         "Very nice; very detailed doctor. He explained every thing I needed to know. Waiting period wasnt too long considering how busy they were. Staff is friendly but not pushy. Service dogs welcome..",
         "0x87d2be8f6ff74a71:0xd0893f742a753053",
         "Marty L. Siems, M.D."
        ],
        [
         "32",
         "1.009940722905261e+20",
         "Sheliah Altendorf",
         "5.0",
         "Everyone was patient and kind to my husband. He was in pain during his MRI. It was very uncomfortable being still during this process. The staff made him feel so at ease. We are so grateful🙏🙌🤗👏👍😁",
         "0x87d2be8f6ff74a71:0xd0893f742a753053",
         "Marty L. Siems, M.D."
        ],
        [
         "33",
         "1.0816179004320748e+20",
         "Cyndee Moody",
         "5.0",
         "This is a great doctor. He is very straight forward and informative. He did my shoulder surgery and treated one of my knees with steroid shots. Great bedside manor, very caring. I highly recommend this doctor.",
         "0x87d2be8f6ff74a71:0xd0893f742a753053",
         "Marty L. Siems, M.D."
        ],
        [
         "34",
         "1.048586201634592e+20",
         "Warren Webb",
         "5.0",
         "Great doctor!!  Straight forward and tells you like it is!  He worked on both of my knees.",
         "0x87d2be8f6ff74a71:0xd0893f742a753053",
         "Marty L. Siems, M.D."
        ],
        [
         "35",
         "1.1395653248014755e+20",
         "olivia fahey",
         "1.0",
         "Went to get my MRI results  and he didn't give them back  he told me I have this new thing then what he told me before my MRI  but he also asked what was the problem with my leg again.",
         "0x87d2be8f6ff74a71:0xd0893f742a753053",
         "Marty L. Siems, M.D."
        ],
        [
         "36",
         "1.1585816437663516e+20",
         "Deborah Rupert",
         "5.0",
         "I am experiencing a good relationship and quality of knowledge with Dr.Siems so far. I will continue to use him.",
         "0x87d2be8f6ff74a71:0xd0893f742a753053",
         "Marty L. Siems, M.D."
        ],
        [
         "37",
         "1.02323175407635e+20",
         "Toni Bone",
         "5.0",
         "I am new to Dr. Cloud. With my appointment I was very pleased with his waiting room, his wonderful staff and more importantly with him. He was kind, very patient with me and He listened to me. He took time to go over everything with me and it was an all round great visit.",
         "0x87ccd5325416ed7b:0xbbfa4cfca7be9046",
         "Michael Cloud, MD"
        ],
        [
         "38",
         "1.1816836565330724e+20",
         "Richard Myrick",
         "5.0",
         "Cloud was great. My doctor retired and referred his patients to Cloud. I was so glad he did. Took time with me as new patient.  45 min. The next time I went to him he remember our conversation.  A+",
         "0x87ccd5325416ed7b:0xbbfa4cfca7be9046",
         "Michael Cloud, MD"
        ],
        [
         "39",
         "1.0254609574124025e+20",
         "Danielle Stephens",
         "5.0",
         "Dr. Cloud is a Very thorough, intuitive, friendly, professional as well as extremely kind Doctor and human being, which is a very rare combination to find these days! All the nurses and ladies and gentlemen in the office have always been super helpful and very kind. Wonderful doctors office! Very satisfied!",
         "0x87ccd5325416ed7b:0xbbfa4cfca7be9046",
         "Michael Cloud, MD"
        ],
        [
         "40",
         "1.1096030081144069e+20",
         "Natalie Bryant",
         "1.0",
         "I wouldn't take my DOG to Dr. Cloud. Please save yourself the trouble and see a real MD that will listen to your and your problems appropriately.",
         "0x87ccd5325416ed7b:0xbbfa4cfca7be9046",
         "Michael Cloud, MD"
        ],
        [
         "41",
         "1.004128408997116e+20",
         "Jennifer Pompeo",
         "5.0",
         "Very thorough doctor who actually listens to you! Highly recommend.",
         "0x87ccd5325416ed7b:0xbbfa4cfca7be9046",
         "Michael Cloud, MD"
        ],
        [
         "42",
         "1.0893011003033824e+20",
         "Debra Horn",
         "5.0",
         "He is so personable and shows concerefor you. I think he's great. I will be back!!",
         "0x87ccd5325416ed7b:0xbbfa4cfca7be9046",
         "Michael Cloud, MD"
        ],
        [
         "43",
         "1.1012521376345906e+20",
         "Maegan Hendricks",
         "5.0",
         "I've been using Argenta Counseling for a couple of months now, and it's been a pleasant experience. They paired me with someone I work well with and always leave a session feeling calmer.\nThe waiting room is a little weird, with no one at the window to check you in, and I understand how this may be off-putting to some.\nHowever, since the pandemic began, I've been to several doctor's offices utilizing a similar system and plan to keep that system going forward.\nI recommend giving Argenta Counseling a chance and have recommended their services to several family members and close friends.",
         "0x87d2bc8334b48b79:0x6e11fadac7a87cca",
         "Argenta Counseling"
        ],
        [
         "44",
         "1.1484886583380623e+20",
         "Reed Balentine",
         "5.0",
         "Most beautiful aesthetics I have seen in a Counseling Office! Staff are incredibly friendly and accomodating.",
         "0x87d2bc8334b48b79:0x6e11fadac7a87cca",
         "Argenta Counseling"
        ],
        [
         "45",
         "1.0237492774906184e+20",
         "J Voss",
         "1.0",
         "I recently got custody of my 15 year old son. He had been seeing a counselor through Argenta. I found the counselor to be unprofessional wanting to discuss reasons why I would move him to another therapy option in front of my child and telling me that \"all therapy isn't created equally and he opens up to me\" rather than discussing the matter privately or recommending other options more feasible for our changing family dynamic.",
         "0x87d2bc8334b48b79:0x6e11fadac7a87cca",
         "Argenta Counseling"
        ],
        [
         "46",
         "1.0479684427178092e+20",
         "Misty Shepherd",
         "5.0",
         "When going through the scheduling process they responded in a very timely manner and they make you feel very comfortable. The therapist are also top notch. I highly recommend Argenta for your counseling needs.",
         "0x87d2bc8334b48b79:0x6e11fadac7a87cca",
         "Argenta Counseling"
        ],
        [
         "47",
         "1.135933902408757e+20",
         "Jared Santiago (SaveTheRhinos)",
         "1.0",
         "Scheduled an appointment and arrived at the appropriate office. There was a door bell when I walked in to notify the occupants of my arrival. The office is awkwardly setup and I looked around, there was no one in the office. I took a seat in the office, noticed there was an Arlo camera in the corner, I felt better about not seeing anyone because Arlo sends notifications to your phone to let you know when motion was detected.  Sat there for probably 45 mins or so with no movement in the office, I finally called 20 mins or so after my appointment was supposed to start. After two awkward holds I was asked to reschedule. Didn’t reschedule. They had three clocks in the office, two set to different times and the one in the waiting room was stopped, ironic?",
         "0x87d2bc8334b48b79:0x6e11fadac7a87cca",
         "Argenta Counseling"
        ],
        [
         "48",
         "1.0252724827555486e+20",
         "Jai Lewis",
         "5.0",
         "i love them. they’re all so friendly and sweet. i got the beat therapist i could ask for.",
         "0x87d2bc8334b48b79:0x6e11fadac7a87cca",
         "Argenta Counseling"
        ],
        [
         "49",
         "1.0050591621730365e+20",
         "Jesyca Pittman",
         "1.0",
         "Will never go again!\nWent a few times and I felt like I couldn't say anything because the lady would get offended about how I felt.\nTried to explain my situation and she broke confidentiality! Stuff that didn't put anyone e in harm or myself but she sure told everyone!!!",
         "0x87d2bc8334b48b79:0x6e11fadac7a87cca",
         "Argenta Counseling"
        ]
       ],
       "shape": {
        "columns": 6,
        "rows": 296287
       }
      },
      "text/html": [
       "<div>\n",
       "<style scoped>\n",
       "    .dataframe tbody tr th:only-of-type {\n",
       "        vertical-align: middle;\n",
       "    }\n",
       "\n",
       "    .dataframe tbody tr th {\n",
       "        vertical-align: top;\n",
       "    }\n",
       "\n",
       "    .dataframe thead th {\n",
       "        text-align: right;\n",
       "    }\n",
       "</style>\n",
       "<table border=\"1\" class=\"dataframe\">\n",
       "  <thead>\n",
       "    <tr style=\"text-align: right;\">\n",
       "      <th></th>\n",
       "      <th>user_id</th>\n",
       "      <th>name_x</th>\n",
       "      <th>rating</th>\n",
       "      <th>text</th>\n",
       "      <th>gmap_id</th>\n",
       "      <th>name_y</th>\n",
       "    </tr>\n",
       "  </thead>\n",
       "  <tbody>\n",
       "    <tr>\n",
       "      <th>0</th>\n",
       "      <td>1.168913e+20</td>\n",
       "      <td>Andrew</td>\n",
       "      <td>5.0</td>\n",
       "      <td>I was shocked when I saw PW had a 2.7 star ave...</td>\n",
       "      <td>0x87c96ee6220bff3d:0x3ba603ed95a0b0ca</td>\n",
       "      <td>Pat Walker Health Center</td>\n",
       "    </tr>\n",
       "    <tr>\n",
       "      <th>1</th>\n",
       "      <td>1.065142e+20</td>\n",
       "      <td>Oakley Davis</td>\n",
       "      <td>5.0</td>\n",
       "      <td>My experience at Pat Walker was a very good on...</td>\n",
       "      <td>0x87c96ee6220bff3d:0x3ba603ed95a0b0ca</td>\n",
       "      <td>Pat Walker Health Center</td>\n",
       "    </tr>\n",
       "    <tr>\n",
       "      <th>2</th>\n",
       "      <td>1.089844e+20</td>\n",
       "      <td>sam Rami</td>\n",
       "      <td>1.0</td>\n",
       "      <td>Here is what they do, you schedule an appointm...</td>\n",
       "      <td>0x87c96ee6220bff3d:0x3ba603ed95a0b0ca</td>\n",
       "      <td>Pat Walker Health Center</td>\n",
       "    </tr>\n",
       "    <tr>\n",
       "      <th>3</th>\n",
       "      <td>1.000681e+20</td>\n",
       "      <td>Katie McGuffin</td>\n",
       "      <td>5.0</td>\n",
       "      <td>I’ve been here twice, once for STD testing, an...</td>\n",
       "      <td>0x87c96ee6220bff3d:0x3ba603ed95a0b0ca</td>\n",
       "      <td>Pat Walker Health Center</td>\n",
       "    </tr>\n",
       "    <tr>\n",
       "      <th>4</th>\n",
       "      <td>1.011815e+20</td>\n",
       "      <td>Dene Wamsley</td>\n",
       "      <td>2.0</td>\n",
       "      <td>I've had very mixed experiences with Pat Walke...</td>\n",
       "      <td>0x87c96ee6220bff3d:0x3ba603ed95a0b0ca</td>\n",
       "      <td>Pat Walker Health Center</td>\n",
       "    </tr>\n",
       "    <tr>\n",
       "      <th>...</th>\n",
       "      <td>...</td>\n",
       "      <td>...</td>\n",
       "      <td>...</td>\n",
       "      <td>...</td>\n",
       "      <td>...</td>\n",
       "      <td>...</td>\n",
       "    </tr>\n",
       "    <tr>\n",
       "      <th>296282</th>\n",
       "      <td>1.009026e+20</td>\n",
       "      <td>Mark S</td>\n",
       "      <td>1.0</td>\n",
       "      <td>Brought my dog in on a Friday because he was v...</td>\n",
       "      <td>0x8626ba564f365f59:0x7e6e5bdbec491a49</td>\n",
       "      <td>Azalea Lakes Veterinary Clinic</td>\n",
       "    </tr>\n",
       "    <tr>\n",
       "      <th>296283</th>\n",
       "      <td>1.037343e+20</td>\n",
       "      <td>Kaycie LaGrone</td>\n",
       "      <td>1.0</td>\n",
       "      <td>I boarded my dog there while I was on a trip a...</td>\n",
       "      <td>0x8626ba564f365f59:0x7e6e5bdbec491a49</td>\n",
       "      <td>Azalea Lakes Veterinary Clinic</td>\n",
       "    </tr>\n",
       "    <tr>\n",
       "      <th>296284</th>\n",
       "      <td>1.016109e+20</td>\n",
       "      <td>Edie Chaffin</td>\n",
       "      <td>1.0</td>\n",
       "      <td>I brought my lab there for years. The past yea...</td>\n",
       "      <td>0x8626ba564f365f59:0x7e6e5bdbec491a49</td>\n",
       "      <td>Azalea Lakes Veterinary Clinic</td>\n",
       "    </tr>\n",
       "    <tr>\n",
       "      <th>296285</th>\n",
       "      <td>1.174574e+20</td>\n",
       "      <td>Jon Goodart</td>\n",
       "      <td>1.0</td>\n",
       "      <td>I would say the coaches and workouts are great...</td>\n",
       "      <td>0x8626a38aeb6e628f:0xce96adca225b4502</td>\n",
       "      <td>Orangetheory Fitness</td>\n",
       "    </tr>\n",
       "    <tr>\n",
       "      <th>296286</th>\n",
       "      <td>1.062912e+20</td>\n",
       "      <td>Kourtney Outlaw</td>\n",
       "      <td>1.0</td>\n",
       "      <td>Honestly, I’m not one to make reviews BUT this...</td>\n",
       "      <td>0x8626a38aeb6e628f:0xce96adca225b4502</td>\n",
       "      <td>Orangetheory Fitness</td>\n",
       "    </tr>\n",
       "  </tbody>\n",
       "</table>\n",
       "<p>296287 rows × 6 columns</p>\n",
       "</div>"
      ],
      "text/plain": [
       "             user_id           name_x  rating  \\\n",
       "0       1.168913e+20           Andrew     5.0   \n",
       "1       1.065142e+20     Oakley Davis     5.0   \n",
       "2       1.089844e+20         sam Rami     1.0   \n",
       "3       1.000681e+20   Katie McGuffin     5.0   \n",
       "4       1.011815e+20     Dene Wamsley     2.0   \n",
       "...              ...              ...     ...   \n",
       "296282  1.009026e+20           Mark S     1.0   \n",
       "296283  1.037343e+20   Kaycie LaGrone     1.0   \n",
       "296284  1.016109e+20     Edie Chaffin     1.0   \n",
       "296285  1.174574e+20      Jon Goodart     1.0   \n",
       "296286  1.062912e+20  Kourtney Outlaw     1.0   \n",
       "\n",
       "                                                     text  \\\n",
       "0       I was shocked when I saw PW had a 2.7 star ave...   \n",
       "1       My experience at Pat Walker was a very good on...   \n",
       "2       Here is what they do, you schedule an appointm...   \n",
       "3       I’ve been here twice, once for STD testing, an...   \n",
       "4       I've had very mixed experiences with Pat Walke...   \n",
       "...                                                   ...   \n",
       "296282  Brought my dog in on a Friday because he was v...   \n",
       "296283  I boarded my dog there while I was on a trip a...   \n",
       "296284  I brought my lab there for years. The past yea...   \n",
       "296285  I would say the coaches and workouts are great...   \n",
       "296286  Honestly, I’m not one to make reviews BUT this...   \n",
       "\n",
       "                                      gmap_id                          name_y  \n",
       "0       0x87c96ee6220bff3d:0x3ba603ed95a0b0ca        Pat Walker Health Center  \n",
       "1       0x87c96ee6220bff3d:0x3ba603ed95a0b0ca        Pat Walker Health Center  \n",
       "2       0x87c96ee6220bff3d:0x3ba603ed95a0b0ca        Pat Walker Health Center  \n",
       "3       0x87c96ee6220bff3d:0x3ba603ed95a0b0ca        Pat Walker Health Center  \n",
       "4       0x87c96ee6220bff3d:0x3ba603ed95a0b0ca        Pat Walker Health Center  \n",
       "...                                       ...                             ...  \n",
       "296282  0x8626ba564f365f59:0x7e6e5bdbec491a49  Azalea Lakes Veterinary Clinic  \n",
       "296283  0x8626ba564f365f59:0x7e6e5bdbec491a49  Azalea Lakes Veterinary Clinic  \n",
       "296284  0x8626ba564f365f59:0x7e6e5bdbec491a49  Azalea Lakes Veterinary Clinic  \n",
       "296285  0x8626a38aeb6e628f:0xce96adca225b4502            Orangetheory Fitness  \n",
       "296286  0x8626a38aeb6e628f:0xce96adca225b4502            Orangetheory Fitness  \n",
       "\n",
       "[296287 rows x 6 columns]"
      ]
     },
     "execution_count": 45,
     "metadata": {},
     "output_type": "execute_result"
    }
   ],
   "source": [
    "text_df"
   ]
  },
  {
   "cell_type": "markdown",
   "metadata": {},
   "source": [
    "User id = float  \n",
    "Name = string, float (needs to check)  \n",
    "Rating = float  \n",
    "Text = string, float (needs to check)  \n",
    "Gmapsid = string  \n",
    "Name business = string  "
   ]
  },
  {
   "cell_type": "code",
   "execution_count": 48,
   "metadata": {},
   "outputs": [],
   "source": [
    "# Convert 'user_id' to string if it represents IDs\n",
    "text_df['user_id'] = text_df['user_id'].astype(str)\n",
    "\n",
    "# Convert 'name_x' and 'name_y' to string, replacing NaN with empty string\n",
    "text_df['name_x'] = text_df['name_x'].fillna('').astype(str)\n",
    "text_df['name_y'] = text_df['name_y'].fillna('').astype(str)\n",
    "\n",
    "# Ensure 'text' column is string\n",
    "text_df['text'] = text_df['text'].astype(str)\n",
    "\n"
   ]
  },
  {
   "cell_type": "markdown",
   "metadata": {},
   "source": [
    "**CHECK FOR UNIQUE VALUES**"
   ]
  },
  {
   "cell_type": "code",
   "execution_count": 49,
   "metadata": {},
   "outputs": [
    {
     "name": "stdout",
     "output_type": "stream",
     "text": [
      "user_id    268933\n",
      "name_x     243801\n",
      "rating          5\n",
      "text       290838\n",
      "gmap_id     12582\n",
      "name_y      10938\n",
      "dtype: int64\n"
     ]
    }
   ],
   "source": [
    "print(text_df.nunique())"
   ]
  },
  {
   "cell_type": "markdown",
   "metadata": {},
   "source": [
    "visualize distribution of ratings"
   ]
  },
  {
   "cell_type": "code",
   "execution_count": 50,
   "metadata": {},
   "outputs": [
    {
     "data": {
      "image/png": "[encoded data removed]",
      "text/plain": [
       "<Figure size 640x480 with 1 Axes>"
      ]
     },
     "metadata": {},
     "output_type": "display_data"
    }
   ],
   "source": [
    "import seaborn as sns\n",
    "import matplotlib.pyplot as plt\n",
    "\n",
    "sns.countplot(x='rating', data=text_df)\n",
    "plt.title('Distribution of Ratings')\n",
    "plt.xlabel('Rating')\n",
    "plt.ylabel('Count')\n",
    "plt.show()"
   ]
  },
  {
   "cell_type": "markdown",
   "metadata": {},
   "source": [
    "check text length distribution  \n",
    "new text_length column will be created"
   ]
  },
  {
   "cell_type": "code",
   "execution_count": 51,
   "metadata": {},
   "outputs": [
    {
     "data": {
      "image/png": "[encoded data removed]",
      "text/plain": [
       "<Figure size 640x480 with 1 Axes>"
      ]
     },
     "metadata": {},
     "output_type": "display_data"
    }
   ],
   "source": [
    "text_df['text_length'] = text_df['text'].apply(lambda x: len(x.split()))\n",
    "text_df['text_length'].hist(bins=50)\n",
    "plt.title('Distribution of Text Length (Word Count)')\n",
    "plt.xlabel('Word Count')\n",
    "plt.ylabel('Frequency')\n",
    "plt.show()"
   ]
  },
  {
   "cell_type": "markdown",
   "metadata": {},
   "source": [
    "change \n",
    "name_x = user_name  \n",
    "name_y = business_name"
   ]
  },
  {
   "cell_type": "code",
   "execution_count": 52,
   "metadata": {},
   "outputs": [],
   "source": [
    "# Rename columns 'name_x' to 'user_name' and 'name_y' to 'business_name'\n",
    "text_df = text_df.rename(columns={'name_x': 'user_name', 'name_y': 'business_name'})"
   ]
  },
  {
   "cell_type": "code",
   "execution_count": 53,
   "metadata": {},
   "outputs": [
    {
     "data": {
      "text/plain": [
       "Index(['user_id', 'user_name', 'rating', 'text', 'gmap_id', 'business_name',\n",
       "       'text_length'],\n",
       "      dtype='object')"
      ]
     },
     "execution_count": 53,
     "metadata": {},
     "output_type": "execute_result"
    }
   ],
   "source": [
    "text_df.columns"
   ]
  },
  {
   "cell_type": "code",
   "execution_count": null,
   "metadata": {},
   "outputs": [],
   "source": [
    "text_df"
   ]
  },
  {
   "cell_type": "markdown",
   "metadata": {},
   "source": [
    "**detect short reviews or low-information reviews**"
   ]
  },
  {
   "cell_type": "code",
   "execution_count": 56,
   "metadata": {},
   "outputs": [
    {
     "name": "stdout",
     "output_type": "stream",
     "text": [
      "                       user_id         user_name  rating               text  \\\n",
      "259     1.1202676015726368e+20       Julie Hobbs     5.0         Love them!   \n",
      "272      1.136977885874749e+20     Anthony Hunte     5.0      Great service   \n",
      "277     1.0564665754986724e+20       Tom Rudolph     5.0   Fantastic staff!   \n",
      "412     1.0984374714728129e+20    Dexter the Cat     5.0  Fantastic staff!!   \n",
      "420     1.1456840379011105e+20       Mary Arthur     5.0       Thank y’all!   \n",
      "...                        ...               ...     ...                ...   \n",
      "295919  1.0944652243267265e+20    Albaron Jmoney     1.0            To much   \n",
      "296001  1.0369253517688632e+20  Joseph Barksdale     1.0           Terrible   \n",
      "296239  1.1061529327686964e+20    Kelsey Hickman     1.0           Horrible   \n",
      "296243  1.1564896847484436e+20        Sara Brice     1.0         Poor care.   \n",
      "296244   1.118533938982355e+20      James Reeser     1.0               Slow   \n",
      "\n",
      "                                      gmap_id  \\\n",
      "259     0x87d2a0b03680c28b:0x219cb20703b6838f   \n",
      "272     0x87d2a0b03680c28b:0x219cb20703b6838f   \n",
      "277     0x87d2a0b03680c28b:0x219cb20703b6838f   \n",
      "412     0x87d2a1da750eb109:0x62ed807b79bb1c5f   \n",
      "420     0x87d2a1da750eb109:0x62ed807b79bb1c5f   \n",
      "...                                       ...   \n",
      "295919  0x8620a3f0827f649f:0x6240ad7728eab331   \n",
      "296001  0x8620a5766883dd15:0x730aeb015f8b96bb   \n",
      "296239  0x863132a0ab974991:0x3f3f8aa4ca8e5741   \n",
      "296243  0x86312cfc75fe567d:0x7b814e3b3a406cde   \n",
      "296244  0x86312cfc75fe567d:0x7b814e3b3a406cde   \n",
      "\n",
      "                                        business_name  text_length  \n",
      "259                   Dental Solutions of Little Rock            2  \n",
      "272                   Dental Solutions of Little Rock            2  \n",
      "277                   Dental Solutions of Little Rock            2  \n",
      "412     Baptist Health Urgent Care - West Little Rock            2  \n",
      "420     Baptist Health Urgent Care - West Little Rock            2  \n",
      "...                                               ...          ...  \n",
      "295919                            Snap Fitness Harvey            2  \n",
      "296001                         Ochsner Medical Center            1  \n",
      "296239                Dog & Cat Clinic & Laser Center            1  \n",
      "296243     Willis-Knighton Pierremont Wellness Center            2  \n",
      "296244     Willis-Knighton Pierremont Wellness Center            1  \n",
      "\n",
      "[6197 rows x 7 columns]\n"
     ]
    }
   ],
   "source": [
    "# Check for reviews with very few words\n",
    "print(text_df[text_df['text_length'] < 3])"
   ]
  },
  {
   "cell_type": "markdown",
   "metadata": {},
   "source": [
    "**save cleaned data**"
   ]
  },
  {
   "cell_type": "code",
   "execution_count": 57,
   "metadata": {},
   "outputs": [],
   "source": [
    "text_df.to_csv('cleaned_healthcare_data.csv', index = False)"
   ]
  }
 ],
 "metadata": {
  "kernelspec": {
   "display_name": "TXSA",
   "language": "python",
   "name": "python3"
  },
  "language_info": {
   "codemirror_mode": {
    "name": "ipython",
    "version": 3
   },
   "file_extension": ".py",
   "mimetype": "text/x-python",
   "name": "python",
   "nbconvert_exporter": "python",
   "pygments_lexer": "ipython3",
   "version": "3.13.1"
  }
 },
 "nbformat": 4,
 "nbformat_minor": 2
}
